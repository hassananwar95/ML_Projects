{
 "cells": [
  {
   "cell_type": "markdown",
   "metadata": {},
   "source": [
    "# Sentiment Analysis of Restaurant Reviews Through Machine Learning and NLP"
   ]
  },
  {
   "cell_type": "markdown",
   "metadata": {},
   "source": [
    "**Problem Statement**\n",
    "\n",
    "There are a total of 3,000 restaurant reviews that have been classified as either positive reviews or negative reviews; 2,400 of these reviews form the training dataset and the remaining 600 reviews form the test dataset.\n",
    "\n",
    "Based on the data provided, a model is built that can classify these reviews as positive or negative (0 or 1) using NLP and ML algorithms."
   ]
  },
  {
   "cell_type": "code",
   "execution_count": 1,
   "metadata": {},
   "outputs": [],
   "source": [
    "import pandas as pd\n",
    "import numpy as np\n",
    "import nltk\n",
    "import sklearn\n",
    "import optuna\n",
    "from sklearn.model_selection import cross_val_score\n",
    "\n",
    "from IPython.core.interactiveshell import InteractiveShell\n",
    "InteractiveShell.ast_node_interactivity = \"all\""
   ]
  },
  {
   "cell_type": "code",
   "execution_count": 2,
   "metadata": {
    "collapsed": true
   },
   "outputs": [
    {
     "name": "stderr",
     "output_type": "stream",
     "text": [
      "[nltk_data] Downloading collection 'all'\n",
      "[nltk_data]    | \n",
      "[nltk_data]    | Downloading package abc to\n",
      "[nltk_data]    |     C:\\Users\\Hassan\\AppData\\Roaming\\nltk_data...\n",
      "[nltk_data]    |   Package abc is already up-to-date!\n",
      "[nltk_data]    | Downloading package alpino to\n",
      "[nltk_data]    |     C:\\Users\\Hassan\\AppData\\Roaming\\nltk_data...\n",
      "[nltk_data]    |   Package alpino is already up-to-date!\n",
      "[nltk_data]    | Downloading package averaged_perceptron_tagger to\n",
      "[nltk_data]    |     C:\\Users\\Hassan\\AppData\\Roaming\\nltk_data...\n",
      "[nltk_data]    |   Package averaged_perceptron_tagger is already up-\n",
      "[nltk_data]    |       to-date!\n",
      "[nltk_data]    | Downloading package averaged_perceptron_tagger_ru to\n",
      "[nltk_data]    |     C:\\Users\\Hassan\\AppData\\Roaming\\nltk_data...\n",
      "[nltk_data]    |   Package averaged_perceptron_tagger_ru is already\n",
      "[nltk_data]    |       up-to-date!\n",
      "[nltk_data]    | Downloading package basque_grammars to\n",
      "[nltk_data]    |     C:\\Users\\Hassan\\AppData\\Roaming\\nltk_data...\n",
      "[nltk_data]    |   Package basque_grammars is already up-to-date!\n",
      "[nltk_data]    | Downloading package bcp47 to\n",
      "[nltk_data]    |     C:\\Users\\Hassan\\AppData\\Roaming\\nltk_data...\n",
      "[nltk_data]    |   Package bcp47 is already up-to-date!\n",
      "[nltk_data]    | Downloading package biocreative_ppi to\n",
      "[nltk_data]    |     C:\\Users\\Hassan\\AppData\\Roaming\\nltk_data...\n",
      "[nltk_data]    |   Package biocreative_ppi is already up-to-date!\n",
      "[nltk_data]    | Downloading package bllip_wsj_no_aux to\n",
      "[nltk_data]    |     C:\\Users\\Hassan\\AppData\\Roaming\\nltk_data...\n",
      "[nltk_data]    |   Package bllip_wsj_no_aux is already up-to-date!\n",
      "[nltk_data]    | Downloading package book_grammars to\n",
      "[nltk_data]    |     C:\\Users\\Hassan\\AppData\\Roaming\\nltk_data...\n",
      "[nltk_data]    |   Package book_grammars is already up-to-date!\n",
      "[nltk_data]    | Downloading package brown to\n",
      "[nltk_data]    |     C:\\Users\\Hassan\\AppData\\Roaming\\nltk_data...\n",
      "[nltk_data]    |   Package brown is already up-to-date!\n",
      "[nltk_data]    | Downloading package brown_tei to\n",
      "[nltk_data]    |     C:\\Users\\Hassan\\AppData\\Roaming\\nltk_data...\n",
      "[nltk_data]    |   Package brown_tei is already up-to-date!\n",
      "[nltk_data]    | Downloading package cess_cat to\n",
      "[nltk_data]    |     C:\\Users\\Hassan\\AppData\\Roaming\\nltk_data...\n",
      "[nltk_data]    |   Package cess_cat is already up-to-date!\n",
      "[nltk_data]    | Downloading package cess_esp to\n",
      "[nltk_data]    |     C:\\Users\\Hassan\\AppData\\Roaming\\nltk_data...\n",
      "[nltk_data]    |   Package cess_esp is already up-to-date!\n",
      "[nltk_data]    | Downloading package chat80 to\n",
      "[nltk_data]    |     C:\\Users\\Hassan\\AppData\\Roaming\\nltk_data...\n",
      "[nltk_data]    |   Package chat80 is already up-to-date!\n",
      "[nltk_data]    | Downloading package city_database to\n",
      "[nltk_data]    |     C:\\Users\\Hassan\\AppData\\Roaming\\nltk_data...\n",
      "[nltk_data]    |   Package city_database is already up-to-date!\n",
      "[nltk_data]    | Downloading package cmudict to\n",
      "[nltk_data]    |     C:\\Users\\Hassan\\AppData\\Roaming\\nltk_data...\n",
      "[nltk_data]    |   Package cmudict is already up-to-date!\n",
      "[nltk_data]    | Downloading package comparative_sentences to\n",
      "[nltk_data]    |     C:\\Users\\Hassan\\AppData\\Roaming\\nltk_data...\n",
      "[nltk_data]    |   Package comparative_sentences is already up-to-\n",
      "[nltk_data]    |       date!\n",
      "[nltk_data]    | Downloading package comtrans to\n",
      "[nltk_data]    |     C:\\Users\\Hassan\\AppData\\Roaming\\nltk_data...\n",
      "[nltk_data]    |   Package comtrans is already up-to-date!\n",
      "[nltk_data]    | Downloading package conll2000 to\n",
      "[nltk_data]    |     C:\\Users\\Hassan\\AppData\\Roaming\\nltk_data...\n",
      "[nltk_data]    |   Package conll2000 is already up-to-date!\n",
      "[nltk_data]    | Downloading package conll2002 to\n",
      "[nltk_data]    |     C:\\Users\\Hassan\\AppData\\Roaming\\nltk_data...\n",
      "[nltk_data]    |   Package conll2002 is already up-to-date!\n",
      "[nltk_data]    | Downloading package conll2007 to\n",
      "[nltk_data]    |     C:\\Users\\Hassan\\AppData\\Roaming\\nltk_data...\n",
      "[nltk_data]    |   Package conll2007 is already up-to-date!\n",
      "[nltk_data]    | Downloading package crubadan to\n",
      "[nltk_data]    |     C:\\Users\\Hassan\\AppData\\Roaming\\nltk_data...\n",
      "[nltk_data]    |   Package crubadan is already up-to-date!\n",
      "[nltk_data]    | Downloading package dependency_treebank to\n",
      "[nltk_data]    |     C:\\Users\\Hassan\\AppData\\Roaming\\nltk_data...\n",
      "[nltk_data]    |   Package dependency_treebank is already up-to-date!\n",
      "[nltk_data]    | Downloading package dolch to\n",
      "[nltk_data]    |     C:\\Users\\Hassan\\AppData\\Roaming\\nltk_data...\n",
      "[nltk_data]    |   Package dolch is already up-to-date!\n",
      "[nltk_data]    | Downloading package europarl_raw to\n",
      "[nltk_data]    |     C:\\Users\\Hassan\\AppData\\Roaming\\nltk_data...\n",
      "[nltk_data]    |   Package europarl_raw is already up-to-date!\n",
      "[nltk_data]    | Downloading package extended_omw to\n",
      "[nltk_data]    |     C:\\Users\\Hassan\\AppData\\Roaming\\nltk_data...\n",
      "[nltk_data]    |   Package extended_omw is already up-to-date!\n",
      "[nltk_data]    | Downloading package floresta to\n",
      "[nltk_data]    |     C:\\Users\\Hassan\\AppData\\Roaming\\nltk_data...\n",
      "[nltk_data]    |   Package floresta is already up-to-date!\n",
      "[nltk_data]    | Downloading package framenet_v15 to\n",
      "[nltk_data]    |     C:\\Users\\Hassan\\AppData\\Roaming\\nltk_data...\n",
      "[nltk_data]    |   Package framenet_v15 is already up-to-date!\n",
      "[nltk_data]    | Downloading package framenet_v17 to\n",
      "[nltk_data]    |     C:\\Users\\Hassan\\AppData\\Roaming\\nltk_data...\n",
      "[nltk_data]    |   Package framenet_v17 is already up-to-date!\n",
      "[nltk_data]    | Downloading package gazetteers to\n",
      "[nltk_data]    |     C:\\Users\\Hassan\\AppData\\Roaming\\nltk_data...\n",
      "[nltk_data]    |   Package gazetteers is already up-to-date!\n",
      "[nltk_data]    | Downloading package genesis to\n",
      "[nltk_data]    |     C:\\Users\\Hassan\\AppData\\Roaming\\nltk_data...\n",
      "[nltk_data]    |   Package genesis is already up-to-date!\n",
      "[nltk_data]    | Downloading package gutenberg to\n",
      "[nltk_data]    |     C:\\Users\\Hassan\\AppData\\Roaming\\nltk_data...\n",
      "[nltk_data]    |   Package gutenberg is already up-to-date!\n",
      "[nltk_data]    | Downloading package ieer to\n",
      "[nltk_data]    |     C:\\Users\\Hassan\\AppData\\Roaming\\nltk_data...\n",
      "[nltk_data]    |   Package ieer is already up-to-date!\n",
      "[nltk_data]    | Downloading package inaugural to\n",
      "[nltk_data]    |     C:\\Users\\Hassan\\AppData\\Roaming\\nltk_data...\n",
      "[nltk_data]    |   Package inaugural is already up-to-date!\n",
      "[nltk_data]    | Downloading package indian to\n",
      "[nltk_data]    |     C:\\Users\\Hassan\\AppData\\Roaming\\nltk_data...\n",
      "[nltk_data]    |   Package indian is already up-to-date!\n",
      "[nltk_data]    | Downloading package jeita to\n",
      "[nltk_data]    |     C:\\Users\\Hassan\\AppData\\Roaming\\nltk_data...\n",
      "[nltk_data]    |   Package jeita is already up-to-date!\n",
      "[nltk_data]    | Downloading package kimmo to\n",
      "[nltk_data]    |     C:\\Users\\Hassan\\AppData\\Roaming\\nltk_data...\n",
      "[nltk_data]    |   Package kimmo is already up-to-date!\n",
      "[nltk_data]    | Downloading package knbc to\n",
      "[nltk_data]    |     C:\\Users\\Hassan\\AppData\\Roaming\\nltk_data...\n",
      "[nltk_data]    |   Package knbc is already up-to-date!\n",
      "[nltk_data]    | Downloading package large_grammars to\n",
      "[nltk_data]    |     C:\\Users\\Hassan\\AppData\\Roaming\\nltk_data...\n",
      "[nltk_data]    |   Package large_grammars is already up-to-date!\n",
      "[nltk_data]    | Downloading package lin_thesaurus to\n",
      "[nltk_data]    |     C:\\Users\\Hassan\\AppData\\Roaming\\nltk_data...\n",
      "[nltk_data]    |   Package lin_thesaurus is already up-to-date!\n",
      "[nltk_data]    | Downloading package mac_morpho to\n",
      "[nltk_data]    |     C:\\Users\\Hassan\\AppData\\Roaming\\nltk_data...\n",
      "[nltk_data]    |   Package mac_morpho is already up-to-date!\n",
      "[nltk_data]    | Downloading package machado to\n",
      "[nltk_data]    |     C:\\Users\\Hassan\\AppData\\Roaming\\nltk_data...\n",
      "[nltk_data]    |   Package machado is already up-to-date!\n",
      "[nltk_data]    | Downloading package masc_tagged to\n",
      "[nltk_data]    |     C:\\Users\\Hassan\\AppData\\Roaming\\nltk_data...\n",
      "[nltk_data]    |   Package masc_tagged is already up-to-date!\n",
      "[nltk_data]    | Downloading package maxent_ne_chunker to\n",
      "[nltk_data]    |     C:\\Users\\Hassan\\AppData\\Roaming\\nltk_data...\n",
      "[nltk_data]    |   Package maxent_ne_chunker is already up-to-date!\n",
      "[nltk_data]    | Downloading package maxent_treebank_pos_tagger to\n",
      "[nltk_data]    |     C:\\Users\\Hassan\\AppData\\Roaming\\nltk_data...\n",
      "[nltk_data]    |   Package maxent_treebank_pos_tagger is already up-\n",
      "[nltk_data]    |       to-date!\n",
      "[nltk_data]    | Downloading package moses_sample to\n",
      "[nltk_data]    |     C:\\Users\\Hassan\\AppData\\Roaming\\nltk_data...\n",
      "[nltk_data]    |   Package moses_sample is already up-to-date!\n",
      "[nltk_data]    | Downloading package movie_reviews to\n",
      "[nltk_data]    |     C:\\Users\\Hassan\\AppData\\Roaming\\nltk_data...\n"
     ]
    },
    {
     "name": "stderr",
     "output_type": "stream",
     "text": [
      "[nltk_data]    |   Package movie_reviews is already up-to-date!\n",
      "[nltk_data]    | Downloading package mte_teip5 to\n",
      "[nltk_data]    |     C:\\Users\\Hassan\\AppData\\Roaming\\nltk_data...\n",
      "[nltk_data]    |   Package mte_teip5 is already up-to-date!\n",
      "[nltk_data]    | Downloading package mwa_ppdb to\n",
      "[nltk_data]    |     C:\\Users\\Hassan\\AppData\\Roaming\\nltk_data...\n",
      "[nltk_data]    |   Package mwa_ppdb is already up-to-date!\n",
      "[nltk_data]    | Downloading package names to\n",
      "[nltk_data]    |     C:\\Users\\Hassan\\AppData\\Roaming\\nltk_data...\n",
      "[nltk_data]    |   Package names is already up-to-date!\n",
      "[nltk_data]    | Downloading package nombank.1.0 to\n",
      "[nltk_data]    |     C:\\Users\\Hassan\\AppData\\Roaming\\nltk_data...\n",
      "[nltk_data]    |   Package nombank.1.0 is already up-to-date!\n",
      "[nltk_data]    | Downloading package nonbreaking_prefixes to\n",
      "[nltk_data]    |     C:\\Users\\Hassan\\AppData\\Roaming\\nltk_data...\n",
      "[nltk_data]    |   Package nonbreaking_prefixes is already up-to-date!\n",
      "[nltk_data]    | Downloading package nps_chat to\n",
      "[nltk_data]    |     C:\\Users\\Hassan\\AppData\\Roaming\\nltk_data...\n",
      "[nltk_data]    |   Package nps_chat is already up-to-date!\n",
      "[nltk_data]    | Downloading package omw to\n",
      "[nltk_data]    |     C:\\Users\\Hassan\\AppData\\Roaming\\nltk_data...\n",
      "[nltk_data]    |   Package omw is already up-to-date!\n",
      "[nltk_data]    | Downloading package omw-1.4 to\n",
      "[nltk_data]    |     C:\\Users\\Hassan\\AppData\\Roaming\\nltk_data...\n",
      "[nltk_data]    |   Package omw-1.4 is already up-to-date!\n",
      "[nltk_data]    | Downloading package opinion_lexicon to\n",
      "[nltk_data]    |     C:\\Users\\Hassan\\AppData\\Roaming\\nltk_data...\n",
      "[nltk_data]    |   Package opinion_lexicon is already up-to-date!\n",
      "[nltk_data]    | Downloading package panlex_swadesh to\n",
      "[nltk_data]    |     C:\\Users\\Hassan\\AppData\\Roaming\\nltk_data...\n",
      "[nltk_data]    |   Package panlex_swadesh is already up-to-date!\n",
      "[nltk_data]    | Downloading package paradigms to\n",
      "[nltk_data]    |     C:\\Users\\Hassan\\AppData\\Roaming\\nltk_data...\n",
      "[nltk_data]    |   Package paradigms is already up-to-date!\n",
      "[nltk_data]    | Downloading package pe08 to\n",
      "[nltk_data]    |     C:\\Users\\Hassan\\AppData\\Roaming\\nltk_data...\n",
      "[nltk_data]    |   Package pe08 is already up-to-date!\n",
      "[nltk_data]    | Downloading package perluniprops to\n",
      "[nltk_data]    |     C:\\Users\\Hassan\\AppData\\Roaming\\nltk_data...\n",
      "[nltk_data]    |   Package perluniprops is already up-to-date!\n",
      "[nltk_data]    | Downloading package pil to\n",
      "[nltk_data]    |     C:\\Users\\Hassan\\AppData\\Roaming\\nltk_data...\n",
      "[nltk_data]    |   Package pil is already up-to-date!\n",
      "[nltk_data]    | Downloading package pl196x to\n",
      "[nltk_data]    |     C:\\Users\\Hassan\\AppData\\Roaming\\nltk_data...\n",
      "[nltk_data]    |   Package pl196x is already up-to-date!\n",
      "[nltk_data]    | Downloading package porter_test to\n",
      "[nltk_data]    |     C:\\Users\\Hassan\\AppData\\Roaming\\nltk_data...\n",
      "[nltk_data]    |   Package porter_test is already up-to-date!\n",
      "[nltk_data]    | Downloading package ppattach to\n",
      "[nltk_data]    |     C:\\Users\\Hassan\\AppData\\Roaming\\nltk_data...\n",
      "[nltk_data]    |   Package ppattach is already up-to-date!\n",
      "[nltk_data]    | Downloading package problem_reports to\n",
      "[nltk_data]    |     C:\\Users\\Hassan\\AppData\\Roaming\\nltk_data...\n",
      "[nltk_data]    |   Package problem_reports is already up-to-date!\n",
      "[nltk_data]    | Downloading package product_reviews_1 to\n",
      "[nltk_data]    |     C:\\Users\\Hassan\\AppData\\Roaming\\nltk_data...\n",
      "[nltk_data]    |   Package product_reviews_1 is already up-to-date!\n",
      "[nltk_data]    | Downloading package product_reviews_2 to\n",
      "[nltk_data]    |     C:\\Users\\Hassan\\AppData\\Roaming\\nltk_data...\n",
      "[nltk_data]    |   Package product_reviews_2 is already up-to-date!\n",
      "[nltk_data]    | Downloading package propbank to\n",
      "[nltk_data]    |     C:\\Users\\Hassan\\AppData\\Roaming\\nltk_data...\n",
      "[nltk_data]    |   Package propbank is already up-to-date!\n",
      "[nltk_data]    | Downloading package pros_cons to\n",
      "[nltk_data]    |     C:\\Users\\Hassan\\AppData\\Roaming\\nltk_data...\n",
      "[nltk_data]    |   Package pros_cons is already up-to-date!\n",
      "[nltk_data]    | Downloading package ptb to\n",
      "[nltk_data]    |     C:\\Users\\Hassan\\AppData\\Roaming\\nltk_data...\n",
      "[nltk_data]    |   Package ptb is already up-to-date!\n",
      "[nltk_data]    | Downloading package punkt to\n",
      "[nltk_data]    |     C:\\Users\\Hassan\\AppData\\Roaming\\nltk_data...\n",
      "[nltk_data]    |   Package punkt is already up-to-date!\n",
      "[nltk_data]    | Downloading package qc to\n",
      "[nltk_data]    |     C:\\Users\\Hassan\\AppData\\Roaming\\nltk_data...\n",
      "[nltk_data]    |   Package qc is already up-to-date!\n",
      "[nltk_data]    | Downloading package reuters to\n",
      "[nltk_data]    |     C:\\Users\\Hassan\\AppData\\Roaming\\nltk_data...\n",
      "[nltk_data]    |   Package reuters is already up-to-date!\n",
      "[nltk_data]    | Downloading package rslp to\n",
      "[nltk_data]    |     C:\\Users\\Hassan\\AppData\\Roaming\\nltk_data...\n",
      "[nltk_data]    |   Package rslp is already up-to-date!\n",
      "[nltk_data]    | Downloading package rte to\n",
      "[nltk_data]    |     C:\\Users\\Hassan\\AppData\\Roaming\\nltk_data...\n",
      "[nltk_data]    |   Package rte is already up-to-date!\n",
      "[nltk_data]    | Downloading package sample_grammars to\n",
      "[nltk_data]    |     C:\\Users\\Hassan\\AppData\\Roaming\\nltk_data...\n",
      "[nltk_data]    |   Package sample_grammars is already up-to-date!\n",
      "[nltk_data]    | Downloading package semcor to\n",
      "[nltk_data]    |     C:\\Users\\Hassan\\AppData\\Roaming\\nltk_data...\n",
      "[nltk_data]    |   Package semcor is already up-to-date!\n",
      "[nltk_data]    | Downloading package senseval to\n",
      "[nltk_data]    |     C:\\Users\\Hassan\\AppData\\Roaming\\nltk_data...\n",
      "[nltk_data]    |   Package senseval is already up-to-date!\n",
      "[nltk_data]    | Downloading package sentence_polarity to\n",
      "[nltk_data]    |     C:\\Users\\Hassan\\AppData\\Roaming\\nltk_data...\n",
      "[nltk_data]    |   Package sentence_polarity is already up-to-date!\n",
      "[nltk_data]    | Downloading package sentiwordnet to\n",
      "[nltk_data]    |     C:\\Users\\Hassan\\AppData\\Roaming\\nltk_data...\n",
      "[nltk_data]    |   Package sentiwordnet is already up-to-date!\n",
      "[nltk_data]    | Downloading package shakespeare to\n",
      "[nltk_data]    |     C:\\Users\\Hassan\\AppData\\Roaming\\nltk_data...\n",
      "[nltk_data]    |   Package shakespeare is already up-to-date!\n",
      "[nltk_data]    | Downloading package sinica_treebank to\n",
      "[nltk_data]    |     C:\\Users\\Hassan\\AppData\\Roaming\\nltk_data...\n",
      "[nltk_data]    |   Package sinica_treebank is already up-to-date!\n",
      "[nltk_data]    | Downloading package smultron to\n",
      "[nltk_data]    |     C:\\Users\\Hassan\\AppData\\Roaming\\nltk_data...\n",
      "[nltk_data]    |   Package smultron is already up-to-date!\n",
      "[nltk_data]    | Downloading package snowball_data to\n",
      "[nltk_data]    |     C:\\Users\\Hassan\\AppData\\Roaming\\nltk_data...\n",
      "[nltk_data]    |   Package snowball_data is already up-to-date!\n",
      "[nltk_data]    | Downloading package spanish_grammars to\n",
      "[nltk_data]    |     C:\\Users\\Hassan\\AppData\\Roaming\\nltk_data...\n",
      "[nltk_data]    |   Package spanish_grammars is already up-to-date!\n",
      "[nltk_data]    | Downloading package state_union to\n",
      "[nltk_data]    |     C:\\Users\\Hassan\\AppData\\Roaming\\nltk_data...\n",
      "[nltk_data]    |   Package state_union is already up-to-date!\n",
      "[nltk_data]    | Downloading package stopwords to\n",
      "[nltk_data]    |     C:\\Users\\Hassan\\AppData\\Roaming\\nltk_data...\n",
      "[nltk_data]    |   Package stopwords is already up-to-date!\n",
      "[nltk_data]    | Downloading package subjectivity to\n",
      "[nltk_data]    |     C:\\Users\\Hassan\\AppData\\Roaming\\nltk_data...\n",
      "[nltk_data]    |   Package subjectivity is already up-to-date!\n",
      "[nltk_data]    | Downloading package swadesh to\n",
      "[nltk_data]    |     C:\\Users\\Hassan\\AppData\\Roaming\\nltk_data...\n",
      "[nltk_data]    |   Package swadesh is already up-to-date!\n",
      "[nltk_data]    | Downloading package switchboard to\n",
      "[nltk_data]    |     C:\\Users\\Hassan\\AppData\\Roaming\\nltk_data...\n",
      "[nltk_data]    |   Package switchboard is already up-to-date!\n",
      "[nltk_data]    | Downloading package tagsets to\n",
      "[nltk_data]    |     C:\\Users\\Hassan\\AppData\\Roaming\\nltk_data...\n",
      "[nltk_data]    |   Package tagsets is already up-to-date!\n",
      "[nltk_data]    | Downloading package timit to\n",
      "[nltk_data]    |     C:\\Users\\Hassan\\AppData\\Roaming\\nltk_data...\n",
      "[nltk_data]    |   Package timit is already up-to-date!\n",
      "[nltk_data]    | Downloading package toolbox to\n",
      "[nltk_data]    |     C:\\Users\\Hassan\\AppData\\Roaming\\nltk_data...\n",
      "[nltk_data]    |   Package toolbox is already up-to-date!\n",
      "[nltk_data]    | Downloading package treebank to\n",
      "[nltk_data]    |     C:\\Users\\Hassan\\AppData\\Roaming\\nltk_data...\n",
      "[nltk_data]    |   Package treebank is already up-to-date!\n",
      "[nltk_data]    | Downloading package twitter_samples to\n",
      "[nltk_data]    |     C:\\Users\\Hassan\\AppData\\Roaming\\nltk_data...\n"
     ]
    },
    {
     "name": "stderr",
     "output_type": "stream",
     "text": [
      "[nltk_data]    |   Package twitter_samples is already up-to-date!\n",
      "[nltk_data]    | Downloading package udhr to\n",
      "[nltk_data]    |     C:\\Users\\Hassan\\AppData\\Roaming\\nltk_data...\n",
      "[nltk_data]    |   Package udhr is already up-to-date!\n",
      "[nltk_data]    | Downloading package udhr2 to\n",
      "[nltk_data]    |     C:\\Users\\Hassan\\AppData\\Roaming\\nltk_data...\n",
      "[nltk_data]    |   Package udhr2 is already up-to-date!\n",
      "[nltk_data]    | Downloading package unicode_samples to\n",
      "[nltk_data]    |     C:\\Users\\Hassan\\AppData\\Roaming\\nltk_data...\n",
      "[nltk_data]    |   Package unicode_samples is already up-to-date!\n",
      "[nltk_data]    | Downloading package universal_tagset to\n",
      "[nltk_data]    |     C:\\Users\\Hassan\\AppData\\Roaming\\nltk_data...\n",
      "[nltk_data]    |   Package universal_tagset is already up-to-date!\n",
      "[nltk_data]    | Downloading package universal_treebanks_v20 to\n",
      "[nltk_data]    |     C:\\Users\\Hassan\\AppData\\Roaming\\nltk_data...\n",
      "[nltk_data]    |   Package universal_treebanks_v20 is already up-to-\n",
      "[nltk_data]    |       date!\n",
      "[nltk_data]    | Downloading package vader_lexicon to\n",
      "[nltk_data]    |     C:\\Users\\Hassan\\AppData\\Roaming\\nltk_data...\n",
      "[nltk_data]    |   Package vader_lexicon is already up-to-date!\n",
      "[nltk_data]    | Downloading package verbnet to\n",
      "[nltk_data]    |     C:\\Users\\Hassan\\AppData\\Roaming\\nltk_data...\n",
      "[nltk_data]    |   Package verbnet is already up-to-date!\n",
      "[nltk_data]    | Downloading package verbnet3 to\n",
      "[nltk_data]    |     C:\\Users\\Hassan\\AppData\\Roaming\\nltk_data...\n",
      "[nltk_data]    |   Package verbnet3 is already up-to-date!\n",
      "[nltk_data]    | Downloading package webtext to\n",
      "[nltk_data]    |     C:\\Users\\Hassan\\AppData\\Roaming\\nltk_data...\n",
      "[nltk_data]    |   Package webtext is already up-to-date!\n",
      "[nltk_data]    | Downloading package wmt15_eval to\n",
      "[nltk_data]    |     C:\\Users\\Hassan\\AppData\\Roaming\\nltk_data...\n",
      "[nltk_data]    |   Package wmt15_eval is already up-to-date!\n",
      "[nltk_data]    | Downloading package word2vec_sample to\n",
      "[nltk_data]    |     C:\\Users\\Hassan\\AppData\\Roaming\\nltk_data...\n",
      "[nltk_data]    |   Package word2vec_sample is already up-to-date!\n",
      "[nltk_data]    | Downloading package wordnet to\n",
      "[nltk_data]    |     C:\\Users\\Hassan\\AppData\\Roaming\\nltk_data...\n",
      "[nltk_data]    |   Package wordnet is already up-to-date!\n",
      "[nltk_data]    | Downloading package wordnet2021 to\n",
      "[nltk_data]    |     C:\\Users\\Hassan\\AppData\\Roaming\\nltk_data...\n",
      "[nltk_data]    |   Package wordnet2021 is already up-to-date!\n",
      "[nltk_data]    | Downloading package wordnet2022 to\n",
      "[nltk_data]    |     C:\\Users\\Hassan\\AppData\\Roaming\\nltk_data...\n",
      "[nltk_data]    |   Package wordnet2022 is already up-to-date!\n",
      "[nltk_data]    | Downloading package wordnet31 to\n",
      "[nltk_data]    |     C:\\Users\\Hassan\\AppData\\Roaming\\nltk_data...\n",
      "[nltk_data]    |   Package wordnet31 is already up-to-date!\n",
      "[nltk_data]    | Downloading package wordnet_ic to\n",
      "[nltk_data]    |     C:\\Users\\Hassan\\AppData\\Roaming\\nltk_data...\n",
      "[nltk_data]    |   Package wordnet_ic is already up-to-date!\n",
      "[nltk_data]    | Downloading package words to\n",
      "[nltk_data]    |     C:\\Users\\Hassan\\AppData\\Roaming\\nltk_data...\n",
      "[nltk_data]    |   Package words is already up-to-date!\n",
      "[nltk_data]    | Downloading package ycoe to\n",
      "[nltk_data]    |     C:\\Users\\Hassan\\AppData\\Roaming\\nltk_data...\n",
      "[nltk_data]    |   Package ycoe is already up-to-date!\n",
      "[nltk_data]    | \n",
      "[nltk_data]  Done downloading collection all\n"
     ]
    },
    {
     "data": {
      "text/plain": [
       "True"
      ]
     },
     "execution_count": 2,
     "metadata": {},
     "output_type": "execute_result"
    }
   ],
   "source": [
    "nltk.download('all')"
   ]
  },
  {
   "cell_type": "code",
   "execution_count": 3,
   "metadata": {
    "scrolled": false
   },
   "outputs": [
    {
     "name": "stdout",
     "output_type": "stream",
     "text": [
      "<class 'pandas.core.frame.DataFrame'>\n",
      "RangeIndex: 2400 entries, 0 to 2399\n",
      "Data columns (total 2 columns):\n",
      " #   Column    Non-Null Count  Dtype \n",
      "---  ------    --------------  ----- \n",
      " 0   Sentence  2400 non-null   object\n",
      " 1   Polarity  2400 non-null   int64 \n",
      "dtypes: int64(1), object(1)\n",
      "memory usage: 37.6+ KB\n",
      "None\n",
      "                                            Sentence  Polarity\n",
      "0                           Wow... Loved this place.         1\n",
      "1                                 Crust is not good.         0\n",
      "2          Not tasty and the texture was just nasty.         0\n",
      "3  Stopped by during the late May bank holiday of...         1\n",
      "4  The selection on the menu was great and so wer...         1\n",
      "<class 'pandas.core.frame.DataFrame'>\n",
      "RangeIndex: 600 entries, 0 to 599\n",
      "Data columns (total 2 columns):\n",
      " #   Column    Non-Null Count  Dtype \n",
      "---  ------    --------------  ----- \n",
      " 0   Sentence  600 non-null    object\n",
      " 1   Polarity  600 non-null    int64 \n",
      "dtypes: int64(1), object(1)\n",
      "memory usage: 9.5+ KB\n",
      "None\n",
      "                                            Sentence  Polarity\n",
      "0  A good commentary of today's love and undoubte...         1\n",
      "1  For people who are first timers in film making...         1\n",
      "2  It was very popular when I was in the cinema, ...         1\n",
      "3  It's a feel-good film and that's how I felt wh...         1\n",
      "4  It has northern humour and positive about the ...         1\n"
     ]
    }
   ],
   "source": [
    "df_train = pd.read_csv(\"sentiment_train.csv\")\n",
    "\n",
    "print(df_train.info())\n",
    "print(df_train.head())\n",
    "\n",
    "df_test = pd.read_csv(\"sentiment_test.csv\")\n",
    "\n",
    "print(df_test.info())\n",
    "print(df_test.head())"
   ]
  },
  {
   "cell_type": "code",
   "execution_count": 4,
   "metadata": {},
   "outputs": [
    {
     "data": {
      "text/plain": [
       "Sentence    0\n",
       "Polarity    0\n",
       "dtype: int64"
      ]
     },
     "execution_count": 4,
     "metadata": {},
     "output_type": "execute_result"
    },
    {
     "data": {
      "text/plain": [
       "Sentence    0\n",
       "Polarity    0\n",
       "dtype: int64"
      ]
     },
     "execution_count": 4,
     "metadata": {},
     "output_type": "execute_result"
    }
   ],
   "source": [
    "#checking if there's any missing values as blanks or nulls\n",
    "\n",
    "df_train = df_train.replace(' ', np.nan)\n",
    "df_train.isnull().sum()\n",
    "\n",
    "df_test = df_test.replace(' ', np.nan)\n",
    "df_test.isnull().sum()"
   ]
  },
  {
   "cell_type": "code",
   "execution_count": 5,
   "metadata": {},
   "outputs": [
    {
     "data": {
      "text/plain": [
       "0    0.505417\n",
       "1    0.494583\n",
       "Name: Polarity, dtype: float64"
      ]
     },
     "execution_count": 5,
     "metadata": {},
     "output_type": "execute_result"
    },
    {
     "data": {
      "text/plain": [
       "<AxesSubplot:>"
      ]
     },
     "execution_count": 5,
     "metadata": {},
     "output_type": "execute_result"
    },
    {
     "data": {
      "image/png": "[encoded data removed]",
      "text/plain": [
       "<Figure size 432x288 with 1 Axes>"
      ]
     },
     "metadata": {
      "needs_background": "light"
     },
     "output_type": "display_data"
    }
   ],
   "source": [
    "#checking data balance -> data is balanced\n",
    "\n",
    "df_train['Polarity'].value_counts(normalize = True)\n",
    "df_train['Polarity'].value_counts().plot.bar()"
   ]
  },
  {
   "cell_type": "code",
   "execution_count": 6,
   "metadata": {},
   "outputs": [],
   "source": [
    "#checking if length of sentences contribute to polarity score - adding length feature\n",
    "\n",
    "df_train['length']= df_train.Sentence.str.split().str.len()"
   ]
  },
  {
   "cell_type": "code",
   "execution_count": 7,
   "metadata": {},
   "outputs": [
    {
     "data": {
      "text/html": [
       "<div>\n",
       "<style scoped>\n",
       "    .dataframe tbody tr th:only-of-type {\n",
       "        vertical-align: middle;\n",
       "    }\n",
       "\n",
       "    .dataframe tbody tr th {\n",
       "        vertical-align: top;\n",
       "    }\n",
       "\n",
       "    .dataframe thead th {\n",
       "        text-align: right;\n",
       "    }\n",
       "</style>\n",
       "<table border=\"1\" class=\"dataframe\">\n",
       "  <thead>\n",
       "    <tr style=\"text-align: right;\">\n",
       "      <th></th>\n",
       "      <th>Sentence</th>\n",
       "      <th>Polarity</th>\n",
       "      <th>length</th>\n",
       "    </tr>\n",
       "  </thead>\n",
       "  <tbody>\n",
       "    <tr>\n",
       "      <th>0</th>\n",
       "      <td>Wow... Loved this place.</td>\n",
       "      <td>1</td>\n",
       "      <td>4</td>\n",
       "    </tr>\n",
       "    <tr>\n",
       "      <th>1</th>\n",
       "      <td>Crust is not good.</td>\n",
       "      <td>0</td>\n",
       "      <td>4</td>\n",
       "    </tr>\n",
       "    <tr>\n",
       "      <th>2</th>\n",
       "      <td>Not tasty and the texture was just nasty.</td>\n",
       "      <td>0</td>\n",
       "      <td>8</td>\n",
       "    </tr>\n",
       "    <tr>\n",
       "      <th>3</th>\n",
       "      <td>Stopped by during the late May bank holiday of...</td>\n",
       "      <td>1</td>\n",
       "      <td>15</td>\n",
       "    </tr>\n",
       "    <tr>\n",
       "      <th>4</th>\n",
       "      <td>The selection on the menu was great and so wer...</td>\n",
       "      <td>1</td>\n",
       "      <td>12</td>\n",
       "    </tr>\n",
       "  </tbody>\n",
       "</table>\n",
       "</div>"
      ],
      "text/plain": [
       "                                            Sentence  Polarity  length\n",
       "0                           Wow... Loved this place.         1       4\n",
       "1                                 Crust is not good.         0       4\n",
       "2          Not tasty and the texture was just nasty.         0       8\n",
       "3  Stopped by during the late May bank holiday of...         1      15\n",
       "4  The selection on the menu was great and so wer...         1      12"
      ]
     },
     "execution_count": 7,
     "metadata": {},
     "output_type": "execute_result"
    }
   ],
   "source": [
    "df_train.head()"
   ]
  },
  {
   "cell_type": "code",
   "execution_count": 8,
   "metadata": {},
   "outputs": [
    {
     "data": {
      "image/png": "[encoded data removed]",
      "text/plain": [
       "<Figure size 432x288 with 1 Axes>"
      ]
     },
     "metadata": {
      "needs_background": "light"
     },
     "output_type": "display_data"
    }
   ],
   "source": [
    "#plotting histogram of sentences against length -> significant overlap of histograms \n",
    "#suggest there is no relation between length and polarity score\n",
    "\n",
    "import matplotlib.pyplot as plt\n",
    "\n",
    "plt.xscale('log')\n",
    "bins = 1.15**(np.arange(0,50))\n",
    "plt.hist(df_train[df_train['Polarity']==0]['length'],bins=bins,alpha=0.8)\n",
    "plt.hist(df_train[df_train['Polarity']==1]['length'],bins=bins,alpha=0.8)\n",
    "plt.legend(('0','1'))\n",
    "plt.show();"
   ]
  },
  {
   "cell_type": "markdown",
   "metadata": {},
   "source": [
    "## Text Preprocessing"
   ]
  },
  {
   "cell_type": "code",
   "execution_count": 10,
   "metadata": {},
   "outputs": [],
   "source": [
    "text = list(df_train['Sentence'])"
   ]
  },
  {
   "cell_type": "code",
   "execution_count": 11,
   "metadata": {},
   "outputs": [],
   "source": [
    "import re\n",
    "from nltk.corpus import stopwords\n",
    "\n",
    "from nltk.stem import WordNetLemmatizer\n",
    "lemmatizer = WordNetLemmatizer()\n",
    "\n",
    "corpus = []\n",
    "\n",
    "for i in range(len(text)):\n",
    "    r = re.sub('[^a-zA-Z]', ' ', text[i])\n",
    "    r = r.lower()\n",
    "    r = r.split()\n",
    "    r = [word for word in r if word not in stopwords.words('english')]\n",
    "    r = [lemmatizer.lemmatize(word) for word in r]\n",
    "    r = ' '.join(r)\n",
    "    corpus.append(r)"
   ]
  },
  {
   "cell_type": "code",
   "execution_count": 12,
   "metadata": {},
   "outputs": [
    {
     "data": {
      "text/plain": [
       "'wow loved place'"
      ]
     },
     "execution_count": 12,
     "metadata": {},
     "output_type": "execute_result"
    }
   ],
   "source": [
    "corpus[0]"
   ]
  },
  {
   "cell_type": "markdown",
   "metadata": {},
   "source": [
    "## Test Train Split (followed by Vectorization Fit on Training Data)"
   ]
  },
  {
   "cell_type": "code",
   "execution_count": 13,
   "metadata": {},
   "outputs": [],
   "source": [
    "# train test split (66% train - 33% test)\n",
    "X = np.array(corpus)\n",
    "y = df_train['Polarity']"
   ]
  },
  {
   "cell_type": "code",
   "execution_count": 14,
   "metadata": {},
   "outputs": [
    {
     "name": "stdout",
     "output_type": "stream",
     "text": [
      "Training Data : (1608,)\n",
      "Testing Data :  (792,)\n"
     ]
    }
   ],
   "source": [
    "from sklearn.model_selection import train_test_split\n",
    "X_train, X_test, y_train, y_test = train_test_split(X, y, test_size=0.33, \n",
    "                                                    random_state=123)\n",
    "\n",
    "print('Training Data :', X_train.shape)\n",
    "print('Testing Data : ', X_test.shape)"
   ]
  },
  {
   "cell_type": "code",
   "execution_count": 15,
   "metadata": {},
   "outputs": [
    {
     "data": {
      "text/plain": [
       "(1608, 2789)"
      ]
     },
     "execution_count": 15,
     "metadata": {},
     "output_type": "execute_result"
    }
   ],
   "source": [
    "from sklearn.feature_extraction.text import TfidfVectorizer\n",
    "tfidf = TfidfVectorizer()\n",
    "\n",
    "# fit transform the TfidfVectorizer\n",
    "X_train_vector= tfidf.fit_transform(X_train)\n",
    "X_train_vector.shape"
   ]
  },
  {
   "cell_type": "markdown",
   "metadata": {},
   "source": [
    "## Trying Different ML Algorithms (LR, NB, SVM)"
   ]
  },
  {
   "cell_type": "markdown",
   "metadata": {},
   "source": [
    "## 1) Logistic Regression"
   ]
  },
  {
   "cell_type": "code",
   "execution_count": 16,
   "metadata": {},
   "outputs": [
    {
     "data": {
      "text/plain": [
       "LogisticRegression()"
      ]
     },
     "execution_count": 16,
     "metadata": {},
     "output_type": "execute_result"
    }
   ],
   "source": [
    "from sklearn.linear_model import LogisticRegression\n",
    "\n",
    "lr = LogisticRegression()\n",
    "lr.fit(X_train_vector, y_train)\n",
    "\n",
    "X_test_vector = tfidf.transform(X_test)\n",
    "lr_predictions = lr.predict(X_test_vector)"
   ]
  },
  {
   "cell_type": "code",
   "execution_count": 17,
   "metadata": {},
   "outputs": [
    {
     "data": {
      "text/html": [
       "<div>\n",
       "<style scoped>\n",
       "    .dataframe tbody tr th:only-of-type {\n",
       "        vertical-align: middle;\n",
       "    }\n",
       "\n",
       "    .dataframe tbody tr th {\n",
       "        vertical-align: top;\n",
       "    }\n",
       "\n",
       "    .dataframe thead th {\n",
       "        text-align: right;\n",
       "    }\n",
       "</style>\n",
       "<table border=\"1\" class=\"dataframe\">\n",
       "  <thead>\n",
       "    <tr style=\"text-align: right;\">\n",
       "      <th></th>\n",
       "      <th>0</th>\n",
       "      <th>1</th>\n",
       "    </tr>\n",
       "  </thead>\n",
       "  <tbody>\n",
       "    <tr>\n",
       "      <th>0</th>\n",
       "      <td>321</td>\n",
       "      <td>67</td>\n",
       "    </tr>\n",
       "    <tr>\n",
       "      <th>1</th>\n",
       "      <td>105</td>\n",
       "      <td>299</td>\n",
       "    </tr>\n",
       "  </tbody>\n",
       "</table>\n",
       "</div>"
      ],
      "text/plain": [
       "     0    1\n",
       "0  321   67\n",
       "1  105  299"
      ]
     },
     "execution_count": 17,
     "metadata": {},
     "output_type": "execute_result"
    },
    {
     "name": "stdout",
     "output_type": "stream",
     "text": [
      "              precision    recall  f1-score   support\n",
      "\n",
      "           0       0.75      0.83      0.79       388\n",
      "           1       0.82      0.74      0.78       404\n",
      "\n",
      "    accuracy                           0.78       792\n",
      "   macro avg       0.79      0.78      0.78       792\n",
      "weighted avg       0.79      0.78      0.78       792\n",
      "\n",
      "0.8737655659895887\n"
     ]
    }
   ],
   "source": [
    "from sklearn import metrics\n",
    "\n",
    "pd.DataFrame(metrics.confusion_matrix(y_test,lr_predictions), \n",
    "             index=['0','1'], columns=['0','1'])\n",
    "\n",
    "print(metrics.classification_report(y_test,lr_predictions))\n",
    "print(metrics.roc_auc_score(y_test,lr.predict_proba(X_test_vector)[:, 1]))"
   ]
  },
  {
   "cell_type": "markdown",
   "metadata": {},
   "source": [
    "## 2) Naive Bayes"
   ]
  },
  {
   "cell_type": "code",
   "execution_count": 205,
   "metadata": {},
   "outputs": [
    {
     "data": {
      "text/plain": [
       "GaussianNB()"
      ]
     },
     "execution_count": 205,
     "metadata": {},
     "output_type": "execute_result"
    }
   ],
   "source": [
    "from sklearn.naive_bayes import GaussianNB\n",
    "\n",
    "gnb=GaussianNB()\n",
    "gnb.fit(X_train_vector.toarray(), y_train)\n",
    "\n",
    "gnb_predictions = gnb.predict(X_test_vector.toarray())"
   ]
  },
  {
   "cell_type": "code",
   "execution_count": 206,
   "metadata": {},
   "outputs": [
    {
     "data": {
      "text/html": [
       "<div>\n",
       "<style scoped>\n",
       "    .dataframe tbody tr th:only-of-type {\n",
       "        vertical-align: middle;\n",
       "    }\n",
       "\n",
       "    .dataframe tbody tr th {\n",
       "        vertical-align: top;\n",
       "    }\n",
       "\n",
       "    .dataframe thead th {\n",
       "        text-align: right;\n",
       "    }\n",
       "</style>\n",
       "<table border=\"1\" class=\"dataframe\">\n",
       "  <thead>\n",
       "    <tr style=\"text-align: right;\">\n",
       "      <th></th>\n",
       "      <th>0</th>\n",
       "      <th>1</th>\n",
       "    </tr>\n",
       "  </thead>\n",
       "  <tbody>\n",
       "    <tr>\n",
       "      <th>0</th>\n",
       "      <td>220</td>\n",
       "      <td>168</td>\n",
       "    </tr>\n",
       "    <tr>\n",
       "      <th>1</th>\n",
       "      <td>92</td>\n",
       "      <td>312</td>\n",
       "    </tr>\n",
       "  </tbody>\n",
       "</table>\n",
       "</div>"
      ],
      "text/plain": [
       "     0    1\n",
       "0  220  168\n",
       "1   92  312"
      ]
     },
     "execution_count": 206,
     "metadata": {},
     "output_type": "execute_result"
    },
    {
     "name": "stdout",
     "output_type": "stream",
     "text": [
      "              precision    recall  f1-score   support\n",
      "\n",
      "           0       0.71      0.57      0.63       388\n",
      "           1       0.65      0.77      0.71       404\n",
      "\n",
      "    accuracy                           0.67       792\n",
      "   macro avg       0.68      0.67      0.67       792\n",
      "weighted avg       0.68      0.67      0.67       792\n",
      "\n",
      "0.6701796468306624\n"
     ]
    }
   ],
   "source": [
    "pd.DataFrame(metrics.confusion_matrix(y_test,gnb_predictions), \n",
    "             index=['0','1'], columns=['0','1'])\n",
    "\n",
    "print(metrics.classification_report(y_test,gnb_predictions))\n",
    "print(metrics.roc_auc_score(y_test,gnb.predict_proba(X_test_vector.toarray())[:, 1]))"
   ]
  },
  {
   "cell_type": "markdown",
   "metadata": {},
   "source": [
    "## 3) Support Vector Machine"
   ]
  },
  {
   "cell_type": "code",
   "execution_count": 207,
   "metadata": {},
   "outputs": [
    {
     "data": {
      "text/plain": [
       "SVC(C=0.025, kernel='linear')"
      ]
     },
     "execution_count": 207,
     "metadata": {},
     "output_type": "execute_result"
    }
   ],
   "source": [
    "from sklearn.svm import SVC\n",
    "\n",
    "svm = SVC(kernel=\"linear\", C=0.025)\n",
    "svm.fit(X_train_vector, y_train)\n",
    "\n",
    "svm_predictions = svm.predict(X_test_vector)"
   ]
  },
  {
   "cell_type": "code",
   "execution_count": 210,
   "metadata": {},
   "outputs": [
    {
     "data": {
      "text/html": [
       "<div>\n",
       "<style scoped>\n",
       "    .dataframe tbody tr th:only-of-type {\n",
       "        vertical-align: middle;\n",
       "    }\n",
       "\n",
       "    .dataframe tbody tr th {\n",
       "        vertical-align: top;\n",
       "    }\n",
       "\n",
       "    .dataframe thead th {\n",
       "        text-align: right;\n",
       "    }\n",
       "</style>\n",
       "<table border=\"1\" class=\"dataframe\">\n",
       "  <thead>\n",
       "    <tr style=\"text-align: right;\">\n",
       "      <th></th>\n",
       "      <th>0</th>\n",
       "      <th>1</th>\n",
       "    </tr>\n",
       "  </thead>\n",
       "  <tbody>\n",
       "    <tr>\n",
       "      <th>0</th>\n",
       "      <td>388</td>\n",
       "      <td>0</td>\n",
       "    </tr>\n",
       "    <tr>\n",
       "      <th>1</th>\n",
       "      <td>403</td>\n",
       "      <td>1</td>\n",
       "    </tr>\n",
       "  </tbody>\n",
       "</table>\n",
       "</div>"
      ],
      "text/plain": [
       "     0  1\n",
       "0  388  0\n",
       "1  403  1"
      ]
     },
     "execution_count": 210,
     "metadata": {},
     "output_type": "execute_result"
    },
    {
     "name": "stdout",
     "output_type": "stream",
     "text": [
      "              precision    recall  f1-score   support\n",
      "\n",
      "           0       0.49      1.00      0.66       388\n",
      "           1       1.00      0.00      0.00       404\n",
      "\n",
      "    accuracy                           0.49       792\n",
      "   macro avg       0.75      0.50      0.33       792\n",
      "weighted avg       0.75      0.49      0.32       792\n",
      "\n"
     ]
    }
   ],
   "source": [
    "pd.DataFrame(metrics.confusion_matrix(y_test,svm_predictions), \n",
    "             index=['0','1'], columns=['0','1'])\n",
    "\n",
    "print(metrics.classification_report(y_test,svm_predictions))"
   ]
  },
  {
   "cell_type": "markdown",
   "metadata": {},
   "source": [
    "### Logistic Regression yielded the best score amongst LR, Naive Bayes and SVM"
   ]
  },
  {
   "cell_type": "markdown",
   "metadata": {},
   "source": [
    "# Limited Text Preprocessing (removing stopword remover and Lemmatizer) + Using Vectorizer with n-gram range + Logistic Regression"
   ]
  },
  {
   "cell_type": "code",
   "execution_count": 18,
   "metadata": {},
   "outputs": [],
   "source": [
    "corpus2 = []\n",
    "\n",
    "for i in range(len(text)):\n",
    "    r = re.sub('[^a-zA-Z]', ' ', text[i])\n",
    "    r = r.lower()\n",
    "    r = r.split()\n",
    "    r = ' '.join(r)\n",
    "    corpus2.append(r)"
   ]
  },
  {
   "cell_type": "code",
   "execution_count": 19,
   "metadata": {},
   "outputs": [
    {
     "data": {
      "text/plain": [
       "'wow loved this place'"
      ]
     },
     "execution_count": 19,
     "metadata": {},
     "output_type": "execute_result"
    }
   ],
   "source": [
    "corpus2[0]"
   ]
  },
  {
   "cell_type": "code",
   "execution_count": 20,
   "metadata": {},
   "outputs": [
    {
     "name": "stdout",
     "output_type": "stream",
     "text": [
      "Training Data : (1608,)\n",
      "Testing Data :  (792,)\n"
     ]
    },
    {
     "data": {
      "text/plain": [
       "(1608, 13876)"
      ]
     },
     "execution_count": 20,
     "metadata": {},
     "output_type": "execute_result"
    },
    {
     "data": {
      "text/plain": [
       "LogisticRegression()"
      ]
     },
     "execution_count": 20,
     "metadata": {},
     "output_type": "execute_result"
    },
    {
     "data": {
      "text/html": [
       "<div>\n",
       "<style scoped>\n",
       "    .dataframe tbody tr th:only-of-type {\n",
       "        vertical-align: middle;\n",
       "    }\n",
       "\n",
       "    .dataframe tbody tr th {\n",
       "        vertical-align: top;\n",
       "    }\n",
       "\n",
       "    .dataframe thead th {\n",
       "        text-align: right;\n",
       "    }\n",
       "</style>\n",
       "<table border=\"1\" class=\"dataframe\">\n",
       "  <thead>\n",
       "    <tr style=\"text-align: right;\">\n",
       "      <th></th>\n",
       "      <th>0</th>\n",
       "      <th>1</th>\n",
       "    </tr>\n",
       "  </thead>\n",
       "  <tbody>\n",
       "    <tr>\n",
       "      <th>0</th>\n",
       "      <td>327</td>\n",
       "      <td>61</td>\n",
       "    </tr>\n",
       "    <tr>\n",
       "      <th>1</th>\n",
       "      <td>86</td>\n",
       "      <td>318</td>\n",
       "    </tr>\n",
       "  </tbody>\n",
       "</table>\n",
       "</div>"
      ],
      "text/plain": [
       "     0    1\n",
       "0  327   61\n",
       "1   86  318"
      ]
     },
     "execution_count": 20,
     "metadata": {},
     "output_type": "execute_result"
    },
    {
     "name": "stdout",
     "output_type": "stream",
     "text": [
      "              precision    recall  f1-score   support\n",
      "\n",
      "           0       0.79      0.84      0.82       388\n",
      "           1       0.84      0.79      0.81       404\n",
      "\n",
      "    accuracy                           0.81       792\n",
      "   macro avg       0.82      0.81      0.81       792\n",
      "weighted avg       0.82      0.81      0.81       792\n",
      "\n",
      "0.9062946565275083\n"
     ]
    }
   ],
   "source": [
    "# train test split (66% train - 33% test)\n",
    "X = np.array(corpus2)\n",
    "y = df_train['Polarity']\n",
    "\n",
    "from sklearn.model_selection import train_test_split\n",
    "X_train, X_test, y_train, y_test = train_test_split(X, y, test_size=0.33, \n",
    "                                                    random_state=123)\n",
    "\n",
    "print('Training Data :', X_train.shape)\n",
    "print('Testing Data : ', X_test.shape)\n",
    "\n",
    "tfidf = TfidfVectorizer(ngram_range=(1, 2))\n",
    "\n",
    "# fit transform the TfidfVectorizer\n",
    "X_train_vector= tfidf.fit_transform(X_train)\n",
    "X_train_vector.shape\n",
    "\n",
    "lr = LogisticRegression()\n",
    "lr.fit(X_train_vector, y_train)\n",
    "\n",
    "X_test_vector = tfidf.transform(X_test)\n",
    "lr_predictions = lr.predict(X_test_vector)\n",
    "\n",
    "pd.DataFrame(metrics.confusion_matrix(y_test,lr_predictions), \n",
    "             index=['0','1'], columns=['0','1'])\n",
    "\n",
    "print(metrics.classification_report(y_test,lr_predictions))\n",
    "print(metrics.roc_auc_score(y_test,lr.predict_proba(X_test_vector)[:, 1]))"
   ]
  },
  {
   "cell_type": "markdown",
   "metadata": {},
   "source": [
    "### AUC has improved from 0.8737 to 0.9063 with these steps while accuracy/F1 scores have increased from 0.78 to 0.81\n",
    "### This suggests that removing stopwords or lemmatizing words lowered the ability of the algorithm to differentiate between positive and negative sentences as some negative words such as 'not', 'dont', 'no' are considered as stopwords by NLTK. Another observation is that using n-gram range (1,2) helps the algorithm as there are some bigrams in the sentences as well"
   ]
  },
  {
   "cell_type": "markdown",
   "metadata": {},
   "source": [
    "## HyperParameter Tuning"
   ]
  },
  {
   "cell_type": "code",
   "execution_count": 21,
   "metadata": {},
   "outputs": [],
   "source": [
    "def objective_lr(trial,X_train_vector,y_train):\n",
    "    \n",
    "    hyper_params_lr = {\n",
    "        \"class_weight\": trial.suggest_categorical(\"class_weight\",[\"balanced\",None]),\n",
    "        \"max_iter\": trial.suggest_int(\"max_iter\",100,10000,step=10),\n",
    "        \"multi_class\": trial.suggest_categorical(\"multi_class\",\n",
    "                                                 [\"auto\",\"ovr\",\"multinomial\"]),\n",
    "        \"C\": trial.suggest_float(\"C\",0.1,100,step=0.1),    \n",
    "        \"random_state\": 17,\n",
    "}\n",
    "\n",
    "    \n",
    "    \n",
    "    LR = LogisticRegression(**hyper_params_lr)\n",
    "    \n",
    "    cv_scores_lr = cross_val_score(LR,X_train_vector,y_train,cv=2,scoring=\"f1_micro\")\n",
    "    score = np.mean(cv_scores_lr)\n",
    "    \n",
    "    return score"
   ]
  },
  {
   "cell_type": "code",
   "execution_count": 22,
   "metadata": {},
   "outputs": [
    {
     "name": "stderr",
     "output_type": "stream",
     "text": [
      "\u001b[32m[I 2022-10-13 21:34:15,289]\u001b[0m A new study created in memory with name: no-name-3cf248a1-5c87-4c8a-ad05-80f4fc9e999e\u001b[0m\n"
     ]
    }
   ],
   "source": [
    "study = optuna.create_study(direction=\"maximize\")"
   ]
  },
  {
   "cell_type": "code",
   "execution_count": 23,
   "metadata": {
    "scrolled": true
   },
   "outputs": [
    {
     "name": "stderr",
     "output_type": "stream",
     "text": [
      "\u001b[32m[I 2022-10-13 21:34:18,758]\u001b[0m Trial 0 finished with value: 0.7804726368159205 and parameters: {'class_weight': 'balanced', 'max_iter': 590, 'multi_class': 'auto', 'C': 65.89999999999999}. Best is trial 0 with value: 0.7804726368159205.\u001b[0m\n",
      "\u001b[32m[I 2022-10-13 21:34:19,085]\u001b[0m Trial 1 finished with value: 0.7810945273631842 and parameters: {'class_weight': 'balanced', 'max_iter': 5110, 'multi_class': 'ovr', 'C': 75.0}. Best is trial 1 with value: 0.7810945273631842.\u001b[0m\n",
      "\u001b[32m[I 2022-10-13 21:34:19,307]\u001b[0m Trial 2 finished with value: 0.7730099502487563 and parameters: {'class_weight': 'balanced', 'max_iter': 370, 'multi_class': 'ovr', 'C': 3.9000000000000004}. Best is trial 1 with value: 0.7810945273631842.\u001b[0m\n",
      "\u001b[32m[I 2022-10-13 21:34:19,535]\u001b[0m Trial 3 finished with value: 0.7730099502487562 and parameters: {'class_weight': None, 'max_iter': 8770, 'multi_class': 'auto', 'C': 6.5}. Best is trial 1 with value: 0.7810945273631842.\u001b[0m\n",
      "\u001b[32m[I 2022-10-13 21:34:19,843]\u001b[0m Trial 4 finished with value: 0.779228855721393 and parameters: {'class_weight': None, 'max_iter': 4400, 'multi_class': 'ovr', 'C': 49.2}. Best is trial 1 with value: 0.7810945273631842.\u001b[0m\n",
      "\u001b[32m[I 2022-10-13 21:34:20,360]\u001b[0m Trial 5 finished with value: 0.7804726368159205 and parameters: {'class_weight': 'balanced', 'max_iter': 4780, 'multi_class': 'multinomial', 'C': 88.5}. Best is trial 1 with value: 0.7810945273631842.\u001b[0m\n",
      "\u001b[32m[I 2022-10-13 21:34:20,618]\u001b[0m Trial 6 finished with value: 0.7810945273631842 and parameters: {'class_weight': 'balanced', 'max_iter': 5010, 'multi_class': 'ovr', 'C': 80.5}. Best is trial 1 with value: 0.7810945273631842.\u001b[0m\n",
      "\u001b[32m[I 2022-10-13 21:34:20,916]\u001b[0m Trial 7 finished with value: 0.779228855721393 and parameters: {'class_weight': None, 'max_iter': 5260, 'multi_class': 'auto', 'C': 49.1}. Best is trial 1 with value: 0.7810945273631842.\u001b[0m\n",
      "\u001b[32m[I 2022-10-13 21:34:21,283]\u001b[0m Trial 8 finished with value: 0.7804726368159205 and parameters: {'class_weight': 'balanced', 'max_iter': 7540, 'multi_class': 'ovr', 'C': 92.9}. Best is trial 1 with value: 0.7810945273631842.\u001b[0m\n",
      "\u001b[32m[I 2022-10-13 21:34:21,569]\u001b[0m Trial 9 finished with value: 0.7804726368159205 and parameters: {'class_weight': 'balanced', 'max_iter': 1170, 'multi_class': 'ovr', 'C': 87.5}. Best is trial 1 with value: 0.7810945273631842.\u001b[0m\n",
      "\u001b[32m[I 2022-10-13 21:34:21,946]\u001b[0m Trial 10 finished with value: 0.7792288557213931 and parameters: {'class_weight': None, 'max_iter': 3040, 'multi_class': 'multinomial', 'C': 28.400000000000002}. Best is trial 1 with value: 0.7810945273631842.\u001b[0m\n",
      "\u001b[32m[I 2022-10-13 21:34:22,195]\u001b[0m Trial 11 finished with value: 0.7786069651741294 and parameters: {'class_weight': None, 'max_iter': 6780, 'multi_class': 'ovr', 'C': 71.0}. Best is trial 1 with value: 0.7810945273631842.\u001b[0m\n",
      "\u001b[32m[I 2022-10-13 21:34:22,468]\u001b[0m Trial 12 finished with value: 0.7786069651741294 and parameters: {'class_weight': None, 'max_iter': 2710, 'multi_class': 'ovr', 'C': 70.6}. Best is trial 1 with value: 0.7810945273631842.\u001b[0m\n",
      "\u001b[32m[I 2022-10-13 21:34:22,777]\u001b[0m Trial 13 finished with value: 0.7792288557213931 and parameters: {'class_weight': None, 'max_iter': 6890, 'multi_class': 'ovr', 'C': 99.5}. Best is trial 1 with value: 0.7810945273631842.\u001b[0m\n",
      "\u001b[32m[I 2022-10-13 21:34:23,243]\u001b[0m Trial 14 finished with value: 0.7798507462686568 and parameters: {'class_weight': None, 'max_iter': 9900, 'multi_class': 'multinomial', 'C': 61.50000000000001}. Best is trial 1 with value: 0.7810945273631842.\u001b[0m\n",
      "\u001b[32m[I 2022-10-13 21:34:23,526]\u001b[0m Trial 15 finished with value: 0.7786069651741294 and parameters: {'class_weight': None, 'max_iter': 5660, 'multi_class': 'ovr', 'C': 81.6}. Best is trial 1 with value: 0.7810945273631842.\u001b[0m\n",
      "\u001b[32m[I 2022-10-13 21:34:23,808]\u001b[0m Trial 16 finished with value: 0.7779850746268657 and parameters: {'class_weight': None, 'max_iter': 3420, 'multi_class': 'ovr', 'C': 77.3}. Best is trial 1 with value: 0.7810945273631842.\u001b[0m\n",
      "\u001b[32m[I 2022-10-13 21:34:24,056]\u001b[0m Trial 17 finished with value: 0.7792288557213931 and parameters: {'class_weight': None, 'max_iter': 5830, 'multi_class': 'ovr', 'C': 55.900000000000006}. Best is trial 1 with value: 0.7810945273631842.\u001b[0m\n",
      "\u001b[32m[I 2022-10-13 21:34:24,340]\u001b[0m Trial 18 finished with value: 0.7761194029850746 and parameters: {'class_weight': None, 'max_iter': 3930, 'multi_class': 'auto', 'C': 19.800000000000004}. Best is trial 1 with value: 0.7810945273631842.\u001b[0m\n",
      "\u001b[32m[I 2022-10-13 21:34:24,756]\u001b[0m Trial 19 finished with value: 0.7779850746268657 and parameters: {'class_weight': None, 'max_iter': 2500, 'multi_class': 'multinomial', 'C': 37.800000000000004}. Best is trial 1 with value: 0.7810945273631842.\u001b[0m\n",
      "\u001b[32m[I 2022-10-13 21:34:25,022]\u001b[0m Trial 20 finished with value: 0.7786069651741294 and parameters: {'class_weight': None, 'max_iter': 7920, 'multi_class': 'ovr', 'C': 79.8}. Best is trial 1 with value: 0.7810945273631842.\u001b[0m\n",
      "\u001b[32m[I 2022-10-13 21:34:25,293]\u001b[0m Trial 21 finished with value: 0.7786069651741294 and parameters: {'class_weight': None, 'max_iter': 1900, 'multi_class': 'auto', 'C': 67.6}. Best is trial 1 with value: 0.7810945273631842.\u001b[0m\n",
      "\u001b[32m[I 2022-10-13 21:34:25,604]\u001b[0m Trial 22 finished with value: 0.7786069651741294 and parameters: {'class_weight': None, 'max_iter': 320, 'multi_class': 'auto', 'C': 61.2}. Best is trial 1 with value: 0.7810945273631842.\u001b[0m\n",
      "\u001b[32m[I 2022-10-13 21:34:25,941]\u001b[0m Trial 23 finished with value: 0.7779850746268657 and parameters: {'class_weight': None, 'max_iter': 6330, 'multi_class': 'auto', 'C': 76.6}. Best is trial 1 with value: 0.7810945273631842.\u001b[0m\n",
      "\u001b[32m[I 2022-10-13 21:34:26,185]\u001b[0m Trial 24 finished with value: 0.779228855721393 and parameters: {'class_weight': None, 'max_iter': 1530, 'multi_class': 'auto', 'C': 40.6}. Best is trial 1 with value: 0.7810945273631842.\u001b[0m\n",
      "\u001b[32m[I 2022-10-13 21:34:26,434]\u001b[0m Trial 25 finished with value: 0.7786069651741294 and parameters: {'class_weight': None, 'max_iter': 3830, 'multi_class': 'auto', 'C': 64.2}. Best is trial 1 with value: 0.7810945273631842.\u001b[0m\n",
      "\u001b[32m[I 2022-10-13 21:34:26,742]\u001b[0m Trial 26 finished with value: 0.7792288557213931 and parameters: {'class_weight': None, 'max_iter': 4610, 'multi_class': 'ovr', 'C': 53.800000000000004}. Best is trial 1 with value: 0.7810945273631842.\u001b[0m\n",
      "\u001b[32m[I 2022-10-13 21:34:27,148]\u001b[0m Trial 27 finished with value: 0.7810945273631841 and parameters: {'class_weight': None, 'max_iter': 8480, 'multi_class': 'multinomial', 'C': 99.0}. Best is trial 1 with value: 0.7810945273631842.\u001b[0m\n",
      "\u001b[32m[I 2022-10-13 21:34:27,597]\u001b[0m Trial 28 finished with value: 0.7810945273631841 and parameters: {'class_weight': None, 'max_iter': 8820, 'multi_class': 'multinomial', 'C': 97.6}. Best is trial 1 with value: 0.7810945273631842.\u001b[0m\n",
      "\u001b[32m[I 2022-10-13 21:34:28,013]\u001b[0m Trial 29 finished with value: 0.7810945273631841 and parameters: {'class_weight': None, 'max_iter': 9600, 'multi_class': 'multinomial', 'C': 89.7}. Best is trial 1 with value: 0.7810945273631842.\u001b[0m\n",
      "\u001b[32m[I 2022-10-13 21:34:28,495]\u001b[0m Trial 30 finished with value: 0.7810945273631841 and parameters: {'class_weight': None, 'max_iter': 9880, 'multi_class': 'multinomial', 'C': 85.7}. Best is trial 1 with value: 0.7810945273631842.\u001b[0m\n",
      "\u001b[32m[I 2022-10-13 21:34:28,942]\u001b[0m Trial 31 finished with value: 0.7810945273631841 and parameters: {'class_weight': None, 'max_iter': 9260, 'multi_class': 'multinomial', 'C': 84.9}. Best is trial 1 with value: 0.7810945273631842.\u001b[0m\n",
      "\u001b[32m[I 2022-10-13 21:34:29,425]\u001b[0m Trial 32 finished with value: 0.7810945273631841 and parameters: {'class_weight': None, 'max_iter': 9530, 'multi_class': 'multinomial', 'C': 93.2}. Best is trial 1 with value: 0.7810945273631842.\u001b[0m\n",
      "\u001b[32m[I 2022-10-13 21:34:29,884]\u001b[0m Trial 33 finished with value: 0.7804726368159205 and parameters: {'class_weight': None, 'max_iter': 7490, 'multi_class': 'multinomial', 'C': 75.0}. Best is trial 1 with value: 0.7810945273631842.\u001b[0m\n",
      "\u001b[32m[I 2022-10-13 21:34:30,374]\u001b[0m Trial 34 finished with value: 0.7810945273631841 and parameters: {'class_weight': None, 'max_iter': 9060, 'multi_class': 'multinomial', 'C': 82.7}. Best is trial 1 with value: 0.7810945273631842.\u001b[0m\n"
     ]
    },
    {
     "name": "stderr",
     "output_type": "stream",
     "text": [
      "\u001b[32m[I 2022-10-13 21:34:30,806]\u001b[0m Trial 35 finished with value: 0.7810945273631841 and parameters: {'class_weight': None, 'max_iter': 8350, 'multi_class': 'multinomial', 'C': 93.5}. Best is trial 1 with value: 0.7810945273631842.\u001b[0m\n",
      "\u001b[32m[I 2022-10-13 21:34:31,237]\u001b[0m Trial 36 finished with value: 0.7810945273631841 and parameters: {'class_weight': None, 'max_iter': 8310, 'multi_class': 'multinomial', 'C': 92.4}. Best is trial 1 with value: 0.7810945273631842.\u001b[0m\n",
      "\u001b[32m[I 2022-10-13 21:34:31,537]\u001b[0m Trial 37 finished with value: 0.7786069651741294 and parameters: {'class_weight': None, 'max_iter': 5180, 'multi_class': 'ovr', 'C': 82.1}. Best is trial 1 with value: 0.7810945273631842.\u001b[0m\n",
      "\u001b[32m[I 2022-10-13 21:34:31,819]\u001b[0m Trial 38 finished with value: 0.7786069651741294 and parameters: {'class_weight': None, 'max_iter': 7070, 'multi_class': 'ovr', 'C': 91.7}. Best is trial 1 with value: 0.7810945273631842.\u001b[0m\n",
      "\u001b[32m[I 2022-10-13 21:34:32,334]\u001b[0m Trial 39 finished with value: 0.7810945273631841 and parameters: {'class_weight': None, 'max_iter': 8450, 'multi_class': 'multinomial', 'C': 93.0}. Best is trial 1 with value: 0.7810945273631842.\u001b[0m\n",
      "\u001b[32m[I 2022-10-13 21:34:32,534]\u001b[0m Trial 40 finished with value: 0.7512437810945273 and parameters: {'class_weight': None, 'max_iter': 6230, 'multi_class': 'ovr', 'C': 0.5}. Best is trial 1 with value: 0.7810945273631842.\u001b[0m\n",
      "\u001b[32m[I 2022-10-13 21:34:32,991]\u001b[0m Trial 41 finished with value: 0.7810945273631841 and parameters: {'class_weight': None, 'max_iter': 9500, 'multi_class': 'multinomial', 'C': 100.0}. Best is trial 1 with value: 0.7810945273631842.\u001b[0m\n",
      "\u001b[32m[I 2022-10-13 21:34:33,415]\u001b[0m Trial 42 finished with value: 0.7810945273631841 and parameters: {'class_weight': None, 'max_iter': 7980, 'multi_class': 'multinomial', 'C': 95.5}. Best is trial 1 with value: 0.7810945273631842.\u001b[0m\n",
      "\u001b[32m[I 2022-10-13 21:34:33,855]\u001b[0m Trial 43 finished with value: 0.7798507462686568 and parameters: {'class_weight': None, 'max_iter': 7850, 'multi_class': 'multinomial', 'C': 72.3}. Best is trial 1 with value: 0.7810945273631842.\u001b[0m\n",
      "\u001b[32m[I 2022-10-13 21:34:34,303]\u001b[0m Trial 44 finished with value: 0.7810945273631841 and parameters: {'class_weight': None, 'max_iter': 4310, 'multi_class': 'multinomial', 'C': 96.1}. Best is trial 1 with value: 0.7810945273631842.\u001b[0m\n",
      "\u001b[32m[I 2022-10-13 21:34:34,745]\u001b[0m Trial 45 finished with value: 0.7810945273631841 and parameters: {'class_weight': None, 'max_iter': 4310, 'multi_class': 'multinomial', 'C': 97.2}. Best is trial 1 with value: 0.7810945273631842.\u001b[0m\n",
      "\u001b[32m[I 2022-10-13 21:34:35,060]\u001b[0m Trial 46 finished with value: 0.7786069651741294 and parameters: {'class_weight': None, 'max_iter': 4950, 'multi_class': 'ovr', 'C': 87.9}. Best is trial 1 with value: 0.7810945273631842.\u001b[0m\n",
      "\u001b[32m[I 2022-10-13 21:34:35,366]\u001b[0m Trial 47 finished with value: 0.7786069651741294 and parameters: {'class_weight': None, 'max_iter': 8770, 'multi_class': 'ovr', 'C': 89.6}. Best is trial 1 with value: 0.7810945273631842.\u001b[0m\n",
      "\u001b[32m[I 2022-10-13 21:34:35,949]\u001b[0m Trial 48 finished with value: 0.7810945273631841 and parameters: {'class_weight': None, 'max_iter': 9590, 'multi_class': 'multinomial', 'C': 99.8}. Best is trial 1 with value: 0.7810945273631842.\u001b[0m\n",
      "\u001b[32m[I 2022-10-13 21:34:36,312]\u001b[0m Trial 49 finished with value: 0.7786069651741294 and parameters: {'class_weight': None, 'max_iter': 9790, 'multi_class': 'ovr', 'C': 86.2}. Best is trial 1 with value: 0.7810945273631842.\u001b[0m\n",
      "\u001b[32m[I 2022-10-13 21:34:36,823]\u001b[0m Trial 50 finished with value: 0.7810945273631841 and parameters: {'class_weight': None, 'max_iter': 5590, 'multi_class': 'multinomial', 'C': 78.4}. Best is trial 1 with value: 0.7810945273631842.\u001b[0m\n",
      "\u001b[32m[I 2022-10-13 21:34:37,254]\u001b[0m Trial 51 finished with value: 0.7810945273631841 and parameters: {'class_weight': None, 'max_iter': 5540, 'multi_class': 'multinomial', 'C': 85.8}. Best is trial 1 with value: 0.7810945273631842.\u001b[0m\n",
      "\u001b[32m[I 2022-10-13 21:34:37,795]\u001b[0m Trial 52 finished with value: 0.7810945273631841 and parameters: {'class_weight': None, 'max_iter': 10000, 'multi_class': 'multinomial', 'C': 84.4}. Best is trial 1 with value: 0.7810945273631842.\u001b[0m\n",
      "\u001b[32m[I 2022-10-13 21:34:38,239]\u001b[0m Trial 53 finished with value: 0.7798507462686568 and parameters: {'class_weight': None, 'max_iter': 9880, 'multi_class': 'multinomial', 'C': 69.0}. Best is trial 1 with value: 0.7810945273631842.\u001b[0m\n",
      "\u001b[32m[I 2022-10-13 21:34:38,700]\u001b[0m Trial 54 finished with value: 0.7804726368159205 and parameters: {'class_weight': None, 'max_iter': 9000, 'multi_class': 'multinomial', 'C': 73.8}. Best is trial 1 with value: 0.7810945273631842.\u001b[0m\n",
      "\u001b[32m[I 2022-10-13 21:34:39,026]\u001b[0m Trial 55 finished with value: 0.7786069651741294 and parameters: {'class_weight': None, 'max_iter': 9230, 'multi_class': 'ovr', 'C': 80.1}. Best is trial 1 with value: 0.7810945273631842.\u001b[0m\n",
      "\u001b[32m[I 2022-10-13 21:34:39,516]\u001b[0m Trial 56 finished with value: 0.7810945273631841 and parameters: {'class_weight': None, 'max_iter': 800, 'multi_class': 'multinomial', 'C': 89.1}. Best is trial 1 with value: 0.7810945273631842.\u001b[0m\n",
      "\u001b[32m[I 2022-10-13 21:34:39,788]\u001b[0m Trial 57 finished with value: 0.7786069651741294 and parameters: {'class_weight': None, 'max_iter': 8730, 'multi_class': 'ovr', 'C': 84.7}. Best is trial 1 with value: 0.7810945273631842.\u001b[0m\n",
      "\u001b[32m[I 2022-10-13 21:34:40,181]\u001b[0m Trial 58 finished with value: 0.7786069651741294 and parameters: {'class_weight': None, 'max_iter': 9200, 'multi_class': 'multinomial', 'C': 44.7}. Best is trial 1 with value: 0.7810945273631842.\u001b[0m\n",
      "\u001b[32m[I 2022-10-13 21:34:40,429]\u001b[0m Trial 59 finished with value: 0.7786069651741294 and parameters: {'class_weight': None, 'max_iter': 9390, 'multi_class': 'ovr', 'C': 62.400000000000006}. Best is trial 1 with value: 0.7810945273631842.\u001b[0m\n",
      "\u001b[32m[I 2022-10-13 21:34:40,895]\u001b[0m Trial 60 finished with value: 0.7798507462686568 and parameters: {'class_weight': None, 'max_iter': 3310, 'multi_class': 'multinomial', 'C': 66.39999999999999}. Best is trial 1 with value: 0.7810945273631842.\u001b[0m\n",
      "\u001b[32m[I 2022-10-13 21:34:41,347]\u001b[0m Trial 61 finished with value: 0.7810945273631841 and parameters: {'class_weight': None, 'max_iter': 9100, 'multi_class': 'multinomial', 'C': 82.5}. Best is trial 1 with value: 0.7810945273631842.\u001b[0m\n",
      "\u001b[32m[I 2022-10-13 21:34:41,734]\u001b[0m Trial 62 finished with value: 0.775497512437811 and parameters: {'class_weight': None, 'max_iter': 9520, 'multi_class': 'multinomial', 'C': 14.4}. Best is trial 1 with value: 0.7810945273631842.\u001b[0m\n",
      "\u001b[32m[I 2022-10-13 21:34:42,150]\u001b[0m Trial 63 finished with value: 0.7810945273631841 and parameters: {'class_weight': None, 'max_iter': 9680, 'multi_class': 'multinomial', 'C': 79.2}. Best is trial 1 with value: 0.7810945273631842.\u001b[0m\n",
      "\u001b[32m[I 2022-10-13 21:34:42,590]\u001b[0m Trial 64 finished with value: 0.7810945273631841 and parameters: {'class_weight': None, 'max_iter': 7400, 'multi_class': 'multinomial', 'C': 88.9}. Best is trial 1 with value: 0.7810945273631842.\u001b[0m\n",
      "\u001b[32m[I 2022-10-13 21:34:42,950]\u001b[0m Trial 65 finished with value: 0.7786069651741294 and parameters: {'class_weight': None, 'max_iter': 10000, 'multi_class': 'auto', 'C': 78.0}. Best is trial 1 with value: 0.7810945273631842.\u001b[0m\n",
      "\u001b[32m[I 2022-10-13 21:34:43,420]\u001b[0m Trial 66 finished with value: 0.7810945273631841 and parameters: {'class_weight': None, 'max_iter': 6060, 'multi_class': 'multinomial', 'C': 88.4}. Best is trial 1 with value: 0.7810945273631842.\u001b[0m\n",
      "\u001b[32m[I 2022-10-13 21:34:43,870]\u001b[0m Trial 67 finished with value: 0.7792288557213931 and parameters: {'class_weight': None, 'max_iter': 6570, 'multi_class': 'multinomial', 'C': 57.800000000000004}. Best is trial 1 with value: 0.7810945273631842.\u001b[0m\n",
      "\u001b[32m[I 2022-10-13 21:34:44,190]\u001b[0m Trial 68 finished with value: 0.7786069651741294 and parameters: {'class_weight': None, 'max_iter': 4010, 'multi_class': 'ovr', 'C': 94.6}. Best is trial 1 with value: 0.7810945273631842.\u001b[0m\n",
      "\u001b[32m[I 2022-10-13 21:34:44,707]\u001b[0m Trial 69 finished with value: 0.7810945273631841 and parameters: {'class_weight': None, 'max_iter': 2340, 'multi_class': 'multinomial', 'C': 82.7}. Best is trial 1 with value: 0.7810945273631842.\u001b[0m\n"
     ]
    },
    {
     "name": "stderr",
     "output_type": "stream",
     "text": [
      "\u001b[32m[I 2022-10-13 21:34:45,056]\u001b[0m Trial 70 finished with value: 0.7779850746268657 and parameters: {'class_weight': None, 'max_iter': 8890, 'multi_class': 'auto', 'C': 75.2}. Best is trial 1 with value: 0.7810945273631842.\u001b[0m\n",
      "\u001b[32m[I 2022-10-13 21:34:45,590]\u001b[0m Trial 71 finished with value: 0.7810945273631841 and parameters: {'class_weight': None, 'max_iter': 8480, 'multi_class': 'multinomial', 'C': 91.2}. Best is trial 1 with value: 0.7810945273631842.\u001b[0m\n",
      "\u001b[32m[I 2022-10-13 21:34:46,138]\u001b[0m Trial 72 finished with value: 0.7810945273631841 and parameters: {'class_weight': None, 'max_iter': 9320, 'multi_class': 'multinomial', 'C': 92.6}. Best is trial 1 with value: 0.7810945273631842.\u001b[0m\n",
      "\u001b[32m[I 2022-10-13 21:34:46,585]\u001b[0m Trial 73 finished with value: 0.7810945273631841 and parameters: {'class_weight': None, 'max_iter': 8540, 'multi_class': 'multinomial', 'C': 81.6}. Best is trial 1 with value: 0.7810945273631842.\u001b[0m\n",
      "\u001b[32m[I 2022-10-13 21:34:47,101]\u001b[0m Trial 74 finished with value: 0.7810945273631841 and parameters: {'class_weight': None, 'max_iter': 8010, 'multi_class': 'multinomial', 'C': 94.0}. Best is trial 1 with value: 0.7810945273631842.\u001b[0m\n",
      "\u001b[32m[I 2022-10-13 21:34:47,561]\u001b[0m Trial 75 finished with value: 0.7810945273631841 and parameters: {'class_weight': None, 'max_iter': 8080, 'multi_class': 'multinomial', 'C': 97.4}. Best is trial 1 with value: 0.7810945273631842.\u001b[0m\n",
      "\u001b[32m[I 2022-10-13 21:34:47,927]\u001b[0m Trial 76 finished with value: 0.7792288557213931 and parameters: {'class_weight': None, 'max_iter': 8060, 'multi_class': 'ovr', 'C': 97.5}. Best is trial 1 with value: 0.7810945273631842.\u001b[0m\n",
      "\u001b[32m[I 2022-10-13 21:34:48,375]\u001b[0m Trial 77 finished with value: 0.7810945273631841 and parameters: {'class_weight': None, 'max_iter': 4360, 'multi_class': 'multinomial', 'C': 100.0}. Best is trial 1 with value: 0.7810945273631842.\u001b[0m\n",
      "\u001b[32m[I 2022-10-13 21:34:48,847]\u001b[0m Trial 78 finished with value: 0.7810945273631841 and parameters: {'class_weight': None, 'max_iter': 4330, 'multi_class': 'multinomial', 'C': 96.2}. Best is trial 1 with value: 0.7810945273631842.\u001b[0m\n",
      "\u001b[32m[I 2022-10-13 21:34:49,147]\u001b[0m Trial 79 finished with value: 0.7786069651741294 and parameters: {'class_weight': None, 'max_iter': 8320, 'multi_class': 'ovr', 'C': 94.4}. Best is trial 1 with value: 0.7810945273631842.\u001b[0m\n",
      "\u001b[32m[I 2022-10-13 21:34:49,588]\u001b[0m Trial 80 finished with value: 0.7810945273631841 and parameters: {'class_weight': None, 'max_iter': 4780, 'multi_class': 'multinomial', 'C': 96.9}. Best is trial 1 with value: 0.7810945273631842.\u001b[0m\n",
      "\u001b[32m[I 2022-10-13 21:34:50,020]\u001b[0m Trial 81 finished with value: 0.7810945273631841 and parameters: {'class_weight': None, 'max_iter': 4800, 'multi_class': 'multinomial', 'C': 99.9}. Best is trial 1 with value: 0.7810945273631842.\u001b[0m\n",
      "\u001b[32m[I 2022-10-13 21:34:50,451]\u001b[0m Trial 82 finished with value: 0.7810945273631841 and parameters: {'class_weight': None, 'max_iter': 4850, 'multi_class': 'multinomial', 'C': 96.6}. Best is trial 1 with value: 0.7810945273631842.\u001b[0m\n",
      "\u001b[32m[I 2022-10-13 21:34:50,868]\u001b[0m Trial 83 finished with value: 0.7810945273631841 and parameters: {'class_weight': None, 'max_iter': 7680, 'multi_class': 'multinomial', 'C': 91.4}. Best is trial 1 with value: 0.7810945273631842.\u001b[0m\n",
      "\u001b[32m[I 2022-10-13 21:34:51,336]\u001b[0m Trial 84 finished with value: 0.7810945273631841 and parameters: {'class_weight': None, 'max_iter': 5260, 'multi_class': 'multinomial', 'C': 94.4}. Best is trial 1 with value: 0.7810945273631842.\u001b[0m\n",
      "\u001b[32m[I 2022-10-13 21:34:51,815]\u001b[0m Trial 85 finished with value: 0.7810945273631841 and parameters: {'class_weight': None, 'max_iter': 7250, 'multi_class': 'multinomial', 'C': 91.8}. Best is trial 1 with value: 0.7810945273631842.\u001b[0m\n",
      "\u001b[32m[I 2022-10-13 21:34:52,267]\u001b[0m Trial 86 finished with value: 0.7810945273631841 and parameters: {'class_weight': None, 'max_iter': 5340, 'multi_class': 'multinomial', 'C': 94.6}. Best is trial 1 with value: 0.7810945273631842.\u001b[0m\n",
      "\u001b[32m[I 2022-10-13 21:34:52,612]\u001b[0m Trial 87 finished with value: 0.7767412935323383 and parameters: {'class_weight': None, 'max_iter': 5590, 'multi_class': 'ovr', 'C': 31.200000000000003}. Best is trial 1 with value: 0.7810945273631842.\u001b[0m\n",
      "\u001b[32m[I 2022-10-13 21:34:52,938]\u001b[0m Trial 88 finished with value: 0.7786069651741294 and parameters: {'class_weight': None, 'max_iter': 8840, 'multi_class': 'auto', 'C': 84.8}. Best is trial 1 with value: 0.7810945273631842.\u001b[0m\n",
      "\u001b[32m[I 2022-10-13 21:34:53,401]\u001b[0m Trial 89 finished with value: 0.7798507462686568 and parameters: {'class_weight': None, 'max_iter': 5450, 'multi_class': 'multinomial', 'C': 71.8}. Best is trial 1 with value: 0.7810945273631842.\u001b[0m\n",
      "\u001b[32m[I 2022-10-13 21:34:53,674]\u001b[0m Trial 90 finished with value: 0.7786069651741294 and parameters: {'class_weight': None, 'max_iter': 3660, 'multi_class': 'ovr', 'C': 84.3}. Best is trial 1 with value: 0.7810945273631842.\u001b[0m\n",
      "\u001b[32m[I 2022-10-13 21:34:54,174]\u001b[0m Trial 91 finished with value: 0.7810945273631841 and parameters: {'class_weight': None, 'max_iter': 5030, 'multi_class': 'multinomial', 'C': 86.9}. Best is trial 1 with value: 0.7810945273631842.\u001b[0m\n",
      "\u001b[32m[I 2022-10-13 21:34:54,673]\u001b[0m Trial 92 finished with value: 0.7804726368159205 and parameters: {'class_weight': None, 'max_iter': 140, 'multi_class': 'multinomial', 'C': 77.7}. Best is trial 1 with value: 0.7810945273631842.\u001b[0m\n",
      "\u001b[32m[I 2022-10-13 21:34:55,190]\u001b[0m Trial 93 finished with value: 0.7810945273631841 and parameters: {'class_weight': None, 'max_iter': 6020, 'multi_class': 'multinomial', 'C': 81.2}. Best is trial 1 with value: 0.7810945273631842.\u001b[0m\n",
      "\u001b[32m[I 2022-10-13 21:34:55,671]\u001b[0m Trial 94 finished with value: 0.7810945273631841 and parameters: {'class_weight': None, 'max_iter': 5810, 'multi_class': 'multinomial', 'C': 86.8}. Best is trial 1 with value: 0.7810945273631842.\u001b[0m\n",
      "\u001b[32m[I 2022-10-13 21:34:56,086]\u001b[0m Trial 95 finished with value: 0.7810945273631841 and parameters: {'class_weight': None, 'max_iter': 9680, 'multi_class': 'multinomial', 'C': 89.6}. Best is trial 1 with value: 0.7810945273631842.\u001b[0m\n",
      "\u001b[32m[I 2022-10-13 21:34:56,522]\u001b[0m Trial 96 finished with value: 0.7810945273631841 and parameters: {'class_weight': None, 'max_iter': 920, 'multi_class': 'multinomial', 'C': 89.6}. Best is trial 1 with value: 0.7810945273631842.\u001b[0m\n",
      "\u001b[32m[I 2022-10-13 21:34:56,990]\u001b[0m Trial 97 finished with value: 0.7810945273631841 and parameters: {'class_weight': None, 'max_iter': 6660, 'multi_class': 'multinomial', 'C': 78.3}. Best is trial 1 with value: 0.7810945273631842.\u001b[0m\n",
      "\u001b[32m[I 2022-10-13 21:34:57,450]\u001b[0m Trial 98 finished with value: 0.7810945273631841 and parameters: {'class_weight': None, 'max_iter': 2390, 'multi_class': 'multinomial', 'C': 88.3}. Best is trial 1 with value: 0.7810945273631842.\u001b[0m\n",
      "\u001b[32m[I 2022-10-13 21:34:57,715]\u001b[0m Trial 99 finished with value: 0.7779850746268657 and parameters: {'class_weight': None, 'max_iter': 9090, 'multi_class': 'ovr', 'C': 74.6}. Best is trial 1 with value: 0.7810945273631842.\u001b[0m\n",
      "\u001b[32m[I 2022-10-13 21:34:58,147]\u001b[0m Trial 100 finished with value: 0.7810945273631841 and parameters: {'class_weight': None, 'max_iter': 7730, 'multi_class': 'multinomial', 'C': 92.1}. Best is trial 1 with value: 0.7810945273631842.\u001b[0m\n",
      "\u001b[32m[I 2022-10-13 21:34:58,596]\u001b[0m Trial 101 finished with value: 0.7810945273631841 and parameters: {'class_weight': None, 'max_iter': 2140, 'multi_class': 'multinomial', 'C': 81.8}. Best is trial 1 with value: 0.7810945273631842.\u001b[0m\n",
      "\u001b[32m[I 2022-10-13 21:34:59,052]\u001b[0m Trial 102 finished with value: 0.7810945273631841 and parameters: {'class_weight': None, 'max_iter': 6330, 'multi_class': 'multinomial', 'C': 83.2}. Best is trial 1 with value: 0.7810945273631842.\u001b[0m\n",
      "\u001b[32m[I 2022-10-13 21:34:59,552]\u001b[0m Trial 103 finished with value: 0.7810945273631841 and parameters: {'class_weight': None, 'max_iter': 690, 'multi_class': 'multinomial', 'C': 80.8}. Best is trial 1 with value: 0.7810945273631842.\u001b[0m\n",
      "\u001b[32m[I 2022-10-13 21:34:59,991]\u001b[0m Trial 104 finished with value: 0.7810945273631841 and parameters: {'class_weight': None, 'max_iter': 8610, 'multi_class': 'multinomial', 'C': 87.7}. Best is trial 1 with value: 0.7810945273631842.\u001b[0m\n"
     ]
    },
    {
     "name": "stderr",
     "output_type": "stream",
     "text": [
      "\u001b[32m[I 2022-10-13 21:35:00,441]\u001b[0m Trial 105 finished with value: 0.7810945273631841 and parameters: {'class_weight': None, 'max_iter': 8610, 'multi_class': 'multinomial', 'C': 79.6}. Best is trial 1 with value: 0.7810945273631842.\u001b[0m\n",
      "\u001b[32m[I 2022-10-13 21:35:00,860]\u001b[0m Trial 106 finished with value: 0.7810945273631841 and parameters: {'class_weight': None, 'max_iter': 7290, 'multi_class': 'multinomial', 'C': 91.0}. Best is trial 1 with value: 0.7810945273631842.\u001b[0m\n",
      "\u001b[32m[I 2022-10-13 21:35:01,121]\u001b[0m Trial 107 finished with value: 0.7786069651741294 and parameters: {'class_weight': None, 'max_iter': 9370, 'multi_class': 'ovr', 'C': 69.8}. Best is trial 1 with value: 0.7810945273631842.\u001b[0m\n",
      "\u001b[32m[I 2022-10-13 21:35:01,406]\u001b[0m Trial 108 finished with value: 0.7792288557213931 and parameters: {'class_weight': None, 'max_iter': 4490, 'multi_class': 'auto', 'C': 98.2}. Best is trial 1 with value: 0.7810945273631842.\u001b[0m\n",
      "\u001b[32m[I 2022-10-13 21:35:01,804]\u001b[0m Trial 109 finished with value: 0.7810945273631841 and parameters: {'class_weight': None, 'max_iter': 8170, 'multi_class': 'multinomial', 'C': 93.8}. Best is trial 1 with value: 0.7810945273631842.\u001b[0m\n",
      "\u001b[32m[I 2022-10-13 21:35:02,245]\u001b[0m Trial 110 finished with value: 0.7810945273631841 and parameters: {'class_weight': None, 'max_iter': 8110, 'multi_class': 'multinomial', 'C': 94.0}. Best is trial 1 with value: 0.7810945273631842.\u001b[0m\n",
      "\u001b[32m[I 2022-10-13 21:35:02,667]\u001b[0m Trial 111 finished with value: 0.7810945273631841 and parameters: {'class_weight': None, 'max_iter': 8290, 'multi_class': 'multinomial', 'C': 93.4}. Best is trial 1 with value: 0.7810945273631842.\u001b[0m\n",
      "\u001b[32m[I 2022-10-13 21:35:03,151]\u001b[0m Trial 112 finished with value: 0.7810945273631841 and parameters: {'class_weight': None, 'max_iter': 8250, 'multi_class': 'multinomial', 'C': 98.4}. Best is trial 1 with value: 0.7810945273631842.\u001b[0m\n",
      "\u001b[32m[I 2022-10-13 21:35:03,580]\u001b[0m Trial 113 finished with value: 0.7810945273631841 and parameters: {'class_weight': None, 'max_iter': 4670, 'multi_class': 'multinomial', 'C': 96.3}. Best is trial 1 with value: 0.7810945273631842.\u001b[0m\n",
      "\u001b[32m[I 2022-10-13 21:35:04,014]\u001b[0m Trial 114 finished with value: 0.7810945273631841 and parameters: {'class_weight': None, 'max_iter': 3090, 'multi_class': 'multinomial', 'C': 99.6}. Best is trial 1 with value: 0.7810945273631842.\u001b[0m\n",
      "\u001b[32m[I 2022-10-13 21:35:04,481]\u001b[0m Trial 115 finished with value: 0.7810945273631841 and parameters: {'class_weight': None, 'max_iter': 3200, 'multi_class': 'multinomial', 'C': 99.3}. Best is trial 1 with value: 0.7810945273631842.\u001b[0m\n",
      "\u001b[32m[I 2022-10-13 21:35:04,746]\u001b[0m Trial 116 finished with value: 0.7786069651741294 and parameters: {'class_weight': None, 'max_iter': 2840, 'multi_class': 'ovr', 'C': 95.8}. Best is trial 1 with value: 0.7810945273631842.\u001b[0m\n",
      "\u001b[32m[I 2022-10-13 21:35:05,213]\u001b[0m Trial 117 finished with value: 0.7810945273631841 and parameters: {'class_weight': None, 'max_iter': 5810, 'multi_class': 'multinomial', 'C': 89.7}. Best is trial 1 with value: 0.7810945273631842.\u001b[0m\n",
      "\u001b[32m[I 2022-10-13 21:35:05,694]\u001b[0m Trial 118 finished with value: 0.7810945273631841 and parameters: {'class_weight': None, 'max_iter': 5060, 'multi_class': 'multinomial', 'C': 90.7}. Best is trial 1 with value: 0.7810945273631842.\u001b[0m\n",
      "\u001b[32m[I 2022-10-13 21:35:06,159]\u001b[0m Trial 119 finished with value: 0.7810945273631841 and parameters: {'class_weight': None, 'max_iter': 4940, 'multi_class': 'multinomial', 'C': 95.9}. Best is trial 1 with value: 0.7810945273631842.\u001b[0m\n",
      "\u001b[32m[I 2022-10-13 21:35:06,591]\u001b[0m Trial 120 finished with value: 0.7810945273631841 and parameters: {'class_weight': None, 'max_iter': 4140, 'multi_class': 'multinomial', 'C': 96.8}. Best is trial 1 with value: 0.7810945273631842.\u001b[0m\n",
      "\u001b[32m[I 2022-10-13 21:35:07,040]\u001b[0m Trial 121 finished with value: 0.7810945273631841 and parameters: {'class_weight': None, 'max_iter': 4120, 'multi_class': 'multinomial', 'C': 96.2}. Best is trial 1 with value: 0.7810945273631842.\u001b[0m\n",
      "\u001b[32m[I 2022-10-13 21:35:07,505]\u001b[0m Trial 122 finished with value: 0.7810945273631841 and parameters: {'class_weight': None, 'max_iter': 4180, 'multi_class': 'multinomial', 'C': 91.8}. Best is trial 1 with value: 0.7810945273631842.\u001b[0m\n",
      "\u001b[32m[I 2022-10-13 21:35:07,986]\u001b[0m Trial 123 finished with value: 0.7810945273631841 and parameters: {'class_weight': None, 'max_iter': 5330, 'multi_class': 'multinomial', 'C': 100.0}. Best is trial 1 with value: 0.7810945273631842.\u001b[0m\n",
      "\u001b[32m[I 2022-10-13 21:35:08,471]\u001b[0m Trial 124 finished with value: 0.7810945273631841 and parameters: {'class_weight': None, 'max_iter': 4790, 'multi_class': 'multinomial', 'C': 95.1}. Best is trial 1 with value: 0.7810945273631842.\u001b[0m\n",
      "\u001b[32m[I 2022-10-13 21:35:08,901]\u001b[0m Trial 125 finished with value: 0.7810945273631841 and parameters: {'class_weight': None, 'max_iter': 5240, 'multi_class': 'multinomial', 'C': 86.5}. Best is trial 1 with value: 0.7810945273631842.\u001b[0m\n",
      "\u001b[32m[I 2022-10-13 21:35:09,201]\u001b[0m Trial 126 finished with value: 0.7786069651741294 and parameters: {'class_weight': None, 'max_iter': 5160, 'multi_class': 'ovr', 'C': 86.4}. Best is trial 1 with value: 0.7810945273631842.\u001b[0m\n",
      "\u001b[32m[I 2022-10-13 21:35:09,498]\u001b[0m Trial 127 finished with value: 0.7779850746268657 and parameters: {'class_weight': None, 'max_iter': 9770, 'multi_class': 'auto', 'C': 76.6}. Best is trial 1 with value: 0.7810945273631842.\u001b[0m\n",
      "\u001b[32m[I 2022-10-13 21:35:09,913]\u001b[0m Trial 128 finished with value: 0.7798507462686568 and parameters: {'class_weight': None, 'max_iter': 6100, 'multi_class': 'multinomial', 'C': 73.0}. Best is trial 1 with value: 0.7810945273631842.\u001b[0m\n",
      "\u001b[32m[I 2022-10-13 21:35:10,342]\u001b[0m Trial 129 finished with value: 0.7810945273631841 and parameters: {'class_weight': None, 'max_iter': 5610, 'multi_class': 'multinomial', 'C': 84.2}. Best is trial 1 with value: 0.7810945273631842.\u001b[0m\n",
      "\u001b[32m[I 2022-10-13 21:35:10,863]\u001b[0m Trial 130 finished with value: 0.7810945273631841 and parameters: {'class_weight': None, 'max_iter': 7130, 'multi_class': 'multinomial', 'C': 86.9}. Best is trial 1 with value: 0.7810945273631842.\u001b[0m\n",
      "\u001b[32m[I 2022-10-13 21:35:11,403]\u001b[0m Trial 131 finished with value: 0.7804726368159205 and parameters: {'class_weight': None, 'max_iter': 6530, 'multi_class': 'multinomial', 'C': 76.3}. Best is trial 1 with value: 0.7810945273631842.\u001b[0m\n",
      "\u001b[32m[I 2022-10-13 21:35:11,910]\u001b[0m Trial 132 finished with value: 0.7810945273631841 and parameters: {'class_weight': None, 'max_iter': 5810, 'multi_class': 'multinomial', 'C': 83.1}. Best is trial 1 with value: 0.7810945273631842.\u001b[0m\n",
      "\u001b[32m[I 2022-10-13 21:35:12,339]\u001b[0m Trial 133 finished with value: 0.7810945273631841 and parameters: {'class_weight': None, 'max_iter': 5440, 'multi_class': 'multinomial', 'C': 89.6}. Best is trial 1 with value: 0.7810945273631842.\u001b[0m\n",
      "\u001b[32m[I 2022-10-13 21:35:12,791]\u001b[0m Trial 134 finished with value: 0.7810945273631841 and parameters: {'class_weight': None, 'max_iter': 6040, 'multi_class': 'multinomial', 'C': 88.3}. Best is trial 1 with value: 0.7810945273631842.\u001b[0m\n",
      "\u001b[32m[I 2022-10-13 21:35:13,239]\u001b[0m Trial 135 finished with value: 0.7810945273631841 and parameters: {'class_weight': None, 'max_iter': 5930, 'multi_class': 'multinomial', 'C': 86.2}. Best is trial 1 with value: 0.7810945273631842.\u001b[0m\n",
      "\u001b[32m[I 2022-10-13 21:35:13,723]\u001b[0m Trial 136 finished with value: 0.7810945273631841 and parameters: {'class_weight': None, 'max_iter': 6820, 'multi_class': 'multinomial', 'C': 78.9}. Best is trial 1 with value: 0.7810945273631842.\u001b[0m\n",
      "\u001b[32m[I 2022-10-13 21:35:14,050]\u001b[0m Trial 137 finished with value: 0.7786069651741294 and parameters: {'class_weight': None, 'max_iter': 6710, 'multi_class': 'ovr', 'C': 78.9}. Best is trial 1 with value: 0.7810945273631842.\u001b[0m\n",
      "\u001b[32m[I 2022-10-13 21:35:14,519]\u001b[0m Trial 138 finished with value: 0.7810945273631841 and parameters: {'class_weight': None, 'max_iter': 6960, 'multi_class': 'multinomial', 'C': 92.8}. Best is trial 1 with value: 0.7810945273631842.\u001b[0m\n",
      "\u001b[32m[I 2022-10-13 21:35:14,984]\u001b[0m Trial 139 finished with value: 0.7810945273631841 and parameters: {'class_weight': None, 'max_iter': 6480, 'multi_class': 'multinomial', 'C': 82.0}. Best is trial 1 with value: 0.7810945273631842.\u001b[0m\n"
     ]
    },
    {
     "name": "stderr",
     "output_type": "stream",
     "text": [
      "\u001b[32m[I 2022-10-13 21:35:15,449]\u001b[0m Trial 140 finished with value: 0.7810945273631841 and parameters: {'class_weight': None, 'max_iter': 1130, 'multi_class': 'multinomial', 'C': 88.9}. Best is trial 1 with value: 0.7810945273631842.\u001b[0m\n",
      "\u001b[32m[I 2022-10-13 21:35:15,851]\u001b[0m Trial 141 finished with value: 0.7810945273631841 and parameters: {'class_weight': None, 'max_iter': 1580, 'multi_class': 'multinomial', 'C': 89.3}. Best is trial 1 with value: 0.7810945273631842.\u001b[0m\n",
      "\u001b[32m[I 2022-10-13 21:35:16,331]\u001b[0m Trial 142 finished with value: 0.7810945273631841 and parameters: {'class_weight': None, 'max_iter': 1910, 'multi_class': 'multinomial', 'C': 84.3}. Best is trial 1 with value: 0.7810945273631842.\u001b[0m\n",
      "\u001b[32m[I 2022-10-13 21:35:16,813]\u001b[0m Trial 143 finished with value: 0.7810945273631841 and parameters: {'class_weight': None, 'max_iter': 6260, 'multi_class': 'multinomial', 'C': 81.5}. Best is trial 1 with value: 0.7810945273631842.\u001b[0m\n",
      "\u001b[32m[I 2022-10-13 21:35:17,217]\u001b[0m Trial 144 finished with value: 0.7792288557213931 and parameters: {'class_weight': None, 'max_iter': 7210, 'multi_class': 'multinomial', 'C': 50.900000000000006}. Best is trial 1 with value: 0.7810945273631842.\u001b[0m\n",
      "\u001b[32m[I 2022-10-13 21:35:17,732]\u001b[0m Trial 145 finished with value: 0.7810945273631841 and parameters: {'class_weight': None, 'max_iter': 770, 'multi_class': 'multinomial', 'C': 80.4}. Best is trial 1 with value: 0.7810945273631842.\u001b[0m\n",
      "\u001b[32m[I 2022-10-13 21:35:18,192]\u001b[0m Trial 146 finished with value: 0.7810945273631841 and parameters: {'class_weight': None, 'max_iter': 1200, 'multi_class': 'multinomial', 'C': 80.6}. Best is trial 1 with value: 0.7810945273631842.\u001b[0m\n",
      "\u001b[32m[I 2022-10-13 21:35:18,616]\u001b[0m Trial 147 finished with value: 0.7810945273631841 and parameters: {'class_weight': None, 'max_iter': 470, 'multi_class': 'multinomial', 'C': 82.2}. Best is trial 1 with value: 0.7810945273631842.\u001b[0m\n",
      "\u001b[32m[I 2022-10-13 21:35:19,060]\u001b[0m Trial 148 finished with value: 0.7810945273631841 and parameters: {'class_weight': None, 'max_iter': 7660, 'multi_class': 'multinomial', 'C': 86.8}. Best is trial 1 with value: 0.7810945273631842.\u001b[0m\n",
      "\u001b[32m[I 2022-10-13 21:35:19,358]\u001b[0m Trial 149 finished with value: 0.7779850746268657 and parameters: {'class_weight': None, 'max_iter': 2380, 'multi_class': 'ovr', 'C': 76.8}. Best is trial 1 with value: 0.7810945273631842.\u001b[0m\n",
      "\u001b[32m[I 2022-10-13 21:35:19,755]\u001b[0m Trial 150 finished with value: 0.7804726368159205 and parameters: {'class_weight': None, 'max_iter': 7410, 'multi_class': 'multinomial', 'C': 74.6}. Best is trial 1 with value: 0.7810945273631842.\u001b[0m\n",
      "\u001b[32m[I 2022-10-13 21:35:20,184]\u001b[0m Trial 151 finished with value: 0.7810945273631841 and parameters: {'class_weight': None, 'max_iter': 8630, 'multi_class': 'multinomial', 'C': 83.9}. Best is trial 1 with value: 0.7810945273631842.\u001b[0m\n",
      "\u001b[32m[I 2022-10-13 21:35:20,611]\u001b[0m Trial 152 finished with value: 0.7810945273631841 and parameters: {'class_weight': None, 'max_iter': 7680, 'multi_class': 'multinomial', 'C': 91.0}. Best is trial 1 with value: 0.7810945273631842.\u001b[0m\n",
      "\u001b[32m[I 2022-10-13 21:35:20,993]\u001b[0m Trial 153 finished with value: 0.7810945273631841 and parameters: {'class_weight': None, 'max_iter': 7850, 'multi_class': 'multinomial', 'C': 79.9}. Best is trial 1 with value: 0.7810945273631842.\u001b[0m\n",
      "\u001b[32m[I 2022-10-13 21:35:21,483]\u001b[0m Trial 154 finished with value: 0.7810945273631841 and parameters: {'class_weight': None, 'max_iter': 7850, 'multi_class': 'multinomial', 'C': 80.2}. Best is trial 1 with value: 0.7810945273631842.\u001b[0m\n",
      "\u001b[32m[I 2022-10-13 21:35:21,893]\u001b[0m Trial 155 finished with value: 0.7810945273631841 and parameters: {'class_weight': None, 'max_iter': 3660, 'multi_class': 'multinomial', 'C': 90.9}. Best is trial 1 with value: 0.7810945273631842.\u001b[0m\n",
      "\u001b[32m[I 2022-10-13 21:35:22,348]\u001b[0m Trial 156 finished with value: 0.7810945273631841 and parameters: {'class_weight': None, 'max_iter': 1690, 'multi_class': 'multinomial', 'C': 88.4}. Best is trial 1 with value: 0.7810945273631842.\u001b[0m\n",
      "\u001b[32m[I 2022-10-13 21:35:22,804]\u001b[0m Trial 157 finished with value: 0.7810945273631841 and parameters: {'class_weight': None, 'max_iter': 2020, 'multi_class': 'multinomial', 'C': 93.6}. Best is trial 1 with value: 0.7810945273631842.\u001b[0m\n",
      "\u001b[32m[I 2022-10-13 21:35:23,370]\u001b[0m Trial 158 finished with value: 0.7810945273631841 and parameters: {'class_weight': None, 'max_iter': 8220, 'multi_class': 'multinomial', 'C': 93.9}. Best is trial 1 with value: 0.7810945273631842.\u001b[0m\n",
      "\u001b[32m[I 2022-10-13 21:35:23,696]\u001b[0m Trial 159 finished with value: 0.7786069651741294 and parameters: {'class_weight': None, 'max_iter': 8220, 'multi_class': 'auto', 'C': 92.7}. Best is trial 1 with value: 0.7810945273631842.\u001b[0m\n",
      "\u001b[32m[I 2022-10-13 21:35:23,999]\u001b[0m Trial 160 finished with value: 0.7792288557213931 and parameters: {'class_weight': None, 'max_iter': 4570, 'multi_class': 'ovr', 'C': 96.9}. Best is trial 1 with value: 0.7810945273631842.\u001b[0m\n",
      "\u001b[32m[I 2022-10-13 21:35:24,476]\u001b[0m Trial 161 finished with value: 0.7810945273631841 and parameters: {'class_weight': None, 'max_iter': 3440, 'multi_class': 'multinomial', 'C': 98.4}. Best is trial 1 with value: 0.7810945273631842.\u001b[0m\n",
      "\u001b[32m[I 2022-10-13 21:35:25,013]\u001b[0m Trial 162 finished with value: 0.7810945273631841 and parameters: {'class_weight': None, 'max_iter': 2580, 'multi_class': 'multinomial', 'C': 94.2}. Best is trial 1 with value: 0.7810945273631842.\u001b[0m\n",
      "\u001b[32m[I 2022-10-13 21:35:25,456]\u001b[0m Trial 163 finished with value: 0.7810945273631841 and parameters: {'class_weight': None, 'max_iter': 8410, 'multi_class': 'multinomial', 'C': 99.0}. Best is trial 1 with value: 0.7810945273631842.\u001b[0m\n",
      "\u001b[32m[I 2022-10-13 21:35:25,957]\u001b[0m Trial 164 finished with value: 0.7810945273631841 and parameters: {'class_weight': None, 'max_iter': 8120, 'multi_class': 'multinomial', 'C': 97.5}. Best is trial 1 with value: 0.7810945273631842.\u001b[0m\n",
      "\u001b[32m[I 2022-10-13 21:35:26,354]\u001b[0m Trial 165 finished with value: 0.7810945273631841 and parameters: {'class_weight': None, 'max_iter': 3140, 'multi_class': 'multinomial', 'C': 98.0}. Best is trial 1 with value: 0.7810945273631842.\u001b[0m\n",
      "\u001b[32m[I 2022-10-13 21:35:26,909]\u001b[0m Trial 166 finished with value: 0.7810945273631841 and parameters: {'class_weight': None, 'max_iter': 2870, 'multi_class': 'multinomial', 'C': 95.4}. Best is trial 1 with value: 0.7810945273631842.\u001b[0m\n",
      "\u001b[32m[I 2022-10-13 21:35:27,459]\u001b[0m Trial 167 finished with value: 0.7810945273631841 and parameters: {'class_weight': None, 'max_iter': 8530, 'multi_class': 'multinomial', 'C': 91.3}. Best is trial 1 with value: 0.7810945273631842.\u001b[0m\n",
      "\u001b[32m[I 2022-10-13 21:35:27,989]\u001b[0m Trial 168 finished with value: 0.7810945273631841 and parameters: {'class_weight': None, 'max_iter': 8680, 'multi_class': 'multinomial', 'C': 91.6}. Best is trial 1 with value: 0.7810945273631842.\u001b[0m\n",
      "\u001b[32m[I 2022-10-13 21:35:28,573]\u001b[0m Trial 169 finished with value: 0.7810945273631841 and parameters: {'class_weight': None, 'max_iter': 4680, 'multi_class': 'multinomial', 'C': 95.1}. Best is trial 1 with value: 0.7810945273631842.\u001b[0m\n",
      "\u001b[32m[I 2022-10-13 21:35:28,853]\u001b[0m Trial 170 finished with value: 0.7786069651741294 and parameters: {'class_weight': None, 'max_iter': 4930, 'multi_class': 'ovr', 'C': 95.8}. Best is trial 1 with value: 0.7810945273631842.\u001b[0m\n",
      "\u001b[32m[I 2022-10-13 21:35:29,316]\u001b[0m Trial 171 finished with value: 0.7810945273631841 and parameters: {'class_weight': None, 'max_iter': 5100, 'multi_class': 'multinomial', 'C': 90.1}. Best is trial 1 with value: 0.7810945273631842.\u001b[0m\n",
      "\u001b[32m[I 2022-10-13 21:35:29,773]\u001b[0m Trial 172 finished with value: 0.7810945273631841 and parameters: {'class_weight': None, 'max_iter': 4350, 'multi_class': 'multinomial', 'C': 100.0}. Best is trial 1 with value: 0.7810945273631842.\u001b[0m\n",
      "\u001b[32m[I 2022-10-13 21:35:30,234]\u001b[0m Trial 173 finished with value: 0.7810945273631841 and parameters: {'class_weight': None, 'max_iter': 3900, 'multi_class': 'multinomial', 'C': 95.8}. Best is trial 1 with value: 0.7810945273631842.\u001b[0m\n",
      "\u001b[32m[I 2022-10-13 21:35:30,675]\u001b[0m Trial 174 finished with value: 0.7810945273631841 and parameters: {'class_weight': None, 'max_iter': 4070, 'multi_class': 'multinomial', 'C': 93.4}. Best is trial 1 with value: 0.7810945273631842.\u001b[0m\n"
     ]
    },
    {
     "name": "stderr",
     "output_type": "stream",
     "text": [
      "\u001b[32m[I 2022-10-13 21:35:31,124]\u001b[0m Trial 175 finished with value: 0.7810945273631841 and parameters: {'class_weight': None, 'max_iter': 4170, 'multi_class': 'multinomial', 'C': 96.8}. Best is trial 1 with value: 0.7810945273631842.\u001b[0m\n",
      "\u001b[32m[I 2022-10-13 21:35:31,586]\u001b[0m Trial 176 finished with value: 0.7810945273631841 and parameters: {'class_weight': None, 'max_iter': 4860, 'multi_class': 'multinomial', 'C': 97.5}. Best is trial 1 with value: 0.7810945273631842.\u001b[0m\n",
      "\u001b[32m[I 2022-10-13 21:35:31,989]\u001b[0m Trial 177 finished with value: 0.7810945273631841 and parameters: {'class_weight': None, 'max_iter': 4790, 'multi_class': 'multinomial', 'C': 97.8}. Best is trial 1 with value: 0.7810945273631842.\u001b[0m\n",
      "\u001b[32m[I 2022-10-13 21:35:32,454]\u001b[0m Trial 178 finished with value: 0.7810945273631841 and parameters: {'class_weight': None, 'max_iter': 4500, 'multi_class': 'multinomial', 'C': 99.4}. Best is trial 1 with value: 0.7810945273631842.\u001b[0m\n",
      "\u001b[32m[I 2022-10-13 21:35:32,788]\u001b[0m Trial 179 finished with value: 0.7792288557213931 and parameters: {'class_weight': None, 'max_iter': 4380, 'multi_class': 'ovr', 'C': 99.2}. Best is trial 1 with value: 0.7810945273631842.\u001b[0m\n",
      "\u001b[32m[I 2022-10-13 21:35:33,240]\u001b[0m Trial 180 finished with value: 0.7810945273631841 and parameters: {'class_weight': None, 'max_iter': 5710, 'multi_class': 'multinomial', 'C': 83.0}. Best is trial 1 with value: 0.7810945273631842.\u001b[0m\n",
      "\u001b[32m[I 2022-10-13 21:35:33,675]\u001b[0m Trial 181 finished with value: 0.7810945273631841 and parameters: {'class_weight': None, 'max_iter': 5620, 'multi_class': 'multinomial', 'C': 84.7}. Best is trial 1 with value: 0.7810945273631842.\u001b[0m\n",
      "\u001b[32m[I 2022-10-13 21:35:34,116]\u001b[0m Trial 182 finished with value: 0.7810945273631841 and parameters: {'class_weight': None, 'max_iter': 5250, 'multi_class': 'multinomial', 'C': 84.8}. Best is trial 1 with value: 0.7810945273631842.\u001b[0m\n",
      "\u001b[32m[I 2022-10-13 21:35:34,606]\u001b[0m Trial 183 finished with value: 0.7810945273631841 and parameters: {'class_weight': None, 'max_iter': 5080, 'multi_class': 'multinomial', 'C': 87.4}. Best is trial 1 with value: 0.7810945273631842.\u001b[0m\n",
      "\u001b[32m[I 2022-10-13 21:35:35,072]\u001b[0m Trial 184 finished with value: 0.7810945273631841 and parameters: {'class_weight': None, 'max_iter': 4960, 'multi_class': 'multinomial', 'C': 95.8}. Best is trial 1 with value: 0.7810945273631842.\u001b[0m\n",
      "\u001b[32m[I 2022-10-13 21:35:35,495]\u001b[0m Trial 185 finished with value: 0.7810945273631841 and parameters: {'class_weight': None, 'max_iter': 5280, 'multi_class': 'multinomial', 'C': 92.0}. Best is trial 1 with value: 0.7810945273631842.\u001b[0m\n",
      "\u001b[32m[I 2022-10-13 21:35:35,995]\u001b[0m Trial 186 finished with value: 0.7810945273631841 and parameters: {'class_weight': None, 'max_iter': 5390, 'multi_class': 'multinomial', 'C': 92.1}. Best is trial 1 with value: 0.7810945273631842.\u001b[0m\n",
      "\u001b[32m[I 2022-10-13 21:35:36,427]\u001b[0m Trial 187 finished with value: 0.7810945273631841 and parameters: {'class_weight': None, 'max_iter': 5830, 'multi_class': 'multinomial', 'C': 86.2}. Best is trial 1 with value: 0.7810945273631842.\u001b[0m\n",
      "\u001b[32m[I 2022-10-13 21:35:36,841]\u001b[0m Trial 188 finished with value: 0.7810945273631841 and parameters: {'class_weight': None, 'max_iter': 5960, 'multi_class': 'multinomial', 'C': 86.4}. Best is trial 1 with value: 0.7810945273631842.\u001b[0m\n",
      "\u001b[32m[I 2022-10-13 21:35:37,255]\u001b[0m Trial 189 finished with value: 0.7810945273631841 and parameters: {'class_weight': None, 'max_iter': 5800, 'multi_class': 'multinomial', 'C': 89.0}. Best is trial 1 with value: 0.7810945273631842.\u001b[0m\n",
      "\u001b[32m[I 2022-10-13 21:35:37,703]\u001b[0m Trial 190 finished with value: 0.7810945273631841 and parameters: {'class_weight': None, 'max_iter': 5500, 'multi_class': 'multinomial', 'C': 88.4}. Best is trial 1 with value: 0.7810945273631842.\u001b[0m\n",
      "\u001b[32m[I 2022-10-13 21:35:38,131]\u001b[0m Trial 191 finished with value: 0.7810945273631841 and parameters: {'class_weight': None, 'max_iter': 7080, 'multi_class': 'multinomial', 'C': 89.8}. Best is trial 1 with value: 0.7810945273631842.\u001b[0m\n",
      "\u001b[32m[I 2022-10-13 21:35:38,521]\u001b[0m Trial 192 finished with value: 0.7810945273631841 and parameters: {'class_weight': None, 'max_iter': 6440, 'multi_class': 'multinomial', 'C': 86.2}. Best is trial 1 with value: 0.7810945273631842.\u001b[0m\n",
      "\u001b[32m[I 2022-10-13 21:35:38,992]\u001b[0m Trial 193 finished with value: 0.7810945273631841 and parameters: {'class_weight': None, 'max_iter': 6900, 'multi_class': 'multinomial', 'C': 83.3}. Best is trial 1 with value: 0.7810945273631842.\u001b[0m\n",
      "\u001b[32m[I 2022-10-13 21:35:39,501]\u001b[0m Trial 194 finished with value: 0.7810945273631841 and parameters: {'class_weight': None, 'max_iter': 1220, 'multi_class': 'multinomial', 'C': 88.3}. Best is trial 1 with value: 0.7810945273631842.\u001b[0m\n",
      "\u001b[32m[I 2022-10-13 21:35:39,974]\u001b[0m Trial 195 finished with value: 0.7804726368159205 and parameters: {'class_weight': None, 'max_iter': 6770, 'multi_class': 'multinomial', 'C': 77.6}. Best is trial 1 with value: 0.7810945273631842.\u001b[0m\n",
      "\u001b[32m[I 2022-10-13 21:35:40,232]\u001b[0m Trial 196 finished with value: 0.7786069651741294 and parameters: {'class_weight': None, 'max_iter': 1490, 'multi_class': 'auto', 'C': 59.300000000000004}. Best is trial 1 with value: 0.7810945273631842.\u001b[0m\n",
      "\u001b[32m[I 2022-10-13 21:35:40,479]\u001b[0m Trial 197 finished with value: 0.775497512437811 and parameters: {'class_weight': None, 'max_iter': 1700, 'multi_class': 'ovr', 'C': 26.500000000000004}. Best is trial 1 with value: 0.7810945273631842.\u001b[0m\n",
      "\u001b[32m[I 2022-10-13 21:35:40,914]\u001b[0m Trial 198 finished with value: 0.7810945273631841 and parameters: {'class_weight': None, 'max_iter': 1030, 'multi_class': 'multinomial', 'C': 81.3}. Best is trial 1 with value: 0.7810945273631842.\u001b[0m\n",
      "\u001b[32m[I 2022-10-13 21:35:41,362]\u001b[0m Trial 199 finished with value: 0.7810945273631841 and parameters: {'class_weight': None, 'max_iter': 6210, 'multi_class': 'multinomial', 'C': 82.3}. Best is trial 1 with value: 0.7810945273631842.\u001b[0m\n",
      "\u001b[32m[I 2022-10-13 21:35:41,800]\u001b[0m Trial 200 finished with value: 0.7810945273631841 and parameters: {'class_weight': None, 'max_iter': 6250, 'multi_class': 'multinomial', 'C': 89.8}. Best is trial 1 with value: 0.7810945273631842.\u001b[0m\n",
      "\u001b[32m[I 2022-10-13 21:35:42,243]\u001b[0m Trial 201 finished with value: 0.7810945273631841 and parameters: {'class_weight': None, 'max_iter': 6990, 'multi_class': 'multinomial', 'C': 84.8}. Best is trial 1 with value: 0.7810945273631842.\u001b[0m\n",
      "\u001b[32m[I 2022-10-13 21:35:42,842]\u001b[0m Trial 202 finished with value: 0.7810945273631841 and parameters: {'class_weight': None, 'max_iter': 6470, 'multi_class': 'multinomial', 'C': 85.2}. Best is trial 1 with value: 0.7810945273631842.\u001b[0m\n",
      "\u001b[32m[I 2022-10-13 21:35:43,457]\u001b[0m Trial 203 finished with value: 0.7810945273631841 and parameters: {'class_weight': None, 'max_iter': 2030, 'multi_class': 'multinomial', 'C': 82.1}. Best is trial 1 with value: 0.7810945273631842.\u001b[0m\n",
      "\u001b[32m[I 2022-10-13 21:35:44,030]\u001b[0m Trial 204 finished with value: 0.7810945273631841 and parameters: {'class_weight': None, 'max_iter': 1420, 'multi_class': 'multinomial', 'C': 79.1}. Best is trial 1 with value: 0.7810945273631842.\u001b[0m\n",
      "\u001b[32m[I 2022-10-13 21:35:44,523]\u001b[0m Trial 205 finished with value: 0.7810945273631841 and parameters: {'class_weight': None, 'max_iter': 1240, 'multi_class': 'multinomial', 'C': 83.6}. Best is trial 1 with value: 0.7810945273631842.\u001b[0m\n",
      "\u001b[32m[I 2022-10-13 21:35:45,395]\u001b[0m Trial 206 finished with value: 0.7810945273631841 and parameters: {'class_weight': None, 'max_iter': 830, 'multi_class': 'multinomial', 'C': 81.2}. Best is trial 1 with value: 0.7810945273631842.\u001b[0m\n",
      "\u001b[32m[I 2022-10-13 21:35:46,192]\u001b[0m Trial 207 finished with value: 0.7810945273631841 and parameters: {'class_weight': None, 'max_iter': 610, 'multi_class': 'multinomial', 'C': 79.7}. Best is trial 1 with value: 0.7810945273631842.\u001b[0m\n",
      "\u001b[32m[I 2022-10-13 21:35:46,822]\u001b[0m Trial 208 finished with value: 0.7810945273631841 and parameters: {'class_weight': None, 'max_iter': 230, 'multi_class': 'multinomial', 'C': 86.7}. Best is trial 1 with value: 0.7810945273631842.\u001b[0m\n",
      "\u001b[32m[I 2022-10-13 21:35:47,523]\u001b[0m Trial 209 finished with value: 0.7810945273631841 and parameters: {'class_weight': None, 'max_iter': 5940, 'multi_class': 'multinomial', 'C': 83.6}. Best is trial 1 with value: 0.7810945273631842.\u001b[0m\n"
     ]
    },
    {
     "name": "stderr",
     "output_type": "stream",
     "text": [
      "\u001b[32m[I 2022-10-13 21:35:48,173]\u001b[0m Trial 210 finished with value: 0.7810945273631841 and parameters: {'class_weight': None, 'max_iter': 390, 'multi_class': 'multinomial', 'C': 83.1}. Best is trial 1 with value: 0.7810945273631842.\u001b[0m\n",
      "\u001b[32m[I 2022-10-13 21:35:48,792]\u001b[0m Trial 211 finished with value: 0.7810945273631841 and parameters: {'class_weight': None, 'max_iter': 7590, 'multi_class': 'multinomial', 'C': 79.9}. Best is trial 1 with value: 0.7810945273631842.\u001b[0m\n",
      "\u001b[32m[I 2022-10-13 21:35:49,430]\u001b[0m Trial 212 finished with value: 0.7810945273631841 and parameters: {'class_weight': None, 'max_iter': 1070, 'multi_class': 'multinomial', 'C': 79.9}. Best is trial 1 with value: 0.7810945273631842.\u001b[0m\n",
      "\u001b[32m[I 2022-10-13 21:35:50,056]\u001b[0m Trial 213 finished with value: 0.7804726368159205 and parameters: {'class_weight': None, 'max_iter': 7700, 'multi_class': 'multinomial', 'C': 75.8}. Best is trial 1 with value: 0.7810945273631842.\u001b[0m\n",
      "\u001b[32m[I 2022-10-13 21:35:50,444]\u001b[0m Trial 214 finished with value: 0.7786069651741294 and parameters: {'class_weight': None, 'max_iter': 7910, 'multi_class': 'ovr', 'C': 88.4}. Best is trial 1 with value: 0.7810945273631842.\u001b[0m\n",
      "\u001b[32m[I 2022-10-13 21:35:51,053]\u001b[0m Trial 215 finished with value: 0.7810945273631841 and parameters: {'class_weight': None, 'max_iter': 4640, 'multi_class': 'multinomial', 'C': 95.2}. Best is trial 1 with value: 0.7810945273631842.\u001b[0m\n",
      "\u001b[32m[I 2022-10-13 21:35:51,576]\u001b[0m Trial 216 finished with value: 0.7810945273631841 and parameters: {'class_weight': None, 'max_iter': 2220, 'multi_class': 'multinomial', 'C': 87.9}. Best is trial 1 with value: 0.7810945273631842.\u001b[0m\n",
      "\u001b[32m[I 2022-10-13 21:35:52,056]\u001b[0m Trial 217 finished with value: 0.7810945273631841 and parameters: {'class_weight': None, 'max_iter': 2170, 'multi_class': 'multinomial', 'C': 90.3}. Best is trial 1 with value: 0.7810945273631842.\u001b[0m\n",
      "\u001b[32m[I 2022-10-13 21:35:52,583]\u001b[0m Trial 218 finished with value: 0.7810945273631841 and parameters: {'class_weight': None, 'max_iter': 2710, 'multi_class': 'multinomial', 'C': 90.5}. Best is trial 1 with value: 0.7810945273631842.\u001b[0m\n",
      "\u001b[32m[I 2022-10-13 21:35:53,129]\u001b[0m Trial 219 finished with value: 0.7810945273631841 and parameters: {'class_weight': None, 'max_iter': 400, 'multi_class': 'multinomial', 'C': 81.1}. Best is trial 1 with value: 0.7810945273631842.\u001b[0m\n",
      "\u001b[32m[I 2022-10-13 21:35:53,711]\u001b[0m Trial 220 finished with value: 0.7810945273631841 and parameters: {'class_weight': None, 'max_iter': 1680, 'multi_class': 'multinomial', 'C': 80.1}. Best is trial 1 with value: 0.7810945273631842.\u001b[0m\n",
      "\u001b[32m[I 2022-10-13 21:35:54,177]\u001b[0m Trial 221 finished with value: 0.7810945273631841 and parameters: {'class_weight': None, 'max_iter': 7880, 'multi_class': 'multinomial', 'C': 78.2}. Best is trial 1 with value: 0.7810945273631842.\u001b[0m\n",
      "\u001b[32m[I 2022-10-13 21:35:54,640]\u001b[0m Trial 222 finished with value: 0.7810945273631841 and parameters: {'class_weight': None, 'max_iter': 1870, 'multi_class': 'multinomial', 'C': 80.5}. Best is trial 1 with value: 0.7810945273631842.\u001b[0m\n",
      "\u001b[32m[I 2022-10-13 21:35:55,123]\u001b[0m Trial 223 finished with value: 0.7804726368159205 and parameters: {'class_weight': None, 'max_iter': 3620, 'multi_class': 'multinomial', 'C': 76.2}. Best is trial 1 with value: 0.7810945273631842.\u001b[0m\n",
      "\u001b[32m[I 2022-10-13 21:35:55,569]\u001b[0m Trial 224 finished with value: 0.7810945273631841 and parameters: {'class_weight': None, 'max_iter': 8360, 'multi_class': 'multinomial', 'C': 97.9}. Best is trial 1 with value: 0.7810945273631842.\u001b[0m\n",
      "\u001b[32m[I 2022-10-13 21:35:55,925]\u001b[0m Trial 225 finished with value: 0.7748756218905473 and parameters: {'class_weight': None, 'max_iter': 1760, 'multi_class': 'multinomial', 'C': 11.4}. Best is trial 1 with value: 0.7810945273631842.\u001b[0m\n",
      "\u001b[32m[I 2022-10-13 21:35:56,205]\u001b[0m Trial 226 finished with value: 0.7786069651741294 and parameters: {'class_weight': None, 'max_iter': 8390, 'multi_class': 'ovr', 'C': 93.2}. Best is trial 1 with value: 0.7810945273631842.\u001b[0m\n",
      "\u001b[32m[I 2022-10-13 21:35:56,671]\u001b[0m Trial 227 finished with value: 0.7810945273631841 and parameters: {'class_weight': None, 'max_iter': 8600, 'multi_class': 'multinomial', 'C': 92.5}. Best is trial 1 with value: 0.7810945273631842.\u001b[0m\n",
      "\u001b[32m[I 2022-10-13 21:35:57,105]\u001b[0m Trial 228 finished with value: 0.7810945273631841 and parameters: {'class_weight': None, 'max_iter': 1560, 'multi_class': 'multinomial', 'C': 93.8}. Best is trial 1 with value: 0.7810945273631842.\u001b[0m\n",
      "\u001b[32m[I 2022-10-13 21:35:57,568]\u001b[0m Trial 229 finished with value: 0.7810945273631841 and parameters: {'class_weight': None, 'max_iter': 3400, 'multi_class': 'multinomial', 'C': 84.5}. Best is trial 1 with value: 0.7810945273631842.\u001b[0m\n",
      "\u001b[32m[I 2022-10-13 21:35:58,099]\u001b[0m Trial 230 finished with value: 0.7810945273631841 and parameters: {'class_weight': None, 'max_iter': 2600, 'multi_class': 'multinomial', 'C': 81.5}. Best is trial 1 with value: 0.7810945273631842.\u001b[0m\n",
      "\u001b[32m[I 2022-10-13 21:35:58,665]\u001b[0m Trial 231 finished with value: 0.7810945273631841 and parameters: {'class_weight': None, 'max_iter': 3040, 'multi_class': 'multinomial', 'C': 98.5}. Best is trial 1 with value: 0.7810945273631842.\u001b[0m\n",
      "\u001b[32m[I 2022-10-13 21:35:59,196]\u001b[0m Trial 232 finished with value: 0.7810945273631841 and parameters: {'class_weight': None, 'max_iter': 3130, 'multi_class': 'multinomial', 'C': 97.7}. Best is trial 1 with value: 0.7810945273631842.\u001b[0m\n",
      "\u001b[32m[I 2022-10-13 21:35:59,605]\u001b[0m Trial 233 finished with value: 0.7792288557213931 and parameters: {'class_weight': None, 'max_iter': 5140, 'multi_class': 'auto', 'C': 98.7}. Best is trial 1 with value: 0.7810945273631842.\u001b[0m\n",
      "\u001b[32m[I 2022-10-13 21:36:00,099]\u001b[0m Trial 234 finished with value: 0.7810945273631841 and parameters: {'class_weight': None, 'max_iter': 5070, 'multi_class': 'multinomial', 'C': 95.7}. Best is trial 1 with value: 0.7810945273631842.\u001b[0m\n",
      "\u001b[32m[I 2022-10-13 21:36:00,582]\u001b[0m Trial 235 finished with value: 0.7810945273631841 and parameters: {'class_weight': None, 'max_iter': 8710, 'multi_class': 'multinomial', 'C': 91.7}. Best is trial 1 with value: 0.7810945273631842.\u001b[0m\n",
      "\u001b[32m[I 2022-10-13 21:36:01,034]\u001b[0m Trial 236 finished with value: 0.7786069651741294 and parameters: {'class_weight': None, 'max_iter': 8920, 'multi_class': 'multinomial', 'C': 41.800000000000004}. Best is trial 1 with value: 0.7810945273631842.\u001b[0m\n",
      "\u001b[32m[I 2022-10-13 21:36:01,478]\u001b[0m Trial 237 finished with value: 0.7810945273631841 and parameters: {'class_weight': None, 'max_iter': 8770, 'multi_class': 'multinomial', 'C': 94.2}. Best is trial 1 with value: 0.7810945273631842.\u001b[0m\n",
      "\u001b[32m[I 2022-10-13 21:36:01,908]\u001b[0m Trial 238 finished with value: 0.7810945273631841 and parameters: {'class_weight': None, 'max_iter': 2740, 'multi_class': 'multinomial', 'C': 91.2}. Best is trial 1 with value: 0.7810945273631842.\u001b[0m\n",
      "\u001b[32m[I 2022-10-13 21:36:02,447]\u001b[0m Trial 239 finished with value: 0.7810945273631841 and parameters: {'class_weight': None, 'max_iter': 2860, 'multi_class': 'multinomial', 'C': 95.3}. Best is trial 1 with value: 0.7810945273631842.\u001b[0m\n",
      "\u001b[32m[I 2022-10-13 21:36:02,939]\u001b[0m Trial 240 finished with value: 0.7810945273631841 and parameters: {'class_weight': None, 'max_iter': 2940, 'multi_class': 'multinomial', 'C': 92.7}. Best is trial 1 with value: 0.7810945273631842.\u001b[0m\n",
      "\u001b[32m[I 2022-10-13 21:36:03,384]\u001b[0m Trial 241 finished with value: 0.7810945273631841 and parameters: {'class_weight': None, 'max_iter': 8070, 'multi_class': 'multinomial', 'C': 94.4}. Best is trial 1 with value: 0.7810945273631842.\u001b[0m\n",
      "\u001b[32m[I 2022-10-13 21:36:03,868]\u001b[0m Trial 242 finished with value: 0.7810945273631841 and parameters: {'class_weight': None, 'max_iter': 3710, 'multi_class': 'multinomial', 'C': 96.7}. Best is trial 1 with value: 0.7810945273631842.\u001b[0m\n",
      "\u001b[32m[I 2022-10-13 21:36:04,302]\u001b[0m Trial 243 finished with value: 0.7810945273631841 and parameters: {'class_weight': None, 'max_iter': 3800, 'multi_class': 'multinomial', 'C': 96.7}. Best is trial 1 with value: 0.7810945273631842.\u001b[0m\n",
      "\u001b[32m[I 2022-10-13 21:36:04,752]\u001b[0m Trial 244 finished with value: 0.7810945273631841 and parameters: {'class_weight': None, 'max_iter': 3950, 'multi_class': 'multinomial', 'C': 93.9}. Best is trial 1 with value: 0.7810945273631842.\u001b[0m\n"
     ]
    },
    {
     "name": "stderr",
     "output_type": "stream",
     "text": [
      "\u001b[32m[I 2022-10-13 21:36:05,204]\u001b[0m Trial 245 finished with value: 0.7810945273631841 and parameters: {'class_weight': None, 'max_iter': 4180, 'multi_class': 'multinomial', 'C': 91.0}. Best is trial 1 with value: 0.7810945273631842.\u001b[0m\n",
      "\u001b[32m[I 2022-10-13 21:36:05,646]\u001b[0m Trial 246 finished with value: 0.7810945273631841 and parameters: {'class_weight': None, 'max_iter': 3510, 'multi_class': 'multinomial', 'C': 94.1}. Best is trial 1 with value: 0.7810945273631842.\u001b[0m\n",
      "\u001b[32m[I 2022-10-13 21:36:06,145]\u001b[0m Trial 247 finished with value: 0.7810945273631841 and parameters: {'class_weight': None, 'max_iter': 3930, 'multi_class': 'multinomial', 'C': 99.8}. Best is trial 1 with value: 0.7810945273631842.\u001b[0m\n",
      "\u001b[32m[I 2022-10-13 21:36:06,419]\u001b[0m Trial 248 finished with value: 0.7792288557213931 and parameters: {'class_weight': None, 'max_iter': 3260, 'multi_class': 'ovr', 'C': 97.9}. Best is trial 1 with value: 0.7810945273631842.\u001b[0m\n",
      "\u001b[32m[I 2022-10-13 21:36:06,862]\u001b[0m Trial 249 finished with value: 0.7810945273631841 and parameters: {'class_weight': None, 'max_iter': 5000, 'multi_class': 'multinomial', 'C': 96.2}. Best is trial 1 with value: 0.7810945273631842.\u001b[0m\n",
      "\u001b[32m[I 2022-10-13 21:36:07,309]\u001b[0m Trial 250 finished with value: 0.7810945273631841 and parameters: {'class_weight': None, 'max_iter': 4510, 'multi_class': 'multinomial', 'C': 97.7}. Best is trial 1 with value: 0.7810945273631842.\u001b[0m\n",
      "\u001b[32m[I 2022-10-13 21:36:07,740]\u001b[0m Trial 251 finished with value: 0.7810945273631841 and parameters: {'class_weight': None, 'max_iter': 4830, 'multi_class': 'multinomial', 'C': 97.7}. Best is trial 1 with value: 0.7810945273631842.\u001b[0m\n",
      "\u001b[32m[I 2022-10-13 21:36:08,156]\u001b[0m Trial 252 finished with value: 0.7810945273631841 and parameters: {'class_weight': None, 'max_iter': 4240, 'multi_class': 'multinomial', 'C': 99.9}. Best is trial 1 with value: 0.7810945273631842.\u001b[0m\n",
      "\u001b[32m[I 2022-10-13 21:36:08,704]\u001b[0m Trial 253 finished with value: 0.7810945273631841 and parameters: {'class_weight': None, 'max_iter': 5360, 'multi_class': 'multinomial', 'C': 100.0}. Best is trial 1 with value: 0.7810945273631842.\u001b[0m\n",
      "\u001b[32m[I 2022-10-13 21:36:09,027]\u001b[0m Trial 254 finished with value: 0.7792288557213931 and parameters: {'class_weight': None, 'max_iter': 5500, 'multi_class': 'ovr', 'C': 99.6}. Best is trial 1 with value: 0.7810945273631842.\u001b[0m\n",
      "\u001b[32m[I 2022-10-13 21:36:09,498]\u001b[0m Trial 255 finished with value: 0.7810945273631841 and parameters: {'class_weight': None, 'max_iter': 6750, 'multi_class': 'multinomial', 'C': 86.0}. Best is trial 1 with value: 0.7810945273631842.\u001b[0m\n",
      "\u001b[32m[I 2022-10-13 21:36:09,888]\u001b[0m Trial 256 finished with value: 0.7810945273631841 and parameters: {'class_weight': None, 'max_iter': 5720, 'multi_class': 'multinomial', 'C': 87.6}. Best is trial 1 with value: 0.7810945273631842.\u001b[0m\n",
      "\u001b[32m[I 2022-10-13 21:36:10,308]\u001b[0m Trial 257 finished with value: 0.7810945273631841 and parameters: {'class_weight': None, 'max_iter': 5680, 'multi_class': 'multinomial', 'C': 87.2}. Best is trial 1 with value: 0.7810945273631842.\u001b[0m\n",
      "\u001b[32m[I 2022-10-13 21:36:10,774]\u001b[0m Trial 258 finished with value: 0.7810945273631841 and parameters: {'class_weight': None, 'max_iter': 5690, 'multi_class': 'multinomial', 'C': 88.5}. Best is trial 1 with value: 0.7810945273631842.\u001b[0m\n",
      "\u001b[32m[I 2022-10-13 21:36:11,197]\u001b[0m Trial 259 finished with value: 0.7810945273631841 and parameters: {'class_weight': None, 'max_iter': 4710, 'multi_class': 'multinomial', 'C': 94.9}. Best is trial 1 with value: 0.7810945273631842.\u001b[0m\n",
      "\u001b[32m[I 2022-10-13 21:36:11,623]\u001b[0m Trial 260 finished with value: 0.7810945273631841 and parameters: {'class_weight': None, 'max_iter': 4450, 'multi_class': 'multinomial', 'C': 97.8}. Best is trial 1 with value: 0.7810945273631842.\u001b[0m\n",
      "\u001b[32m[I 2022-10-13 21:36:12,044]\u001b[0m Trial 261 finished with value: 0.7810945273631841 and parameters: {'class_weight': None, 'max_iter': 4880, 'multi_class': 'multinomial', 'C': 96.3}. Best is trial 1 with value: 0.7810945273631842.\u001b[0m\n",
      "\u001b[32m[I 2022-10-13 21:36:12,446]\u001b[0m Trial 262 finished with value: 0.7810945273631841 and parameters: {'class_weight': None, 'max_iter': 5210, 'multi_class': 'multinomial', 'C': 95.5}. Best is trial 1 with value: 0.7810945273631842.\u001b[0m\n",
      "\u001b[32m[I 2022-10-13 21:36:12,758]\u001b[0m Trial 263 finished with value: 0.7786069651741294 and parameters: {'class_weight': None, 'max_iter': 6060, 'multi_class': 'auto', 'C': 83.4}. Best is trial 1 with value: 0.7810945273631842.\u001b[0m\n",
      "\u001b[32m[I 2022-10-13 21:36:13,026]\u001b[0m Trial 264 finished with value: 0.7786069651741294 and parameters: {'class_weight': None, 'max_iter': 6170, 'multi_class': 'ovr', 'C': 90.0}. Best is trial 1 with value: 0.7810945273631842.\u001b[0m\n",
      "\u001b[32m[I 2022-10-13 21:36:13,458]\u001b[0m Trial 265 finished with value: 0.7810945273631841 and parameters: {'class_weight': None, 'max_iter': 6860, 'multi_class': 'multinomial', 'C': 84.6}. Best is trial 1 with value: 0.7810945273631842.\u001b[0m\n",
      "\u001b[32m[I 2022-10-13 21:36:13,926]\u001b[0m Trial 266 finished with value: 0.7810945273631841 and parameters: {'class_weight': None, 'max_iter': 5220, 'multi_class': 'multinomial', 'C': 92.3}. Best is trial 1 with value: 0.7810945273631842.\u001b[0m\n",
      "\u001b[32m[I 2022-10-13 21:36:14,373]\u001b[0m Trial 267 finished with value: 0.7810945273631841 and parameters: {'class_weight': None, 'max_iter': 5350, 'multi_class': 'multinomial', 'C': 96.8}. Best is trial 1 with value: 0.7810945273631842.\u001b[0m\n",
      "\u001b[32m[I 2022-10-13 21:36:14,904]\u001b[0m Trial 268 finished with value: 0.7810945273631841 and parameters: {'class_weight': None, 'max_iter': 4740, 'multi_class': 'multinomial', 'C': 91.6}. Best is trial 1 with value: 0.7810945273631842.\u001b[0m\n",
      "\u001b[32m[I 2022-10-13 21:36:15,502]\u001b[0m Trial 269 finished with value: 0.7810945273631841 and parameters: {'class_weight': None, 'max_iter': 4910, 'multi_class': 'multinomial', 'C': 92.7}. Best is trial 1 with value: 0.7810945273631842.\u001b[0m\n",
      "\u001b[32m[I 2022-10-13 21:36:15,986]\u001b[0m Trial 270 finished with value: 0.7810945273631841 and parameters: {'class_weight': None, 'max_iter': 4510, 'multi_class': 'multinomial', 'C': 92.1}. Best is trial 1 with value: 0.7810945273631842.\u001b[0m\n",
      "\u001b[32m[I 2022-10-13 21:36:16,395]\u001b[0m Trial 271 finished with value: 0.7810945273631841 and parameters: {'class_weight': None, 'max_iter': 5090, 'multi_class': 'multinomial', 'C': 85.8}. Best is trial 1 with value: 0.7810945273631842.\u001b[0m\n",
      "\u001b[32m[I 2022-10-13 21:36:16,781]\u001b[0m Trial 272 finished with value: 0.7810945273631841 and parameters: {'class_weight': None, 'max_iter': 5450, 'multi_class': 'multinomial', 'C': 86.3}. Best is trial 1 with value: 0.7810945273631842.\u001b[0m\n",
      "\u001b[32m[I 2022-10-13 21:36:17,192]\u001b[0m Trial 273 finished with value: 0.7810945273631841 and parameters: {'class_weight': None, 'max_iter': 5520, 'multi_class': 'multinomial', 'C': 89.8}. Best is trial 1 with value: 0.7810945273631842.\u001b[0m\n",
      "\u001b[32m[I 2022-10-13 21:36:17,621]\u001b[0m Trial 274 finished with value: 0.7810945273631841 and parameters: {'class_weight': None, 'max_iter': 5290, 'multi_class': 'multinomial', 'C': 89.0}. Best is trial 1 with value: 0.7810945273631842.\u001b[0m\n",
      "\u001b[32m[I 2022-10-13 21:36:17,918]\u001b[0m Trial 275 finished with value: 0.7786069651741294 and parameters: {'class_weight': None, 'max_iter': 690, 'multi_class': 'ovr', 'C': 83.3}. Best is trial 1 with value: 0.7810945273631842.\u001b[0m\n",
      "\u001b[32m[I 2022-10-13 21:36:18,333]\u001b[0m Trial 276 finished with value: 0.7810945273631841 and parameters: {'class_weight': None, 'max_iter': 1290, 'multi_class': 'multinomial', 'C': 93.5}. Best is trial 1 with value: 0.7810945273631842.\u001b[0m\n",
      "\u001b[32m[I 2022-10-13 21:36:18,760]\u001b[0m Trial 277 finished with value: 0.7810945273631841 and parameters: {'class_weight': None, 'max_iter': 7050, 'multi_class': 'multinomial', 'C': 86.6}. Best is trial 1 with value: 0.7810945273631842.\u001b[0m\n",
      "\u001b[32m[I 2022-10-13 21:36:19,191]\u001b[0m Trial 278 finished with value: 0.7810945273631841 and parameters: {'class_weight': None, 'max_iter': 5880, 'multi_class': 'multinomial', 'C': 89.0}. Best is trial 1 with value: 0.7810945273631842.\u001b[0m\n",
      "\u001b[32m[I 2022-10-13 21:36:19,600]\u001b[0m Trial 279 finished with value: 0.7810945273631841 and parameters: {'class_weight': None, 'max_iter': 5590, 'multi_class': 'multinomial', 'C': 85.3}. Best is trial 1 with value: 0.7810945273631842.\u001b[0m\n"
     ]
    },
    {
     "name": "stderr",
     "output_type": "stream",
     "text": [
      "\u001b[32m[I 2022-10-13 21:36:20,054]\u001b[0m Trial 280 finished with value: 0.7810945273631841 and parameters: {'class_weight': None, 'max_iter': 6450, 'multi_class': 'multinomial', 'C': 84.9}. Best is trial 1 with value: 0.7810945273631842.\u001b[0m\n",
      "\u001b[32m[I 2022-10-13 21:36:20,501]\u001b[0m Trial 281 finished with value: 0.7810945273631841 and parameters: {'class_weight': None, 'max_iter': 5190, 'multi_class': 'multinomial', 'C': 87.1}. Best is trial 1 with value: 0.7810945273631842.\u001b[0m\n",
      "\u001b[32m[I 2022-10-13 21:36:20,939]\u001b[0m Trial 282 finished with value: 0.7810945273631841 and parameters: {'class_weight': None, 'max_iter': 5790, 'multi_class': 'multinomial', 'C': 87.9}. Best is trial 1 with value: 0.7810945273631842.\u001b[0m\n",
      "\u001b[32m[I 2022-10-13 21:36:21,204]\u001b[0m Trial 283 finished with value: 0.7786069651741294 and parameters: {'class_weight': None, 'max_iter': 5550, 'multi_class': 'ovr', 'C': 89.7}. Best is trial 1 with value: 0.7810945273631842.\u001b[0m\n",
      "\u001b[32m[I 2022-10-13 21:36:21,667]\u001b[0m Trial 284 finished with value: 0.7804726368159205 and parameters: {'class_weight': None, 'max_iter': 1110, 'multi_class': 'multinomial', 'C': 78.0}. Best is trial 1 with value: 0.7810945273631842.\u001b[0m\n",
      "\u001b[32m[I 2022-10-13 21:36:21,939]\u001b[0m Trial 285 finished with value: 0.7786069651741294 and parameters: {'class_weight': None, 'max_iter': 470, 'multi_class': 'auto', 'C': 81.6}. Best is trial 1 with value: 0.7810945273631842.\u001b[0m\n",
      "\u001b[32m[I 2022-10-13 21:36:22,340]\u001b[0m Trial 286 finished with value: 0.7810945273631841 and parameters: {'class_weight': None, 'max_iter': 310, 'multi_class': 'multinomial', 'C': 79.0}. Best is trial 1 with value: 0.7810945273631842.\u001b[0m\n",
      "\u001b[32m[I 2022-10-13 21:36:22,780]\u001b[0m Trial 287 finished with value: 0.7810945273631841 and parameters: {'class_weight': None, 'max_iter': 5940, 'multi_class': 'multinomial', 'C': 83.2}. Best is trial 1 with value: 0.7810945273631842.\u001b[0m\n",
      "\u001b[32m[I 2022-10-13 21:36:23,194]\u001b[0m Trial 288 finished with value: 0.7810945273631841 and parameters: {'class_weight': None, 'max_iter': 6250, 'multi_class': 'multinomial', 'C': 85.3}. Best is trial 1 with value: 0.7810945273631842.\u001b[0m\n",
      "\u001b[32m[I 2022-10-13 21:36:23,614]\u001b[0m Trial 289 finished with value: 0.7810945273631841 and parameters: {'class_weight': None, 'max_iter': 6320, 'multi_class': 'multinomial', 'C': 84.2}. Best is trial 1 with value: 0.7810945273631842.\u001b[0m\n",
      "\u001b[32m[I 2022-10-13 21:36:24,043]\u001b[0m Trial 290 finished with value: 0.7810945273631841 and parameters: {'class_weight': None, 'max_iter': 6600, 'multi_class': 'multinomial', 'C': 83.0}. Best is trial 1 with value: 0.7810945273631842.\u001b[0m\n",
      "\u001b[32m[I 2022-10-13 21:36:24,445]\u001b[0m Trial 291 finished with value: 0.7810945273631841 and parameters: {'class_weight': None, 'max_iter': 6070, 'multi_class': 'multinomial', 'C': 85.8}. Best is trial 1 with value: 0.7810945273631842.\u001b[0m\n",
      "\u001b[32m[I 2022-10-13 21:36:24,858]\u001b[0m Trial 292 finished with value: 0.7810945273631841 and parameters: {'class_weight': None, 'max_iter': 5800, 'multi_class': 'multinomial', 'C': 84.7}. Best is trial 1 with value: 0.7810945273631842.\u001b[0m\n",
      "\u001b[32m[I 2022-10-13 21:36:25,140]\u001b[0m Trial 293 finished with value: 0.7786069651741294 and parameters: {'class_weight': None, 'max_iter': 5420, 'multi_class': 'ovr', 'C': 86.9}. Best is trial 1 with value: 0.7810945273631842.\u001b[0m\n",
      "\u001b[32m[I 2022-10-13 21:36:25,575]\u001b[0m Trial 294 finished with value: 0.7804726368159205 and parameters: {'class_weight': None, 'max_iter': 7860, 'multi_class': 'multinomial', 'C': 78.0}. Best is trial 1 with value: 0.7810945273631842.\u001b[0m\n",
      "\u001b[32m[I 2022-10-13 21:36:26,018]\u001b[0m Trial 295 finished with value: 0.7810945273631841 and parameters: {'class_weight': None, 'max_iter': 7520, 'multi_class': 'multinomial', 'C': 80.7}. Best is trial 1 with value: 0.7810945273631842.\u001b[0m\n",
      "\u001b[32m[I 2022-10-13 21:36:26,473]\u001b[0m Trial 296 finished with value: 0.7810945273631841 and parameters: {'class_weight': None, 'max_iter': 6240, 'multi_class': 'multinomial', 'C': 82.4}. Best is trial 1 with value: 0.7810945273631842.\u001b[0m\n",
      "\u001b[32m[I 2022-10-13 21:36:26,940]\u001b[0m Trial 297 finished with value: 0.7810945273631841 and parameters: {'class_weight': None, 'max_iter': 6380, 'multi_class': 'multinomial', 'C': 87.4}. Best is trial 1 with value: 0.7810945273631842.\u001b[0m\n",
      "\u001b[32m[I 2022-10-13 21:36:27,366]\u001b[0m Trial 298 finished with value: 0.7810945273631841 and parameters: {'class_weight': None, 'max_iter': 7050, 'multi_class': 'multinomial', 'C': 84.9}. Best is trial 1 with value: 0.7810945273631842.\u001b[0m\n",
      "\u001b[32m[I 2022-10-13 21:36:27,800]\u001b[0m Trial 299 finished with value: 0.7804726368159205 and parameters: {'class_weight': None, 'max_iter': 7270, 'multi_class': 'multinomial', 'C': 75.1}. Best is trial 1 with value: 0.7810945273631842.\u001b[0m\n"
     ]
    }
   ],
   "source": [
    "study.optimize(lambda trial: objective_lr(trial, X_train_vector,y_train), n_trials=300,  gc_after_trial=True)"
   ]
  },
  {
   "cell_type": "code",
   "execution_count": 24,
   "metadata": {},
   "outputs": [
    {
     "data": {
      "text/plain": [
       "{'class_weight': 'balanced', 'max_iter': 5110, 'multi_class': 'ovr', 'C': 75.0}"
      ]
     },
     "execution_count": 24,
     "metadata": {},
     "output_type": "execute_result"
    }
   ],
   "source": [
    "tuned_params=study.best_params\n",
    "tuned_params"
   ]
  },
  {
   "cell_type": "code",
   "execution_count": 25,
   "metadata": {},
   "outputs": [
    {
     "data": {
      "text/plain": [
       "LogisticRegression(C=75.0, class_weight='balanced', max_iter=5110,\n",
       "                   multi_class='ovr')"
      ]
     },
     "execution_count": 25,
     "metadata": {},
     "output_type": "execute_result"
    },
    {
     "data": {
      "text/html": [
       "<div>\n",
       "<style scoped>\n",
       "    .dataframe tbody tr th:only-of-type {\n",
       "        vertical-align: middle;\n",
       "    }\n",
       "\n",
       "    .dataframe tbody tr th {\n",
       "        vertical-align: top;\n",
       "    }\n",
       "\n",
       "    .dataframe thead th {\n",
       "        text-align: right;\n",
       "    }\n",
       "</style>\n",
       "<table border=\"1\" class=\"dataframe\">\n",
       "  <thead>\n",
       "    <tr style=\"text-align: right;\">\n",
       "      <th></th>\n",
       "      <th>0</th>\n",
       "      <th>1</th>\n",
       "    </tr>\n",
       "  </thead>\n",
       "  <tbody>\n",
       "    <tr>\n",
       "      <th>0</th>\n",
       "      <td>325</td>\n",
       "      <td>63</td>\n",
       "    </tr>\n",
       "    <tr>\n",
       "      <th>1</th>\n",
       "      <td>64</td>\n",
       "      <td>340</td>\n",
       "    </tr>\n",
       "  </tbody>\n",
       "</table>\n",
       "</div>"
      ],
      "text/plain": [
       "     0    1\n",
       "0  325   63\n",
       "1   64  340"
      ]
     },
     "execution_count": 25,
     "metadata": {},
     "output_type": "execute_result"
    },
    {
     "name": "stdout",
     "output_type": "stream",
     "text": [
      "              precision    recall  f1-score   support\n",
      "\n",
      "           0       0.84      0.84      0.84       388\n",
      "           1       0.84      0.84      0.84       404\n",
      "\n",
      "    accuracy                           0.84       792\n",
      "   macro avg       0.84      0.84      0.84       792\n",
      "weighted avg       0.84      0.84      0.84       792\n",
      "\n",
      "0.9177969021128916\n"
     ]
    }
   ],
   "source": [
    "lr = LogisticRegression(**tuned_params)\n",
    "lr.fit(X_train_vector, y_train)\n",
    "\n",
    "X_test_vector = tfidf.transform(X_test)\n",
    "lr_predictions = lr.predict(X_test_vector)\n",
    "\n",
    "pd.DataFrame(metrics.confusion_matrix(y_test,lr_predictions), \n",
    "             index=['0','1'], columns=['0','1'])\n",
    "\n",
    "print(metrics.classification_report(y_test,lr_predictions))\n",
    "print(metrics.roc_auc_score(y_test,lr.predict_proba(X_test_vector)[:, 1]))"
   ]
  },
  {
   "cell_type": "markdown",
   "metadata": {},
   "source": [
    "### Hyperparameter Tuning has further increased AUC from 0.9063 to 0.9178 and accuracy/F1 scores have increased from 0.81 to 0.84"
   ]
  },
  {
   "cell_type": "markdown",
   "metadata": {},
   "source": [
    "## Cross Validation Pipeline"
   ]
  },
  {
   "cell_type": "code",
   "execution_count": 259,
   "metadata": {},
   "outputs": [],
   "source": [
    "#creating pipeline with Tfidvectorizer, logistic regression to run cross validation \n",
    "#to ensure no data leakage\n",
    "\n",
    "from sklearn.pipeline import Pipeline\n",
    "\n",
    "classifier = Pipeline([('vectorizer', TfidfVectorizer(ngram_range=(1, 2))), \n",
    "                       ('lr', LogisticRegression(**tuned_params))])"
   ]
  },
  {
   "cell_type": "code",
   "execution_count": 361,
   "metadata": {},
   "outputs": [
    {
     "data": {
      "text/plain": [
       "array([0.82157676, 0.82700422, 0.86307054, 0.87136929, 0.86178862,\n",
       "       0.87903226, 0.83404255, 0.88163265, 0.76851852, 0.75      ])"
      ]
     },
     "execution_count": 361,
     "metadata": {},
     "output_type": "execute_result"
    },
    {
     "name": "stdout",
     "output_type": "stream",
     "text": [
      "f1 score: 0.84 (+/- 0.09)\n"
     ]
    }
   ],
   "source": [
    "X = np.array(corpus2)\n",
    "y = df_train['Polarity']\n",
    "\n",
    "scores = cross_val_score(classifier, X, y, cv=10,scoring = \"f1\")\n",
    "\n",
    "scores\n",
    "\n",
    "print(\"f1 score: %0.2f (+/- %0.2f)\" % (scores.mean(),scores.std()*2))"
   ]
  },
  {
   "cell_type": "code",
   "execution_count": 363,
   "metadata": {},
   "outputs": [
    {
     "data": {
      "text/plain": [
       "array([0.82083333, 0.82916667, 0.8625    , 0.87083333, 0.85833333,\n",
       "       0.875     , 0.8375    , 0.87916667, 0.79166667, 0.775     ])"
      ]
     },
     "execution_count": 363,
     "metadata": {},
     "output_type": "execute_result"
    },
    {
     "name": "stdout",
     "output_type": "stream",
     "text": [
      "accuracy: 0.84 (+/- 0.07)\n"
     ]
    }
   ],
   "source": [
    "X = np.array(corpus2)\n",
    "y = df_train['Polarity']\n",
    "\n",
    "scores = cross_val_score(classifier, X, y, cv=10,scoring = \"accuracy\")\n",
    "\n",
    "scores\n",
    "\n",
    "print(\"accuracy: %0.2f (+/- %0.2f)\" % (scores.mean(),scores.std()*2))"
   ]
  },
  {
   "cell_type": "code",
   "execution_count": 364,
   "metadata": {},
   "outputs": [
    {
     "data": {
      "text/plain": [
       "array([0.91412598, 0.91332731, 0.94089867, 0.93923189, 0.9526356 ,\n",
       "       0.9434683 , 0.91395236, 0.95276466, 0.85871075, 0.83731592])"
      ]
     },
     "execution_count": 364,
     "metadata": {},
     "output_type": "execute_result"
    },
    {
     "name": "stdout",
     "output_type": "stream",
     "text": [
      "ROC_AUC: 0.92 (+/- 0.08)\n"
     ]
    }
   ],
   "source": [
    "X = np.array(corpus2)\n",
    "y = df_train['Polarity']\n",
    "\n",
    "scores = cross_val_score(classifier, X, y, cv=10,scoring = \"roc_auc\")\n",
    "\n",
    "scores\n",
    "\n",
    "print(\"ROC_AUC: %0.2f (+/- %0.2f)\" % (scores.mean(),scores.std()*2))"
   ]
  },
  {
   "cell_type": "markdown",
   "metadata": {},
   "source": [
    "## Testing Model on Test Data"
   ]
  },
  {
   "cell_type": "code",
   "execution_count": 365,
   "metadata": {},
   "outputs": [
    {
     "data": {
      "text/plain": [
       "array([0.81355932, 0.73846154, 0.85714286, 0.69565217, 0.83076923,\n",
       "       0.79365079, 0.70769231, 0.81355932, 0.83870968, 0.77419355])"
      ]
     },
     "execution_count": 365,
     "metadata": {},
     "output_type": "execute_result"
    },
    {
     "name": "stdout",
     "output_type": "stream",
     "text": [
      "f1 score: 0.79 (+/- 0.11)\n"
     ]
    }
   ],
   "source": [
    "unseentext = list(df_test['Sentence'])\n",
    "\n",
    "corpus3 = []\n",
    "\n",
    "for x in range(len(unseentext)):\n",
    "    r = re.sub('[^a-zA-Z]', ' ', unseentext[x])\n",
    "    r = r.lower()\n",
    "    r = r.split()\n",
    "    r = ' '.join(r)\n",
    "    corpus3.append(r)\n",
    "\n",
    "\n",
    "X = np.array(corpus3)\n",
    "y = df_test['Polarity']\n",
    "\n",
    "scores = cross_val_score(classifier, X, y, cv=10,scoring = \"f1\")\n",
    "\n",
    "scores\n",
    "\n",
    "print(\"f1 score: %0.2f (+/- %0.2f)\" % (scores.mean(),scores.std()*2))"
   ]
  },
  {
   "cell_type": "code",
   "execution_count": 366,
   "metadata": {},
   "outputs": [
    {
     "data": {
      "text/plain": [
       "array([0.81666667, 0.71666667, 0.83333333, 0.65      , 0.81666667,\n",
       "       0.78333333, 0.68333333, 0.81666667, 0.83333333, 0.76666667])"
      ]
     },
     "execution_count": 366,
     "metadata": {},
     "output_type": "execute_result"
    },
    {
     "name": "stdout",
     "output_type": "stream",
     "text": [
      "accuracy: 0.77 (+/- 0.13)\n"
     ]
    }
   ],
   "source": [
    "X = np.array(corpus3)\n",
    "y = df_test['Polarity']\n",
    "\n",
    "scores = cross_val_score(classifier, X, y, cv=10,scoring = \"accuracy\")\n",
    "\n",
    "scores\n",
    "\n",
    "print(\"accuracy: %0.2f (+/- %0.2f)\" % (scores.mean(),scores.std()*2))"
   ]
  },
  {
   "cell_type": "code",
   "execution_count": 367,
   "metadata": {},
   "outputs": [
    {
     "data": {
      "text/plain": [
       "array([0.88950893, 0.8359375 , 0.86941964, 0.81979978, 0.87541713,\n",
       "       0.80311457, 0.75973304, 0.88987764, 0.90211346, 0.85873192])"
      ]
     },
     "execution_count": 367,
     "metadata": {},
     "output_type": "execute_result"
    },
    {
     "name": "stdout",
     "output_type": "stream",
     "text": [
      "ROC_AUC: 0.85 (+/- 0.09)\n"
     ]
    }
   ],
   "source": [
    "X = np.array(corpus3)\n",
    "y = df_test['Polarity']\n",
    "\n",
    "scores = cross_val_score(classifier, X, y, cv=10,scoring = \"roc_auc\")\n",
    "\n",
    "scores\n",
    "\n",
    "print(\"ROC_AUC: %0.2f (+/- %0.2f)\" % (scores.mean(),scores.std()*2))"
   ]
  },
  {
   "cell_type": "markdown",
   "metadata": {},
   "source": [
    "## Confidence in and Review of Model"
   ]
  },
  {
   "cell_type": "markdown",
   "metadata": {},
   "source": [
    "Though the accuracy, F1 score and ROC AUC scores are acceptably high for the training dataset and testing dataset, the standard deviation of the mean of these scores is also high, as shown above. This represents inconsistency in the performance of the model and in terms of the business point of view, this entails risk in deploying the model.\n",
    "\n",
    "Similarly, all testing scores decreased from the training scores by about 6-7% when using the test dataset, meaning that there is some level of overfitting of the model on the training dataset.\n",
    "\n",
    "Keeping these observations in mind, it would be better to try other (deep learning) algorithms and text preprocessing steps (such as spell checks) to attempt to improve the model further, mainly focusing on consistency"
   ]
  },
  {
   "cell_type": "markdown",
   "metadata": {},
   "source": [
    "## Taking a deeper look in the model - trying to understand why some predictions are incorrect"
   ]
  },
  {
   "cell_type": "markdown",
   "metadata": {},
   "source": [
    "#### We will first extract the list of False Negative and False Positive sentences into a table to observe them manually in an attempt to identify any patterns. We will then also tokenize the words of these sentences and plot individual graphs to see if there is a high recurring word in any of the two categories."
   ]
  },
  {
   "cell_type": "code",
   "execution_count": 26,
   "metadata": {},
   "outputs": [
    {
     "name": "stdout",
     "output_type": "stream",
     "text": [
      "                                                                                                                                                                                0\n",
      "0   cheap but hey it works was pleasantly suprised given the low cost of this item                                                                                               \n",
      "1   talk about great customer service of course we will be back                                                                                                                  \n",
      "2   conclusion very filling meals                                                                                                                                                \n",
      "3   a good quality bargain i bought this after i bought a cheapy from big lots that sounded awful and people on the other end couldn t hear me                                   \n",
      "4   yes this film does require a rather significant amount of puzzle solving but the pieces fit together to create a beautiful picture                                           \n",
      "5   a usable keyboard actually turns a pda into a real world useful machine instead of just a neat gadget                                                                        \n",
      "6   if you re not familiar check it out                                                                                                                                          \n",
      "7   there are massive levels massive unlockable characters it s just a massive game                                                                                              \n",
      "8   very wind resistant                                                                                                                                                          \n",
      "9   love this place hits the spot when i want something healthy but not lacking in quantity or flavor                                                                            \n",
      "10  everything from acting to cinematography was solid                                                                                                                           \n",
      "11  to summarize the food was incredible nay transcendant but nothing brings me joy quite like the memory of the pneumatic condiment dispenser                                   \n",
      "12  exactly what i wanted                                                                                                                                                        \n",
      "13  because both ears are occupied background is not distracting at all                                                                                                          \n",
      "14  high quality chicken on the chicken caesar salad                                                                                                                             \n",
      "15  the salad had just the right amount of sauce to not over power the scallop which was perfectly cooked                                                                        \n",
      "16  the only thing i did like was the prime rib and dessert section                                                                                                              \n",
      "17  five star plus plus                                                                                                                                                          \n",
      "18  the veggitarian platter is out of this world                                                                                                                                 \n",
      "19  the battery is working well as a replacement for the original that came with the phone over years ago                                                                        \n",
      "20  i promise they won t disappoint                                                                                                                                              \n",
      "21  if there was ever a movie that needed word of mouth to promote this is it                                                                                                    \n",
      "22  my mother and brother had to do this when i saw robert ryan portraying this type of man it was a very good imitation of this type of individual and i was impressed          \n",
      "23  everyone is treated equally special                                                                                                                                          \n",
      "24  yet i enjoy watching it                                                                                                                                                      \n",
      "25  very satisifed with that                                                                                                                                                     \n",
      "26  the food came out at a good pace                                                                                                                                             \n",
      "27  these are the nicest restaurant owners i ve ever come across                                                                                                                 \n",
      "28  the owner used to work at nobu so this place is really similar for half the price                                                                                            \n",
      "29  manna from heaven is a terrific film that is both predictable and unpredictable at the same time                                                                             \n",
      "30  you get extra minutes so that you can carry out the call and not get cut off                                                                                                 \n",
      "31  it s like a really sexy party in your mouth where you re outrageously flirting with the hottest person at the party                                                          \n",
      "32  not only did the software do a great job of this i could also make my own ringtones form my existing cds without an internet connection                                      \n",
      "33  good protection and does not make phone too bulky                                                                                                                            \n",
      "34  it s hard not to fall head over heels in love with that girl                                                                                                                 \n",
      "35  the pairing of the two devices was so easy it barely took a couple minutes before i started making calls with the voice dialing feature                                      \n",
      "36  it was just not a fun experience                                                                                                                                             \n",
      "37  this was such an awesome movie that i bought it off of ebay                                                                                                                  \n",
      "38  i tried the cape cod ravoli chicken with cranberry mmmm                                                                                                                      \n",
      "39  in fact it s hard to remember that the part of ray charles is being acted and not played by the man himself                                                                  \n",
      "40  what i really like there is the crepe station                                                                                                                                \n",
      "41  gets a signal when other verizon phones won t                                                                                                                                \n",
      "42  oct                                                                                                                                                                          \n",
      "43  i thoroughly enjoyed it when christopher eccleston took control of the tardis and the continuation of the series                                                             \n",
      "44  does everything it should and more                                                                                                                                           \n",
      "45  i d say that would be the hardest decision honestly all of m s dishes taste how they are supposed to taste amazing                                                           \n",
      "46  totally believable                                                                                                                                                           \n",
      "47  i ordered the voodoo pasta and it was the first time i d had really excellent pasta since going gluten free several years ago                                                \n",
      "48  black water is a thriller that manages to completely transcend it s limitations it s an indie flick by continually subverting expectations to emerge as an intense experience\n",
      "49  i have yet to run this new battery below two bars and that s three days without charging                                                                                     \n",
      "50  it ll be a regular stop on my trips to phoenix                                                                                                                               \n",
      "51  i m glad i found this product on amazon it is hard to find it wasn t high priced                                                                                             \n",
      "52  actually the graphics were good at the time                                                                                                                                  \n",
      "53  plus it s only bucks                                                                                                                                                         \n",
      "54  the only redeeming quality of the restaurant was that it was very inexpensive                                                                                                \n",
      "55  nicest chinese restaurant i ve been in a while                                                                                                                               \n",
      "56  i don t know exactly what it is about this movie but we latched on to this endearing movie and it has become a special part of our family s memories                         \n",
      "57  waste your money on this game                                                                                                                                                \n",
      "58  it features an outlandish array of memorable psychotic but lovable nuts                                                                                                      \n",
      "59  just what i wanted                                                                                                                                                           \n",
      "60  spoilers whatever else can or can t be said about it surface is superbly crafted                                                                                             \n",
      "61  we had a group of when we claimed we would only have and they handled us beautifully                                                                                         \n",
      "62  the portion was huge                                                                                                                                                         \n",
      "63  it is so small and you don t even realize that it is there after a while of getting used to it                                                                               \n"
     ]
    }
   ],
   "source": [
    "#'False Negative' instances as per final results on trained dataset\n",
    "\n",
    "FN = X_test[(y_test == 1) & (lr_predictions == 0)]\n",
    "FN= pd.DataFrame(FN)\n",
    "with pd.option_context('display.max_rows', None,\n",
    "                       'display.max_columns', None,\n",
    "                       'display.max_colwidth', -1,\n",
    "                       ):\n",
    "    print(FN)"
   ]
  },
  {
   "cell_type": "code",
   "execution_count": 27,
   "metadata": {},
   "outputs": [
    {
     "name": "stdout",
     "output_type": "stream",
     "text": [
      "                                                                                                                                                                             0\n",
      "0   i find this inexcusable and so will probably be returning this phone and perhaps changing carriers                                                                        \n",
      "1   very displeased                                                                                                                                                           \n",
      "2   seems like a good quick place to grab a bite of some familiar pub food but do yourself a favor and look elsewhere                                                         \n",
      "3   you can t relate with them hell you barely can understand them                                                                                                            \n",
      "4   i put the latest os on it v g and it now likes to slow to a crawl and lock up every once in a while                                                                       \n",
      "5   and the drinks are weak people                                                                                                                                            \n",
      "6   i have had problems wit hit dropping signal and more                                                                                                                      \n",
      "7   the cable looks so thin and flimsy it is scary                                                                                                                            \n",
      "8   i m translating movies for a living and this is the first movie in my year working experience that i found offensive to my intelligence                                   \n",
      "9   i m super pissd                                                                                                                                                           \n",
      "10  i bought this phone as a replacement for my startac and have regretted it since                                                                                           \n",
      "11  on the ground right next to our table was a large smeared been stepped in and tracked everywhere pile of green bird poop                                                  \n",
      "12  i hate to disagree with my fellow yelpers but my husband and i were so disappointed with this place                                                                       \n",
      "13  also i feel like the chips are bought not made in house                                                                                                                   \n",
      "14  it is shameful                                                                                                                                                            \n",
      "15  the scallop dish is quite appalling for value as well                                                                                                                     \n",
      "16  i consider this theft                                                                                                                                                     \n",
      "17  i ll even say it again this is torture                                                                                                                                    \n",
      "18  essentially you can forget microsoft s tech support                                                                                                                       \n",
      "19  we ve have gotten a much better service from the pizza place next door than the services we received from this restaurant                                                 \n",
      "20  this is definitely one of the bad ones                                                                                                                                    \n",
      "21  one more thing i can tolerate political incorrectness very well i m all for artistic freedom and suspension of disbelief but the slavic female character was just too much\n",
      "22  this is so embarassing and also my ears hurt if i try to push the ear plug into my ear                                                                                    \n",
      "23  the characters were very stagey and the storyline was a lot like a stage farce                                                                                            \n",
      "24  long whiny and pointless                                                                                                                                                  \n",
      "25  any grandmother can make a roasted chicken better than this one                                                                                                           \n",
      "26  trying to make a call on these is an exercise in frustration                                                                                                              \n",
      "27  i ve lived here since and this was the first and last time i ve stepped foot into this place                                                                              \n",
      "28  now i am getting angry and i want my damn pho                                                                                                                             \n",
      "29  it also had a new problem                                                                                                                                                 \n",
      "30  i am far from a sushi connoisseur but i can definitely tell the difference between good food and bad food and this was certainly bad food                                 \n",
      "31  the food wasn t good                                                                                                                                                      \n",
      "32  i also didn t like the on button it felt like it would crack with use                                                                                                     \n",
      "33  the ambiance isn t much better                                                                                                                                            \n",
      "34  as for the mains also uninspired                                                                                                                                          \n",
      "35  this is a disgrace                                                                                                                                                        \n",
      "36  i go to far too many places and i ve never seen any restaurant that serves a egg breakfast especially for                                                                 \n",
      "37  the potatoes were like rubber and you could tell they had been made up ahead of time being kept under a warmer                                                            \n",
      "38  very little music or anything to speak of                                                                                                                                 \n",
      "39  i bought these hoping i could make my bluetooth headset fit better but these things made it impossible to wear                                                            \n",
      "40  utterly without merit on any level this is akin to torture                                                                                                                \n",
      "41  my husband and i ate lunch here and were very disappointed with the food and service                                                                                      \n",
      "42  it was a pale color instead of nice and char and has no flavor                                                                                                            \n",
      "43  sadly gordon ramsey s steak is a place we shall sharply avoid during our next trip to vegas                                                                               \n",
      "44  the phone gets extremely hot                                                                                                                                              \n",
      "45  i dressed up to be treated so rudely                                                                                                                                      \n",
      "46  so in a nutshell the restaraunt smells like a combination of a dirty fish market and a sewer                                                                              \n",
      "47  nobody identifies with these characters because they re all cardboard cutouts and stereotypes or predictably reverse stereotypes                                          \n",
      "48  if you check the director s filmography on this site you will see why this film didn t have a chance                                                                      \n",
      "49  it is cheap and it feel and look just as cheap                                                                                                                            \n",
      "50  the selection of food was not the best                                                                                                                                    \n",
      "51  the kids are annoying                                                                                                                                                     \n",
      "52  i asked multiple times for the wine list and after some time of being ignored i went to the hostess and got one myself                                                    \n",
      "53  my experience was terrible this was my fourth bluetooth headset and while it was much more comfortable than my last jabra which i hated                                   \n",
      "54  say bye bye to your tip lady                                                                                                                                              \n",
      "55  oh and i forgot to also mention the weird color effect it has on your phone                                                                                               \n",
      "56  unfortunately it s easy to accidentally activate them with the gentle touch buttons if you accidentally touch the phone to your face while listening                      \n",
      "57  this was like the final blow                                                                                                                                              \n",
      "58  this item worked great but it broke after months of use                                                                                                                   \n",
      "59  you also cannot take pictures with it in the case because the lense is covered                                                                                            \n",
      "60  it s this pandering to the audience that sabotages most of his films                                                                                                      \n",
      "61  all in all a great disappointment                                                                                                                                         \n",
      "62  i have watched their prices inflate portions get smaller and management attitudes grow rapidly                                                                            \n"
     ]
    }
   ],
   "source": [
    "#'False Positive' instances as per final results on trained dataset\n",
    "\n",
    "FP = X_test[(y_test == 0) & (lr_predictions == 1)]\n",
    "FP= pd.DataFrame(FP)\n",
    "with pd.option_context('display.max_rows', None,\n",
    "                       'display.max_columns', None,\n",
    "                       'display.max_colwidth', -1,\n",
    "                       ):\n",
    "    print(FP)"
   ]
  },
  {
   "cell_type": "code",
   "execution_count": 441,
   "metadata": {},
   "outputs": [
    {
     "data": {
      "text/plain": [
       "<Figure size 1080x576 with 0 Axes>"
      ]
     },
     "execution_count": 441,
     "metadata": {},
     "output_type": "execute_result"
    },
    {
     "data": {
      "text/plain": [
       "<AxesSubplot:xlabel='frequency', ylabel='word'>"
      ]
     },
     "execution_count": 441,
     "metadata": {},
     "output_type": "execute_result"
    },
    {
     "data": {
      "image/png": "[encoded data removed]",
      "text/plain": [
       "<Figure size 1080x576 with 1 Axes>"
      ]
     },
     "metadata": {
      "needs_background": "light"
     },
     "output_type": "display_data"
    }
   ],
   "source": [
    "#plotting word frequency of False Negative instances\n",
    "\n",
    "FNlist = X_test[(y_test == 1) & (lr_predictions == 0)].tolist()\n",
    "FNstring = ''.join(FNlist)\n",
    "\n",
    "from nltk.tokenize import word_tokenize\n",
    "\n",
    "FNtokens = word_tokenize(FNstring)\n",
    "\n",
    "from collections import Counter\n",
    "\n",
    "FN_counted = Counter(FNtokens)\n",
    "\n",
    "FN_word_freq = pd.DataFrame(FN_counted.items(),\n",
    "                            columns=['word','frequency']).sort_values(\n",
    "    by='frequency',ascending=False)\n",
    "\n",
    "import seaborn as sns\n",
    "\n",
    "plt.figure(figsize=(15,8))\n",
    "sns.barplot(x='frequency',y='word',data=FN_word_freq.head(30))"
   ]
  },
  {
   "cell_type": "code",
   "execution_count": 436,
   "metadata": {},
   "outputs": [
    {
     "data": {
      "text/plain": [
       "<Figure size 1080x576 with 0 Axes>"
      ]
     },
     "execution_count": 436,
     "metadata": {},
     "output_type": "execute_result"
    },
    {
     "data": {
      "text/plain": [
       "<AxesSubplot:xlabel='frequency', ylabel='word'>"
      ]
     },
     "execution_count": 436,
     "metadata": {},
     "output_type": "execute_result"
    },
    {
     "data": {
      "image/png": "[encoded data removed]",
      "text/plain": [
       "<Figure size 1080x576 with 1 Axes>"
      ]
     },
     "metadata": {
      "needs_background": "light"
     },
     "output_type": "display_data"
    }
   ],
   "source": [
    "#plotting word frequency of False Positive instances\n",
    "\n",
    "FPlist = X_test[(y_test == 0) & (lr_predictions == 1)].tolist()\n",
    "FPstring = ''.join(FPlist)\n",
    "\n",
    "FPtokens = word_tokenize(FPstring)\n",
    "\n",
    "FP_counted = Counter(FPtokens)\n",
    "\n",
    "FP_word_freq = pd.DataFrame(FP_counted.items(),\n",
    "                            columns=['word','frequency']).sort_values(\n",
    "    by='frequency',ascending=False)\n",
    "\n",
    "plt.figure(figsize=(15,8))\n",
    "sns.barplot(x='frequency',y='word',data=FP_word_freq.head(30))"
   ]
  },
  {
   "cell_type": "markdown",
   "metadata": {},
   "source": [
    "### There are not a lot of insights from the graphs as the most recurring words are naturally the stopwords which we did not remove from the sentences due to the reason highlighted above"
   ]
  },
  {
   "cell_type": "markdown",
   "metadata": {},
   "source": [
    "Based on observing the FN and FP sentences, the model failed to predict some instances correctly due to a couple of reasons. These reasons have been listed below with examples:"
   ]
  },
  {
   "cell_type": "markdown",
   "metadata": {},
   "source": [
    "**1) Sarcasm and the use of Irony (leading to False Positives)**\n",
    "\n",
    "As with most NLP models, it is considerably challenging to identify the level of negation in sarcastic or ironic statements as they do not contain negative words and their meanings are often hidden in context or in the tone of the sentence. This can potentially lead to False Positives, as shown below:"
   ]
  },
  {
   "cell_type": "code",
   "execution_count": 31,
   "metadata": {},
   "outputs": [
    {
     "name": "stdout",
     "output_type": "stream",
     "text": [
      "                                       0\n",
      "45  i dressed up to be treated so rudely\n",
      "54  say bye bye to your tip lady        \n"
     ]
    }
   ],
   "source": [
    "# example of sarcastic sentences which came up as False Positives\n",
    "\n",
    "with pd.option_context('display.max_rows', None,\n",
    "                       'display.max_columns', None,\n",
    "                       'display.max_colwidth', -1,\n",
    "                       ):\n",
    "    print(FP.loc[[45,54]])"
   ]
  },
  {
   "cell_type": "markdown",
   "metadata": {},
   "source": [
    "**2) The use of positive words in negative sentences (leading to False Positives)**\n",
    "\n",
    "There are some sentences that are negative but contain positive words such as good or better leading to some degree of ambiguity"
   ]
  },
  {
   "cell_type": "code",
   "execution_count": 29,
   "metadata": {},
   "outputs": [
    {
     "name": "stdout",
     "output_type": "stream",
     "text": [
      "                                                                                                                            0\n",
      "2   seems like a good quick place to grab a bite of some familiar pub food but do yourself a favor and look elsewhere        \n",
      "19  we ve have gotten a much better service from the pizza place next door than the services we received from this restaurant\n"
     ]
    }
   ],
   "source": [
    "# example of negative sentences with positive words which came up as False Positives\n",
    "\n",
    "with pd.option_context('display.max_rows', None,\n",
    "                       'display.max_columns', None,\n",
    "                       'display.max_colwidth', -1,\n",
    "                       ):\n",
    "    print(FP.loc[[2,19]])"
   ]
  },
  {
   "cell_type": "markdown",
   "metadata": {},
   "source": [
    "**3) The use of negative words in positive statements (leading to False Negatives)**\n",
    "\n",
    "There are a lot of positive sentences that used the words 'not' or 'dont' and got categorized as negative statements leading to False Negatives"
   ]
  },
  {
   "cell_type": "code",
   "execution_count": 30,
   "metadata": {},
   "outputs": [
    {
     "name": "stdout",
     "output_type": "stream",
     "text": [
      "                                                                                                                                                       0\n",
      "13  because both ears are occupied background is not distracting at all                                                                                 \n",
      "56  i don t know exactly what it is about this movie but we latched on to this endearing movie and it has become a special part of our family s memories\n"
     ]
    }
   ],
   "source": [
    "# example of negative sentences with positive words which came up as False Positives\n",
    "\n",
    "with pd.option_context('display.max_rows', None,\n",
    "                       'display.max_columns', None,\n",
    "                       'display.max_colwidth', -1,\n",
    "                       ):\n",
    "    print(FN.loc[[13,56]])"
   ]
  }
 ],
 "metadata": {
  "kernelspec": {
   "display_name": "Python 3 (ipykernel)",
   "language": "python",
   "name": "python3"
  },
  "language_info": {
   "codemirror_mode": {
    "name": "ipython",
    "version": 3
   },
   "file_extension": ".py",
   "mimetype": "text/x-python",
   "name": "python",
   "nbconvert_exporter": "python",
   "pygments_lexer": "ipython3",
   "version": "3.9.7"
  }
 },
 "nbformat": 4,
 "nbformat_minor": 4
}
