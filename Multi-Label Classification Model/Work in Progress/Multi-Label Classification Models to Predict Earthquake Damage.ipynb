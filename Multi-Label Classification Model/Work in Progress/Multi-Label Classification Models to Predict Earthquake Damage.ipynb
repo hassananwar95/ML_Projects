{
 "cells": [
  {
   "cell_type": "markdown",
   "id": "f6599ef3",
   "metadata": {},
   "source": [
    "# Multi-Label Classification Models to Predict Earthquake Damage"
   ]
  },
  {
   "cell_type": "markdown",
   "id": "57138d78",
   "metadata": {},
   "source": [
    "**Problem Statement**\n",
    "\n",
    "Based on aspects of building location and construction, the goal is to predict the level of damage to buildings caused by the 2015 Gorkha earthquake in Nepal"
   ]
  },
  {
   "cell_type": "code",
   "execution_count": 1,
   "id": "5b6d4102",
   "metadata": {},
   "outputs": [],
   "source": [
    "import numpy as np\n",
    "import pandas as pd\n",
    "import sklearn\n",
    "import matplotlib.pyplot as plt\n",
    "from sklearn.metrics import confusion_matrix\n",
    "from sklearn.metrics import classification_report\n",
    "from sklearn.model_selection import cross_val_score\n",
    "from sklearn.linear_model import LogisticRegression\n",
    "from sklearn.ensemble import RandomForestClassifier\n",
    "from sklearn.ensemble import BaggingClassifier\n",
    "from sklearn.ensemble import ExtraTreesClassifier\n",
    "from sklearn.neighbors import KNeighborsClassifier\n",
    "from sklearn.ensemble import AdaBoostClassifier\n",
    "from mlxtend.classifier import StackingClassifier\n",
    "from sklearn.ensemble import VotingClassifier\n",
    "from xgboost import XGBClassifier\n",
    "from sklearn.preprocessing import LabelEncoder\n",
    "from lightgbm import LGBMClassifier\n",
    "from catboost import CatBoostClassifier\n",
    "from sklearn.preprocessing import StandardScaler\n",
    "from sklearn.preprocessing import MinMaxScaler\n",
    "from sklearn.preprocessing import FunctionTransformer\n",
    "from sklearn.preprocessing import PowerTransformer\n",
    "from sklearn.decomposition import PCA\n",
    "from sklearn.pipeline import Pipeline, make_pipeline\n",
    "from sklearn.model_selection import GridSearchCV\n",
    "from sklearn.feature_selection import RFECV, RFE\n",
    "from sklearn.model_selection import cross_val_score\n",
    "from sklearn.metrics import f1_score\n",
    "import optuna\n",
    "\n",
    "from IPython.core.interactiveshell import InteractiveShell\n",
    "InteractiveShell.ast_node_interactivity = \"all\""
   ]
  },
  {
   "cell_type": "code",
   "execution_count": 2,
   "id": "3b7db77b",
   "metadata": {},
   "outputs": [],
   "source": [
    "df_trainX = pd.read_csv(\"train_values.csv\",index_col='building_id')\n",
    "df_trainY = pd.read_csv(\"train_labels.csv\")\n",
    "\n",
    "\n",
    "df_testX = pd.read_csv(\"test_values.csv\",index_col='building_id')"
   ]
  },
  {
   "cell_type": "code",
   "execution_count": 3,
   "id": "21496a61",
   "metadata": {},
   "outputs": [
    {
     "data": {
      "text/html": [
       "<div>\n",
       "<style scoped>\n",
       "    .dataframe tbody tr th:only-of-type {\n",
       "        vertical-align: middle;\n",
       "    }\n",
       "\n",
       "    .dataframe tbody tr th {\n",
       "        vertical-align: top;\n",
       "    }\n",
       "\n",
       "    .dataframe thead th {\n",
       "        text-align: right;\n",
       "    }\n",
       "</style>\n",
       "<table border=\"1\" class=\"dataframe\">\n",
       "  <thead>\n",
       "    <tr style=\"text-align: right;\">\n",
       "      <th></th>\n",
       "      <th>building_id</th>\n",
       "      <th>damage_grade</th>\n",
       "    </tr>\n",
       "  </thead>\n",
       "  <tbody>\n",
       "    <tr>\n",
       "      <th>0</th>\n",
       "      <td>802906</td>\n",
       "      <td>3</td>\n",
       "    </tr>\n",
       "    <tr>\n",
       "      <th>1</th>\n",
       "      <td>28830</td>\n",
       "      <td>2</td>\n",
       "    </tr>\n",
       "    <tr>\n",
       "      <th>2</th>\n",
       "      <td>94947</td>\n",
       "      <td>3</td>\n",
       "    </tr>\n",
       "    <tr>\n",
       "      <th>3</th>\n",
       "      <td>590882</td>\n",
       "      <td>2</td>\n",
       "    </tr>\n",
       "    <tr>\n",
       "      <th>4</th>\n",
       "      <td>201944</td>\n",
       "      <td>3</td>\n",
       "    </tr>\n",
       "  </tbody>\n",
       "</table>\n",
       "</div>"
      ],
      "text/plain": [
       "   building_id  damage_grade\n",
       "0       802906             3\n",
       "1        28830             2\n",
       "2        94947             3\n",
       "3       590882             2\n",
       "4       201944             3"
      ]
     },
     "execution_count": 3,
     "metadata": {},
     "output_type": "execute_result"
    }
   ],
   "source": [
    "df_trainY.head()"
   ]
  },
  {
   "cell_type": "code",
   "execution_count": 4,
   "id": "92362d56",
   "metadata": {},
   "outputs": [
    {
     "data": {
      "text/html": [
       "<div>\n",
       "<style scoped>\n",
       "    .dataframe tbody tr th:only-of-type {\n",
       "        vertical-align: middle;\n",
       "    }\n",
       "\n",
       "    .dataframe tbody tr th {\n",
       "        vertical-align: top;\n",
       "    }\n",
       "\n",
       "    .dataframe thead th {\n",
       "        text-align: right;\n",
       "    }\n",
       "</style>\n",
       "<table border=\"1\" class=\"dataframe\">\n",
       "  <thead>\n",
       "    <tr style=\"text-align: right;\">\n",
       "      <th></th>\n",
       "      <th>geo_level_1_id</th>\n",
       "      <th>geo_level_2_id</th>\n",
       "      <th>geo_level_3_id</th>\n",
       "      <th>count_floors_pre_eq</th>\n",
       "      <th>age</th>\n",
       "      <th>area_percentage</th>\n",
       "      <th>height_percentage</th>\n",
       "      <th>land_surface_condition</th>\n",
       "      <th>foundation_type</th>\n",
       "      <th>roof_type</th>\n",
       "      <th>...</th>\n",
       "      <th>has_secondary_use_agriculture</th>\n",
       "      <th>has_secondary_use_hotel</th>\n",
       "      <th>has_secondary_use_rental</th>\n",
       "      <th>has_secondary_use_institution</th>\n",
       "      <th>has_secondary_use_school</th>\n",
       "      <th>has_secondary_use_industry</th>\n",
       "      <th>has_secondary_use_health_post</th>\n",
       "      <th>has_secondary_use_gov_office</th>\n",
       "      <th>has_secondary_use_use_police</th>\n",
       "      <th>has_secondary_use_other</th>\n",
       "    </tr>\n",
       "    <tr>\n",
       "      <th>building_id</th>\n",
       "      <th></th>\n",
       "      <th></th>\n",
       "      <th></th>\n",
       "      <th></th>\n",
       "      <th></th>\n",
       "      <th></th>\n",
       "      <th></th>\n",
       "      <th></th>\n",
       "      <th></th>\n",
       "      <th></th>\n",
       "      <th></th>\n",
       "      <th></th>\n",
       "      <th></th>\n",
       "      <th></th>\n",
       "      <th></th>\n",
       "      <th></th>\n",
       "      <th></th>\n",
       "      <th></th>\n",
       "      <th></th>\n",
       "      <th></th>\n",
       "      <th></th>\n",
       "    </tr>\n",
       "  </thead>\n",
       "  <tbody>\n",
       "    <tr>\n",
       "      <th>300051</th>\n",
       "      <td>17</td>\n",
       "      <td>596</td>\n",
       "      <td>11307</td>\n",
       "      <td>3</td>\n",
       "      <td>20</td>\n",
       "      <td>7</td>\n",
       "      <td>6</td>\n",
       "      <td>t</td>\n",
       "      <td>r</td>\n",
       "      <td>n</td>\n",
       "      <td>...</td>\n",
       "      <td>0</td>\n",
       "      <td>0</td>\n",
       "      <td>0</td>\n",
       "      <td>0</td>\n",
       "      <td>0</td>\n",
       "      <td>0</td>\n",
       "      <td>0</td>\n",
       "      <td>0</td>\n",
       "      <td>0</td>\n",
       "      <td>0</td>\n",
       "    </tr>\n",
       "    <tr>\n",
       "      <th>99355</th>\n",
       "      <td>6</td>\n",
       "      <td>141</td>\n",
       "      <td>11987</td>\n",
       "      <td>2</td>\n",
       "      <td>25</td>\n",
       "      <td>13</td>\n",
       "      <td>5</td>\n",
       "      <td>t</td>\n",
       "      <td>r</td>\n",
       "      <td>n</td>\n",
       "      <td>...</td>\n",
       "      <td>1</td>\n",
       "      <td>0</td>\n",
       "      <td>0</td>\n",
       "      <td>0</td>\n",
       "      <td>0</td>\n",
       "      <td>0</td>\n",
       "      <td>0</td>\n",
       "      <td>0</td>\n",
       "      <td>0</td>\n",
       "      <td>0</td>\n",
       "    </tr>\n",
       "    <tr>\n",
       "      <th>890251</th>\n",
       "      <td>22</td>\n",
       "      <td>19</td>\n",
       "      <td>10044</td>\n",
       "      <td>2</td>\n",
       "      <td>5</td>\n",
       "      <td>4</td>\n",
       "      <td>5</td>\n",
       "      <td>t</td>\n",
       "      <td>r</td>\n",
       "      <td>n</td>\n",
       "      <td>...</td>\n",
       "      <td>0</td>\n",
       "      <td>0</td>\n",
       "      <td>0</td>\n",
       "      <td>0</td>\n",
       "      <td>0</td>\n",
       "      <td>0</td>\n",
       "      <td>0</td>\n",
       "      <td>0</td>\n",
       "      <td>0</td>\n",
       "      <td>0</td>\n",
       "    </tr>\n",
       "    <tr>\n",
       "      <th>745817</th>\n",
       "      <td>26</td>\n",
       "      <td>39</td>\n",
       "      <td>633</td>\n",
       "      <td>1</td>\n",
       "      <td>0</td>\n",
       "      <td>19</td>\n",
       "      <td>3</td>\n",
       "      <td>t</td>\n",
       "      <td>r</td>\n",
       "      <td>x</td>\n",
       "      <td>...</td>\n",
       "      <td>0</td>\n",
       "      <td>0</td>\n",
       "      <td>1</td>\n",
       "      <td>0</td>\n",
       "      <td>0</td>\n",
       "      <td>0</td>\n",
       "      <td>0</td>\n",
       "      <td>0</td>\n",
       "      <td>0</td>\n",
       "      <td>0</td>\n",
       "    </tr>\n",
       "    <tr>\n",
       "      <th>421793</th>\n",
       "      <td>17</td>\n",
       "      <td>289</td>\n",
       "      <td>7970</td>\n",
       "      <td>3</td>\n",
       "      <td>15</td>\n",
       "      <td>8</td>\n",
       "      <td>7</td>\n",
       "      <td>t</td>\n",
       "      <td>r</td>\n",
       "      <td>q</td>\n",
       "      <td>...</td>\n",
       "      <td>0</td>\n",
       "      <td>0</td>\n",
       "      <td>0</td>\n",
       "      <td>0</td>\n",
       "      <td>0</td>\n",
       "      <td>0</td>\n",
       "      <td>0</td>\n",
       "      <td>0</td>\n",
       "      <td>0</td>\n",
       "      <td>0</td>\n",
       "    </tr>\n",
       "  </tbody>\n",
       "</table>\n",
       "<p>5 rows × 38 columns</p>\n",
       "</div>"
      ],
      "text/plain": [
       "             geo_level_1_id  geo_level_2_id  geo_level_3_id  \\\n",
       "building_id                                                   \n",
       "300051                   17             596           11307   \n",
       "99355                     6             141           11987   \n",
       "890251                   22              19           10044   \n",
       "745817                   26              39             633   \n",
       "421793                   17             289            7970   \n",
       "\n",
       "             count_floors_pre_eq  age  area_percentage  height_percentage  \\\n",
       "building_id                                                                 \n",
       "300051                         3   20                7                  6   \n",
       "99355                          2   25               13                  5   \n",
       "890251                         2    5                4                  5   \n",
       "745817                         1    0               19                  3   \n",
       "421793                         3   15                8                  7   \n",
       "\n",
       "            land_surface_condition foundation_type roof_type  ...  \\\n",
       "building_id                                                   ...   \n",
       "300051                           t               r         n  ...   \n",
       "99355                            t               r         n  ...   \n",
       "890251                           t               r         n  ...   \n",
       "745817                           t               r         x  ...   \n",
       "421793                           t               r         q  ...   \n",
       "\n",
       "            has_secondary_use_agriculture has_secondary_use_hotel  \\\n",
       "building_id                                                         \n",
       "300051                                  0                       0   \n",
       "99355                                   1                       0   \n",
       "890251                                  0                       0   \n",
       "745817                                  0                       0   \n",
       "421793                                  0                       0   \n",
       "\n",
       "            has_secondary_use_rental has_secondary_use_institution  \\\n",
       "building_id                                                          \n",
       "300051                             0                             0   \n",
       "99355                              0                             0   \n",
       "890251                             0                             0   \n",
       "745817                             1                             0   \n",
       "421793                             0                             0   \n",
       "\n",
       "             has_secondary_use_school  has_secondary_use_industry  \\\n",
       "building_id                                                         \n",
       "300051                              0                           0   \n",
       "99355                               0                           0   \n",
       "890251                              0                           0   \n",
       "745817                              0                           0   \n",
       "421793                              0                           0   \n",
       "\n",
       "             has_secondary_use_health_post  has_secondary_use_gov_office  \\\n",
       "building_id                                                                \n",
       "300051                                   0                             0   \n",
       "99355                                    0                             0   \n",
       "890251                                   0                             0   \n",
       "745817                                   0                             0   \n",
       "421793                                   0                             0   \n",
       "\n",
       "             has_secondary_use_use_police  has_secondary_use_other  \n",
       "building_id                                                         \n",
       "300051                                  0                        0  \n",
       "99355                                   0                        0  \n",
       "890251                                  0                        0  \n",
       "745817                                  0                        0  \n",
       "421793                                  0                        0  \n",
       "\n",
       "[5 rows x 38 columns]"
      ]
     },
     "execution_count": 4,
     "metadata": {},
     "output_type": "execute_result"
    }
   ],
   "source": [
    "df_testX.head()"
   ]
  },
  {
   "cell_type": "markdown",
   "id": "2350e72e",
   "metadata": {},
   "source": [
    "## Changing Geo_level to categorical variables"
   ]
  },
  {
   "cell_type": "code",
   "execution_count": 3,
   "id": "79a91190",
   "metadata": {},
   "outputs": [
    {
     "data": {
      "text/plain": [
       "geo_level_1_id     int64\n",
       "geo_level_2_id     int64\n",
       "geo_level_3_id     int64\n",
       "area_percentage    int64\n",
       "dtype: object"
      ]
     },
     "execution_count": 3,
     "metadata": {},
     "output_type": "execute_result"
    }
   ],
   "source": [
    "cat_cols=['geo_level_1_id','geo_level_2_id','geo_level_3_id','area_percentage']\n",
    "df_trainX[cat_cols].dtypes"
   ]
  },
  {
   "cell_type": "code",
   "execution_count": 4,
   "id": "899a5ef0",
   "metadata": {},
   "outputs": [],
   "source": [
    "df_trainX[cat_cols] = df_trainX[cat_cols].astype('category')\n",
    "df_testX[cat_cols] = df_testX[cat_cols].astype('category')"
   ]
  },
  {
   "cell_type": "code",
   "execution_count": 5,
   "id": "df4f0832",
   "metadata": {},
   "outputs": [
    {
     "data": {
      "text/plain": [
       "geo_level_1_id     category\n",
       "geo_level_2_id     category\n",
       "geo_level_3_id     category\n",
       "area_percentage    category\n",
       "dtype: object"
      ]
     },
     "execution_count": 5,
     "metadata": {},
     "output_type": "execute_result"
    }
   ],
   "source": [
    "df_trainX[cat_cols].dtypes"
   ]
  },
  {
   "cell_type": "code",
   "execution_count": 99,
   "id": "948b6143",
   "metadata": {},
   "outputs": [
    {
     "data": {
      "text/html": [
       "<div>\n",
       "<style scoped>\n",
       "    .dataframe tbody tr th:only-of-type {\n",
       "        vertical-align: middle;\n",
       "    }\n",
       "\n",
       "    .dataframe tbody tr th {\n",
       "        vertical-align: top;\n",
       "    }\n",
       "\n",
       "    .dataframe thead th {\n",
       "        text-align: right;\n",
       "    }\n",
       "</style>\n",
       "<table border=\"1\" class=\"dataframe\">\n",
       "  <thead>\n",
       "    <tr style=\"text-align: right;\">\n",
       "      <th></th>\n",
       "      <th>geo_level_1_id</th>\n",
       "      <th>geo_level_2_id</th>\n",
       "      <th>geo_level_3_id</th>\n",
       "      <th>area_percentage</th>\n",
       "    </tr>\n",
       "    <tr>\n",
       "      <th>building_id</th>\n",
       "      <th></th>\n",
       "      <th></th>\n",
       "      <th></th>\n",
       "      <th></th>\n",
       "    </tr>\n",
       "  </thead>\n",
       "  <tbody>\n",
       "    <tr>\n",
       "      <th>802906</th>\n",
       "      <td>6</td>\n",
       "      <td>487</td>\n",
       "      <td>12198</td>\n",
       "      <td>6</td>\n",
       "    </tr>\n",
       "    <tr>\n",
       "      <th>28830</th>\n",
       "      <td>8</td>\n",
       "      <td>900</td>\n",
       "      <td>2812</td>\n",
       "      <td>8</td>\n",
       "    </tr>\n",
       "    <tr>\n",
       "      <th>94947</th>\n",
       "      <td>21</td>\n",
       "      <td>363</td>\n",
       "      <td>8973</td>\n",
       "      <td>5</td>\n",
       "    </tr>\n",
       "    <tr>\n",
       "      <th>590882</th>\n",
       "      <td>22</td>\n",
       "      <td>418</td>\n",
       "      <td>10694</td>\n",
       "      <td>6</td>\n",
       "    </tr>\n",
       "    <tr>\n",
       "      <th>201944</th>\n",
       "      <td>11</td>\n",
       "      <td>131</td>\n",
       "      <td>1488</td>\n",
       "      <td>8</td>\n",
       "    </tr>\n",
       "    <tr>\n",
       "      <th>...</th>\n",
       "      <td>...</td>\n",
       "      <td>...</td>\n",
       "      <td>...</td>\n",
       "      <td>...</td>\n",
       "    </tr>\n",
       "    <tr>\n",
       "      <th>688636</th>\n",
       "      <td>25</td>\n",
       "      <td>1335</td>\n",
       "      <td>1621</td>\n",
       "      <td>6</td>\n",
       "    </tr>\n",
       "    <tr>\n",
       "      <th>669485</th>\n",
       "      <td>17</td>\n",
       "      <td>715</td>\n",
       "      <td>2060</td>\n",
       "      <td>6</td>\n",
       "    </tr>\n",
       "    <tr>\n",
       "      <th>602512</th>\n",
       "      <td>17</td>\n",
       "      <td>51</td>\n",
       "      <td>8163</td>\n",
       "      <td>6</td>\n",
       "    </tr>\n",
       "    <tr>\n",
       "      <th>151409</th>\n",
       "      <td>26</td>\n",
       "      <td>39</td>\n",
       "      <td>1851</td>\n",
       "      <td>14</td>\n",
       "    </tr>\n",
       "    <tr>\n",
       "      <th>747594</th>\n",
       "      <td>21</td>\n",
       "      <td>9</td>\n",
       "      <td>9101</td>\n",
       "      <td>7</td>\n",
       "    </tr>\n",
       "  </tbody>\n",
       "</table>\n",
       "<p>260601 rows × 4 columns</p>\n",
       "</div>"
      ],
      "text/plain": [
       "            geo_level_1_id geo_level_2_id geo_level_3_id area_percentage\n",
       "building_id                                                             \n",
       "802906                   6            487          12198               6\n",
       "28830                    8            900           2812               8\n",
       "94947                   21            363           8973               5\n",
       "590882                  22            418          10694               6\n",
       "201944                  11            131           1488               8\n",
       "...                    ...            ...            ...             ...\n",
       "688636                  25           1335           1621               6\n",
       "669485                  17            715           2060               6\n",
       "602512                  17             51           8163               6\n",
       "151409                  26             39           1851              14\n",
       "747594                  21              9           9101               7\n",
       "\n",
       "[260601 rows x 4 columns]"
      ]
     },
     "execution_count": 99,
     "metadata": {},
     "output_type": "execute_result"
    }
   ],
   "source": [
    "df_trainX[cat_cols]"
   ]
  },
  {
   "cell_type": "markdown",
   "id": "48b39ddb",
   "metadata": {},
   "source": [
    "## Full DataSet Prep"
   ]
  },
  {
   "cell_type": "code",
   "execution_count": 21,
   "id": "b4415e49",
   "metadata": {},
   "outputs": [],
   "source": [
    "tempfulltrain_te=te.transform(df_trainX[['geo_level_1_id','geo_level_2_id','geo_level_3_id','area_percentage','land_surface_condition','foundation_type','roof_type',\n",
    "                         'ground_floor_type','other_floor_type','position','plan_configuration','legal_ownership_status']])\n",
    "\n",
    "tempfulltest_te=te.transform(df_testX[['geo_level_1_id','geo_level_2_id','geo_level_3_id','area_percentage','land_surface_condition','foundation_type','roof_type',\n",
    "                         'ground_floor_type','other_floor_type','position','plan_configuration','legal_ownership_status']])"
   ]
  },
  {
   "cell_type": "code",
   "execution_count": 22,
   "id": "6665867a",
   "metadata": {},
   "outputs": [],
   "source": [
    "X_te=pd.concat([df_trainX,tempfulltrain_te], axis=1)\n",
    "Xtest_te=pd.concat([df_testX,tempfulltest_te], axis=1)"
   ]
  },
  {
   "cell_type": "code",
   "execution_count": 23,
   "id": "e0fbc481",
   "metadata": {},
   "outputs": [
    {
     "data": {
      "text/plain": [
       "235565    2\n",
       "95353     2\n",
       "139666    3\n",
       "179504    3\n",
       "87972     2\n",
       "         ..\n",
       "229782    2\n",
       "243078    2\n",
       "34959     3\n",
       "64753     3\n",
       "207471    2\n",
       "Name: damage_grade, Length: 208480, dtype: int64"
      ]
     },
     "execution_count": 23,
     "metadata": {},
     "output_type": "execute_result"
    }
   ],
   "source": [
    "y_train"
   ]
  },
  {
   "cell_type": "code",
   "execution_count": 23,
   "id": "47348eb2",
   "metadata": {},
   "outputs": [],
   "source": [
    "X_te.drop(columns=['geo_level_1_id','geo_level_2_id','geo_level_3_id','area_percentage','land_surface_condition','foundation_type','roof_type',\n",
    "                         'ground_floor_type','other_floor_type','position','plan_configuration','legal_ownership_status'],inplace=True)\n",
    "\n",
    "Xtest_te.drop(columns=['geo_level_1_id','geo_level_2_id','geo_level_3_id','area_percentage','land_surface_condition','foundation_type','roof_type',\n",
    "                         'ground_floor_type','other_floor_type','position','plan_configuration','legal_ownership_status'],inplace=True)"
   ]
  },
  {
   "cell_type": "code",
   "execution_count": 25,
   "id": "057d0629",
   "metadata": {},
   "outputs": [
    {
     "data": {
      "text/html": [
       "<div>\n",
       "<style scoped>\n",
       "    .dataframe tbody tr th:only-of-type {\n",
       "        vertical-align: middle;\n",
       "    }\n",
       "\n",
       "    .dataframe tbody tr th {\n",
       "        vertical-align: top;\n",
       "    }\n",
       "\n",
       "    .dataframe thead th {\n",
       "        text-align: right;\n",
       "    }\n",
       "</style>\n",
       "<table border=\"1\" class=\"dataframe\">\n",
       "  <thead>\n",
       "    <tr style=\"text-align: right;\">\n",
       "      <th></th>\n",
       "      <th>count_floors_pre_eq</th>\n",
       "      <th>age</th>\n",
       "      <th>height_percentage</th>\n",
       "      <th>has_superstructure_adobe_mud</th>\n",
       "      <th>has_superstructure_mud_mortar_stone</th>\n",
       "      <th>has_superstructure_stone_flag</th>\n",
       "      <th>has_superstructure_cement_mortar_stone</th>\n",
       "      <th>has_superstructure_mud_mortar_brick</th>\n",
       "      <th>has_superstructure_cement_mortar_brick</th>\n",
       "      <th>has_superstructure_timber</th>\n",
       "      <th>...</th>\n",
       "      <th>geo_level_3_id_1</th>\n",
       "      <th>area_percentage_1</th>\n",
       "      <th>land_surface_condition_1</th>\n",
       "      <th>foundation_type_1</th>\n",
       "      <th>roof_type_1</th>\n",
       "      <th>ground_floor_type_1</th>\n",
       "      <th>other_floor_type_1</th>\n",
       "      <th>position_1</th>\n",
       "      <th>plan_configuration_1</th>\n",
       "      <th>legal_ownership_status_1</th>\n",
       "    </tr>\n",
       "    <tr>\n",
       "      <th>building_id</th>\n",
       "      <th></th>\n",
       "      <th></th>\n",
       "      <th></th>\n",
       "      <th></th>\n",
       "      <th></th>\n",
       "      <th></th>\n",
       "      <th></th>\n",
       "      <th></th>\n",
       "      <th></th>\n",
       "      <th></th>\n",
       "      <th></th>\n",
       "      <th></th>\n",
       "      <th></th>\n",
       "      <th></th>\n",
       "      <th></th>\n",
       "      <th></th>\n",
       "      <th></th>\n",
       "      <th></th>\n",
       "      <th></th>\n",
       "      <th></th>\n",
       "      <th></th>\n",
       "    </tr>\n",
       "  </thead>\n",
       "  <tbody>\n",
       "    <tr>\n",
       "      <th>802906</th>\n",
       "      <td>2</td>\n",
       "      <td>30</td>\n",
       "      <td>5</td>\n",
       "      <td>1</td>\n",
       "      <td>1</td>\n",
       "      <td>0</td>\n",
       "      <td>0</td>\n",
       "      <td>0</td>\n",
       "      <td>0</td>\n",
       "      <td>0</td>\n",
       "      <td>...</td>\n",
       "      <td>0.000000</td>\n",
       "      <td>0.075596</td>\n",
       "      <td>0.101339</td>\n",
       "      <td>0.048906</td>\n",
       "      <td>0.074091</td>\n",
       "      <td>0.059508</td>\n",
       "      <td>0.044693</td>\n",
       "      <td>0.080707</td>\n",
       "      <td>0.093213</td>\n",
       "      <td>0.092732</td>\n",
       "    </tr>\n",
       "    <tr>\n",
       "      <th>28830</th>\n",
       "      <td>2</td>\n",
       "      <td>10</td>\n",
       "      <td>7</td>\n",
       "      <td>0</td>\n",
       "      <td>1</td>\n",
       "      <td>0</td>\n",
       "      <td>0</td>\n",
       "      <td>0</td>\n",
       "      <td>0</td>\n",
       "      <td>0</td>\n",
       "      <td>...</td>\n",
       "      <td>0.062500</td>\n",
       "      <td>0.073088</td>\n",
       "      <td>0.072391</td>\n",
       "      <td>0.048906</td>\n",
       "      <td>0.074091</td>\n",
       "      <td>0.082486</td>\n",
       "      <td>0.044693</td>\n",
       "      <td>0.098308</td>\n",
       "      <td>0.093213</td>\n",
       "      <td>0.092732</td>\n",
       "    </tr>\n",
       "    <tr>\n",
       "      <th>94947</th>\n",
       "      <td>2</td>\n",
       "      <td>10</td>\n",
       "      <td>5</td>\n",
       "      <td>0</td>\n",
       "      <td>1</td>\n",
       "      <td>0</td>\n",
       "      <td>0</td>\n",
       "      <td>0</td>\n",
       "      <td>0</td>\n",
       "      <td>0</td>\n",
       "      <td>...</td>\n",
       "      <td>0.029412</td>\n",
       "      <td>0.073402</td>\n",
       "      <td>0.101339</td>\n",
       "      <td>0.048906</td>\n",
       "      <td>0.074091</td>\n",
       "      <td>0.059508</td>\n",
       "      <td>0.078899</td>\n",
       "      <td>0.080707</td>\n",
       "      <td>0.093213</td>\n",
       "      <td>0.092732</td>\n",
       "    </tr>\n",
       "    <tr>\n",
       "      <th>590882</th>\n",
       "      <td>2</td>\n",
       "      <td>10</td>\n",
       "      <td>5</td>\n",
       "      <td>0</td>\n",
       "      <td>1</td>\n",
       "      <td>0</td>\n",
       "      <td>0</td>\n",
       "      <td>0</td>\n",
       "      <td>0</td>\n",
       "      <td>1</td>\n",
       "      <td>...</td>\n",
       "      <td>0.032258</td>\n",
       "      <td>0.075596</td>\n",
       "      <td>0.101339</td>\n",
       "      <td>0.048906</td>\n",
       "      <td>0.074091</td>\n",
       "      <td>0.059508</td>\n",
       "      <td>0.078899</td>\n",
       "      <td>0.098308</td>\n",
       "      <td>0.093213</td>\n",
       "      <td>0.092732</td>\n",
       "    </tr>\n",
       "    <tr>\n",
       "      <th>201944</th>\n",
       "      <td>3</td>\n",
       "      <td>30</td>\n",
       "      <td>9</td>\n",
       "      <td>1</td>\n",
       "      <td>0</td>\n",
       "      <td>0</td>\n",
       "      <td>0</td>\n",
       "      <td>0</td>\n",
       "      <td>0</td>\n",
       "      <td>0</td>\n",
       "      <td>...</td>\n",
       "      <td>0.008197</td>\n",
       "      <td>0.073088</td>\n",
       "      <td>0.101339</td>\n",
       "      <td>0.048906</td>\n",
       "      <td>0.074091</td>\n",
       "      <td>0.059508</td>\n",
       "      <td>0.078899</td>\n",
       "      <td>0.098308</td>\n",
       "      <td>0.093213</td>\n",
       "      <td>0.092732</td>\n",
       "    </tr>\n",
       "    <tr>\n",
       "      <th>...</th>\n",
       "      <td>...</td>\n",
       "      <td>...</td>\n",
       "      <td>...</td>\n",
       "      <td>...</td>\n",
       "      <td>...</td>\n",
       "      <td>...</td>\n",
       "      <td>...</td>\n",
       "      <td>...</td>\n",
       "      <td>...</td>\n",
       "      <td>...</td>\n",
       "      <td>...</td>\n",
       "      <td>...</td>\n",
       "      <td>...</td>\n",
       "      <td>...</td>\n",
       "      <td>...</td>\n",
       "      <td>...</td>\n",
       "      <td>...</td>\n",
       "      <td>...</td>\n",
       "      <td>...</td>\n",
       "      <td>...</td>\n",
       "      <td>...</td>\n",
       "    </tr>\n",
       "    <tr>\n",
       "      <th>688636</th>\n",
       "      <td>1</td>\n",
       "      <td>55</td>\n",
       "      <td>3</td>\n",
       "      <td>0</td>\n",
       "      <td>1</td>\n",
       "      <td>0</td>\n",
       "      <td>0</td>\n",
       "      <td>0</td>\n",
       "      <td>0</td>\n",
       "      <td>0</td>\n",
       "      <td>...</td>\n",
       "      <td>0.000000</td>\n",
       "      <td>0.075596</td>\n",
       "      <td>0.071943</td>\n",
       "      <td>0.048906</td>\n",
       "      <td>0.074091</td>\n",
       "      <td>0.059508</td>\n",
       "      <td>0.223025</td>\n",
       "      <td>0.098308</td>\n",
       "      <td>0.137210</td>\n",
       "      <td>0.092732</td>\n",
       "    </tr>\n",
       "    <tr>\n",
       "      <th>669485</th>\n",
       "      <td>2</td>\n",
       "      <td>0</td>\n",
       "      <td>5</td>\n",
       "      <td>0</td>\n",
       "      <td>1</td>\n",
       "      <td>0</td>\n",
       "      <td>0</td>\n",
       "      <td>0</td>\n",
       "      <td>0</td>\n",
       "      <td>0</td>\n",
       "      <td>...</td>\n",
       "      <td>0.000000</td>\n",
       "      <td>0.075596</td>\n",
       "      <td>0.101339</td>\n",
       "      <td>0.048906</td>\n",
       "      <td>0.074091</td>\n",
       "      <td>0.059508</td>\n",
       "      <td>0.044693</td>\n",
       "      <td>0.098308</td>\n",
       "      <td>0.093213</td>\n",
       "      <td>0.092732</td>\n",
       "    </tr>\n",
       "    <tr>\n",
       "      <th>602512</th>\n",
       "      <td>3</td>\n",
       "      <td>55</td>\n",
       "      <td>7</td>\n",
       "      <td>0</td>\n",
       "      <td>1</td>\n",
       "      <td>0</td>\n",
       "      <td>0</td>\n",
       "      <td>0</td>\n",
       "      <td>0</td>\n",
       "      <td>0</td>\n",
       "      <td>...</td>\n",
       "      <td>0.045455</td>\n",
       "      <td>0.075596</td>\n",
       "      <td>0.101339</td>\n",
       "      <td>0.048906</td>\n",
       "      <td>0.063759</td>\n",
       "      <td>0.059508</td>\n",
       "      <td>0.044693</td>\n",
       "      <td>0.098308</td>\n",
       "      <td>0.093213</td>\n",
       "      <td>0.092732</td>\n",
       "    </tr>\n",
       "    <tr>\n",
       "      <th>151409</th>\n",
       "      <td>2</td>\n",
       "      <td>10</td>\n",
       "      <td>6</td>\n",
       "      <td>0</td>\n",
       "      <td>0</td>\n",
       "      <td>0</td>\n",
       "      <td>0</td>\n",
       "      <td>0</td>\n",
       "      <td>1</td>\n",
       "      <td>0</td>\n",
       "      <td>...</td>\n",
       "      <td>0.220339</td>\n",
       "      <td>0.185968</td>\n",
       "      <td>0.101339</td>\n",
       "      <td>0.048906</td>\n",
       "      <td>0.472780</td>\n",
       "      <td>0.419184</td>\n",
       "      <td>0.450865</td>\n",
       "      <td>0.126111</td>\n",
       "      <td>0.093213</td>\n",
       "      <td>0.092732</td>\n",
       "    </tr>\n",
       "    <tr>\n",
       "      <th>747594</th>\n",
       "      <td>3</td>\n",
       "      <td>10</td>\n",
       "      <td>6</td>\n",
       "      <td>0</td>\n",
       "      <td>1</td>\n",
       "      <td>0</td>\n",
       "      <td>0</td>\n",
       "      <td>0</td>\n",
       "      <td>0</td>\n",
       "      <td>0</td>\n",
       "      <td>...</td>\n",
       "      <td>0.000000</td>\n",
       "      <td>0.068894</td>\n",
       "      <td>0.071943</td>\n",
       "      <td>0.048906</td>\n",
       "      <td>0.074091</td>\n",
       "      <td>0.059508</td>\n",
       "      <td>0.044693</td>\n",
       "      <td>0.126111</td>\n",
       "      <td>0.093213</td>\n",
       "      <td>0.092732</td>\n",
       "    </tr>\n",
       "  </tbody>\n",
       "</table>\n",
       "<p>260601 rows × 50 columns</p>\n",
       "</div>"
      ],
      "text/plain": [
       "             count_floors_pre_eq  age  height_percentage  \\\n",
       "building_id                                                \n",
       "802906                         2   30                  5   \n",
       "28830                          2   10                  7   \n",
       "94947                          2   10                  5   \n",
       "590882                         2   10                  5   \n",
       "201944                         3   30                  9   \n",
       "...                          ...  ...                ...   \n",
       "688636                         1   55                  3   \n",
       "669485                         2    0                  5   \n",
       "602512                         3   55                  7   \n",
       "151409                         2   10                  6   \n",
       "747594                         3   10                  6   \n",
       "\n",
       "             has_superstructure_adobe_mud  \\\n",
       "building_id                                 \n",
       "802906                                  1   \n",
       "28830                                   0   \n",
       "94947                                   0   \n",
       "590882                                  0   \n",
       "201944                                  1   \n",
       "...                                   ...   \n",
       "688636                                  0   \n",
       "669485                                  0   \n",
       "602512                                  0   \n",
       "151409                                  0   \n",
       "747594                                  0   \n",
       "\n",
       "             has_superstructure_mud_mortar_stone  \\\n",
       "building_id                                        \n",
       "802906                                         1   \n",
       "28830                                          1   \n",
       "94947                                          1   \n",
       "590882                                         1   \n",
       "201944                                         0   \n",
       "...                                          ...   \n",
       "688636                                         1   \n",
       "669485                                         1   \n",
       "602512                                         1   \n",
       "151409                                         0   \n",
       "747594                                         1   \n",
       "\n",
       "             has_superstructure_stone_flag  \\\n",
       "building_id                                  \n",
       "802906                                   0   \n",
       "28830                                    0   \n",
       "94947                                    0   \n",
       "590882                                   0   \n",
       "201944                                   0   \n",
       "...                                    ...   \n",
       "688636                                   0   \n",
       "669485                                   0   \n",
       "602512                                   0   \n",
       "151409                                   0   \n",
       "747594                                   0   \n",
       "\n",
       "             has_superstructure_cement_mortar_stone  \\\n",
       "building_id                                           \n",
       "802906                                            0   \n",
       "28830                                             0   \n",
       "94947                                             0   \n",
       "590882                                            0   \n",
       "201944                                            0   \n",
       "...                                             ...   \n",
       "688636                                            0   \n",
       "669485                                            0   \n",
       "602512                                            0   \n",
       "151409                                            0   \n",
       "747594                                            0   \n",
       "\n",
       "             has_superstructure_mud_mortar_brick  \\\n",
       "building_id                                        \n",
       "802906                                         0   \n",
       "28830                                          0   \n",
       "94947                                          0   \n",
       "590882                                         0   \n",
       "201944                                         0   \n",
       "...                                          ...   \n",
       "688636                                         0   \n",
       "669485                                         0   \n",
       "602512                                         0   \n",
       "151409                                         0   \n",
       "747594                                         0   \n",
       "\n",
       "             has_superstructure_cement_mortar_brick  \\\n",
       "building_id                                           \n",
       "802906                                            0   \n",
       "28830                                             0   \n",
       "94947                                             0   \n",
       "590882                                            0   \n",
       "201944                                            0   \n",
       "...                                             ...   \n",
       "688636                                            0   \n",
       "669485                                            0   \n",
       "602512                                            0   \n",
       "151409                                            1   \n",
       "747594                                            0   \n",
       "\n",
       "             has_superstructure_timber  ...  geo_level_3_id_1  \\\n",
       "building_id                             ...                     \n",
       "802906                               0  ...          0.000000   \n",
       "28830                                0  ...          0.062500   \n",
       "94947                                0  ...          0.029412   \n",
       "590882                               1  ...          0.032258   \n",
       "201944                               0  ...          0.008197   \n",
       "...                                ...  ...               ...   \n",
       "688636                               0  ...          0.000000   \n",
       "669485                               0  ...          0.000000   \n",
       "602512                               0  ...          0.045455   \n",
       "151409                               0  ...          0.220339   \n",
       "747594                               0  ...          0.000000   \n",
       "\n",
       "             area_percentage_1  land_surface_condition_1  foundation_type_1  \\\n",
       "building_id                                                                   \n",
       "802906                0.075596                  0.101339           0.048906   \n",
       "28830                 0.073088                  0.072391           0.048906   \n",
       "94947                 0.073402                  0.101339           0.048906   \n",
       "590882                0.075596                  0.101339           0.048906   \n",
       "201944                0.073088                  0.101339           0.048906   \n",
       "...                        ...                       ...                ...   \n",
       "688636                0.075596                  0.071943           0.048906   \n",
       "669485                0.075596                  0.101339           0.048906   \n",
       "602512                0.075596                  0.101339           0.048906   \n",
       "151409                0.185968                  0.101339           0.048906   \n",
       "747594                0.068894                  0.071943           0.048906   \n",
       "\n",
       "             roof_type_1  ground_floor_type_1  other_floor_type_1  position_1  \\\n",
       "building_id                                                                     \n",
       "802906          0.074091             0.059508            0.044693    0.080707   \n",
       "28830           0.074091             0.082486            0.044693    0.098308   \n",
       "94947           0.074091             0.059508            0.078899    0.080707   \n",
       "590882          0.074091             0.059508            0.078899    0.098308   \n",
       "201944          0.074091             0.059508            0.078899    0.098308   \n",
       "...                  ...                  ...                 ...         ...   \n",
       "688636          0.074091             0.059508            0.223025    0.098308   \n",
       "669485          0.074091             0.059508            0.044693    0.098308   \n",
       "602512          0.063759             0.059508            0.044693    0.098308   \n",
       "151409          0.472780             0.419184            0.450865    0.126111   \n",
       "747594          0.074091             0.059508            0.044693    0.126111   \n",
       "\n",
       "             plan_configuration_1  legal_ownership_status_1  \n",
       "building_id                                                  \n",
       "802906                   0.093213                  0.092732  \n",
       "28830                    0.093213                  0.092732  \n",
       "94947                    0.093213                  0.092732  \n",
       "590882                   0.093213                  0.092732  \n",
       "201944                   0.093213                  0.092732  \n",
       "...                           ...                       ...  \n",
       "688636                   0.137210                  0.092732  \n",
       "669485                   0.093213                  0.092732  \n",
       "602512                   0.093213                  0.092732  \n",
       "151409                   0.093213                  0.092732  \n",
       "747594                   0.093213                  0.092732  \n",
       "\n",
       "[260601 rows x 50 columns]"
      ]
     },
     "execution_count": 25,
     "metadata": {},
     "output_type": "execute_result"
    }
   ],
   "source": [
    "X_te"
   ]
  },
  {
   "cell_type": "code",
   "execution_count": 26,
   "id": "b0d49bf0",
   "metadata": {},
   "outputs": [
    {
     "data": {
      "text/html": [
       "<div>\n",
       "<style scoped>\n",
       "    .dataframe tbody tr th:only-of-type {\n",
       "        vertical-align: middle;\n",
       "    }\n",
       "\n",
       "    .dataframe tbody tr th {\n",
       "        vertical-align: top;\n",
       "    }\n",
       "\n",
       "    .dataframe thead th {\n",
       "        text-align: right;\n",
       "    }\n",
       "</style>\n",
       "<table border=\"1\" class=\"dataframe\">\n",
       "  <thead>\n",
       "    <tr style=\"text-align: right;\">\n",
       "      <th></th>\n",
       "      <th>count_floors_pre_eq</th>\n",
       "      <th>age</th>\n",
       "      <th>height_percentage</th>\n",
       "      <th>has_superstructure_adobe_mud</th>\n",
       "      <th>has_superstructure_mud_mortar_stone</th>\n",
       "      <th>has_superstructure_stone_flag</th>\n",
       "      <th>has_superstructure_cement_mortar_stone</th>\n",
       "      <th>has_superstructure_mud_mortar_brick</th>\n",
       "      <th>has_superstructure_cement_mortar_brick</th>\n",
       "      <th>has_superstructure_timber</th>\n",
       "      <th>...</th>\n",
       "      <th>geo_level_3_id_1</th>\n",
       "      <th>area_percentage_1</th>\n",
       "      <th>land_surface_condition_1</th>\n",
       "      <th>foundation_type_1</th>\n",
       "      <th>roof_type_1</th>\n",
       "      <th>ground_floor_type_1</th>\n",
       "      <th>other_floor_type_1</th>\n",
       "      <th>position_1</th>\n",
       "      <th>plan_configuration_1</th>\n",
       "      <th>legal_ownership_status_1</th>\n",
       "    </tr>\n",
       "    <tr>\n",
       "      <th>building_id</th>\n",
       "      <th></th>\n",
       "      <th></th>\n",
       "      <th></th>\n",
       "      <th></th>\n",
       "      <th></th>\n",
       "      <th></th>\n",
       "      <th></th>\n",
       "      <th></th>\n",
       "      <th></th>\n",
       "      <th></th>\n",
       "      <th></th>\n",
       "      <th></th>\n",
       "      <th></th>\n",
       "      <th></th>\n",
       "      <th></th>\n",
       "      <th></th>\n",
       "      <th></th>\n",
       "      <th></th>\n",
       "      <th></th>\n",
       "      <th></th>\n",
       "      <th></th>\n",
       "    </tr>\n",
       "  </thead>\n",
       "  <tbody>\n",
       "    <tr>\n",
       "      <th>300051</th>\n",
       "      <td>3</td>\n",
       "      <td>20</td>\n",
       "      <td>6</td>\n",
       "      <td>0</td>\n",
       "      <td>1</td>\n",
       "      <td>0</td>\n",
       "      <td>0</td>\n",
       "      <td>0</td>\n",
       "      <td>0</td>\n",
       "      <td>0</td>\n",
       "      <td>...</td>\n",
       "      <td>0.052632</td>\n",
       "      <td>0.068894</td>\n",
       "      <td>0.101339</td>\n",
       "      <td>0.048906</td>\n",
       "      <td>0.074091</td>\n",
       "      <td>0.059508</td>\n",
       "      <td>0.044693</td>\n",
       "      <td>0.098308</td>\n",
       "      <td>0.093213</td>\n",
       "      <td>0.092732</td>\n",
       "    </tr>\n",
       "    <tr>\n",
       "      <th>99355</th>\n",
       "      <td>2</td>\n",
       "      <td>25</td>\n",
       "      <td>5</td>\n",
       "      <td>0</td>\n",
       "      <td>1</td>\n",
       "      <td>0</td>\n",
       "      <td>0</td>\n",
       "      <td>0</td>\n",
       "      <td>0</td>\n",
       "      <td>0</td>\n",
       "      <td>...</td>\n",
       "      <td>0.000000</td>\n",
       "      <td>0.145658</td>\n",
       "      <td>0.101339</td>\n",
       "      <td>0.048906</td>\n",
       "      <td>0.074091</td>\n",
       "      <td>0.059508</td>\n",
       "      <td>0.044693</td>\n",
       "      <td>0.098308</td>\n",
       "      <td>0.093213</td>\n",
       "      <td>0.092732</td>\n",
       "    </tr>\n",
       "    <tr>\n",
       "      <th>890251</th>\n",
       "      <td>2</td>\n",
       "      <td>5</td>\n",
       "      <td>5</td>\n",
       "      <td>0</td>\n",
       "      <td>1</td>\n",
       "      <td>0</td>\n",
       "      <td>0</td>\n",
       "      <td>0</td>\n",
       "      <td>0</td>\n",
       "      <td>0</td>\n",
       "      <td>...</td>\n",
       "      <td>0.000000</td>\n",
       "      <td>0.091599</td>\n",
       "      <td>0.101339</td>\n",
       "      <td>0.048906</td>\n",
       "      <td>0.074091</td>\n",
       "      <td>0.059508</td>\n",
       "      <td>0.044693</td>\n",
       "      <td>0.098308</td>\n",
       "      <td>0.093213</td>\n",
       "      <td>0.092732</td>\n",
       "    </tr>\n",
       "    <tr>\n",
       "      <th>745817</th>\n",
       "      <td>1</td>\n",
       "      <td>0</td>\n",
       "      <td>3</td>\n",
       "      <td>0</td>\n",
       "      <td>0</td>\n",
       "      <td>0</td>\n",
       "      <td>0</td>\n",
       "      <td>0</td>\n",
       "      <td>1</td>\n",
       "      <td>0</td>\n",
       "      <td>...</td>\n",
       "      <td>0.571429</td>\n",
       "      <td>0.277154</td>\n",
       "      <td>0.101339</td>\n",
       "      <td>0.048906</td>\n",
       "      <td>0.472780</td>\n",
       "      <td>0.419184</td>\n",
       "      <td>0.223025</td>\n",
       "      <td>0.080707</td>\n",
       "      <td>0.093213</td>\n",
       "      <td>0.092732</td>\n",
       "    </tr>\n",
       "    <tr>\n",
       "      <th>421793</th>\n",
       "      <td>3</td>\n",
       "      <td>15</td>\n",
       "      <td>7</td>\n",
       "      <td>0</td>\n",
       "      <td>1</td>\n",
       "      <td>0</td>\n",
       "      <td>0</td>\n",
       "      <td>0</td>\n",
       "      <td>0</td>\n",
       "      <td>0</td>\n",
       "      <td>...</td>\n",
       "      <td>0.000000</td>\n",
       "      <td>0.073088</td>\n",
       "      <td>0.101339</td>\n",
       "      <td>0.048906</td>\n",
       "      <td>0.063759</td>\n",
       "      <td>0.059508</td>\n",
       "      <td>0.044693</td>\n",
       "      <td>0.080707</td>\n",
       "      <td>0.093213</td>\n",
       "      <td>0.092732</td>\n",
       "    </tr>\n",
       "    <tr>\n",
       "      <th>...</th>\n",
       "      <td>...</td>\n",
       "      <td>...</td>\n",
       "      <td>...</td>\n",
       "      <td>...</td>\n",
       "      <td>...</td>\n",
       "      <td>...</td>\n",
       "      <td>...</td>\n",
       "      <td>...</td>\n",
       "      <td>...</td>\n",
       "      <td>...</td>\n",
       "      <td>...</td>\n",
       "      <td>...</td>\n",
       "      <td>...</td>\n",
       "      <td>...</td>\n",
       "      <td>...</td>\n",
       "      <td>...</td>\n",
       "      <td>...</td>\n",
       "      <td>...</td>\n",
       "      <td>...</td>\n",
       "      <td>...</td>\n",
       "      <td>...</td>\n",
       "    </tr>\n",
       "    <tr>\n",
       "      <th>310028</th>\n",
       "      <td>3</td>\n",
       "      <td>70</td>\n",
       "      <td>6</td>\n",
       "      <td>0</td>\n",
       "      <td>1</td>\n",
       "      <td>0</td>\n",
       "      <td>0</td>\n",
       "      <td>0</td>\n",
       "      <td>0</td>\n",
       "      <td>1</td>\n",
       "      <td>...</td>\n",
       "      <td>0.194444</td>\n",
       "      <td>0.259259</td>\n",
       "      <td>0.101339</td>\n",
       "      <td>0.048906</td>\n",
       "      <td>0.063759</td>\n",
       "      <td>0.059508</td>\n",
       "      <td>0.044693</td>\n",
       "      <td>0.080707</td>\n",
       "      <td>0.093213</td>\n",
       "      <td>0.048562</td>\n",
       "    </tr>\n",
       "    <tr>\n",
       "      <th>663567</th>\n",
       "      <td>3</td>\n",
       "      <td>25</td>\n",
       "      <td>7</td>\n",
       "      <td>1</td>\n",
       "      <td>1</td>\n",
       "      <td>1</td>\n",
       "      <td>0</td>\n",
       "      <td>0</td>\n",
       "      <td>0</td>\n",
       "      <td>0</td>\n",
       "      <td>...</td>\n",
       "      <td>0.000000</td>\n",
       "      <td>0.075596</td>\n",
       "      <td>0.071943</td>\n",
       "      <td>0.048906</td>\n",
       "      <td>0.074091</td>\n",
       "      <td>0.059508</td>\n",
       "      <td>0.044693</td>\n",
       "      <td>0.098308</td>\n",
       "      <td>0.093213</td>\n",
       "      <td>0.092732</td>\n",
       "    </tr>\n",
       "    <tr>\n",
       "      <th>1049160</th>\n",
       "      <td>1</td>\n",
       "      <td>50</td>\n",
       "      <td>3</td>\n",
       "      <td>0</td>\n",
       "      <td>1</td>\n",
       "      <td>0</td>\n",
       "      <td>0</td>\n",
       "      <td>0</td>\n",
       "      <td>0</td>\n",
       "      <td>1</td>\n",
       "      <td>...</td>\n",
       "      <td>0.090909</td>\n",
       "      <td>0.098758</td>\n",
       "      <td>0.101339</td>\n",
       "      <td>0.048906</td>\n",
       "      <td>0.074091</td>\n",
       "      <td>0.059508</td>\n",
       "      <td>0.223025</td>\n",
       "      <td>0.098308</td>\n",
       "      <td>0.093213</td>\n",
       "      <td>0.092732</td>\n",
       "    </tr>\n",
       "    <tr>\n",
       "      <th>442785</th>\n",
       "      <td>2</td>\n",
       "      <td>5</td>\n",
       "      <td>5</td>\n",
       "      <td>1</td>\n",
       "      <td>1</td>\n",
       "      <td>0</td>\n",
       "      <td>0</td>\n",
       "      <td>0</td>\n",
       "      <td>0</td>\n",
       "      <td>0</td>\n",
       "      <td>...</td>\n",
       "      <td>0.090909</td>\n",
       "      <td>0.078607</td>\n",
       "      <td>0.101339</td>\n",
       "      <td>0.048906</td>\n",
       "      <td>0.074091</td>\n",
       "      <td>0.059508</td>\n",
       "      <td>0.044693</td>\n",
       "      <td>0.098308</td>\n",
       "      <td>0.093213</td>\n",
       "      <td>0.274129</td>\n",
       "    </tr>\n",
       "    <tr>\n",
       "      <th>501372</th>\n",
       "      <td>2</td>\n",
       "      <td>10</td>\n",
       "      <td>4</td>\n",
       "      <td>0</td>\n",
       "      <td>0</td>\n",
       "      <td>0</td>\n",
       "      <td>0</td>\n",
       "      <td>0</td>\n",
       "      <td>1</td>\n",
       "      <td>0</td>\n",
       "      <td>...</td>\n",
       "      <td>0.609524</td>\n",
       "      <td>0.108003</td>\n",
       "      <td>0.101339</td>\n",
       "      <td>0.048906</td>\n",
       "      <td>0.063759</td>\n",
       "      <td>0.419184</td>\n",
       "      <td>0.044693</td>\n",
       "      <td>0.098308</td>\n",
       "      <td>0.093213</td>\n",
       "      <td>0.092732</td>\n",
       "    </tr>\n",
       "  </tbody>\n",
       "</table>\n",
       "<p>86868 rows × 50 columns</p>\n",
       "</div>"
      ],
      "text/plain": [
       "             count_floors_pre_eq  age  height_percentage  \\\n",
       "building_id                                                \n",
       "300051                         3   20                  6   \n",
       "99355                          2   25                  5   \n",
       "890251                         2    5                  5   \n",
       "745817                         1    0                  3   \n",
       "421793                         3   15                  7   \n",
       "...                          ...  ...                ...   \n",
       "310028                         3   70                  6   \n",
       "663567                         3   25                  7   \n",
       "1049160                        1   50                  3   \n",
       "442785                         2    5                  5   \n",
       "501372                         2   10                  4   \n",
       "\n",
       "             has_superstructure_adobe_mud  \\\n",
       "building_id                                 \n",
       "300051                                  0   \n",
       "99355                                   0   \n",
       "890251                                  0   \n",
       "745817                                  0   \n",
       "421793                                  0   \n",
       "...                                   ...   \n",
       "310028                                  0   \n",
       "663567                                  1   \n",
       "1049160                                 0   \n",
       "442785                                  1   \n",
       "501372                                  0   \n",
       "\n",
       "             has_superstructure_mud_mortar_stone  \\\n",
       "building_id                                        \n",
       "300051                                         1   \n",
       "99355                                          1   \n",
       "890251                                         1   \n",
       "745817                                         0   \n",
       "421793                                         1   \n",
       "...                                          ...   \n",
       "310028                                         1   \n",
       "663567                                         1   \n",
       "1049160                                        1   \n",
       "442785                                         1   \n",
       "501372                                         0   \n",
       "\n",
       "             has_superstructure_stone_flag  \\\n",
       "building_id                                  \n",
       "300051                                   0   \n",
       "99355                                    0   \n",
       "890251                                   0   \n",
       "745817                                   0   \n",
       "421793                                   0   \n",
       "...                                    ...   \n",
       "310028                                   0   \n",
       "663567                                   1   \n",
       "1049160                                  0   \n",
       "442785                                   0   \n",
       "501372                                   0   \n",
       "\n",
       "             has_superstructure_cement_mortar_stone  \\\n",
       "building_id                                           \n",
       "300051                                            0   \n",
       "99355                                             0   \n",
       "890251                                            0   \n",
       "745817                                            0   \n",
       "421793                                            0   \n",
       "...                                             ...   \n",
       "310028                                            0   \n",
       "663567                                            0   \n",
       "1049160                                           0   \n",
       "442785                                            0   \n",
       "501372                                            0   \n",
       "\n",
       "             has_superstructure_mud_mortar_brick  \\\n",
       "building_id                                        \n",
       "300051                                         0   \n",
       "99355                                          0   \n",
       "890251                                         0   \n",
       "745817                                         0   \n",
       "421793                                         0   \n",
       "...                                          ...   \n",
       "310028                                         0   \n",
       "663567                                         0   \n",
       "1049160                                        0   \n",
       "442785                                         0   \n",
       "501372                                         0   \n",
       "\n",
       "             has_superstructure_cement_mortar_brick  \\\n",
       "building_id                                           \n",
       "300051                                            0   \n",
       "99355                                             0   \n",
       "890251                                            0   \n",
       "745817                                            1   \n",
       "421793                                            0   \n",
       "...                                             ...   \n",
       "310028                                            0   \n",
       "663567                                            0   \n",
       "1049160                                           0   \n",
       "442785                                            0   \n",
       "501372                                            1   \n",
       "\n",
       "             has_superstructure_timber  ...  geo_level_3_id_1  \\\n",
       "building_id                             ...                     \n",
       "300051                               0  ...          0.052632   \n",
       "99355                                0  ...          0.000000   \n",
       "890251                               0  ...          0.000000   \n",
       "745817                               0  ...          0.571429   \n",
       "421793                               0  ...          0.000000   \n",
       "...                                ...  ...               ...   \n",
       "310028                               1  ...          0.194444   \n",
       "663567                               0  ...          0.000000   \n",
       "1049160                              1  ...          0.090909   \n",
       "442785                               0  ...          0.090909   \n",
       "501372                               0  ...          0.609524   \n",
       "\n",
       "             area_percentage_1  land_surface_condition_1  foundation_type_1  \\\n",
       "building_id                                                                   \n",
       "300051                0.068894                  0.101339           0.048906   \n",
       "99355                 0.145658                  0.101339           0.048906   \n",
       "890251                0.091599                  0.101339           0.048906   \n",
       "745817                0.277154                  0.101339           0.048906   \n",
       "421793                0.073088                  0.101339           0.048906   \n",
       "...                        ...                       ...                ...   \n",
       "310028                0.259259                  0.101339           0.048906   \n",
       "663567                0.075596                  0.071943           0.048906   \n",
       "1049160               0.098758                  0.101339           0.048906   \n",
       "442785                0.078607                  0.101339           0.048906   \n",
       "501372                0.108003                  0.101339           0.048906   \n",
       "\n",
       "             roof_type_1  ground_floor_type_1  other_floor_type_1  position_1  \\\n",
       "building_id                                                                     \n",
       "300051          0.074091             0.059508            0.044693    0.098308   \n",
       "99355           0.074091             0.059508            0.044693    0.098308   \n",
       "890251          0.074091             0.059508            0.044693    0.098308   \n",
       "745817          0.472780             0.419184            0.223025    0.080707   \n",
       "421793          0.063759             0.059508            0.044693    0.080707   \n",
       "...                  ...                  ...                 ...         ...   \n",
       "310028          0.063759             0.059508            0.044693    0.080707   \n",
       "663567          0.074091             0.059508            0.044693    0.098308   \n",
       "1049160         0.074091             0.059508            0.223025    0.098308   \n",
       "442785          0.074091             0.059508            0.044693    0.098308   \n",
       "501372          0.063759             0.419184            0.044693    0.098308   \n",
       "\n",
       "             plan_configuration_1  legal_ownership_status_1  \n",
       "building_id                                                  \n",
       "300051                   0.093213                  0.092732  \n",
       "99355                    0.093213                  0.092732  \n",
       "890251                   0.093213                  0.092732  \n",
       "745817                   0.093213                  0.092732  \n",
       "421793                   0.093213                  0.092732  \n",
       "...                           ...                       ...  \n",
       "310028                   0.093213                  0.048562  \n",
       "663567                   0.093213                  0.092732  \n",
       "1049160                  0.093213                  0.092732  \n",
       "442785                   0.093213                  0.274129  \n",
       "501372                   0.093213                  0.092732  \n",
       "\n",
       "[86868 rows x 50 columns]"
      ]
     },
     "execution_count": 26,
     "metadata": {},
     "output_type": "execute_result"
    }
   ],
   "source": [
    "Xtest_te"
   ]
  },
  {
   "cell_type": "code",
   "execution_count": 24,
   "id": "436b60fa",
   "metadata": {},
   "outputs": [
    {
     "name": "stderr",
     "output_type": "stream",
     "text": [
      "C:\\ProgramData\\Anaconda3\\lib\\site-packages\\numpy\\core\\_methods.py:232: RuntimeWarning: overflow encountered in multiply\n",
      "  x = um.multiply(x, x, out=x)\n",
      "C:\\ProgramData\\Anaconda3\\lib\\site-packages\\numpy\\core\\_methods.py:243: RuntimeWarning: overflow encountered in reduce\n",
      "  ret = umr_sum(x, axis, dtype, out, keepdims=keepdims, where=where)\n"
     ]
    },
    {
     "data": {
      "text/plain": [
       "PowerTransformer()"
      ]
     },
     "execution_count": 24,
     "metadata": {},
     "output_type": "execute_result"
    }
   ],
   "source": [
    "X_te_names=list(X_te)\n",
    "\n",
    "scaler.fit(X_te)\n",
    "\n",
    "fullX_te_yj=scaler.transform(X_te)\n",
    "\n",
    "X_te_yj = X_te.copy()\n",
    "\n",
    "for i in range(fullX_te_yj.shape[1]):\n",
    "    X_te_yj[X_te_names[i]] = fullX_te_yj[:,i]"
   ]
  },
  {
   "cell_type": "code",
   "execution_count": 25,
   "id": "dec88ee8",
   "metadata": {},
   "outputs": [],
   "source": [
    "Xtest_te_names=list(Xtest_te)\n",
    "\n",
    "fullXtest_te_yj=scaler.transform(Xtest_te)\n",
    "\n",
    "Xtest_te_yj = Xtest_te.copy()\n",
    "\n",
    "for i in range(fullXtest_te_yj.shape[1]):\n",
    "    Xtest_te_yj[Xtest_te_names[i]] = fullXtest_te_yj[:,i]\n"
   ]
  },
  {
   "cell_type": "code",
   "execution_count": 50,
   "id": "eab84879",
   "metadata": {},
   "outputs": [
    {
     "data": {
      "text/html": [
       "<div>\n",
       "<style scoped>\n",
       "    .dataframe tbody tr th:only-of-type {\n",
       "        vertical-align: middle;\n",
       "    }\n",
       "\n",
       "    .dataframe tbody tr th {\n",
       "        vertical-align: top;\n",
       "    }\n",
       "\n",
       "    .dataframe thead th {\n",
       "        text-align: right;\n",
       "    }\n",
       "</style>\n",
       "<table border=\"1\" class=\"dataframe\">\n",
       "  <thead>\n",
       "    <tr style=\"text-align: right;\">\n",
       "      <th></th>\n",
       "      <th>count_floors_pre_eq</th>\n",
       "      <th>age</th>\n",
       "      <th>area_percentage</th>\n",
       "      <th>height_percentage</th>\n",
       "      <th>has_superstructure_adobe_mud</th>\n",
       "      <th>has_superstructure_mud_mortar_stone</th>\n",
       "      <th>has_superstructure_stone_flag</th>\n",
       "      <th>has_superstructure_cement_mortar_stone</th>\n",
       "      <th>has_superstructure_mud_mortar_brick</th>\n",
       "      <th>has_superstructure_cement_mortar_brick</th>\n",
       "      <th>...</th>\n",
       "      <th>geo_level_2_id_1</th>\n",
       "      <th>geo_level_3_id_1</th>\n",
       "      <th>land_surface_condition_1</th>\n",
       "      <th>foundation_type_1</th>\n",
       "      <th>roof_type_1</th>\n",
       "      <th>ground_floor_type_1</th>\n",
       "      <th>other_floor_type_1</th>\n",
       "      <th>position_1</th>\n",
       "      <th>plan_configuration_1</th>\n",
       "      <th>legal_ownership_status_1</th>\n",
       "    </tr>\n",
       "    <tr>\n",
       "      <th>building_id</th>\n",
       "      <th></th>\n",
       "      <th></th>\n",
       "      <th></th>\n",
       "      <th></th>\n",
       "      <th></th>\n",
       "      <th></th>\n",
       "      <th></th>\n",
       "      <th></th>\n",
       "      <th></th>\n",
       "      <th></th>\n",
       "      <th></th>\n",
       "      <th></th>\n",
       "      <th></th>\n",
       "      <th></th>\n",
       "      <th></th>\n",
       "      <th></th>\n",
       "      <th></th>\n",
       "      <th></th>\n",
       "      <th></th>\n",
       "      <th></th>\n",
       "      <th></th>\n",
       "    </tr>\n",
       "  </thead>\n",
       "  <tbody>\n",
       "    <tr>\n",
       "      <th>355809</th>\n",
       "      <td>1.185469</td>\n",
       "      <td>0.454970</td>\n",
       "      <td>-1.953906</td>\n",
       "      <td>0.420893</td>\n",
       "      <td>-0.312102</td>\n",
       "      <td>0.558159</td>\n",
       "      <td>5.313730</td>\n",
       "      <td>-0.136219</td>\n",
       "      <td>-0.270240</td>\n",
       "      <td>-0.28517</td>\n",
       "      <td>...</td>\n",
       "      <td>-1.139804</td>\n",
       "      <td>-0.857154</td>\n",
       "      <td>0.449184</td>\n",
       "      <td>-0.433977</td>\n",
       "      <td>-1.158012</td>\n",
       "      <td>-0.457821</td>\n",
       "      <td>-0.693650</td>\n",
       "      <td>0.177136</td>\n",
       "      <td>-0.169327</td>\n",
       "      <td>-0.033744</td>\n",
       "    </tr>\n",
       "    <tr>\n",
       "      <th>395104</th>\n",
       "      <td>-0.088217</td>\n",
       "      <td>-2.080912</td>\n",
       "      <td>0.516585</td>\n",
       "      <td>-0.118271</td>\n",
       "      <td>-0.312102</td>\n",
       "      <td>0.558159</td>\n",
       "      <td>-0.188192</td>\n",
       "      <td>-0.136219</td>\n",
       "      <td>-0.270240</td>\n",
       "      <td>-0.28517</td>\n",
       "      <td>...</td>\n",
       "      <td>0.810444</td>\n",
       "      <td>-0.154841</td>\n",
       "      <td>0.449184</td>\n",
       "      <td>-0.433977</td>\n",
       "      <td>0.098834</td>\n",
       "      <td>-0.457821</td>\n",
       "      <td>-0.693650</td>\n",
       "      <td>0.177136</td>\n",
       "      <td>-0.169327</td>\n",
       "      <td>-0.033744</td>\n",
       "    </tr>\n",
       "    <tr>\n",
       "      <th>880189</th>\n",
       "      <td>-0.088217</td>\n",
       "      <td>0.000430</td>\n",
       "      <td>-0.375979</td>\n",
       "      <td>0.420893</td>\n",
       "      <td>-0.312102</td>\n",
       "      <td>0.558159</td>\n",
       "      <td>-0.188192</td>\n",
       "      <td>-0.136219</td>\n",
       "      <td>-0.270240</td>\n",
       "      <td>-0.28517</td>\n",
       "      <td>...</td>\n",
       "      <td>-1.011212</td>\n",
       "      <td>-0.857154</td>\n",
       "      <td>0.449184</td>\n",
       "      <td>-0.433977</td>\n",
       "      <td>0.098834</td>\n",
       "      <td>-0.457821</td>\n",
       "      <td>-0.693650</td>\n",
       "      <td>0.177136</td>\n",
       "      <td>3.440326</td>\n",
       "      <td>-0.033744</td>\n",
       "    </tr>\n",
       "    <tr>\n",
       "      <th>353802</th>\n",
       "      <td>-0.088217</td>\n",
       "      <td>-0.829191</td>\n",
       "      <td>-0.375979</td>\n",
       "      <td>-0.742902</td>\n",
       "      <td>-0.312102</td>\n",
       "      <td>0.558159</td>\n",
       "      <td>-0.188192</td>\n",
       "      <td>-0.136219</td>\n",
       "      <td>-0.270240</td>\n",
       "      <td>-0.28517</td>\n",
       "      <td>...</td>\n",
       "      <td>-1.139804</td>\n",
       "      <td>-0.857154</td>\n",
       "      <td>0.449184</td>\n",
       "      <td>-0.433977</td>\n",
       "      <td>0.098834</td>\n",
       "      <td>-0.457821</td>\n",
       "      <td>-0.693650</td>\n",
       "      <td>-1.512186</td>\n",
       "      <td>-0.169327</td>\n",
       "      <td>-7.323140</td>\n",
       "    </tr>\n",
       "    <tr>\n",
       "      <th>26696</th>\n",
       "      <td>-0.088217</td>\n",
       "      <td>-2.080912</td>\n",
       "      <td>-1.297140</td>\n",
       "      <td>-0.118271</td>\n",
       "      <td>-0.312102</td>\n",
       "      <td>-1.791604</td>\n",
       "      <td>-0.188192</td>\n",
       "      <td>-0.136219</td>\n",
       "      <td>-0.270240</td>\n",
       "      <td>-0.28517</td>\n",
       "      <td>...</td>\n",
       "      <td>1.223380</td>\n",
       "      <td>0.025988</td>\n",
       "      <td>0.449184</td>\n",
       "      <td>2.305127</td>\n",
       "      <td>-1.158012</td>\n",
       "      <td>2.707460</td>\n",
       "      <td>0.472836</td>\n",
       "      <td>0.177136</td>\n",
       "      <td>-0.169327</td>\n",
       "      <td>-0.033744</td>\n",
       "    </tr>\n",
       "    <tr>\n",
       "      <th>...</th>\n",
       "      <td>...</td>\n",
       "      <td>...</td>\n",
       "      <td>...</td>\n",
       "      <td>...</td>\n",
       "      <td>...</td>\n",
       "      <td>...</td>\n",
       "      <td>...</td>\n",
       "      <td>...</td>\n",
       "      <td>...</td>\n",
       "      <td>...</td>\n",
       "      <td>...</td>\n",
       "      <td>...</td>\n",
       "      <td>...</td>\n",
       "      <td>...</td>\n",
       "      <td>...</td>\n",
       "      <td>...</td>\n",
       "      <td>...</td>\n",
       "      <td>...</td>\n",
       "      <td>...</td>\n",
       "      <td>...</td>\n",
       "      <td>...</td>\n",
       "    </tr>\n",
       "    <tr>\n",
       "      <th>33639</th>\n",
       "      <td>-0.088217</td>\n",
       "      <td>1.138873</td>\n",
       "      <td>0.261462</td>\n",
       "      <td>-0.118271</td>\n",
       "      <td>3.204082</td>\n",
       "      <td>0.558159</td>\n",
       "      <td>-0.188192</td>\n",
       "      <td>-0.136219</td>\n",
       "      <td>-0.270240</td>\n",
       "      <td>-0.28517</td>\n",
       "      <td>...</td>\n",
       "      <td>-0.729743</td>\n",
       "      <td>-0.857154</td>\n",
       "      <td>0.449184</td>\n",
       "      <td>-0.433977</td>\n",
       "      <td>-1.158012</td>\n",
       "      <td>-0.457821</td>\n",
       "      <td>0.472836</td>\n",
       "      <td>0.177136</td>\n",
       "      <td>-0.169327</td>\n",
       "      <td>-0.033744</td>\n",
       "    </tr>\n",
       "    <tr>\n",
       "      <th>74369</th>\n",
       "      <td>-0.088217</td>\n",
       "      <td>-2.080912</td>\n",
       "      <td>-0.032117</td>\n",
       "      <td>-0.118271</td>\n",
       "      <td>-0.312102</td>\n",
       "      <td>0.558159</td>\n",
       "      <td>-0.188192</td>\n",
       "      <td>-0.136219</td>\n",
       "      <td>-0.270240</td>\n",
       "      <td>-0.28517</td>\n",
       "      <td>...</td>\n",
       "      <td>-1.139804</td>\n",
       "      <td>-0.857154</td>\n",
       "      <td>-2.226395</td>\n",
       "      <td>-0.433977</td>\n",
       "      <td>0.098834</td>\n",
       "      <td>1.020477</td>\n",
       "      <td>-0.693650</td>\n",
       "      <td>0.177136</td>\n",
       "      <td>-0.169327</td>\n",
       "      <td>-0.033744</td>\n",
       "    </tr>\n",
       "    <tr>\n",
       "      <th>992734</th>\n",
       "      <td>-0.088217</td>\n",
       "      <td>0.454970</td>\n",
       "      <td>-1.297140</td>\n",
       "      <td>-0.118271</td>\n",
       "      <td>3.204082</td>\n",
       "      <td>0.558159</td>\n",
       "      <td>-0.188192</td>\n",
       "      <td>-0.136219</td>\n",
       "      <td>-0.270240</td>\n",
       "      <td>-0.28517</td>\n",
       "      <td>...</td>\n",
       "      <td>-1.139804</td>\n",
       "      <td>-0.857154</td>\n",
       "      <td>0.449184</td>\n",
       "      <td>-0.433977</td>\n",
       "      <td>0.098834</td>\n",
       "      <td>1.020477</td>\n",
       "      <td>0.472836</td>\n",
       "      <td>0.177136</td>\n",
       "      <td>-0.169327</td>\n",
       "      <td>-0.033744</td>\n",
       "    </tr>\n",
       "    <tr>\n",
       "      <th>86320</th>\n",
       "      <td>-0.088217</td>\n",
       "      <td>0.454970</td>\n",
       "      <td>0.261462</td>\n",
       "      <td>0.896277</td>\n",
       "      <td>-0.312102</td>\n",
       "      <td>0.558159</td>\n",
       "      <td>-0.188192</td>\n",
       "      <td>-0.136219</td>\n",
       "      <td>-0.270240</td>\n",
       "      <td>-0.28517</td>\n",
       "      <td>...</td>\n",
       "      <td>-0.901903</td>\n",
       "      <td>-0.857154</td>\n",
       "      <td>0.449184</td>\n",
       "      <td>-0.433977</td>\n",
       "      <td>-1.158012</td>\n",
       "      <td>-0.457821</td>\n",
       "      <td>-0.693650</td>\n",
       "      <td>0.177136</td>\n",
       "      <td>-0.169327</td>\n",
       "      <td>-0.033744</td>\n",
       "    </tr>\n",
       "    <tr>\n",
       "      <th>111996</th>\n",
       "      <td>-0.088217</td>\n",
       "      <td>0.910259</td>\n",
       "      <td>1.818734</td>\n",
       "      <td>0.420893</td>\n",
       "      <td>-0.312102</td>\n",
       "      <td>-1.791604</td>\n",
       "      <td>-0.188192</td>\n",
       "      <td>-0.136219</td>\n",
       "      <td>3.700415</td>\n",
       "      <td>-0.28517</td>\n",
       "      <td>...</td>\n",
       "      <td>0.031750</td>\n",
       "      <td>0.716568</td>\n",
       "      <td>0.449184</td>\n",
       "      <td>-0.433977</td>\n",
       "      <td>0.098834</td>\n",
       "      <td>-0.457821</td>\n",
       "      <td>0.472836</td>\n",
       "      <td>0.177136</td>\n",
       "      <td>-0.169327</td>\n",
       "      <td>-0.033744</td>\n",
       "    </tr>\n",
       "  </tbody>\n",
       "</table>\n",
       "<p>208480 rows × 49 columns</p>\n",
       "</div>"
      ],
      "text/plain": [
       "             count_floors_pre_eq       age  area_percentage  \\\n",
       "building_id                                                   \n",
       "355809                  1.185469  0.454970        -1.953906   \n",
       "395104                 -0.088217 -2.080912         0.516585   \n",
       "880189                 -0.088217  0.000430        -0.375979   \n",
       "353802                 -0.088217 -0.829191        -0.375979   \n",
       "26696                  -0.088217 -2.080912        -1.297140   \n",
       "...                          ...       ...              ...   \n",
       "33639                  -0.088217  1.138873         0.261462   \n",
       "74369                  -0.088217 -2.080912        -0.032117   \n",
       "992734                 -0.088217  0.454970        -1.297140   \n",
       "86320                  -0.088217  0.454970         0.261462   \n",
       "111996                 -0.088217  0.910259         1.818734   \n",
       "\n",
       "             height_percentage  has_superstructure_adobe_mud  \\\n",
       "building_id                                                    \n",
       "355809                0.420893                     -0.312102   \n",
       "395104               -0.118271                     -0.312102   \n",
       "880189                0.420893                     -0.312102   \n",
       "353802               -0.742902                     -0.312102   \n",
       "26696                -0.118271                     -0.312102   \n",
       "...                        ...                           ...   \n",
       "33639                -0.118271                      3.204082   \n",
       "74369                -0.118271                     -0.312102   \n",
       "992734               -0.118271                      3.204082   \n",
       "86320                 0.896277                     -0.312102   \n",
       "111996                0.420893                     -0.312102   \n",
       "\n",
       "             has_superstructure_mud_mortar_stone  \\\n",
       "building_id                                        \n",
       "355809                                  0.558159   \n",
       "395104                                  0.558159   \n",
       "880189                                  0.558159   \n",
       "353802                                  0.558159   \n",
       "26696                                  -1.791604   \n",
       "...                                          ...   \n",
       "33639                                   0.558159   \n",
       "74369                                   0.558159   \n",
       "992734                                  0.558159   \n",
       "86320                                   0.558159   \n",
       "111996                                 -1.791604   \n",
       "\n",
       "             has_superstructure_stone_flag  \\\n",
       "building_id                                  \n",
       "355809                            5.313730   \n",
       "395104                           -0.188192   \n",
       "880189                           -0.188192   \n",
       "353802                           -0.188192   \n",
       "26696                            -0.188192   \n",
       "...                                    ...   \n",
       "33639                            -0.188192   \n",
       "74369                            -0.188192   \n",
       "992734                           -0.188192   \n",
       "86320                            -0.188192   \n",
       "111996                           -0.188192   \n",
       "\n",
       "             has_superstructure_cement_mortar_stone  \\\n",
       "building_id                                           \n",
       "355809                                    -0.136219   \n",
       "395104                                    -0.136219   \n",
       "880189                                    -0.136219   \n",
       "353802                                    -0.136219   \n",
       "26696                                     -0.136219   \n",
       "...                                             ...   \n",
       "33639                                     -0.136219   \n",
       "74369                                     -0.136219   \n",
       "992734                                    -0.136219   \n",
       "86320                                     -0.136219   \n",
       "111996                                    -0.136219   \n",
       "\n",
       "             has_superstructure_mud_mortar_brick  \\\n",
       "building_id                                        \n",
       "355809                                 -0.270240   \n",
       "395104                                 -0.270240   \n",
       "880189                                 -0.270240   \n",
       "353802                                 -0.270240   \n",
       "26696                                  -0.270240   \n",
       "...                                          ...   \n",
       "33639                                  -0.270240   \n",
       "74369                                  -0.270240   \n",
       "992734                                 -0.270240   \n",
       "86320                                  -0.270240   \n",
       "111996                                  3.700415   \n",
       "\n",
       "             has_superstructure_cement_mortar_brick  ...  geo_level_2_id_1  \\\n",
       "building_id                                          ...                     \n",
       "355809                                     -0.28517  ...         -1.139804   \n",
       "395104                                     -0.28517  ...          0.810444   \n",
       "880189                                     -0.28517  ...         -1.011212   \n",
       "353802                                     -0.28517  ...         -1.139804   \n",
       "26696                                      -0.28517  ...          1.223380   \n",
       "...                                             ...  ...               ...   \n",
       "33639                                      -0.28517  ...         -0.729743   \n",
       "74369                                      -0.28517  ...         -1.139804   \n",
       "992734                                     -0.28517  ...         -1.139804   \n",
       "86320                                      -0.28517  ...         -0.901903   \n",
       "111996                                     -0.28517  ...          0.031750   \n",
       "\n",
       "             geo_level_3_id_1  land_surface_condition_1  foundation_type_1  \\\n",
       "building_id                                                                  \n",
       "355809              -0.857154                  0.449184          -0.433977   \n",
       "395104              -0.154841                  0.449184          -0.433977   \n",
       "880189              -0.857154                  0.449184          -0.433977   \n",
       "353802              -0.857154                  0.449184          -0.433977   \n",
       "26696                0.025988                  0.449184           2.305127   \n",
       "...                       ...                       ...                ...   \n",
       "33639               -0.857154                  0.449184          -0.433977   \n",
       "74369               -0.857154                 -2.226395          -0.433977   \n",
       "992734              -0.857154                  0.449184          -0.433977   \n",
       "86320               -0.857154                  0.449184          -0.433977   \n",
       "111996               0.716568                  0.449184          -0.433977   \n",
       "\n",
       "             roof_type_1  ground_floor_type_1  other_floor_type_1  position_1  \\\n",
       "building_id                                                                     \n",
       "355809         -1.158012            -0.457821           -0.693650    0.177136   \n",
       "395104          0.098834            -0.457821           -0.693650    0.177136   \n",
       "880189          0.098834            -0.457821           -0.693650    0.177136   \n",
       "353802          0.098834            -0.457821           -0.693650   -1.512186   \n",
       "26696          -1.158012             2.707460            0.472836    0.177136   \n",
       "...                  ...                  ...                 ...         ...   \n",
       "33639          -1.158012            -0.457821            0.472836    0.177136   \n",
       "74369           0.098834             1.020477           -0.693650    0.177136   \n",
       "992734          0.098834             1.020477            0.472836    0.177136   \n",
       "86320          -1.158012            -0.457821           -0.693650    0.177136   \n",
       "111996          0.098834            -0.457821            0.472836    0.177136   \n",
       "\n",
       "             plan_configuration_1  legal_ownership_status_1  \n",
       "building_id                                                  \n",
       "355809                  -0.169327                 -0.033744  \n",
       "395104                  -0.169327                 -0.033744  \n",
       "880189                   3.440326                 -0.033744  \n",
       "353802                  -0.169327                 -7.323140  \n",
       "26696                   -0.169327                 -0.033744  \n",
       "...                           ...                       ...  \n",
       "33639                   -0.169327                 -0.033744  \n",
       "74369                   -0.169327                 -0.033744  \n",
       "992734                  -0.169327                 -0.033744  \n",
       "86320                   -0.169327                 -0.033744  \n",
       "111996                  -0.169327                 -0.033744  \n",
       "\n",
       "[208480 rows x 49 columns]"
      ]
     },
     "execution_count": 50,
     "metadata": {},
     "output_type": "execute_result"
    }
   ],
   "source": [
    "X_train_yj"
   ]
  },
  {
   "cell_type": "markdown",
   "id": "fd5cf7d8",
   "metadata": {},
   "source": [
    "## Train Test Split"
   ]
  },
  {
   "cell_type": "code",
   "execution_count": 5,
   "id": "05abd7c5",
   "metadata": {},
   "outputs": [],
   "source": [
    "X = df_trainX\n",
    "y = df_trainY['damage_grade']\n",
    "\n",
    "from sklearn.model_selection import train_test_split\n",
    "\n",
    "X_train, X_test, y_train, y_test = train_test_split(X, y, test_size=0.2, random_state=17)"
   ]
  },
  {
   "cell_type": "code",
   "execution_count": 102,
   "id": "05f688de",
   "metadata": {},
   "outputs": [],
   "source": [
    "X = df_trainX\n",
    "y = df_trainY['damage_grade']\n",
    "\n",
    "from sklearn.model_selection import train_test_split\n",
    "\n",
    "X_train1, X_test1, y_train1, y_test1 = train_test_split(X, y, test_size=0.2, random_state=24)"
   ]
  },
  {
   "cell_type": "markdown",
   "id": "ccb9dfe3",
   "metadata": {},
   "source": [
    "## One Hot Encoding"
   ]
  },
  {
   "cell_type": "code",
   "execution_count": 103,
   "id": "90968ddb",
   "metadata": {},
   "outputs": [],
   "source": [
    "from sklearn.preprocessing import OneHotEncoder\n",
    "\n",
    "ohe = OneHotEncoder(handle_unknown=\"ignore\",sparse = False)\n",
    "ohe = ohe.fit(X_train1[['land_surface_condition','foundation_type','roof_type',\n",
    "                         'ground_floor_type','other_floor_type','position','plan_configuration','legal_ownership_status']])\n",
    "\n",
    "temptrain_ohe= ohe.transform(X_train1[['land_surface_condition','foundation_type','roof_type',\n",
    "                         'ground_floor_type','other_floor_type','position','plan_configuration','legal_ownership_status']])\n",
    "\n",
    "\n",
    "temptest_ohe= ohe.transform(X_test1[['land_surface_condition','foundation_type','roof_type',\n",
    "                         'ground_floor_type','other_floor_type','position','plan_configuration','legal_ownership_status']])\n"
   ]
  },
  {
   "cell_type": "code",
   "execution_count": 104,
   "id": "cb779fe0",
   "metadata": {},
   "outputs": [
    {
     "name": "stderr",
     "output_type": "stream",
     "text": [
      "C:\\Users\\Hassan\\AppData\\Local\\Temp/ipykernel_804/3771071981.py:4: SettingWithCopyWarning: \n",
      "A value is trying to be set on a copy of a slice from a DataFrame.\n",
      "Try using .loc[row_indexer,col_indexer] = value instead\n",
      "\n",
      "See the caveats in the documentation: https://pandas.pydata.org/pandas-docs/stable/user_guide/indexing.html#returning-a-view-versus-a-copy\n",
      "  X_train1[temptrain_names[i]] = temptrain_ohe[:,i]\n"
     ]
    },
    {
     "data": {
      "text/html": [
       "<div>\n",
       "<style scoped>\n",
       "    .dataframe tbody tr th:only-of-type {\n",
       "        vertical-align: middle;\n",
       "    }\n",
       "\n",
       "    .dataframe tbody tr th {\n",
       "        vertical-align: top;\n",
       "    }\n",
       "\n",
       "    .dataframe thead th {\n",
       "        text-align: right;\n",
       "    }\n",
       "</style>\n",
       "<table border=\"1\" class=\"dataframe\">\n",
       "  <thead>\n",
       "    <tr style=\"text-align: right;\">\n",
       "      <th></th>\n",
       "      <th>geo_level_1_id</th>\n",
       "      <th>geo_level_2_id</th>\n",
       "      <th>geo_level_3_id</th>\n",
       "      <th>count_floors_pre_eq</th>\n",
       "      <th>age</th>\n",
       "      <th>area_percentage</th>\n",
       "      <th>height_percentage</th>\n",
       "      <th>land_surface_condition</th>\n",
       "      <th>foundation_type</th>\n",
       "      <th>roof_type</th>\n",
       "      <th>...</th>\n",
       "      <th>x6_m</th>\n",
       "      <th>x6_n</th>\n",
       "      <th>x6_o</th>\n",
       "      <th>x6_q</th>\n",
       "      <th>x6_s</th>\n",
       "      <th>x6_u</th>\n",
       "      <th>x7_a</th>\n",
       "      <th>x7_r</th>\n",
       "      <th>x7_v</th>\n",
       "      <th>x7_w</th>\n",
       "    </tr>\n",
       "    <tr>\n",
       "      <th>building_id</th>\n",
       "      <th></th>\n",
       "      <th></th>\n",
       "      <th></th>\n",
       "      <th></th>\n",
       "      <th></th>\n",
       "      <th></th>\n",
       "      <th></th>\n",
       "      <th></th>\n",
       "      <th></th>\n",
       "      <th></th>\n",
       "      <th></th>\n",
       "      <th></th>\n",
       "      <th></th>\n",
       "      <th></th>\n",
       "      <th></th>\n",
       "      <th></th>\n",
       "      <th></th>\n",
       "      <th></th>\n",
       "      <th></th>\n",
       "      <th></th>\n",
       "      <th></th>\n",
       "    </tr>\n",
       "  </thead>\n",
       "  <tbody>\n",
       "    <tr>\n",
       "      <th>580722</th>\n",
       "      <td>26</td>\n",
       "      <td>39</td>\n",
       "      <td>9897</td>\n",
       "      <td>1</td>\n",
       "      <td>35</td>\n",
       "      <td>24</td>\n",
       "      <td>3</td>\n",
       "      <td>t</td>\n",
       "      <td>u</td>\n",
       "      <td>x</td>\n",
       "      <td>...</td>\n",
       "      <td>0.0</td>\n",
       "      <td>0.0</td>\n",
       "      <td>0.0</td>\n",
       "      <td>0.0</td>\n",
       "      <td>0.0</td>\n",
       "      <td>0.0</td>\n",
       "      <td>0.0</td>\n",
       "      <td>0.0</td>\n",
       "      <td>1.0</td>\n",
       "      <td>0.0</td>\n",
       "    </tr>\n",
       "    <tr>\n",
       "      <th>978437</th>\n",
       "      <td>12</td>\n",
       "      <td>635</td>\n",
       "      <td>1918</td>\n",
       "      <td>3</td>\n",
       "      <td>20</td>\n",
       "      <td>9</td>\n",
       "      <td>8</td>\n",
       "      <td>t</td>\n",
       "      <td>r</td>\n",
       "      <td>n</td>\n",
       "      <td>...</td>\n",
       "      <td>0.0</td>\n",
       "      <td>0.0</td>\n",
       "      <td>0.0</td>\n",
       "      <td>0.0</td>\n",
       "      <td>0.0</td>\n",
       "      <td>0.0</td>\n",
       "      <td>0.0</td>\n",
       "      <td>0.0</td>\n",
       "      <td>1.0</td>\n",
       "      <td>0.0</td>\n",
       "    </tr>\n",
       "    <tr>\n",
       "      <th>775194</th>\n",
       "      <td>6</td>\n",
       "      <td>1291</td>\n",
       "      <td>11236</td>\n",
       "      <td>2</td>\n",
       "      <td>20</td>\n",
       "      <td>6</td>\n",
       "      <td>5</td>\n",
       "      <td>t</td>\n",
       "      <td>r</td>\n",
       "      <td>n</td>\n",
       "      <td>...</td>\n",
       "      <td>0.0</td>\n",
       "      <td>0.0</td>\n",
       "      <td>0.0</td>\n",
       "      <td>0.0</td>\n",
       "      <td>0.0</td>\n",
       "      <td>0.0</td>\n",
       "      <td>0.0</td>\n",
       "      <td>0.0</td>\n",
       "      <td>1.0</td>\n",
       "      <td>0.0</td>\n",
       "    </tr>\n",
       "    <tr>\n",
       "      <th>87012</th>\n",
       "      <td>20</td>\n",
       "      <td>251</td>\n",
       "      <td>8703</td>\n",
       "      <td>2</td>\n",
       "      <td>10</td>\n",
       "      <td>7</td>\n",
       "      <td>5</td>\n",
       "      <td>n</td>\n",
       "      <td>w</td>\n",
       "      <td>q</td>\n",
       "      <td>...</td>\n",
       "      <td>0.0</td>\n",
       "      <td>0.0</td>\n",
       "      <td>0.0</td>\n",
       "      <td>0.0</td>\n",
       "      <td>0.0</td>\n",
       "      <td>1.0</td>\n",
       "      <td>0.0</td>\n",
       "      <td>0.0</td>\n",
       "      <td>1.0</td>\n",
       "      <td>0.0</td>\n",
       "    </tr>\n",
       "    <tr>\n",
       "      <th>327862</th>\n",
       "      <td>30</td>\n",
       "      <td>1124</td>\n",
       "      <td>9467</td>\n",
       "      <td>2</td>\n",
       "      <td>40</td>\n",
       "      <td>20</td>\n",
       "      <td>5</td>\n",
       "      <td>t</td>\n",
       "      <td>r</td>\n",
       "      <td>n</td>\n",
       "      <td>...</td>\n",
       "      <td>0.0</td>\n",
       "      <td>0.0</td>\n",
       "      <td>0.0</td>\n",
       "      <td>0.0</td>\n",
       "      <td>0.0</td>\n",
       "      <td>0.0</td>\n",
       "      <td>0.0</td>\n",
       "      <td>0.0</td>\n",
       "      <td>1.0</td>\n",
       "      <td>0.0</td>\n",
       "    </tr>\n",
       "    <tr>\n",
       "      <th>...</th>\n",
       "      <td>...</td>\n",
       "      <td>...</td>\n",
       "      <td>...</td>\n",
       "      <td>...</td>\n",
       "      <td>...</td>\n",
       "      <td>...</td>\n",
       "      <td>...</td>\n",
       "      <td>...</td>\n",
       "      <td>...</td>\n",
       "      <td>...</td>\n",
       "      <td>...</td>\n",
       "      <td>...</td>\n",
       "      <td>...</td>\n",
       "      <td>...</td>\n",
       "      <td>...</td>\n",
       "      <td>...</td>\n",
       "      <td>...</td>\n",
       "      <td>...</td>\n",
       "      <td>...</td>\n",
       "      <td>...</td>\n",
       "      <td>...</td>\n",
       "    </tr>\n",
       "    <tr>\n",
       "      <th>435251</th>\n",
       "      <td>5</td>\n",
       "      <td>1354</td>\n",
       "      <td>9234</td>\n",
       "      <td>2</td>\n",
       "      <td>10</td>\n",
       "      <td>4</td>\n",
       "      <td>6</td>\n",
       "      <td>t</td>\n",
       "      <td>u</td>\n",
       "      <td>x</td>\n",
       "      <td>...</td>\n",
       "      <td>0.0</td>\n",
       "      <td>0.0</td>\n",
       "      <td>0.0</td>\n",
       "      <td>0.0</td>\n",
       "      <td>0.0</td>\n",
       "      <td>0.0</td>\n",
       "      <td>0.0</td>\n",
       "      <td>0.0</td>\n",
       "      <td>1.0</td>\n",
       "      <td>0.0</td>\n",
       "    </tr>\n",
       "    <tr>\n",
       "      <th>817413</th>\n",
       "      <td>8</td>\n",
       "      <td>767</td>\n",
       "      <td>3895</td>\n",
       "      <td>1</td>\n",
       "      <td>0</td>\n",
       "      <td>12</td>\n",
       "      <td>3</td>\n",
       "      <td>t</td>\n",
       "      <td>r</td>\n",
       "      <td>n</td>\n",
       "      <td>...</td>\n",
       "      <td>0.0</td>\n",
       "      <td>0.0</td>\n",
       "      <td>0.0</td>\n",
       "      <td>0.0</td>\n",
       "      <td>0.0</td>\n",
       "      <td>0.0</td>\n",
       "      <td>0.0</td>\n",
       "      <td>0.0</td>\n",
       "      <td>1.0</td>\n",
       "      <td>0.0</td>\n",
       "    </tr>\n",
       "    <tr>\n",
       "      <th>510601</th>\n",
       "      <td>17</td>\n",
       "      <td>1313</td>\n",
       "      <td>4187</td>\n",
       "      <td>2</td>\n",
       "      <td>30</td>\n",
       "      <td>4</td>\n",
       "      <td>5</td>\n",
       "      <td>t</td>\n",
       "      <td>r</td>\n",
       "      <td>n</td>\n",
       "      <td>...</td>\n",
       "      <td>0.0</td>\n",
       "      <td>0.0</td>\n",
       "      <td>0.0</td>\n",
       "      <td>0.0</td>\n",
       "      <td>0.0</td>\n",
       "      <td>0.0</td>\n",
       "      <td>0.0</td>\n",
       "      <td>0.0</td>\n",
       "      <td>0.0</td>\n",
       "      <td>1.0</td>\n",
       "    </tr>\n",
       "    <tr>\n",
       "      <th>173762</th>\n",
       "      <td>20</td>\n",
       "      <td>251</td>\n",
       "      <td>1863</td>\n",
       "      <td>2</td>\n",
       "      <td>10</td>\n",
       "      <td>4</td>\n",
       "      <td>5</td>\n",
       "      <td>t</td>\n",
       "      <td>w</td>\n",
       "      <td>q</td>\n",
       "      <td>...</td>\n",
       "      <td>0.0</td>\n",
       "      <td>0.0</td>\n",
       "      <td>0.0</td>\n",
       "      <td>0.0</td>\n",
       "      <td>0.0</td>\n",
       "      <td>0.0</td>\n",
       "      <td>0.0</td>\n",
       "      <td>1.0</td>\n",
       "      <td>0.0</td>\n",
       "      <td>0.0</td>\n",
       "    </tr>\n",
       "    <tr>\n",
       "      <th>689668</th>\n",
       "      <td>3</td>\n",
       "      <td>720</td>\n",
       "      <td>3189</td>\n",
       "      <td>2</td>\n",
       "      <td>20</td>\n",
       "      <td>8</td>\n",
       "      <td>5</td>\n",
       "      <td>t</td>\n",
       "      <td>r</td>\n",
       "      <td>n</td>\n",
       "      <td>...</td>\n",
       "      <td>0.0</td>\n",
       "      <td>0.0</td>\n",
       "      <td>0.0</td>\n",
       "      <td>0.0</td>\n",
       "      <td>0.0</td>\n",
       "      <td>0.0</td>\n",
       "      <td>0.0</td>\n",
       "      <td>0.0</td>\n",
       "      <td>1.0</td>\n",
       "      <td>0.0</td>\n",
       "    </tr>\n",
       "  </tbody>\n",
       "</table>\n",
       "<p>208480 rows × 76 columns</p>\n",
       "</div>"
      ],
      "text/plain": [
       "            geo_level_1_id geo_level_2_id geo_level_3_id  count_floors_pre_eq  \\\n",
       "building_id                                                                     \n",
       "580722                  26             39           9897                    1   \n",
       "978437                  12            635           1918                    3   \n",
       "775194                   6           1291          11236                    2   \n",
       "87012                   20            251           8703                    2   \n",
       "327862                  30           1124           9467                    2   \n",
       "...                    ...            ...            ...                  ...   \n",
       "435251                   5           1354           9234                    2   \n",
       "817413                   8            767           3895                    1   \n",
       "510601                  17           1313           4187                    2   \n",
       "173762                  20            251           1863                    2   \n",
       "689668                   3            720           3189                    2   \n",
       "\n",
       "             age area_percentage  height_percentage land_surface_condition  \\\n",
       "building_id                                                                  \n",
       "580722        35              24                  3                      t   \n",
       "978437        20               9                  8                      t   \n",
       "775194        20               6                  5                      t   \n",
       "87012         10               7                  5                      n   \n",
       "327862        40              20                  5                      t   \n",
       "...          ...             ...                ...                    ...   \n",
       "435251        10               4                  6                      t   \n",
       "817413         0              12                  3                      t   \n",
       "510601        30               4                  5                      t   \n",
       "173762        10               4                  5                      t   \n",
       "689668        20               8                  5                      t   \n",
       "\n",
       "            foundation_type roof_type  ... x6_m x6_n x6_o x6_q  x6_s  x6_u  \\\n",
       "building_id                            ...                                   \n",
       "580722                    u         x  ...  0.0  0.0  0.0  0.0   0.0   0.0   \n",
       "978437                    r         n  ...  0.0  0.0  0.0  0.0   0.0   0.0   \n",
       "775194                    r         n  ...  0.0  0.0  0.0  0.0   0.0   0.0   \n",
       "87012                     w         q  ...  0.0  0.0  0.0  0.0   0.0   1.0   \n",
       "327862                    r         n  ...  0.0  0.0  0.0  0.0   0.0   0.0   \n",
       "...                     ...       ...  ...  ...  ...  ...  ...   ...   ...   \n",
       "435251                    u         x  ...  0.0  0.0  0.0  0.0   0.0   0.0   \n",
       "817413                    r         n  ...  0.0  0.0  0.0  0.0   0.0   0.0   \n",
       "510601                    r         n  ...  0.0  0.0  0.0  0.0   0.0   0.0   \n",
       "173762                    w         q  ...  0.0  0.0  0.0  0.0   0.0   0.0   \n",
       "689668                    r         n  ...  0.0  0.0  0.0  0.0   0.0   0.0   \n",
       "\n",
       "             x7_a  x7_r  x7_v  x7_w  \n",
       "building_id                          \n",
       "580722        0.0   0.0   1.0   0.0  \n",
       "978437        0.0   0.0   1.0   0.0  \n",
       "775194        0.0   0.0   1.0   0.0  \n",
       "87012         0.0   0.0   1.0   0.0  \n",
       "327862        0.0   0.0   1.0   0.0  \n",
       "...           ...   ...   ...   ...  \n",
       "435251        0.0   0.0   1.0   0.0  \n",
       "817413        0.0   0.0   1.0   0.0  \n",
       "510601        0.0   0.0   0.0   1.0  \n",
       "173762        0.0   1.0   0.0   0.0  \n",
       "689668        0.0   0.0   1.0   0.0  \n",
       "\n",
       "[208480 rows x 76 columns]"
      ]
     },
     "execution_count": 104,
     "metadata": {},
     "output_type": "execute_result"
    }
   ],
   "source": [
    "temptrain_names = ohe.get_feature_names()\n",
    "\n",
    "for i in range(temptrain_ohe.shape[1]):\n",
    "    X_train1[temptrain_names[i]] = temptrain_ohe[:,i]\n",
    "\n",
    "X_train1"
   ]
  },
  {
   "cell_type": "code",
   "execution_count": 105,
   "id": "cc4c6324",
   "metadata": {},
   "outputs": [
    {
     "name": "stderr",
     "output_type": "stream",
     "text": [
      "C:\\Users\\Hassan\\AppData\\Local\\Temp/ipykernel_804/3375528512.py:4: SettingWithCopyWarning: \n",
      "A value is trying to be set on a copy of a slice from a DataFrame.\n",
      "Try using .loc[row_indexer,col_indexer] = value instead\n",
      "\n",
      "See the caveats in the documentation: https://pandas.pydata.org/pandas-docs/stable/user_guide/indexing.html#returning-a-view-versus-a-copy\n",
      "  X_test1[temptest_names[i]] = temptest_ohe[:,i]\n"
     ]
    },
    {
     "data": {
      "text/html": [
       "<div>\n",
       "<style scoped>\n",
       "    .dataframe tbody tr th:only-of-type {\n",
       "        vertical-align: middle;\n",
       "    }\n",
       "\n",
       "    .dataframe tbody tr th {\n",
       "        vertical-align: top;\n",
       "    }\n",
       "\n",
       "    .dataframe thead th {\n",
       "        text-align: right;\n",
       "    }\n",
       "</style>\n",
       "<table border=\"1\" class=\"dataframe\">\n",
       "  <thead>\n",
       "    <tr style=\"text-align: right;\">\n",
       "      <th></th>\n",
       "      <th>geo_level_1_id</th>\n",
       "      <th>geo_level_2_id</th>\n",
       "      <th>geo_level_3_id</th>\n",
       "      <th>count_floors_pre_eq</th>\n",
       "      <th>age</th>\n",
       "      <th>area_percentage</th>\n",
       "      <th>height_percentage</th>\n",
       "      <th>land_surface_condition</th>\n",
       "      <th>foundation_type</th>\n",
       "      <th>roof_type</th>\n",
       "      <th>...</th>\n",
       "      <th>x6_m</th>\n",
       "      <th>x6_n</th>\n",
       "      <th>x6_o</th>\n",
       "      <th>x6_q</th>\n",
       "      <th>x6_s</th>\n",
       "      <th>x6_u</th>\n",
       "      <th>x7_a</th>\n",
       "      <th>x7_r</th>\n",
       "      <th>x7_v</th>\n",
       "      <th>x7_w</th>\n",
       "    </tr>\n",
       "    <tr>\n",
       "      <th>building_id</th>\n",
       "      <th></th>\n",
       "      <th></th>\n",
       "      <th></th>\n",
       "      <th></th>\n",
       "      <th></th>\n",
       "      <th></th>\n",
       "      <th></th>\n",
       "      <th></th>\n",
       "      <th></th>\n",
       "      <th></th>\n",
       "      <th></th>\n",
       "      <th></th>\n",
       "      <th></th>\n",
       "      <th></th>\n",
       "      <th></th>\n",
       "      <th></th>\n",
       "      <th></th>\n",
       "      <th></th>\n",
       "      <th></th>\n",
       "      <th></th>\n",
       "      <th></th>\n",
       "    </tr>\n",
       "  </thead>\n",
       "  <tbody>\n",
       "    <tr>\n",
       "      <th>723019</th>\n",
       "      <td>6</td>\n",
       "      <td>398</td>\n",
       "      <td>8017</td>\n",
       "      <td>2</td>\n",
       "      <td>5</td>\n",
       "      <td>15</td>\n",
       "      <td>6</td>\n",
       "      <td>o</td>\n",
       "      <td>r</td>\n",
       "      <td>n</td>\n",
       "      <td>...</td>\n",
       "      <td>0.0</td>\n",
       "      <td>0.0</td>\n",
       "      <td>0.0</td>\n",
       "      <td>0.0</td>\n",
       "      <td>0.0</td>\n",
       "      <td>0.0</td>\n",
       "      <td>0.0</td>\n",
       "      <td>0.0</td>\n",
       "      <td>1.0</td>\n",
       "      <td>0.0</td>\n",
       "    </tr>\n",
       "    <tr>\n",
       "      <th>674962</th>\n",
       "      <td>15</td>\n",
       "      <td>348</td>\n",
       "      <td>10604</td>\n",
       "      <td>2</td>\n",
       "      <td>15</td>\n",
       "      <td>10</td>\n",
       "      <td>5</td>\n",
       "      <td>t</td>\n",
       "      <td>r</td>\n",
       "      <td>n</td>\n",
       "      <td>...</td>\n",
       "      <td>0.0</td>\n",
       "      <td>0.0</td>\n",
       "      <td>0.0</td>\n",
       "      <td>0.0</td>\n",
       "      <td>0.0</td>\n",
       "      <td>0.0</td>\n",
       "      <td>0.0</td>\n",
       "      <td>0.0</td>\n",
       "      <td>1.0</td>\n",
       "      <td>0.0</td>\n",
       "    </tr>\n",
       "    <tr>\n",
       "      <th>538049</th>\n",
       "      <td>22</td>\n",
       "      <td>890</td>\n",
       "      <td>9562</td>\n",
       "      <td>3</td>\n",
       "      <td>40</td>\n",
       "      <td>23</td>\n",
       "      <td>8</td>\n",
       "      <td>t</td>\n",
       "      <td>r</td>\n",
       "      <td>n</td>\n",
       "      <td>...</td>\n",
       "      <td>0.0</td>\n",
       "      <td>0.0</td>\n",
       "      <td>0.0</td>\n",
       "      <td>0.0</td>\n",
       "      <td>0.0</td>\n",
       "      <td>0.0</td>\n",
       "      <td>0.0</td>\n",
       "      <td>0.0</td>\n",
       "      <td>1.0</td>\n",
       "      <td>0.0</td>\n",
       "    </tr>\n",
       "    <tr>\n",
       "      <th>951256</th>\n",
       "      <td>8</td>\n",
       "      <td>268</td>\n",
       "      <td>11301</td>\n",
       "      <td>2</td>\n",
       "      <td>0</td>\n",
       "      <td>24</td>\n",
       "      <td>7</td>\n",
       "      <td>n</td>\n",
       "      <td>i</td>\n",
       "      <td>x</td>\n",
       "      <td>...</td>\n",
       "      <td>0.0</td>\n",
       "      <td>0.0</td>\n",
       "      <td>0.0</td>\n",
       "      <td>0.0</td>\n",
       "      <td>0.0</td>\n",
       "      <td>0.0</td>\n",
       "      <td>0.0</td>\n",
       "      <td>0.0</td>\n",
       "      <td>1.0</td>\n",
       "      <td>0.0</td>\n",
       "    </tr>\n",
       "    <tr>\n",
       "      <th>527079</th>\n",
       "      <td>26</td>\n",
       "      <td>227</td>\n",
       "      <td>9728</td>\n",
       "      <td>2</td>\n",
       "      <td>20</td>\n",
       "      <td>8</td>\n",
       "      <td>6</td>\n",
       "      <td>t</td>\n",
       "      <td>w</td>\n",
       "      <td>n</td>\n",
       "      <td>...</td>\n",
       "      <td>0.0</td>\n",
       "      <td>0.0</td>\n",
       "      <td>0.0</td>\n",
       "      <td>0.0</td>\n",
       "      <td>0.0</td>\n",
       "      <td>0.0</td>\n",
       "      <td>0.0</td>\n",
       "      <td>0.0</td>\n",
       "      <td>1.0</td>\n",
       "      <td>0.0</td>\n",
       "    </tr>\n",
       "    <tr>\n",
       "      <th>...</th>\n",
       "      <td>...</td>\n",
       "      <td>...</td>\n",
       "      <td>...</td>\n",
       "      <td>...</td>\n",
       "      <td>...</td>\n",
       "      <td>...</td>\n",
       "      <td>...</td>\n",
       "      <td>...</td>\n",
       "      <td>...</td>\n",
       "      <td>...</td>\n",
       "      <td>...</td>\n",
       "      <td>...</td>\n",
       "      <td>...</td>\n",
       "      <td>...</td>\n",
       "      <td>...</td>\n",
       "      <td>...</td>\n",
       "      <td>...</td>\n",
       "      <td>...</td>\n",
       "      <td>...</td>\n",
       "      <td>...</td>\n",
       "      <td>...</td>\n",
       "    </tr>\n",
       "    <tr>\n",
       "      <th>456905</th>\n",
       "      <td>21</td>\n",
       "      <td>701</td>\n",
       "      <td>1688</td>\n",
       "      <td>3</td>\n",
       "      <td>30</td>\n",
       "      <td>10</td>\n",
       "      <td>7</td>\n",
       "      <td>t</td>\n",
       "      <td>r</td>\n",
       "      <td>q</td>\n",
       "      <td>...</td>\n",
       "      <td>0.0</td>\n",
       "      <td>0.0</td>\n",
       "      <td>0.0</td>\n",
       "      <td>0.0</td>\n",
       "      <td>0.0</td>\n",
       "      <td>0.0</td>\n",
       "      <td>0.0</td>\n",
       "      <td>0.0</td>\n",
       "      <td>1.0</td>\n",
       "      <td>0.0</td>\n",
       "    </tr>\n",
       "    <tr>\n",
       "      <th>947263</th>\n",
       "      <td>4</td>\n",
       "      <td>1334</td>\n",
       "      <td>9215</td>\n",
       "      <td>3</td>\n",
       "      <td>10</td>\n",
       "      <td>8</td>\n",
       "      <td>10</td>\n",
       "      <td>t</td>\n",
       "      <td>i</td>\n",
       "      <td>x</td>\n",
       "      <td>...</td>\n",
       "      <td>0.0</td>\n",
       "      <td>0.0</td>\n",
       "      <td>0.0</td>\n",
       "      <td>0.0</td>\n",
       "      <td>0.0</td>\n",
       "      <td>0.0</td>\n",
       "      <td>0.0</td>\n",
       "      <td>0.0</td>\n",
       "      <td>1.0</td>\n",
       "      <td>0.0</td>\n",
       "    </tr>\n",
       "    <tr>\n",
       "      <th>242947</th>\n",
       "      <td>4</td>\n",
       "      <td>689</td>\n",
       "      <td>11763</td>\n",
       "      <td>1</td>\n",
       "      <td>5</td>\n",
       "      <td>3</td>\n",
       "      <td>2</td>\n",
       "      <td>t</td>\n",
       "      <td>r</td>\n",
       "      <td>n</td>\n",
       "      <td>...</td>\n",
       "      <td>0.0</td>\n",
       "      <td>0.0</td>\n",
       "      <td>0.0</td>\n",
       "      <td>0.0</td>\n",
       "      <td>0.0</td>\n",
       "      <td>0.0</td>\n",
       "      <td>0.0</td>\n",
       "      <td>0.0</td>\n",
       "      <td>1.0</td>\n",
       "      <td>0.0</td>\n",
       "    </tr>\n",
       "    <tr>\n",
       "      <th>62344</th>\n",
       "      <td>20</td>\n",
       "      <td>1378</td>\n",
       "      <td>6088</td>\n",
       "      <td>2</td>\n",
       "      <td>5</td>\n",
       "      <td>9</td>\n",
       "      <td>8</td>\n",
       "      <td>t</td>\n",
       "      <td>r</td>\n",
       "      <td>q</td>\n",
       "      <td>...</td>\n",
       "      <td>0.0</td>\n",
       "      <td>0.0</td>\n",
       "      <td>0.0</td>\n",
       "      <td>0.0</td>\n",
       "      <td>0.0</td>\n",
       "      <td>0.0</td>\n",
       "      <td>0.0</td>\n",
       "      <td>0.0</td>\n",
       "      <td>1.0</td>\n",
       "      <td>0.0</td>\n",
       "    </tr>\n",
       "    <tr>\n",
       "      <th>96975</th>\n",
       "      <td>3</td>\n",
       "      <td>720</td>\n",
       "      <td>11621</td>\n",
       "      <td>2</td>\n",
       "      <td>0</td>\n",
       "      <td>4</td>\n",
       "      <td>5</td>\n",
       "      <td>t</td>\n",
       "      <td>r</td>\n",
       "      <td>n</td>\n",
       "      <td>...</td>\n",
       "      <td>0.0</td>\n",
       "      <td>0.0</td>\n",
       "      <td>0.0</td>\n",
       "      <td>0.0</td>\n",
       "      <td>0.0</td>\n",
       "      <td>0.0</td>\n",
       "      <td>0.0</td>\n",
       "      <td>0.0</td>\n",
       "      <td>1.0</td>\n",
       "      <td>0.0</td>\n",
       "    </tr>\n",
       "  </tbody>\n",
       "</table>\n",
       "<p>52121 rows × 76 columns</p>\n",
       "</div>"
      ],
      "text/plain": [
       "            geo_level_1_id geo_level_2_id geo_level_3_id  count_floors_pre_eq  \\\n",
       "building_id                                                                     \n",
       "723019                   6            398           8017                    2   \n",
       "674962                  15            348          10604                    2   \n",
       "538049                  22            890           9562                    3   \n",
       "951256                   8            268          11301                    2   \n",
       "527079                  26            227           9728                    2   \n",
       "...                    ...            ...            ...                  ...   \n",
       "456905                  21            701           1688                    3   \n",
       "947263                   4           1334           9215                    3   \n",
       "242947                   4            689          11763                    1   \n",
       "62344                   20           1378           6088                    2   \n",
       "96975                    3            720          11621                    2   \n",
       "\n",
       "             age area_percentage  height_percentage land_surface_condition  \\\n",
       "building_id                                                                  \n",
       "723019         5              15                  6                      o   \n",
       "674962        15              10                  5                      t   \n",
       "538049        40              23                  8                      t   \n",
       "951256         0              24                  7                      n   \n",
       "527079        20               8                  6                      t   \n",
       "...          ...             ...                ...                    ...   \n",
       "456905        30              10                  7                      t   \n",
       "947263        10               8                 10                      t   \n",
       "242947         5               3                  2                      t   \n",
       "62344          5               9                  8                      t   \n",
       "96975          0               4                  5                      t   \n",
       "\n",
       "            foundation_type roof_type  ... x6_m x6_n x6_o x6_q  x6_s  x6_u  \\\n",
       "building_id                            ...                                   \n",
       "723019                    r         n  ...  0.0  0.0  0.0  0.0   0.0   0.0   \n",
       "674962                    r         n  ...  0.0  0.0  0.0  0.0   0.0   0.0   \n",
       "538049                    r         n  ...  0.0  0.0  0.0  0.0   0.0   0.0   \n",
       "951256                    i         x  ...  0.0  0.0  0.0  0.0   0.0   0.0   \n",
       "527079                    w         n  ...  0.0  0.0  0.0  0.0   0.0   0.0   \n",
       "...                     ...       ...  ...  ...  ...  ...  ...   ...   ...   \n",
       "456905                    r         q  ...  0.0  0.0  0.0  0.0   0.0   0.0   \n",
       "947263                    i         x  ...  0.0  0.0  0.0  0.0   0.0   0.0   \n",
       "242947                    r         n  ...  0.0  0.0  0.0  0.0   0.0   0.0   \n",
       "62344                     r         q  ...  0.0  0.0  0.0  0.0   0.0   0.0   \n",
       "96975                     r         n  ...  0.0  0.0  0.0  0.0   0.0   0.0   \n",
       "\n",
       "             x7_a  x7_r  x7_v  x7_w  \n",
       "building_id                          \n",
       "723019        0.0   0.0   1.0   0.0  \n",
       "674962        0.0   0.0   1.0   0.0  \n",
       "538049        0.0   0.0   1.0   0.0  \n",
       "951256        0.0   0.0   1.0   0.0  \n",
       "527079        0.0   0.0   1.0   0.0  \n",
       "...           ...   ...   ...   ...  \n",
       "456905        0.0   0.0   1.0   0.0  \n",
       "947263        0.0   0.0   1.0   0.0  \n",
       "242947        0.0   0.0   1.0   0.0  \n",
       "62344         0.0   0.0   1.0   0.0  \n",
       "96975         0.0   0.0   1.0   0.0  \n",
       "\n",
       "[52121 rows x 76 columns]"
      ]
     },
     "execution_count": 105,
     "metadata": {},
     "output_type": "execute_result"
    }
   ],
   "source": [
    "temptest_names = ohe.get_feature_names()\n",
    "\n",
    "for i in range(temptest_ohe.shape[1]):\n",
    "    X_test1[temptest_names[i]] = temptest_ohe[:,i]\n",
    "\n",
    "X_test1"
   ]
  },
  {
   "cell_type": "code",
   "execution_count": 14,
   "id": "9a94de61",
   "metadata": {},
   "outputs": [
    {
     "name": "stderr",
     "output_type": "stream",
     "text": [
      "C:\\ProgramData\\Anaconda3\\lib\\site-packages\\pandas\\core\\frame.py:4906: SettingWithCopyWarning: \n",
      "A value is trying to be set on a copy of a slice from a DataFrame\n",
      "\n",
      "See the caveats in the documentation: https://pandas.pydata.org/pandas-docs/stable/user_guide/indexing.html#returning-a-view-versus-a-copy\n",
      "  return super().drop(\n"
     ]
    }
   ],
   "source": [
    "X_train1.drop(columns=['land_surface_condition','foundation_type','roof_type',\n",
    "                         'ground_floor_type','other_floor_type','position','plan_configuration','legal_ownership_status'],inplace=True)"
   ]
  },
  {
   "cell_type": "code",
   "execution_count": 15,
   "id": "16095b06",
   "metadata": {},
   "outputs": [],
   "source": [
    "X_test1.drop(columns=['land_surface_condition','foundation_type','roof_type',\n",
    "                         'ground_floor_type','other_floor_type','position','plan_configuration','legal_ownership_status'],inplace=True)"
   ]
  },
  {
   "cell_type": "markdown",
   "id": "37eb7f30",
   "metadata": {},
   "source": [
    "## Target Encoding"
   ]
  },
  {
   "cell_type": "code",
   "execution_count": 6,
   "id": "7298e13d",
   "metadata": {},
   "outputs": [
    {
     "name": "stderr",
     "output_type": "stream",
     "text": [
      "C:\\ProgramData\\Anaconda3\\lib\\site-packages\\category_encoders\\target_encoder.py:92: FutureWarning: Default parameter min_samples_leaf will change in version 2.6.See https://github.com/scikit-learn-contrib/category_encoders/issues/327\n",
      "  warnings.warn(\"Default parameter min_samples_leaf will change in version 2.6.\"\n"
     ]
    }
   ],
   "source": [
    "import category_encoders as ce\n",
    "from category_encoders.wrapper import PolynomialWrapper\n",
    "\n",
    "te = PolynomialWrapper(ce.target_encoder.TargetEncoder(min_samples_leaf=1, smoothing=0, return_df=True))\n",
    "te.fit(df_trainX[['geo_level_1_id','geo_level_2_id','geo_level_3_id','area_percentage','land_surface_condition','foundation_type','roof_type',\n",
    "                         'ground_floor_type','other_floor_type','position','plan_configuration','legal_ownership_status']],df_trainY['damage_grade'].tolist())\n",
    "\n",
    "temptrain_te=te.transform(X_train[['geo_level_1_id','geo_level_2_id','geo_level_3_id','area_percentage','land_surface_condition','foundation_type','roof_type',\n",
    "                         'ground_floor_type','other_floor_type','position','plan_configuration','legal_ownership_status']])\n",
    "\n",
    "temptest_te=te.transform(X_test[['geo_level_1_id','geo_level_2_id','geo_level_3_id','area_percentage','land_surface_condition','foundation_type','roof_type',\n",
    "                         'ground_floor_type','other_floor_type','position','plan_configuration','legal_ownership_status']])\n"
   ]
  },
  {
   "cell_type": "code",
   "execution_count": 7,
   "id": "b2927002",
   "metadata": {},
   "outputs": [],
   "source": [
    "X_train_te=pd.concat([X_train,temptrain_te], axis=1)\n",
    "\n",
    "X_test_te=pd.concat([X_test,temptest_te], axis=1)"
   ]
  },
  {
   "cell_type": "code",
   "execution_count": 8,
   "id": "7bc430b0",
   "metadata": {},
   "outputs": [],
   "source": [
    "X_train_te.drop(columns=['geo_level_1_id','geo_level_2_id','geo_level_3_id','land_surface_condition','foundation_type','roof_type',\n",
    "                         'ground_floor_type','other_floor_type','position','plan_configuration','legal_ownership_status'],inplace=True)"
   ]
  },
  {
   "cell_type": "code",
   "execution_count": 9,
   "id": "3c226f0e",
   "metadata": {},
   "outputs": [],
   "source": [
    "X_test_te.drop(columns=['geo_level_1_id','geo_level_2_id','geo_level_3_id','land_surface_condition','foundation_type','roof_type',\n",
    "                         'ground_floor_type','other_floor_type','position','plan_configuration','legal_ownership_status'],inplace=True)"
   ]
  },
  {
   "cell_type": "markdown",
   "id": "4f824d73",
   "metadata": {},
   "source": [
    "# START OF PHASE 1"
   ]
  },
  {
   "cell_type": "markdown",
   "id": "3670fe58",
   "metadata": {},
   "source": [
    "# Decision Trees with OHE"
   ]
  },
  {
   "cell_type": "code",
   "execution_count": 25,
   "id": "73d95ef0",
   "metadata": {},
   "outputs": [
    {
     "data": {
      "text/plain": [
       "DecisionTreeClassifier(criterion='entropy', max_depth=10, max_leaf_nodes=10,\n",
       "                       min_samples_leaf=10, min_samples_split=10,\n",
       "                       random_state=17)"
      ]
     },
     "execution_count": 25,
     "metadata": {},
     "output_type": "execute_result"
    }
   ],
   "source": [
    "from sklearn.tree import DecisionTreeClassifier\n",
    "\n",
    "clf = DecisionTreeClassifier(random_state = 17, criterion = \"entropy\", \n",
    "                             min_samples_split = 10, min_samples_leaf = 10, max_depth = 10, max_leaf_nodes = 10)\n",
    "\n",
    "clf.fit(X_train1, y_train1)\n"
   ]
  },
  {
   "cell_type": "code",
   "execution_count": 65,
   "id": "df382de7",
   "metadata": {},
   "outputs": [],
   "source": [
    "y_pred_dt_ohe = clf.predict(X_test1)"
   ]
  },
  {
   "cell_type": "code",
   "execution_count": 66,
   "id": "4da67c87",
   "metadata": {},
   "outputs": [
    {
     "data": {
      "text/plain": [
       "0.6391857408722013"
      ]
     },
     "execution_count": 66,
     "metadata": {},
     "output_type": "execute_result"
    }
   ],
   "source": [
    "f1score_dt_ohe=f1_score(y_test1,y_pred_dt_ohe,average='micro')\n",
    "f1score_dt_ohe"
   ]
  },
  {
   "cell_type": "markdown",
   "id": "30ad932b",
   "metadata": {},
   "source": [
    "# Decision Trees with TE"
   ]
  },
  {
   "cell_type": "code",
   "execution_count": 26,
   "id": "6ec8e82c",
   "metadata": {},
   "outputs": [
    {
     "data": {
      "text/plain": [
       "DecisionTreeClassifier(criterion='entropy', max_depth=10, max_leaf_nodes=10,\n",
       "                       min_samples_leaf=10, min_samples_split=10,\n",
       "                       random_state=17)"
      ]
     },
     "execution_count": 26,
     "metadata": {},
     "output_type": "execute_result"
    }
   ],
   "source": [
    "clf.fit(X_train_te, y_train)\n",
    "\n",
    "\n",
    "y_pred_dt_te = clf.predict(X_test_te)"
   ]
  },
  {
   "cell_type": "code",
   "execution_count": 27,
   "id": "b7f21141",
   "metadata": {},
   "outputs": [
    {
     "data": {
      "text/plain": [
       "0.7360181117016174"
      ]
     },
     "execution_count": 27,
     "metadata": {},
     "output_type": "execute_result"
    }
   ],
   "source": [
    "f1score_dt_te=f1_score(y_test,y_pred_dt_te,average='micro')\n",
    "f1score_dt_te"
   ]
  },
  {
   "cell_type": "markdown",
   "id": "0e1caf55",
   "metadata": {},
   "source": [
    "# KNN with OHE"
   ]
  },
  {
   "cell_type": "code",
   "execution_count": 76,
   "id": "b2aaa9de",
   "metadata": {},
   "outputs": [
    {
     "data": {
      "text/plain": [
       "KNeighborsClassifier()"
      ]
     },
     "execution_count": 76,
     "metadata": {},
     "output_type": "execute_result"
    }
   ],
   "source": [
    "knn_clf = KNeighborsClassifier(n_neighbors=5)\n",
    "knn_clf.fit(X_train1,y_train)\n",
    "\n",
    "y_pred_knn_ohe = knn_clf.predict(X_test1)"
   ]
  },
  {
   "cell_type": "code",
   "execution_count": 78,
   "id": "62ed5e53",
   "metadata": {},
   "outputs": [
    {
     "data": {
      "text/plain": [
       "0.4930066575852344"
      ]
     },
     "execution_count": 78,
     "metadata": {},
     "output_type": "execute_result"
    }
   ],
   "source": [
    "f1score_knn_ohe=f1_score(y_test1,y_pred_knn_ohe,average='micro')\n",
    "f1score_knn_ohe"
   ]
  },
  {
   "cell_type": "markdown",
   "id": "411bc41a",
   "metadata": {},
   "source": [
    "# KNN with TE"
   ]
  },
  {
   "cell_type": "code",
   "execution_count": 79,
   "id": "93c68778",
   "metadata": {},
   "outputs": [
    {
     "data": {
      "text/plain": [
       "KNeighborsClassifier()"
      ]
     },
     "execution_count": 79,
     "metadata": {},
     "output_type": "execute_result"
    }
   ],
   "source": [
    "knn_clf.fit(X_train_te,y_train)\n",
    "\n",
    "y_pred_knn_te = knn_clf.predict(X_test_te)\n"
   ]
  },
  {
   "cell_type": "code",
   "execution_count": 80,
   "id": "f0ddcba3",
   "metadata": {},
   "outputs": [
    {
     "data": {
      "text/plain": [
       "0.685462673394601"
      ]
     },
     "execution_count": 80,
     "metadata": {},
     "output_type": "execute_result"
    }
   ],
   "source": [
    "f1score_knn_te=f1_score(y_test,y_pred_knn_te,average='micro')\n",
    "f1score_knn_te"
   ]
  },
  {
   "cell_type": "markdown",
   "id": "91215680",
   "metadata": {},
   "source": [
    "# SVM Linear with TE"
   ]
  },
  {
   "cell_type": "code",
   "execution_count": 81,
   "id": "3df96906",
   "metadata": {},
   "outputs": [
    {
     "data": {
      "text/plain": [
       "SVC(C=0.025, kernel='linear')"
      ]
     },
     "execution_count": 81,
     "metadata": {},
     "output_type": "execute_result"
    }
   ],
   "source": [
    "from sklearn.svm import SVC\n",
    "\n",
    "svm_clf = SVC(kernel=\"linear\", C=0.025)\n",
    "svm_clf.fit(X_train_te,y_train)\n",
    "\n",
    "y_pred_svm_te = svm_clf.predict(X_test_te)"
   ]
  },
  {
   "cell_type": "code",
   "execution_count": 82,
   "id": "92ae8561",
   "metadata": {},
   "outputs": [
    {
     "data": {
      "text/plain": [
       "0.7475297864584333"
      ]
     },
     "execution_count": 82,
     "metadata": {},
     "output_type": "execute_result"
    }
   ],
   "source": [
    "f1score_svm=f1_score(y_test,y_pred_svm_te,average='micro')\n",
    "f1score_svm"
   ]
  },
  {
   "cell_type": "markdown",
   "id": "fbc2891b",
   "metadata": {},
   "source": [
    "# NB with OHE"
   ]
  },
  {
   "cell_type": "code",
   "execution_count": 83,
   "id": "b9962f16",
   "metadata": {},
   "outputs": [],
   "source": [
    "from sklearn.naive_bayes import GaussianNB\n",
    "gnb=GaussianNB()\n",
    "gnb=gnb.fit(X_train1,y_train)\n",
    "\n",
    "y_pred_gnb_ohe = gnb.predict(X_test1)\n"
   ]
  },
  {
   "cell_type": "code",
   "execution_count": 84,
   "id": "389e6576",
   "metadata": {},
   "outputs": [
    {
     "data": {
      "text/plain": [
       "0.32326701329598434"
      ]
     },
     "execution_count": 84,
     "metadata": {},
     "output_type": "execute_result"
    }
   ],
   "source": [
    "f1score_nb_ohe=f1_score(y_test1,y_pred_gnb_ohe,average='micro')\n",
    "f1score_nb_ohe"
   ]
  },
  {
   "cell_type": "markdown",
   "id": "59bd0a29",
   "metadata": {},
   "source": [
    "# NB with TE"
   ]
  },
  {
   "cell_type": "code",
   "execution_count": 85,
   "id": "39168334",
   "metadata": {},
   "outputs": [],
   "source": [
    "gnb=gnb.fit(X_train_te,y_train)\n",
    "\n",
    "y_pred_gnb_te = gnb.predict(X_test_te)\n"
   ]
  },
  {
   "cell_type": "code",
   "execution_count": 86,
   "id": "2b877636",
   "metadata": {},
   "outputs": [
    {
     "data": {
      "text/plain": [
       "0.46879376834673164"
      ]
     },
     "execution_count": 86,
     "metadata": {},
     "output_type": "execute_result"
    }
   ],
   "source": [
    "f1score_nb_te=f1_score(y_test,y_pred_gnb_te,average='micro')\n",
    "f1score_nb_te"
   ]
  },
  {
   "cell_type": "markdown",
   "id": "06a94a71",
   "metadata": {},
   "source": [
    "# LR with OHE"
   ]
  },
  {
   "cell_type": "code",
   "execution_count": 88,
   "id": "a611551e",
   "metadata": {},
   "outputs": [
    {
     "data": {
      "text/plain": [
       "LogisticRegression(max_iter=5000, random_state=17)"
      ]
     },
     "execution_count": 88,
     "metadata": {},
     "output_type": "execute_result"
    }
   ],
   "source": [
    "lr_clf= LogisticRegression(random_state=17, max_iter=5000)\n",
    "lr_clf.fit(X_train1,y_train)\n",
    "\n",
    "y_pred_lr_ohe=lr_clf.predict(X_test1)"
   ]
  },
  {
   "cell_type": "code",
   "execution_count": 89,
   "id": "bb45017a",
   "metadata": {},
   "outputs": [
    {
     "data": {
      "text/plain": [
       "0.5358109015559948"
      ]
     },
     "execution_count": 89,
     "metadata": {},
     "output_type": "execute_result"
    }
   ],
   "source": [
    "f1score_lr_ohe=f1_score(y_test1,y_pred_lr_ohe,average='micro')\n",
    "f1score_lr_ohe"
   ]
  },
  {
   "cell_type": "markdown",
   "id": "8e25f779",
   "metadata": {},
   "source": [
    "# LR with TE"
   ]
  },
  {
   "cell_type": "code",
   "execution_count": 90,
   "id": "0efe3825",
   "metadata": {},
   "outputs": [
    {
     "data": {
      "text/plain": [
       "LogisticRegression(max_iter=5000, random_state=17)"
      ]
     },
     "execution_count": 90,
     "metadata": {},
     "output_type": "execute_result"
    }
   ],
   "source": [
    "lr_clf.fit(X_train_te,y_train)\n",
    "\n",
    "y_pred_lr_te=lr_clf.predict(X_test_te)"
   ]
  },
  {
   "cell_type": "code",
   "execution_count": 91,
   "id": "83035db1",
   "metadata": {},
   "outputs": [
    {
     "data": {
      "text/plain": [
       "0.7488152568062776"
      ]
     },
     "execution_count": 91,
     "metadata": {},
     "output_type": "execute_result"
    }
   ],
   "source": [
    "f1score_lr_te=f1_score(y_test,y_pred_lr_te,average='micro')\n",
    "f1score_lr_te"
   ]
  },
  {
   "cell_type": "markdown",
   "id": "890f7304",
   "metadata": {},
   "source": [
    "# End of Phase 1"
   ]
  },
  {
   "cell_type": "markdown",
   "id": "83d84bc6",
   "metadata": {},
   "source": [
    "# Start of Phase 2"
   ]
  },
  {
   "cell_type": "markdown",
   "id": "15b2c8c2",
   "metadata": {},
   "source": [
    "# Decision Tree with TE and CB"
   ]
  },
  {
   "cell_type": "code",
   "execution_count": 103,
   "id": "8e64118c",
   "metadata": {},
   "outputs": [],
   "source": [
    "clf_balanced = DecisionTreeClassifier(random_state = 17, criterion = \"entropy\", class_weight = \"balanced\",\n",
    "                             min_samples_split = 10, min_samples_leaf = 10, max_depth = 10, max_leaf_nodes = 10)\n"
   ]
  },
  {
   "cell_type": "code",
   "execution_count": 104,
   "id": "beb27dd3",
   "metadata": {},
   "outputs": [
    {
     "data": {
      "text/plain": [
       "DecisionTreeClassifier(class_weight='balanced', criterion='entropy',\n",
       "                       max_depth=10, max_leaf_nodes=10, min_samples_leaf=10,\n",
       "                       min_samples_split=10, random_state=17)"
      ]
     },
     "execution_count": 104,
     "metadata": {},
     "output_type": "execute_result"
    },
    {
     "data": {
      "text/plain": [
       "0.6895109456840812"
      ]
     },
     "execution_count": 104,
     "metadata": {},
     "output_type": "execute_result"
    }
   ],
   "source": [
    "clf_balanced.fit(X_train_te, y_train)\n",
    "y_pred_dt_bal = clf_balanced.predict(X_test_te)\n",
    "\n",
    "f1score_dt_bal=f1_score(y_test,y_pred_dt_bal,average='micro')\n",
    "f1score_dt_bal"
   ]
  },
  {
   "cell_type": "markdown",
   "id": "2bdff031",
   "metadata": {},
   "source": [
    "# SVM with TE and CB"
   ]
  },
  {
   "cell_type": "code",
   "execution_count": 106,
   "id": "f62a0c87",
   "metadata": {},
   "outputs": [
    {
     "data": {
      "text/plain": [
       "SVC(C=0.025, class_weight='balanced', kernel='linear')"
      ]
     },
     "execution_count": 106,
     "metadata": {},
     "output_type": "execute_result"
    }
   ],
   "source": [
    "svm_clf_bal = SVC(kernel=\"linear\", C=0.025, class_weight = \"balanced\")\n",
    "svm_clf_bal.fit(X_train_te,y_train)\n"
   ]
  },
  {
   "cell_type": "code",
   "execution_count": 107,
   "id": "6278d7f3",
   "metadata": {},
   "outputs": [],
   "source": [
    "y_pred_svm_bal = svm_clf_bal.predict(X_test_te)"
   ]
  },
  {
   "cell_type": "code",
   "execution_count": 108,
   "id": "cdb0d7d0",
   "metadata": {},
   "outputs": [
    {
     "data": {
      "text/plain": [
       "0.7118244085877093"
      ]
     },
     "execution_count": 108,
     "metadata": {},
     "output_type": "execute_result"
    }
   ],
   "source": [
    "f1score_svm_bal=f1_score(y_test,y_pred_svm_bal,average='micro')\n",
    "f1score_svm_bal"
   ]
  },
  {
   "cell_type": "markdown",
   "id": "bb699d1f",
   "metadata": {},
   "source": [
    "# LR with TE and CB"
   ]
  },
  {
   "cell_type": "code",
   "execution_count": 109,
   "id": "19d9c3cc",
   "metadata": {},
   "outputs": [
    {
     "data": {
      "text/plain": [
       "LogisticRegression(class_weight='balanced', max_iter=5000, random_state=17)"
      ]
     },
     "execution_count": 109,
     "metadata": {},
     "output_type": "execute_result"
    }
   ],
   "source": [
    "lr_clf_bal= LogisticRegression(random_state=17, max_iter=5000,class_weight = \"balanced\" )\n",
    "\n",
    "lr_clf_bal.fit(X_train_te,y_train)\n"
   ]
  },
  {
   "cell_type": "code",
   "execution_count": 110,
   "id": "435222e1",
   "metadata": {},
   "outputs": [],
   "source": [
    "y_pred_lr_bal=lr_clf_bal.predict(X_test_te)"
   ]
  },
  {
   "cell_type": "code",
   "execution_count": 111,
   "id": "56325daa",
   "metadata": {},
   "outputs": [
    {
     "data": {
      "text/plain": [
       "0.7169854761036818"
      ]
     },
     "execution_count": 111,
     "metadata": {},
     "output_type": "execute_result"
    }
   ],
   "source": [
    "f1score_lr_bal=f1_score(y_test,y_pred_lr_bal,average='micro')\n",
    "f1score_lr_bal"
   ]
  },
  {
   "cell_type": "markdown",
   "id": "308fbe10",
   "metadata": {},
   "source": [
    "# Start of Phase 3"
   ]
  },
  {
   "cell_type": "markdown",
   "id": "e2305a2c",
   "metadata": {},
   "source": [
    "# Ensembles (Target Encoding,Unbalanced)"
   ]
  },
  {
   "cell_type": "markdown",
   "id": "ea1809c1",
   "metadata": {},
   "source": [
    "# Committee Voting(DT,SVM,LR) - Class UnBalanced"
   ]
  },
  {
   "cell_type": "code",
   "execution_count": 197,
   "id": "73a56055",
   "metadata": {},
   "outputs": [],
   "source": [
    "clf1 = DecisionTreeClassifier(random_state = 17, criterion = \"entropy\",\n",
    "                             min_samples_split = 10, min_samples_leaf = 10, max_depth = 10, max_leaf_nodes = 10)\n",
    "\n",
    "clf2 = KNeighborsClassifier(n_neighbors=5)\n",
    "\n",
    "clf3= LogisticRegression(random_state=17,max_iter=5000)\n",
    "\n",
    "classifiers = [('DT',clf1),('KNN',clf2),('LR',clf3)]\n",
    "\n",
    "cclf_unbal = VotingClassifier(estimators=classifiers, voting='soft', weights=[1,2,2])\n",
    "\n",
    "cclf_unbal = cclf_unbal.fit(X_train_te, y_train)\n",
    "\n",
    "y_pred_cclf_unbal = cclf_unbal.predict(X_test_te)"
   ]
  },
  {
   "cell_type": "code",
   "execution_count": 198,
   "id": "8012461f",
   "metadata": {},
   "outputs": [
    {
     "data": {
      "text/plain": [
       "0.7448821012643656"
      ]
     },
     "execution_count": 198,
     "metadata": {},
     "output_type": "execute_result"
    }
   ],
   "source": [
    "f1score_cclf_unbal=f1_score(y_test,y_pred_cclf_unbal,average='micro')\n",
    "f1score_cclf_unbal"
   ]
  },
  {
   "cell_type": "markdown",
   "id": "caa2fdef",
   "metadata": {},
   "source": [
    "# Bagging - with LRs - Classes Unbalanced"
   ]
  },
  {
   "cell_type": "code",
   "execution_count": 122,
   "id": "411e3c77",
   "metadata": {},
   "outputs": [],
   "source": [
    "clf_bag_LR = BaggingClassifier(LogisticRegression(random_state=17,max_iter=5000))"
   ]
  },
  {
   "cell_type": "code",
   "execution_count": 123,
   "id": "32299a3e",
   "metadata": {},
   "outputs": [
    {
     "data": {
      "text/plain": [
       "BaggingClassifier(base_estimator=LogisticRegression(max_iter=5000,\n",
       "                                                    random_state=17))"
      ]
     },
     "execution_count": 123,
     "metadata": {},
     "output_type": "execute_result"
    }
   ],
   "source": [
    "clf_bag_LR.fit(X_train_te,y_train)"
   ]
  },
  {
   "cell_type": "code",
   "execution_count": 124,
   "id": "024f9812",
   "metadata": {},
   "outputs": [],
   "source": [
    "y_pred_clf_bag_LR=clf_bag_LR.predict(X_test_te)"
   ]
  },
  {
   "cell_type": "code",
   "execution_count": 125,
   "id": "5822fa8c",
   "metadata": {},
   "outputs": [
    {
     "data": {
      "text/plain": [
       "0.7484699065635733"
      ]
     },
     "execution_count": 125,
     "metadata": {},
     "output_type": "execute_result"
    }
   ],
   "source": [
    "f1score_clf_bag_LR=f1_score(y_test,y_pred_clf_bag_LR,average='micro')\n",
    "f1score_clf_bag_LR"
   ]
  },
  {
   "cell_type": "markdown",
   "id": "e9bbb311",
   "metadata": {},
   "source": [
    "# Bagging - Random Forests"
   ]
  },
  {
   "cell_type": "code",
   "execution_count": 112,
   "id": "0a7a6eca",
   "metadata": {},
   "outputs": [],
   "source": [
    "clf_rf= RandomForestClassifier(n_estimators=100, max_depth=None, min_samples_split=2, random_state=17)"
   ]
  },
  {
   "cell_type": "code",
   "execution_count": 115,
   "id": "a6e3026f",
   "metadata": {},
   "outputs": [
    {
     "data": {
      "text/plain": [
       "RandomForestClassifier(random_state=17)"
      ]
     },
     "execution_count": 115,
     "metadata": {},
     "output_type": "execute_result"
    }
   ],
   "source": [
    "clf_rf.fit(X_train_te,y_train)"
   ]
  },
  {
   "cell_type": "code",
   "execution_count": 114,
   "id": "90ad6e5a",
   "metadata": {},
   "outputs": [
    {
     "data": {
      "text/plain": [
       "0.7428483720573281"
      ]
     },
     "execution_count": 114,
     "metadata": {},
     "output_type": "execute_result"
    }
   ],
   "source": [
    "y_pred_clf_rf=clf_rf.predict(X_test_te)\n",
    "f1score_clf_rf=f1_score(y_test,y_pred_clf_rf,average='micro')\n",
    "f1score_clf_rf"
   ]
  },
  {
   "cell_type": "markdown",
   "id": "b0f5e7dc",
   "metadata": {},
   "source": [
    "# Bagging - Extra Trees"
   ]
  },
  {
   "cell_type": "code",
   "execution_count": 116,
   "id": "e3f36377",
   "metadata": {},
   "outputs": [],
   "source": [
    "clf_et = ExtraTreesClassifier(n_estimators=100,max_depth=None, min_samples_split=2,random_state=17)"
   ]
  },
  {
   "cell_type": "code",
   "execution_count": 118,
   "id": "8343cf2f",
   "metadata": {},
   "outputs": [
    {
     "data": {
      "text/plain": [
       "ExtraTreesClassifier(random_state=17)"
      ]
     },
     "execution_count": 118,
     "metadata": {},
     "output_type": "execute_result"
    }
   ],
   "source": [
    "clf_et.fit(X_train_te,y_train)\n",
    "y_pred_clf_et=clf_et.predict(X_test_te)"
   ]
  },
  {
   "cell_type": "code",
   "execution_count": 119,
   "id": "4f90891f",
   "metadata": {},
   "outputs": [
    {
     "data": {
      "text/plain": [
       "0.7238541087085818"
      ]
     },
     "execution_count": 119,
     "metadata": {},
     "output_type": "execute_result"
    }
   ],
   "source": [
    "f1score_clf_et=f1_score(y_test,y_pred_clf_et,average='micro')\n",
    "f1score_clf_et"
   ]
  },
  {
   "cell_type": "markdown",
   "id": "fe437d23",
   "metadata": {},
   "source": [
    "# Boosting - AdaBoost with DTs"
   ]
  },
  {
   "cell_type": "code",
   "execution_count": 127,
   "id": "ba69269f",
   "metadata": {},
   "outputs": [
    {
     "data": {
      "text/plain": [
       "AdaBoostClassifier(base_estimator=DecisionTreeClassifier(criterion='entropy',\n",
       "                                                         max_depth=10,\n",
       "                                                         max_leaf_nodes=10,\n",
       "                                                         min_samples_leaf=10,\n",
       "                                                         min_samples_split=10,\n",
       "                                                         random_state=17))"
      ]
     },
     "execution_count": 127,
     "metadata": {},
     "output_type": "execute_result"
    }
   ],
   "source": [
    "clf_ada_dt= AdaBoostClassifier(\n",
    "    base_estimator=DecisionTreeClassifier(random_state = 17, criterion = \"entropy\",\n",
    "                             min_samples_split = 10, min_samples_leaf = 10, max_depth = 10, max_leaf_nodes = 10))\n",
    "clf_ada_dt.fit(X_train_te, y_train)"
   ]
  },
  {
   "cell_type": "code",
   "execution_count": 128,
   "id": "af1e6291",
   "metadata": {},
   "outputs": [],
   "source": [
    "y_pred_clf_ada_dt=clf_ada_dt.predict(X_test_te)"
   ]
  },
  {
   "cell_type": "code",
   "execution_count": 129,
   "id": "74aba0e5",
   "metadata": {},
   "outputs": [
    {
     "data": {
      "text/plain": [
       "0.7185779244450413"
      ]
     },
     "execution_count": 129,
     "metadata": {},
     "output_type": "execute_result"
    }
   ],
   "source": [
    "f1score_clf_ada_dt=f1_score(y_test,y_pred_clf_ada_dt,average='micro')\n",
    "f1score_clf_ada_dt"
   ]
  },
  {
   "cell_type": "markdown",
   "id": "da9a2fd1",
   "metadata": {},
   "source": [
    "# Boosting - AdaBoost with LRs"
   ]
  },
  {
   "cell_type": "code",
   "execution_count": 130,
   "id": "e028e4a5",
   "metadata": {},
   "outputs": [
    {
     "data": {
      "text/plain": [
       "AdaBoostClassifier(base_estimator=LogisticRegression(max_iter=5000,\n",
       "                                                     random_state=17))"
      ]
     },
     "execution_count": 130,
     "metadata": {},
     "output_type": "execute_result"
    }
   ],
   "source": [
    "clf_ada_lr = AdaBoostClassifier(\n",
    "    base_estimator=LogisticRegression(random_state=17,max_iter=5000))\n",
    "clf_ada_lr.fit(X_train_te, y_train)\n",
    "\n",
    "y_pred_clf_ada_lr=clf_ada_lr.predict(X_test_te)"
   ]
  },
  {
   "cell_type": "code",
   "execution_count": 131,
   "id": "274e1eee",
   "metadata": {},
   "outputs": [
    {
     "data": {
      "text/plain": [
       "0.7370733485543255"
      ]
     },
     "execution_count": 131,
     "metadata": {},
     "output_type": "execute_result"
    }
   ],
   "source": [
    "f1score_clf_ada_lr=f1_score(y_test,y_pred_clf_ada_lr,average='micro')\n",
    "f1score_clf_ada_lr"
   ]
  },
  {
   "cell_type": "markdown",
   "id": "5a532045",
   "metadata": {},
   "source": [
    "# Gradient Tree Boosting"
   ]
  },
  {
   "cell_type": "code",
   "execution_count": 132,
   "id": "63493404",
   "metadata": {},
   "outputs": [
    {
     "data": {
      "text/plain": [
       "GradientBoostingClassifier(max_depth=1, max_features=1, random_state=17)"
      ]
     },
     "execution_count": 132,
     "metadata": {},
     "output_type": "execute_result"
    }
   ],
   "source": [
    "from sklearn.ensemble import GradientBoostingClassifier\n",
    "\n",
    "clf_gt = GradientBoostingClassifier(n_estimators = 100, learning_rate=0.1, max_depth=1,max_features=1,random_state=17)\n",
    "\n",
    "clf_gt.fit(X_train_te,y_train)\n",
    "\n",
    "y_pred_clf_gt = clf_gt.predict(X_test_te)"
   ]
  },
  {
   "cell_type": "code",
   "execution_count": 133,
   "id": "b421e9c8",
   "metadata": {},
   "outputs": [
    {
     "data": {
      "text/plain": [
       "0.7003894783292722"
      ]
     },
     "execution_count": 133,
     "metadata": {},
     "output_type": "execute_result"
    }
   ],
   "source": [
    "f1score_clf_gt=f1_score(y_test,y_pred_clf_gt,average='micro')\n",
    "f1score_clf_gt"
   ]
  },
  {
   "cell_type": "markdown",
   "id": "ac80fdb0",
   "metadata": {},
   "source": [
    "# XGBoost"
   ]
  },
  {
   "cell_type": "code",
   "execution_count": 136,
   "id": "177c620a",
   "metadata": {},
   "outputs": [],
   "source": [
    "y_train_transformed = y_train.replace([1,2,3],[0,1,2])\n",
    "y_test_transformed = y_test.replace([1,2,3],[0,1,2])"
   ]
  },
  {
   "cell_type": "code",
   "execution_count": 138,
   "id": "d05f9c96",
   "metadata": {},
   "outputs": [],
   "source": [
    "clf_xgb=XGBClassifier(n_estimators=100,max_depth=3)"
   ]
  },
  {
   "cell_type": "code",
   "execution_count": 139,
   "id": "e91d17e5",
   "metadata": {},
   "outputs": [
    {
     "data": {
      "text/plain": [
       "XGBClassifier(objective='multi:softprob')"
      ]
     },
     "execution_count": 139,
     "metadata": {},
     "output_type": "execute_result"
    }
   ],
   "source": [
    "clf_xgb.fit(X_train_te,y_train_transformed)\n",
    "\n",
    "y_pred_xgb=clf_xgb.predict(X_test_te)"
   ]
  },
  {
   "cell_type": "code",
   "execution_count": 140,
   "id": "1d7ec58c",
   "metadata": {},
   "outputs": [
    {
     "data": {
      "text/plain": [
       "0.7550699334241476"
      ]
     },
     "execution_count": 140,
     "metadata": {},
     "output_type": "execute_result"
    }
   ],
   "source": [
    "f1score_clf_xgb=f1_score(y_test_transformed,y_pred_xgb,average='micro')\n",
    "f1score_clf_xgb"
   ]
  },
  {
   "cell_type": "markdown",
   "id": "8bc4a58c",
   "metadata": {},
   "source": [
    "# LGBM"
   ]
  },
  {
   "cell_type": "code",
   "execution_count": 94,
   "id": "efda72ee",
   "metadata": {},
   "outputs": [
    {
     "name": "stdout",
     "output_type": "stream",
     "text": [
      "<class 'pandas.core.frame.DataFrame'>\n",
      "RangeIndex: 260601 entries, 0 to 260600\n",
      "Data columns (total 39 columns):\n",
      " #   Column                                  Non-Null Count   Dtype   \n",
      "---  ------                                  --------------   -----   \n",
      " 0   building_id                             260601 non-null  int64   \n",
      " 1   geo_level_1_id                          260601 non-null  category\n",
      " 2   geo_level_2_id                          260601 non-null  category\n",
      " 3   geo_level_3_id                          260601 non-null  category\n",
      " 4   count_floors_pre_eq                     260601 non-null  int64   \n",
      " 5   age                                     260601 non-null  int64   \n",
      " 6   area_percentage                         260601 non-null  int64   \n",
      " 7   height_percentage                       260601 non-null  int64   \n",
      " 8   land_surface_condition                  260601 non-null  category\n",
      " 9   foundation_type                         260601 non-null  category\n",
      " 10  roof_type                               260601 non-null  category\n",
      " 11  ground_floor_type                       260601 non-null  category\n",
      " 12  other_floor_type                        260601 non-null  category\n",
      " 13  position                                260601 non-null  category\n",
      " 14  plan_configuration                      260601 non-null  category\n",
      " 15  has_superstructure_adobe_mud            260601 non-null  int64   \n",
      " 16  has_superstructure_mud_mortar_stone     260601 non-null  int64   \n",
      " 17  has_superstructure_stone_flag           260601 non-null  int64   \n",
      " 18  has_superstructure_cement_mortar_stone  260601 non-null  int64   \n",
      " 19  has_superstructure_mud_mortar_brick     260601 non-null  int64   \n",
      " 20  has_superstructure_cement_mortar_brick  260601 non-null  int64   \n",
      " 21  has_superstructure_timber               260601 non-null  int64   \n",
      " 22  has_superstructure_bamboo               260601 non-null  int64   \n",
      " 23  has_superstructure_rc_non_engineered    260601 non-null  int64   \n",
      " 24  has_superstructure_rc_engineered        260601 non-null  int64   \n",
      " 25  has_superstructure_other                260601 non-null  int64   \n",
      " 26  legal_ownership_status                  260601 non-null  category\n",
      " 27  count_families                          260601 non-null  int64   \n",
      " 28  has_secondary_use                       260601 non-null  int64   \n",
      " 29  has_secondary_use_agriculture           260601 non-null  int64   \n",
      " 30  has_secondary_use_hotel                 260601 non-null  int64   \n",
      " 31  has_secondary_use_rental                260601 non-null  int64   \n",
      " 32  has_secondary_use_institution           260601 non-null  int64   \n",
      " 33  has_secondary_use_school                260601 non-null  int64   \n",
      " 34  has_secondary_use_industry              260601 non-null  int64   \n",
      " 35  has_secondary_use_health_post           260601 non-null  int64   \n",
      " 36  has_secondary_use_gov_office            260601 non-null  int64   \n",
      " 37  has_secondary_use_use_police            260601 non-null  int64   \n",
      " 38  has_secondary_use_other                 260601 non-null  int64   \n",
      "dtypes: category(11), int64(28)\n",
      "memory usage: 59.3 MB\n"
     ]
    }
   ],
   "source": [
    "cat_cols=['geo_level_1_id','geo_level_2_id','geo_level_3_id','land_surface_condition','foundation_type','roof_type',\n",
    "                         'ground_floor_type','other_floor_type','position','plan_configuration','legal_ownership_status']\n",
    "df_trainX[cat_cols] = df_trainX[cat_cols].astype('category')\n",
    "\n",
    "df_trainX.info()"
   ]
  },
  {
   "cell_type": "code",
   "execution_count": 146,
   "id": "54efcd0f",
   "metadata": {},
   "outputs": [],
   "source": [
    "params = {\n",
    "      \"cat_l2\": 10,\n",
    "      \"cat_smooth\": 10,\n",
    "      \"colsample_bytree\": 0.8,\n",
    "      \"feature_fraction_bynode\":  0.8,\n",
    "      \"learning_rate\": 0.03,\n",
    "      \"max_depth\": 6,\n",
    "      \"min_child_samples\": 63,\n",
    "      \"min_data_per_group\": 100,\n",
    "      \"n_estimators\": 200,\n",
    "      \"num_leaves\": 63,\n",
    "      \"path_smooth\": 0,\n",
    "      \"reg_alpha\":  0.05,\n",
    "      \"reg_lambda\": 0.05,\n",
    "      \"subsample_freq\": 1,\n",
    "      \"subsample\": 0.8,\n",
    "      \"max_bin\": 127,\n",
    "      \"extra_trees\": False,\n",
    "      \"is_unbalance\": False,\n",
    "      \"boosting_type\": 'gbdt',\n",
    "      \"n_jobs\": 1,\n",
    "      \"objective\": \"multi-class\",\n",
    "      \"num_class\":3,\n",
    "      \"verbosity\": -1,\n",
    "      \"seed\": 17,\n",
    "}\n",
    "\n",
    "\n",
    "fit_params={'feature_name':\"auto\",\n",
    "           'categorical_feature':cat_cols}"
   ]
  },
  {
   "cell_type": "code",
   "execution_count": 190,
   "id": "2e166f38",
   "metadata": {},
   "outputs": [],
   "source": [
    "LGBM = LGBMClassifier(**params)"
   ]
  },
  {
   "cell_type": "code",
   "execution_count": 150,
   "id": "7f476aba",
   "metadata": {},
   "outputs": [],
   "source": [
    "y_pred_lgbm=LGBM.predict(X_test_te)"
   ]
  },
  {
   "cell_type": "code",
   "execution_count": 151,
   "id": "b5f76752",
   "metadata": {},
   "outputs": [
    {
     "data": {
      "text/plain": [
       "0.7590798334644386"
      ]
     },
     "execution_count": 151,
     "metadata": {},
     "output_type": "execute_result"
    }
   ],
   "source": [
    "f1score_LGBM=f1_score(y_test,y_pred_lgbm,average='micro')\n",
    "f1score_LGBM"
   ]
  },
  {
   "cell_type": "markdown",
   "id": "e025e08b",
   "metadata": {},
   "source": [
    "# Stacking"
   ]
  },
  {
   "cell_type": "code",
   "execution_count": 71,
   "id": "862e5b73",
   "metadata": {},
   "outputs": [],
   "source": [
    "xgb = XGBClassifier()\n",
    "lgbm = LGBMClassifier(**best_params_lgbm)\n",
    "lr = LogisticRegression(random_state=17,max_iter=5000)"
   ]
  },
  {
   "cell_type": "code",
   "execution_count": 179,
   "id": "5507b9a0",
   "metadata": {},
   "outputs": [],
   "source": [
    "stack = StackingClassifier(classifiers=(xgb,lgbm,lr),\n",
    "                            meta_classifier=lgbm,\n",
    "                            use_probas=True,average_probas=False)"
   ]
  },
  {
   "cell_type": "code",
   "execution_count": 180,
   "id": "af603821",
   "metadata": {},
   "outputs": [
    {
     "data": {
      "text/plain": [
       "StackingClassifier(classifiers=(XGBClassifier(), LGBMClassifier(),\n",
       "                                LogisticRegression(max_iter=5000,\n",
       "                                                   random_state=17)),\n",
       "                   meta_classifier=LGBMClassifier(), use_probas=True)"
      ]
     },
     "execution_count": 180,
     "metadata": {},
     "output_type": "execute_result"
    }
   ],
   "source": [
    "stack.fit(X_train_te,y_train)"
   ]
  },
  {
   "cell_type": "code",
   "execution_count": 182,
   "id": "cd0646de",
   "metadata": {},
   "outputs": [],
   "source": [
    "y_pred_stack=stack.predict(X_test_te)"
   ]
  },
  {
   "cell_type": "code",
   "execution_count": 183,
   "id": "e781145d",
   "metadata": {},
   "outputs": [
    {
     "data": {
      "text/plain": [
       "0.7559141229063141"
      ]
     },
     "execution_count": 183,
     "metadata": {},
     "output_type": "execute_result"
    }
   ],
   "source": [
    "f1score_stack=f1_score(y_test,y_pred_stack,average='micro')\n",
    "f1score_stack"
   ]
  },
  {
   "cell_type": "code",
   "execution_count": 119,
   "id": "cca9fdaa",
   "metadata": {},
   "outputs": [],
   "source": [
    "stack2 = StackingClassifier(classifiers=(lgbm,lgbm,lgbm),\n",
    "                            meta_classifier=lgbm,\n",
    "                            use_probas=True,average_probas=False)"
   ]
  },
  {
   "cell_type": "code",
   "execution_count": 204,
   "id": "634bf572",
   "metadata": {},
   "outputs": [
    {
     "name": "stdout",
     "output_type": "stream",
     "text": [
      "[LightGBM] [Warning] feature_fraction is set=1.0, colsample_bytree=1.0 will be ignored. Current value: feature_fraction=1.0\n",
      "[LightGBM] [Warning] bagging_fraction is set=0.7, subsample=1.0 will be ignored. Current value: bagging_fraction=0.7\n",
      "[LightGBM] [Warning] feature_fraction is set=1.0, colsample_bytree=1.0 will be ignored. Current value: feature_fraction=1.0\n",
      "[LightGBM] [Warning] bagging_fraction is set=0.7, subsample=1.0 will be ignored. Current value: bagging_fraction=0.7\n"
     ]
    },
    {
     "data": {
      "text/plain": [
       "StackingClassifier(classifiers=(LGBMClassifier(bagging_fraction=0.7,\n",
       "                                               feature_fraction=1.0,\n",
       "                                               feature_fraction_bynode=0.7,\n",
       "                                               max_bin=1000,\n",
       "                                               min_child_samples=150,\n",
       "                                               num_class=3, num_leaves=72,\n",
       "                                               objective='multiclass',\n",
       "                                               random_state=17, verbosity=-1),\n",
       "                                LGBMClassifier(bagging_fraction=0.7,\n",
       "                                               feature_fraction=1.0,\n",
       "                                               feature_fraction_bynode=0.7,\n",
       "                                               max_bin=1000,\n",
       "                                               min_child_samples=150...\n",
       "                                               feature_fraction_bynode=0.7,\n",
       "                                               max_bin=1000,\n",
       "                                               min_child_samples=150,\n",
       "                                               num_class=3, num_leaves=72,\n",
       "                                               objective='multiclass',\n",
       "                                               random_state=17, verbosity=-1)),\n",
       "                   meta_classifier=LGBMClassifier(bagging_fraction=0.7,\n",
       "                                                  feature_fraction=1.0,\n",
       "                                                  feature_fraction_bynode=0.7,\n",
       "                                                  max_bin=1000,\n",
       "                                                  min_child_samples=150,\n",
       "                                                  num_class=3, num_leaves=72,\n",
       "                                                  objective='multiclass',\n",
       "                                                  random_state=17,\n",
       "                                                  verbosity=-1),\n",
       "                   use_probas=True)"
      ]
     },
     "execution_count": 204,
     "metadata": {},
     "output_type": "execute_result"
    }
   ],
   "source": [
    "stack2.fit(X_train_te,y_train)"
   ]
  },
  {
   "cell_type": "code",
   "execution_count": 189,
   "id": "5563e64a",
   "metadata": {},
   "outputs": [],
   "source": [
    "y_pred_stack2=stack2.predict(X_test_te)"
   ]
  },
  {
   "cell_type": "code",
   "execution_count": 190,
   "id": "14f7aef5",
   "metadata": {},
   "outputs": [
    {
     "data": {
      "text/plain": [
       "0.7597513478252528"
      ]
     },
     "execution_count": 190,
     "metadata": {},
     "output_type": "execute_result"
    }
   ],
   "source": [
    "f1score_stack2=f1_score(y_test,y_pred_stack2,average='micro')\n",
    "f1score_stack2"
   ]
  },
  {
   "cell_type": "markdown",
   "id": "7e1167e6",
   "metadata": {},
   "source": [
    "# End of Phase 3"
   ]
  },
  {
   "cell_type": "markdown",
   "id": "f07bdc23",
   "metadata": {},
   "source": [
    "# Start of Phase 4 (Optuna, Scaling, PolyNomial, AutoFeat)"
   ]
  },
  {
   "cell_type": "code",
   "execution_count": 160,
   "id": "ea5e6cb2",
   "metadata": {},
   "outputs": [],
   "source": [
    "def objective_lgbm(trial,X_te_yj,y_train):\n",
    "    \n",
    "    hyper_params_lgbm = {\n",
    "        \"feature_fraction\": trial.suggest_float(\"feature_fraction\",0.5,1,step=0.1),\n",
    "        \"feature_fraction_bynode\": trial.suggest_float(\"feature_fraction_bynode\",0.5,1,step=0.1),\n",
    "        \"max_depth\": trial.suggest_int(\"max_depth\",200,500,step=50),\n",
    "        \"min_child_samples\": trial.suggest_int(\"min_child_samples\",150,250,step=20),\n",
    "        \"bagging_fraction\": trial.suggest_float(\"bagging_fraction\",0.5,1,step=0.1),\n",
    "        \"num_leaves\": trial.suggest_int(\"num_leaves\",2,102,step=10),\n",
    "        \"learning_rate\": trial.suggest_float(\"learning_rate\",0.1,1,step=0.1),\n",
    "        \"max_bin\": trial.suggest_int(\"max_bin\",1000,10000,step=1000),\n",
    "        \"objective\" : \"multiclass\",\n",
    "        \"num_class\":3,\n",
    "        \"max_depth\": -1,\n",
    "        \"verbosity\": -1,\n",
    "        \"random_state\": 17,  \n",
    "}\n",
    "    \n",
    "    LGBM = LGBMClassifier(**hyper_params_lgbm)\n",
    "    \n",
    "    cv_scores_lgbm = cross_val_score(LGBM,X_te_yj,y_train,cv=2,scoring=\"f1_micro\")\n",
    "    score = np.mean(cv_scores_lgbm)\n",
    "    \n",
    "    return score\n",
    "\n"
   ]
  },
  {
   "cell_type": "code",
   "execution_count": 161,
   "id": "f9206b58",
   "metadata": {},
   "outputs": [
    {
     "name": "stderr",
     "output_type": "stream",
     "text": [
      "\u001b[32m[I 2022-07-23 13:06:22,771]\u001b[0m A new study created in memory with name: no-name-3493a0cc-7c3b-4f2c-addb-a0074bac3fd5\u001b[0m\n"
     ]
    }
   ],
   "source": [
    "study = optuna.create_study(direction=\"maximize\")\n"
   ]
  },
  {
   "cell_type": "code",
   "execution_count": 163,
   "id": "17b65ad0",
   "metadata": {},
   "outputs": [
    {
     "name": "stdout",
     "output_type": "stream",
     "text": [
      "[LightGBM] [Warning] feature_fraction is set=1.0, colsample_bytree=1.0 will be ignored. Current value: feature_fraction=1.0\n",
      "[LightGBM] [Warning] bagging_fraction is set=0.8, subsample=1.0 will be ignored. Current value: bagging_fraction=0.8\n",
      "[LightGBM] [Warning] feature_fraction is set=1.0, colsample_bytree=1.0 will be ignored. Current value: feature_fraction=1.0\n",
      "[LightGBM] [Warning] bagging_fraction is set=0.8, subsample=1.0 will be ignored. Current value: bagging_fraction=0.8\n"
     ]
    },
    {
     "name": "stderr",
     "output_type": "stream",
     "text": [
      "\u001b[32m[I 2022-07-23 16:04:54,512]\u001b[0m Trial 444 finished with value: 0.7592910590943975 and parameters: {'feature_fraction': 1.0, 'feature_fraction_bynode': 0.8, 'max_depth': 200, 'min_child_samples': 150, 'bagging_fraction': 0.8, 'num_leaves': 72, 'learning_rate': 0.1, 'max_bin': 1000}. Best is trial 318 with value: 0.7597419416730622.\u001b[0m\n"
     ]
    },
    {
     "name": "stdout",
     "output_type": "stream",
     "text": [
      "[LightGBM] [Warning] feature_fraction is set=1.0, colsample_bytree=1.0 will be ignored. Current value: feature_fraction=1.0\n",
      "[LightGBM] [Warning] bagging_fraction is set=0.8, subsample=1.0 will be ignored. Current value: bagging_fraction=0.8\n",
      "[LightGBM] [Warning] feature_fraction is set=1.0, colsample_bytree=1.0 will be ignored. Current value: feature_fraction=1.0\n",
      "[LightGBM] [Warning] bagging_fraction is set=0.8, subsample=1.0 will be ignored. Current value: bagging_fraction=0.8\n"
     ]
    },
    {
     "name": "stderr",
     "output_type": "stream",
     "text": [
      "\u001b[32m[I 2022-07-23 16:05:35,526]\u001b[0m Trial 445 finished with value: 0.7597419416730622 and parameters: {'feature_fraction': 1.0, 'feature_fraction_bynode': 0.7, 'max_depth': 250, 'min_child_samples': 150, 'bagging_fraction': 0.8, 'num_leaves': 72, 'learning_rate': 0.1, 'max_bin': 1000}. Best is trial 318 with value: 0.7597419416730622.\u001b[0m\n"
     ]
    },
    {
     "name": "stdout",
     "output_type": "stream",
     "text": [
      "[LightGBM] [Warning] feature_fraction is set=1.0, colsample_bytree=1.0 will be ignored. Current value: feature_fraction=1.0\n",
      "[LightGBM] [Warning] bagging_fraction is set=0.8, subsample=1.0 will be ignored. Current value: bagging_fraction=0.8\n",
      "[LightGBM] [Warning] feature_fraction is set=1.0, colsample_bytree=1.0 will be ignored. Current value: feature_fraction=1.0\n",
      "[LightGBM] [Warning] bagging_fraction is set=0.8, subsample=1.0 will be ignored. Current value: bagging_fraction=0.8\n"
     ]
    },
    {
     "name": "stderr",
     "output_type": "stream",
     "text": [
      "\u001b[32m[I 2022-07-23 16:06:02,351]\u001b[0m Trial 446 finished with value: 0.7597419416730622 and parameters: {'feature_fraction': 1.0, 'feature_fraction_bynode': 0.7, 'max_depth': 200, 'min_child_samples': 150, 'bagging_fraction': 0.8, 'num_leaves': 72, 'learning_rate': 0.1, 'max_bin': 1000}. Best is trial 318 with value: 0.7597419416730622.\u001b[0m\n"
     ]
    },
    {
     "name": "stdout",
     "output_type": "stream",
     "text": [
      "[LightGBM] [Warning] feature_fraction is set=1.0, colsample_bytree=1.0 will be ignored. Current value: feature_fraction=1.0\n",
      "[LightGBM] [Warning] bagging_fraction is set=0.8, subsample=1.0 will be ignored. Current value: bagging_fraction=0.8\n",
      "[LightGBM] [Warning] feature_fraction is set=1.0, colsample_bytree=1.0 will be ignored. Current value: feature_fraction=1.0\n",
      "[LightGBM] [Warning] bagging_fraction is set=0.8, subsample=1.0 will be ignored. Current value: bagging_fraction=0.8\n"
     ]
    },
    {
     "name": "stderr",
     "output_type": "stream",
     "text": [
      "\u001b[32m[I 2022-07-23 16:06:25,008]\u001b[0m Trial 447 finished with value: 0.7597419416730622 and parameters: {'feature_fraction': 1.0, 'feature_fraction_bynode': 0.7, 'max_depth': 200, 'min_child_samples': 150, 'bagging_fraction': 0.8, 'num_leaves': 72, 'learning_rate': 0.1, 'max_bin': 1000}. Best is trial 318 with value: 0.7597419416730622.\u001b[0m\n"
     ]
    },
    {
     "name": "stdout",
     "output_type": "stream",
     "text": [
      "[LightGBM] [Warning] feature_fraction is set=1.0, colsample_bytree=1.0 will be ignored. Current value: feature_fraction=1.0\n",
      "[LightGBM] [Warning] bagging_fraction is set=0.8, subsample=1.0 will be ignored. Current value: bagging_fraction=0.8\n",
      "[LightGBM] [Warning] feature_fraction is set=1.0, colsample_bytree=1.0 will be ignored. Current value: feature_fraction=1.0\n",
      "[LightGBM] [Warning] bagging_fraction is set=0.8, subsample=1.0 will be ignored. Current value: bagging_fraction=0.8\n"
     ]
    },
    {
     "name": "stderr",
     "output_type": "stream",
     "text": [
      "\u001b[32m[I 2022-07-23 16:06:51,787]\u001b[0m Trial 448 finished with value: 0.758960092095165 and parameters: {'feature_fraction': 1.0, 'feature_fraction_bynode': 0.7, 'max_depth': 250, 'min_child_samples': 150, 'bagging_fraction': 0.8, 'num_leaves': 82, 'learning_rate': 0.1, 'max_bin': 1000}. Best is trial 318 with value: 0.7597419416730622.\u001b[0m\n"
     ]
    },
    {
     "name": "stdout",
     "output_type": "stream",
     "text": [
      "[LightGBM] [Warning] feature_fraction is set=1.0, colsample_bytree=1.0 will be ignored. Current value: feature_fraction=1.0\n",
      "[LightGBM] [Warning] bagging_fraction is set=0.8, subsample=1.0 will be ignored. Current value: bagging_fraction=0.8\n",
      "[LightGBM] [Warning] feature_fraction is set=1.0, colsample_bytree=1.0 will be ignored. Current value: feature_fraction=1.0\n",
      "[LightGBM] [Warning] bagging_fraction is set=0.8, subsample=1.0 will be ignored. Current value: bagging_fraction=0.8\n"
     ]
    },
    {
     "name": "stderr",
     "output_type": "stream",
     "text": [
      "\u001b[32m[I 2022-07-23 16:07:14,355]\u001b[0m Trial 449 finished with value: 0.7405506523407521 and parameters: {'feature_fraction': 1.0, 'feature_fraction_bynode': 0.7, 'max_depth': 200, 'min_child_samples': 150, 'bagging_fraction': 0.8, 'num_leaves': 72, 'learning_rate': 0.7000000000000001, 'max_bin': 1000}. Best is trial 318 with value: 0.7597419416730622.\u001b[0m\n"
     ]
    },
    {
     "name": "stdout",
     "output_type": "stream",
     "text": [
      "[LightGBM] [Warning] feature_fraction is set=1.0, colsample_bytree=1.0 will be ignored. Current value: feature_fraction=1.0\n",
      "[LightGBM] [Warning] bagging_fraction is set=0.8, subsample=1.0 will be ignored. Current value: bagging_fraction=0.8\n",
      "[LightGBM] [Warning] feature_fraction is set=1.0, colsample_bytree=1.0 will be ignored. Current value: feature_fraction=1.0\n",
      "[LightGBM] [Warning] bagging_fraction is set=0.8, subsample=1.0 will be ignored. Current value: bagging_fraction=0.8\n"
     ]
    },
    {
     "name": "stderr",
     "output_type": "stream",
     "text": [
      "\u001b[32m[I 2022-07-23 16:07:42,293]\u001b[0m Trial 450 finished with value: 0.7572812739831158 and parameters: {'feature_fraction': 1.0, 'feature_fraction_bynode': 0.7, 'max_depth': 250, 'min_child_samples': 150, 'bagging_fraction': 0.8, 'num_leaves': 72, 'learning_rate': 0.2, 'max_bin': 1000}. Best is trial 318 with value: 0.7597419416730622.\u001b[0m\n"
     ]
    },
    {
     "name": "stdout",
     "output_type": "stream",
     "text": [
      "[LightGBM] [Warning] feature_fraction is set=1.0, colsample_bytree=1.0 will be ignored. Current value: feature_fraction=1.0\n",
      "[LightGBM] [Warning] bagging_fraction is set=0.8, subsample=1.0 will be ignored. Current value: bagging_fraction=0.8\n",
      "[LightGBM] [Warning] feature_fraction is set=1.0, colsample_bytree=1.0 will be ignored. Current value: feature_fraction=1.0\n",
      "[LightGBM] [Warning] bagging_fraction is set=0.8, subsample=1.0 will be ignored. Current value: bagging_fraction=0.8\n"
     ]
    },
    {
     "name": "stderr",
     "output_type": "stream",
     "text": [
      "\u001b[32m[I 2022-07-23 16:08:06,228]\u001b[0m Trial 451 finished with value: 0.7580151573292402 and parameters: {'feature_fraction': 1.0, 'feature_fraction_bynode': 0.7, 'max_depth': 200, 'min_child_samples': 150, 'bagging_fraction': 0.8, 'num_leaves': 22, 'learning_rate': 0.1, 'max_bin': 1000}. Best is trial 318 with value: 0.7597419416730622.\u001b[0m\n"
     ]
    },
    {
     "name": "stdout",
     "output_type": "stream",
     "text": [
      "[LightGBM] [Warning] feature_fraction is set=1.0, colsample_bytree=1.0 will be ignored. Current value: feature_fraction=1.0\n",
      "[LightGBM] [Warning] bagging_fraction is set=0.8, subsample=1.0 will be ignored. Current value: bagging_fraction=0.8\n",
      "[LightGBM] [Warning] feature_fraction is set=1.0, colsample_bytree=1.0 will be ignored. Current value: feature_fraction=1.0\n",
      "[LightGBM] [Warning] bagging_fraction is set=0.8, subsample=1.0 will be ignored. Current value: bagging_fraction=0.8\n"
     ]
    },
    {
     "name": "stderr",
     "output_type": "stream",
     "text": [
      "\u001b[32m[I 2022-07-23 16:08:34,114]\u001b[0m Trial 452 finished with value: 0.7589984650805832 and parameters: {'feature_fraction': 1.0, 'feature_fraction_bynode': 0.7, 'max_depth': 200, 'min_child_samples': 150, 'bagging_fraction': 0.8, 'num_leaves': 62, 'learning_rate': 0.1, 'max_bin': 1000}. Best is trial 318 with value: 0.7597419416730622.\u001b[0m\n"
     ]
    },
    {
     "name": "stdout",
     "output_type": "stream",
     "text": [
      "[LightGBM] [Warning] feature_fraction is set=1.0, colsample_bytree=1.0 will be ignored. Current value: feature_fraction=1.0\n",
      "[LightGBM] [Warning] bagging_fraction is set=0.8, subsample=1.0 will be ignored. Current value: bagging_fraction=0.8\n",
      "[LightGBM] [Warning] feature_fraction is set=1.0, colsample_bytree=1.0 will be ignored. Current value: feature_fraction=1.0\n",
      "[LightGBM] [Warning] bagging_fraction is set=0.8, subsample=1.0 will be ignored. Current value: bagging_fraction=0.8\n"
     ]
    },
    {
     "name": "stderr",
     "output_type": "stream",
     "text": [
      "\u001b[32m[I 2022-07-23 16:09:02,063]\u001b[0m Trial 453 finished with value: 0.7590560245587106 and parameters: {'feature_fraction': 1.0, 'feature_fraction_bynode': 0.7, 'max_depth': 200, 'min_child_samples': 250, 'bagging_fraction': 0.8, 'num_leaves': 72, 'learning_rate': 0.1, 'max_bin': 2000}. Best is trial 318 with value: 0.7597419416730622.\u001b[0m\n"
     ]
    },
    {
     "name": "stdout",
     "output_type": "stream",
     "text": [
      "[LightGBM] [Warning] feature_fraction is set=1.0, colsample_bytree=1.0 will be ignored. Current value: feature_fraction=1.0\n",
      "[LightGBM] [Warning] bagging_fraction is set=0.8, subsample=1.0 will be ignored. Current value: bagging_fraction=0.8\n",
      "[LightGBM] [Warning] feature_fraction is set=1.0, colsample_bytree=1.0 will be ignored. Current value: feature_fraction=1.0\n",
      "[LightGBM] [Warning] bagging_fraction is set=0.8, subsample=1.0 will be ignored. Current value: bagging_fraction=0.8\n"
     ]
    },
    {
     "name": "stderr",
     "output_type": "stream",
     "text": [
      "\u001b[32m[I 2022-07-23 16:09:31,118]\u001b[0m Trial 454 finished with value: 0.7597419416730622 and parameters: {'feature_fraction': 1.0, 'feature_fraction_bynode': 0.7, 'max_depth': 250, 'min_child_samples': 150, 'bagging_fraction': 0.8, 'num_leaves': 72, 'learning_rate': 0.1, 'max_bin': 1000}. Best is trial 318 with value: 0.7597419416730622.\u001b[0m\n"
     ]
    },
    {
     "name": "stdout",
     "output_type": "stream",
     "text": [
      "[LightGBM] [Warning] feature_fraction is set=1.0, colsample_bytree=1.0 will be ignored. Current value: feature_fraction=1.0\n",
      "[LightGBM] [Warning] bagging_fraction is set=0.8, subsample=1.0 will be ignored. Current value: bagging_fraction=0.8\n",
      "[LightGBM] [Warning] feature_fraction is set=1.0, colsample_bytree=1.0 will be ignored. Current value: feature_fraction=1.0\n",
      "[LightGBM] [Warning] bagging_fraction is set=0.8, subsample=1.0 will be ignored. Current value: bagging_fraction=0.8\n"
     ]
    },
    {
     "name": "stderr",
     "output_type": "stream",
     "text": [
      "\u001b[32m[I 2022-07-23 16:09:57,460]\u001b[0m Trial 455 finished with value: 0.7597419416730622 and parameters: {'feature_fraction': 1.0, 'feature_fraction_bynode': 0.7, 'max_depth': 250, 'min_child_samples': 150, 'bagging_fraction': 0.8, 'num_leaves': 72, 'learning_rate': 0.1, 'max_bin': 1000}. Best is trial 318 with value: 0.7597419416730622.\u001b[0m\n"
     ]
    },
    {
     "name": "stdout",
     "output_type": "stream",
     "text": [
      "[LightGBM] [Warning] feature_fraction is set=1.0, colsample_bytree=1.0 will be ignored. Current value: feature_fraction=1.0\n",
      "[LightGBM] [Warning] bagging_fraction is set=0.8, subsample=1.0 will be ignored. Current value: bagging_fraction=0.8\n",
      "[LightGBM] [Warning] feature_fraction is set=1.0, colsample_bytree=1.0 will be ignored. Current value: feature_fraction=1.0\n",
      "[LightGBM] [Warning] bagging_fraction is set=0.8, subsample=1.0 will be ignored. Current value: bagging_fraction=0.8\n"
     ]
    },
    {
     "name": "stderr",
     "output_type": "stream",
     "text": [
      "\u001b[32m[I 2022-07-23 16:10:21,346]\u001b[0m Trial 456 finished with value: 0.7572812739831158 and parameters: {'feature_fraction': 1.0, 'feature_fraction_bynode': 0.7, 'max_depth': 250, 'min_child_samples': 150, 'bagging_fraction': 0.8, 'num_leaves': 72, 'learning_rate': 0.2, 'max_bin': 1000}. Best is trial 318 with value: 0.7597419416730622.\u001b[0m\n"
     ]
    },
    {
     "name": "stdout",
     "output_type": "stream",
     "text": [
      "[LightGBM] [Warning] feature_fraction is set=1.0, colsample_bytree=1.0 will be ignored. Current value: feature_fraction=1.0\n",
      "[LightGBM] [Warning] bagging_fraction is set=0.8, subsample=1.0 will be ignored. Current value: bagging_fraction=0.8\n",
      "[LightGBM] [Warning] feature_fraction is set=1.0, colsample_bytree=1.0 will be ignored. Current value: feature_fraction=1.0\n",
      "[LightGBM] [Warning] bagging_fraction is set=0.8, subsample=1.0 will be ignored. Current value: bagging_fraction=0.8\n"
     ]
    },
    {
     "name": "stderr",
     "output_type": "stream",
     "text": [
      "\u001b[32m[I 2022-07-23 16:10:53,209]\u001b[0m Trial 457 finished with value: 0.758960092095165 and parameters: {'feature_fraction': 1.0, 'feature_fraction_bynode': 0.7, 'max_depth': 250, 'min_child_samples': 150, 'bagging_fraction': 0.8, 'num_leaves': 82, 'learning_rate': 0.1, 'max_bin': 1000}. Best is trial 318 with value: 0.7597419416730622.\u001b[0m\n"
     ]
    },
    {
     "name": "stdout",
     "output_type": "stream",
     "text": [
      "[LightGBM] [Warning] feature_fraction is set=0.8, colsample_bytree=1.0 will be ignored. Current value: feature_fraction=0.8\n",
      "[LightGBM] [Warning] bagging_fraction is set=0.8, subsample=1.0 will be ignored. Current value: bagging_fraction=0.8\n",
      "[LightGBM] [Warning] feature_fraction is set=0.8, colsample_bytree=1.0 will be ignored. Current value: feature_fraction=0.8\n",
      "[LightGBM] [Warning] bagging_fraction is set=0.8, subsample=1.0 will be ignored. Current value: bagging_fraction=0.8\n"
     ]
    },
    {
     "name": "stderr",
     "output_type": "stream",
     "text": [
      "\u001b[32m[I 2022-07-23 16:11:36,603]\u001b[0m Trial 458 finished with value: 0.7589409056024559 and parameters: {'feature_fraction': 0.8, 'feature_fraction_bynode': 0.7, 'max_depth': 200, 'min_child_samples': 150, 'bagging_fraction': 0.8, 'num_leaves': 72, 'learning_rate': 0.1, 'max_bin': 2000}. Best is trial 318 with value: 0.7597419416730622.\u001b[0m\n"
     ]
    },
    {
     "name": "stdout",
     "output_type": "stream",
     "text": [
      "[LightGBM] [Warning] feature_fraction is set=0.7, colsample_bytree=1.0 will be ignored. Current value: feature_fraction=0.7\n",
      "[LightGBM] [Warning] bagging_fraction is set=0.8, subsample=1.0 will be ignored. Current value: bagging_fraction=0.8\n",
      "[LightGBM] [Warning] feature_fraction is set=0.7, colsample_bytree=1.0 will be ignored. Current value: feature_fraction=0.7\n",
      "[LightGBM] [Warning] bagging_fraction is set=0.8, subsample=1.0 will be ignored. Current value: bagging_fraction=0.8\n"
     ]
    },
    {
     "name": "stderr",
     "output_type": "stream",
     "text": [
      "\u001b[32m[I 2022-07-23 16:12:10,916]\u001b[0m Trial 459 finished with value: 0.7551659631619339 and parameters: {'feature_fraction': 0.7, 'feature_fraction_bynode': 0.7, 'max_depth': 200, 'min_child_samples': 150, 'bagging_fraction': 0.8, 'num_leaves': 72, 'learning_rate': 0.30000000000000004, 'max_bin': 1000}. Best is trial 318 with value: 0.7597419416730622.\u001b[0m\n"
     ]
    },
    {
     "name": "stdout",
     "output_type": "stream",
     "text": [
      "[LightGBM] [Warning] feature_fraction is set=1.0, colsample_bytree=1.0 will be ignored. Current value: feature_fraction=1.0\n",
      "[LightGBM] [Warning] bagging_fraction is set=0.8, subsample=1.0 will be ignored. Current value: bagging_fraction=0.8\n",
      "[LightGBM] [Warning] feature_fraction is set=1.0, colsample_bytree=1.0 will be ignored. Current value: feature_fraction=1.0\n",
      "[LightGBM] [Warning] bagging_fraction is set=0.8, subsample=1.0 will be ignored. Current value: bagging_fraction=0.8\n"
     ]
    },
    {
     "name": "stderr",
     "output_type": "stream",
     "text": [
      "\u001b[32m[I 2022-07-23 16:13:17,352]\u001b[0m Trial 460 finished with value: 0.7589984650805832 and parameters: {'feature_fraction': 1.0, 'feature_fraction_bynode': 0.7, 'max_depth': 250, 'min_child_samples': 150, 'bagging_fraction': 0.8, 'num_leaves': 62, 'learning_rate': 0.1, 'max_bin': 1000}. Best is trial 318 with value: 0.7597419416730622.\u001b[0m\n"
     ]
    },
    {
     "name": "stdout",
     "output_type": "stream",
     "text": [
      "[LightGBM] [Warning] feature_fraction is set=0.9, colsample_bytree=1.0 will be ignored. Current value: feature_fraction=0.9\n",
      "[LightGBM] [Warning] bagging_fraction is set=0.8, subsample=1.0 will be ignored. Current value: bagging_fraction=0.8\n",
      "[LightGBM] [Warning] feature_fraction is set=0.9, colsample_bytree=1.0 will be ignored. Current value: feature_fraction=0.9\n",
      "[LightGBM] [Warning] bagging_fraction is set=0.8, subsample=1.0 will be ignored. Current value: bagging_fraction=0.8\n"
     ]
    },
    {
     "name": "stderr",
     "output_type": "stream",
     "text": [
      "\u001b[32m[I 2022-07-23 16:13:56,060]\u001b[0m Trial 461 finished with value: 0.7591327705295472 and parameters: {'feature_fraction': 0.9, 'feature_fraction_bynode': 0.7, 'max_depth': 200, 'min_child_samples': 150, 'bagging_fraction': 0.8, 'num_leaves': 72, 'learning_rate': 0.1, 'max_bin': 1000}. Best is trial 318 with value: 0.7597419416730622.\u001b[0m\n"
     ]
    },
    {
     "name": "stdout",
     "output_type": "stream",
     "text": [
      "[LightGBM] [Warning] feature_fraction is set=1.0, colsample_bytree=1.0 will be ignored. Current value: feature_fraction=1.0\n",
      "[LightGBM] [Warning] bagging_fraction is set=0.8, subsample=1.0 will be ignored. Current value: bagging_fraction=0.8\n",
      "[LightGBM] [Warning] feature_fraction is set=1.0, colsample_bytree=1.0 will be ignored. Current value: feature_fraction=1.0\n",
      "[LightGBM] [Warning] bagging_fraction is set=0.8, subsample=1.0 will be ignored. Current value: bagging_fraction=0.8\n"
     ]
    },
    {
     "name": "stderr",
     "output_type": "stream",
     "text": [
      "\u001b[32m[I 2022-07-23 16:14:25,996]\u001b[0m Trial 462 finished with value: 0.7597419416730622 and parameters: {'feature_fraction': 1.0, 'feature_fraction_bynode': 0.7, 'max_depth': 200, 'min_child_samples': 150, 'bagging_fraction': 0.8, 'num_leaves': 72, 'learning_rate': 0.1, 'max_bin': 1000}. Best is trial 318 with value: 0.7597419416730622.\u001b[0m\n"
     ]
    },
    {
     "name": "stdout",
     "output_type": "stream",
     "text": [
      "[LightGBM] [Warning] feature_fraction is set=1.0, colsample_bytree=1.0 will be ignored. Current value: feature_fraction=1.0\n",
      "[LightGBM] [Warning] bagging_fraction is set=0.8, subsample=1.0 will be ignored. Current value: bagging_fraction=0.8\n",
      "[LightGBM] [Warning] feature_fraction is set=1.0, colsample_bytree=1.0 will be ignored. Current value: feature_fraction=1.0\n",
      "[LightGBM] [Warning] bagging_fraction is set=0.8, subsample=1.0 will be ignored. Current value: bagging_fraction=0.8\n"
     ]
    },
    {
     "name": "stderr",
     "output_type": "stream",
     "text": [
      "\u001b[32m[I 2022-07-23 16:14:50,359]\u001b[0m Trial 463 finished with value: 0.7518850729086723 and parameters: {'feature_fraction': 1.0, 'feature_fraction_bynode': 0.7, 'max_depth': 250, 'min_child_samples': 150, 'bagging_fraction': 0.8, 'num_leaves': 72, 'learning_rate': 0.4, 'max_bin': 1000}. Best is trial 318 with value: 0.7597419416730622.\u001b[0m\n"
     ]
    },
    {
     "name": "stdout",
     "output_type": "stream",
     "text": [
      "[LightGBM] [Warning] feature_fraction is set=1.0, colsample_bytree=1.0 will be ignored. Current value: feature_fraction=1.0\n",
      "[LightGBM] [Warning] bagging_fraction is set=0.8, subsample=1.0 will be ignored. Current value: bagging_fraction=0.8\n",
      "[LightGBM] [Warning] feature_fraction is set=1.0, colsample_bytree=1.0 will be ignored. Current value: feature_fraction=1.0\n",
      "[LightGBM] [Warning] bagging_fraction is set=0.8, subsample=1.0 will be ignored. Current value: bagging_fraction=0.8\n"
     ]
    },
    {
     "name": "stderr",
     "output_type": "stream",
     "text": [
      "\u001b[32m[I 2022-07-23 16:15:18,874]\u001b[0m Trial 464 finished with value: 0.7592478894858019 and parameters: {'feature_fraction': 1.0, 'feature_fraction_bynode': 0.7, 'max_depth': 250, 'min_child_samples': 150, 'bagging_fraction': 0.8, 'num_leaves': 72, 'learning_rate': 0.1, 'max_bin': 8000}. Best is trial 318 with value: 0.7597419416730622.\u001b[0m\n"
     ]
    },
    {
     "name": "stdout",
     "output_type": "stream",
     "text": [
      "[LightGBM] [Warning] feature_fraction is set=1.0, colsample_bytree=1.0 will be ignored. Current value: feature_fraction=1.0\n",
      "[LightGBM] [Warning] bagging_fraction is set=0.8, subsample=1.0 will be ignored. Current value: bagging_fraction=0.8\n",
      "[LightGBM] [Warning] feature_fraction is set=1.0, colsample_bytree=1.0 will be ignored. Current value: feature_fraction=1.0\n",
      "[LightGBM] [Warning] bagging_fraction is set=0.8, subsample=1.0 will be ignored. Current value: bagging_fraction=0.8\n"
     ]
    },
    {
     "name": "stderr",
     "output_type": "stream",
     "text": [
      "\u001b[32m[I 2022-07-23 16:15:55,054]\u001b[0m Trial 465 finished with value: 0.758960092095165 and parameters: {'feature_fraction': 1.0, 'feature_fraction_bynode': 0.7, 'max_depth': 200, 'min_child_samples': 150, 'bagging_fraction': 0.8, 'num_leaves': 82, 'learning_rate': 0.1, 'max_bin': 1000}. Best is trial 318 with value: 0.7597419416730622.\u001b[0m\n"
     ]
    },
    {
     "name": "stdout",
     "output_type": "stream",
     "text": [
      "[LightGBM] [Warning] feature_fraction is set=1.0, colsample_bytree=1.0 will be ignored. Current value: feature_fraction=1.0\n",
      "[LightGBM] [Warning] bagging_fraction is set=0.8, subsample=1.0 will be ignored. Current value: bagging_fraction=0.8\n",
      "[LightGBM] [Warning] feature_fraction is set=1.0, colsample_bytree=1.0 will be ignored. Current value: feature_fraction=1.0\n",
      "[LightGBM] [Warning] bagging_fraction is set=0.8, subsample=1.0 will be ignored. Current value: bagging_fraction=0.8\n"
     ]
    },
    {
     "name": "stderr",
     "output_type": "stream",
     "text": [
      "\u001b[32m[I 2022-07-23 16:16:27,375]\u001b[0m Trial 466 finished with value: 0.7597419416730622 and parameters: {'feature_fraction': 1.0, 'feature_fraction_bynode': 0.7, 'max_depth': 200, 'min_child_samples': 150, 'bagging_fraction': 0.8, 'num_leaves': 72, 'learning_rate': 0.1, 'max_bin': 1000}. Best is trial 318 with value: 0.7597419416730622.\u001b[0m\n"
     ]
    },
    {
     "name": "stdout",
     "output_type": "stream",
     "text": [
      "[LightGBM] [Warning] feature_fraction is set=1.0, colsample_bytree=1.0 will be ignored. Current value: feature_fraction=1.0\n",
      "[LightGBM] [Warning] bagging_fraction is set=0.8, subsample=1.0 will be ignored. Current value: bagging_fraction=0.8\n",
      "[LightGBM] [Warning] feature_fraction is set=1.0, colsample_bytree=1.0 will be ignored. Current value: feature_fraction=1.0\n",
      "[LightGBM] [Warning] bagging_fraction is set=0.8, subsample=1.0 will be ignored. Current value: bagging_fraction=0.8\n"
     ]
    },
    {
     "name": "stderr",
     "output_type": "stream",
     "text": [
      "\u001b[32m[I 2022-07-23 16:17:10,721]\u001b[0m Trial 467 finished with value: 0.7589984650805832 and parameters: {'feature_fraction': 1.0, 'feature_fraction_bynode': 0.7, 'max_depth': 250, 'min_child_samples': 150, 'bagging_fraction': 0.8, 'num_leaves': 62, 'learning_rate': 0.1, 'max_bin': 1000}. Best is trial 318 with value: 0.7597419416730622.\u001b[0m\n"
     ]
    },
    {
     "name": "stdout",
     "output_type": "stream",
     "text": [
      "[LightGBM] [Warning] feature_fraction is set=1.0, colsample_bytree=1.0 will be ignored. Current value: feature_fraction=1.0\n",
      "[LightGBM] [Warning] bagging_fraction is set=0.8, subsample=1.0 will be ignored. Current value: bagging_fraction=0.8\n",
      "[LightGBM] [Warning] feature_fraction is set=1.0, colsample_bytree=1.0 will be ignored. Current value: feature_fraction=1.0\n",
      "[LightGBM] [Warning] bagging_fraction is set=0.8, subsample=1.0 will be ignored. Current value: bagging_fraction=0.8\n"
     ]
    },
    {
     "name": "stderr",
     "output_type": "stream",
     "text": [
      "\u001b[32m[I 2022-07-23 16:17:44,412]\u001b[0m Trial 468 finished with value: 0.7592478894858019 and parameters: {'feature_fraction': 1.0, 'feature_fraction_bynode': 0.7, 'max_depth': 200, 'min_child_samples': 150, 'bagging_fraction': 0.8, 'num_leaves': 72, 'learning_rate': 0.1, 'max_bin': 2000}. Best is trial 318 with value: 0.7597419416730622.\u001b[0m\n"
     ]
    },
    {
     "name": "stdout",
     "output_type": "stream",
     "text": [
      "[LightGBM] [Warning] feature_fraction is set=1.0, colsample_bytree=1.0 will be ignored. Current value: feature_fraction=1.0\n",
      "[LightGBM] [Warning] bagging_fraction is set=0.8, subsample=1.0 will be ignored. Current value: bagging_fraction=0.8\n",
      "[LightGBM] [Warning] feature_fraction is set=1.0, colsample_bytree=1.0 will be ignored. Current value: feature_fraction=1.0\n",
      "[LightGBM] [Warning] bagging_fraction is set=0.8, subsample=1.0 will be ignored. Current value: bagging_fraction=0.8\n"
     ]
    },
    {
     "name": "stderr",
     "output_type": "stream",
     "text": [
      "\u001b[32m[I 2022-07-23 16:18:10,702]\u001b[0m Trial 469 finished with value: 0.7484794704528013 and parameters: {'feature_fraction': 1.0, 'feature_fraction_bynode': 0.7, 'max_depth': 200, 'min_child_samples': 150, 'bagging_fraction': 0.8, 'num_leaves': 72, 'learning_rate': 0.5, 'max_bin': 1000}. Best is trial 318 with value: 0.7597419416730622.\u001b[0m\n"
     ]
    },
    {
     "name": "stdout",
     "output_type": "stream",
     "text": [
      "[LightGBM] [Warning] feature_fraction is set=1.0, colsample_bytree=1.0 will be ignored. Current value: feature_fraction=1.0\n",
      "[LightGBM] [Warning] bagging_fraction is set=0.8, subsample=1.0 will be ignored. Current value: bagging_fraction=0.8\n",
      "[LightGBM] [Warning] feature_fraction is set=1.0, colsample_bytree=1.0 will be ignored. Current value: feature_fraction=1.0\n",
      "[LightGBM] [Warning] bagging_fraction is set=0.8, subsample=1.0 will be ignored. Current value: bagging_fraction=0.8\n"
     ]
    },
    {
     "name": "stderr",
     "output_type": "stream",
     "text": [
      "\u001b[32m[I 2022-07-23 16:18:37,347]\u001b[0m Trial 470 finished with value: 0.7592478894858019 and parameters: {'feature_fraction': 1.0, 'feature_fraction_bynode': 0.7, 'max_depth': 250, 'min_child_samples': 150, 'bagging_fraction': 0.8, 'num_leaves': 72, 'learning_rate': 0.1, 'max_bin': 7000}. Best is trial 318 with value: 0.7597419416730622.\u001b[0m\n"
     ]
    },
    {
     "name": "stdout",
     "output_type": "stream",
     "text": [
      "[LightGBM] [Warning] feature_fraction is set=1.0, colsample_bytree=1.0 will be ignored. Current value: feature_fraction=1.0\n",
      "[LightGBM] [Warning] bagging_fraction is set=0.8, subsample=1.0 will be ignored. Current value: bagging_fraction=0.8\n",
      "[LightGBM] [Warning] feature_fraction is set=1.0, colsample_bytree=1.0 will be ignored. Current value: feature_fraction=1.0\n",
      "[LightGBM] [Warning] bagging_fraction is set=0.8, subsample=1.0 will be ignored. Current value: bagging_fraction=0.8\n"
     ]
    },
    {
     "name": "stderr",
     "output_type": "stream",
     "text": [
      "\u001b[32m[I 2022-07-23 16:19:08,467]\u001b[0m Trial 471 finished with value: 0.7597419416730622 and parameters: {'feature_fraction': 1.0, 'feature_fraction_bynode': 0.7, 'max_depth': 400, 'min_child_samples': 150, 'bagging_fraction': 0.8, 'num_leaves': 72, 'learning_rate': 0.1, 'max_bin': 1000}. Best is trial 318 with value: 0.7597419416730622.\u001b[0m\n"
     ]
    },
    {
     "name": "stdout",
     "output_type": "stream",
     "text": [
      "[LightGBM] [Warning] feature_fraction is set=1.0, colsample_bytree=1.0 will be ignored. Current value: feature_fraction=1.0\n",
      "[LightGBM] [Warning] bagging_fraction is set=0.8, subsample=1.0 will be ignored. Current value: bagging_fraction=0.8\n",
      "[LightGBM] [Warning] feature_fraction is set=1.0, colsample_bytree=1.0 will be ignored. Current value: feature_fraction=1.0\n",
      "[LightGBM] [Warning] bagging_fraction is set=0.8, subsample=1.0 will be ignored. Current value: bagging_fraction=0.8\n"
     ]
    },
    {
     "name": "stderr",
     "output_type": "stream",
     "text": [
      "\u001b[32m[I 2022-07-23 16:19:38,134]\u001b[0m Trial 472 finished with value: 0.7597419416730622 and parameters: {'feature_fraction': 1.0, 'feature_fraction_bynode': 0.7, 'max_depth': 450, 'min_child_samples': 150, 'bagging_fraction': 0.8, 'num_leaves': 72, 'learning_rate': 0.1, 'max_bin': 1000}. Best is trial 318 with value: 0.7597419416730622.\u001b[0m\n"
     ]
    },
    {
     "name": "stdout",
     "output_type": "stream",
     "text": [
      "[LightGBM] [Warning] feature_fraction is set=1.0, colsample_bytree=1.0 will be ignored. Current value: feature_fraction=1.0\n",
      "[LightGBM] [Warning] bagging_fraction is set=0.8, subsample=1.0 will be ignored. Current value: bagging_fraction=0.8\n",
      "[LightGBM] [Warning] feature_fraction is set=1.0, colsample_bytree=1.0 will be ignored. Current value: feature_fraction=1.0\n",
      "[LightGBM] [Warning] bagging_fraction is set=0.8, subsample=1.0 will be ignored. Current value: bagging_fraction=0.8\n"
     ]
    },
    {
     "name": "stderr",
     "output_type": "stream",
     "text": [
      "\u001b[32m[I 2022-07-23 16:20:08,800]\u001b[0m Trial 473 finished with value: 0.7597419416730622 and parameters: {'feature_fraction': 1.0, 'feature_fraction_bynode': 0.7, 'max_depth': 450, 'min_child_samples': 150, 'bagging_fraction': 0.8, 'num_leaves': 72, 'learning_rate': 0.1, 'max_bin': 1000}. Best is trial 318 with value: 0.7597419416730622.\u001b[0m\n"
     ]
    },
    {
     "name": "stdout",
     "output_type": "stream",
     "text": [
      "[LightGBM] [Warning] feature_fraction is set=0.9, colsample_bytree=1.0 will be ignored. Current value: feature_fraction=0.9\n",
      "[LightGBM] [Warning] bagging_fraction is set=0.8, subsample=1.0 will be ignored. Current value: bagging_fraction=0.8\n",
      "[LightGBM] [Warning] feature_fraction is set=0.9, colsample_bytree=1.0 will be ignored. Current value: feature_fraction=0.9\n",
      "[LightGBM] [Warning] bagging_fraction is set=0.8, subsample=1.0 will be ignored. Current value: bagging_fraction=0.8\n"
     ]
    },
    {
     "name": "stderr",
     "output_type": "stream",
     "text": [
      "\u001b[32m[I 2022-07-23 16:20:39,033]\u001b[0m Trial 474 finished with value: 0.7591327705295472 and parameters: {'feature_fraction': 0.9, 'feature_fraction_bynode': 0.7, 'max_depth': 450, 'min_child_samples': 150, 'bagging_fraction': 0.8, 'num_leaves': 72, 'learning_rate': 0.1, 'max_bin': 1000}. Best is trial 318 with value: 0.7597419416730622.\u001b[0m\n"
     ]
    },
    {
     "name": "stdout",
     "output_type": "stream",
     "text": [
      "[LightGBM] [Warning] feature_fraction is set=1.0, colsample_bytree=1.0 will be ignored. Current value: feature_fraction=1.0\n",
      "[LightGBM] [Warning] bagging_fraction is set=0.8, subsample=1.0 will be ignored. Current value: bagging_fraction=0.8\n",
      "[LightGBM] [Warning] feature_fraction is set=1.0, colsample_bytree=1.0 will be ignored. Current value: feature_fraction=1.0\n",
      "[LightGBM] [Warning] bagging_fraction is set=0.8, subsample=1.0 will be ignored. Current value: bagging_fraction=0.8\n"
     ]
    },
    {
     "name": "stderr",
     "output_type": "stream",
     "text": [
      "\u001b[32m[I 2022-07-23 16:21:07,446]\u001b[0m Trial 475 finished with value: 0.7572812739831158 and parameters: {'feature_fraction': 1.0, 'feature_fraction_bynode': 0.7, 'max_depth': 450, 'min_child_samples': 150, 'bagging_fraction': 0.8, 'num_leaves': 72, 'learning_rate': 0.2, 'max_bin': 1000}. Best is trial 318 with value: 0.7597419416730622.\u001b[0m\n"
     ]
    },
    {
     "name": "stdout",
     "output_type": "stream",
     "text": [
      "[LightGBM] [Warning] feature_fraction is set=1.0, colsample_bytree=1.0 will be ignored. Current value: feature_fraction=1.0\n",
      "[LightGBM] [Warning] bagging_fraction is set=0.8, subsample=1.0 will be ignored. Current value: bagging_fraction=0.8\n",
      "[LightGBM] [Warning] feature_fraction is set=1.0, colsample_bytree=1.0 will be ignored. Current value: feature_fraction=1.0\n",
      "[LightGBM] [Warning] bagging_fraction is set=0.8, subsample=1.0 will be ignored. Current value: bagging_fraction=0.8\n"
     ]
    },
    {
     "name": "stderr",
     "output_type": "stream",
     "text": [
      "\u001b[32m[I 2022-07-23 16:21:37,357]\u001b[0m Trial 476 finished with value: 0.758960092095165 and parameters: {'feature_fraction': 1.0, 'feature_fraction_bynode': 0.7, 'max_depth': 200, 'min_child_samples': 150, 'bagging_fraction': 0.8, 'num_leaves': 82, 'learning_rate': 0.1, 'max_bin': 1000}. Best is trial 318 with value: 0.7597419416730622.\u001b[0m\n"
     ]
    },
    {
     "name": "stdout",
     "output_type": "stream",
     "text": [
      "[LightGBM] [Warning] feature_fraction is set=1.0, colsample_bytree=1.0 will be ignored. Current value: feature_fraction=1.0\n",
      "[LightGBM] [Warning] bagging_fraction is set=0.8, subsample=1.0 will be ignored. Current value: bagging_fraction=0.8\n",
      "[LightGBM] [Warning] feature_fraction is set=1.0, colsample_bytree=1.0 will be ignored. Current value: feature_fraction=1.0\n",
      "[LightGBM] [Warning] bagging_fraction is set=0.8, subsample=1.0 will be ignored. Current value: bagging_fraction=0.8\n"
     ]
    },
    {
     "name": "stderr",
     "output_type": "stream",
     "text": [
      "\u001b[32m[I 2022-07-23 16:22:10,684]\u001b[0m Trial 477 finished with value: 0.7597419416730622 and parameters: {'feature_fraction': 1.0, 'feature_fraction_bynode': 0.7, 'max_depth': 250, 'min_child_samples': 150, 'bagging_fraction': 0.8, 'num_leaves': 72, 'learning_rate': 0.1, 'max_bin': 1000}. Best is trial 318 with value: 0.7597419416730622.\u001b[0m\n"
     ]
    },
    {
     "name": "stdout",
     "output_type": "stream",
     "text": [
      "[LightGBM] [Warning] feature_fraction is set=1.0, colsample_bytree=1.0 will be ignored. Current value: feature_fraction=1.0\n",
      "[LightGBM] [Warning] bagging_fraction is set=0.8, subsample=1.0 will be ignored. Current value: bagging_fraction=0.8\n",
      "[LightGBM] [Warning] feature_fraction is set=1.0, colsample_bytree=1.0 will be ignored. Current value: feature_fraction=1.0\n",
      "[LightGBM] [Warning] bagging_fraction is set=0.8, subsample=1.0 will be ignored. Current value: bagging_fraction=0.8\n"
     ]
    },
    {
     "name": "stderr",
     "output_type": "stream",
     "text": [
      "\u001b[32m[I 2022-07-23 16:22:39,346]\u001b[0m Trial 478 finished with value: 0.7590032617037605 and parameters: {'feature_fraction': 1.0, 'feature_fraction_bynode': 0.8, 'max_depth': 250, 'min_child_samples': 150, 'bagging_fraction': 0.8, 'num_leaves': 72, 'learning_rate': 0.1, 'max_bin': 2000}. Best is trial 318 with value: 0.7597419416730622.\u001b[0m\n"
     ]
    },
    {
     "name": "stdout",
     "output_type": "stream",
     "text": [
      "[LightGBM] [Warning] feature_fraction is set=1.0, colsample_bytree=1.0 will be ignored. Current value: feature_fraction=1.0\n",
      "[LightGBM] [Warning] bagging_fraction is set=0.8, subsample=1.0 will be ignored. Current value: bagging_fraction=0.8\n",
      "[LightGBM] [Warning] feature_fraction is set=1.0, colsample_bytree=1.0 will be ignored. Current value: feature_fraction=1.0\n",
      "[LightGBM] [Warning] bagging_fraction is set=0.8, subsample=1.0 will be ignored. Current value: bagging_fraction=0.8\n"
     ]
    },
    {
     "name": "stderr",
     "output_type": "stream",
     "text": [
      "\u001b[32m[I 2022-07-23 16:23:12,399]\u001b[0m Trial 479 finished with value: 0.7589984650805832 and parameters: {'feature_fraction': 1.0, 'feature_fraction_bynode': 0.7, 'max_depth': 250, 'min_child_samples': 150, 'bagging_fraction': 0.8, 'num_leaves': 62, 'learning_rate': 0.1, 'max_bin': 1000}. Best is trial 318 with value: 0.7597419416730622.\u001b[0m\n"
     ]
    },
    {
     "name": "stdout",
     "output_type": "stream",
     "text": [
      "[LightGBM] [Warning] feature_fraction is set=1.0, colsample_bytree=1.0 will be ignored. Current value: feature_fraction=1.0\n",
      "[LightGBM] [Warning] bagging_fraction is set=0.8, subsample=1.0 will be ignored. Current value: bagging_fraction=0.8\n",
      "[LightGBM] [Warning] feature_fraction is set=1.0, colsample_bytree=1.0 will be ignored. Current value: feature_fraction=1.0\n",
      "[LightGBM] [Warning] bagging_fraction is set=0.8, subsample=1.0 will be ignored. Current value: bagging_fraction=0.8\n"
     ]
    },
    {
     "name": "stderr",
     "output_type": "stream",
     "text": [
      "\u001b[32m[I 2022-07-23 16:23:43,523]\u001b[0m Trial 480 finished with value: 0.7597419416730622 and parameters: {'feature_fraction': 1.0, 'feature_fraction_bynode': 0.7, 'max_depth': 200, 'min_child_samples': 150, 'bagging_fraction': 0.8, 'num_leaves': 72, 'learning_rate': 0.1, 'max_bin': 1000}. Best is trial 318 with value: 0.7597419416730622.\u001b[0m\n"
     ]
    },
    {
     "name": "stdout",
     "output_type": "stream",
     "text": [
      "[LightGBM] [Warning] feature_fraction is set=1.0, colsample_bytree=1.0 will be ignored. Current value: feature_fraction=1.0\n",
      "[LightGBM] [Warning] bagging_fraction is set=0.8, subsample=1.0 will be ignored. Current value: bagging_fraction=0.8\n",
      "[LightGBM] [Warning] feature_fraction is set=1.0, colsample_bytree=1.0 will be ignored. Current value: feature_fraction=1.0\n",
      "[LightGBM] [Warning] bagging_fraction is set=0.8, subsample=1.0 will be ignored. Current value: bagging_fraction=0.8\n"
     ]
    },
    {
     "name": "stderr",
     "output_type": "stream",
     "text": [
      "\u001b[32m[I 2022-07-23 16:24:12,524]\u001b[0m Trial 481 finished with value: 0.7572812739831158 and parameters: {'feature_fraction': 1.0, 'feature_fraction_bynode': 0.7, 'max_depth': 200, 'min_child_samples': 150, 'bagging_fraction': 0.8, 'num_leaves': 72, 'learning_rate': 0.2, 'max_bin': 1000}. Best is trial 318 with value: 0.7597419416730622.\u001b[0m\n"
     ]
    },
    {
     "name": "stdout",
     "output_type": "stream",
     "text": [
      "[LightGBM] [Warning] feature_fraction is set=1.0, colsample_bytree=1.0 will be ignored. Current value: feature_fraction=1.0\n",
      "[LightGBM] [Warning] bagging_fraction is set=0.8, subsample=1.0 will be ignored. Current value: bagging_fraction=0.8\n",
      "[LightGBM] [Warning] feature_fraction is set=1.0, colsample_bytree=1.0 will be ignored. Current value: feature_fraction=1.0\n",
      "[LightGBM] [Warning] bagging_fraction is set=0.8, subsample=1.0 will be ignored. Current value: bagging_fraction=0.8\n"
     ]
    },
    {
     "name": "stderr",
     "output_type": "stream",
     "text": [
      "\u001b[32m[I 2022-07-23 16:24:41,507]\u001b[0m Trial 482 finished with value: 0.7597419416730622 and parameters: {'feature_fraction': 1.0, 'feature_fraction_bynode': 0.7, 'max_depth': 250, 'min_child_samples': 150, 'bagging_fraction': 0.8, 'num_leaves': 72, 'learning_rate': 0.1, 'max_bin': 1000}. Best is trial 318 with value: 0.7597419416730622.\u001b[0m\n"
     ]
    },
    {
     "name": "stdout",
     "output_type": "stream",
     "text": [
      "[LightGBM] [Warning] feature_fraction is set=1.0, colsample_bytree=1.0 will be ignored. Current value: feature_fraction=1.0\n",
      "[LightGBM] [Warning] bagging_fraction is set=0.8, subsample=1.0 will be ignored. Current value: bagging_fraction=0.8\n",
      "[LightGBM] [Warning] feature_fraction is set=1.0, colsample_bytree=1.0 will be ignored. Current value: feature_fraction=1.0\n",
      "[LightGBM] [Warning] bagging_fraction is set=0.8, subsample=1.0 will be ignored. Current value: bagging_fraction=0.8\n"
     ]
    },
    {
     "name": "stderr",
     "output_type": "stream",
     "text": [
      "\u001b[32m[I 2022-07-23 16:25:10,689]\u001b[0m Trial 483 finished with value: 0.7588737528779739 and parameters: {'feature_fraction': 1.0, 'feature_fraction_bynode': 0.7, 'max_depth': 250, 'min_child_samples': 150, 'bagging_fraction': 0.8, 'num_leaves': 82, 'learning_rate': 0.1, 'max_bin': 6000}. Best is trial 318 with value: 0.7597419416730622.\u001b[0m\n"
     ]
    },
    {
     "name": "stdout",
     "output_type": "stream",
     "text": [
      "[LightGBM] [Warning] feature_fraction is set=1.0, colsample_bytree=1.0 will be ignored. Current value: feature_fraction=1.0\n",
      "[LightGBM] [Warning] bagging_fraction is set=0.8, subsample=1.0 will be ignored. Current value: bagging_fraction=0.8\n",
      "[LightGBM] [Warning] feature_fraction is set=1.0, colsample_bytree=1.0 will be ignored. Current value: feature_fraction=1.0\n",
      "[LightGBM] [Warning] bagging_fraction is set=0.8, subsample=1.0 will be ignored. Current value: bagging_fraction=0.8\n"
     ]
    },
    {
     "name": "stderr",
     "output_type": "stream",
     "text": [
      "\u001b[32m[I 2022-07-23 16:25:47,547]\u001b[0m Trial 484 finished with value: 0.7597419416730622 and parameters: {'feature_fraction': 1.0, 'feature_fraction_bynode': 0.7, 'max_depth': 200, 'min_child_samples': 150, 'bagging_fraction': 0.8, 'num_leaves': 72, 'learning_rate': 0.1, 'max_bin': 1000}. Best is trial 318 with value: 0.7597419416730622.\u001b[0m\n"
     ]
    },
    {
     "name": "stdout",
     "output_type": "stream",
     "text": [
      "[LightGBM] [Warning] feature_fraction is set=1.0, colsample_bytree=1.0 will be ignored. Current value: feature_fraction=1.0\n",
      "[LightGBM] [Warning] bagging_fraction is set=0.8, subsample=1.0 will be ignored. Current value: bagging_fraction=0.8\n",
      "[LightGBM] [Warning] feature_fraction is set=1.0, colsample_bytree=1.0 will be ignored. Current value: feature_fraction=1.0\n",
      "[LightGBM] [Warning] bagging_fraction is set=0.8, subsample=1.0 will be ignored. Current value: bagging_fraction=0.8\n"
     ]
    },
    {
     "name": "stderr",
     "output_type": "stream",
     "text": [
      "\u001b[32m[I 2022-07-23 16:26:28,266]\u001b[0m Trial 485 finished with value: 0.7597419416730622 and parameters: {'feature_fraction': 1.0, 'feature_fraction_bynode': 0.7, 'max_depth': 250, 'min_child_samples': 150, 'bagging_fraction': 0.8, 'num_leaves': 72, 'learning_rate': 0.1, 'max_bin': 1000}. Best is trial 318 with value: 0.7597419416730622.\u001b[0m\n"
     ]
    },
    {
     "name": "stdout",
     "output_type": "stream",
     "text": [
      "[LightGBM] [Warning] feature_fraction is set=1.0, colsample_bytree=1.0 will be ignored. Current value: feature_fraction=1.0\n",
      "[LightGBM] [Warning] bagging_fraction is set=0.8, subsample=1.0 will be ignored. Current value: bagging_fraction=0.8\n",
      "[LightGBM] [Warning] feature_fraction is set=1.0, colsample_bytree=1.0 will be ignored. Current value: feature_fraction=1.0\n",
      "[LightGBM] [Warning] bagging_fraction is set=0.8, subsample=1.0 will be ignored. Current value: bagging_fraction=0.8\n"
     ]
    },
    {
     "name": "stderr",
     "output_type": "stream",
     "text": [
      "\u001b[32m[I 2022-07-23 16:26:56,867]\u001b[0m Trial 486 finished with value: 0.7587442440521872 and parameters: {'feature_fraction': 1.0, 'feature_fraction_bynode': 0.7, 'max_depth': 200, 'min_child_samples': 150, 'bagging_fraction': 0.8, 'num_leaves': 92, 'learning_rate': 0.1, 'max_bin': 1000}. Best is trial 318 with value: 0.7597419416730622.\u001b[0m\n"
     ]
    },
    {
     "name": "stdout",
     "output_type": "stream",
     "text": [
      "[LightGBM] [Warning] feature_fraction is set=1.0, colsample_bytree=1.0 will be ignored. Current value: feature_fraction=1.0\n",
      "[LightGBM] [Warning] bagging_fraction is set=0.8, subsample=1.0 will be ignored. Current value: bagging_fraction=0.8\n",
      "[LightGBM] [Warning] feature_fraction is set=1.0, colsample_bytree=1.0 will be ignored. Current value: feature_fraction=1.0\n",
      "[LightGBM] [Warning] bagging_fraction is set=0.8, subsample=1.0 will be ignored. Current value: bagging_fraction=0.8\n"
     ]
    },
    {
     "name": "stderr",
     "output_type": "stream",
     "text": [
      "\u001b[32m[I 2022-07-23 16:27:18,294]\u001b[0m Trial 487 finished with value: 0.7597419416730622 and parameters: {'feature_fraction': 1.0, 'feature_fraction_bynode': 0.7, 'max_depth': 200, 'min_child_samples': 150, 'bagging_fraction': 0.8, 'num_leaves': 72, 'learning_rate': 0.1, 'max_bin': 1000}. Best is trial 318 with value: 0.7597419416730622.\u001b[0m\n"
     ]
    },
    {
     "name": "stdout",
     "output_type": "stream",
     "text": [
      "[LightGBM] [Warning] feature_fraction is set=1.0, colsample_bytree=1.0 will be ignored. Current value: feature_fraction=1.0\n",
      "[LightGBM] [Warning] bagging_fraction is set=0.8, subsample=1.0 will be ignored. Current value: bagging_fraction=0.8\n",
      "[LightGBM] [Warning] feature_fraction is set=1.0, colsample_bytree=1.0 will be ignored. Current value: feature_fraction=1.0\n",
      "[LightGBM] [Warning] bagging_fraction is set=0.8, subsample=1.0 will be ignored. Current value: bagging_fraction=0.8\n"
     ]
    },
    {
     "name": "stderr",
     "output_type": "stream",
     "text": [
      "\u001b[32m[I 2022-07-23 16:27:39,191]\u001b[0m Trial 488 finished with value: 0.7589984650805832 and parameters: {'feature_fraction': 1.0, 'feature_fraction_bynode': 0.7, 'max_depth': 250, 'min_child_samples': 150, 'bagging_fraction': 0.8, 'num_leaves': 62, 'learning_rate': 0.1, 'max_bin': 1000}. Best is trial 318 with value: 0.7597419416730622.\u001b[0m\n"
     ]
    },
    {
     "name": "stdout",
     "output_type": "stream",
     "text": [
      "[LightGBM] [Warning] feature_fraction is set=1.0, colsample_bytree=1.0 will be ignored. Current value: feature_fraction=1.0\n",
      "[LightGBM] [Warning] bagging_fraction is set=0.8, subsample=1.0 will be ignored. Current value: bagging_fraction=0.8\n",
      "[LightGBM] [Warning] feature_fraction is set=1.0, colsample_bytree=1.0 will be ignored. Current value: feature_fraction=1.0\n",
      "[LightGBM] [Warning] bagging_fraction is set=0.8, subsample=1.0 will be ignored. Current value: bagging_fraction=0.8\n"
     ]
    },
    {
     "name": "stderr",
     "output_type": "stream",
     "text": [
      "\u001b[32m[I 2022-07-23 16:28:00,350]\u001b[0m Trial 489 finished with value: 0.7597419416730622 and parameters: {'feature_fraction': 1.0, 'feature_fraction_bynode': 0.7, 'max_depth': 200, 'min_child_samples': 150, 'bagging_fraction': 0.8, 'num_leaves': 72, 'learning_rate': 0.1, 'max_bin': 1000}. Best is trial 318 with value: 0.7597419416730622.\u001b[0m\n"
     ]
    },
    {
     "name": "stdout",
     "output_type": "stream",
     "text": [
      "[LightGBM] [Warning] feature_fraction is set=1.0, colsample_bytree=1.0 will be ignored. Current value: feature_fraction=1.0\n",
      "[LightGBM] [Warning] bagging_fraction is set=0.8, subsample=1.0 will be ignored. Current value: bagging_fraction=0.8\n",
      "[LightGBM] [Warning] feature_fraction is set=1.0, colsample_bytree=1.0 will be ignored. Current value: feature_fraction=1.0\n",
      "[LightGBM] [Warning] bagging_fraction is set=0.8, subsample=1.0 will be ignored. Current value: bagging_fraction=0.8\n"
     ]
    },
    {
     "name": "stderr",
     "output_type": "stream",
     "text": [
      "\u001b[32m[I 2022-07-23 16:28:22,490]\u001b[0m Trial 490 finished with value: 0.7592478894858019 and parameters: {'feature_fraction': 1.0, 'feature_fraction_bynode': 0.7, 'max_depth': 200, 'min_child_samples': 150, 'bagging_fraction': 0.8, 'num_leaves': 72, 'learning_rate': 0.1, 'max_bin': 2000}. Best is trial 318 with value: 0.7597419416730622.\u001b[0m\n"
     ]
    },
    {
     "name": "stdout",
     "output_type": "stream",
     "text": [
      "[LightGBM] [Warning] feature_fraction is set=1.0, colsample_bytree=1.0 will be ignored. Current value: feature_fraction=1.0\n",
      "[LightGBM] [Warning] bagging_fraction is set=0.8, subsample=1.0 will be ignored. Current value: bagging_fraction=0.8\n",
      "[LightGBM] [Warning] feature_fraction is set=1.0, colsample_bytree=1.0 will be ignored. Current value: feature_fraction=1.0\n",
      "[LightGBM] [Warning] bagging_fraction is set=0.8, subsample=1.0 will be ignored. Current value: bagging_fraction=0.8\n"
     ]
    },
    {
     "name": "stderr",
     "output_type": "stream",
     "text": [
      "\u001b[32m[I 2022-07-23 16:28:55,001]\u001b[0m Trial 491 finished with value: 0.758960092095165 and parameters: {'feature_fraction': 1.0, 'feature_fraction_bynode': 0.7, 'max_depth': 200, 'min_child_samples': 150, 'bagging_fraction': 0.8, 'num_leaves': 82, 'learning_rate': 0.1, 'max_bin': 1000}. Best is trial 318 with value: 0.7597419416730622.\u001b[0m\n"
     ]
    },
    {
     "name": "stdout",
     "output_type": "stream",
     "text": [
      "[LightGBM] [Warning] feature_fraction is set=1.0, colsample_bytree=1.0 will be ignored. Current value: feature_fraction=1.0\n",
      "[LightGBM] [Warning] bagging_fraction is set=0.8, subsample=1.0 will be ignored. Current value: bagging_fraction=0.8\n",
      "[LightGBM] [Warning] feature_fraction is set=1.0, colsample_bytree=1.0 will be ignored. Current value: feature_fraction=1.0\n",
      "[LightGBM] [Warning] bagging_fraction is set=0.8, subsample=1.0 will be ignored. Current value: bagging_fraction=0.8\n"
     ]
    },
    {
     "name": "stderr",
     "output_type": "stream",
     "text": [
      "\u001b[32m[I 2022-07-23 16:29:18,852]\u001b[0m Trial 492 finished with value: 0.7572812739831158 and parameters: {'feature_fraction': 1.0, 'feature_fraction_bynode': 0.7, 'max_depth': 200, 'min_child_samples': 150, 'bagging_fraction': 0.8, 'num_leaves': 72, 'learning_rate': 0.2, 'max_bin': 1000}. Best is trial 318 with value: 0.7597419416730622.\u001b[0m\n"
     ]
    },
    {
     "name": "stdout",
     "output_type": "stream",
     "text": [
      "[LightGBM] [Warning] feature_fraction is set=1.0, colsample_bytree=1.0 will be ignored. Current value: feature_fraction=1.0\n",
      "[LightGBM] [Warning] bagging_fraction is set=0.8, subsample=1.0 will be ignored. Current value: bagging_fraction=0.8\n",
      "[LightGBM] [Warning] feature_fraction is set=1.0, colsample_bytree=1.0 will be ignored. Current value: feature_fraction=1.0\n",
      "[LightGBM] [Warning] bagging_fraction is set=0.8, subsample=1.0 will be ignored. Current value: bagging_fraction=0.8\n"
     ]
    },
    {
     "name": "stderr",
     "output_type": "stream",
     "text": [
      "\u001b[32m[I 2022-07-23 16:29:40,155]\u001b[0m Trial 493 finished with value: 0.7590752110514198 and parameters: {'feature_fraction': 1.0, 'feature_fraction_bynode': 0.6, 'max_depth': 200, 'min_child_samples': 150, 'bagging_fraction': 0.8, 'num_leaves': 72, 'learning_rate': 0.1, 'max_bin': 1000}. Best is trial 318 with value: 0.7597419416730622.\u001b[0m\n"
     ]
    },
    {
     "name": "stdout",
     "output_type": "stream",
     "text": [
      "[LightGBM] [Warning] feature_fraction is set=1.0, colsample_bytree=1.0 will be ignored. Current value: feature_fraction=1.0\n",
      "[LightGBM] [Warning] bagging_fraction is set=0.8, subsample=1.0 will be ignored. Current value: bagging_fraction=0.8\n",
      "[LightGBM] [Warning] feature_fraction is set=1.0, colsample_bytree=1.0 will be ignored. Current value: feature_fraction=1.0\n",
      "[LightGBM] [Warning] bagging_fraction is set=0.8, subsample=1.0 will be ignored. Current value: bagging_fraction=0.8\n"
     ]
    },
    {
     "name": "stderr",
     "output_type": "stream",
     "text": [
      "\u001b[32m[I 2022-07-23 16:30:01,375]\u001b[0m Trial 494 finished with value: 0.7597419416730622 and parameters: {'feature_fraction': 1.0, 'feature_fraction_bynode': 0.7, 'max_depth': 200, 'min_child_samples': 150, 'bagging_fraction': 0.8, 'num_leaves': 72, 'learning_rate': 0.1, 'max_bin': 1000}. Best is trial 318 with value: 0.7597419416730622.\u001b[0m\n"
     ]
    },
    {
     "name": "stdout",
     "output_type": "stream",
     "text": [
      "[LightGBM] [Warning] feature_fraction is set=0.6, colsample_bytree=1.0 will be ignored. Current value: feature_fraction=0.6\n",
      "[LightGBM] [Warning] bagging_fraction is set=0.8, subsample=1.0 will be ignored. Current value: bagging_fraction=0.8\n",
      "[LightGBM] [Warning] feature_fraction is set=0.6, colsample_bytree=1.0 will be ignored. Current value: feature_fraction=0.6\n",
      "[LightGBM] [Warning] bagging_fraction is set=0.8, subsample=1.0 will be ignored. Current value: bagging_fraction=0.8\n"
     ]
    },
    {
     "name": "stderr",
     "output_type": "stream",
     "text": [
      "\u001b[32m[I 2022-07-23 16:30:25,650]\u001b[0m Trial 495 finished with value: 0.7585235993860322 and parameters: {'feature_fraction': 0.6, 'feature_fraction_bynode': 0.7, 'max_depth': 200, 'min_child_samples': 150, 'bagging_fraction': 0.8, 'num_leaves': 72, 'learning_rate': 0.1, 'max_bin': 1000}. Best is trial 318 with value: 0.7597419416730622.\u001b[0m\n"
     ]
    },
    {
     "name": "stdout",
     "output_type": "stream",
     "text": [
      "[LightGBM] [Warning] feature_fraction is set=1.0, colsample_bytree=1.0 will be ignored. Current value: feature_fraction=1.0\n",
      "[LightGBM] [Warning] bagging_fraction is set=0.8, subsample=1.0 will be ignored. Current value: bagging_fraction=0.8\n",
      "[LightGBM] [Warning] feature_fraction is set=1.0, colsample_bytree=1.0 will be ignored. Current value: feature_fraction=1.0\n",
      "[LightGBM] [Warning] bagging_fraction is set=0.8, subsample=1.0 will be ignored. Current value: bagging_fraction=0.8\n"
     ]
    },
    {
     "name": "stderr",
     "output_type": "stream",
     "text": [
      "\u001b[32m[I 2022-07-23 16:30:53,270]\u001b[0m Trial 496 finished with value: 0.7597419416730622 and parameters: {'feature_fraction': 1.0, 'feature_fraction_bynode': 0.7, 'max_depth': 200, 'min_child_samples': 150, 'bagging_fraction': 0.8, 'num_leaves': 72, 'learning_rate': 0.1, 'max_bin': 1000}. Best is trial 318 with value: 0.7597419416730622.\u001b[0m\n"
     ]
    },
    {
     "name": "stdout",
     "output_type": "stream",
     "text": [
      "[LightGBM] [Warning] feature_fraction is set=1.0, colsample_bytree=1.0 will be ignored. Current value: feature_fraction=1.0\n",
      "[LightGBM] [Warning] bagging_fraction is set=0.8, subsample=1.0 will be ignored. Current value: bagging_fraction=0.8\n",
      "[LightGBM] [Warning] feature_fraction is set=1.0, colsample_bytree=1.0 will be ignored. Current value: feature_fraction=1.0\n",
      "[LightGBM] [Warning] bagging_fraction is set=0.8, subsample=1.0 will be ignored. Current value: bagging_fraction=0.8\n"
     ]
    },
    {
     "name": "stderr",
     "output_type": "stream",
     "text": [
      "\u001b[32m[I 2022-07-23 16:31:13,707]\u001b[0m Trial 497 finished with value: 0.7597419416730622 and parameters: {'feature_fraction': 1.0, 'feature_fraction_bynode': 0.7, 'max_depth': 200, 'min_child_samples': 150, 'bagging_fraction': 0.8, 'num_leaves': 72, 'learning_rate': 0.1, 'max_bin': 1000}. Best is trial 318 with value: 0.7597419416730622.\u001b[0m\n"
     ]
    },
    {
     "name": "stdout",
     "output_type": "stream",
     "text": [
      "[LightGBM] [Warning] feature_fraction is set=1.0, colsample_bytree=1.0 will be ignored. Current value: feature_fraction=1.0\n",
      "[LightGBM] [Warning] bagging_fraction is set=0.8, subsample=1.0 will be ignored. Current value: bagging_fraction=0.8\n",
      "[LightGBM] [Warning] feature_fraction is set=1.0, colsample_bytree=1.0 will be ignored. Current value: feature_fraction=1.0\n",
      "[LightGBM] [Warning] bagging_fraction is set=0.8, subsample=1.0 will be ignored. Current value: bagging_fraction=0.8\n"
     ]
    },
    {
     "name": "stderr",
     "output_type": "stream",
     "text": [
      "\u001b[32m[I 2022-07-23 16:31:34,266]\u001b[0m Trial 498 finished with value: 0.7589984650805832 and parameters: {'feature_fraction': 1.0, 'feature_fraction_bynode': 0.7, 'max_depth': 200, 'min_child_samples': 150, 'bagging_fraction': 0.8, 'num_leaves': 62, 'learning_rate': 0.1, 'max_bin': 1000}. Best is trial 318 with value: 0.7597419416730622.\u001b[0m\n"
     ]
    },
    {
     "name": "stdout",
     "output_type": "stream",
     "text": [
      "[LightGBM] [Warning] feature_fraction is set=0.5, colsample_bytree=1.0 will be ignored. Current value: feature_fraction=0.5\n",
      "[LightGBM] [Warning] bagging_fraction is set=0.8, subsample=1.0 will be ignored. Current value: bagging_fraction=0.8\n",
      "[LightGBM] [Warning] feature_fraction is set=0.5, colsample_bytree=1.0 will be ignored. Current value: feature_fraction=0.5\n",
      "[LightGBM] [Warning] bagging_fraction is set=0.8, subsample=1.0 will be ignored. Current value: bagging_fraction=0.8\n"
     ]
    },
    {
     "name": "stderr",
     "output_type": "stream",
     "text": [
      "\u001b[32m[I 2022-07-23 16:31:59,105]\u001b[0m Trial 499 finished with value: 0.7586003453568688 and parameters: {'feature_fraction': 0.5, 'feature_fraction_bynode': 0.7, 'max_depth': 200, 'min_child_samples': 150, 'bagging_fraction': 0.8, 'num_leaves': 72, 'learning_rate': 0.1, 'max_bin': 2000}. Best is trial 318 with value: 0.7597419416730622.\u001b[0m\n"
     ]
    },
    {
     "name": "stdout",
     "output_type": "stream",
     "text": [
      "[LightGBM] [Warning] feature_fraction is set=1.0, colsample_bytree=1.0 will be ignored. Current value: feature_fraction=1.0\n",
      "[LightGBM] [Warning] bagging_fraction is set=0.8, subsample=1.0 will be ignored. Current value: bagging_fraction=0.8\n",
      "[LightGBM] [Warning] feature_fraction is set=1.0, colsample_bytree=1.0 will be ignored. Current value: feature_fraction=1.0\n",
      "[LightGBM] [Warning] bagging_fraction is set=0.8, subsample=1.0 will be ignored. Current value: bagging_fraction=0.8\n"
     ]
    },
    {
     "name": "stderr",
     "output_type": "stream",
     "text": [
      "\u001b[32m[I 2022-07-23 16:32:29,832]\u001b[0m Trial 500 finished with value: 0.7597419416730622 and parameters: {'feature_fraction': 1.0, 'feature_fraction_bynode': 0.7, 'max_depth': 200, 'min_child_samples': 150, 'bagging_fraction': 0.8, 'num_leaves': 72, 'learning_rate': 0.1, 'max_bin': 1000}. Best is trial 318 with value: 0.7597419416730622.\u001b[0m\n"
     ]
    },
    {
     "name": "stdout",
     "output_type": "stream",
     "text": [
      "[LightGBM] [Warning] feature_fraction is set=1.0, colsample_bytree=1.0 will be ignored. Current value: feature_fraction=1.0\n",
      "[LightGBM] [Warning] bagging_fraction is set=0.8, subsample=1.0 will be ignored. Current value: bagging_fraction=0.8\n",
      "[LightGBM] [Warning] feature_fraction is set=1.0, colsample_bytree=1.0 will be ignored. Current value: feature_fraction=1.0\n",
      "[LightGBM] [Warning] bagging_fraction is set=0.8, subsample=1.0 will be ignored. Current value: bagging_fraction=0.8\n"
     ]
    },
    {
     "name": "stderr",
     "output_type": "stream",
     "text": [
      "\u001b[32m[I 2022-07-23 16:33:00,766]\u001b[0m Trial 501 finished with value: 0.758960092095165 and parameters: {'feature_fraction': 1.0, 'feature_fraction_bynode': 0.7, 'max_depth': 200, 'min_child_samples': 150, 'bagging_fraction': 0.8, 'num_leaves': 82, 'learning_rate': 0.1, 'max_bin': 1000}. Best is trial 318 with value: 0.7597419416730622.\u001b[0m\n"
     ]
    },
    {
     "name": "stdout",
     "output_type": "stream",
     "text": [
      "[LightGBM] [Warning] feature_fraction is set=1.0, colsample_bytree=1.0 will be ignored. Current value: feature_fraction=1.0\n",
      "[LightGBM] [Warning] bagging_fraction is set=0.8, subsample=1.0 will be ignored. Current value: bagging_fraction=0.8\n",
      "[LightGBM] [Warning] feature_fraction is set=1.0, colsample_bytree=1.0 will be ignored. Current value: feature_fraction=1.0\n",
      "[LightGBM] [Warning] bagging_fraction is set=0.8, subsample=1.0 will be ignored. Current value: bagging_fraction=0.8\n"
     ]
    },
    {
     "name": "stderr",
     "output_type": "stream",
     "text": [
      "\u001b[32m[I 2022-07-23 16:33:22,851]\u001b[0m Trial 502 finished with value: 0.7597419416730622 and parameters: {'feature_fraction': 1.0, 'feature_fraction_bynode': 0.7, 'max_depth': 250, 'min_child_samples': 150, 'bagging_fraction': 0.8, 'num_leaves': 72, 'learning_rate': 0.1, 'max_bin': 1000}. Best is trial 318 with value: 0.7597419416730622.\u001b[0m\n"
     ]
    },
    {
     "name": "stdout",
     "output_type": "stream",
     "text": [
      "[LightGBM] [Warning] feature_fraction is set=1.0, colsample_bytree=1.0 will be ignored. Current value: feature_fraction=1.0\n",
      "[LightGBM] [Warning] bagging_fraction is set=0.8, subsample=1.0 will be ignored. Current value: bagging_fraction=0.8\n",
      "[LightGBM] [Warning] feature_fraction is set=1.0, colsample_bytree=1.0 will be ignored. Current value: feature_fraction=1.0\n",
      "[LightGBM] [Warning] bagging_fraction is set=0.8, subsample=1.0 will be ignored. Current value: bagging_fraction=0.8\n"
     ]
    },
    {
     "name": "stderr",
     "output_type": "stream",
     "text": [
      "\u001b[32m[I 2022-07-23 16:33:44,349]\u001b[0m Trial 503 finished with value: 0.7572812739831158 and parameters: {'feature_fraction': 1.0, 'feature_fraction_bynode': 0.7, 'max_depth': 200, 'min_child_samples': 150, 'bagging_fraction': 0.8, 'num_leaves': 72, 'learning_rate': 0.2, 'max_bin': 1000}. Best is trial 318 with value: 0.7597419416730622.\u001b[0m\n"
     ]
    },
    {
     "name": "stdout",
     "output_type": "stream",
     "text": [
      "[LightGBM] [Warning] feature_fraction is set=1.0, colsample_bytree=1.0 will be ignored. Current value: feature_fraction=1.0\n",
      "[LightGBM] [Warning] bagging_fraction is set=0.8, subsample=1.0 will be ignored. Current value: bagging_fraction=0.8\n",
      "[LightGBM] [Warning] feature_fraction is set=1.0, colsample_bytree=1.0 will be ignored. Current value: feature_fraction=1.0\n",
      "[LightGBM] [Warning] bagging_fraction is set=0.8, subsample=1.0 will be ignored. Current value: bagging_fraction=0.8\n"
     ]
    },
    {
     "name": "stderr",
     "output_type": "stream",
     "text": [
      "\u001b[32m[I 2022-07-23 16:34:11,829]\u001b[0m Trial 504 finished with value: 0.7586147352264007 and parameters: {'feature_fraction': 1.0, 'feature_fraction_bynode': 0.7, 'max_depth': 400, 'min_child_samples': 150, 'bagging_fraction': 0.8, 'num_leaves': 102, 'learning_rate': 0.1, 'max_bin': 1000}. Best is trial 318 with value: 0.7597419416730622.\u001b[0m\n"
     ]
    },
    {
     "name": "stdout",
     "output_type": "stream",
     "text": [
      "[LightGBM] [Warning] feature_fraction is set=1.0, colsample_bytree=1.0 will be ignored. Current value: feature_fraction=1.0\n",
      "[LightGBM] [Warning] bagging_fraction is set=0.8, subsample=1.0 will be ignored. Current value: bagging_fraction=0.8\n",
      "[LightGBM] [Warning] feature_fraction is set=1.0, colsample_bytree=1.0 will be ignored. Current value: feature_fraction=1.0\n",
      "[LightGBM] [Warning] bagging_fraction is set=0.8, subsample=1.0 will be ignored. Current value: bagging_fraction=0.8\n"
     ]
    },
    {
     "name": "stderr",
     "output_type": "stream",
     "text": [
      "\u001b[32m[I 2022-07-23 16:34:33,575]\u001b[0m Trial 505 finished with value: 0.7597419416730622 and parameters: {'feature_fraction': 1.0, 'feature_fraction_bynode': 0.7, 'max_depth': 200, 'min_child_samples': 150, 'bagging_fraction': 0.8, 'num_leaves': 72, 'learning_rate': 0.1, 'max_bin': 1000}. Best is trial 318 with value: 0.7597419416730622.\u001b[0m\n"
     ]
    },
    {
     "name": "stdout",
     "output_type": "stream",
     "text": [
      "[LightGBM] [Warning] feature_fraction is set=1.0, colsample_bytree=1.0 will be ignored. Current value: feature_fraction=1.0\n",
      "[LightGBM] [Warning] bagging_fraction is set=0.8, subsample=1.0 will be ignored. Current value: bagging_fraction=0.8\n",
      "[LightGBM] [Warning] feature_fraction is set=1.0, colsample_bytree=1.0 will be ignored. Current value: feature_fraction=1.0\n",
      "[LightGBM] [Warning] bagging_fraction is set=0.8, subsample=1.0 will be ignored. Current value: bagging_fraction=0.8\n"
     ]
    },
    {
     "name": "stderr",
     "output_type": "stream",
     "text": [
      "\u001b[32m[I 2022-07-23 16:34:53,985]\u001b[0m Trial 506 finished with value: 0.7597419416730622 and parameters: {'feature_fraction': 1.0, 'feature_fraction_bynode': 0.7, 'max_depth': 200, 'min_child_samples': 150, 'bagging_fraction': 0.8, 'num_leaves': 72, 'learning_rate': 0.1, 'max_bin': 1000}. Best is trial 318 with value: 0.7597419416730622.\u001b[0m\n"
     ]
    },
    {
     "name": "stdout",
     "output_type": "stream",
     "text": [
      "[LightGBM] [Warning] feature_fraction is set=1.0, colsample_bytree=1.0 will be ignored. Current value: feature_fraction=1.0\n",
      "[LightGBM] [Warning] bagging_fraction is set=0.8, subsample=1.0 will be ignored. Current value: bagging_fraction=0.8\n",
      "[LightGBM] [Warning] feature_fraction is set=1.0, colsample_bytree=1.0 will be ignored. Current value: feature_fraction=1.0\n",
      "[LightGBM] [Warning] bagging_fraction is set=0.8, subsample=1.0 will be ignored. Current value: bagging_fraction=0.8\n"
     ]
    },
    {
     "name": "stderr",
     "output_type": "stream",
     "text": [
      "\u001b[32m[I 2022-07-23 16:35:17,079]\u001b[0m Trial 507 finished with value: 0.7589984650805832 and parameters: {'feature_fraction': 1.0, 'feature_fraction_bynode': 0.7, 'max_depth': 200, 'min_child_samples': 150, 'bagging_fraction': 0.8, 'num_leaves': 62, 'learning_rate': 0.1, 'max_bin': 1000}. Best is trial 318 with value: 0.7597419416730622.\u001b[0m\n"
     ]
    },
    {
     "name": "stdout",
     "output_type": "stream",
     "text": [
      "[LightGBM] [Warning] feature_fraction is set=1.0, colsample_bytree=1.0 will be ignored. Current value: feature_fraction=1.0\n",
      "[LightGBM] [Warning] bagging_fraction is set=0.8, subsample=1.0 will be ignored. Current value: bagging_fraction=0.8\n",
      "[LightGBM] [Warning] feature_fraction is set=1.0, colsample_bytree=1.0 will be ignored. Current value: feature_fraction=1.0\n",
      "[LightGBM] [Warning] bagging_fraction is set=0.8, subsample=1.0 will be ignored. Current value: bagging_fraction=0.8\n"
     ]
    },
    {
     "name": "stderr",
     "output_type": "stream",
     "text": [
      "\u001b[32m[I 2022-07-23 16:35:50,291]\u001b[0m Trial 508 finished with value: 0.7597419416730622 and parameters: {'feature_fraction': 1.0, 'feature_fraction_bynode': 0.7, 'max_depth': 200, 'min_child_samples': 150, 'bagging_fraction': 0.8, 'num_leaves': 72, 'learning_rate': 0.1, 'max_bin': 1000}. Best is trial 318 with value: 0.7597419416730622.\u001b[0m\n"
     ]
    },
    {
     "name": "stdout",
     "output_type": "stream",
     "text": [
      "[LightGBM] [Warning] feature_fraction is set=1.0, colsample_bytree=1.0 will be ignored. Current value: feature_fraction=1.0\n",
      "[LightGBM] [Warning] bagging_fraction is set=0.8, subsample=1.0 will be ignored. Current value: bagging_fraction=0.8\n",
      "[LightGBM] [Warning] feature_fraction is set=1.0, colsample_bytree=1.0 will be ignored. Current value: feature_fraction=1.0\n",
      "[LightGBM] [Warning] bagging_fraction is set=0.8, subsample=1.0 will be ignored. Current value: bagging_fraction=0.8\n"
     ]
    },
    {
     "name": "stderr",
     "output_type": "stream",
     "text": [
      "\u001b[32m[I 2022-07-23 16:36:16,761]\u001b[0m Trial 509 finished with value: 0.7597419416730622 and parameters: {'feature_fraction': 1.0, 'feature_fraction_bynode': 0.7, 'max_depth': 250, 'min_child_samples': 150, 'bagging_fraction': 0.8, 'num_leaves': 72, 'learning_rate': 0.1, 'max_bin': 1000}. Best is trial 318 with value: 0.7597419416730622.\u001b[0m\n"
     ]
    },
    {
     "name": "stdout",
     "output_type": "stream",
     "text": [
      "[LightGBM] [Warning] feature_fraction is set=1.0, colsample_bytree=1.0 will be ignored. Current value: feature_fraction=1.0\n",
      "[LightGBM] [Warning] bagging_fraction is set=0.8, subsample=1.0 will be ignored. Current value: bagging_fraction=0.8\n",
      "[LightGBM] [Warning] feature_fraction is set=1.0, colsample_bytree=1.0 will be ignored. Current value: feature_fraction=1.0\n",
      "[LightGBM] [Warning] bagging_fraction is set=0.8, subsample=1.0 will be ignored. Current value: bagging_fraction=0.8\n"
     ]
    },
    {
     "name": "stderr",
     "output_type": "stream",
     "text": [
      "\u001b[32m[I 2022-07-23 16:36:41,767]\u001b[0m Trial 510 finished with value: 0.7592478894858019 and parameters: {'feature_fraction': 1.0, 'feature_fraction_bynode': 0.7, 'max_depth': 200, 'min_child_samples': 150, 'bagging_fraction': 0.8, 'num_leaves': 72, 'learning_rate': 0.1, 'max_bin': 9000}. Best is trial 318 with value: 0.7597419416730622.\u001b[0m\n"
     ]
    },
    {
     "name": "stdout",
     "output_type": "stream",
     "text": [
      "[LightGBM] [Warning] feature_fraction is set=1.0, colsample_bytree=1.0 will be ignored. Current value: feature_fraction=1.0\n",
      "[LightGBM] [Warning] bagging_fraction is set=0.8, subsample=1.0 will be ignored. Current value: bagging_fraction=0.8\n",
      "[LightGBM] [Warning] feature_fraction is set=1.0, colsample_bytree=1.0 will be ignored. Current value: feature_fraction=1.0\n",
      "[LightGBM] [Warning] bagging_fraction is set=0.8, subsample=1.0 will be ignored. Current value: bagging_fraction=0.8\n"
     ]
    },
    {
     "name": "stderr",
     "output_type": "stream",
     "text": [
      "\u001b[32m[I 2022-07-23 16:37:10,206]\u001b[0m Trial 511 finished with value: 0.7571661550268611 and parameters: {'feature_fraction': 1.0, 'feature_fraction_bynode': 0.8, 'max_depth': 200, 'min_child_samples': 150, 'bagging_fraction': 0.8, 'num_leaves': 82, 'learning_rate': 0.2, 'max_bin': 2000}. Best is trial 318 with value: 0.7597419416730622.\u001b[0m\n"
     ]
    },
    {
     "name": "stdout",
     "output_type": "stream",
     "text": [
      "[LightGBM] [Warning] feature_fraction is set=1.0, colsample_bytree=1.0 will be ignored. Current value: feature_fraction=1.0\n",
      "[LightGBM] [Warning] bagging_fraction is set=0.8, subsample=1.0 will be ignored. Current value: bagging_fraction=0.8\n",
      "[LightGBM] [Warning] feature_fraction is set=1.0, colsample_bytree=1.0 will be ignored. Current value: feature_fraction=1.0\n",
      "[LightGBM] [Warning] bagging_fraction is set=0.8, subsample=1.0 will be ignored. Current value: bagging_fraction=0.8\n"
     ]
    },
    {
     "name": "stderr",
     "output_type": "stream",
     "text": [
      "\u001b[32m[I 2022-07-23 16:37:38,100]\u001b[0m Trial 512 finished with value: 0.7597419416730622 and parameters: {'feature_fraction': 1.0, 'feature_fraction_bynode': 0.7, 'max_depth': 350, 'min_child_samples': 150, 'bagging_fraction': 0.8, 'num_leaves': 72, 'learning_rate': 0.1, 'max_bin': 1000}. Best is trial 318 with value: 0.7597419416730622.\u001b[0m\n"
     ]
    },
    {
     "name": "stdout",
     "output_type": "stream",
     "text": [
      "[LightGBM] [Warning] feature_fraction is set=1.0, colsample_bytree=1.0 will be ignored. Current value: feature_fraction=1.0\n",
      "[LightGBM] [Warning] bagging_fraction is set=0.8, subsample=1.0 will be ignored. Current value: bagging_fraction=0.8\n",
      "[LightGBM] [Warning] feature_fraction is set=1.0, colsample_bytree=1.0 will be ignored. Current value: feature_fraction=1.0\n",
      "[LightGBM] [Warning] bagging_fraction is set=0.8, subsample=1.0 will be ignored. Current value: bagging_fraction=0.8\n"
     ]
    },
    {
     "name": "stderr",
     "output_type": "stream",
     "text": [
      "\u001b[32m[I 2022-07-23 16:38:08,412]\u001b[0m Trial 513 finished with value: 0.7597419416730622 and parameters: {'feature_fraction': 1.0, 'feature_fraction_bynode': 0.7, 'max_depth': 200, 'min_child_samples': 150, 'bagging_fraction': 0.8, 'num_leaves': 72, 'learning_rate': 0.1, 'max_bin': 1000}. Best is trial 318 with value: 0.7597419416730622.\u001b[0m\n"
     ]
    },
    {
     "name": "stdout",
     "output_type": "stream",
     "text": [
      "[LightGBM] [Warning] feature_fraction is set=1.0, colsample_bytree=1.0 will be ignored. Current value: feature_fraction=1.0\n",
      "[LightGBM] [Warning] bagging_fraction is set=0.8, subsample=1.0 will be ignored. Current value: bagging_fraction=0.8\n",
      "[LightGBM] [Warning] feature_fraction is set=1.0, colsample_bytree=1.0 will be ignored. Current value: feature_fraction=1.0\n",
      "[LightGBM] [Warning] bagging_fraction is set=0.8, subsample=1.0 will be ignored. Current value: bagging_fraction=0.8\n"
     ]
    },
    {
     "name": "stderr",
     "output_type": "stream",
     "text": [
      "\u001b[32m[I 2022-07-23 16:38:30,733]\u001b[0m Trial 514 finished with value: 0.7597419416730622 and parameters: {'feature_fraction': 1.0, 'feature_fraction_bynode': 0.7, 'max_depth': 200, 'min_child_samples': 150, 'bagging_fraction': 0.8, 'num_leaves': 72, 'learning_rate': 0.1, 'max_bin': 1000}. Best is trial 318 with value: 0.7597419416730622.\u001b[0m\n"
     ]
    },
    {
     "name": "stdout",
     "output_type": "stream",
     "text": [
      "[LightGBM] [Warning] feature_fraction is set=1.0, colsample_bytree=1.0 will be ignored. Current value: feature_fraction=1.0\n",
      "[LightGBM] [Warning] bagging_fraction is set=0.8, subsample=1.0 will be ignored. Current value: bagging_fraction=0.8\n",
      "[LightGBM] [Warning] feature_fraction is set=1.0, colsample_bytree=1.0 will be ignored. Current value: feature_fraction=1.0\n",
      "[LightGBM] [Warning] bagging_fraction is set=0.8, subsample=1.0 will be ignored. Current value: bagging_fraction=0.8\n"
     ]
    },
    {
     "name": "stderr",
     "output_type": "stream",
     "text": [
      "\u001b[32m[I 2022-07-23 16:38:51,058]\u001b[0m Trial 515 finished with value: 0.7589984650805832 and parameters: {'feature_fraction': 1.0, 'feature_fraction_bynode': 0.7, 'max_depth': 200, 'min_child_samples': 150, 'bagging_fraction': 0.8, 'num_leaves': 62, 'learning_rate': 0.1, 'max_bin': 1000}. Best is trial 318 with value: 0.7597419416730622.\u001b[0m\n"
     ]
    },
    {
     "name": "stdout",
     "output_type": "stream",
     "text": [
      "[LightGBM] [Warning] feature_fraction is set=1.0, colsample_bytree=1.0 will be ignored. Current value: feature_fraction=1.0\n",
      "[LightGBM] [Warning] bagging_fraction is set=0.8, subsample=1.0 will be ignored. Current value: bagging_fraction=0.8\n",
      "[LightGBM] [Warning] feature_fraction is set=1.0, colsample_bytree=1.0 will be ignored. Current value: feature_fraction=1.0\n",
      "[LightGBM] [Warning] bagging_fraction is set=0.8, subsample=1.0 will be ignored. Current value: bagging_fraction=0.8\n"
     ]
    },
    {
     "name": "stderr",
     "output_type": "stream",
     "text": [
      "\u001b[32m[I 2022-07-23 16:39:14,266]\u001b[0m Trial 516 finished with value: 0.6966903300076746 and parameters: {'feature_fraction': 1.0, 'feature_fraction_bynode': 0.7, 'max_depth': 250, 'min_child_samples': 150, 'bagging_fraction': 0.8, 'num_leaves': 72, 'learning_rate': 1.0, 'max_bin': 1000}. Best is trial 318 with value: 0.7597419416730622.\u001b[0m\n"
     ]
    },
    {
     "name": "stdout",
     "output_type": "stream",
     "text": [
      "[LightGBM] [Warning] feature_fraction is set=1.0, colsample_bytree=1.0 will be ignored. Current value: feature_fraction=1.0\n",
      "[LightGBM] [Warning] bagging_fraction is set=0.8, subsample=1.0 will be ignored. Current value: bagging_fraction=0.8\n",
      "[LightGBM] [Warning] feature_fraction is set=1.0, colsample_bytree=1.0 will be ignored. Current value: feature_fraction=1.0\n",
      "[LightGBM] [Warning] bagging_fraction is set=0.8, subsample=1.0 will be ignored. Current value: bagging_fraction=0.8\n"
     ]
    },
    {
     "name": "stderr",
     "output_type": "stream",
     "text": [
      "\u001b[32m[I 2022-07-23 16:39:33,939]\u001b[0m Trial 517 finished with value: 0.7518850729086723 and parameters: {'feature_fraction': 1.0, 'feature_fraction_bynode': 0.7, 'max_depth': 200, 'min_child_samples': 150, 'bagging_fraction': 0.8, 'num_leaves': 72, 'learning_rate': 0.4, 'max_bin': 1000}. Best is trial 318 with value: 0.7597419416730622.\u001b[0m\n"
     ]
    },
    {
     "name": "stdout",
     "output_type": "stream",
     "text": [
      "[LightGBM] [Warning] feature_fraction is set=1.0, colsample_bytree=1.0 will be ignored. Current value: feature_fraction=1.0\n",
      "[LightGBM] [Warning] bagging_fraction is set=0.8, subsample=1.0 will be ignored. Current value: bagging_fraction=0.8\n",
      "[LightGBM] [Warning] feature_fraction is set=1.0, colsample_bytree=1.0 will be ignored. Current value: feature_fraction=1.0\n",
      "[LightGBM] [Warning] bagging_fraction is set=0.8, subsample=1.0 will be ignored. Current value: bagging_fraction=0.8\n"
     ]
    },
    {
     "name": "stderr",
     "output_type": "stream",
     "text": [
      "\u001b[32m[I 2022-07-23 16:40:02,773]\u001b[0m Trial 518 finished with value: 0.7588737528779739 and parameters: {'feature_fraction': 1.0, 'feature_fraction_bynode': 0.7, 'max_depth': 250, 'min_child_samples': 150, 'bagging_fraction': 0.8, 'num_leaves': 82, 'learning_rate': 0.1, 'max_bin': 2000}. Best is trial 318 with value: 0.7597419416730622.\u001b[0m\n"
     ]
    },
    {
     "name": "stdout",
     "output_type": "stream",
     "text": [
      "[LightGBM] [Warning] feature_fraction is set=1.0, colsample_bytree=1.0 will be ignored. Current value: feature_fraction=1.0\n",
      "[LightGBM] [Warning] bagging_fraction is set=0.8, subsample=1.0 will be ignored. Current value: bagging_fraction=0.8\n",
      "[LightGBM] [Warning] feature_fraction is set=1.0, colsample_bytree=1.0 will be ignored. Current value: feature_fraction=1.0\n",
      "[LightGBM] [Warning] bagging_fraction is set=0.8, subsample=1.0 will be ignored. Current value: bagging_fraction=0.8\n"
     ]
    },
    {
     "name": "stderr",
     "output_type": "stream",
     "text": [
      "\u001b[32m[I 2022-07-23 16:40:11,155]\u001b[0m Trial 519 finished with value: 0.7499616270145818 and parameters: {'feature_fraction': 1.0, 'feature_fraction_bynode': 0.7, 'max_depth': 250, 'min_child_samples': 150, 'bagging_fraction': 0.8, 'num_leaves': 2, 'learning_rate': 0.2, 'max_bin': 1000}. Best is trial 318 with value: 0.7597419416730622.\u001b[0m\n"
     ]
    },
    {
     "name": "stdout",
     "output_type": "stream",
     "text": [
      "[LightGBM] [Warning] feature_fraction is set=1.0, colsample_bytree=1.0 will be ignored. Current value: feature_fraction=1.0\n",
      "[LightGBM] [Warning] bagging_fraction is set=0.8, subsample=1.0 will be ignored. Current value: bagging_fraction=0.8\n",
      "[LightGBM] [Warning] feature_fraction is set=1.0, colsample_bytree=1.0 will be ignored. Current value: feature_fraction=1.0\n",
      "[LightGBM] [Warning] bagging_fraction is set=0.8, subsample=1.0 will be ignored. Current value: bagging_fraction=0.8\n"
     ]
    },
    {
     "name": "stderr",
     "output_type": "stream",
     "text": [
      "\u001b[32m[I 2022-07-23 16:40:41,961]\u001b[0m Trial 520 finished with value: 0.7597419416730622 and parameters: {'feature_fraction': 1.0, 'feature_fraction_bynode': 0.7, 'max_depth': 200, 'min_child_samples': 150, 'bagging_fraction': 0.8, 'num_leaves': 72, 'learning_rate': 0.1, 'max_bin': 1000}. Best is trial 318 with value: 0.7597419416730622.\u001b[0m\n"
     ]
    },
    {
     "name": "stdout",
     "output_type": "stream",
     "text": [
      "[LightGBM] [Warning] feature_fraction is set=1.0, colsample_bytree=1.0 will be ignored. Current value: feature_fraction=1.0\n",
      "[LightGBM] [Warning] bagging_fraction is set=0.8, subsample=1.0 will be ignored. Current value: bagging_fraction=0.8\n",
      "[LightGBM] [Warning] feature_fraction is set=1.0, colsample_bytree=1.0 will be ignored. Current value: feature_fraction=1.0\n",
      "[LightGBM] [Warning] bagging_fraction is set=0.8, subsample=1.0 will be ignored. Current value: bagging_fraction=0.8\n"
     ]
    },
    {
     "name": "stderr",
     "output_type": "stream",
     "text": [
      "\u001b[32m[I 2022-07-23 16:41:12,519]\u001b[0m Trial 521 finished with value: 0.7597419416730622 and parameters: {'feature_fraction': 1.0, 'feature_fraction_bynode': 0.7, 'max_depth': 200, 'min_child_samples': 150, 'bagging_fraction': 0.8, 'num_leaves': 72, 'learning_rate': 0.1, 'max_bin': 1000}. Best is trial 318 with value: 0.7597419416730622.\u001b[0m\n"
     ]
    },
    {
     "name": "stdout",
     "output_type": "stream",
     "text": [
      "[LightGBM] [Warning] feature_fraction is set=1.0, colsample_bytree=1.0 will be ignored. Current value: feature_fraction=1.0\n",
      "[LightGBM] [Warning] bagging_fraction is set=0.8, subsample=1.0 will be ignored. Current value: bagging_fraction=0.8\n",
      "[LightGBM] [Warning] feature_fraction is set=1.0, colsample_bytree=1.0 will be ignored. Current value: feature_fraction=1.0\n",
      "[LightGBM] [Warning] bagging_fraction is set=0.8, subsample=1.0 will be ignored. Current value: bagging_fraction=0.8\n"
     ]
    },
    {
     "name": "stderr",
     "output_type": "stream",
     "text": [
      "\u001b[32m[I 2022-07-23 16:41:42,712]\u001b[0m Trial 522 finished with value: 0.7597419416730622 and parameters: {'feature_fraction': 1.0, 'feature_fraction_bynode': 0.7, 'max_depth': 200, 'min_child_samples': 150, 'bagging_fraction': 0.8, 'num_leaves': 72, 'learning_rate': 0.1, 'max_bin': 1000}. Best is trial 318 with value: 0.7597419416730622.\u001b[0m\n"
     ]
    },
    {
     "name": "stdout",
     "output_type": "stream",
     "text": [
      "[LightGBM] [Warning] feature_fraction is set=1.0, colsample_bytree=1.0 will be ignored. Current value: feature_fraction=1.0\n",
      "[LightGBM] [Warning] bagging_fraction is set=0.8, subsample=1.0 will be ignored. Current value: bagging_fraction=0.8\n",
      "[LightGBM] [Warning] feature_fraction is set=1.0, colsample_bytree=1.0 will be ignored. Current value: feature_fraction=1.0\n",
      "[LightGBM] [Warning] bagging_fraction is set=0.8, subsample=1.0 will be ignored. Current value: bagging_fraction=0.8\n"
     ]
    },
    {
     "name": "stderr",
     "output_type": "stream",
     "text": [
      "\u001b[32m[I 2022-07-23 16:42:10,956]\u001b[0m Trial 523 finished with value: 0.7592478894858019 and parameters: {'feature_fraction': 1.0, 'feature_fraction_bynode': 0.7, 'max_depth': 200, 'min_child_samples': 150, 'bagging_fraction': 0.8, 'num_leaves': 72, 'learning_rate': 0.1, 'max_bin': 5000}. Best is trial 318 with value: 0.7597419416730622.\u001b[0m\n"
     ]
    },
    {
     "name": "stdout",
     "output_type": "stream",
     "text": [
      "[LightGBM] [Warning] feature_fraction is set=1.0, colsample_bytree=1.0 will be ignored. Current value: feature_fraction=1.0\n",
      "[LightGBM] [Warning] bagging_fraction is set=0.8, subsample=1.0 will be ignored. Current value: bagging_fraction=0.8\n",
      "[LightGBM] [Warning] feature_fraction is set=1.0, colsample_bytree=1.0 will be ignored. Current value: feature_fraction=1.0\n",
      "[LightGBM] [Warning] bagging_fraction is set=0.8, subsample=1.0 will be ignored. Current value: bagging_fraction=0.8\n"
     ]
    },
    {
     "name": "stderr",
     "output_type": "stream",
     "text": [
      "\u001b[32m[I 2022-07-23 16:42:33,125]\u001b[0m Trial 524 finished with value: 0.7597419416730622 and parameters: {'feature_fraction': 1.0, 'feature_fraction_bynode': 0.7, 'max_depth': 200, 'min_child_samples': 150, 'bagging_fraction': 0.8, 'num_leaves': 72, 'learning_rate': 0.1, 'max_bin': 1000}. Best is trial 318 with value: 0.7597419416730622.\u001b[0m\n"
     ]
    },
    {
     "name": "stdout",
     "output_type": "stream",
     "text": [
      "[LightGBM] [Warning] feature_fraction is set=1.0, colsample_bytree=1.0 will be ignored. Current value: feature_fraction=1.0\n",
      "[LightGBM] [Warning] bagging_fraction is set=0.8, subsample=1.0 will be ignored. Current value: bagging_fraction=0.8\n",
      "[LightGBM] [Warning] feature_fraction is set=1.0, colsample_bytree=1.0 will be ignored. Current value: feature_fraction=1.0\n",
      "[LightGBM] [Warning] bagging_fraction is set=0.8, subsample=1.0 will be ignored. Current value: bagging_fraction=0.8\n"
     ]
    },
    {
     "name": "stderr",
     "output_type": "stream",
     "text": [
      "\u001b[32m[I 2022-07-23 16:42:53,329]\u001b[0m Trial 525 finished with value: 0.7591615502686109 and parameters: {'feature_fraction': 1.0, 'feature_fraction_bynode': 0.6, 'max_depth': 200, 'min_child_samples': 150, 'bagging_fraction': 0.8, 'num_leaves': 62, 'learning_rate': 0.1, 'max_bin': 1000}. Best is trial 318 with value: 0.7597419416730622.\u001b[0m\n"
     ]
    },
    {
     "name": "stdout",
     "output_type": "stream",
     "text": [
      "[LightGBM] [Warning] feature_fraction is set=1.0, colsample_bytree=1.0 will be ignored. Current value: feature_fraction=1.0\n",
      "[LightGBM] [Warning] bagging_fraction is set=0.8, subsample=1.0 will be ignored. Current value: bagging_fraction=0.8\n",
      "[LightGBM] [Warning] feature_fraction is set=1.0, colsample_bytree=1.0 will be ignored. Current value: feature_fraction=1.0\n",
      "[LightGBM] [Warning] bagging_fraction is set=0.8, subsample=1.0 will be ignored. Current value: bagging_fraction=0.8\n"
     ]
    },
    {
     "name": "stderr",
     "output_type": "stream",
     "text": [
      "\u001b[32m[I 2022-07-23 16:43:19,143]\u001b[0m Trial 526 finished with value: 0.7597419416730622 and parameters: {'feature_fraction': 1.0, 'feature_fraction_bynode': 0.7, 'max_depth': 200, 'min_child_samples': 150, 'bagging_fraction': 0.8, 'num_leaves': 72, 'learning_rate': 0.1, 'max_bin': 1000}. Best is trial 318 with value: 0.7597419416730622.\u001b[0m\n"
     ]
    },
    {
     "name": "stdout",
     "output_type": "stream",
     "text": [
      "[LightGBM] [Warning] feature_fraction is set=1.0, colsample_bytree=1.0 will be ignored. Current value: feature_fraction=1.0\n",
      "[LightGBM] [Warning] bagging_fraction is set=0.8, subsample=1.0 will be ignored. Current value: bagging_fraction=0.8\n",
      "[LightGBM] [Warning] feature_fraction is set=1.0, colsample_bytree=1.0 will be ignored. Current value: feature_fraction=1.0\n",
      "[LightGBM] [Warning] bagging_fraction is set=0.8, subsample=1.0 will be ignored. Current value: bagging_fraction=0.8\n"
     ]
    },
    {
     "name": "stderr",
     "output_type": "stream",
     "text": [
      "\u001b[32m[I 2022-07-23 16:43:44,718]\u001b[0m Trial 527 finished with value: 0.7597419416730622 and parameters: {'feature_fraction': 1.0, 'feature_fraction_bynode': 0.7, 'max_depth': 200, 'min_child_samples': 150, 'bagging_fraction': 0.8, 'num_leaves': 72, 'learning_rate': 0.1, 'max_bin': 1000}. Best is trial 318 with value: 0.7597419416730622.\u001b[0m\n"
     ]
    },
    {
     "name": "stdout",
     "output_type": "stream",
     "text": [
      "[LightGBM] [Warning] feature_fraction is set=1.0, colsample_bytree=1.0 will be ignored. Current value: feature_fraction=1.0\n",
      "[LightGBM] [Warning] bagging_fraction is set=0.8, subsample=1.0 will be ignored. Current value: bagging_fraction=0.8\n",
      "[LightGBM] [Warning] feature_fraction is set=1.0, colsample_bytree=1.0 will be ignored. Current value: feature_fraction=1.0\n",
      "[LightGBM] [Warning] bagging_fraction is set=0.8, subsample=1.0 will be ignored. Current value: bagging_fraction=0.8\n"
     ]
    },
    {
     "name": "stderr",
     "output_type": "stream",
     "text": [
      "\u001b[32m[I 2022-07-23 16:44:13,262]\u001b[0m Trial 528 finished with value: 0.7592478894858019 and parameters: {'feature_fraction': 1.0, 'feature_fraction_bynode': 0.7, 'max_depth': 250, 'min_child_samples': 150, 'bagging_fraction': 0.8, 'num_leaves': 72, 'learning_rate': 0.1, 'max_bin': 2000}. Best is trial 318 with value: 0.7597419416730622.\u001b[0m\n"
     ]
    },
    {
     "name": "stdout",
     "output_type": "stream",
     "text": [
      "[LightGBM] [Warning] feature_fraction is set=1.0, colsample_bytree=1.0 will be ignored. Current value: feature_fraction=1.0\n",
      "[LightGBM] [Warning] bagging_fraction is set=0.8, subsample=1.0 will be ignored. Current value: bagging_fraction=0.8\n",
      "[LightGBM] [Warning] feature_fraction is set=1.0, colsample_bytree=1.0 will be ignored. Current value: feature_fraction=1.0\n",
      "[LightGBM] [Warning] bagging_fraction is set=0.8, subsample=1.0 will be ignored. Current value: bagging_fraction=0.8\n"
     ]
    },
    {
     "name": "stderr",
     "output_type": "stream",
     "text": [
      "\u001b[32m[I 2022-07-23 16:44:38,077]\u001b[0m Trial 529 finished with value: 0.7597419416730622 and parameters: {'feature_fraction': 1.0, 'feature_fraction_bynode': 0.7, 'max_depth': 200, 'min_child_samples': 150, 'bagging_fraction': 0.8, 'num_leaves': 72, 'learning_rate': 0.1, 'max_bin': 1000}. Best is trial 318 with value: 0.7597419416730622.\u001b[0m\n"
     ]
    },
    {
     "name": "stdout",
     "output_type": "stream",
     "text": [
      "[LightGBM] [Warning] feature_fraction is set=0.7, colsample_bytree=1.0 will be ignored. Current value: feature_fraction=0.7\n",
      "[LightGBM] [Warning] bagging_fraction is set=0.8, subsample=1.0 will be ignored. Current value: bagging_fraction=0.8\n",
      "[LightGBM] [Warning] feature_fraction is set=0.7, colsample_bytree=1.0 will be ignored. Current value: feature_fraction=0.7\n",
      "[LightGBM] [Warning] bagging_fraction is set=0.8, subsample=1.0 will be ignored. Current value: bagging_fraction=0.8\n"
     ]
    },
    {
     "name": "stderr",
     "output_type": "stream",
     "text": [
      "\u001b[32m[I 2022-07-23 16:45:03,726]\u001b[0m Trial 530 finished with value: 0.7588545663852647 and parameters: {'feature_fraction': 0.7, 'feature_fraction_bynode': 0.7, 'max_depth': 200, 'min_child_samples': 150, 'bagging_fraction': 0.8, 'num_leaves': 82, 'learning_rate': 0.1, 'max_bin': 1000}. Best is trial 318 with value: 0.7597419416730622.\u001b[0m\n"
     ]
    },
    {
     "name": "stdout",
     "output_type": "stream",
     "text": [
      "[LightGBM] [Warning] feature_fraction is set=0.6, colsample_bytree=1.0 will be ignored. Current value: feature_fraction=0.6\n",
      "[LightGBM] [Warning] bagging_fraction is set=0.8, subsample=1.0 will be ignored. Current value: bagging_fraction=0.8\n",
      "[LightGBM] [Warning] feature_fraction is set=0.6, colsample_bytree=1.0 will be ignored. Current value: feature_fraction=0.6\n",
      "[LightGBM] [Warning] bagging_fraction is set=0.8, subsample=1.0 will be ignored. Current value: bagging_fraction=0.8\n"
     ]
    },
    {
     "name": "stderr",
     "output_type": "stream",
     "text": [
      "\u001b[32m[I 2022-07-23 16:45:40,663]\u001b[0m Trial 531 finished with value: 0.7585235993860322 and parameters: {'feature_fraction': 0.6, 'feature_fraction_bynode': 0.7, 'max_depth': 450, 'min_child_samples': 150, 'bagging_fraction': 0.8, 'num_leaves': 72, 'learning_rate': 0.1, 'max_bin': 1000}. Best is trial 318 with value: 0.7597419416730622.\u001b[0m\n"
     ]
    },
    {
     "name": "stdout",
     "output_type": "stream",
     "text": [
      "[LightGBM] [Warning] feature_fraction is set=1.0, colsample_bytree=1.0 will be ignored. Current value: feature_fraction=1.0\n",
      "[LightGBM] [Warning] bagging_fraction is set=0.8, subsample=1.0 will be ignored. Current value: bagging_fraction=0.8\n",
      "[LightGBM] [Warning] feature_fraction is set=1.0, colsample_bytree=1.0 will be ignored. Current value: feature_fraction=1.0\n",
      "[LightGBM] [Warning] bagging_fraction is set=0.8, subsample=1.0 will be ignored. Current value: bagging_fraction=0.8\n"
     ]
    },
    {
     "name": "stderr",
     "output_type": "stream",
     "text": [
      "\u001b[32m[I 2022-07-23 16:46:05,132]\u001b[0m Trial 532 finished with value: 0.7597419416730622 and parameters: {'feature_fraction': 1.0, 'feature_fraction_bynode': 0.7, 'max_depth': 450, 'min_child_samples': 150, 'bagging_fraction': 0.8, 'num_leaves': 72, 'learning_rate': 0.1, 'max_bin': 1000}. Best is trial 318 with value: 0.7597419416730622.\u001b[0m\n"
     ]
    },
    {
     "name": "stdout",
     "output_type": "stream",
     "text": [
      "[LightGBM] [Warning] feature_fraction is set=1.0, colsample_bytree=1.0 will be ignored. Current value: feature_fraction=1.0\n",
      "[LightGBM] [Warning] bagging_fraction is set=0.8, subsample=1.0 will be ignored. Current value: bagging_fraction=0.8\n",
      "[LightGBM] [Warning] feature_fraction is set=1.0, colsample_bytree=1.0 will be ignored. Current value: feature_fraction=1.0\n",
      "[LightGBM] [Warning] bagging_fraction is set=0.8, subsample=1.0 will be ignored. Current value: bagging_fraction=0.8\n"
     ]
    },
    {
     "name": "stderr",
     "output_type": "stream",
     "text": [
      "\u001b[32m[I 2022-07-23 16:46:35,271]\u001b[0m Trial 533 finished with value: 0.7589984650805832 and parameters: {'feature_fraction': 1.0, 'feature_fraction_bynode': 0.7, 'max_depth': 350, 'min_child_samples': 150, 'bagging_fraction': 0.8, 'num_leaves': 62, 'learning_rate': 0.1, 'max_bin': 1000}. Best is trial 318 with value: 0.7597419416730622.\u001b[0m\n"
     ]
    },
    {
     "name": "stdout",
     "output_type": "stream",
     "text": [
      "[LightGBM] [Warning] feature_fraction is set=1.0, colsample_bytree=1.0 will be ignored. Current value: feature_fraction=1.0\n",
      "[LightGBM] [Warning] bagging_fraction is set=0.8, subsample=1.0 will be ignored. Current value: bagging_fraction=0.8\n",
      "[LightGBM] [Warning] feature_fraction is set=1.0, colsample_bytree=1.0 will be ignored. Current value: feature_fraction=1.0\n",
      "[LightGBM] [Warning] bagging_fraction is set=0.8, subsample=1.0 will be ignored. Current value: bagging_fraction=0.8\n"
     ]
    },
    {
     "name": "stderr",
     "output_type": "stream",
     "text": [
      "\u001b[32m[I 2022-07-23 16:47:06,553]\u001b[0m Trial 534 finished with value: 0.7572812739831158 and parameters: {'feature_fraction': 1.0, 'feature_fraction_bynode': 0.7, 'max_depth': 250, 'min_child_samples': 150, 'bagging_fraction': 0.8, 'num_leaves': 72, 'learning_rate': 0.2, 'max_bin': 1000}. Best is trial 318 with value: 0.7597419416730622.\u001b[0m\n"
     ]
    },
    {
     "name": "stdout",
     "output_type": "stream",
     "text": [
      "[LightGBM] [Warning] feature_fraction is set=1.0, colsample_bytree=1.0 will be ignored. Current value: feature_fraction=1.0\n",
      "[LightGBM] [Warning] bagging_fraction is set=0.8, subsample=1.0 will be ignored. Current value: bagging_fraction=0.8\n",
      "[LightGBM] [Warning] feature_fraction is set=1.0, colsample_bytree=1.0 will be ignored. Current value: feature_fraction=1.0\n",
      "[LightGBM] [Warning] bagging_fraction is set=0.8, subsample=1.0 will be ignored. Current value: bagging_fraction=0.8\n"
     ]
    },
    {
     "name": "stderr",
     "output_type": "stream",
     "text": [
      "\u001b[32m[I 2022-07-23 16:47:44,043]\u001b[0m Trial 535 finished with value: 0.7591231772831926 and parameters: {'feature_fraction': 1.0, 'feature_fraction_bynode': 0.5, 'max_depth': 450, 'min_child_samples': 150, 'bagging_fraction': 0.8, 'num_leaves': 72, 'learning_rate': 0.1, 'max_bin': 10000}. Best is trial 318 with value: 0.7597419416730622.\u001b[0m\n"
     ]
    },
    {
     "name": "stdout",
     "output_type": "stream",
     "text": [
      "[LightGBM] [Warning] feature_fraction is set=1.0, colsample_bytree=1.0 will be ignored. Current value: feature_fraction=1.0\n",
      "[LightGBM] [Warning] bagging_fraction is set=0.8, subsample=1.0 will be ignored. Current value: bagging_fraction=0.8\n",
      "[LightGBM] [Warning] feature_fraction is set=1.0, colsample_bytree=1.0 will be ignored. Current value: feature_fraction=1.0\n",
      "[LightGBM] [Warning] bagging_fraction is set=0.8, subsample=1.0 will be ignored. Current value: bagging_fraction=0.8\n"
     ]
    },
    {
     "name": "stderr",
     "output_type": "stream",
     "text": [
      "\u001b[32m[I 2022-07-23 16:48:19,192]\u001b[0m Trial 536 finished with value: 0.7597419416730622 and parameters: {'feature_fraction': 1.0, 'feature_fraction_bynode': 0.7, 'max_depth': 250, 'min_child_samples': 150, 'bagging_fraction': 0.8, 'num_leaves': 72, 'learning_rate': 0.1, 'max_bin': 1000}. Best is trial 318 with value: 0.7597419416730622.\u001b[0m\n"
     ]
    },
    {
     "name": "stdout",
     "output_type": "stream",
     "text": [
      "[LightGBM] [Warning] feature_fraction is set=1.0, colsample_bytree=1.0 will be ignored. Current value: feature_fraction=1.0\n",
      "[LightGBM] [Warning] bagging_fraction is set=0.8, subsample=1.0 will be ignored. Current value: bagging_fraction=0.8\n",
      "[LightGBM] [Warning] feature_fraction is set=1.0, colsample_bytree=1.0 will be ignored. Current value: feature_fraction=1.0\n",
      "[LightGBM] [Warning] bagging_fraction is set=0.8, subsample=1.0 will be ignored. Current value: bagging_fraction=0.8\n"
     ]
    },
    {
     "name": "stderr",
     "output_type": "stream",
     "text": [
      "\u001b[32m[I 2022-07-23 16:48:51,902]\u001b[0m Trial 537 finished with value: 0.7597419416730622 and parameters: {'feature_fraction': 1.0, 'feature_fraction_bynode': 0.7, 'max_depth': 200, 'min_child_samples': 150, 'bagging_fraction': 0.8, 'num_leaves': 72, 'learning_rate': 0.1, 'max_bin': 1000}. Best is trial 318 with value: 0.7597419416730622.\u001b[0m\n"
     ]
    },
    {
     "name": "stdout",
     "output_type": "stream",
     "text": [
      "[LightGBM] [Warning] feature_fraction is set=1.0, colsample_bytree=1.0 will be ignored. Current value: feature_fraction=1.0\n",
      "[LightGBM] [Warning] bagging_fraction is set=0.8, subsample=1.0 will be ignored. Current value: bagging_fraction=0.8\n",
      "[LightGBM] [Warning] feature_fraction is set=1.0, colsample_bytree=1.0 will be ignored. Current value: feature_fraction=1.0\n",
      "[LightGBM] [Warning] bagging_fraction is set=0.8, subsample=1.0 will be ignored. Current value: bagging_fraction=0.8\n"
     ]
    },
    {
     "name": "stderr",
     "output_type": "stream",
     "text": [
      "\u001b[32m[I 2022-07-23 16:49:29,151]\u001b[0m Trial 538 finished with value: 0.758960092095165 and parameters: {'feature_fraction': 1.0, 'feature_fraction_bynode': 0.7, 'max_depth': 200, 'min_child_samples': 150, 'bagging_fraction': 0.8, 'num_leaves': 82, 'learning_rate': 0.1, 'max_bin': 1000}. Best is trial 318 with value: 0.7597419416730622.\u001b[0m\n"
     ]
    },
    {
     "name": "stdout",
     "output_type": "stream",
     "text": [
      "[LightGBM] [Warning] feature_fraction is set=0.9, colsample_bytree=1.0 will be ignored. Current value: feature_fraction=0.9\n",
      "[LightGBM] [Warning] bagging_fraction is set=0.8, subsample=1.0 will be ignored. Current value: bagging_fraction=0.8\n",
      "[LightGBM] [Warning] feature_fraction is set=0.9, colsample_bytree=1.0 will be ignored. Current value: feature_fraction=0.9\n",
      "[LightGBM] [Warning] bagging_fraction is set=0.8, subsample=1.0 will be ignored. Current value: bagging_fraction=0.8\n"
     ]
    },
    {
     "name": "stderr",
     "output_type": "stream",
     "text": [
      "\u001b[32m[I 2022-07-23 16:50:02,145]\u001b[0m Trial 539 finished with value: 0.7585811588641596 and parameters: {'feature_fraction': 0.9, 'feature_fraction_bynode': 0.7, 'max_depth': 400, 'min_child_samples': 150, 'bagging_fraction': 0.8, 'num_leaves': 62, 'learning_rate': 0.1, 'max_bin': 2000}. Best is trial 318 with value: 0.7597419416730622.\u001b[0m\n"
     ]
    },
    {
     "name": "stdout",
     "output_type": "stream",
     "text": [
      "[LightGBM] [Warning] feature_fraction is set=1.0, colsample_bytree=1.0 will be ignored. Current value: feature_fraction=1.0\n",
      "[LightGBM] [Warning] bagging_fraction is set=0.8, subsample=1.0 will be ignored. Current value: bagging_fraction=0.8\n",
      "[LightGBM] [Warning] feature_fraction is set=1.0, colsample_bytree=1.0 will be ignored. Current value: feature_fraction=1.0\n",
      "[LightGBM] [Warning] bagging_fraction is set=0.8, subsample=1.0 will be ignored. Current value: bagging_fraction=0.8\n"
     ]
    },
    {
     "name": "stderr",
     "output_type": "stream",
     "text": [
      "\u001b[32m[I 2022-07-23 16:50:28,032]\u001b[0m Trial 540 finished with value: 0.7572812739831158 and parameters: {'feature_fraction': 1.0, 'feature_fraction_bynode': 0.7, 'max_depth': 250, 'min_child_samples': 150, 'bagging_fraction': 0.8, 'num_leaves': 72, 'learning_rate': 0.2, 'max_bin': 1000}. Best is trial 318 with value: 0.7597419416730622.\u001b[0m\n"
     ]
    },
    {
     "name": "stdout",
     "output_type": "stream",
     "text": [
      "[LightGBM] [Warning] feature_fraction is set=1.0, colsample_bytree=1.0 will be ignored. Current value: feature_fraction=1.0\n",
      "[LightGBM] [Warning] bagging_fraction is set=0.8, subsample=1.0 will be ignored. Current value: bagging_fraction=0.8\n",
      "[LightGBM] [Warning] feature_fraction is set=1.0, colsample_bytree=1.0 will be ignored. Current value: feature_fraction=1.0\n",
      "[LightGBM] [Warning] bagging_fraction is set=0.8, subsample=1.0 will be ignored. Current value: bagging_fraction=0.8\n"
     ]
    },
    {
     "name": "stderr",
     "output_type": "stream",
     "text": [
      "\u001b[32m[I 2022-07-23 16:51:01,241]\u001b[0m Trial 541 finished with value: 0.7597419416730622 and parameters: {'feature_fraction': 1.0, 'feature_fraction_bynode': 0.7, 'max_depth': 450, 'min_child_samples': 150, 'bagging_fraction': 0.8, 'num_leaves': 72, 'learning_rate': 0.1, 'max_bin': 1000}. Best is trial 318 with value: 0.7597419416730622.\u001b[0m\n"
     ]
    },
    {
     "name": "stdout",
     "output_type": "stream",
     "text": [
      "[LightGBM] [Warning] feature_fraction is set=1.0, colsample_bytree=1.0 will be ignored. Current value: feature_fraction=1.0\n",
      "[LightGBM] [Warning] bagging_fraction is set=0.8, subsample=1.0 will be ignored. Current value: bagging_fraction=0.8\n",
      "[LightGBM] [Warning] feature_fraction is set=1.0, colsample_bytree=1.0 will be ignored. Current value: feature_fraction=1.0\n",
      "[LightGBM] [Warning] bagging_fraction is set=0.8, subsample=1.0 will be ignored. Current value: bagging_fraction=0.8\n"
     ]
    },
    {
     "name": "stderr",
     "output_type": "stream",
     "text": [
      "\u001b[32m[I 2022-07-23 16:51:29,022]\u001b[0m Trial 542 finished with value: 0.7597419416730622 and parameters: {'feature_fraction': 1.0, 'feature_fraction_bynode': 0.7, 'max_depth': 200, 'min_child_samples': 150, 'bagging_fraction': 0.8, 'num_leaves': 72, 'learning_rate': 0.1, 'max_bin': 1000}. Best is trial 318 with value: 0.7597419416730622.\u001b[0m\n"
     ]
    },
    {
     "name": "stdout",
     "output_type": "stream",
     "text": [
      "[LightGBM] [Warning] feature_fraction is set=1.0, colsample_bytree=1.0 will be ignored. Current value: feature_fraction=1.0\n",
      "[LightGBM] [Warning] bagging_fraction is set=0.8, subsample=1.0 will be ignored. Current value: bagging_fraction=0.8\n",
      "[LightGBM] [Warning] feature_fraction is set=1.0, colsample_bytree=1.0 will be ignored. Current value: feature_fraction=1.0\n",
      "[LightGBM] [Warning] bagging_fraction is set=0.8, subsample=1.0 will be ignored. Current value: bagging_fraction=0.8\n"
     ]
    },
    {
     "name": "stderr",
     "output_type": "stream",
     "text": [
      "\u001b[32m[I 2022-07-23 16:51:50,276]\u001b[0m Trial 543 finished with value: 0.7405506523407521 and parameters: {'feature_fraction': 1.0, 'feature_fraction_bynode': 0.7, 'max_depth': 250, 'min_child_samples': 150, 'bagging_fraction': 0.8, 'num_leaves': 72, 'learning_rate': 0.7000000000000001, 'max_bin': 1000}. Best is trial 318 with value: 0.7597419416730622.\u001b[0m\n"
     ]
    },
    {
     "name": "stdout",
     "output_type": "stream",
     "text": [
      "[LightGBM] [Warning] feature_fraction is set=1.0, colsample_bytree=1.0 will be ignored. Current value: feature_fraction=1.0\n",
      "[LightGBM] [Warning] bagging_fraction is set=0.8, subsample=1.0 will be ignored. Current value: bagging_fraction=0.8\n",
      "[LightGBM] [Warning] feature_fraction is set=1.0, colsample_bytree=1.0 will be ignored. Current value: feature_fraction=1.0\n",
      "[LightGBM] [Warning] bagging_fraction is set=0.8, subsample=1.0 will be ignored. Current value: bagging_fraction=0.8\n"
     ]
    },
    {
     "name": "stderr",
     "output_type": "stream",
     "text": [
      "\u001b[32m[I 2022-07-23 16:52:15,339]\u001b[0m Trial 544 finished with value: 0.7597419416730622 and parameters: {'feature_fraction': 1.0, 'feature_fraction_bynode': 0.7, 'max_depth': 200, 'min_child_samples': 150, 'bagging_fraction': 0.8, 'num_leaves': 72, 'learning_rate': 0.1, 'max_bin': 1000}. Best is trial 318 with value: 0.7597419416730622.\u001b[0m\n"
     ]
    },
    {
     "name": "stdout",
     "output_type": "stream",
     "text": [
      "[LightGBM] [Warning] feature_fraction is set=1.0, colsample_bytree=1.0 will be ignored. Current value: feature_fraction=1.0\n",
      "[LightGBM] [Warning] bagging_fraction is set=0.8, subsample=1.0 will be ignored. Current value: bagging_fraction=0.8\n",
      "[LightGBM] [Warning] feature_fraction is set=1.0, colsample_bytree=1.0 will be ignored. Current value: feature_fraction=1.0\n",
      "[LightGBM] [Warning] bagging_fraction is set=0.8, subsample=1.0 will be ignored. Current value: bagging_fraction=0.8\n"
     ]
    },
    {
     "name": "stderr",
     "output_type": "stream",
     "text": [
      "\u001b[32m[I 2022-07-23 16:52:37,005]\u001b[0m Trial 545 finished with value: 0.7597419416730622 and parameters: {'feature_fraction': 1.0, 'feature_fraction_bynode': 0.7, 'max_depth': 200, 'min_child_samples': 150, 'bagging_fraction': 0.8, 'num_leaves': 72, 'learning_rate': 0.1, 'max_bin': 1000}. Best is trial 318 with value: 0.7597419416730622.\u001b[0m\n"
     ]
    },
    {
     "name": "stdout",
     "output_type": "stream",
     "text": [
      "[LightGBM] [Warning] feature_fraction is set=1.0, colsample_bytree=1.0 will be ignored. Current value: feature_fraction=1.0\n",
      "[LightGBM] [Warning] bagging_fraction is set=0.8, subsample=1.0 will be ignored. Current value: bagging_fraction=0.8\n",
      "[LightGBM] [Warning] feature_fraction is set=1.0, colsample_bytree=1.0 will be ignored. Current value: feature_fraction=1.0\n",
      "[LightGBM] [Warning] bagging_fraction is set=0.8, subsample=1.0 will be ignored. Current value: bagging_fraction=0.8\n"
     ]
    },
    {
     "name": "stderr",
     "output_type": "stream",
     "text": [
      "\u001b[32m[I 2022-07-23 16:52:59,225]\u001b[0m Trial 546 finished with value: 0.7597419416730622 and parameters: {'feature_fraction': 1.0, 'feature_fraction_bynode': 0.7, 'max_depth': 200, 'min_child_samples': 150, 'bagging_fraction': 0.8, 'num_leaves': 72, 'learning_rate': 0.1, 'max_bin': 1000}. Best is trial 318 with value: 0.7597419416730622.\u001b[0m\n"
     ]
    },
    {
     "name": "stdout",
     "output_type": "stream",
     "text": [
      "[LightGBM] [Warning] feature_fraction is set=1.0, colsample_bytree=1.0 will be ignored. Current value: feature_fraction=1.0\n",
      "[LightGBM] [Warning] bagging_fraction is set=0.8, subsample=1.0 will be ignored. Current value: bagging_fraction=0.8\n",
      "[LightGBM] [Warning] feature_fraction is set=1.0, colsample_bytree=1.0 will be ignored. Current value: feature_fraction=1.0\n",
      "[LightGBM] [Warning] bagging_fraction is set=0.8, subsample=1.0 will be ignored. Current value: bagging_fraction=0.8\n"
     ]
    },
    {
     "name": "stderr",
     "output_type": "stream",
     "text": [
      "\u001b[32m[I 2022-07-23 16:53:21,192]\u001b[0m Trial 547 finished with value: 0.7597419416730622 and parameters: {'feature_fraction': 1.0, 'feature_fraction_bynode': 0.7, 'max_depth': 200, 'min_child_samples': 150, 'bagging_fraction': 0.8, 'num_leaves': 72, 'learning_rate': 0.1, 'max_bin': 1000}. Best is trial 318 with value: 0.7597419416730622.\u001b[0m\n"
     ]
    },
    {
     "name": "stdout",
     "output_type": "stream",
     "text": [
      "[LightGBM] [Warning] feature_fraction is set=1.0, colsample_bytree=1.0 will be ignored. Current value: feature_fraction=1.0\n",
      "[LightGBM] [Warning] bagging_fraction is set=0.8, subsample=1.0 will be ignored. Current value: bagging_fraction=0.8\n",
      "[LightGBM] [Warning] feature_fraction is set=1.0, colsample_bytree=1.0 will be ignored. Current value: feature_fraction=1.0\n",
      "[LightGBM] [Warning] bagging_fraction is set=0.8, subsample=1.0 will be ignored. Current value: bagging_fraction=0.8\n"
     ]
    },
    {
     "name": "stderr",
     "output_type": "stream",
     "text": [
      "\u001b[32m[I 2022-07-23 16:53:45,886]\u001b[0m Trial 548 finished with value: 0.7597419416730622 and parameters: {'feature_fraction': 1.0, 'feature_fraction_bynode': 0.7, 'max_depth': 350, 'min_child_samples': 150, 'bagging_fraction': 0.8, 'num_leaves': 72, 'learning_rate': 0.1, 'max_bin': 1000}. Best is trial 318 with value: 0.7597419416730622.\u001b[0m\n"
     ]
    },
    {
     "name": "stdout",
     "output_type": "stream",
     "text": [
      "[LightGBM] [Warning] feature_fraction is set=1.0, colsample_bytree=1.0 will be ignored. Current value: feature_fraction=1.0\n",
      "[LightGBM] [Warning] bagging_fraction is set=0.8, subsample=1.0 will be ignored. Current value: bagging_fraction=0.8\n",
      "[LightGBM] [Warning] feature_fraction is set=1.0, colsample_bytree=1.0 will be ignored. Current value: feature_fraction=1.0\n",
      "[LightGBM] [Warning] bagging_fraction is set=0.8, subsample=1.0 will be ignored. Current value: bagging_fraction=0.8\n"
     ]
    },
    {
     "name": "stderr",
     "output_type": "stream",
     "text": [
      "\u001b[32m[I 2022-07-23 16:54:17,549]\u001b[0m Trial 549 finished with value: 0.758960092095165 and parameters: {'feature_fraction': 1.0, 'feature_fraction_bynode': 0.7, 'max_depth': 350, 'min_child_samples': 150, 'bagging_fraction': 0.8, 'num_leaves': 82, 'learning_rate': 0.1, 'max_bin': 1000}. Best is trial 318 with value: 0.7597419416730622.\u001b[0m\n"
     ]
    },
    {
     "name": "stdout",
     "output_type": "stream",
     "text": [
      "[LightGBM] [Warning] feature_fraction is set=1.0, colsample_bytree=1.0 will be ignored. Current value: feature_fraction=1.0\n",
      "[LightGBM] [Warning] bagging_fraction is set=0.8, subsample=1.0 will be ignored. Current value: bagging_fraction=0.8\n",
      "[LightGBM] [Warning] feature_fraction is set=1.0, colsample_bytree=1.0 will be ignored. Current value: feature_fraction=1.0\n",
      "[LightGBM] [Warning] bagging_fraction is set=0.8, subsample=1.0 will be ignored. Current value: bagging_fraction=0.8\n"
     ]
    },
    {
     "name": "stderr",
     "output_type": "stream",
     "text": [
      "\u001b[32m[I 2022-07-23 16:54:36,897]\u001b[0m Trial 550 finished with value: 0.7581302762854949 and parameters: {'feature_fraction': 1.0, 'feature_fraction_bynode': 0.6, 'max_depth': 450, 'min_child_samples': 150, 'bagging_fraction': 0.8, 'num_leaves': 22, 'learning_rate': 0.1, 'max_bin': 1000}. Best is trial 318 with value: 0.7597419416730622.\u001b[0m\n"
     ]
    },
    {
     "name": "stdout",
     "output_type": "stream",
     "text": [
      "[LightGBM] [Warning] feature_fraction is set=1.0, colsample_bytree=1.0 will be ignored. Current value: feature_fraction=1.0\n",
      "[LightGBM] [Warning] bagging_fraction is set=0.8, subsample=1.0 will be ignored. Current value: bagging_fraction=0.8\n",
      "[LightGBM] [Warning] feature_fraction is set=1.0, colsample_bytree=1.0 will be ignored. Current value: feature_fraction=1.0\n",
      "[LightGBM] [Warning] bagging_fraction is set=0.8, subsample=1.0 will be ignored. Current value: bagging_fraction=0.8\n"
     ]
    },
    {
     "name": "stderr",
     "output_type": "stream",
     "text": [
      "\u001b[32m[I 2022-07-23 16:55:01,404]\u001b[0m Trial 551 finished with value: 0.7590752110514197 and parameters: {'feature_fraction': 1.0, 'feature_fraction_bynode': 0.7, 'max_depth': 250, 'min_child_samples': 150, 'bagging_fraction': 0.8, 'num_leaves': 62, 'learning_rate': 0.1, 'max_bin': 8000}. Best is trial 318 with value: 0.7597419416730622.\u001b[0m\n"
     ]
    },
    {
     "name": "stdout",
     "output_type": "stream",
     "text": [
      "[LightGBM] [Warning] feature_fraction is set=1.0, colsample_bytree=1.0 will be ignored. Current value: feature_fraction=1.0\n",
      "[LightGBM] [Warning] bagging_fraction is set=0.8, subsample=1.0 will be ignored. Current value: bagging_fraction=0.8\n",
      "[LightGBM] [Warning] feature_fraction is set=1.0, colsample_bytree=1.0 will be ignored. Current value: feature_fraction=1.0\n",
      "[LightGBM] [Warning] bagging_fraction is set=0.8, subsample=1.0 will be ignored. Current value: bagging_fraction=0.8\n"
     ]
    },
    {
     "name": "stderr",
     "output_type": "stream",
     "text": [
      "\u001b[32m[I 2022-07-23 16:55:23,662]\u001b[0m Trial 552 finished with value: 0.7455631235610131 and parameters: {'feature_fraction': 1.0, 'feature_fraction_bynode': 0.7, 'max_depth': 200, 'min_child_samples': 150, 'bagging_fraction': 0.8, 'num_leaves': 72, 'learning_rate': 0.6, 'max_bin': 2000}. Best is trial 318 with value: 0.7597419416730622.\u001b[0m\n"
     ]
    },
    {
     "name": "stdout",
     "output_type": "stream",
     "text": [
      "[LightGBM] [Warning] feature_fraction is set=1.0, colsample_bytree=1.0 will be ignored. Current value: feature_fraction=1.0\n",
      "[LightGBM] [Warning] bagging_fraction is set=0.8, subsample=1.0 will be ignored. Current value: bagging_fraction=0.8\n",
      "[LightGBM] [Warning] feature_fraction is set=1.0, colsample_bytree=1.0 will be ignored. Current value: feature_fraction=1.0\n",
      "[LightGBM] [Warning] bagging_fraction is set=0.8, subsample=1.0 will be ignored. Current value: bagging_fraction=0.8\n"
     ]
    },
    {
     "name": "stderr",
     "output_type": "stream",
     "text": [
      "\u001b[32m[I 2022-07-23 16:55:45,771]\u001b[0m Trial 553 finished with value: 0.7597419416730622 and parameters: {'feature_fraction': 1.0, 'feature_fraction_bynode': 0.7, 'max_depth': 200, 'min_child_samples': 150, 'bagging_fraction': 0.8, 'num_leaves': 72, 'learning_rate': 0.1, 'max_bin': 1000}. Best is trial 318 with value: 0.7597419416730622.\u001b[0m\n"
     ]
    },
    {
     "name": "stdout",
     "output_type": "stream",
     "text": [
      "[LightGBM] [Warning] feature_fraction is set=0.8, colsample_bytree=1.0 will be ignored. Current value: feature_fraction=0.8\n",
      "[LightGBM] [Warning] bagging_fraction is set=0.8, subsample=1.0 will be ignored. Current value: bagging_fraction=0.8\n",
      "[LightGBM] [Warning] feature_fraction is set=0.8, colsample_bytree=1.0 will be ignored. Current value: feature_fraction=0.8\n",
      "[LightGBM] [Warning] bagging_fraction is set=0.8, subsample=1.0 will be ignored. Current value: bagging_fraction=0.8\n"
     ]
    },
    {
     "name": "stderr",
     "output_type": "stream",
     "text": [
      "\u001b[32m[I 2022-07-23 16:56:15,077]\u001b[0m Trial 554 finished with value: 0.7589792785878742 and parameters: {'feature_fraction': 0.8, 'feature_fraction_bynode': 0.7, 'max_depth': 200, 'min_child_samples': 150, 'bagging_fraction': 0.8, 'num_leaves': 72, 'learning_rate': 0.1, 'max_bin': 1000}. Best is trial 318 with value: 0.7597419416730622.\u001b[0m\n"
     ]
    },
    {
     "name": "stdout",
     "output_type": "stream",
     "text": [
      "[LightGBM] [Warning] feature_fraction is set=1.0, colsample_bytree=1.0 will be ignored. Current value: feature_fraction=1.0\n",
      "[LightGBM] [Warning] bagging_fraction is set=0.8, subsample=1.0 will be ignored. Current value: bagging_fraction=0.8\n",
      "[LightGBM] [Warning] feature_fraction is set=1.0, colsample_bytree=1.0 will be ignored. Current value: feature_fraction=1.0\n",
      "[LightGBM] [Warning] bagging_fraction is set=0.8, subsample=1.0 will be ignored. Current value: bagging_fraction=0.8\n"
     ]
    },
    {
     "name": "stderr",
     "output_type": "stream",
     "text": [
      "\u001b[32m[I 2022-07-23 16:56:42,915]\u001b[0m Trial 555 finished with value: 0.7235514198004606 and parameters: {'feature_fraction': 1.0, 'feature_fraction_bynode': 0.7, 'max_depth': 400, 'min_child_samples': 150, 'bagging_fraction': 0.8, 'num_leaves': 72, 'learning_rate': 0.9, 'max_bin': 1000}. Best is trial 318 with value: 0.7597419416730622.\u001b[0m\n"
     ]
    },
    {
     "name": "stdout",
     "output_type": "stream",
     "text": [
      "[LightGBM] [Warning] feature_fraction is set=1.0, colsample_bytree=1.0 will be ignored. Current value: feature_fraction=1.0\n",
      "[LightGBM] [Warning] bagging_fraction is set=0.8, subsample=1.0 will be ignored. Current value: bagging_fraction=0.8\n",
      "[LightGBM] [Warning] feature_fraction is set=1.0, colsample_bytree=1.0 will be ignored. Current value: feature_fraction=1.0\n",
      "[LightGBM] [Warning] bagging_fraction is set=0.8, subsample=1.0 will be ignored. Current value: bagging_fraction=0.8\n"
     ]
    },
    {
     "name": "stderr",
     "output_type": "stream",
     "text": [
      "\u001b[32m[I 2022-07-23 16:57:10,681]\u001b[0m Trial 556 finished with value: 0.7572189178818113 and parameters: {'feature_fraction': 1.0, 'feature_fraction_bynode': 0.8, 'max_depth': 200, 'min_child_samples': 150, 'bagging_fraction': 0.8, 'num_leaves': 72, 'learning_rate': 0.2, 'max_bin': 1000}. Best is trial 318 with value: 0.7597419416730622.\u001b[0m\n"
     ]
    },
    {
     "name": "stdout",
     "output_type": "stream",
     "text": [
      "[LightGBM] [Warning] feature_fraction is set=1.0, colsample_bytree=1.0 will be ignored. Current value: feature_fraction=1.0\n",
      "[LightGBM] [Warning] bagging_fraction is set=0.8, subsample=1.0 will be ignored. Current value: bagging_fraction=0.8\n",
      "[LightGBM] [Warning] feature_fraction is set=1.0, colsample_bytree=1.0 will be ignored. Current value: feature_fraction=1.0\n",
      "[LightGBM] [Warning] bagging_fraction is set=0.8, subsample=1.0 will be ignored. Current value: bagging_fraction=0.8\n"
     ]
    },
    {
     "name": "stderr",
     "output_type": "stream",
     "text": [
      "\u001b[32m[I 2022-07-23 16:57:35,583]\u001b[0m Trial 557 finished with value: 0.7592478894858019 and parameters: {'feature_fraction': 1.0, 'feature_fraction_bynode': 0.7, 'max_depth': 200, 'min_child_samples': 150, 'bagging_fraction': 0.8, 'num_leaves': 72, 'learning_rate': 0.1, 'max_bin': 2000}. Best is trial 318 with value: 0.7597419416730622.\u001b[0m\n"
     ]
    },
    {
     "name": "stdout",
     "output_type": "stream",
     "text": [
      "[LightGBM] [Warning] feature_fraction is set=1.0, colsample_bytree=1.0 will be ignored. Current value: feature_fraction=1.0\n",
      "[LightGBM] [Warning] bagging_fraction is set=0.8, subsample=1.0 will be ignored. Current value: bagging_fraction=0.8\n",
      "[LightGBM] [Warning] feature_fraction is set=1.0, colsample_bytree=1.0 will be ignored. Current value: feature_fraction=1.0\n",
      "[LightGBM] [Warning] bagging_fraction is set=0.8, subsample=1.0 will be ignored. Current value: bagging_fraction=0.8\n"
     ]
    },
    {
     "name": "stderr",
     "output_type": "stream",
     "text": [
      "\u001b[32m[I 2022-07-23 16:57:58,585]\u001b[0m Trial 558 finished with value: 0.7597419416730622 and parameters: {'feature_fraction': 1.0, 'feature_fraction_bynode': 0.7, 'max_depth': 500, 'min_child_samples': 150, 'bagging_fraction': 0.8, 'num_leaves': 72, 'learning_rate': 0.1, 'max_bin': 1000}. Best is trial 318 with value: 0.7597419416730622.\u001b[0m\n"
     ]
    },
    {
     "name": "stdout",
     "output_type": "stream",
     "text": [
      "[LightGBM] [Warning] feature_fraction is set=0.9, colsample_bytree=1.0 will be ignored. Current value: feature_fraction=0.9\n",
      "[LightGBM] [Warning] bagging_fraction is set=0.8, subsample=1.0 will be ignored. Current value: bagging_fraction=0.8\n",
      "[LightGBM] [Warning] feature_fraction is set=0.9, colsample_bytree=1.0 will be ignored. Current value: feature_fraction=0.9\n",
      "[LightGBM] [Warning] bagging_fraction is set=0.8, subsample=1.0 will be ignored. Current value: bagging_fraction=0.8\n"
     ]
    },
    {
     "name": "stderr",
     "output_type": "stream",
     "text": [
      "\u001b[32m[I 2022-07-23 16:58:21,566]\u001b[0m Trial 559 finished with value: 0.7586627014581734 and parameters: {'feature_fraction': 0.9, 'feature_fraction_bynode': 0.7, 'max_depth': 500, 'min_child_samples': 150, 'bagging_fraction': 0.8, 'num_leaves': 82, 'learning_rate': 0.1, 'max_bin': 1000}. Best is trial 318 with value: 0.7597419416730622.\u001b[0m\n"
     ]
    },
    {
     "name": "stdout",
     "output_type": "stream",
     "text": [
      "[LightGBM] [Warning] feature_fraction is set=1.0, colsample_bytree=1.0 will be ignored. Current value: feature_fraction=1.0\n",
      "[LightGBM] [Warning] bagging_fraction is set=0.8, subsample=1.0 will be ignored. Current value: bagging_fraction=0.8\n",
      "[LightGBM] [Warning] feature_fraction is set=1.0, colsample_bytree=1.0 will be ignored. Current value: feature_fraction=1.0\n",
      "[LightGBM] [Warning] bagging_fraction is set=0.8, subsample=1.0 will be ignored. Current value: bagging_fraction=0.8\n"
     ]
    },
    {
     "name": "stderr",
     "output_type": "stream",
     "text": [
      "\u001b[32m[I 2022-07-23 16:58:44,130]\u001b[0m Trial 560 finished with value: 0.7589984650805832 and parameters: {'feature_fraction': 1.0, 'feature_fraction_bynode': 0.7, 'max_depth': 200, 'min_child_samples': 150, 'bagging_fraction': 0.8, 'num_leaves': 62, 'learning_rate': 0.1, 'max_bin': 1000}. Best is trial 318 with value: 0.7597419416730622.\u001b[0m\n"
     ]
    },
    {
     "name": "stdout",
     "output_type": "stream",
     "text": [
      "[LightGBM] [Warning] feature_fraction is set=1.0, colsample_bytree=1.0 will be ignored. Current value: feature_fraction=1.0\n",
      "[LightGBM] [Warning] bagging_fraction is set=0.8, subsample=1.0 will be ignored. Current value: bagging_fraction=0.8\n",
      "[LightGBM] [Warning] feature_fraction is set=1.0, colsample_bytree=1.0 will be ignored. Current value: feature_fraction=1.0\n",
      "[LightGBM] [Warning] bagging_fraction is set=0.8, subsample=1.0 will be ignored. Current value: bagging_fraction=0.8\n"
     ]
    },
    {
     "name": "stderr",
     "output_type": "stream",
     "text": [
      "\u001b[32m[I 2022-07-23 16:59:15,910]\u001b[0m Trial 561 finished with value: 0.7597419416730622 and parameters: {'feature_fraction': 1.0, 'feature_fraction_bynode': 0.7, 'max_depth': 250, 'min_child_samples': 150, 'bagging_fraction': 0.8, 'num_leaves': 72, 'learning_rate': 0.1, 'max_bin': 1000}. Best is trial 318 with value: 0.7597419416730622.\u001b[0m\n"
     ]
    },
    {
     "name": "stdout",
     "output_type": "stream",
     "text": [
      "[LightGBM] [Warning] feature_fraction is set=1.0, colsample_bytree=1.0 will be ignored. Current value: feature_fraction=1.0\n",
      "[LightGBM] [Warning] bagging_fraction is set=0.8, subsample=1.0 will be ignored. Current value: bagging_fraction=0.8\n",
      "[LightGBM] [Warning] feature_fraction is set=1.0, colsample_bytree=1.0 will be ignored. Current value: feature_fraction=1.0\n",
      "[LightGBM] [Warning] bagging_fraction is set=0.8, subsample=1.0 will be ignored. Current value: bagging_fraction=0.8\n"
     ]
    },
    {
     "name": "stderr",
     "output_type": "stream",
     "text": [
      "\u001b[32m[I 2022-07-23 16:59:39,266]\u001b[0m Trial 562 finished with value: 0.7484794704528013 and parameters: {'feature_fraction': 1.0, 'feature_fraction_bynode': 0.7, 'max_depth': 200, 'min_child_samples': 150, 'bagging_fraction': 0.8, 'num_leaves': 72, 'learning_rate': 0.5, 'max_bin': 1000}. Best is trial 318 with value: 0.7597419416730622.\u001b[0m\n"
     ]
    },
    {
     "name": "stdout",
     "output_type": "stream",
     "text": [
      "[LightGBM] [Warning] feature_fraction is set=1.0, colsample_bytree=1.0 will be ignored. Current value: feature_fraction=1.0\n",
      "[LightGBM] [Warning] bagging_fraction is set=0.8, subsample=1.0 will be ignored. Current value: bagging_fraction=0.8\n",
      "[LightGBM] [Warning] feature_fraction is set=1.0, colsample_bytree=1.0 will be ignored. Current value: feature_fraction=1.0\n",
      "[LightGBM] [Warning] bagging_fraction is set=0.8, subsample=1.0 will be ignored. Current value: bagging_fraction=0.8\n"
     ]
    },
    {
     "name": "stderr",
     "output_type": "stream",
     "text": [
      "\u001b[32m[I 2022-07-23 17:00:05,868]\u001b[0m Trial 563 finished with value: 0.7597419416730622 and parameters: {'feature_fraction': 1.0, 'feature_fraction_bynode': 0.7, 'max_depth': 200, 'min_child_samples': 150, 'bagging_fraction': 0.8, 'num_leaves': 72, 'learning_rate': 0.1, 'max_bin': 1000}. Best is trial 318 with value: 0.7597419416730622.\u001b[0m\n"
     ]
    },
    {
     "name": "stdout",
     "output_type": "stream",
     "text": [
      "[LightGBM] [Warning] feature_fraction is set=1.0, colsample_bytree=1.0 will be ignored. Current value: feature_fraction=1.0\n",
      "[LightGBM] [Warning] bagging_fraction is set=0.8, subsample=1.0 will be ignored. Current value: bagging_fraction=0.8\n",
      "[LightGBM] [Warning] feature_fraction is set=1.0, colsample_bytree=1.0 will be ignored. Current value: feature_fraction=1.0\n",
      "[LightGBM] [Warning] bagging_fraction is set=0.8, subsample=1.0 will be ignored. Current value: bagging_fraction=0.8\n"
     ]
    },
    {
     "name": "stderr",
     "output_type": "stream",
     "text": [
      "\u001b[32m[I 2022-07-23 17:00:30,691]\u001b[0m Trial 564 finished with value: 0.7572812739831158 and parameters: {'feature_fraction': 1.0, 'feature_fraction_bynode': 0.7, 'max_depth': 200, 'min_child_samples': 150, 'bagging_fraction': 0.8, 'num_leaves': 72, 'learning_rate': 0.2, 'max_bin': 1000}. Best is trial 318 with value: 0.7597419416730622.\u001b[0m\n"
     ]
    },
    {
     "name": "stdout",
     "output_type": "stream",
     "text": [
      "[LightGBM] [Warning] feature_fraction is set=1.0, colsample_bytree=1.0 will be ignored. Current value: feature_fraction=1.0\n",
      "[LightGBM] [Warning] bagging_fraction is set=0.8, subsample=1.0 will be ignored. Current value: bagging_fraction=0.8\n",
      "[LightGBM] [Warning] feature_fraction is set=1.0, colsample_bytree=1.0 will be ignored. Current value: feature_fraction=1.0\n",
      "[LightGBM] [Warning] bagging_fraction is set=0.8, subsample=1.0 will be ignored. Current value: bagging_fraction=0.8\n"
     ]
    },
    {
     "name": "stderr",
     "output_type": "stream",
     "text": [
      "\u001b[32m[I 2022-07-23 17:00:59,193]\u001b[0m Trial 565 finished with value: 0.758960092095165 and parameters: {'feature_fraction': 1.0, 'feature_fraction_bynode': 0.7, 'max_depth': 250, 'min_child_samples': 150, 'bagging_fraction': 0.8, 'num_leaves': 82, 'learning_rate': 0.1, 'max_bin': 1000}. Best is trial 318 with value: 0.7597419416730622.\u001b[0m\n"
     ]
    },
    {
     "name": "stdout",
     "output_type": "stream",
     "text": [
      "[LightGBM] [Warning] feature_fraction is set=1.0, colsample_bytree=1.0 will be ignored. Current value: feature_fraction=1.0\n",
      "[LightGBM] [Warning] bagging_fraction is set=0.8, subsample=1.0 will be ignored. Current value: bagging_fraction=0.8\n",
      "[LightGBM] [Warning] feature_fraction is set=1.0, colsample_bytree=1.0 will be ignored. Current value: feature_fraction=1.0\n",
      "[LightGBM] [Warning] bagging_fraction is set=0.8, subsample=1.0 will be ignored. Current value: bagging_fraction=0.8\n"
     ]
    },
    {
     "name": "stderr",
     "output_type": "stream",
     "text": [
      "\u001b[32m[I 2022-07-23 17:01:25,527]\u001b[0m Trial 566 finished with value: 0.7597419416730622 and parameters: {'feature_fraction': 1.0, 'feature_fraction_bynode': 0.7, 'max_depth': 450, 'min_child_samples': 150, 'bagging_fraction': 0.8, 'num_leaves': 72, 'learning_rate': 0.1, 'max_bin': 1000}. Best is trial 318 with value: 0.7597419416730622.\u001b[0m\n"
     ]
    },
    {
     "name": "stdout",
     "output_type": "stream",
     "text": [
      "[LightGBM] [Warning] feature_fraction is set=1.0, colsample_bytree=1.0 will be ignored. Current value: feature_fraction=1.0\n",
      "[LightGBM] [Warning] bagging_fraction is set=0.8, subsample=1.0 will be ignored. Current value: bagging_fraction=0.8\n",
      "[LightGBM] [Warning] feature_fraction is set=1.0, colsample_bytree=1.0 will be ignored. Current value: feature_fraction=1.0\n",
      "[LightGBM] [Warning] bagging_fraction is set=0.8, subsample=1.0 will be ignored. Current value: bagging_fraction=0.8\n"
     ]
    },
    {
     "name": "stderr",
     "output_type": "stream",
     "text": [
      "\u001b[32m[I 2022-07-23 17:01:54,977]\u001b[0m Trial 567 finished with value: 0.7597419416730622 and parameters: {'feature_fraction': 1.0, 'feature_fraction_bynode': 0.7, 'max_depth': 200, 'min_child_samples': 150, 'bagging_fraction': 0.8, 'num_leaves': 72, 'learning_rate': 0.1, 'max_bin': 1000}. Best is trial 318 with value: 0.7597419416730622.\u001b[0m\n"
     ]
    },
    {
     "name": "stdout",
     "output_type": "stream",
     "text": [
      "[LightGBM] [Warning] feature_fraction is set=1.0, colsample_bytree=1.0 will be ignored. Current value: feature_fraction=1.0\n",
      "[LightGBM] [Warning] bagging_fraction is set=0.8, subsample=1.0 will be ignored. Current value: bagging_fraction=0.8\n",
      "[LightGBM] [Warning] feature_fraction is set=1.0, colsample_bytree=1.0 will be ignored. Current value: feature_fraction=1.0\n",
      "[LightGBM] [Warning] bagging_fraction is set=0.8, subsample=1.0 will be ignored. Current value: bagging_fraction=0.8\n"
     ]
    },
    {
     "name": "stderr",
     "output_type": "stream",
     "text": [
      "\u001b[32m[I 2022-07-23 17:02:17,701]\u001b[0m Trial 568 finished with value: 0.7589984650805832 and parameters: {'feature_fraction': 1.0, 'feature_fraction_bynode': 0.7, 'max_depth': 250, 'min_child_samples': 150, 'bagging_fraction': 0.8, 'num_leaves': 62, 'learning_rate': 0.1, 'max_bin': 1000}. Best is trial 318 with value: 0.7597419416730622.\u001b[0m\n"
     ]
    },
    {
     "name": "stdout",
     "output_type": "stream",
     "text": [
      "[LightGBM] [Warning] feature_fraction is set=1.0, colsample_bytree=1.0 will be ignored. Current value: feature_fraction=1.0\n",
      "[LightGBM] [Warning] bagging_fraction is set=0.8, subsample=1.0 will be ignored. Current value: bagging_fraction=0.8\n",
      "[LightGBM] [Warning] feature_fraction is set=1.0, colsample_bytree=1.0 will be ignored. Current value: feature_fraction=1.0\n",
      "[LightGBM] [Warning] bagging_fraction is set=0.8, subsample=1.0 will be ignored. Current value: bagging_fraction=0.8\n"
     ]
    },
    {
     "name": "stderr",
     "output_type": "stream",
     "text": [
      "\u001b[32m[I 2022-07-23 17:02:46,347]\u001b[0m Trial 569 finished with value: 0.7592478894858019 and parameters: {'feature_fraction': 1.0, 'feature_fraction_bynode': 0.7, 'max_depth': 200, 'min_child_samples': 150, 'bagging_fraction': 0.8, 'num_leaves': 72, 'learning_rate': 0.1, 'max_bin': 2000}. Best is trial 318 with value: 0.7597419416730622.\u001b[0m\n"
     ]
    },
    {
     "name": "stdout",
     "output_type": "stream",
     "text": [
      "[LightGBM] [Warning] feature_fraction is set=1.0, colsample_bytree=1.0 will be ignored. Current value: feature_fraction=1.0\n",
      "[LightGBM] [Warning] bagging_fraction is set=0.8, subsample=1.0 will be ignored. Current value: bagging_fraction=0.8\n",
      "[LightGBM] [Warning] feature_fraction is set=1.0, colsample_bytree=1.0 will be ignored. Current value: feature_fraction=1.0\n",
      "[LightGBM] [Warning] bagging_fraction is set=0.8, subsample=1.0 will be ignored. Current value: bagging_fraction=0.8\n"
     ]
    },
    {
     "name": "stderr",
     "output_type": "stream",
     "text": [
      "\u001b[32m[I 2022-07-23 17:03:21,606]\u001b[0m Trial 570 finished with value: 0.7597419416730622 and parameters: {'feature_fraction': 1.0, 'feature_fraction_bynode': 0.7, 'max_depth': 200, 'min_child_samples': 150, 'bagging_fraction': 0.8, 'num_leaves': 72, 'learning_rate': 0.1, 'max_bin': 1000}. Best is trial 318 with value: 0.7597419416730622.\u001b[0m\n"
     ]
    },
    {
     "name": "stdout",
     "output_type": "stream",
     "text": [
      "[LightGBM] [Warning] feature_fraction is set=1.0, colsample_bytree=1.0 will be ignored. Current value: feature_fraction=1.0\n",
      "[LightGBM] [Warning] bagging_fraction is set=0.8, subsample=1.0 will be ignored. Current value: bagging_fraction=0.8\n",
      "[LightGBM] [Warning] feature_fraction is set=1.0, colsample_bytree=1.0 will be ignored. Current value: feature_fraction=1.0\n",
      "[LightGBM] [Warning] bagging_fraction is set=0.8, subsample=1.0 will be ignored. Current value: bagging_fraction=0.8\n"
     ]
    },
    {
     "name": "stderr",
     "output_type": "stream",
     "text": [
      "\u001b[32m[I 2022-07-23 17:03:48,901]\u001b[0m Trial 571 finished with value: 0.7572812739831158 and parameters: {'feature_fraction': 1.0, 'feature_fraction_bynode': 0.7, 'max_depth': 200, 'min_child_samples': 150, 'bagging_fraction': 0.8, 'num_leaves': 72, 'learning_rate': 0.2, 'max_bin': 1000}. Best is trial 318 with value: 0.7597419416730622.\u001b[0m\n"
     ]
    },
    {
     "name": "stdout",
     "output_type": "stream",
     "text": [
      "[LightGBM] [Warning] feature_fraction is set=1.0, colsample_bytree=1.0 will be ignored. Current value: feature_fraction=1.0\n",
      "[LightGBM] [Warning] bagging_fraction is set=0.8, subsample=1.0 will be ignored. Current value: bagging_fraction=0.8\n",
      "[LightGBM] [Warning] feature_fraction is set=1.0, colsample_bytree=1.0 will be ignored. Current value: feature_fraction=1.0\n",
      "[LightGBM] [Warning] bagging_fraction is set=0.8, subsample=1.0 will be ignored. Current value: bagging_fraction=0.8\n"
     ]
    },
    {
     "name": "stderr",
     "output_type": "stream",
     "text": [
      "\u001b[32m[I 2022-07-23 17:04:07,891]\u001b[0m Trial 572 finished with value: 0.7590176515732924 and parameters: {'feature_fraction': 1.0, 'feature_fraction_bynode': 0.7, 'max_depth': 250, 'min_child_samples': 150, 'bagging_fraction': 0.8, 'num_leaves': 32, 'learning_rate': 0.1, 'max_bin': 1000}. Best is trial 318 with value: 0.7597419416730622.\u001b[0m\n"
     ]
    },
    {
     "name": "stdout",
     "output_type": "stream",
     "text": [
      "[LightGBM] [Warning] feature_fraction is set=1.0, colsample_bytree=1.0 will be ignored. Current value: feature_fraction=1.0\n",
      "[LightGBM] [Warning] bagging_fraction is set=0.8, subsample=1.0 will be ignored. Current value: bagging_fraction=0.8\n",
      "[LightGBM] [Warning] feature_fraction is set=1.0, colsample_bytree=1.0 will be ignored. Current value: feature_fraction=1.0\n",
      "[LightGBM] [Warning] bagging_fraction is set=0.8, subsample=1.0 will be ignored. Current value: bagging_fraction=0.8\n"
     ]
    },
    {
     "name": "stderr",
     "output_type": "stream",
     "text": [
      "\u001b[32m[I 2022-07-23 17:04:38,162]\u001b[0m Trial 573 finished with value: 0.7597419416730622 and parameters: {'feature_fraction': 1.0, 'feature_fraction_bynode': 0.7, 'max_depth': 200, 'min_child_samples': 150, 'bagging_fraction': 0.8, 'num_leaves': 72, 'learning_rate': 0.1, 'max_bin': 1000}. Best is trial 318 with value: 0.7597419416730622.\u001b[0m\n"
     ]
    },
    {
     "name": "stdout",
     "output_type": "stream",
     "text": [
      "[LightGBM] [Warning] feature_fraction is set=1.0, colsample_bytree=1.0 will be ignored. Current value: feature_fraction=1.0\n",
      "[LightGBM] [Warning] bagging_fraction is set=0.8, subsample=1.0 will be ignored. Current value: bagging_fraction=0.8\n",
      "[LightGBM] [Warning] feature_fraction is set=1.0, colsample_bytree=1.0 will be ignored. Current value: feature_fraction=1.0\n",
      "[LightGBM] [Warning] bagging_fraction is set=0.8, subsample=1.0 will be ignored. Current value: bagging_fraction=0.8\n"
     ]
    },
    {
     "name": "stderr",
     "output_type": "stream",
     "text": [
      "\u001b[32m[I 2022-07-23 17:05:01,713]\u001b[0m Trial 574 finished with value: 0.7597419416730622 and parameters: {'feature_fraction': 1.0, 'feature_fraction_bynode': 0.7, 'max_depth': 200, 'min_child_samples': 150, 'bagging_fraction': 0.8, 'num_leaves': 72, 'learning_rate': 0.1, 'max_bin': 1000}. Best is trial 318 with value: 0.7597419416730622.\u001b[0m\n"
     ]
    },
    {
     "name": "stdout",
     "output_type": "stream",
     "text": [
      "[LightGBM] [Warning] feature_fraction is set=1.0, colsample_bytree=1.0 will be ignored. Current value: feature_fraction=1.0\n",
      "[LightGBM] [Warning] bagging_fraction is set=0.8, subsample=1.0 will be ignored. Current value: bagging_fraction=0.8\n",
      "[LightGBM] [Warning] feature_fraction is set=1.0, colsample_bytree=1.0 will be ignored. Current value: feature_fraction=1.0\n",
      "[LightGBM] [Warning] bagging_fraction is set=0.8, subsample=1.0 will be ignored. Current value: bagging_fraction=0.8\n"
     ]
    },
    {
     "name": "stderr",
     "output_type": "stream",
     "text": [
      "\u001b[32m[I 2022-07-23 17:05:31,447]\u001b[0m Trial 575 finished with value: 0.7588737528779739 and parameters: {'feature_fraction': 1.0, 'feature_fraction_bynode': 0.7, 'max_depth': 200, 'min_child_samples': 150, 'bagging_fraction': 0.8, 'num_leaves': 82, 'learning_rate': 0.1, 'max_bin': 7000}. Best is trial 318 with value: 0.7597419416730622.\u001b[0m\n"
     ]
    },
    {
     "name": "stdout",
     "output_type": "stream",
     "text": [
      "[LightGBM] [Warning] feature_fraction is set=1.0, colsample_bytree=1.0 will be ignored. Current value: feature_fraction=1.0\n",
      "[LightGBM] [Warning] bagging_fraction is set=0.8, subsample=1.0 will be ignored. Current value: bagging_fraction=0.8\n",
      "[LightGBM] [Warning] feature_fraction is set=1.0, colsample_bytree=1.0 will be ignored. Current value: feature_fraction=1.0\n",
      "[LightGBM] [Warning] bagging_fraction is set=0.8, subsample=1.0 will be ignored. Current value: bagging_fraction=0.8\n"
     ]
    },
    {
     "name": "stderr",
     "output_type": "stream",
     "text": [
      "\u001b[32m[I 2022-07-23 17:05:56,662]\u001b[0m Trial 576 finished with value: 0.7589984650805832 and parameters: {'feature_fraction': 1.0, 'feature_fraction_bynode': 0.7, 'max_depth': 250, 'min_child_samples': 150, 'bagging_fraction': 0.8, 'num_leaves': 62, 'learning_rate': 0.1, 'max_bin': 1000}. Best is trial 318 with value: 0.7597419416730622.\u001b[0m\n"
     ]
    },
    {
     "name": "stdout",
     "output_type": "stream",
     "text": [
      "[LightGBM] [Warning] feature_fraction is set=1.0, colsample_bytree=1.0 will be ignored. Current value: feature_fraction=1.0\n",
      "[LightGBM] [Warning] bagging_fraction is set=0.8, subsample=1.0 will be ignored. Current value: bagging_fraction=0.8\n",
      "[LightGBM] [Warning] feature_fraction is set=1.0, colsample_bytree=1.0 will be ignored. Current value: feature_fraction=1.0\n",
      "[LightGBM] [Warning] bagging_fraction is set=0.8, subsample=1.0 will be ignored. Current value: bagging_fraction=0.8\n"
     ]
    },
    {
     "name": "stderr",
     "output_type": "stream",
     "text": [
      "\u001b[32m[I 2022-07-23 17:06:29,204]\u001b[0m Trial 577 finished with value: 0.7597419416730622 and parameters: {'feature_fraction': 1.0, 'feature_fraction_bynode': 0.7, 'max_depth': 450, 'min_child_samples': 150, 'bagging_fraction': 0.8, 'num_leaves': 72, 'learning_rate': 0.1, 'max_bin': 1000}. Best is trial 318 with value: 0.7597419416730622.\u001b[0m\n"
     ]
    },
    {
     "name": "stdout",
     "output_type": "stream",
     "text": [
      "[LightGBM] [Warning] feature_fraction is set=1.0, colsample_bytree=1.0 will be ignored. Current value: feature_fraction=1.0\n",
      "[LightGBM] [Warning] bagging_fraction is set=0.8, subsample=1.0 will be ignored. Current value: bagging_fraction=0.8\n",
      "[LightGBM] [Warning] feature_fraction is set=1.0, colsample_bytree=1.0 will be ignored. Current value: feature_fraction=1.0\n",
      "[LightGBM] [Warning] bagging_fraction is set=0.8, subsample=1.0 will be ignored. Current value: bagging_fraction=0.8\n"
     ]
    },
    {
     "name": "stderr",
     "output_type": "stream",
     "text": [
      "\u001b[32m[I 2022-07-23 17:06:56,778]\u001b[0m Trial 578 finished with value: 0.7597419416730622 and parameters: {'feature_fraction': 1.0, 'feature_fraction_bynode': 0.7, 'max_depth': 200, 'min_child_samples': 150, 'bagging_fraction': 0.8, 'num_leaves': 72, 'learning_rate': 0.1, 'max_bin': 1000}. Best is trial 318 with value: 0.7597419416730622.\u001b[0m\n"
     ]
    },
    {
     "name": "stdout",
     "output_type": "stream",
     "text": [
      "[LightGBM] [Warning] feature_fraction is set=1.0, colsample_bytree=1.0 will be ignored. Current value: feature_fraction=1.0\n",
      "[LightGBM] [Warning] bagging_fraction is set=0.8, subsample=1.0 will be ignored. Current value: bagging_fraction=0.8\n",
      "[LightGBM] [Warning] feature_fraction is set=1.0, colsample_bytree=1.0 will be ignored. Current value: feature_fraction=1.0\n",
      "[LightGBM] [Warning] bagging_fraction is set=0.8, subsample=1.0 will be ignored. Current value: bagging_fraction=0.8\n"
     ]
    },
    {
     "name": "stderr",
     "output_type": "stream",
     "text": [
      "\u001b[32m[I 2022-07-23 17:07:19,943]\u001b[0m Trial 579 finished with value: 0.7597419416730622 and parameters: {'feature_fraction': 1.0, 'feature_fraction_bynode': 0.7, 'max_depth': 200, 'min_child_samples': 150, 'bagging_fraction': 0.8, 'num_leaves': 72, 'learning_rate': 0.1, 'max_bin': 1000}. Best is trial 318 with value: 0.7597419416730622.\u001b[0m\n"
     ]
    },
    {
     "name": "stdout",
     "output_type": "stream",
     "text": [
      "[LightGBM] [Warning] feature_fraction is set=1.0, colsample_bytree=1.0 will be ignored. Current value: feature_fraction=1.0\n",
      "[LightGBM] [Warning] bagging_fraction is set=0.8, subsample=1.0 will be ignored. Current value: bagging_fraction=0.8\n",
      "[LightGBM] [Warning] feature_fraction is set=1.0, colsample_bytree=1.0 will be ignored. Current value: feature_fraction=1.0\n",
      "[LightGBM] [Warning] bagging_fraction is set=0.8, subsample=1.0 will be ignored. Current value: bagging_fraction=0.8\n"
     ]
    },
    {
     "name": "stderr",
     "output_type": "stream",
     "text": [
      "\u001b[32m[I 2022-07-23 17:07:43,182]\u001b[0m Trial 580 finished with value: 0.7597419416730622 and parameters: {'feature_fraction': 1.0, 'feature_fraction_bynode': 0.7, 'max_depth': 250, 'min_child_samples': 150, 'bagging_fraction': 0.8, 'num_leaves': 72, 'learning_rate': 0.1, 'max_bin': 1000}. Best is trial 318 with value: 0.7597419416730622.\u001b[0m\n"
     ]
    },
    {
     "name": "stdout",
     "output_type": "stream",
     "text": [
      "[LightGBM] [Warning] feature_fraction is set=1.0, colsample_bytree=1.0 will be ignored. Current value: feature_fraction=1.0\n",
      "[LightGBM] [Warning] bagging_fraction is set=0.8, subsample=1.0 will be ignored. Current value: bagging_fraction=0.8\n",
      "[LightGBM] [Warning] feature_fraction is set=1.0, colsample_bytree=1.0 will be ignored. Current value: feature_fraction=1.0\n",
      "[LightGBM] [Warning] bagging_fraction is set=0.8, subsample=1.0 will be ignored. Current value: bagging_fraction=0.8\n"
     ]
    },
    {
     "name": "stderr",
     "output_type": "stream",
     "text": [
      "\u001b[32m[I 2022-07-23 17:07:58,520]\u001b[0m Trial 581 finished with value: 0.7572572908672295 and parameters: {'feature_fraction': 1.0, 'feature_fraction_bynode': 0.7, 'max_depth': 350, 'min_child_samples': 150, 'bagging_fraction': 0.8, 'num_leaves': 12, 'learning_rate': 0.1, 'max_bin': 2000}. Best is trial 318 with value: 0.7597419416730622.\u001b[0m\n"
     ]
    },
    {
     "name": "stdout",
     "output_type": "stream",
     "text": [
      "[LightGBM] [Warning] feature_fraction is set=1.0, colsample_bytree=1.0 will be ignored. Current value: feature_fraction=1.0\n",
      "[LightGBM] [Warning] bagging_fraction is set=0.8, subsample=1.0 will be ignored. Current value: bagging_fraction=0.8\n",
      "[LightGBM] [Warning] feature_fraction is set=1.0, colsample_bytree=1.0 will be ignored. Current value: feature_fraction=1.0\n",
      "[LightGBM] [Warning] bagging_fraction is set=0.8, subsample=1.0 will be ignored. Current value: bagging_fraction=0.8\n"
     ]
    },
    {
     "name": "stderr",
     "output_type": "stream",
     "text": [
      "\u001b[32m[I 2022-07-23 17:08:30,492]\u001b[0m Trial 582 finished with value: 0.7572812739831158 and parameters: {'feature_fraction': 1.0, 'feature_fraction_bynode': 0.7, 'max_depth': 400, 'min_child_samples': 150, 'bagging_fraction': 0.8, 'num_leaves': 72, 'learning_rate': 0.2, 'max_bin': 1000}. Best is trial 318 with value: 0.7597419416730622.\u001b[0m\n"
     ]
    },
    {
     "name": "stdout",
     "output_type": "stream",
     "text": [
      "[LightGBM] [Warning] feature_fraction is set=1.0, colsample_bytree=1.0 will be ignored. Current value: feature_fraction=1.0\n",
      "[LightGBM] [Warning] bagging_fraction is set=0.8, subsample=1.0 will be ignored. Current value: bagging_fraction=0.8\n",
      "[LightGBM] [Warning] feature_fraction is set=1.0, colsample_bytree=1.0 will be ignored. Current value: feature_fraction=1.0\n",
      "[LightGBM] [Warning] bagging_fraction is set=0.8, subsample=1.0 will be ignored. Current value: bagging_fraction=0.8\n"
     ]
    },
    {
     "name": "stderr",
     "output_type": "stream",
     "text": [
      "\u001b[32m[I 2022-07-23 17:08:53,586]\u001b[0m Trial 583 finished with value: 0.7597419416730622 and parameters: {'feature_fraction': 1.0, 'feature_fraction_bynode': 0.7, 'max_depth': 200, 'min_child_samples': 150, 'bagging_fraction': 0.8, 'num_leaves': 72, 'learning_rate': 0.1, 'max_bin': 1000}. Best is trial 318 with value: 0.7597419416730622.\u001b[0m\n"
     ]
    },
    {
     "name": "stdout",
     "output_type": "stream",
     "text": [
      "[LightGBM] [Warning] feature_fraction is set=1.0, colsample_bytree=1.0 will be ignored. Current value: feature_fraction=1.0\n",
      "[LightGBM] [Warning] bagging_fraction is set=0.8, subsample=1.0 will be ignored. Current value: bagging_fraction=0.8\n",
      "[LightGBM] [Warning] feature_fraction is set=1.0, colsample_bytree=1.0 will be ignored. Current value: feature_fraction=1.0\n",
      "[LightGBM] [Warning] bagging_fraction is set=0.8, subsample=1.0 will be ignored. Current value: bagging_fraction=0.8\n"
     ]
    },
    {
     "name": "stderr",
     "output_type": "stream",
     "text": [
      "\u001b[32m[I 2022-07-23 17:09:16,312]\u001b[0m Trial 584 finished with value: 0.7597419416730622 and parameters: {'feature_fraction': 1.0, 'feature_fraction_bynode': 0.7, 'max_depth': 200, 'min_child_samples': 150, 'bagging_fraction': 0.8, 'num_leaves': 72, 'learning_rate': 0.1, 'max_bin': 1000}. Best is trial 318 with value: 0.7597419416730622.\u001b[0m\n"
     ]
    },
    {
     "name": "stdout",
     "output_type": "stream",
     "text": [
      "[LightGBM] [Warning] feature_fraction is set=1.0, colsample_bytree=1.0 will be ignored. Current value: feature_fraction=1.0\n",
      "[LightGBM] [Warning] bagging_fraction is set=0.8, subsample=1.0 will be ignored. Current value: bagging_fraction=0.8\n",
      "[LightGBM] [Warning] feature_fraction is set=1.0, colsample_bytree=1.0 will be ignored. Current value: feature_fraction=1.0\n",
      "[LightGBM] [Warning] bagging_fraction is set=0.8, subsample=1.0 will be ignored. Current value: bagging_fraction=0.8\n"
     ]
    },
    {
     "name": "stderr",
     "output_type": "stream",
     "text": [
      "\u001b[32m[I 2022-07-23 17:09:40,980]\u001b[0m Trial 585 finished with value: 0.7584948196469685 and parameters: {'feature_fraction': 1.0, 'feature_fraction_bynode': 0.7, 'max_depth': 200, 'min_child_samples': 250, 'bagging_fraction': 0.8, 'num_leaves': 82, 'learning_rate': 0.1, 'max_bin': 1000}. Best is trial 318 with value: 0.7597419416730622.\u001b[0m\n"
     ]
    },
    {
     "name": "stdout",
     "output_type": "stream",
     "text": [
      "[LightGBM] [Warning] feature_fraction is set=1.0, colsample_bytree=1.0 will be ignored. Current value: feature_fraction=1.0\n",
      "[LightGBM] [Warning] bagging_fraction is set=0.8, subsample=1.0 will be ignored. Current value: bagging_fraction=0.8\n",
      "[LightGBM] [Warning] feature_fraction is set=1.0, colsample_bytree=1.0 will be ignored. Current value: feature_fraction=1.0\n",
      "[LightGBM] [Warning] bagging_fraction is set=0.8, subsample=1.0 will be ignored. Current value: bagging_fraction=0.8\n"
     ]
    },
    {
     "name": "stderr",
     "output_type": "stream",
     "text": [
      "\u001b[32m[I 2022-07-23 17:10:05,001]\u001b[0m Trial 586 finished with value: 0.7597419416730622 and parameters: {'feature_fraction': 1.0, 'feature_fraction_bynode': 0.7, 'max_depth': 400, 'min_child_samples': 150, 'bagging_fraction': 0.8, 'num_leaves': 72, 'learning_rate': 0.1, 'max_bin': 1000}. Best is trial 318 with value: 0.7597419416730622.\u001b[0m\n"
     ]
    },
    {
     "name": "stdout",
     "output_type": "stream",
     "text": [
      "[LightGBM] [Warning] feature_fraction is set=1.0, colsample_bytree=1.0 will be ignored. Current value: feature_fraction=1.0\n",
      "[LightGBM] [Warning] bagging_fraction is set=0.8, subsample=1.0 will be ignored. Current value: bagging_fraction=0.8\n",
      "[LightGBM] [Warning] feature_fraction is set=1.0, colsample_bytree=1.0 will be ignored. Current value: feature_fraction=1.0\n",
      "[LightGBM] [Warning] bagging_fraction is set=0.8, subsample=1.0 will be ignored. Current value: bagging_fraction=0.8\n"
     ]
    },
    {
     "name": "stderr",
     "output_type": "stream",
     "text": [
      "\u001b[32m[I 2022-07-23 17:10:41,308]\u001b[0m Trial 587 finished with value: 0.7592478894858019 and parameters: {'feature_fraction': 1.0, 'feature_fraction_bynode': 0.7, 'max_depth': 200, 'min_child_samples': 150, 'bagging_fraction': 0.8, 'num_leaves': 72, 'learning_rate': 0.1, 'max_bin': 2000}. Best is trial 318 with value: 0.7597419416730622.\u001b[0m\n"
     ]
    },
    {
     "name": "stdout",
     "output_type": "stream",
     "text": [
      "[LightGBM] [Warning] feature_fraction is set=1.0, colsample_bytree=1.0 will be ignored. Current value: feature_fraction=1.0\n",
      "[LightGBM] [Warning] bagging_fraction is set=0.8, subsample=1.0 will be ignored. Current value: bagging_fraction=0.8\n",
      "[LightGBM] [Warning] feature_fraction is set=1.0, colsample_bytree=1.0 will be ignored. Current value: feature_fraction=1.0\n",
      "[LightGBM] [Warning] bagging_fraction is set=0.8, subsample=1.0 will be ignored. Current value: bagging_fraction=0.8\n"
     ]
    },
    {
     "name": "stderr",
     "output_type": "stream",
     "text": [
      "\u001b[32m[I 2022-07-23 17:11:03,858]\u001b[0m Trial 588 finished with value: 0.7597419416730622 and parameters: {'feature_fraction': 1.0, 'feature_fraction_bynode': 0.7, 'max_depth': 350, 'min_child_samples': 150, 'bagging_fraction': 0.8, 'num_leaves': 72, 'learning_rate': 0.1, 'max_bin': 1000}. Best is trial 318 with value: 0.7597419416730622.\u001b[0m\n"
     ]
    },
    {
     "name": "stdout",
     "output_type": "stream",
     "text": [
      "[LightGBM] [Warning] feature_fraction is set=1.0, colsample_bytree=1.0 will be ignored. Current value: feature_fraction=1.0\n",
      "[LightGBM] [Warning] bagging_fraction is set=0.8, subsample=1.0 will be ignored. Current value: bagging_fraction=0.8\n",
      "[LightGBM] [Warning] feature_fraction is set=1.0, colsample_bytree=1.0 will be ignored. Current value: feature_fraction=1.0\n",
      "[LightGBM] [Warning] bagging_fraction is set=0.8, subsample=1.0 will be ignored. Current value: bagging_fraction=0.8\n"
     ]
    },
    {
     "name": "stderr",
     "output_type": "stream",
     "text": [
      "\u001b[32m[I 2022-07-23 17:11:23,950]\u001b[0m Trial 589 finished with value: 0.7589984650805832 and parameters: {'feature_fraction': 1.0, 'feature_fraction_bynode': 0.7, 'max_depth': 350, 'min_child_samples': 150, 'bagging_fraction': 0.8, 'num_leaves': 62, 'learning_rate': 0.1, 'max_bin': 1000}. Best is trial 318 with value: 0.7597419416730622.\u001b[0m\n"
     ]
    },
    {
     "name": "stdout",
     "output_type": "stream",
     "text": [
      "[LightGBM] [Warning] feature_fraction is set=1.0, colsample_bytree=1.0 will be ignored. Current value: feature_fraction=1.0\n",
      "[LightGBM] [Warning] bagging_fraction is set=0.8, subsample=1.0 will be ignored. Current value: bagging_fraction=0.8\n",
      "[LightGBM] [Warning] feature_fraction is set=1.0, colsample_bytree=1.0 will be ignored. Current value: feature_fraction=1.0\n",
      "[LightGBM] [Warning] bagging_fraction is set=0.8, subsample=1.0 will be ignored. Current value: bagging_fraction=0.8\n"
     ]
    },
    {
     "name": "stderr",
     "output_type": "stream",
     "text": [
      "\u001b[32m[I 2022-07-23 17:11:45,735]\u001b[0m Trial 590 finished with value: 0.7597419416730622 and parameters: {'feature_fraction': 1.0, 'feature_fraction_bynode': 0.7, 'max_depth': 200, 'min_child_samples': 150, 'bagging_fraction': 0.8, 'num_leaves': 72, 'learning_rate': 0.1, 'max_bin': 1000}. Best is trial 318 with value: 0.7597419416730622.\u001b[0m\n"
     ]
    },
    {
     "name": "stdout",
     "output_type": "stream",
     "text": [
      "[LightGBM] [Warning] feature_fraction is set=0.7, colsample_bytree=1.0 will be ignored. Current value: feature_fraction=0.7\n",
      "[LightGBM] [Warning] bagging_fraction is set=0.8, subsample=1.0 will be ignored. Current value: bagging_fraction=0.8\n",
      "[LightGBM] [Warning] feature_fraction is set=0.7, colsample_bytree=1.0 will be ignored. Current value: feature_fraction=0.7\n",
      "[LightGBM] [Warning] bagging_fraction is set=0.8, subsample=1.0 will be ignored. Current value: bagging_fraction=0.8\n"
     ]
    },
    {
     "name": "stderr",
     "output_type": "stream",
     "text": [
      "\u001b[32m[I 2022-07-23 17:12:08,046]\u001b[0m Trial 591 finished with value: 0.7588977359938602 and parameters: {'feature_fraction': 0.7, 'feature_fraction_bynode': 0.8, 'max_depth': 200, 'min_child_samples': 150, 'bagging_fraction': 0.8, 'num_leaves': 72, 'learning_rate': 0.1, 'max_bin': 1000}. Best is trial 318 with value: 0.7597419416730622.\u001b[0m\n"
     ]
    },
    {
     "name": "stdout",
     "output_type": "stream",
     "text": [
      "[LightGBM] [Warning] feature_fraction is set=1.0, colsample_bytree=1.0 will be ignored. Current value: feature_fraction=1.0\n",
      "[LightGBM] [Warning] bagging_fraction is set=0.8, subsample=1.0 will be ignored. Current value: bagging_fraction=0.8\n",
      "[LightGBM] [Warning] feature_fraction is set=1.0, colsample_bytree=1.0 will be ignored. Current value: feature_fraction=1.0\n",
      "[LightGBM] [Warning] bagging_fraction is set=0.8, subsample=1.0 will be ignored. Current value: bagging_fraction=0.8\n"
     ]
    },
    {
     "name": "stderr",
     "output_type": "stream",
     "text": [
      "\u001b[32m[I 2022-07-23 17:12:32,600]\u001b[0m Trial 592 finished with value: 0.7597419416730622 and parameters: {'feature_fraction': 1.0, 'feature_fraction_bynode': 0.7, 'max_depth': 200, 'min_child_samples': 150, 'bagging_fraction': 0.8, 'num_leaves': 72, 'learning_rate': 0.1, 'max_bin': 1000}. Best is trial 318 with value: 0.7597419416730622.\u001b[0m\n"
     ]
    },
    {
     "name": "stdout",
     "output_type": "stream",
     "text": [
      "[LightGBM] [Warning] feature_fraction is set=1.0, colsample_bytree=1.0 will be ignored. Current value: feature_fraction=1.0\n",
      "[LightGBM] [Warning] bagging_fraction is set=0.8, subsample=1.0 will be ignored. Current value: bagging_fraction=0.8\n",
      "[LightGBM] [Warning] feature_fraction is set=1.0, colsample_bytree=1.0 will be ignored. Current value: feature_fraction=1.0\n",
      "[LightGBM] [Warning] bagging_fraction is set=0.8, subsample=1.0 will be ignored. Current value: bagging_fraction=0.8\n"
     ]
    },
    {
     "name": "stderr",
     "output_type": "stream",
     "text": [
      "\u001b[32m[I 2022-07-23 17:12:59,653]\u001b[0m Trial 593 finished with value: 0.7570894090560245 and parameters: {'feature_fraction': 1.0, 'feature_fraction_bynode': 0.7, 'max_depth': 200, 'min_child_samples': 150, 'bagging_fraction': 0.8, 'num_leaves': 82, 'learning_rate': 0.2, 'max_bin': 1000}. Best is trial 318 with value: 0.7597419416730622.\u001b[0m\n"
     ]
    },
    {
     "name": "stdout",
     "output_type": "stream",
     "text": [
      "[LightGBM] [Warning] feature_fraction is set=1.0, colsample_bytree=1.0 will be ignored. Current value: feature_fraction=1.0\n",
      "[LightGBM] [Warning] bagging_fraction is set=0.8, subsample=1.0 will be ignored. Current value: bagging_fraction=0.8\n",
      "[LightGBM] [Warning] feature_fraction is set=1.0, colsample_bytree=1.0 will be ignored. Current value: feature_fraction=1.0\n",
      "[LightGBM] [Warning] bagging_fraction is set=0.8, subsample=1.0 will be ignored. Current value: bagging_fraction=0.8\n"
     ]
    },
    {
     "name": "stderr",
     "output_type": "stream",
     "text": [
      "\u001b[32m[I 2022-07-23 17:13:38,158]\u001b[0m Trial 594 finished with value: 0.7589984650805832 and parameters: {'feature_fraction': 1.0, 'feature_fraction_bynode': 0.7, 'max_depth': 250, 'min_child_samples': 150, 'bagging_fraction': 0.8, 'num_leaves': 62, 'learning_rate': 0.1, 'max_bin': 1000}. Best is trial 318 with value: 0.7597419416730622.\u001b[0m\n"
     ]
    },
    {
     "name": "stdout",
     "output_type": "stream",
     "text": [
      "[LightGBM] [Warning] feature_fraction is set=0.9, colsample_bytree=1.0 will be ignored. Current value: feature_fraction=0.9\n",
      "[LightGBM] [Warning] bagging_fraction is set=0.8, subsample=1.0 will be ignored. Current value: bagging_fraction=0.8\n",
      "[LightGBM] [Warning] feature_fraction is set=0.9, colsample_bytree=1.0 will be ignored. Current value: feature_fraction=0.9\n",
      "[LightGBM] [Warning] bagging_fraction is set=0.8, subsample=1.0 will be ignored. Current value: bagging_fraction=0.8\n"
     ]
    },
    {
     "name": "stderr",
     "output_type": "stream",
     "text": [
      "\u001b[32m[I 2022-07-23 17:13:59,855]\u001b[0m Trial 595 finished with value: 0.7555640828856485 and parameters: {'feature_fraction': 0.9, 'feature_fraction_bynode': 0.6, 'max_depth': 200, 'min_child_samples': 150, 'bagging_fraction': 0.8, 'num_leaves': 72, 'learning_rate': 0.30000000000000004, 'max_bin': 1000}. Best is trial 318 with value: 0.7597419416730622.\u001b[0m\n"
     ]
    },
    {
     "name": "stdout",
     "output_type": "stream",
     "text": [
      "[LightGBM] [Warning] feature_fraction is set=1.0, colsample_bytree=1.0 will be ignored. Current value: feature_fraction=1.0\n",
      "[LightGBM] [Warning] bagging_fraction is set=0.8, subsample=1.0 will be ignored. Current value: bagging_fraction=0.8\n",
      "[LightGBM] [Warning] feature_fraction is set=1.0, colsample_bytree=1.0 will be ignored. Current value: feature_fraction=1.0\n",
      "[LightGBM] [Warning] bagging_fraction is set=0.8, subsample=1.0 will be ignored. Current value: bagging_fraction=0.8\n"
     ]
    },
    {
     "name": "stderr",
     "output_type": "stream",
     "text": [
      "\u001b[32m[I 2022-07-23 17:14:25,754]\u001b[0m Trial 596 finished with value: 0.7597419416730622 and parameters: {'feature_fraction': 1.0, 'feature_fraction_bynode': 0.7, 'max_depth': 200, 'min_child_samples': 150, 'bagging_fraction': 0.8, 'num_leaves': 72, 'learning_rate': 0.1, 'max_bin': 1000}. Best is trial 318 with value: 0.7597419416730622.\u001b[0m\n"
     ]
    },
    {
     "name": "stdout",
     "output_type": "stream",
     "text": [
      "[LightGBM] [Warning] feature_fraction is set=1.0, colsample_bytree=1.0 will be ignored. Current value: feature_fraction=1.0\n",
      "[LightGBM] [Warning] bagging_fraction is set=0.8, subsample=1.0 will be ignored. Current value: bagging_fraction=0.8\n",
      "[LightGBM] [Warning] feature_fraction is set=1.0, colsample_bytree=1.0 will be ignored. Current value: feature_fraction=1.0\n",
      "[LightGBM] [Warning] bagging_fraction is set=0.8, subsample=1.0 will be ignored. Current value: bagging_fraction=0.8\n"
     ]
    },
    {
     "name": "stderr",
     "output_type": "stream",
     "text": [
      "\u001b[32m[I 2022-07-23 17:15:01,377]\u001b[0m Trial 597 finished with value: 0.7592478894858019 and parameters: {'feature_fraction': 1.0, 'feature_fraction_bynode': 0.7, 'max_depth': 200, 'min_child_samples': 150, 'bagging_fraction': 0.8, 'num_leaves': 72, 'learning_rate': 0.1, 'max_bin': 2000}. Best is trial 318 with value: 0.7597419416730622.\u001b[0m\n"
     ]
    },
    {
     "name": "stdout",
     "output_type": "stream",
     "text": [
      "[LightGBM] [Warning] feature_fraction is set=1.0, colsample_bytree=1.0 will be ignored. Current value: feature_fraction=1.0\n",
      "[LightGBM] [Warning] bagging_fraction is set=0.8, subsample=1.0 will be ignored. Current value: bagging_fraction=0.8\n",
      "[LightGBM] [Warning] feature_fraction is set=1.0, colsample_bytree=1.0 will be ignored. Current value: feature_fraction=1.0\n",
      "[LightGBM] [Warning] bagging_fraction is set=0.8, subsample=1.0 will be ignored. Current value: bagging_fraction=0.8\n"
     ]
    },
    {
     "name": "stderr",
     "output_type": "stream",
     "text": [
      "\u001b[32m[I 2022-07-23 17:15:31,545]\u001b[0m Trial 598 finished with value: 0.7597419416730622 and parameters: {'feature_fraction': 1.0, 'feature_fraction_bynode': 0.7, 'max_depth': 200, 'min_child_samples': 150, 'bagging_fraction': 0.8, 'num_leaves': 72, 'learning_rate': 0.1, 'max_bin': 1000}. Best is trial 318 with value: 0.7597419416730622.\u001b[0m\n"
     ]
    },
    {
     "name": "stdout",
     "output_type": "stream",
     "text": [
      "[LightGBM] [Warning] feature_fraction is set=1.0, colsample_bytree=1.0 will be ignored. Current value: feature_fraction=1.0\n",
      "[LightGBM] [Warning] bagging_fraction is set=0.8, subsample=1.0 will be ignored. Current value: bagging_fraction=0.8\n",
      "[LightGBM] [Warning] feature_fraction is set=1.0, colsample_bytree=1.0 will be ignored. Current value: feature_fraction=1.0\n",
      "[LightGBM] [Warning] bagging_fraction is set=0.8, subsample=1.0 will be ignored. Current value: bagging_fraction=0.8\n"
     ]
    },
    {
     "name": "stderr",
     "output_type": "stream",
     "text": [
      "\u001b[32m[I 2022-07-23 17:15:53,573]\u001b[0m Trial 599 finished with value: 0.7597419416730622 and parameters: {'feature_fraction': 1.0, 'feature_fraction_bynode': 0.7, 'max_depth': 200, 'min_child_samples': 150, 'bagging_fraction': 0.8, 'num_leaves': 72, 'learning_rate': 0.1, 'max_bin': 1000}. Best is trial 318 with value: 0.7597419416730622.\u001b[0m\n"
     ]
    },
    {
     "name": "stdout",
     "output_type": "stream",
     "text": [
      "[LightGBM] [Warning] feature_fraction is set=1.0, colsample_bytree=1.0 will be ignored. Current value: feature_fraction=1.0\n",
      "[LightGBM] [Warning] bagging_fraction is set=0.8, subsample=1.0 will be ignored. Current value: bagging_fraction=0.8\n",
      "[LightGBM] [Warning] feature_fraction is set=1.0, colsample_bytree=1.0 will be ignored. Current value: feature_fraction=1.0\n",
      "[LightGBM] [Warning] bagging_fraction is set=0.8, subsample=1.0 will be ignored. Current value: bagging_fraction=0.8\n"
     ]
    },
    {
     "name": "stderr",
     "output_type": "stream",
     "text": [
      "\u001b[32m[I 2022-07-23 17:16:15,502]\u001b[0m Trial 600 finished with value: 0.7597419416730622 and parameters: {'feature_fraction': 1.0, 'feature_fraction_bynode': 0.7, 'max_depth': 250, 'min_child_samples': 150, 'bagging_fraction': 0.8, 'num_leaves': 72, 'learning_rate': 0.1, 'max_bin': 1000}. Best is trial 318 with value: 0.7597419416730622.\u001b[0m\n"
     ]
    },
    {
     "name": "stdout",
     "output_type": "stream",
     "text": [
      "[LightGBM] [Warning] feature_fraction is set=1.0, colsample_bytree=1.0 will be ignored. Current value: feature_fraction=1.0\n",
      "[LightGBM] [Warning] bagging_fraction is set=0.8, subsample=1.0 will be ignored. Current value: bagging_fraction=0.8\n",
      "[LightGBM] [Warning] feature_fraction is set=1.0, colsample_bytree=1.0 will be ignored. Current value: feature_fraction=1.0\n",
      "[LightGBM] [Warning] bagging_fraction is set=0.8, subsample=1.0 will be ignored. Current value: bagging_fraction=0.8\n"
     ]
    },
    {
     "name": "stderr",
     "output_type": "stream",
     "text": [
      "\u001b[32m[I 2022-07-23 17:16:53,048]\u001b[0m Trial 601 finished with value: 0.7597419416730622 and parameters: {'feature_fraction': 1.0, 'feature_fraction_bynode': 0.7, 'max_depth': 250, 'min_child_samples': 150, 'bagging_fraction': 0.8, 'num_leaves': 72, 'learning_rate': 0.1, 'max_bin': 1000}. Best is trial 318 with value: 0.7597419416730622.\u001b[0m\n"
     ]
    },
    {
     "name": "stdout",
     "output_type": "stream",
     "text": [
      "[LightGBM] [Warning] feature_fraction is set=1.0, colsample_bytree=1.0 will be ignored. Current value: feature_fraction=1.0\n",
      "[LightGBM] [Warning] bagging_fraction is set=0.8, subsample=1.0 will be ignored. Current value: bagging_fraction=0.8\n",
      "[LightGBM] [Warning] feature_fraction is set=1.0, colsample_bytree=1.0 will be ignored. Current value: feature_fraction=1.0\n",
      "[LightGBM] [Warning] bagging_fraction is set=0.8, subsample=1.0 will be ignored. Current value: bagging_fraction=0.8\n"
     ]
    },
    {
     "name": "stderr",
     "output_type": "stream",
     "text": [
      "\u001b[32m[I 2022-07-23 17:17:32,387]\u001b[0m Trial 602 finished with value: 0.7588737528779739 and parameters: {'feature_fraction': 1.0, 'feature_fraction_bynode': 0.7, 'max_depth': 250, 'min_child_samples': 150, 'bagging_fraction': 0.8, 'num_leaves': 82, 'learning_rate': 0.1, 'max_bin': 5000}. Best is trial 318 with value: 0.7597419416730622.\u001b[0m\n"
     ]
    },
    {
     "name": "stdout",
     "output_type": "stream",
     "text": [
      "[LightGBM] [Warning] feature_fraction is set=1.0, colsample_bytree=1.0 will be ignored. Current value: feature_fraction=1.0\n",
      "[LightGBM] [Warning] bagging_fraction is set=0.8, subsample=1.0 will be ignored. Current value: bagging_fraction=0.8\n",
      "[LightGBM] [Warning] feature_fraction is set=1.0, colsample_bytree=1.0 will be ignored. Current value: feature_fraction=1.0\n",
      "[LightGBM] [Warning] bagging_fraction is set=0.8, subsample=1.0 will be ignored. Current value: bagging_fraction=0.8\n"
     ]
    },
    {
     "name": "stderr",
     "output_type": "stream",
     "text": [
      "\u001b[32m[I 2022-07-23 17:18:05,562]\u001b[0m Trial 603 finished with value: 0.7597419416730622 and parameters: {'feature_fraction': 1.0, 'feature_fraction_bynode': 0.7, 'max_depth': 400, 'min_child_samples': 150, 'bagging_fraction': 0.8, 'num_leaves': 72, 'learning_rate': 0.1, 'max_bin': 1000}. Best is trial 318 with value: 0.7597419416730622.\u001b[0m\n"
     ]
    },
    {
     "name": "stdout",
     "output_type": "stream",
     "text": [
      "[LightGBM] [Warning] feature_fraction is set=1.0, colsample_bytree=1.0 will be ignored. Current value: feature_fraction=1.0\n",
      "[LightGBM] [Warning] bagging_fraction is set=0.8, subsample=1.0 will be ignored. Current value: bagging_fraction=0.8\n",
      "[LightGBM] [Warning] feature_fraction is set=1.0, colsample_bytree=1.0 will be ignored. Current value: feature_fraction=1.0\n",
      "[LightGBM] [Warning] bagging_fraction is set=0.8, subsample=1.0 will be ignored. Current value: bagging_fraction=0.8\n"
     ]
    },
    {
     "name": "stderr",
     "output_type": "stream",
     "text": [
      "\u001b[32m[I 2022-07-23 17:18:29,239]\u001b[0m Trial 604 finished with value: 0.756945510360706 and parameters: {'feature_fraction': 1.0, 'feature_fraction_bynode': 0.7, 'max_depth': 250, 'min_child_samples': 230, 'bagging_fraction': 0.8, 'num_leaves': 62, 'learning_rate': 0.2, 'max_bin': 1000}. Best is trial 318 with value: 0.7597419416730622.\u001b[0m\n"
     ]
    },
    {
     "name": "stdout",
     "output_type": "stream",
     "text": [
      "[LightGBM] [Warning] feature_fraction is set=1.0, colsample_bytree=1.0 will be ignored. Current value: feature_fraction=1.0\n",
      "[LightGBM] [Warning] bagging_fraction is set=0.8, subsample=1.0 will be ignored. Current value: bagging_fraction=0.8\n",
      "[LightGBM] [Warning] feature_fraction is set=1.0, colsample_bytree=1.0 will be ignored. Current value: feature_fraction=1.0\n",
      "[LightGBM] [Warning] bagging_fraction is set=0.8, subsample=1.0 will be ignored. Current value: bagging_fraction=0.8\n"
     ]
    },
    {
     "name": "stderr",
     "output_type": "stream",
     "text": [
      "\u001b[32m[I 2022-07-23 17:18:53,685]\u001b[0m Trial 605 finished with value: 0.7597419416730622 and parameters: {'feature_fraction': 1.0, 'feature_fraction_bynode': 0.7, 'max_depth': 450, 'min_child_samples': 150, 'bagging_fraction': 0.8, 'num_leaves': 72, 'learning_rate': 0.1, 'max_bin': 1000}. Best is trial 318 with value: 0.7597419416730622.\u001b[0m\n"
     ]
    },
    {
     "name": "stdout",
     "output_type": "stream",
     "text": [
      "[LightGBM] [Warning] feature_fraction is set=1.0, colsample_bytree=1.0 will be ignored. Current value: feature_fraction=1.0\n",
      "[LightGBM] [Warning] bagging_fraction is set=0.8, subsample=1.0 will be ignored. Current value: bagging_fraction=0.8\n",
      "[LightGBM] [Warning] feature_fraction is set=1.0, colsample_bytree=1.0 will be ignored. Current value: feature_fraction=1.0\n",
      "[LightGBM] [Warning] bagging_fraction is set=0.8, subsample=1.0 will be ignored. Current value: bagging_fraction=0.8\n"
     ]
    },
    {
     "name": "stderr",
     "output_type": "stream",
     "text": [
      "\u001b[32m[I 2022-07-23 17:19:23,445]\u001b[0m Trial 606 finished with value: 0.7597419416730622 and parameters: {'feature_fraction': 1.0, 'feature_fraction_bynode': 0.7, 'max_depth': 200, 'min_child_samples': 150, 'bagging_fraction': 0.8, 'num_leaves': 72, 'learning_rate': 0.1, 'max_bin': 1000}. Best is trial 318 with value: 0.7597419416730622.\u001b[0m\n"
     ]
    },
    {
     "name": "stdout",
     "output_type": "stream",
     "text": [
      "[LightGBM] [Warning] feature_fraction is set=1.0, colsample_bytree=1.0 will be ignored. Current value: feature_fraction=1.0\n",
      "[LightGBM] [Warning] bagging_fraction is set=0.8, subsample=1.0 will be ignored. Current value: bagging_fraction=0.8\n",
      "[LightGBM] [Warning] feature_fraction is set=1.0, colsample_bytree=1.0 will be ignored. Current value: feature_fraction=1.0\n",
      "[LightGBM] [Warning] bagging_fraction is set=0.8, subsample=1.0 will be ignored. Current value: bagging_fraction=0.8\n"
     ]
    },
    {
     "name": "stderr",
     "output_type": "stream",
     "text": [
      "\u001b[32m[I 2022-07-23 17:19:53,916]\u001b[0m Trial 607 finished with value: 0.7592478894858019 and parameters: {'feature_fraction': 1.0, 'feature_fraction_bynode': 0.7, 'max_depth': 200, 'min_child_samples': 150, 'bagging_fraction': 0.8, 'num_leaves': 72, 'learning_rate': 0.1, 'max_bin': 2000}. Best is trial 318 with value: 0.7597419416730622.\u001b[0m\n"
     ]
    },
    {
     "name": "stdout",
     "output_type": "stream",
     "text": [
      "[LightGBM] [Warning] feature_fraction is set=1.0, colsample_bytree=1.0 will be ignored. Current value: feature_fraction=1.0\n",
      "[LightGBM] [Warning] bagging_fraction is set=0.8, subsample=1.0 will be ignored. Current value: bagging_fraction=0.8\n",
      "[LightGBM] [Warning] feature_fraction is set=1.0, colsample_bytree=1.0 will be ignored. Current value: feature_fraction=1.0\n",
      "[LightGBM] [Warning] bagging_fraction is set=0.8, subsample=1.0 will be ignored. Current value: bagging_fraction=0.8\n"
     ]
    },
    {
     "name": "stderr",
     "output_type": "stream",
     "text": [
      "\u001b[32m[I 2022-07-23 17:20:44,505]\u001b[0m Trial 608 finished with value: 0.7597419416730622 and parameters: {'feature_fraction': 1.0, 'feature_fraction_bynode': 0.7, 'max_depth': 500, 'min_child_samples': 150, 'bagging_fraction': 0.8, 'num_leaves': 72, 'learning_rate': 0.1, 'max_bin': 1000}. Best is trial 318 with value: 0.7597419416730622.\u001b[0m\n"
     ]
    },
    {
     "name": "stdout",
     "output_type": "stream",
     "text": [
      "[LightGBM] [Warning] feature_fraction is set=1.0, colsample_bytree=1.0 will be ignored. Current value: feature_fraction=1.0\n",
      "[LightGBM] [Warning] bagging_fraction is set=0.8, subsample=1.0 will be ignored. Current value: bagging_fraction=0.8\n",
      "[LightGBM] [Warning] feature_fraction is set=1.0, colsample_bytree=1.0 will be ignored. Current value: feature_fraction=1.0\n",
      "[LightGBM] [Warning] bagging_fraction is set=0.8, subsample=1.0 will be ignored. Current value: bagging_fraction=0.8\n"
     ]
    },
    {
     "name": "stderr",
     "output_type": "stream",
     "text": [
      "\u001b[32m[I 2022-07-23 17:21:26,368]\u001b[0m Trial 609 finished with value: 0.7597419416730622 and parameters: {'feature_fraction': 1.0, 'feature_fraction_bynode': 0.7, 'max_depth': 400, 'min_child_samples': 150, 'bagging_fraction': 0.8, 'num_leaves': 72, 'learning_rate': 0.1, 'max_bin': 1000}. Best is trial 318 with value: 0.7597419416730622.\u001b[0m\n"
     ]
    },
    {
     "name": "stdout",
     "output_type": "stream",
     "text": [
      "[LightGBM] [Warning] feature_fraction is set=1.0, colsample_bytree=1.0 will be ignored. Current value: feature_fraction=1.0\n",
      "[LightGBM] [Warning] bagging_fraction is set=0.8, subsample=1.0 will be ignored. Current value: bagging_fraction=0.8\n",
      "[LightGBM] [Warning] feature_fraction is set=1.0, colsample_bytree=1.0 will be ignored. Current value: feature_fraction=1.0\n",
      "[LightGBM] [Warning] bagging_fraction is set=0.8, subsample=1.0 will be ignored. Current value: bagging_fraction=0.8\n"
     ]
    },
    {
     "name": "stderr",
     "output_type": "stream",
     "text": [
      "\u001b[32m[I 2022-07-23 17:22:12,850]\u001b[0m Trial 610 finished with value: 0.7597419416730622 and parameters: {'feature_fraction': 1.0, 'feature_fraction_bynode': 0.7, 'max_depth': 200, 'min_child_samples': 150, 'bagging_fraction': 0.8, 'num_leaves': 72, 'learning_rate': 0.1, 'max_bin': 1000}. Best is trial 318 with value: 0.7597419416730622.\u001b[0m\n"
     ]
    },
    {
     "name": "stdout",
     "output_type": "stream",
     "text": [
      "[LightGBM] [Warning] feature_fraction is set=1.0, colsample_bytree=1.0 will be ignored. Current value: feature_fraction=1.0\n",
      "[LightGBM] [Warning] bagging_fraction is set=0.8, subsample=1.0 will be ignored. Current value: bagging_fraction=0.8\n",
      "[LightGBM] [Warning] feature_fraction is set=1.0, colsample_bytree=1.0 will be ignored. Current value: feature_fraction=1.0\n",
      "[LightGBM] [Warning] bagging_fraction is set=0.8, subsample=1.0 will be ignored. Current value: bagging_fraction=0.8\n"
     ]
    },
    {
     "name": "stderr",
     "output_type": "stream",
     "text": [
      "\u001b[32m[I 2022-07-23 17:22:47,151]\u001b[0m Trial 611 finished with value: 0.7589984650805832 and parameters: {'feature_fraction': 1.0, 'feature_fraction_bynode': 0.7, 'max_depth': 200, 'min_child_samples': 150, 'bagging_fraction': 0.8, 'num_leaves': 62, 'learning_rate': 0.1, 'max_bin': 1000}. Best is trial 318 with value: 0.7597419416730622.\u001b[0m\n"
     ]
    },
    {
     "name": "stdout",
     "output_type": "stream",
     "text": [
      "[LightGBM] [Warning] feature_fraction is set=1.0, colsample_bytree=1.0 will be ignored. Current value: feature_fraction=1.0\n",
      "[LightGBM] [Warning] bagging_fraction is set=0.8, subsample=1.0 will be ignored. Current value: bagging_fraction=0.8\n",
      "[LightGBM] [Warning] feature_fraction is set=1.0, colsample_bytree=1.0 will be ignored. Current value: feature_fraction=1.0\n",
      "[LightGBM] [Warning] bagging_fraction is set=0.8, subsample=1.0 will be ignored. Current value: bagging_fraction=0.8\n"
     ]
    },
    {
     "name": "stderr",
     "output_type": "stream",
     "text": [
      "\u001b[32m[I 2022-07-23 17:23:20,700]\u001b[0m Trial 612 finished with value: 0.758960092095165 and parameters: {'feature_fraction': 1.0, 'feature_fraction_bynode': 0.7, 'max_depth': 200, 'min_child_samples': 150, 'bagging_fraction': 0.8, 'num_leaves': 82, 'learning_rate': 0.1, 'max_bin': 1000}. Best is trial 318 with value: 0.7597419416730622.\u001b[0m\n"
     ]
    },
    {
     "name": "stdout",
     "output_type": "stream",
     "text": [
      "[LightGBM] [Warning] feature_fraction is set=1.0, colsample_bytree=1.0 will be ignored. Current value: feature_fraction=1.0\n",
      "[LightGBM] [Warning] bagging_fraction is set=0.8, subsample=1.0 will be ignored. Current value: bagging_fraction=0.8\n",
      "[LightGBM] [Warning] feature_fraction is set=1.0, colsample_bytree=1.0 will be ignored. Current value: feature_fraction=1.0\n",
      "[LightGBM] [Warning] bagging_fraction is set=0.8, subsample=1.0 will be ignored. Current value: bagging_fraction=0.8\n"
     ]
    },
    {
     "name": "stderr",
     "output_type": "stream",
     "text": [
      "\u001b[32m[I 2022-07-23 17:23:56,491]\u001b[0m Trial 613 finished with value: 0.7597419416730622 and parameters: {'feature_fraction': 1.0, 'feature_fraction_bynode': 0.7, 'max_depth': 200, 'min_child_samples': 150, 'bagging_fraction': 0.8, 'num_leaves': 72, 'learning_rate': 0.1, 'max_bin': 1000}. Best is trial 318 with value: 0.7597419416730622.\u001b[0m\n"
     ]
    },
    {
     "name": "stdout",
     "output_type": "stream",
     "text": [
      "[LightGBM] [Warning] feature_fraction is set=1.0, colsample_bytree=1.0 will be ignored. Current value: feature_fraction=1.0\n",
      "[LightGBM] [Warning] bagging_fraction is set=0.8, subsample=1.0 will be ignored. Current value: bagging_fraction=0.8\n",
      "[LightGBM] [Warning] feature_fraction is set=1.0, colsample_bytree=1.0 will be ignored. Current value: feature_fraction=1.0\n",
      "[LightGBM] [Warning] bagging_fraction is set=0.8, subsample=1.0 will be ignored. Current value: bagging_fraction=0.8\n"
     ]
    },
    {
     "name": "stderr",
     "output_type": "stream",
     "text": [
      "\u001b[32m[I 2022-07-23 17:24:30,598]\u001b[0m Trial 614 finished with value: 0.7597419416730622 and parameters: {'feature_fraction': 1.0, 'feature_fraction_bynode': 0.7, 'max_depth': 200, 'min_child_samples': 150, 'bagging_fraction': 0.8, 'num_leaves': 72, 'learning_rate': 0.1, 'max_bin': 1000}. Best is trial 318 with value: 0.7597419416730622.\u001b[0m\n"
     ]
    },
    {
     "name": "stdout",
     "output_type": "stream",
     "text": [
      "[LightGBM] [Warning] feature_fraction is set=1.0, colsample_bytree=1.0 will be ignored. Current value: feature_fraction=1.0\n",
      "[LightGBM] [Warning] bagging_fraction is set=0.8, subsample=1.0 will be ignored. Current value: bagging_fraction=0.8\n",
      "[LightGBM] [Warning] feature_fraction is set=1.0, colsample_bytree=1.0 will be ignored. Current value: feature_fraction=1.0\n",
      "[LightGBM] [Warning] bagging_fraction is set=0.8, subsample=1.0 will be ignored. Current value: bagging_fraction=0.8\n"
     ]
    },
    {
     "name": "stderr",
     "output_type": "stream",
     "text": [
      "\u001b[32m[I 2022-07-23 17:25:00,587]\u001b[0m Trial 615 finished with value: 0.7597419416730622 and parameters: {'feature_fraction': 1.0, 'feature_fraction_bynode': 0.7, 'max_depth': 200, 'min_child_samples': 150, 'bagging_fraction': 0.8, 'num_leaves': 72, 'learning_rate': 0.1, 'max_bin': 1000}. Best is trial 318 with value: 0.7597419416730622.\u001b[0m\n"
     ]
    },
    {
     "name": "stdout",
     "output_type": "stream",
     "text": [
      "[LightGBM] [Warning] feature_fraction is set=1.0, colsample_bytree=1.0 will be ignored. Current value: feature_fraction=1.0\n",
      "[LightGBM] [Warning] bagging_fraction is set=0.8, subsample=1.0 will be ignored. Current value: bagging_fraction=0.8\n",
      "[LightGBM] [Warning] feature_fraction is set=1.0, colsample_bytree=1.0 will be ignored. Current value: feature_fraction=1.0\n",
      "[LightGBM] [Warning] bagging_fraction is set=0.8, subsample=1.0 will be ignored. Current value: bagging_fraction=0.8\n"
     ]
    },
    {
     "name": "stderr",
     "output_type": "stream",
     "text": [
      "\u001b[32m[I 2022-07-23 17:25:29,625]\u001b[0m Trial 616 finished with value: 0.7572812739831158 and parameters: {'feature_fraction': 1.0, 'feature_fraction_bynode': 0.7, 'max_depth': 200, 'min_child_samples': 150, 'bagging_fraction': 0.8, 'num_leaves': 72, 'learning_rate': 0.2, 'max_bin': 1000}. Best is trial 318 with value: 0.7597419416730622.\u001b[0m\n"
     ]
    },
    {
     "name": "stdout",
     "output_type": "stream",
     "text": [
      "[LightGBM] [Warning] feature_fraction is set=1.0, colsample_bytree=1.0 will be ignored. Current value: feature_fraction=1.0\n",
      "[LightGBM] [Warning] bagging_fraction is set=0.8, subsample=1.0 will be ignored. Current value: bagging_fraction=0.8\n",
      "[LightGBM] [Warning] feature_fraction is set=1.0, colsample_bytree=1.0 will be ignored. Current value: feature_fraction=1.0\n",
      "[LightGBM] [Warning] bagging_fraction is set=0.8, subsample=1.0 will be ignored. Current value: bagging_fraction=0.8\n"
     ]
    },
    {
     "name": "stderr",
     "output_type": "stream",
     "text": [
      "\u001b[32m[I 2022-07-23 17:25:59,595]\u001b[0m Trial 617 finished with value: 0.758960092095165 and parameters: {'feature_fraction': 1.0, 'feature_fraction_bynode': 0.7, 'max_depth': 250, 'min_child_samples': 150, 'bagging_fraction': 0.8, 'num_leaves': 82, 'learning_rate': 0.1, 'max_bin': 1000}. Best is trial 318 with value: 0.7597419416730622.\u001b[0m\n"
     ]
    },
    {
     "name": "stdout",
     "output_type": "stream",
     "text": [
      "[LightGBM] [Warning] feature_fraction is set=1.0, colsample_bytree=1.0 will be ignored. Current value: feature_fraction=1.0\n",
      "[LightGBM] [Warning] bagging_fraction is set=0.8, subsample=1.0 will be ignored. Current value: bagging_fraction=0.8\n",
      "[LightGBM] [Warning] feature_fraction is set=1.0, colsample_bytree=1.0 will be ignored. Current value: feature_fraction=1.0\n",
      "[LightGBM] [Warning] bagging_fraction is set=0.8, subsample=1.0 will be ignored. Current value: bagging_fraction=0.8\n"
     ]
    },
    {
     "name": "stderr",
     "output_type": "stream",
     "text": [
      "\u001b[32m[I 2022-07-23 17:26:22,616]\u001b[0m Trial 618 finished with value: 0.7592478894858019 and parameters: {'feature_fraction': 1.0, 'feature_fraction_bynode': 0.7, 'max_depth': 250, 'min_child_samples': 150, 'bagging_fraction': 0.8, 'num_leaves': 72, 'learning_rate': 0.1, 'max_bin': 2000}. Best is trial 318 with value: 0.7597419416730622.\u001b[0m\n"
     ]
    },
    {
     "name": "stdout",
     "output_type": "stream",
     "text": [
      "[LightGBM] [Warning] feature_fraction is set=1.0, colsample_bytree=1.0 will be ignored. Current value: feature_fraction=1.0\n",
      "[LightGBM] [Warning] bagging_fraction is set=0.5, subsample=1.0 will be ignored. Current value: bagging_fraction=0.5\n",
      "[LightGBM] [Warning] feature_fraction is set=1.0, colsample_bytree=1.0 will be ignored. Current value: feature_fraction=1.0\n",
      "[LightGBM] [Warning] bagging_fraction is set=0.5, subsample=1.0 will be ignored. Current value: bagging_fraction=0.5\n"
     ]
    },
    {
     "name": "stderr",
     "output_type": "stream",
     "text": [
      "\u001b[32m[I 2022-07-23 17:26:45,046]\u001b[0m Trial 619 finished with value: 0.7597419416730622 and parameters: {'feature_fraction': 1.0, 'feature_fraction_bynode': 0.7, 'max_depth': 450, 'min_child_samples': 150, 'bagging_fraction': 0.5, 'num_leaves': 72, 'learning_rate': 0.1, 'max_bin': 1000}. Best is trial 318 with value: 0.7597419416730622.\u001b[0m\n"
     ]
    },
    {
     "name": "stdout",
     "output_type": "stream",
     "text": [
      "[LightGBM] [Warning] feature_fraction is set=1.0, colsample_bytree=1.0 will be ignored. Current value: feature_fraction=1.0\n",
      "[LightGBM] [Warning] bagging_fraction is set=0.8, subsample=1.0 will be ignored. Current value: bagging_fraction=0.8\n",
      "[LightGBM] [Warning] feature_fraction is set=1.0, colsample_bytree=1.0 will be ignored. Current value: feature_fraction=1.0\n",
      "[LightGBM] [Warning] bagging_fraction is set=0.8, subsample=1.0 will be ignored. Current value: bagging_fraction=0.8\n"
     ]
    },
    {
     "name": "stderr",
     "output_type": "stream",
     "text": [
      "\u001b[32m[I 2022-07-23 17:27:10,124]\u001b[0m Trial 620 finished with value: 0.7518850729086723 and parameters: {'feature_fraction': 1.0, 'feature_fraction_bynode': 0.7, 'max_depth': 200, 'min_child_samples': 150, 'bagging_fraction': 0.8, 'num_leaves': 72, 'learning_rate': 0.4, 'max_bin': 1000}. Best is trial 318 with value: 0.7597419416730622.\u001b[0m\n"
     ]
    },
    {
     "name": "stdout",
     "output_type": "stream",
     "text": [
      "[LightGBM] [Warning] feature_fraction is set=1.0, colsample_bytree=1.0 will be ignored. Current value: feature_fraction=1.0\n",
      "[LightGBM] [Warning] bagging_fraction is set=0.8, subsample=1.0 will be ignored. Current value: bagging_fraction=0.8\n",
      "[LightGBM] [Warning] feature_fraction is set=1.0, colsample_bytree=1.0 will be ignored. Current value: feature_fraction=1.0\n",
      "[LightGBM] [Warning] bagging_fraction is set=0.8, subsample=1.0 will be ignored. Current value: bagging_fraction=0.8\n"
     ]
    },
    {
     "name": "stderr",
     "output_type": "stream",
     "text": [
      "\u001b[32m[I 2022-07-23 17:27:32,031]\u001b[0m Trial 621 finished with value: 0.7589984650805832 and parameters: {'feature_fraction': 1.0, 'feature_fraction_bynode': 0.7, 'max_depth': 200, 'min_child_samples': 150, 'bagging_fraction': 0.8, 'num_leaves': 62, 'learning_rate': 0.1, 'max_bin': 1000}. Best is trial 318 with value: 0.7597419416730622.\u001b[0m\n"
     ]
    },
    {
     "name": "stdout",
     "output_type": "stream",
     "text": [
      "[LightGBM] [Warning] feature_fraction is set=0.9, colsample_bytree=1.0 will be ignored. Current value: feature_fraction=0.9\n",
      "[LightGBM] [Warning] bagging_fraction is set=0.5, subsample=1.0 will be ignored. Current value: bagging_fraction=0.5\n",
      "[LightGBM] [Warning] feature_fraction is set=0.9, colsample_bytree=1.0 will be ignored. Current value: feature_fraction=0.9\n",
      "[LightGBM] [Warning] bagging_fraction is set=0.5, subsample=1.0 will be ignored. Current value: bagging_fraction=0.5\n"
     ]
    },
    {
     "name": "stderr",
     "output_type": "stream",
     "text": [
      "\u001b[32m[I 2022-07-23 17:27:54,035]\u001b[0m Trial 622 finished with value: 0.7573772064466615 and parameters: {'feature_fraction': 0.9, 'feature_fraction_bynode': 0.7, 'max_depth': 250, 'min_child_samples': 150, 'bagging_fraction': 0.5, 'num_leaves': 72, 'learning_rate': 0.2, 'max_bin': 1000}. Best is trial 318 with value: 0.7597419416730622.\u001b[0m\n"
     ]
    },
    {
     "name": "stdout",
     "output_type": "stream",
     "text": [
      "[LightGBM] [Warning] feature_fraction is set=1.0, colsample_bytree=1.0 will be ignored. Current value: feature_fraction=1.0\n",
      "[LightGBM] [Warning] bagging_fraction is set=0.8, subsample=1.0 will be ignored. Current value: bagging_fraction=0.8\n",
      "[LightGBM] [Warning] feature_fraction is set=1.0, colsample_bytree=1.0 will be ignored. Current value: feature_fraction=1.0\n",
      "[LightGBM] [Warning] bagging_fraction is set=0.8, subsample=1.0 will be ignored. Current value: bagging_fraction=0.8\n"
     ]
    },
    {
     "name": "stderr",
     "output_type": "stream",
     "text": [
      "\u001b[32m[I 2022-07-23 17:28:17,129]\u001b[0m Trial 623 finished with value: 0.7592910590943975 and parameters: {'feature_fraction': 1.0, 'feature_fraction_bynode': 0.8, 'max_depth': 200, 'min_child_samples': 150, 'bagging_fraction': 0.8, 'num_leaves': 72, 'learning_rate': 0.1, 'max_bin': 1000}. Best is trial 318 with value: 0.7597419416730622.\u001b[0m\n"
     ]
    },
    {
     "name": "stdout",
     "output_type": "stream",
     "text": [
      "[LightGBM] [Warning] feature_fraction is set=1.0, colsample_bytree=1.0 will be ignored. Current value: feature_fraction=1.0\n",
      "[LightGBM] [Warning] bagging_fraction is set=0.8, subsample=1.0 will be ignored. Current value: bagging_fraction=0.8\n",
      "[LightGBM] [Warning] feature_fraction is set=1.0, colsample_bytree=1.0 will be ignored. Current value: feature_fraction=1.0\n",
      "[LightGBM] [Warning] bagging_fraction is set=0.8, subsample=1.0 will be ignored. Current value: bagging_fraction=0.8\n"
     ]
    },
    {
     "name": "stderr",
     "output_type": "stream",
     "text": [
      "\u001b[32m[I 2022-07-23 17:28:42,536]\u001b[0m Trial 624 finished with value: 0.7597419416730622 and parameters: {'feature_fraction': 1.0, 'feature_fraction_bynode': 0.7, 'max_depth': 250, 'min_child_samples': 150, 'bagging_fraction': 0.8, 'num_leaves': 72, 'learning_rate': 0.1, 'max_bin': 1000}. Best is trial 318 with value: 0.7597419416730622.\u001b[0m\n"
     ]
    },
    {
     "name": "stdout",
     "output_type": "stream",
     "text": [
      "[LightGBM] [Warning] feature_fraction is set=1.0, colsample_bytree=1.0 will be ignored. Current value: feature_fraction=1.0\n",
      "[LightGBM] [Warning] bagging_fraction is set=0.8, subsample=1.0 will be ignored. Current value: bagging_fraction=0.8\n",
      "[LightGBM] [Warning] feature_fraction is set=1.0, colsample_bytree=1.0 will be ignored. Current value: feature_fraction=1.0\n",
      "[LightGBM] [Warning] bagging_fraction is set=0.8, subsample=1.0 will be ignored. Current value: bagging_fraction=0.8\n"
     ]
    },
    {
     "name": "stderr",
     "output_type": "stream",
     "text": [
      "\u001b[32m[I 2022-07-23 17:29:08,454]\u001b[0m Trial 625 finished with value: 0.7597419416730622 and parameters: {'feature_fraction': 1.0, 'feature_fraction_bynode': 0.7, 'max_depth': 450, 'min_child_samples': 150, 'bagging_fraction': 0.8, 'num_leaves': 72, 'learning_rate': 0.1, 'max_bin': 1000}. Best is trial 318 with value: 0.7597419416730622.\u001b[0m\n"
     ]
    },
    {
     "name": "stdout",
     "output_type": "stream",
     "text": [
      "[LightGBM] [Warning] feature_fraction is set=1.0, colsample_bytree=1.0 will be ignored. Current value: feature_fraction=1.0\n",
      "[LightGBM] [Warning] bagging_fraction is set=0.8, subsample=1.0 will be ignored. Current value: bagging_fraction=0.8\n",
      "[LightGBM] [Warning] feature_fraction is set=1.0, colsample_bytree=1.0 will be ignored. Current value: feature_fraction=1.0\n",
      "[LightGBM] [Warning] bagging_fraction is set=0.8, subsample=1.0 will be ignored. Current value: bagging_fraction=0.8\n"
     ]
    },
    {
     "name": "stderr",
     "output_type": "stream",
     "text": [
      "\u001b[32m[I 2022-07-23 17:29:35,537]\u001b[0m Trial 626 finished with value: 0.7592478894858019 and parameters: {'feature_fraction': 1.0, 'feature_fraction_bynode': 0.7, 'max_depth': 200, 'min_child_samples': 150, 'bagging_fraction': 0.8, 'num_leaves': 72, 'learning_rate': 0.1, 'max_bin': 2000}. Best is trial 318 with value: 0.7597419416730622.\u001b[0m\n"
     ]
    },
    {
     "name": "stdout",
     "output_type": "stream",
     "text": [
      "[LightGBM] [Warning] feature_fraction is set=1.0, colsample_bytree=1.0 will be ignored. Current value: feature_fraction=1.0\n",
      "[LightGBM] [Warning] bagging_fraction is set=0.8, subsample=1.0 will be ignored. Current value: bagging_fraction=0.8\n",
      "[LightGBM] [Warning] feature_fraction is set=1.0, colsample_bytree=1.0 will be ignored. Current value: feature_fraction=1.0\n",
      "[LightGBM] [Warning] bagging_fraction is set=0.8, subsample=1.0 will be ignored. Current value: bagging_fraction=0.8\n"
     ]
    },
    {
     "name": "stderr",
     "output_type": "stream",
     "text": [
      "\u001b[32m[I 2022-07-23 17:30:06,147]\u001b[0m Trial 627 finished with value: 0.758960092095165 and parameters: {'feature_fraction': 1.0, 'feature_fraction_bynode': 0.7, 'max_depth': 200, 'min_child_samples': 150, 'bagging_fraction': 0.8, 'num_leaves': 82, 'learning_rate': 0.1, 'max_bin': 1000}. Best is trial 318 with value: 0.7597419416730622.\u001b[0m\n"
     ]
    },
    {
     "name": "stdout",
     "output_type": "stream",
     "text": [
      "[LightGBM] [Warning] feature_fraction is set=1.0, colsample_bytree=1.0 will be ignored. Current value: feature_fraction=1.0\n",
      "[LightGBM] [Warning] bagging_fraction is set=0.8, subsample=1.0 will be ignored. Current value: bagging_fraction=0.8\n",
      "[LightGBM] [Warning] feature_fraction is set=1.0, colsample_bytree=1.0 will be ignored. Current value: feature_fraction=1.0\n",
      "[LightGBM] [Warning] bagging_fraction is set=0.8, subsample=1.0 will be ignored. Current value: bagging_fraction=0.8\n"
     ]
    },
    {
     "name": "stderr",
     "output_type": "stream",
     "text": [
      "\u001b[32m[I 2022-07-23 17:30:29,975]\u001b[0m Trial 628 finished with value: 0.7597419416730622 and parameters: {'feature_fraction': 1.0, 'feature_fraction_bynode': 0.7, 'max_depth': 250, 'min_child_samples': 150, 'bagging_fraction': 0.8, 'num_leaves': 72, 'learning_rate': 0.1, 'max_bin': 1000}. Best is trial 318 with value: 0.7597419416730622.\u001b[0m\n"
     ]
    },
    {
     "name": "stdout",
     "output_type": "stream",
     "text": [
      "[LightGBM] [Warning] feature_fraction is set=1.0, colsample_bytree=1.0 will be ignored. Current value: feature_fraction=1.0\n",
      "[LightGBM] [Warning] bagging_fraction is set=0.8, subsample=1.0 will be ignored. Current value: bagging_fraction=0.8\n",
      "[LightGBM] [Warning] feature_fraction is set=1.0, colsample_bytree=1.0 will be ignored. Current value: feature_fraction=1.0\n",
      "[LightGBM] [Warning] bagging_fraction is set=0.8, subsample=1.0 will be ignored. Current value: bagging_fraction=0.8\n"
     ]
    },
    {
     "name": "stderr",
     "output_type": "stream",
     "text": [
      "\u001b[32m[I 2022-07-23 17:30:54,837]\u001b[0m Trial 629 finished with value: 0.7587442440521872 and parameters: {'feature_fraction': 1.0, 'feature_fraction_bynode': 0.7, 'max_depth': 400, 'min_child_samples': 150, 'bagging_fraction': 0.8, 'num_leaves': 92, 'learning_rate': 0.1, 'max_bin': 1000}. Best is trial 318 with value: 0.7597419416730622.\u001b[0m\n"
     ]
    },
    {
     "name": "stdout",
     "output_type": "stream",
     "text": [
      "[LightGBM] [Warning] feature_fraction is set=1.0, colsample_bytree=1.0 will be ignored. Current value: feature_fraction=1.0\n",
      "[LightGBM] [Warning] bagging_fraction is set=0.8, subsample=1.0 will be ignored. Current value: bagging_fraction=0.8\n",
      "[LightGBM] [Warning] feature_fraction is set=1.0, colsample_bytree=1.0 will be ignored. Current value: feature_fraction=1.0\n",
      "[LightGBM] [Warning] bagging_fraction is set=0.8, subsample=1.0 will be ignored. Current value: bagging_fraction=0.8\n"
     ]
    },
    {
     "name": "stderr",
     "output_type": "stream",
     "text": [
      "\u001b[32m[I 2022-07-23 17:31:17,714]\u001b[0m Trial 630 finished with value: 0.7589984650805832 and parameters: {'feature_fraction': 1.0, 'feature_fraction_bynode': 0.7, 'max_depth': 250, 'min_child_samples': 150, 'bagging_fraction': 0.8, 'num_leaves': 62, 'learning_rate': 0.1, 'max_bin': 1000}. Best is trial 318 with value: 0.7597419416730622.\u001b[0m\n"
     ]
    },
    {
     "name": "stdout",
     "output_type": "stream",
     "text": [
      "[LightGBM] [Warning] feature_fraction is set=1.0, colsample_bytree=1.0 will be ignored. Current value: feature_fraction=1.0\n",
      "[LightGBM] [Warning] bagging_fraction is set=0.8, subsample=1.0 will be ignored. Current value: bagging_fraction=0.8\n",
      "[LightGBM] [Warning] feature_fraction is set=1.0, colsample_bytree=1.0 will be ignored. Current value: feature_fraction=1.0\n",
      "[LightGBM] [Warning] bagging_fraction is set=0.8, subsample=1.0 will be ignored. Current value: bagging_fraction=0.8\n"
     ]
    },
    {
     "name": "stderr",
     "output_type": "stream",
     "text": [
      "\u001b[32m[I 2022-07-23 17:31:44,821]\u001b[0m Trial 631 finished with value: 0.7597419416730622 and parameters: {'feature_fraction': 1.0, 'feature_fraction_bynode': 0.7, 'max_depth': 250, 'min_child_samples': 150, 'bagging_fraction': 0.8, 'num_leaves': 72, 'learning_rate': 0.1, 'max_bin': 1000}. Best is trial 318 with value: 0.7597419416730622.\u001b[0m\n"
     ]
    },
    {
     "name": "stdout",
     "output_type": "stream",
     "text": [
      "[LightGBM] [Warning] feature_fraction is set=1.0, colsample_bytree=1.0 will be ignored. Current value: feature_fraction=1.0\n",
      "[LightGBM] [Warning] bagging_fraction is set=0.8, subsample=1.0 will be ignored. Current value: bagging_fraction=0.8\n",
      "[LightGBM] [Warning] feature_fraction is set=1.0, colsample_bytree=1.0 will be ignored. Current value: feature_fraction=1.0\n",
      "[LightGBM] [Warning] bagging_fraction is set=0.8, subsample=1.0 will be ignored. Current value: bagging_fraction=0.8\n"
     ]
    },
    {
     "name": "stderr",
     "output_type": "stream",
     "text": [
      "\u001b[32m[I 2022-07-23 17:32:06,540]\u001b[0m Trial 632 finished with value: 0.7572812739831158 and parameters: {'feature_fraction': 1.0, 'feature_fraction_bynode': 0.7, 'max_depth': 250, 'min_child_samples': 150, 'bagging_fraction': 0.8, 'num_leaves': 72, 'learning_rate': 0.2, 'max_bin': 1000}. Best is trial 318 with value: 0.7597419416730622.\u001b[0m\n"
     ]
    },
    {
     "name": "stdout",
     "output_type": "stream",
     "text": [
      "[LightGBM] [Warning] feature_fraction is set=1.0, colsample_bytree=1.0 will be ignored. Current value: feature_fraction=1.0\n",
      "[LightGBM] [Warning] bagging_fraction is set=0.8, subsample=1.0 will be ignored. Current value: bagging_fraction=0.8\n",
      "[LightGBM] [Warning] feature_fraction is set=1.0, colsample_bytree=1.0 will be ignored. Current value: feature_fraction=1.0\n",
      "[LightGBM] [Warning] bagging_fraction is set=0.8, subsample=1.0 will be ignored. Current value: bagging_fraction=0.8\n"
     ]
    },
    {
     "name": "stderr",
     "output_type": "stream",
     "text": [
      "\u001b[32m[I 2022-07-23 17:32:29,762]\u001b[0m Trial 633 finished with value: 0.7597419416730622 and parameters: {'feature_fraction': 1.0, 'feature_fraction_bynode': 0.7, 'max_depth': 250, 'min_child_samples': 150, 'bagging_fraction': 0.8, 'num_leaves': 72, 'learning_rate': 0.1, 'max_bin': 1000}. Best is trial 318 with value: 0.7597419416730622.\u001b[0m\n"
     ]
    },
    {
     "name": "stdout",
     "output_type": "stream",
     "text": [
      "[LightGBM] [Warning] feature_fraction is set=0.6, colsample_bytree=1.0 will be ignored. Current value: feature_fraction=0.6\n",
      "[LightGBM] [Warning] bagging_fraction is set=0.8, subsample=1.0 will be ignored. Current value: bagging_fraction=0.8\n",
      "[LightGBM] [Warning] feature_fraction is set=0.6, colsample_bytree=1.0 will be ignored. Current value: feature_fraction=0.6\n",
      "[LightGBM] [Warning] bagging_fraction is set=0.8, subsample=1.0 will be ignored. Current value: bagging_fraction=0.8\n"
     ]
    },
    {
     "name": "stderr",
     "output_type": "stream",
     "text": [
      "\u001b[32m[I 2022-07-23 17:32:59,291]\u001b[0m Trial 634 finished with value: 0.7585235993860322 and parameters: {'feature_fraction': 0.6, 'feature_fraction_bynode': 0.7, 'max_depth': 450, 'min_child_samples': 150, 'bagging_fraction': 0.8, 'num_leaves': 72, 'learning_rate': 0.1, 'max_bin': 1000}. Best is trial 318 with value: 0.7597419416730622.\u001b[0m\n"
     ]
    },
    {
     "name": "stdout",
     "output_type": "stream",
     "text": [
      "[LightGBM] [Warning] feature_fraction is set=1.0, colsample_bytree=1.0 will be ignored. Current value: feature_fraction=1.0\n",
      "[LightGBM] [Warning] bagging_fraction is set=0.8, subsample=1.0 will be ignored. Current value: bagging_fraction=0.8\n",
      "[LightGBM] [Warning] feature_fraction is set=1.0, colsample_bytree=1.0 will be ignored. Current value: feature_fraction=1.0\n",
      "[LightGBM] [Warning] bagging_fraction is set=0.8, subsample=1.0 will be ignored. Current value: bagging_fraction=0.8\n"
     ]
    },
    {
     "name": "stderr",
     "output_type": "stream",
     "text": [
      "\u001b[32m[I 2022-07-23 17:33:22,272]\u001b[0m Trial 635 finished with value: 0.7597419416730622 and parameters: {'feature_fraction': 1.0, 'feature_fraction_bynode': 0.7, 'max_depth': 350, 'min_child_samples': 150, 'bagging_fraction': 0.8, 'num_leaves': 72, 'learning_rate': 0.1, 'max_bin': 1000}. Best is trial 318 with value: 0.7597419416730622.\u001b[0m\n"
     ]
    },
    {
     "name": "stdout",
     "output_type": "stream",
     "text": [
      "[LightGBM] [Warning] feature_fraction is set=1.0, colsample_bytree=1.0 will be ignored. Current value: feature_fraction=1.0\n",
      "[LightGBM] [Warning] bagging_fraction is set=0.8, subsample=1.0 will be ignored. Current value: bagging_fraction=0.8\n",
      "[LightGBM] [Warning] feature_fraction is set=1.0, colsample_bytree=1.0 will be ignored. Current value: feature_fraction=1.0\n",
      "[LightGBM] [Warning] bagging_fraction is set=0.8, subsample=1.0 will be ignored. Current value: bagging_fraction=0.8\n"
     ]
    },
    {
     "name": "stderr",
     "output_type": "stream",
     "text": [
      "\u001b[32m[I 2022-07-23 17:33:44,904]\u001b[0m Trial 636 finished with value: 0.7590752110514197 and parameters: {'feature_fraction': 1.0, 'feature_fraction_bynode': 0.7, 'max_depth': 450, 'min_child_samples': 150, 'bagging_fraction': 0.8, 'num_leaves': 62, 'learning_rate': 0.1, 'max_bin': 2000}. Best is trial 318 with value: 0.7597419416730622.\u001b[0m\n"
     ]
    },
    {
     "name": "stdout",
     "output_type": "stream",
     "text": [
      "[LightGBM] [Warning] feature_fraction is set=1.0, colsample_bytree=1.0 will be ignored. Current value: feature_fraction=1.0\n",
      "[LightGBM] [Warning] bagging_fraction is set=0.8, subsample=1.0 will be ignored. Current value: bagging_fraction=0.8\n",
      "[LightGBM] [Warning] feature_fraction is set=1.0, colsample_bytree=1.0 will be ignored. Current value: feature_fraction=1.0\n",
      "[LightGBM] [Warning] bagging_fraction is set=0.8, subsample=1.0 will be ignored. Current value: bagging_fraction=0.8\n"
     ]
    },
    {
     "name": "stderr",
     "output_type": "stream",
     "text": [
      "\u001b[32m[I 2022-07-23 17:34:15,348]\u001b[0m Trial 637 finished with value: 0.7597419416730622 and parameters: {'feature_fraction': 1.0, 'feature_fraction_bynode': 0.7, 'max_depth': 200, 'min_child_samples': 150, 'bagging_fraction': 0.8, 'num_leaves': 72, 'learning_rate': 0.1, 'max_bin': 1000}. Best is trial 318 with value: 0.7597419416730622.\u001b[0m\n"
     ]
    },
    {
     "name": "stdout",
     "output_type": "stream",
     "text": [
      "[LightGBM] [Warning] feature_fraction is set=1.0, colsample_bytree=1.0 will be ignored. Current value: feature_fraction=1.0\n",
      "[LightGBM] [Warning] bagging_fraction is set=0.8, subsample=1.0 will be ignored. Current value: bagging_fraction=0.8\n",
      "[LightGBM] [Warning] feature_fraction is set=1.0, colsample_bytree=1.0 will be ignored. Current value: feature_fraction=1.0\n",
      "[LightGBM] [Warning] bagging_fraction is set=0.8, subsample=1.0 will be ignored. Current value: bagging_fraction=0.8\n"
     ]
    },
    {
     "name": "stderr",
     "output_type": "stream",
     "text": [
      "\u001b[32m[I 2022-07-23 17:34:44,120]\u001b[0m Trial 638 finished with value: 0.7574635456638527 and parameters: {'feature_fraction': 1.0, 'feature_fraction_bynode': 0.6, 'max_depth': 500, 'min_child_samples': 150, 'bagging_fraction': 0.8, 'num_leaves': 82, 'learning_rate': 0.2, 'max_bin': 1000}. Best is trial 318 with value: 0.7597419416730622.\u001b[0m\n"
     ]
    },
    {
     "name": "stdout",
     "output_type": "stream",
     "text": [
      "[LightGBM] [Warning] feature_fraction is set=1.0, colsample_bytree=1.0 will be ignored. Current value: feature_fraction=1.0\n",
      "[LightGBM] [Warning] bagging_fraction is set=0.8, subsample=1.0 will be ignored. Current value: bagging_fraction=0.8\n",
      "[LightGBM] [Warning] feature_fraction is set=1.0, colsample_bytree=1.0 will be ignored. Current value: feature_fraction=1.0\n",
      "[LightGBM] [Warning] bagging_fraction is set=0.8, subsample=1.0 will be ignored. Current value: bagging_fraction=0.8\n"
     ]
    },
    {
     "name": "stderr",
     "output_type": "stream",
     "text": [
      "\u001b[32m[I 2022-07-23 17:35:14,407]\u001b[0m Trial 639 finished with value: 0.7597419416730622 and parameters: {'feature_fraction': 1.0, 'feature_fraction_bynode': 0.7, 'max_depth': 250, 'min_child_samples': 150, 'bagging_fraction': 0.8, 'num_leaves': 72, 'learning_rate': 0.1, 'max_bin': 1000}. Best is trial 318 with value: 0.7597419416730622.\u001b[0m\n"
     ]
    },
    {
     "name": "stdout",
     "output_type": "stream",
     "text": [
      "[LightGBM] [Warning] feature_fraction is set=1.0, colsample_bytree=1.0 will be ignored. Current value: feature_fraction=1.0\n",
      "[LightGBM] [Warning] bagging_fraction is set=0.8, subsample=1.0 will be ignored. Current value: bagging_fraction=0.8\n",
      "[LightGBM] [Warning] feature_fraction is set=1.0, colsample_bytree=1.0 will be ignored. Current value: feature_fraction=1.0\n",
      "[LightGBM] [Warning] bagging_fraction is set=0.8, subsample=1.0 will be ignored. Current value: bagging_fraction=0.8\n"
     ]
    },
    {
     "name": "stderr",
     "output_type": "stream",
     "text": [
      "\u001b[32m[I 2022-07-23 17:35:48,958]\u001b[0m Trial 640 finished with value: 0.7597419416730622 and parameters: {'feature_fraction': 1.0, 'feature_fraction_bynode': 0.7, 'max_depth': 250, 'min_child_samples': 150, 'bagging_fraction': 0.8, 'num_leaves': 72, 'learning_rate': 0.1, 'max_bin': 1000}. Best is trial 318 with value: 0.7597419416730622.\u001b[0m\n"
     ]
    },
    {
     "name": "stdout",
     "output_type": "stream",
     "text": [
      "[LightGBM] [Warning] feature_fraction is set=1.0, colsample_bytree=1.0 will be ignored. Current value: feature_fraction=1.0\n",
      "[LightGBM] [Warning] bagging_fraction is set=0.8, subsample=1.0 will be ignored. Current value: bagging_fraction=0.8\n",
      "[LightGBM] [Warning] feature_fraction is set=1.0, colsample_bytree=1.0 will be ignored. Current value: feature_fraction=1.0\n",
      "[LightGBM] [Warning] bagging_fraction is set=0.8, subsample=1.0 will be ignored. Current value: bagging_fraction=0.8\n"
     ]
    },
    {
     "name": "stderr",
     "output_type": "stream",
     "text": [
      "\u001b[32m[I 2022-07-23 17:36:30,189]\u001b[0m Trial 641 finished with value: 0.7597419416730622 and parameters: {'feature_fraction': 1.0, 'feature_fraction_bynode': 0.7, 'max_depth': 250, 'min_child_samples': 150, 'bagging_fraction': 0.8, 'num_leaves': 72, 'learning_rate': 0.1, 'max_bin': 1000}. Best is trial 318 with value: 0.7597419416730622.\u001b[0m\n"
     ]
    },
    {
     "name": "stdout",
     "output_type": "stream",
     "text": [
      "[LightGBM] [Warning] feature_fraction is set=1.0, colsample_bytree=1.0 will be ignored. Current value: feature_fraction=1.0\n",
      "[LightGBM] [Warning] bagging_fraction is set=0.8, subsample=1.0 will be ignored. Current value: bagging_fraction=0.8\n",
      "[LightGBM] [Warning] feature_fraction is set=1.0, colsample_bytree=1.0 will be ignored. Current value: feature_fraction=1.0\n",
      "[LightGBM] [Warning] bagging_fraction is set=0.8, subsample=1.0 will be ignored. Current value: bagging_fraction=0.8\n"
     ]
    },
    {
     "name": "stderr",
     "output_type": "stream",
     "text": [
      "\u001b[32m[I 2022-07-23 17:37:08,920]\u001b[0m Trial 642 finished with value: 0.7592478894858019 and parameters: {'feature_fraction': 1.0, 'feature_fraction_bynode': 0.7, 'max_depth': 450, 'min_child_samples': 150, 'bagging_fraction': 0.8, 'num_leaves': 72, 'learning_rate': 0.1, 'max_bin': 9000}. Best is trial 318 with value: 0.7597419416730622.\u001b[0m\n"
     ]
    },
    {
     "name": "stdout",
     "output_type": "stream",
     "text": [
      "[LightGBM] [Warning] feature_fraction is set=1.0, colsample_bytree=1.0 will be ignored. Current value: feature_fraction=1.0\n",
      "[LightGBM] [Warning] bagging_fraction is set=0.8, subsample=1.0 will be ignored. Current value: bagging_fraction=0.8\n",
      "[LightGBM] [Warning] feature_fraction is set=1.0, colsample_bytree=1.0 will be ignored. Current value: feature_fraction=1.0\n",
      "[LightGBM] [Warning] bagging_fraction is set=0.8, subsample=1.0 will be ignored. Current value: bagging_fraction=0.8\n"
     ]
    },
    {
     "name": "stderr",
     "output_type": "stream",
     "text": [
      "\u001b[32m[I 2022-07-23 17:37:39,090]\u001b[0m Trial 643 finished with value: 0.7590752110514197 and parameters: {'feature_fraction': 1.0, 'feature_fraction_bynode': 0.7, 'max_depth': 200, 'min_child_samples': 150, 'bagging_fraction': 0.8, 'num_leaves': 62, 'learning_rate': 0.1, 'max_bin': 6000}. Best is trial 318 with value: 0.7597419416730622.\u001b[0m\n"
     ]
    },
    {
     "name": "stdout",
     "output_type": "stream",
     "text": [
      "[LightGBM] [Warning] feature_fraction is set=1.0, colsample_bytree=1.0 will be ignored. Current value: feature_fraction=1.0\n",
      "[LightGBM] [Warning] bagging_fraction is set=0.8, subsample=1.0 will be ignored. Current value: bagging_fraction=0.8\n",
      "[LightGBM] [Warning] feature_fraction is set=1.0, colsample_bytree=1.0 will be ignored. Current value: feature_fraction=1.0\n",
      "[LightGBM] [Warning] bagging_fraction is set=0.8, subsample=1.0 will be ignored. Current value: bagging_fraction=0.8\n"
     ]
    },
    {
     "name": "stderr",
     "output_type": "stream",
     "text": [
      "\u001b[32m[I 2022-07-23 17:38:06,141]\u001b[0m Trial 644 finished with value: 0.7597419416730622 and parameters: {'feature_fraction': 1.0, 'feature_fraction_bynode': 0.7, 'max_depth': 500, 'min_child_samples': 150, 'bagging_fraction': 0.8, 'num_leaves': 72, 'learning_rate': 0.1, 'max_bin': 1000}. Best is trial 318 with value: 0.7597419416730622.\u001b[0m\n"
     ]
    },
    {
     "name": "stdout",
     "output_type": "stream",
     "text": [
      "[LightGBM] [Warning] feature_fraction is set=0.8, colsample_bytree=1.0 will be ignored. Current value: feature_fraction=0.8\n",
      "[LightGBM] [Warning] bagging_fraction is set=0.8, subsample=1.0 will be ignored. Current value: bagging_fraction=0.8\n",
      "[LightGBM] [Warning] feature_fraction is set=0.8, colsample_bytree=1.0 will be ignored. Current value: feature_fraction=0.8\n",
      "[LightGBM] [Warning] bagging_fraction is set=0.8, subsample=1.0 will be ignored. Current value: bagging_fraction=0.8\n"
     ]
    },
    {
     "name": "stderr",
     "output_type": "stream",
     "text": [
      "\u001b[32m[I 2022-07-23 17:38:26,628]\u001b[0m Trial 645 finished with value: 0.7589792785878742 and parameters: {'feature_fraction': 0.8, 'feature_fraction_bynode': 0.7, 'max_depth': 250, 'min_child_samples': 150, 'bagging_fraction': 0.8, 'num_leaves': 72, 'learning_rate': 0.1, 'max_bin': 1000}. Best is trial 318 with value: 0.7597419416730622.\u001b[0m\n"
     ]
    },
    {
     "name": "stdout",
     "output_type": "stream",
     "text": [
      "[LightGBM] [Warning] feature_fraction is set=1.0, colsample_bytree=1.0 will be ignored. Current value: feature_fraction=1.0\n",
      "[LightGBM] [Warning] bagging_fraction is set=0.8, subsample=1.0 will be ignored. Current value: bagging_fraction=0.8\n",
      "[LightGBM] [Warning] feature_fraction is set=1.0, colsample_bytree=1.0 will be ignored. Current value: feature_fraction=1.0\n",
      "[LightGBM] [Warning] bagging_fraction is set=0.8, subsample=1.0 will be ignored. Current value: bagging_fraction=0.8\n"
     ]
    },
    {
     "name": "stderr",
     "output_type": "stream",
     "text": [
      "\u001b[32m[I 2022-07-23 17:38:48,726]\u001b[0m Trial 646 finished with value: 0.7588737528779739 and parameters: {'feature_fraction': 1.0, 'feature_fraction_bynode': 0.7, 'max_depth': 500, 'min_child_samples': 150, 'bagging_fraction': 0.8, 'num_leaves': 82, 'learning_rate': 0.1, 'max_bin': 2000}. Best is trial 318 with value: 0.7597419416730622.\u001b[0m\n"
     ]
    },
    {
     "name": "stdout",
     "output_type": "stream",
     "text": [
      "[LightGBM] [Warning] feature_fraction is set=1.0, colsample_bytree=1.0 will be ignored. Current value: feature_fraction=1.0\n",
      "[LightGBM] [Warning] bagging_fraction is set=0.8, subsample=1.0 will be ignored. Current value: bagging_fraction=0.8\n",
      "[LightGBM] [Warning] feature_fraction is set=1.0, colsample_bytree=1.0 will be ignored. Current value: feature_fraction=1.0\n",
      "[LightGBM] [Warning] bagging_fraction is set=0.8, subsample=1.0 will be ignored. Current value: bagging_fraction=0.8\n"
     ]
    },
    {
     "name": "stderr",
     "output_type": "stream",
     "text": [
      "\u001b[32m[I 2022-07-23 17:39:15,174]\u001b[0m Trial 647 finished with value: 0.7597419416730622 and parameters: {'feature_fraction': 1.0, 'feature_fraction_bynode': 0.7, 'max_depth': 500, 'min_child_samples': 150, 'bagging_fraction': 0.8, 'num_leaves': 72, 'learning_rate': 0.1, 'max_bin': 1000}. Best is trial 318 with value: 0.7597419416730622.\u001b[0m\n"
     ]
    },
    {
     "name": "stdout",
     "output_type": "stream",
     "text": [
      "[LightGBM] [Warning] feature_fraction is set=1.0, colsample_bytree=1.0 will be ignored. Current value: feature_fraction=1.0\n",
      "[LightGBM] [Warning] bagging_fraction is set=0.8, subsample=1.0 will be ignored. Current value: bagging_fraction=0.8\n",
      "[LightGBM] [Warning] feature_fraction is set=1.0, colsample_bytree=1.0 will be ignored. Current value: feature_fraction=1.0\n",
      "[LightGBM] [Warning] bagging_fraction is set=0.8, subsample=1.0 will be ignored. Current value: bagging_fraction=0.8\n"
     ]
    },
    {
     "name": "stderr",
     "output_type": "stream",
     "text": [
      "\u001b[32m[I 2022-07-23 17:39:39,994]\u001b[0m Trial 648 finished with value: 0.7597419416730622 and parameters: {'feature_fraction': 1.0, 'feature_fraction_bynode': 0.7, 'max_depth': 250, 'min_child_samples': 150, 'bagging_fraction': 0.8, 'num_leaves': 72, 'learning_rate': 0.1, 'max_bin': 1000}. Best is trial 318 with value: 0.7597419416730622.\u001b[0m\n"
     ]
    },
    {
     "name": "stdout",
     "output_type": "stream",
     "text": [
      "[LightGBM] [Warning] feature_fraction is set=1.0, colsample_bytree=1.0 will be ignored. Current value: feature_fraction=1.0\n",
      "[LightGBM] [Warning] bagging_fraction is set=0.8, subsample=1.0 will be ignored. Current value: bagging_fraction=0.8\n",
      "[LightGBM] [Warning] feature_fraction is set=1.0, colsample_bytree=1.0 will be ignored. Current value: feature_fraction=1.0\n",
      "[LightGBM] [Warning] bagging_fraction is set=0.8, subsample=1.0 will be ignored. Current value: bagging_fraction=0.8\n"
     ]
    },
    {
     "name": "stderr",
     "output_type": "stream",
     "text": [
      "\u001b[32m[I 2022-07-23 17:40:08,064]\u001b[0m Trial 649 finished with value: 0.7445558326937836 and parameters: {'feature_fraction': 1.0, 'feature_fraction_bynode': 0.7, 'max_depth': 250, 'min_child_samples': 150, 'bagging_fraction': 0.8, 'num_leaves': 72, 'learning_rate': 0.6, 'max_bin': 1000}. Best is trial 318 with value: 0.7597419416730622.\u001b[0m\n"
     ]
    },
    {
     "name": "stdout",
     "output_type": "stream",
     "text": [
      "[LightGBM] [Warning] feature_fraction is set=1.0, colsample_bytree=1.0 will be ignored. Current value: feature_fraction=1.0\n",
      "[LightGBM] [Warning] bagging_fraction is set=0.8, subsample=1.0 will be ignored. Current value: bagging_fraction=0.8\n",
      "[LightGBM] [Warning] feature_fraction is set=1.0, colsample_bytree=1.0 will be ignored. Current value: feature_fraction=1.0\n",
      "[LightGBM] [Warning] bagging_fraction is set=0.8, subsample=1.0 will be ignored. Current value: bagging_fraction=0.8\n"
     ]
    },
    {
     "name": "stderr",
     "output_type": "stream",
     "text": [
      "\u001b[32m[I 2022-07-23 17:40:31,408]\u001b[0m Trial 650 finished with value: 0.7597419416730622 and parameters: {'feature_fraction': 1.0, 'feature_fraction_bynode': 0.7, 'max_depth': 250, 'min_child_samples': 150, 'bagging_fraction': 0.8, 'num_leaves': 72, 'learning_rate': 0.1, 'max_bin': 1000}. Best is trial 318 with value: 0.7597419416730622.\u001b[0m\n"
     ]
    },
    {
     "name": "stdout",
     "output_type": "stream",
     "text": [
      "[LightGBM] [Warning] feature_fraction is set=0.5, colsample_bytree=1.0 will be ignored. Current value: feature_fraction=0.5\n",
      "[LightGBM] [Warning] bagging_fraction is set=0.8, subsample=1.0 will be ignored. Current value: bagging_fraction=0.8\n",
      "[LightGBM] [Warning] feature_fraction is set=0.5, colsample_bytree=1.0 will be ignored. Current value: feature_fraction=0.5\n",
      "[LightGBM] [Warning] bagging_fraction is set=0.8, subsample=1.0 will be ignored. Current value: bagging_fraction=0.8\n"
     ]
    },
    {
     "name": "stderr",
     "output_type": "stream",
     "text": [
      "\u001b[32m[I 2022-07-23 17:41:01,788]\u001b[0m Trial 651 finished with value: 0.7588785495011512 and parameters: {'feature_fraction': 0.5, 'feature_fraction_bynode': 0.7, 'max_depth': 450, 'min_child_samples': 150, 'bagging_fraction': 0.8, 'num_leaves': 82, 'learning_rate': 0.1, 'max_bin': 1000}. Best is trial 318 with value: 0.7597419416730622.\u001b[0m\n"
     ]
    },
    {
     "name": "stdout",
     "output_type": "stream",
     "text": [
      "[LightGBM] [Warning] feature_fraction is set=1.0, colsample_bytree=1.0 will be ignored. Current value: feature_fraction=1.0\n",
      "[LightGBM] [Warning] bagging_fraction is set=0.8, subsample=1.0 will be ignored. Current value: bagging_fraction=0.8\n",
      "[LightGBM] [Warning] feature_fraction is set=1.0, colsample_bytree=1.0 will be ignored. Current value: feature_fraction=1.0\n",
      "[LightGBM] [Warning] bagging_fraction is set=0.8, subsample=1.0 will be ignored. Current value: bagging_fraction=0.8\n"
     ]
    },
    {
     "name": "stderr",
     "output_type": "stream",
     "text": [
      "\u001b[32m[I 2022-07-23 17:41:45,264]\u001b[0m Trial 652 finished with value: 0.7597419416730622 and parameters: {'feature_fraction': 1.0, 'feature_fraction_bynode': 0.7, 'max_depth': 500, 'min_child_samples': 150, 'bagging_fraction': 0.8, 'num_leaves': 72, 'learning_rate': 0.1, 'max_bin': 1000}. Best is trial 318 with value: 0.7597419416730622.\u001b[0m\n"
     ]
    },
    {
     "name": "stdout",
     "output_type": "stream",
     "text": [
      "[LightGBM] [Warning] feature_fraction is set=1.0, colsample_bytree=1.0 will be ignored. Current value: feature_fraction=1.0\n",
      "[LightGBM] [Warning] bagging_fraction is set=0.8, subsample=1.0 will be ignored. Current value: bagging_fraction=0.8\n",
      "[LightGBM] [Warning] feature_fraction is set=1.0, colsample_bytree=1.0 will be ignored. Current value: feature_fraction=1.0\n",
      "[LightGBM] [Warning] bagging_fraction is set=0.8, subsample=1.0 will be ignored. Current value: bagging_fraction=0.8\n"
     ]
    },
    {
     "name": "stderr",
     "output_type": "stream",
     "text": [
      "\u001b[32m[I 2022-07-23 17:42:19,876]\u001b[0m Trial 653 finished with value: 0.7597419416730622 and parameters: {'feature_fraction': 1.0, 'feature_fraction_bynode': 0.7, 'max_depth': 250, 'min_child_samples': 150, 'bagging_fraction': 0.8, 'num_leaves': 72, 'learning_rate': 0.1, 'max_bin': 1000}. Best is trial 318 with value: 0.7597419416730622.\u001b[0m\n"
     ]
    },
    {
     "name": "stdout",
     "output_type": "stream",
     "text": [
      "[LightGBM] [Warning] feature_fraction is set=1.0, colsample_bytree=1.0 will be ignored. Current value: feature_fraction=1.0\n",
      "[LightGBM] [Warning] bagging_fraction is set=0.8, subsample=1.0 will be ignored. Current value: bagging_fraction=0.8\n",
      "[LightGBM] [Warning] feature_fraction is set=1.0, colsample_bytree=1.0 will be ignored. Current value: feature_fraction=1.0\n",
      "[LightGBM] [Warning] bagging_fraction is set=0.8, subsample=1.0 will be ignored. Current value: bagging_fraction=0.8\n"
     ]
    },
    {
     "name": "stderr",
     "output_type": "stream",
     "text": [
      "\u001b[32m[I 2022-07-23 17:42:39,602]\u001b[0m Trial 654 finished with value: 0.7572812739831158 and parameters: {'feature_fraction': 1.0, 'feature_fraction_bynode': 0.7, 'max_depth': 250, 'min_child_samples': 150, 'bagging_fraction': 0.8, 'num_leaves': 72, 'learning_rate': 0.2, 'max_bin': 1000}. Best is trial 318 with value: 0.7597419416730622.\u001b[0m\n"
     ]
    },
    {
     "name": "stdout",
     "output_type": "stream",
     "text": [
      "[LightGBM] [Warning] feature_fraction is set=1.0, colsample_bytree=1.0 will be ignored. Current value: feature_fraction=1.0\n",
      "[LightGBM] [Warning] bagging_fraction is set=0.8, subsample=1.0 will be ignored. Current value: bagging_fraction=0.8\n",
      "[LightGBM] [Warning] feature_fraction is set=1.0, colsample_bytree=1.0 will be ignored. Current value: feature_fraction=1.0\n",
      "[LightGBM] [Warning] bagging_fraction is set=0.8, subsample=1.0 will be ignored. Current value: bagging_fraction=0.8\n"
     ]
    },
    {
     "name": "stderr",
     "output_type": "stream",
     "text": [
      "\u001b[32m[I 2022-07-23 17:42:59,597]\u001b[0m Trial 655 finished with value: 0.7589984650805832 and parameters: {'feature_fraction': 1.0, 'feature_fraction_bynode': 0.7, 'max_depth': 200, 'min_child_samples': 150, 'bagging_fraction': 0.8, 'num_leaves': 62, 'learning_rate': 0.1, 'max_bin': 1000}. Best is trial 318 with value: 0.7597419416730622.\u001b[0m\n"
     ]
    },
    {
     "name": "stdout",
     "output_type": "stream",
     "text": [
      "[LightGBM] [Warning] feature_fraction is set=1.0, colsample_bytree=1.0 will be ignored. Current value: feature_fraction=1.0\n",
      "[LightGBM] [Warning] bagging_fraction is set=0.5, subsample=1.0 will be ignored. Current value: bagging_fraction=0.5\n",
      "[LightGBM] [Warning] feature_fraction is set=1.0, colsample_bytree=1.0 will be ignored. Current value: feature_fraction=1.0\n",
      "[LightGBM] [Warning] bagging_fraction is set=0.5, subsample=1.0 will be ignored. Current value: bagging_fraction=0.5\n"
     ]
    },
    {
     "name": "stderr",
     "output_type": "stream",
     "text": [
      "\u001b[32m[I 2022-07-23 17:43:17,593]\u001b[0m Trial 656 finished with value: 0.7380995778971604 and parameters: {'feature_fraction': 1.0, 'feature_fraction_bynode': 0.7, 'max_depth': 450, 'min_child_samples': 150, 'bagging_fraction': 0.5, 'num_leaves': 72, 'learning_rate': 0.8, 'max_bin': 1000}. Best is trial 318 with value: 0.7597419416730622.\u001b[0m\n"
     ]
    },
    {
     "name": "stdout",
     "output_type": "stream",
     "text": [
      "[LightGBM] [Warning] feature_fraction is set=1.0, colsample_bytree=1.0 will be ignored. Current value: feature_fraction=1.0\n",
      "[LightGBM] [Warning] bagging_fraction is set=0.8, subsample=1.0 will be ignored. Current value: bagging_fraction=0.8\n",
      "[LightGBM] [Warning] feature_fraction is set=1.0, colsample_bytree=1.0 will be ignored. Current value: feature_fraction=1.0\n",
      "[LightGBM] [Warning] bagging_fraction is set=0.8, subsample=1.0 will be ignored. Current value: bagging_fraction=0.8\n"
     ]
    },
    {
     "name": "stderr",
     "output_type": "stream",
     "text": [
      "\u001b[32m[I 2022-07-23 17:43:38,717]\u001b[0m Trial 657 finished with value: 0.7597419416730622 and parameters: {'feature_fraction': 1.0, 'feature_fraction_bynode': 0.7, 'max_depth': 200, 'min_child_samples': 150, 'bagging_fraction': 0.8, 'num_leaves': 72, 'learning_rate': 0.1, 'max_bin': 1000}. Best is trial 318 with value: 0.7597419416730622.\u001b[0m\n"
     ]
    },
    {
     "name": "stdout",
     "output_type": "stream",
     "text": [
      "[LightGBM] [Warning] feature_fraction is set=1.0, colsample_bytree=1.0 will be ignored. Current value: feature_fraction=1.0\n",
      "[LightGBM] [Warning] bagging_fraction is set=0.8, subsample=1.0 will be ignored. Current value: bagging_fraction=0.8\n",
      "[LightGBM] [Warning] feature_fraction is set=1.0, colsample_bytree=1.0 will be ignored. Current value: feature_fraction=1.0\n",
      "[LightGBM] [Warning] bagging_fraction is set=0.8, subsample=1.0 will be ignored. Current value: bagging_fraction=0.8\n"
     ]
    },
    {
     "name": "stderr",
     "output_type": "stream",
     "text": [
      "\u001b[32m[I 2022-07-23 17:43:59,319]\u001b[0m Trial 658 finished with value: 0.7597419416730622 and parameters: {'feature_fraction': 1.0, 'feature_fraction_bynode': 0.7, 'max_depth': 200, 'min_child_samples': 150, 'bagging_fraction': 0.8, 'num_leaves': 72, 'learning_rate': 0.1, 'max_bin': 1000}. Best is trial 318 with value: 0.7597419416730622.\u001b[0m\n"
     ]
    },
    {
     "name": "stdout",
     "output_type": "stream",
     "text": [
      "[LightGBM] [Warning] feature_fraction is set=1.0, colsample_bytree=1.0 will be ignored. Current value: feature_fraction=1.0\n",
      "[LightGBM] [Warning] bagging_fraction is set=0.8, subsample=1.0 will be ignored. Current value: bagging_fraction=0.8\n",
      "[LightGBM] [Warning] feature_fraction is set=1.0, colsample_bytree=1.0 will be ignored. Current value: feature_fraction=1.0\n",
      "[LightGBM] [Warning] bagging_fraction is set=0.8, subsample=1.0 will be ignored. Current value: bagging_fraction=0.8\n"
     ]
    },
    {
     "name": "stderr",
     "output_type": "stream",
     "text": [
      "\u001b[32m[I 2022-07-23 17:44:23,275]\u001b[0m Trial 659 finished with value: 0.7597419416730622 and parameters: {'feature_fraction': 1.0, 'feature_fraction_bynode': 0.7, 'max_depth': 250, 'min_child_samples': 150, 'bagging_fraction': 0.8, 'num_leaves': 72, 'learning_rate': 0.1, 'max_bin': 1000}. Best is trial 318 with value: 0.7597419416730622.\u001b[0m\n"
     ]
    },
    {
     "name": "stdout",
     "output_type": "stream",
     "text": [
      "[LightGBM] [Warning] feature_fraction is set=1.0, colsample_bytree=1.0 will be ignored. Current value: feature_fraction=1.0\n",
      "[LightGBM] [Warning] bagging_fraction is set=0.8, subsample=1.0 will be ignored. Current value: bagging_fraction=0.8\n",
      "[LightGBM] [Warning] feature_fraction is set=1.0, colsample_bytree=1.0 will be ignored. Current value: feature_fraction=1.0\n",
      "[LightGBM] [Warning] bagging_fraction is set=0.8, subsample=1.0 will be ignored. Current value: bagging_fraction=0.8\n"
     ]
    },
    {
     "name": "stderr",
     "output_type": "stream",
     "text": [
      "\u001b[32m[I 2022-07-23 17:44:43,744]\u001b[0m Trial 660 finished with value: 0.7592478894858019 and parameters: {'feature_fraction': 1.0, 'feature_fraction_bynode': 0.7, 'max_depth': 250, 'min_child_samples': 150, 'bagging_fraction': 0.8, 'num_leaves': 72, 'learning_rate': 0.1, 'max_bin': 2000}. Best is trial 318 with value: 0.7597419416730622.\u001b[0m\n"
     ]
    },
    {
     "name": "stdout",
     "output_type": "stream",
     "text": [
      "[LightGBM] [Warning] feature_fraction is set=1.0, colsample_bytree=1.0 will be ignored. Current value: feature_fraction=1.0\n",
      "[LightGBM] [Warning] bagging_fraction is set=0.8, subsample=1.0 will be ignored. Current value: bagging_fraction=0.8\n",
      "[LightGBM] [Warning] feature_fraction is set=1.0, colsample_bytree=1.0 will be ignored. Current value: feature_fraction=1.0\n",
      "[LightGBM] [Warning] bagging_fraction is set=0.8, subsample=1.0 will be ignored. Current value: bagging_fraction=0.8\n"
     ]
    },
    {
     "name": "stderr",
     "output_type": "stream",
     "text": [
      "\u001b[32m[I 2022-07-23 17:45:04,259]\u001b[0m Trial 661 finished with value: 0.7597419416730622 and parameters: {'feature_fraction': 1.0, 'feature_fraction_bynode': 0.7, 'max_depth': 200, 'min_child_samples': 150, 'bagging_fraction': 0.8, 'num_leaves': 72, 'learning_rate': 0.1, 'max_bin': 1000}. Best is trial 318 with value: 0.7597419416730622.\u001b[0m\n"
     ]
    },
    {
     "name": "stdout",
     "output_type": "stream",
     "text": [
      "[LightGBM] [Warning] feature_fraction is set=1.0, colsample_bytree=1.0 will be ignored. Current value: feature_fraction=1.0\n",
      "[LightGBM] [Warning] bagging_fraction is set=0.8, subsample=1.0 will be ignored. Current value: bagging_fraction=0.8\n",
      "[LightGBM] [Warning] feature_fraction is set=1.0, colsample_bytree=1.0 will be ignored. Current value: feature_fraction=1.0\n",
      "[LightGBM] [Warning] bagging_fraction is set=0.8, subsample=1.0 will be ignored. Current value: bagging_fraction=0.8\n"
     ]
    },
    {
     "name": "stderr",
     "output_type": "stream",
     "text": [
      "\u001b[32m[I 2022-07-23 17:45:22,103]\u001b[0m Trial 662 finished with value: 0.7577705295471988 and parameters: {'feature_fraction': 1.0, 'feature_fraction_bynode': 0.7, 'max_depth': 200, 'min_child_samples': 150, 'bagging_fraction': 0.8, 'num_leaves': 62, 'learning_rate': 0.2, 'max_bin': 1000}. Best is trial 318 with value: 0.7597419416730622.\u001b[0m\n"
     ]
    },
    {
     "name": "stdout",
     "output_type": "stream",
     "text": [
      "[LightGBM] [Warning] feature_fraction is set=1.0, colsample_bytree=1.0 will be ignored. Current value: feature_fraction=1.0\n",
      "[LightGBM] [Warning] bagging_fraction is set=0.8, subsample=1.0 will be ignored. Current value: bagging_fraction=0.8\n",
      "[LightGBM] [Warning] feature_fraction is set=1.0, colsample_bytree=1.0 will be ignored. Current value: feature_fraction=1.0\n",
      "[LightGBM] [Warning] bagging_fraction is set=0.8, subsample=1.0 will be ignored. Current value: bagging_fraction=0.8\n"
     ]
    },
    {
     "name": "stderr",
     "output_type": "stream",
     "text": [
      "\u001b[32m[I 2022-07-23 17:45:45,702]\u001b[0m Trial 663 finished with value: 0.758960092095165 and parameters: {'feature_fraction': 1.0, 'feature_fraction_bynode': 0.7, 'max_depth': 250, 'min_child_samples': 150, 'bagging_fraction': 0.8, 'num_leaves': 82, 'learning_rate': 0.1, 'max_bin': 1000}. Best is trial 318 with value: 0.7597419416730622.\u001b[0m\n"
     ]
    },
    {
     "name": "stdout",
     "output_type": "stream",
     "text": [
      "[LightGBM] [Warning] feature_fraction is set=0.9, colsample_bytree=1.0 will be ignored. Current value: feature_fraction=0.9\n",
      "[LightGBM] [Warning] bagging_fraction is set=0.8, subsample=1.0 will be ignored. Current value: bagging_fraction=0.8\n",
      "[LightGBM] [Warning] feature_fraction is set=0.9, colsample_bytree=1.0 will be ignored. Current value: feature_fraction=0.9\n",
      "[LightGBM] [Warning] bagging_fraction is set=0.8, subsample=1.0 will be ignored. Current value: bagging_fraction=0.8\n"
     ]
    },
    {
     "name": "stderr",
     "output_type": "stream",
     "text": [
      "\u001b[32m[I 2022-07-23 17:46:21,366]\u001b[0m Trial 664 finished with value: 0.7591327705295472 and parameters: {'feature_fraction': 0.9, 'feature_fraction_bynode': 0.7, 'max_depth': 250, 'min_child_samples': 150, 'bagging_fraction': 0.8, 'num_leaves': 72, 'learning_rate': 0.1, 'max_bin': 1000}. Best is trial 318 with value: 0.7597419416730622.\u001b[0m\n"
     ]
    },
    {
     "name": "stdout",
     "output_type": "stream",
     "text": [
      "[LightGBM] [Warning] feature_fraction is set=1.0, colsample_bytree=1.0 will be ignored. Current value: feature_fraction=1.0\n",
      "[LightGBM] [Warning] bagging_fraction is set=0.8, subsample=1.0 will be ignored. Current value: bagging_fraction=0.8\n",
      "[LightGBM] [Warning] feature_fraction is set=1.0, colsample_bytree=1.0 will be ignored. Current value: feature_fraction=1.0\n",
      "[LightGBM] [Warning] bagging_fraction is set=0.8, subsample=1.0 will be ignored. Current value: bagging_fraction=0.8\n"
     ]
    },
    {
     "name": "stderr",
     "output_type": "stream",
     "text": [
      "\u001b[32m[I 2022-07-23 17:46:46,904]\u001b[0m Trial 665 finished with value: 0.7597419416730622 and parameters: {'feature_fraction': 1.0, 'feature_fraction_bynode': 0.7, 'max_depth': 200, 'min_child_samples': 150, 'bagging_fraction': 0.8, 'num_leaves': 72, 'learning_rate': 0.1, 'max_bin': 1000}. Best is trial 318 with value: 0.7597419416730622.\u001b[0m\n"
     ]
    },
    {
     "name": "stdout",
     "output_type": "stream",
     "text": [
      "[LightGBM] [Warning] feature_fraction is set=1.0, colsample_bytree=1.0 will be ignored. Current value: feature_fraction=1.0\n",
      "[LightGBM] [Warning] bagging_fraction is set=0.8, subsample=1.0 will be ignored. Current value: bagging_fraction=0.8\n",
      "[LightGBM] [Warning] feature_fraction is set=1.0, colsample_bytree=1.0 will be ignored. Current value: feature_fraction=1.0\n",
      "[LightGBM] [Warning] bagging_fraction is set=0.8, subsample=1.0 will be ignored. Current value: bagging_fraction=0.8\n"
     ]
    },
    {
     "name": "stderr",
     "output_type": "stream",
     "text": [
      "\u001b[32m[I 2022-07-23 17:47:02,258]\u001b[0m Trial 666 finished with value: 0.7597419416730622 and parameters: {'feature_fraction': 1.0, 'feature_fraction_bynode': 0.7, 'max_depth': 200, 'min_child_samples': 150, 'bagging_fraction': 0.8, 'num_leaves': 72, 'learning_rate': 0.1, 'max_bin': 1000}. Best is trial 318 with value: 0.7597419416730622.\u001b[0m\n"
     ]
    },
    {
     "name": "stdout",
     "output_type": "stream",
     "text": [
      "[LightGBM] [Warning] feature_fraction is set=1.0, colsample_bytree=1.0 will be ignored. Current value: feature_fraction=1.0\n",
      "[LightGBM] [Warning] bagging_fraction is set=0.8, subsample=1.0 will be ignored. Current value: bagging_fraction=0.8\n",
      "[LightGBM] [Warning] feature_fraction is set=1.0, colsample_bytree=1.0 will be ignored. Current value: feature_fraction=1.0\n",
      "[LightGBM] [Warning] bagging_fraction is set=0.8, subsample=1.0 will be ignored. Current value: bagging_fraction=0.8\n"
     ]
    },
    {
     "name": "stderr",
     "output_type": "stream",
     "text": [
      "\u001b[32m[I 2022-07-23 17:47:17,470]\u001b[0m Trial 667 finished with value: 0.7597419416730622 and parameters: {'feature_fraction': 1.0, 'feature_fraction_bynode': 0.7, 'max_depth': 200, 'min_child_samples': 150, 'bagging_fraction': 0.8, 'num_leaves': 72, 'learning_rate': 0.1, 'max_bin': 1000}. Best is trial 318 with value: 0.7597419416730622.\u001b[0m\n"
     ]
    },
    {
     "name": "stdout",
     "output_type": "stream",
     "text": [
      "[LightGBM] [Warning] feature_fraction is set=1.0, colsample_bytree=1.0 will be ignored. Current value: feature_fraction=1.0\n",
      "[LightGBM] [Warning] bagging_fraction is set=0.8, subsample=1.0 will be ignored. Current value: bagging_fraction=0.8\n",
      "[LightGBM] [Warning] feature_fraction is set=1.0, colsample_bytree=1.0 will be ignored. Current value: feature_fraction=1.0\n",
      "[LightGBM] [Warning] bagging_fraction is set=0.8, subsample=1.0 will be ignored. Current value: bagging_fraction=0.8\n"
     ]
    },
    {
     "name": "stderr",
     "output_type": "stream",
     "text": [
      "\u001b[32m[I 2022-07-23 17:47:32,892]\u001b[0m Trial 668 finished with value: 0.7597419416730622 and parameters: {'feature_fraction': 1.0, 'feature_fraction_bynode': 0.7, 'max_depth': 200, 'min_child_samples': 150, 'bagging_fraction': 0.8, 'num_leaves': 72, 'learning_rate': 0.1, 'max_bin': 1000}. Best is trial 318 with value: 0.7597419416730622.\u001b[0m\n"
     ]
    },
    {
     "name": "stdout",
     "output_type": "stream",
     "text": [
      "[LightGBM] [Warning] feature_fraction is set=1.0, colsample_bytree=1.0 will be ignored. Current value: feature_fraction=1.0\n",
      "[LightGBM] [Warning] bagging_fraction is set=0.8, subsample=1.0 will be ignored. Current value: bagging_fraction=0.8\n",
      "[LightGBM] [Warning] feature_fraction is set=1.0, colsample_bytree=1.0 will be ignored. Current value: feature_fraction=1.0\n",
      "[LightGBM] [Warning] bagging_fraction is set=0.8, subsample=1.0 will be ignored. Current value: bagging_fraction=0.8\n"
     ]
    },
    {
     "name": "stderr",
     "output_type": "stream",
     "text": [
      "\u001b[32m[I 2022-07-23 17:47:48,107]\u001b[0m Trial 669 finished with value: 0.7592478894858019 and parameters: {'feature_fraction': 1.0, 'feature_fraction_bynode': 0.7, 'max_depth': 200, 'min_child_samples': 150, 'bagging_fraction': 0.8, 'num_leaves': 72, 'learning_rate': 0.1, 'max_bin': 2000}. Best is trial 318 with value: 0.7597419416730622.\u001b[0m\n"
     ]
    },
    {
     "name": "stdout",
     "output_type": "stream",
     "text": [
      "[LightGBM] [Warning] feature_fraction is set=1.0, colsample_bytree=1.0 will be ignored. Current value: feature_fraction=1.0\n",
      "[LightGBM] [Warning] bagging_fraction is set=0.8, subsample=1.0 will be ignored. Current value: bagging_fraction=0.8\n",
      "[LightGBM] [Warning] feature_fraction is set=1.0, colsample_bytree=1.0 will be ignored. Current value: feature_fraction=1.0\n",
      "[LightGBM] [Warning] bagging_fraction is set=0.8, subsample=1.0 will be ignored. Current value: bagging_fraction=0.8\n"
     ]
    },
    {
     "name": "stderr",
     "output_type": "stream",
     "text": [
      "\u001b[32m[I 2022-07-23 17:48:04,126]\u001b[0m Trial 670 finished with value: 0.758960092095165 and parameters: {'feature_fraction': 1.0, 'feature_fraction_bynode': 0.7, 'max_depth': 200, 'min_child_samples': 150, 'bagging_fraction': 0.8, 'num_leaves': 82, 'learning_rate': 0.1, 'max_bin': 1000}. Best is trial 318 with value: 0.7597419416730622.\u001b[0m\n"
     ]
    },
    {
     "name": "stdout",
     "output_type": "stream",
     "text": [
      "[LightGBM] [Warning] feature_fraction is set=1.0, colsample_bytree=1.0 will be ignored. Current value: feature_fraction=1.0\n",
      "[LightGBM] [Warning] bagging_fraction is set=0.8, subsample=1.0 will be ignored. Current value: bagging_fraction=0.8\n",
      "[LightGBM] [Warning] feature_fraction is set=1.0, colsample_bytree=1.0 will be ignored. Current value: feature_fraction=1.0\n",
      "[LightGBM] [Warning] bagging_fraction is set=0.8, subsample=1.0 will be ignored. Current value: bagging_fraction=0.8\n"
     ]
    },
    {
     "name": "stderr",
     "output_type": "stream",
     "text": [
      "\u001b[32m[I 2022-07-23 17:48:19,402]\u001b[0m Trial 671 finished with value: 0.7597419416730622 and parameters: {'feature_fraction': 1.0, 'feature_fraction_bynode': 0.7, 'max_depth': 500, 'min_child_samples': 150, 'bagging_fraction': 0.8, 'num_leaves': 72, 'learning_rate': 0.1, 'max_bin': 1000}. Best is trial 318 with value: 0.7597419416730622.\u001b[0m\n"
     ]
    },
    {
     "name": "stdout",
     "output_type": "stream",
     "text": [
      "[LightGBM] [Warning] feature_fraction is set=1.0, colsample_bytree=1.0 will be ignored. Current value: feature_fraction=1.0\n",
      "[LightGBM] [Warning] bagging_fraction is set=0.8, subsample=1.0 will be ignored. Current value: bagging_fraction=0.8\n",
      "[LightGBM] [Warning] feature_fraction is set=1.0, colsample_bytree=1.0 will be ignored. Current value: feature_fraction=1.0\n",
      "[LightGBM] [Warning] bagging_fraction is set=0.8, subsample=1.0 will be ignored. Current value: bagging_fraction=0.8\n"
     ]
    },
    {
     "name": "stderr",
     "output_type": "stream",
     "text": [
      "\u001b[32m[I 2022-07-23 17:48:34,362]\u001b[0m Trial 672 finished with value: 0.7597419416730622 and parameters: {'feature_fraction': 1.0, 'feature_fraction_bynode': 0.7, 'max_depth': 350, 'min_child_samples': 150, 'bagging_fraction': 0.8, 'num_leaves': 72, 'learning_rate': 0.1, 'max_bin': 1000}. Best is trial 318 with value: 0.7597419416730622.\u001b[0m\n"
     ]
    },
    {
     "name": "stdout",
     "output_type": "stream",
     "text": [
      "[LightGBM] [Warning] feature_fraction is set=1.0, colsample_bytree=1.0 will be ignored. Current value: feature_fraction=1.0\n",
      "[LightGBM] [Warning] bagging_fraction is set=0.8, subsample=1.0 will be ignored. Current value: bagging_fraction=0.8\n",
      "[LightGBM] [Warning] feature_fraction is set=1.0, colsample_bytree=1.0 will be ignored. Current value: feature_fraction=1.0\n",
      "[LightGBM] [Warning] bagging_fraction is set=0.8, subsample=1.0 will be ignored. Current value: bagging_fraction=0.8\n"
     ]
    },
    {
     "name": "stderr",
     "output_type": "stream",
     "text": [
      "\u001b[32m[I 2022-07-23 17:48:49,881]\u001b[0m Trial 673 finished with value: 0.7193639677666921 and parameters: {'feature_fraction': 1.0, 'feature_fraction_bynode': 0.6, 'max_depth': 350, 'min_child_samples': 150, 'bagging_fraction': 0.8, 'num_leaves': 72, 'learning_rate': 0.9, 'max_bin': 1000}. Best is trial 318 with value: 0.7597419416730622.\u001b[0m\n"
     ]
    },
    {
     "name": "stdout",
     "output_type": "stream",
     "text": [
      "[LightGBM] [Warning] feature_fraction is set=1.0, colsample_bytree=1.0 will be ignored. Current value: feature_fraction=1.0\n",
      "[LightGBM] [Warning] bagging_fraction is set=0.8, subsample=1.0 will be ignored. Current value: bagging_fraction=0.8\n",
      "[LightGBM] [Warning] feature_fraction is set=1.0, colsample_bytree=1.0 will be ignored. Current value: feature_fraction=1.0\n",
      "[LightGBM] [Warning] bagging_fraction is set=0.8, subsample=1.0 will be ignored. Current value: bagging_fraction=0.8\n"
     ]
    },
    {
     "name": "stderr",
     "output_type": "stream",
     "text": [
      "\u001b[32m[I 2022-07-23 17:49:04,489]\u001b[0m Trial 674 finished with value: 0.7589984650805832 and parameters: {'feature_fraction': 1.0, 'feature_fraction_bynode': 0.7, 'max_depth': 200, 'min_child_samples': 150, 'bagging_fraction': 0.8, 'num_leaves': 62, 'learning_rate': 0.1, 'max_bin': 1000}. Best is trial 318 with value: 0.7597419416730622.\u001b[0m\n"
     ]
    },
    {
     "name": "stdout",
     "output_type": "stream",
     "text": [
      "[LightGBM] [Warning] feature_fraction is set=1.0, colsample_bytree=1.0 will be ignored. Current value: feature_fraction=1.0\n",
      "[LightGBM] [Warning] bagging_fraction is set=0.8, subsample=1.0 will be ignored. Current value: bagging_fraction=0.8\n",
      "[LightGBM] [Warning] feature_fraction is set=1.0, colsample_bytree=1.0 will be ignored. Current value: feature_fraction=1.0\n",
      "[LightGBM] [Warning] bagging_fraction is set=0.8, subsample=1.0 will be ignored. Current value: bagging_fraction=0.8\n"
     ]
    },
    {
     "name": "stderr",
     "output_type": "stream",
     "text": [
      "\u001b[32m[I 2022-07-23 17:49:19,158]\u001b[0m Trial 675 finished with value: 0.7597419416730622 and parameters: {'feature_fraction': 1.0, 'feature_fraction_bynode': 0.7, 'max_depth': 350, 'min_child_samples': 150, 'bagging_fraction': 0.8, 'num_leaves': 72, 'learning_rate': 0.1, 'max_bin': 1000}. Best is trial 318 with value: 0.7597419416730622.\u001b[0m\n"
     ]
    },
    {
     "name": "stdout",
     "output_type": "stream",
     "text": [
      "[LightGBM] [Warning] feature_fraction is set=1.0, colsample_bytree=1.0 will be ignored. Current value: feature_fraction=1.0\n",
      "[LightGBM] [Warning] bagging_fraction is set=0.8, subsample=1.0 will be ignored. Current value: bagging_fraction=0.8\n",
      "[LightGBM] [Warning] feature_fraction is set=1.0, colsample_bytree=1.0 will be ignored. Current value: feature_fraction=1.0\n",
      "[LightGBM] [Warning] bagging_fraction is set=0.8, subsample=1.0 will be ignored. Current value: bagging_fraction=0.8\n"
     ]
    },
    {
     "name": "stderr",
     "output_type": "stream",
     "text": [
      "\u001b[32m[I 2022-07-23 17:49:33,224]\u001b[0m Trial 676 finished with value: 0.7572812739831158 and parameters: {'feature_fraction': 1.0, 'feature_fraction_bynode': 0.7, 'max_depth': 250, 'min_child_samples': 150, 'bagging_fraction': 0.8, 'num_leaves': 72, 'learning_rate': 0.2, 'max_bin': 1000}. Best is trial 318 with value: 0.7597419416730622.\u001b[0m\n"
     ]
    },
    {
     "name": "stdout",
     "output_type": "stream",
     "text": [
      "[LightGBM] [Warning] feature_fraction is set=1.0, colsample_bytree=1.0 will be ignored. Current value: feature_fraction=1.0\n",
      "[LightGBM] [Warning] bagging_fraction is set=0.8, subsample=1.0 will be ignored. Current value: bagging_fraction=0.8\n",
      "[LightGBM] [Warning] feature_fraction is set=1.0, colsample_bytree=1.0 will be ignored. Current value: feature_fraction=1.0\n",
      "[LightGBM] [Warning] bagging_fraction is set=0.8, subsample=1.0 will be ignored. Current value: bagging_fraction=0.8\n"
     ]
    },
    {
     "name": "stderr",
     "output_type": "stream",
     "text": [
      "\u001b[32m[I 2022-07-23 17:49:47,809]\u001b[0m Trial 677 finished with value: 0.7597419416730622 and parameters: {'feature_fraction': 1.0, 'feature_fraction_bynode': 0.7, 'max_depth': 200, 'min_child_samples': 150, 'bagging_fraction': 0.8, 'num_leaves': 72, 'learning_rate': 0.1, 'max_bin': 1000}. Best is trial 318 with value: 0.7597419416730622.\u001b[0m\n"
     ]
    },
    {
     "name": "stdout",
     "output_type": "stream",
     "text": [
      "[LightGBM] [Warning] feature_fraction is set=1.0, colsample_bytree=1.0 will be ignored. Current value: feature_fraction=1.0\n",
      "[LightGBM] [Warning] bagging_fraction is set=0.8, subsample=1.0 will be ignored. Current value: bagging_fraction=0.8\n",
      "[LightGBM] [Warning] feature_fraction is set=1.0, colsample_bytree=1.0 will be ignored. Current value: feature_fraction=1.0\n",
      "[LightGBM] [Warning] bagging_fraction is set=0.8, subsample=1.0 will be ignored. Current value: bagging_fraction=0.8\n"
     ]
    },
    {
     "name": "stderr",
     "output_type": "stream",
     "text": [
      "\u001b[32m[I 2022-07-23 17:50:03,114]\u001b[0m Trial 678 finished with value: 0.7597419416730622 and parameters: {'feature_fraction': 1.0, 'feature_fraction_bynode': 0.7, 'max_depth': 250, 'min_child_samples': 150, 'bagging_fraction': 0.8, 'num_leaves': 72, 'learning_rate': 0.1, 'max_bin': 1000}. Best is trial 318 with value: 0.7597419416730622.\u001b[0m\n"
     ]
    },
    {
     "name": "stdout",
     "output_type": "stream",
     "text": [
      "[LightGBM] [Warning] feature_fraction is set=0.7, colsample_bytree=1.0 will be ignored. Current value: feature_fraction=0.7\n",
      "[LightGBM] [Warning] bagging_fraction is set=0.8, subsample=1.0 will be ignored. Current value: bagging_fraction=0.8\n",
      "[LightGBM] [Warning] feature_fraction is set=0.7, colsample_bytree=1.0 will be ignored. Current value: feature_fraction=0.7\n",
      "[LightGBM] [Warning] bagging_fraction is set=0.8, subsample=1.0 will be ignored. Current value: bagging_fraction=0.8\n"
     ]
    },
    {
     "name": "stderr",
     "output_type": "stream",
     "text": [
      "\u001b[32m[I 2022-07-23 17:50:18,175]\u001b[0m Trial 679 finished with value: 0.7585475825019186 and parameters: {'feature_fraction': 0.7, 'feature_fraction_bynode': 0.8, 'max_depth': 250, 'min_child_samples': 230, 'bagging_fraction': 0.8, 'num_leaves': 62, 'learning_rate': 0.1, 'max_bin': 1000}. Best is trial 318 with value: 0.7597419416730622.\u001b[0m\n"
     ]
    },
    {
     "name": "stdout",
     "output_type": "stream",
     "text": [
      "[LightGBM] [Warning] feature_fraction is set=1.0, colsample_bytree=1.0 will be ignored. Current value: feature_fraction=1.0\n",
      "[LightGBM] [Warning] bagging_fraction is set=0.8, subsample=1.0 will be ignored. Current value: bagging_fraction=0.8\n",
      "[LightGBM] [Warning] feature_fraction is set=1.0, colsample_bytree=1.0 will be ignored. Current value: feature_fraction=1.0\n",
      "[LightGBM] [Warning] bagging_fraction is set=0.8, subsample=1.0 will be ignored. Current value: bagging_fraction=0.8\n"
     ]
    },
    {
     "name": "stderr",
     "output_type": "stream",
     "text": [
      "\u001b[32m[I 2022-07-23 17:50:33,488]\u001b[0m Trial 680 finished with value: 0.7588737528779739 and parameters: {'feature_fraction': 1.0, 'feature_fraction_bynode': 0.7, 'max_depth': 250, 'min_child_samples': 150, 'bagging_fraction': 0.8, 'num_leaves': 82, 'learning_rate': 0.1, 'max_bin': 2000}. Best is trial 318 with value: 0.7597419416730622.\u001b[0m\n"
     ]
    },
    {
     "name": "stdout",
     "output_type": "stream",
     "text": [
      "[LightGBM] [Warning] feature_fraction is set=1.0, colsample_bytree=1.0 will be ignored. Current value: feature_fraction=1.0\n",
      "[LightGBM] [Warning] bagging_fraction is set=0.8, subsample=1.0 will be ignored. Current value: bagging_fraction=0.8\n",
      "[LightGBM] [Warning] feature_fraction is set=1.0, colsample_bytree=1.0 will be ignored. Current value: feature_fraction=1.0\n",
      "[LightGBM] [Warning] bagging_fraction is set=0.8, subsample=1.0 will be ignored. Current value: bagging_fraction=0.8\n"
     ]
    },
    {
     "name": "stderr",
     "output_type": "stream",
     "text": [
      "\u001b[32m[I 2022-07-23 17:50:50,550]\u001b[0m Trial 681 finished with value: 0.7592478894858019 and parameters: {'feature_fraction': 1.0, 'feature_fraction_bynode': 0.7, 'max_depth': 200, 'min_child_samples': 150, 'bagging_fraction': 0.8, 'num_leaves': 72, 'learning_rate': 0.1, 'max_bin': 4000}. Best is trial 318 with value: 0.7597419416730622.\u001b[0m\n"
     ]
    },
    {
     "name": "stdout",
     "output_type": "stream",
     "text": [
      "[LightGBM] [Warning] feature_fraction is set=1.0, colsample_bytree=1.0 will be ignored. Current value: feature_fraction=1.0\n",
      "[LightGBM] [Warning] bagging_fraction is set=0.8, subsample=1.0 will be ignored. Current value: bagging_fraction=0.8\n",
      "[LightGBM] [Warning] feature_fraction is set=1.0, colsample_bytree=1.0 will be ignored. Current value: feature_fraction=1.0\n",
      "[LightGBM] [Warning] bagging_fraction is set=0.8, subsample=1.0 will be ignored. Current value: bagging_fraction=0.8\n"
     ]
    },
    {
     "name": "stderr",
     "output_type": "stream",
     "text": [
      "\u001b[32m[I 2022-07-23 17:51:05,203]\u001b[0m Trial 682 finished with value: 0.7597419416730622 and parameters: {'feature_fraction': 1.0, 'feature_fraction_bynode': 0.7, 'max_depth': 450, 'min_child_samples': 150, 'bagging_fraction': 0.8, 'num_leaves': 72, 'learning_rate': 0.1, 'max_bin': 1000}. Best is trial 318 with value: 0.7597419416730622.\u001b[0m\n"
     ]
    },
    {
     "name": "stdout",
     "output_type": "stream",
     "text": [
      "[LightGBM] [Warning] feature_fraction is set=1.0, colsample_bytree=1.0 will be ignored. Current value: feature_fraction=1.0\n",
      "[LightGBM] [Warning] bagging_fraction is set=0.8, subsample=1.0 will be ignored. Current value: bagging_fraction=0.8\n",
      "[LightGBM] [Warning] feature_fraction is set=1.0, colsample_bytree=1.0 will be ignored. Current value: feature_fraction=1.0\n",
      "[LightGBM] [Warning] bagging_fraction is set=0.8, subsample=1.0 will be ignored. Current value: bagging_fraction=0.8\n"
     ]
    },
    {
     "name": "stderr",
     "output_type": "stream",
     "text": [
      "\u001b[32m[I 2022-07-23 17:51:34,720]\u001b[0m Trial 683 finished with value: 0.7557799309286263 and parameters: {'feature_fraction': 1.0, 'feature_fraction_bynode': 0.7, 'max_depth': 250, 'min_child_samples': 150, 'bagging_fraction': 0.8, 'num_leaves': 102, 'learning_rate': 0.2, 'max_bin': 1000}. Best is trial 318 with value: 0.7597419416730622.\u001b[0m\n"
     ]
    },
    {
     "name": "stdout",
     "output_type": "stream",
     "text": [
      "[LightGBM] [Warning] feature_fraction is set=1.0, colsample_bytree=1.0 will be ignored. Current value: feature_fraction=1.0\n",
      "[LightGBM] [Warning] bagging_fraction is set=0.8, subsample=1.0 will be ignored. Current value: bagging_fraction=0.8\n",
      "[LightGBM] [Warning] feature_fraction is set=1.0, colsample_bytree=1.0 will be ignored. Current value: feature_fraction=1.0\n",
      "[LightGBM] [Warning] bagging_fraction is set=0.8, subsample=1.0 will be ignored. Current value: bagging_fraction=0.8\n"
     ]
    },
    {
     "name": "stderr",
     "output_type": "stream",
     "text": [
      "\u001b[32m[I 2022-07-23 17:51:51,540]\u001b[0m Trial 684 finished with value: 0.7597419416730622 and parameters: {'feature_fraction': 1.0, 'feature_fraction_bynode': 0.7, 'max_depth': 250, 'min_child_samples': 150, 'bagging_fraction': 0.8, 'num_leaves': 72, 'learning_rate': 0.1, 'max_bin': 1000}. Best is trial 318 with value: 0.7597419416730622.\u001b[0m\n"
     ]
    },
    {
     "name": "stdout",
     "output_type": "stream",
     "text": [
      "[LightGBM] [Warning] feature_fraction is set=1.0, colsample_bytree=1.0 will be ignored. Current value: feature_fraction=1.0\n",
      "[LightGBM] [Warning] bagging_fraction is set=0.8, subsample=1.0 will be ignored. Current value: bagging_fraction=0.8\n",
      "[LightGBM] [Warning] feature_fraction is set=1.0, colsample_bytree=1.0 will be ignored. Current value: feature_fraction=1.0\n",
      "[LightGBM] [Warning] bagging_fraction is set=0.8, subsample=1.0 will be ignored. Current value: bagging_fraction=0.8\n"
     ]
    },
    {
     "name": "stderr",
     "output_type": "stream",
     "text": [
      "\u001b[32m[I 2022-07-23 17:52:07,677]\u001b[0m Trial 685 finished with value: 0.7597419416730622 and parameters: {'feature_fraction': 1.0, 'feature_fraction_bynode': 0.7, 'max_depth': 400, 'min_child_samples': 150, 'bagging_fraction': 0.8, 'num_leaves': 72, 'learning_rate': 0.1, 'max_bin': 1000}. Best is trial 318 with value: 0.7597419416730622.\u001b[0m\n"
     ]
    },
    {
     "name": "stdout",
     "output_type": "stream",
     "text": [
      "[LightGBM] [Warning] feature_fraction is set=1.0, colsample_bytree=1.0 will be ignored. Current value: feature_fraction=1.0\n",
      "[LightGBM] [Warning] bagging_fraction is set=0.8, subsample=1.0 will be ignored. Current value: bagging_fraction=0.8\n",
      "[LightGBM] [Warning] feature_fraction is set=1.0, colsample_bytree=1.0 will be ignored. Current value: feature_fraction=1.0\n",
      "[LightGBM] [Warning] bagging_fraction is set=0.8, subsample=1.0 will be ignored. Current value: bagging_fraction=0.8\n"
     ]
    },
    {
     "name": "stderr",
     "output_type": "stream",
     "text": [
      "\u001b[32m[I 2022-07-23 17:52:23,830]\u001b[0m Trial 686 finished with value: 0.7597419416730622 and parameters: {'feature_fraction': 1.0, 'feature_fraction_bynode': 0.7, 'max_depth': 250, 'min_child_samples': 150, 'bagging_fraction': 0.8, 'num_leaves': 72, 'learning_rate': 0.1, 'max_bin': 1000}. Best is trial 318 with value: 0.7597419416730622.\u001b[0m\n"
     ]
    },
    {
     "name": "stdout",
     "output_type": "stream",
     "text": [
      "[LightGBM] [Warning] feature_fraction is set=1.0, colsample_bytree=1.0 will be ignored. Current value: feature_fraction=1.0\n",
      "[LightGBM] [Warning] bagging_fraction is set=0.8, subsample=1.0 will be ignored. Current value: bagging_fraction=0.8\n",
      "[LightGBM] [Warning] feature_fraction is set=1.0, colsample_bytree=1.0 will be ignored. Current value: feature_fraction=1.0\n",
      "[LightGBM] [Warning] bagging_fraction is set=0.8, subsample=1.0 will be ignored. Current value: bagging_fraction=0.8\n"
     ]
    },
    {
     "name": "stderr",
     "output_type": "stream",
     "text": [
      "\u001b[32m[I 2022-07-23 17:52:39,855]\u001b[0m Trial 687 finished with value: 0.7597419416730622 and parameters: {'feature_fraction': 1.0, 'feature_fraction_bynode': 0.7, 'max_depth': 250, 'min_child_samples': 150, 'bagging_fraction': 0.8, 'num_leaves': 72, 'learning_rate': 0.1, 'max_bin': 1000}. Best is trial 318 with value: 0.7597419416730622.\u001b[0m\n"
     ]
    },
    {
     "name": "stdout",
     "output_type": "stream",
     "text": [
      "[LightGBM] [Warning] feature_fraction is set=1.0, colsample_bytree=1.0 will be ignored. Current value: feature_fraction=1.0\n",
      "[LightGBM] [Warning] bagging_fraction is set=0.8, subsample=1.0 will be ignored. Current value: bagging_fraction=0.8\n",
      "[LightGBM] [Warning] feature_fraction is set=1.0, colsample_bytree=1.0 will be ignored. Current value: feature_fraction=1.0\n",
      "[LightGBM] [Warning] bagging_fraction is set=0.8, subsample=1.0 will be ignored. Current value: bagging_fraction=0.8\n"
     ]
    },
    {
     "name": "stderr",
     "output_type": "stream",
     "text": [
      "\u001b[32m[I 2022-07-23 17:52:55,179]\u001b[0m Trial 688 finished with value: 0.7597419416730622 and parameters: {'feature_fraction': 1.0, 'feature_fraction_bynode': 0.7, 'max_depth': 200, 'min_child_samples': 150, 'bagging_fraction': 0.8, 'num_leaves': 72, 'learning_rate': 0.1, 'max_bin': 1000}. Best is trial 318 with value: 0.7597419416730622.\u001b[0m\n"
     ]
    },
    {
     "name": "stdout",
     "output_type": "stream",
     "text": [
      "[LightGBM] [Warning] feature_fraction is set=1.0, colsample_bytree=1.0 will be ignored. Current value: feature_fraction=1.0\n",
      "[LightGBM] [Warning] bagging_fraction is set=0.8, subsample=1.0 will be ignored. Current value: bagging_fraction=0.8\n",
      "[LightGBM] [Warning] feature_fraction is set=1.0, colsample_bytree=1.0 will be ignored. Current value: feature_fraction=1.0\n",
      "[LightGBM] [Warning] bagging_fraction is set=0.8, subsample=1.0 will be ignored. Current value: bagging_fraction=0.8\n"
     ]
    },
    {
     "name": "stderr",
     "output_type": "stream",
     "text": [
      "\u001b[32m[I 2022-07-23 17:53:09,351]\u001b[0m Trial 689 finished with value: 0.7553482348426708 and parameters: {'feature_fraction': 1.0, 'feature_fraction_bynode': 0.7, 'max_depth': 200, 'min_child_samples': 250, 'bagging_fraction': 0.8, 'num_leaves': 62, 'learning_rate': 0.30000000000000004, 'max_bin': 2000}. Best is trial 318 with value: 0.7597419416730622.\u001b[0m\n"
     ]
    },
    {
     "name": "stdout",
     "output_type": "stream",
     "text": [
      "[LightGBM] [Warning] feature_fraction is set=1.0, colsample_bytree=1.0 will be ignored. Current value: feature_fraction=1.0\n",
      "[LightGBM] [Warning] bagging_fraction is set=0.8, subsample=1.0 will be ignored. Current value: bagging_fraction=0.8\n",
      "[LightGBM] [Warning] feature_fraction is set=1.0, colsample_bytree=1.0 will be ignored. Current value: feature_fraction=1.0\n",
      "[LightGBM] [Warning] bagging_fraction is set=0.8, subsample=1.0 will be ignored. Current value: bagging_fraction=0.8\n"
     ]
    },
    {
     "name": "stderr",
     "output_type": "stream",
     "text": [
      "\u001b[32m[I 2022-07-23 17:53:23,120]\u001b[0m Trial 690 finished with value: 0.7572812739831158 and parameters: {'feature_fraction': 1.0, 'feature_fraction_bynode': 0.7, 'max_depth': 200, 'min_child_samples': 150, 'bagging_fraction': 0.8, 'num_leaves': 72, 'learning_rate': 0.2, 'max_bin': 1000}. Best is trial 318 with value: 0.7597419416730622.\u001b[0m\n"
     ]
    },
    {
     "name": "stdout",
     "output_type": "stream",
     "text": [
      "[LightGBM] [Warning] feature_fraction is set=1.0, colsample_bytree=1.0 will be ignored. Current value: feature_fraction=1.0\n",
      "[LightGBM] [Warning] bagging_fraction is set=0.8, subsample=1.0 will be ignored. Current value: bagging_fraction=0.8\n",
      "[LightGBM] [Warning] feature_fraction is set=1.0, colsample_bytree=1.0 will be ignored. Current value: feature_fraction=1.0\n",
      "[LightGBM] [Warning] bagging_fraction is set=0.8, subsample=1.0 will be ignored. Current value: bagging_fraction=0.8\n"
     ]
    },
    {
     "name": "stderr",
     "output_type": "stream",
     "text": [
      "\u001b[32m[I 2022-07-23 17:53:40,189]\u001b[0m Trial 691 finished with value: 0.7597419416730622 and parameters: {'feature_fraction': 1.0, 'feature_fraction_bynode': 0.7, 'max_depth': 500, 'min_child_samples': 150, 'bagging_fraction': 0.8, 'num_leaves': 72, 'learning_rate': 0.1, 'max_bin': 1000}. Best is trial 318 with value: 0.7597419416730622.\u001b[0m\n"
     ]
    },
    {
     "name": "stdout",
     "output_type": "stream",
     "text": [
      "[LightGBM] [Warning] feature_fraction is set=1.0, colsample_bytree=1.0 will be ignored. Current value: feature_fraction=1.0\n",
      "[LightGBM] [Warning] bagging_fraction is set=0.8, subsample=1.0 will be ignored. Current value: bagging_fraction=0.8\n",
      "[LightGBM] [Warning] feature_fraction is set=1.0, colsample_bytree=1.0 will be ignored. Current value: feature_fraction=1.0\n",
      "[LightGBM] [Warning] bagging_fraction is set=0.8, subsample=1.0 will be ignored. Current value: bagging_fraction=0.8\n"
     ]
    },
    {
     "name": "stderr",
     "output_type": "stream",
     "text": [
      "\u001b[32m[I 2022-07-23 17:53:56,223]\u001b[0m Trial 692 finished with value: 0.758960092095165 and parameters: {'feature_fraction': 1.0, 'feature_fraction_bynode': 0.7, 'max_depth': 200, 'min_child_samples': 150, 'bagging_fraction': 0.8, 'num_leaves': 82, 'learning_rate': 0.1, 'max_bin': 1000}. Best is trial 318 with value: 0.7597419416730622.\u001b[0m\n"
     ]
    },
    {
     "name": "stdout",
     "output_type": "stream",
     "text": [
      "[LightGBM] [Warning] feature_fraction is set=1.0, colsample_bytree=1.0 will be ignored. Current value: feature_fraction=1.0\n",
      "[LightGBM] [Warning] bagging_fraction is set=0.8, subsample=1.0 will be ignored. Current value: bagging_fraction=0.8\n",
      "[LightGBM] [Warning] feature_fraction is set=1.0, colsample_bytree=1.0 will be ignored. Current value: feature_fraction=1.0\n",
      "[LightGBM] [Warning] bagging_fraction is set=0.8, subsample=1.0 will be ignored. Current value: bagging_fraction=0.8\n"
     ]
    },
    {
     "name": "stderr",
     "output_type": "stream",
     "text": [
      "\u001b[32m[I 2022-07-23 17:54:11,069]\u001b[0m Trial 693 finished with value: 0.7597419416730622 and parameters: {'feature_fraction': 1.0, 'feature_fraction_bynode': 0.7, 'max_depth': 250, 'min_child_samples': 150, 'bagging_fraction': 0.8, 'num_leaves': 72, 'learning_rate': 0.1, 'max_bin': 1000}. Best is trial 318 with value: 0.7597419416730622.\u001b[0m\n"
     ]
    },
    {
     "name": "stdout",
     "output_type": "stream",
     "text": [
      "[LightGBM] [Warning] feature_fraction is set=1.0, colsample_bytree=1.0 will be ignored. Current value: feature_fraction=1.0\n",
      "[LightGBM] [Warning] bagging_fraction is set=0.8, subsample=1.0 will be ignored. Current value: bagging_fraction=0.8\n",
      "[LightGBM] [Warning] feature_fraction is set=1.0, colsample_bytree=1.0 will be ignored. Current value: feature_fraction=1.0\n",
      "[LightGBM] [Warning] bagging_fraction is set=0.8, subsample=1.0 will be ignored. Current value: bagging_fraction=0.8\n"
     ]
    },
    {
     "name": "stderr",
     "output_type": "stream",
     "text": [
      "\u001b[32m[I 2022-07-23 17:54:25,709]\u001b[0m Trial 694 finished with value: 0.7597419416730622 and parameters: {'feature_fraction': 1.0, 'feature_fraction_bynode': 0.7, 'max_depth': 250, 'min_child_samples': 150, 'bagging_fraction': 0.8, 'num_leaves': 72, 'learning_rate': 0.1, 'max_bin': 1000}. Best is trial 318 with value: 0.7597419416730622.\u001b[0m\n"
     ]
    },
    {
     "name": "stdout",
     "output_type": "stream",
     "text": [
      "[LightGBM] [Warning] feature_fraction is set=1.0, colsample_bytree=1.0 will be ignored. Current value: feature_fraction=1.0\n",
      "[LightGBM] [Warning] bagging_fraction is set=0.8, subsample=1.0 will be ignored. Current value: bagging_fraction=0.8\n",
      "[LightGBM] [Warning] feature_fraction is set=1.0, colsample_bytree=1.0 will be ignored. Current value: feature_fraction=1.0\n",
      "[LightGBM] [Warning] bagging_fraction is set=0.8, subsample=1.0 will be ignored. Current value: bagging_fraction=0.8\n"
     ]
    },
    {
     "name": "stderr",
     "output_type": "stream",
     "text": [
      "\u001b[32m[I 2022-07-23 17:54:40,290]\u001b[0m Trial 695 finished with value: 0.7592478894858019 and parameters: {'feature_fraction': 1.0, 'feature_fraction_bynode': 0.7, 'max_depth': 250, 'min_child_samples': 150, 'bagging_fraction': 0.8, 'num_leaves': 72, 'learning_rate': 0.1, 'max_bin': 2000}. Best is trial 318 with value: 0.7597419416730622.\u001b[0m\n"
     ]
    },
    {
     "name": "stdout",
     "output_type": "stream",
     "text": [
      "[LightGBM] [Warning] feature_fraction is set=1.0, colsample_bytree=1.0 will be ignored. Current value: feature_fraction=1.0\n",
      "[LightGBM] [Warning] bagging_fraction is set=0.8, subsample=1.0 will be ignored. Current value: bagging_fraction=0.8\n",
      "[LightGBM] [Warning] feature_fraction is set=1.0, colsample_bytree=1.0 will be ignored. Current value: feature_fraction=1.0\n",
      "[LightGBM] [Warning] bagging_fraction is set=0.8, subsample=1.0 will be ignored. Current value: bagging_fraction=0.8\n"
     ]
    },
    {
     "name": "stderr",
     "output_type": "stream",
     "text": [
      "\u001b[32m[I 2022-07-23 17:54:54,919]\u001b[0m Trial 696 finished with value: 0.7597419416730622 and parameters: {'feature_fraction': 1.0, 'feature_fraction_bynode': 0.7, 'max_depth': 250, 'min_child_samples': 150, 'bagging_fraction': 0.8, 'num_leaves': 72, 'learning_rate': 0.1, 'max_bin': 1000}. Best is trial 318 with value: 0.7597419416730622.\u001b[0m\n"
     ]
    },
    {
     "name": "stdout",
     "output_type": "stream",
     "text": [
      "[LightGBM] [Warning] feature_fraction is set=1.0, colsample_bytree=1.0 will be ignored. Current value: feature_fraction=1.0\n",
      "[LightGBM] [Warning] bagging_fraction is set=0.8, subsample=1.0 will be ignored. Current value: bagging_fraction=0.8\n",
      "[LightGBM] [Warning] feature_fraction is set=1.0, colsample_bytree=1.0 will be ignored. Current value: feature_fraction=1.0\n",
      "[LightGBM] [Warning] bagging_fraction is set=0.8, subsample=1.0 will be ignored. Current value: bagging_fraction=0.8\n"
     ]
    },
    {
     "name": "stderr",
     "output_type": "stream",
     "text": [
      "\u001b[32m[I 2022-07-23 17:55:09,633]\u001b[0m Trial 697 finished with value: 0.7597419416730622 and parameters: {'feature_fraction': 1.0, 'feature_fraction_bynode': 0.7, 'max_depth': 250, 'min_child_samples': 150, 'bagging_fraction': 0.8, 'num_leaves': 72, 'learning_rate': 0.1, 'max_bin': 1000}. Best is trial 318 with value: 0.7597419416730622.\u001b[0m\n"
     ]
    },
    {
     "name": "stdout",
     "output_type": "stream",
     "text": [
      "[LightGBM] [Warning] feature_fraction is set=1.0, colsample_bytree=1.0 will be ignored. Current value: feature_fraction=1.0\n",
      "[LightGBM] [Warning] bagging_fraction is set=0.6, subsample=1.0 will be ignored. Current value: bagging_fraction=0.6\n",
      "[LightGBM] [Warning] feature_fraction is set=1.0, colsample_bytree=1.0 will be ignored. Current value: feature_fraction=1.0\n",
      "[LightGBM] [Warning] bagging_fraction is set=0.6, subsample=1.0 will be ignored. Current value: bagging_fraction=0.6\n"
     ]
    },
    {
     "name": "stderr",
     "output_type": "stream",
     "text": [
      "\u001b[32m[I 2022-07-23 17:55:24,363]\u001b[0m Trial 698 finished with value: 0.7597419416730622 and parameters: {'feature_fraction': 1.0, 'feature_fraction_bynode': 0.7, 'max_depth': 250, 'min_child_samples': 150, 'bagging_fraction': 0.6, 'num_leaves': 72, 'learning_rate': 0.1, 'max_bin': 1000}. Best is trial 318 with value: 0.7597419416730622.\u001b[0m\n"
     ]
    },
    {
     "name": "stdout",
     "output_type": "stream",
     "text": [
      "[LightGBM] [Warning] feature_fraction is set=1.0, colsample_bytree=1.0 will be ignored. Current value: feature_fraction=1.0\n",
      "[LightGBM] [Warning] bagging_fraction is set=0.8, subsample=1.0 will be ignored. Current value: bagging_fraction=0.8\n",
      "[LightGBM] [Warning] feature_fraction is set=1.0, colsample_bytree=1.0 will be ignored. Current value: feature_fraction=1.0\n",
      "[LightGBM] [Warning] bagging_fraction is set=0.8, subsample=1.0 will be ignored. Current value: bagging_fraction=0.8\n"
     ]
    },
    {
     "name": "stderr",
     "output_type": "stream",
     "text": [
      "\u001b[32m[I 2022-07-23 17:55:37,861]\u001b[0m Trial 699 finished with value: 0.7441912893323099 and parameters: {'feature_fraction': 1.0, 'feature_fraction_bynode': 0.7, 'max_depth': 200, 'min_child_samples': 150, 'bagging_fraction': 0.8, 'num_leaves': 82, 'learning_rate': 0.6, 'max_bin': 1000}. Best is trial 318 with value: 0.7597419416730622.\u001b[0m\n"
     ]
    },
    {
     "name": "stdout",
     "output_type": "stream",
     "text": [
      "[LightGBM] [Warning] feature_fraction is set=1.0, colsample_bytree=1.0 will be ignored. Current value: feature_fraction=1.0\n",
      "[LightGBM] [Warning] bagging_fraction is set=0.8, subsample=1.0 will be ignored. Current value: bagging_fraction=0.8\n",
      "[LightGBM] [Warning] feature_fraction is set=1.0, colsample_bytree=1.0 will be ignored. Current value: feature_fraction=1.0\n",
      "[LightGBM] [Warning] bagging_fraction is set=0.8, subsample=1.0 will be ignored. Current value: bagging_fraction=0.8\n"
     ]
    },
    {
     "name": "stderr",
     "output_type": "stream",
     "text": [
      "\u001b[32m[I 2022-07-23 17:55:53,369]\u001b[0m Trial 700 finished with value: 0.7589984650805832 and parameters: {'feature_fraction': 1.0, 'feature_fraction_bynode': 0.7, 'max_depth': 200, 'min_child_samples': 150, 'bagging_fraction': 0.8, 'num_leaves': 62, 'learning_rate': 0.1, 'max_bin': 1000}. Best is trial 318 with value: 0.7597419416730622.\u001b[0m\n"
     ]
    },
    {
     "name": "stdout",
     "output_type": "stream",
     "text": [
      "[LightGBM] [Warning] feature_fraction is set=1.0, colsample_bytree=1.0 will be ignored. Current value: feature_fraction=1.0\n",
      "[LightGBM] [Warning] bagging_fraction is set=0.8, subsample=1.0 will be ignored. Current value: bagging_fraction=0.8\n",
      "[LightGBM] [Warning] feature_fraction is set=1.0, colsample_bytree=1.0 will be ignored. Current value: feature_fraction=1.0\n",
      "[LightGBM] [Warning] bagging_fraction is set=0.8, subsample=1.0 will be ignored. Current value: bagging_fraction=0.8\n"
     ]
    },
    {
     "name": "stderr",
     "output_type": "stream",
     "text": [
      "\u001b[32m[I 2022-07-23 17:56:06,879]\u001b[0m Trial 701 finished with value: 0.7484794704528013 and parameters: {'feature_fraction': 1.0, 'feature_fraction_bynode': 0.7, 'max_depth': 200, 'min_child_samples': 150, 'bagging_fraction': 0.8, 'num_leaves': 72, 'learning_rate': 0.5, 'max_bin': 1000}. Best is trial 318 with value: 0.7597419416730622.\u001b[0m\n"
     ]
    },
    {
     "name": "stdout",
     "output_type": "stream",
     "text": [
      "[LightGBM] [Warning] feature_fraction is set=1.0, colsample_bytree=1.0 will be ignored. Current value: feature_fraction=1.0\n",
      "[LightGBM] [Warning] bagging_fraction is set=0.8, subsample=1.0 will be ignored. Current value: bagging_fraction=0.8\n",
      "[LightGBM] [Warning] feature_fraction is set=1.0, colsample_bytree=1.0 will be ignored. Current value: feature_fraction=1.0\n",
      "[LightGBM] [Warning] bagging_fraction is set=0.8, subsample=1.0 will be ignored. Current value: bagging_fraction=0.8\n"
     ]
    },
    {
     "name": "stderr",
     "output_type": "stream",
     "text": [
      "\u001b[32m[I 2022-07-23 17:56:21,306]\u001b[0m Trial 702 finished with value: 0.7597419416730622 and parameters: {'feature_fraction': 1.0, 'feature_fraction_bynode': 0.7, 'max_depth': 250, 'min_child_samples': 150, 'bagging_fraction': 0.8, 'num_leaves': 72, 'learning_rate': 0.1, 'max_bin': 1000}. Best is trial 318 with value: 0.7597419416730622.\u001b[0m\n"
     ]
    },
    {
     "name": "stdout",
     "output_type": "stream",
     "text": [
      "[LightGBM] [Warning] feature_fraction is set=1.0, colsample_bytree=1.0 will be ignored. Current value: feature_fraction=1.0\n",
      "[LightGBM] [Warning] bagging_fraction is set=0.8, subsample=1.0 will be ignored. Current value: bagging_fraction=0.8\n",
      "[LightGBM] [Warning] feature_fraction is set=1.0, colsample_bytree=1.0 will be ignored. Current value: feature_fraction=1.0\n",
      "[LightGBM] [Warning] bagging_fraction is set=0.8, subsample=1.0 will be ignored. Current value: bagging_fraction=0.8\n"
     ]
    },
    {
     "name": "stderr",
     "output_type": "stream",
     "text": [
      "\u001b[32m[I 2022-07-23 17:56:36,504]\u001b[0m Trial 703 finished with value: 0.6966903300076746 and parameters: {'feature_fraction': 1.0, 'feature_fraction_bynode': 0.7, 'max_depth': 450, 'min_child_samples': 150, 'bagging_fraction': 0.8, 'num_leaves': 72, 'learning_rate': 1.0, 'max_bin': 1000}. Best is trial 318 with value: 0.7597419416730622.\u001b[0m\n"
     ]
    },
    {
     "name": "stdout",
     "output_type": "stream",
     "text": [
      "[LightGBM] [Warning] feature_fraction is set=0.9, colsample_bytree=1.0 will be ignored. Current value: feature_fraction=0.9\n",
      "[LightGBM] [Warning] bagging_fraction is set=0.8, subsample=1.0 will be ignored. Current value: bagging_fraction=0.8\n",
      "[LightGBM] [Warning] feature_fraction is set=0.9, colsample_bytree=1.0 will be ignored. Current value: feature_fraction=0.9\n",
      "[LightGBM] [Warning] bagging_fraction is set=0.8, subsample=1.0 will be ignored. Current value: bagging_fraction=0.8\n"
     ]
    },
    {
     "name": "stderr",
     "output_type": "stream",
     "text": [
      "\u001b[32m[I 2022-07-23 17:56:56,384]\u001b[0m Trial 704 finished with value: 0.7591327705295472 and parameters: {'feature_fraction': 0.9, 'feature_fraction_bynode': 0.7, 'max_depth': 250, 'min_child_samples': 150, 'bagging_fraction': 0.8, 'num_leaves': 72, 'learning_rate': 0.1, 'max_bin': 1000}. Best is trial 318 with value: 0.7597419416730622.\u001b[0m\n"
     ]
    },
    {
     "name": "stdout",
     "output_type": "stream",
     "text": [
      "[LightGBM] [Warning] feature_fraction is set=1.0, colsample_bytree=1.0 will be ignored. Current value: feature_fraction=1.0\n",
      "[LightGBM] [Warning] bagging_fraction is set=0.8, subsample=1.0 will be ignored. Current value: bagging_fraction=0.8\n",
      "[LightGBM] [Warning] feature_fraction is set=1.0, colsample_bytree=1.0 will be ignored. Current value: feature_fraction=1.0\n",
      "[LightGBM] [Warning] bagging_fraction is set=0.8, subsample=1.0 will be ignored. Current value: bagging_fraction=0.8\n"
     ]
    },
    {
     "name": "stderr",
     "output_type": "stream",
     "text": [
      "\u001b[32m[I 2022-07-23 18:51:23,011]\u001b[0m Trial 705 finished with value: 0.7597419416730622 and parameters: {'feature_fraction': 1.0, 'feature_fraction_bynode': 0.7, 'max_depth': 200, 'min_child_samples': 150, 'bagging_fraction': 0.8, 'num_leaves': 72, 'learning_rate': 0.1, 'max_bin': 1000}. Best is trial 318 with value: 0.7597419416730622.\u001b[0m\n"
     ]
    },
    {
     "name": "stdout",
     "output_type": "stream",
     "text": [
      "[LightGBM] [Warning] feature_fraction is set=1.0, colsample_bytree=1.0 will be ignored. Current value: feature_fraction=1.0\n",
      "[LightGBM] [Warning] bagging_fraction is set=0.8, subsample=1.0 will be ignored. Current value: bagging_fraction=0.8\n",
      "[LightGBM] [Warning] feature_fraction is set=1.0, colsample_bytree=1.0 will be ignored. Current value: feature_fraction=1.0\n",
      "[LightGBM] [Warning] bagging_fraction is set=0.8, subsample=1.0 will be ignored. Current value: bagging_fraction=0.8\n"
     ]
    },
    {
     "name": "stderr",
     "output_type": "stream",
     "text": [
      "\u001b[32m[I 2022-07-23 18:51:49,706]\u001b[0m Trial 706 finished with value: 0.7572812739831158 and parameters: {'feature_fraction': 1.0, 'feature_fraction_bynode': 0.7, 'max_depth': 450, 'min_child_samples': 150, 'bagging_fraction': 0.8, 'num_leaves': 72, 'learning_rate': 0.2, 'max_bin': 1000}. Best is trial 318 with value: 0.7597419416730622.\u001b[0m\n"
     ]
    },
    {
     "name": "stdout",
     "output_type": "stream",
     "text": [
      "[LightGBM] [Warning] feature_fraction is set=1.0, colsample_bytree=1.0 will be ignored. Current value: feature_fraction=1.0\n",
      "[LightGBM] [Warning] bagging_fraction is set=0.8, subsample=1.0 will be ignored. Current value: bagging_fraction=0.8\n",
      "[LightGBM] [Warning] feature_fraction is set=1.0, colsample_bytree=1.0 will be ignored. Current value: feature_fraction=1.0\n",
      "[LightGBM] [Warning] bagging_fraction is set=0.8, subsample=1.0 will be ignored. Current value: bagging_fraction=0.8\n"
     ]
    },
    {
     "name": "stderr",
     "output_type": "stream",
     "text": [
      "\u001b[32m[I 2022-07-23 18:52:10,461]\u001b[0m Trial 707 finished with value: 0.7589984650805832 and parameters: {'feature_fraction': 1.0, 'feature_fraction_bynode': 0.7, 'max_depth': 200, 'min_child_samples': 150, 'bagging_fraction': 0.8, 'num_leaves': 62, 'learning_rate': 0.1, 'max_bin': 1000}. Best is trial 318 with value: 0.7597419416730622.\u001b[0m\n"
     ]
    },
    {
     "name": "stdout",
     "output_type": "stream",
     "text": [
      "[LightGBM] [Warning] feature_fraction is set=1.0, colsample_bytree=1.0 will be ignored. Current value: feature_fraction=1.0\n",
      "[LightGBM] [Warning] bagging_fraction is set=0.7, subsample=1.0 will be ignored. Current value: bagging_fraction=0.7\n",
      "[LightGBM] [Warning] feature_fraction is set=1.0, colsample_bytree=1.0 will be ignored. Current value: feature_fraction=1.0\n",
      "[LightGBM] [Warning] bagging_fraction is set=0.7, subsample=1.0 will be ignored. Current value: bagging_fraction=0.7\n"
     ]
    },
    {
     "name": "stderr",
     "output_type": "stream",
     "text": [
      "\u001b[32m[I 2022-07-23 18:52:57,029]\u001b[0m Trial 708 finished with value: 0.758960092095165 and parameters: {'feature_fraction': 1.0, 'feature_fraction_bynode': 0.7, 'max_depth': 250, 'min_child_samples': 150, 'bagging_fraction': 0.7, 'num_leaves': 82, 'learning_rate': 0.1, 'max_bin': 1000}. Best is trial 318 with value: 0.7597419416730622.\u001b[0m\n"
     ]
    },
    {
     "name": "stdout",
     "output_type": "stream",
     "text": [
      "[LightGBM] [Warning] feature_fraction is set=1.0, colsample_bytree=1.0 will be ignored. Current value: feature_fraction=1.0\n",
      "[LightGBM] [Warning] bagging_fraction is set=0.8, subsample=1.0 will be ignored. Current value: bagging_fraction=0.8\n",
      "[LightGBM] [Warning] feature_fraction is set=1.0, colsample_bytree=1.0 will be ignored. Current value: feature_fraction=1.0\n",
      "[LightGBM] [Warning] bagging_fraction is set=0.8, subsample=1.0 will be ignored. Current value: bagging_fraction=0.8\n"
     ]
    },
    {
     "name": "stderr",
     "output_type": "stream",
     "text": [
      "\u001b[32m[I 2022-07-23 18:53:30,380]\u001b[0m Trial 709 finished with value: 0.7592478894858019 and parameters: {'feature_fraction': 1.0, 'feature_fraction_bynode': 0.7, 'max_depth': 350, 'min_child_samples': 150, 'bagging_fraction': 0.8, 'num_leaves': 72, 'learning_rate': 0.1, 'max_bin': 9000}. Best is trial 318 with value: 0.7597419416730622.\u001b[0m\n"
     ]
    },
    {
     "name": "stdout",
     "output_type": "stream",
     "text": [
      "[LightGBM] [Warning] feature_fraction is set=1.0, colsample_bytree=1.0 will be ignored. Current value: feature_fraction=1.0\n",
      "[LightGBM] [Warning] bagging_fraction is set=0.8, subsample=1.0 will be ignored. Current value: bagging_fraction=0.8\n",
      "[LightGBM] [Warning] feature_fraction is set=1.0, colsample_bytree=1.0 will be ignored. Current value: feature_fraction=1.0\n",
      "[LightGBM] [Warning] bagging_fraction is set=0.8, subsample=1.0 will be ignored. Current value: bagging_fraction=0.8\n"
     ]
    },
    {
     "name": "stderr",
     "output_type": "stream",
     "text": [
      "\u001b[32m[I 2022-07-23 18:53:59,103]\u001b[0m Trial 710 finished with value: 0.7592478894858019 and parameters: {'feature_fraction': 1.0, 'feature_fraction_bynode': 0.7, 'max_depth': 500, 'min_child_samples': 150, 'bagging_fraction': 0.8, 'num_leaves': 72, 'learning_rate': 0.1, 'max_bin': 4000}. Best is trial 318 with value: 0.7597419416730622.\u001b[0m\n"
     ]
    },
    {
     "name": "stdout",
     "output_type": "stream",
     "text": [
      "[LightGBM] [Warning] feature_fraction is set=1.0, colsample_bytree=1.0 will be ignored. Current value: feature_fraction=1.0\n",
      "[LightGBM] [Warning] bagging_fraction is set=0.8, subsample=1.0 will be ignored. Current value: bagging_fraction=0.8\n",
      "[LightGBM] [Warning] feature_fraction is set=1.0, colsample_bytree=1.0 will be ignored. Current value: feature_fraction=1.0\n",
      "[LightGBM] [Warning] bagging_fraction is set=0.8, subsample=1.0 will be ignored. Current value: bagging_fraction=0.8\n"
     ]
    },
    {
     "name": "stderr",
     "output_type": "stream",
     "text": [
      "\u001b[32m[I 2022-07-23 18:54:28,400]\u001b[0m Trial 711 finished with value: 0.7592478894858019 and parameters: {'feature_fraction': 1.0, 'feature_fraction_bynode': 0.7, 'max_depth': 250, 'min_child_samples': 150, 'bagging_fraction': 0.8, 'num_leaves': 72, 'learning_rate': 0.1, 'max_bin': 2000}. Best is trial 318 with value: 0.7597419416730622.\u001b[0m\n"
     ]
    },
    {
     "name": "stdout",
     "output_type": "stream",
     "text": [
      "[LightGBM] [Warning] feature_fraction is set=1.0, colsample_bytree=1.0 will be ignored. Current value: feature_fraction=1.0\n",
      "[LightGBM] [Warning] bagging_fraction is set=0.8, subsample=1.0 will be ignored. Current value: bagging_fraction=0.8\n",
      "[LightGBM] [Warning] feature_fraction is set=1.0, colsample_bytree=1.0 will be ignored. Current value: feature_fraction=1.0\n",
      "[LightGBM] [Warning] bagging_fraction is set=0.8, subsample=1.0 will be ignored. Current value: bagging_fraction=0.8\n"
     ]
    },
    {
     "name": "stderr",
     "output_type": "stream",
     "text": [
      "\u001b[32m[I 2022-07-23 18:54:53,898]\u001b[0m Trial 712 finished with value: 0.7595740598618572 and parameters: {'feature_fraction': 1.0, 'feature_fraction_bynode': 0.5, 'max_depth': 450, 'min_child_samples': 150, 'bagging_fraction': 0.8, 'num_leaves': 72, 'learning_rate': 0.1, 'max_bin': 1000}. Best is trial 318 with value: 0.7597419416730622.\u001b[0m\n"
     ]
    },
    {
     "name": "stdout",
     "output_type": "stream",
     "text": [
      "[LightGBM] [Warning] feature_fraction is set=1.0, colsample_bytree=1.0 will be ignored. Current value: feature_fraction=1.0\n",
      "[LightGBM] [Warning] bagging_fraction is set=0.8, subsample=1.0 will be ignored. Current value: bagging_fraction=0.8\n",
      "[LightGBM] [Warning] feature_fraction is set=1.0, colsample_bytree=1.0 will be ignored. Current value: feature_fraction=1.0\n",
      "[LightGBM] [Warning] bagging_fraction is set=0.8, subsample=1.0 will be ignored. Current value: bagging_fraction=0.8\n"
     ]
    },
    {
     "name": "stderr",
     "output_type": "stream",
     "text": [
      "\u001b[32m[I 2022-07-23 18:55:18,114]\u001b[0m Trial 713 finished with value: 0.7597419416730622 and parameters: {'feature_fraction': 1.0, 'feature_fraction_bynode': 0.7, 'max_depth': 400, 'min_child_samples': 150, 'bagging_fraction': 0.8, 'num_leaves': 72, 'learning_rate': 0.1, 'max_bin': 1000}. Best is trial 318 with value: 0.7597419416730622.\u001b[0m\n"
     ]
    },
    {
     "name": "stdout",
     "output_type": "stream",
     "text": [
      "[LightGBM] [Warning] feature_fraction is set=1.0, colsample_bytree=1.0 will be ignored. Current value: feature_fraction=1.0\n",
      "[LightGBM] [Warning] bagging_fraction is set=0.8, subsample=1.0 will be ignored. Current value: bagging_fraction=0.8\n",
      "[LightGBM] [Warning] feature_fraction is set=1.0, colsample_bytree=1.0 will be ignored. Current value: feature_fraction=1.0\n",
      "[LightGBM] [Warning] bagging_fraction is set=0.8, subsample=1.0 will be ignored. Current value: bagging_fraction=0.8\n"
     ]
    },
    {
     "name": "stderr",
     "output_type": "stream",
     "text": [
      "\u001b[32m[I 2022-07-23 18:55:43,224]\u001b[0m Trial 714 finished with value: 0.758960092095165 and parameters: {'feature_fraction': 1.0, 'feature_fraction_bynode': 0.7, 'max_depth': 200, 'min_child_samples': 150, 'bagging_fraction': 0.8, 'num_leaves': 82, 'learning_rate': 0.1, 'max_bin': 1000}. Best is trial 318 with value: 0.7597419416730622.\u001b[0m\n"
     ]
    },
    {
     "name": "stdout",
     "output_type": "stream",
     "text": [
      "[LightGBM] [Warning] feature_fraction is set=1.0, colsample_bytree=1.0 will be ignored. Current value: feature_fraction=1.0\n",
      "[LightGBM] [Warning] bagging_fraction is set=0.5, subsample=1.0 will be ignored. Current value: bagging_fraction=0.5\n",
      "[LightGBM] [Warning] feature_fraction is set=1.0, colsample_bytree=1.0 will be ignored. Current value: feature_fraction=1.0\n",
      "[LightGBM] [Warning] bagging_fraction is set=0.5, subsample=1.0 will be ignored. Current value: bagging_fraction=0.5\n"
     ]
    },
    {
     "name": "stderr",
     "output_type": "stream",
     "text": [
      "\u001b[32m[I 2022-07-23 18:56:09,966]\u001b[0m Trial 715 finished with value: 0.7592910590943975 and parameters: {'feature_fraction': 1.0, 'feature_fraction_bynode': 0.8, 'max_depth': 500, 'min_child_samples': 150, 'bagging_fraction': 0.5, 'num_leaves': 72, 'learning_rate': 0.1, 'max_bin': 1000}. Best is trial 318 with value: 0.7597419416730622.\u001b[0m\n"
     ]
    },
    {
     "name": "stdout",
     "output_type": "stream",
     "text": [
      "[LightGBM] [Warning] feature_fraction is set=1.0, colsample_bytree=1.0 will be ignored. Current value: feature_fraction=1.0\n",
      "[LightGBM] [Warning] bagging_fraction is set=0.8, subsample=1.0 will be ignored. Current value: bagging_fraction=0.8\n",
      "[LightGBM] [Warning] feature_fraction is set=1.0, colsample_bytree=1.0 will be ignored. Current value: feature_fraction=1.0\n",
      "[LightGBM] [Warning] bagging_fraction is set=0.8, subsample=1.0 will be ignored. Current value: bagging_fraction=0.8\n"
     ]
    },
    {
     "name": "stderr",
     "output_type": "stream",
     "text": [
      "\u001b[32m[I 2022-07-23 18:56:33,411]\u001b[0m Trial 716 finished with value: 0.7572812739831158 and parameters: {'feature_fraction': 1.0, 'feature_fraction_bynode': 0.7, 'max_depth': 200, 'min_child_samples': 150, 'bagging_fraction': 0.8, 'num_leaves': 72, 'learning_rate': 0.2, 'max_bin': 1000}. Best is trial 318 with value: 0.7597419416730622.\u001b[0m\n"
     ]
    },
    {
     "name": "stdout",
     "output_type": "stream",
     "text": [
      "[LightGBM] [Warning] feature_fraction is set=1.0, colsample_bytree=1.0 will be ignored. Current value: feature_fraction=1.0\n",
      "[LightGBM] [Warning] bagging_fraction is set=0.8, subsample=1.0 will be ignored. Current value: bagging_fraction=0.8\n",
      "[LightGBM] [Warning] feature_fraction is set=1.0, colsample_bytree=1.0 will be ignored. Current value: feature_fraction=1.0\n",
      "[LightGBM] [Warning] bagging_fraction is set=0.8, subsample=1.0 will be ignored. Current value: bagging_fraction=0.8\n"
     ]
    },
    {
     "name": "stderr",
     "output_type": "stream",
     "text": [
      "\u001b[32m[I 2022-07-23 18:56:59,461]\u001b[0m Trial 717 finished with value: 0.7597419416730622 and parameters: {'feature_fraction': 1.0, 'feature_fraction_bynode': 0.7, 'max_depth': 500, 'min_child_samples': 150, 'bagging_fraction': 0.8, 'num_leaves': 72, 'learning_rate': 0.1, 'max_bin': 1000}. Best is trial 318 with value: 0.7597419416730622.\u001b[0m\n"
     ]
    },
    {
     "name": "stdout",
     "output_type": "stream",
     "text": [
      "[LightGBM] [Warning] feature_fraction is set=1.0, colsample_bytree=1.0 will be ignored. Current value: feature_fraction=1.0\n",
      "[LightGBM] [Warning] bagging_fraction is set=0.8, subsample=1.0 will be ignored. Current value: bagging_fraction=0.8\n",
      "[LightGBM] [Warning] feature_fraction is set=1.0, colsample_bytree=1.0 will be ignored. Current value: feature_fraction=1.0\n",
      "[LightGBM] [Warning] bagging_fraction is set=0.8, subsample=1.0 will be ignored. Current value: bagging_fraction=0.8\n"
     ]
    },
    {
     "name": "stderr",
     "output_type": "stream",
     "text": [
      "\u001b[32m[I 2022-07-23 18:57:19,113]\u001b[0m Trial 718 finished with value: 0.7530842287029931 and parameters: {'feature_fraction': 1.0, 'feature_fraction_bynode': 0.7, 'max_depth': 200, 'min_child_samples': 150, 'bagging_fraction': 0.8, 'num_leaves': 62, 'learning_rate': 0.4, 'max_bin': 1000}. Best is trial 318 with value: 0.7597419416730622.\u001b[0m\n"
     ]
    },
    {
     "name": "stdout",
     "output_type": "stream",
     "text": [
      "[LightGBM] [Warning] feature_fraction is set=1.0, colsample_bytree=1.0 will be ignored. Current value: feature_fraction=1.0\n",
      "[LightGBM] [Warning] bagging_fraction is set=0.8, subsample=1.0 will be ignored. Current value: bagging_fraction=0.8\n",
      "[LightGBM] [Warning] feature_fraction is set=1.0, colsample_bytree=1.0 will be ignored. Current value: feature_fraction=1.0\n",
      "[LightGBM] [Warning] bagging_fraction is set=0.8, subsample=1.0 will be ignored. Current value: bagging_fraction=0.8\n"
     ]
    },
    {
     "name": "stderr",
     "output_type": "stream",
     "text": [
      "\u001b[32m[I 2022-07-23 18:57:37,818]\u001b[0m Trial 719 finished with value: 0.7592478894858019 and parameters: {'feature_fraction': 1.0, 'feature_fraction_bynode': 0.7, 'max_depth': 200, 'min_child_samples': 150, 'bagging_fraction': 0.8, 'num_leaves': 72, 'learning_rate': 0.1, 'max_bin': 2000}. Best is trial 318 with value: 0.7597419416730622.\u001b[0m\n"
     ]
    },
    {
     "name": "stdout",
     "output_type": "stream",
     "text": [
      "[LightGBM] [Warning] feature_fraction is set=0.8, colsample_bytree=1.0 will be ignored. Current value: feature_fraction=0.8\n",
      "[LightGBM] [Warning] bagging_fraction is set=0.8, subsample=1.0 will be ignored. Current value: bagging_fraction=0.8\n",
      "[LightGBM] [Warning] feature_fraction is set=0.8, colsample_bytree=1.0 will be ignored. Current value: feature_fraction=0.8\n",
      "[LightGBM] [Warning] bagging_fraction is set=0.8, subsample=1.0 will be ignored. Current value: bagging_fraction=0.8\n"
     ]
    },
    {
     "name": "stderr",
     "output_type": "stream",
     "text": [
      "\u001b[32m[I 2022-07-23 18:57:56,154]\u001b[0m Trial 720 finished with value: 0.7589792785878742 and parameters: {'feature_fraction': 0.8, 'feature_fraction_bynode': 0.7, 'max_depth': 200, 'min_child_samples': 150, 'bagging_fraction': 0.8, 'num_leaves': 72, 'learning_rate': 0.1, 'max_bin': 1000}. Best is trial 318 with value: 0.7597419416730622.\u001b[0m\n"
     ]
    },
    {
     "name": "stdout",
     "output_type": "stream",
     "text": [
      "[LightGBM] [Warning] feature_fraction is set=1.0, colsample_bytree=1.0 will be ignored. Current value: feature_fraction=1.0\n",
      "[LightGBM] [Warning] bagging_fraction is set=0.8, subsample=1.0 will be ignored. Current value: bagging_fraction=0.8\n",
      "[LightGBM] [Warning] feature_fraction is set=1.0, colsample_bytree=1.0 will be ignored. Current value: feature_fraction=1.0\n",
      "[LightGBM] [Warning] bagging_fraction is set=0.8, subsample=1.0 will be ignored. Current value: bagging_fraction=0.8\n"
     ]
    },
    {
     "name": "stderr",
     "output_type": "stream",
     "text": [
      "\u001b[32m[I 2022-07-23 18:58:15,235]\u001b[0m Trial 721 finished with value: 0.7597419416730622 and parameters: {'feature_fraction': 1.0, 'feature_fraction_bynode': 0.7, 'max_depth': 250, 'min_child_samples': 150, 'bagging_fraction': 0.8, 'num_leaves': 72, 'learning_rate': 0.1, 'max_bin': 1000}. Best is trial 318 with value: 0.7597419416730622.\u001b[0m\n"
     ]
    },
    {
     "name": "stdout",
     "output_type": "stream",
     "text": [
      "[LightGBM] [Warning] feature_fraction is set=1.0, colsample_bytree=1.0 will be ignored. Current value: feature_fraction=1.0\n",
      "[LightGBM] [Warning] bagging_fraction is set=0.7, subsample=1.0 will be ignored. Current value: bagging_fraction=0.7\n",
      "[LightGBM] [Warning] feature_fraction is set=1.0, colsample_bytree=1.0 will be ignored. Current value: feature_fraction=1.0\n",
      "[LightGBM] [Warning] bagging_fraction is set=0.7, subsample=1.0 will be ignored. Current value: bagging_fraction=0.7\n"
     ]
    },
    {
     "name": "stderr",
     "output_type": "stream",
     "text": [
      "\u001b[32m[I 2022-07-23 18:58:30,989]\u001b[0m Trial 722 finished with value: 0.7588833461243285 and parameters: {'feature_fraction': 1.0, 'feature_fraction_bynode': 0.7, 'max_depth': 250, 'min_child_samples': 150, 'bagging_fraction': 0.7, 'num_leaves': 42, 'learning_rate': 0.1, 'max_bin': 1000}. Best is trial 318 with value: 0.7597419416730622.\u001b[0m\n"
     ]
    },
    {
     "name": "stdout",
     "output_type": "stream",
     "text": [
      "[LightGBM] [Warning] feature_fraction is set=1.0, colsample_bytree=1.0 will be ignored. Current value: feature_fraction=1.0\n",
      "[LightGBM] [Warning] bagging_fraction is set=0.8, subsample=1.0 will be ignored. Current value: bagging_fraction=0.8\n",
      "[LightGBM] [Warning] feature_fraction is set=1.0, colsample_bytree=1.0 will be ignored. Current value: feature_fraction=1.0\n",
      "[LightGBM] [Warning] bagging_fraction is set=0.8, subsample=1.0 will be ignored. Current value: bagging_fraction=0.8\n"
     ]
    },
    {
     "name": "stderr",
     "output_type": "stream",
     "text": [
      "\u001b[32m[I 2022-07-23 18:58:49,432]\u001b[0m Trial 723 finished with value: 0.7590752110514198 and parameters: {'feature_fraction': 1.0, 'feature_fraction_bynode': 0.6, 'max_depth': 250, 'min_child_samples': 150, 'bagging_fraction': 0.8, 'num_leaves': 72, 'learning_rate': 0.1, 'max_bin': 1000}. Best is trial 318 with value: 0.7597419416730622.\u001b[0m\n"
     ]
    },
    {
     "name": "stdout",
     "output_type": "stream",
     "text": [
      "[LightGBM] [Warning] feature_fraction is set=1.0, colsample_bytree=1.0 will be ignored. Current value: feature_fraction=1.0\n",
      "[LightGBM] [Warning] bagging_fraction is set=1.0, subsample=1.0 will be ignored. Current value: bagging_fraction=1.0\n",
      "[LightGBM] [Warning] feature_fraction is set=1.0, colsample_bytree=1.0 will be ignored. Current value: feature_fraction=1.0\n",
      "[LightGBM] [Warning] bagging_fraction is set=1.0, subsample=1.0 will be ignored. Current value: bagging_fraction=1.0\n"
     ]
    },
    {
     "name": "stderr",
     "output_type": "stream",
     "text": [
      "\u001b[32m[I 2022-07-23 18:59:09,679]\u001b[0m Trial 724 finished with value: 0.758960092095165 and parameters: {'feature_fraction': 1.0, 'feature_fraction_bynode': 0.7, 'max_depth': 400, 'min_child_samples': 150, 'bagging_fraction': 1.0, 'num_leaves': 82, 'learning_rate': 0.1, 'max_bin': 1000}. Best is trial 318 with value: 0.7597419416730622.\u001b[0m\n"
     ]
    },
    {
     "name": "stdout",
     "output_type": "stream",
     "text": [
      "[LightGBM] [Warning] feature_fraction is set=1.0, colsample_bytree=1.0 will be ignored. Current value: feature_fraction=1.0\n",
      "[LightGBM] [Warning] bagging_fraction is set=0.8, subsample=1.0 will be ignored. Current value: bagging_fraction=0.8\n",
      "[LightGBM] [Warning] feature_fraction is set=1.0, colsample_bytree=1.0 will be ignored. Current value: feature_fraction=1.0\n",
      "[LightGBM] [Warning] bagging_fraction is set=0.8, subsample=1.0 will be ignored. Current value: bagging_fraction=0.8\n"
     ]
    },
    {
     "name": "stderr",
     "output_type": "stream",
     "text": [
      "\u001b[32m[I 2022-07-23 18:59:27,888]\u001b[0m Trial 725 finished with value: 0.7597419416730622 and parameters: {'feature_fraction': 1.0, 'feature_fraction_bynode': 0.7, 'max_depth': 400, 'min_child_samples': 150, 'bagging_fraction': 0.8, 'num_leaves': 72, 'learning_rate': 0.1, 'max_bin': 1000}. Best is trial 318 with value: 0.7597419416730622.\u001b[0m\n"
     ]
    },
    {
     "name": "stdout",
     "output_type": "stream",
     "text": [
      "[LightGBM] [Warning] feature_fraction is set=1.0, colsample_bytree=1.0 will be ignored. Current value: feature_fraction=1.0\n",
      "[LightGBM] [Warning] bagging_fraction is set=0.8, subsample=1.0 will be ignored. Current value: bagging_fraction=0.8\n",
      "[LightGBM] [Warning] feature_fraction is set=1.0, colsample_bytree=1.0 will be ignored. Current value: feature_fraction=1.0\n",
      "[LightGBM] [Warning] bagging_fraction is set=0.8, subsample=1.0 will be ignored. Current value: bagging_fraction=0.8\n"
     ]
    },
    {
     "name": "stderr",
     "output_type": "stream",
     "text": [
      "\u001b[32m[I 2022-07-23 18:59:45,749]\u001b[0m Trial 726 finished with value: 0.7572812739831158 and parameters: {'feature_fraction': 1.0, 'feature_fraction_bynode': 0.7, 'max_depth': 400, 'min_child_samples': 150, 'bagging_fraction': 0.8, 'num_leaves': 72, 'learning_rate': 0.2, 'max_bin': 1000}. Best is trial 318 with value: 0.7597419416730622.\u001b[0m\n"
     ]
    },
    {
     "name": "stdout",
     "output_type": "stream",
     "text": [
      "[LightGBM] [Warning] feature_fraction is set=1.0, colsample_bytree=1.0 will be ignored. Current value: feature_fraction=1.0\n",
      "[LightGBM] [Warning] bagging_fraction is set=0.8, subsample=1.0 will be ignored. Current value: bagging_fraction=0.8\n",
      "[LightGBM] [Warning] feature_fraction is set=1.0, colsample_bytree=1.0 will be ignored. Current value: feature_fraction=1.0\n",
      "[LightGBM] [Warning] bagging_fraction is set=0.8, subsample=1.0 will be ignored. Current value: bagging_fraction=0.8\n"
     ]
    },
    {
     "name": "stderr",
     "output_type": "stream",
     "text": [
      "\u001b[32m[I 2022-07-23 19:00:03,244]\u001b[0m Trial 727 finished with value: 0.7590752110514197 and parameters: {'feature_fraction': 1.0, 'feature_fraction_bynode': 0.7, 'max_depth': 200, 'min_child_samples': 150, 'bagging_fraction': 0.8, 'num_leaves': 62, 'learning_rate': 0.1, 'max_bin': 2000}. Best is trial 318 with value: 0.7597419416730622.\u001b[0m\n"
     ]
    },
    {
     "name": "stdout",
     "output_type": "stream",
     "text": [
      "[LightGBM] [Warning] feature_fraction is set=1.0, colsample_bytree=1.0 will be ignored. Current value: feature_fraction=1.0\n",
      "[LightGBM] [Warning] bagging_fraction is set=0.8, subsample=1.0 will be ignored. Current value: bagging_fraction=0.8\n",
      "[LightGBM] [Warning] feature_fraction is set=1.0, colsample_bytree=1.0 will be ignored. Current value: feature_fraction=1.0\n",
      "[LightGBM] [Warning] bagging_fraction is set=0.8, subsample=1.0 will be ignored. Current value: bagging_fraction=0.8\n"
     ]
    },
    {
     "name": "stderr",
     "output_type": "stream",
     "text": [
      "\u001b[32m[I 2022-07-23 19:00:22,201]\u001b[0m Trial 728 finished with value: 0.7597419416730622 and parameters: {'feature_fraction': 1.0, 'feature_fraction_bynode': 0.7, 'max_depth': 450, 'min_child_samples': 150, 'bagging_fraction': 0.8, 'num_leaves': 72, 'learning_rate': 0.1, 'max_bin': 1000}. Best is trial 318 with value: 0.7597419416730622.\u001b[0m\n"
     ]
    },
    {
     "name": "stdout",
     "output_type": "stream",
     "text": [
      "[LightGBM] [Warning] feature_fraction is set=1.0, colsample_bytree=1.0 will be ignored. Current value: feature_fraction=1.0\n",
      "[LightGBM] [Warning] bagging_fraction is set=0.8, subsample=1.0 will be ignored. Current value: bagging_fraction=0.8\n",
      "[LightGBM] [Warning] feature_fraction is set=1.0, colsample_bytree=1.0 will be ignored. Current value: feature_fraction=1.0\n",
      "[LightGBM] [Warning] bagging_fraction is set=0.8, subsample=1.0 will be ignored. Current value: bagging_fraction=0.8\n"
     ]
    },
    {
     "name": "stderr",
     "output_type": "stream",
     "text": [
      "\u001b[32m[I 2022-07-23 19:00:38,682]\u001b[0m Trial 729 finished with value: 0.7543553338449731 and parameters: {'feature_fraction': 1.0, 'feature_fraction_bynode': 0.7, 'max_depth': 450, 'min_child_samples': 150, 'bagging_fraction': 0.8, 'num_leaves': 72, 'learning_rate': 0.30000000000000004, 'max_bin': 1000}. Best is trial 318 with value: 0.7597419416730622.\u001b[0m\n"
     ]
    },
    {
     "name": "stdout",
     "output_type": "stream",
     "text": [
      "[LightGBM] [Warning] feature_fraction is set=1.0, colsample_bytree=1.0 will be ignored. Current value: feature_fraction=1.0\n",
      "[LightGBM] [Warning] bagging_fraction is set=0.8, subsample=1.0 will be ignored. Current value: bagging_fraction=0.8\n",
      "[LightGBM] [Warning] feature_fraction is set=1.0, colsample_bytree=1.0 will be ignored. Current value: feature_fraction=1.0\n",
      "[LightGBM] [Warning] bagging_fraction is set=0.8, subsample=1.0 will be ignored. Current value: bagging_fraction=0.8\n"
     ]
    },
    {
     "name": "stderr",
     "output_type": "stream",
     "text": [
      "\u001b[32m[I 2022-07-23 19:00:57,737]\u001b[0m Trial 730 finished with value: 0.7597419416730622 and parameters: {'feature_fraction': 1.0, 'feature_fraction_bynode': 0.7, 'max_depth': 250, 'min_child_samples': 150, 'bagging_fraction': 0.8, 'num_leaves': 72, 'learning_rate': 0.1, 'max_bin': 1000}. Best is trial 318 with value: 0.7597419416730622.\u001b[0m\n"
     ]
    },
    {
     "name": "stdout",
     "output_type": "stream",
     "text": [
      "[LightGBM] [Warning] feature_fraction is set=1.0, colsample_bytree=1.0 will be ignored. Current value: feature_fraction=1.0\n",
      "[LightGBM] [Warning] bagging_fraction is set=0.8, subsample=1.0 will be ignored. Current value: bagging_fraction=0.8\n",
      "[LightGBM] [Warning] feature_fraction is set=1.0, colsample_bytree=1.0 will be ignored. Current value: feature_fraction=1.0\n",
      "[LightGBM] [Warning] bagging_fraction is set=0.8, subsample=1.0 will be ignored. Current value: bagging_fraction=0.8\n"
     ]
    },
    {
     "name": "stderr",
     "output_type": "stream",
     "text": [
      "\u001b[32m[I 2022-07-23 19:01:16,862]\u001b[0m Trial 731 finished with value: 0.7597419416730622 and parameters: {'feature_fraction': 1.0, 'feature_fraction_bynode': 0.7, 'max_depth': 450, 'min_child_samples': 150, 'bagging_fraction': 0.8, 'num_leaves': 72, 'learning_rate': 0.1, 'max_bin': 1000}. Best is trial 318 with value: 0.7597419416730622.\u001b[0m\n"
     ]
    },
    {
     "name": "stdout",
     "output_type": "stream",
     "text": [
      "[LightGBM] [Warning] feature_fraction is set=1.0, colsample_bytree=1.0 will be ignored. Current value: feature_fraction=1.0\n",
      "[LightGBM] [Warning] bagging_fraction is set=0.8, subsample=1.0 will be ignored. Current value: bagging_fraction=0.8\n",
      "[LightGBM] [Warning] feature_fraction is set=1.0, colsample_bytree=1.0 will be ignored. Current value: feature_fraction=1.0\n",
      "[LightGBM] [Warning] bagging_fraction is set=0.8, subsample=1.0 will be ignored. Current value: bagging_fraction=0.8\n"
     ]
    },
    {
     "name": "stderr",
     "output_type": "stream",
     "text": [
      "\u001b[32m[I 2022-07-23 19:01:38,019]\u001b[0m Trial 732 finished with value: 0.7585955487336915 and parameters: {'feature_fraction': 1.0, 'feature_fraction_bynode': 0.7, 'max_depth': 450, 'min_child_samples': 150, 'bagging_fraction': 0.8, 'num_leaves': 92, 'learning_rate': 0.1, 'max_bin': 7000}. Best is trial 318 with value: 0.7597419416730622.\u001b[0m\n"
     ]
    },
    {
     "name": "stdout",
     "output_type": "stream",
     "text": [
      "[LightGBM] [Warning] feature_fraction is set=1.0, colsample_bytree=1.0 will be ignored. Current value: feature_fraction=1.0\n",
      "[LightGBM] [Warning] bagging_fraction is set=0.8, subsample=1.0 will be ignored. Current value: bagging_fraction=0.8\n",
      "[LightGBM] [Warning] feature_fraction is set=1.0, colsample_bytree=1.0 will be ignored. Current value: feature_fraction=1.0\n",
      "[LightGBM] [Warning] bagging_fraction is set=0.8, subsample=1.0 will be ignored. Current value: bagging_fraction=0.8\n"
     ]
    },
    {
     "name": "stderr",
     "output_type": "stream",
     "text": [
      "\u001b[32m[I 2022-07-23 19:01:57,591]\u001b[0m Trial 733 finished with value: 0.7597419416730622 and parameters: {'feature_fraction': 1.0, 'feature_fraction_bynode': 0.7, 'max_depth': 400, 'min_child_samples': 150, 'bagging_fraction': 0.8, 'num_leaves': 72, 'learning_rate': 0.1, 'max_bin': 1000}. Best is trial 318 with value: 0.7597419416730622.\u001b[0m\n"
     ]
    },
    {
     "name": "stdout",
     "output_type": "stream",
     "text": [
      "[LightGBM] [Warning] feature_fraction is set=1.0, colsample_bytree=1.0 will be ignored. Current value: feature_fraction=1.0\n",
      "[LightGBM] [Warning] bagging_fraction is set=0.8, subsample=1.0 will be ignored. Current value: bagging_fraction=0.8\n",
      "[LightGBM] [Warning] feature_fraction is set=1.0, colsample_bytree=1.0 will be ignored. Current value: feature_fraction=1.0\n",
      "[LightGBM] [Warning] bagging_fraction is set=0.8, subsample=1.0 will be ignored. Current value: bagging_fraction=0.8\n"
     ]
    },
    {
     "name": "stderr",
     "output_type": "stream",
     "text": [
      "\u001b[32m[I 2022-07-23 19:02:16,790]\u001b[0m Trial 734 finished with value: 0.7597419416730622 and parameters: {'feature_fraction': 1.0, 'feature_fraction_bynode': 0.7, 'max_depth': 250, 'min_child_samples': 150, 'bagging_fraction': 0.8, 'num_leaves': 72, 'learning_rate': 0.1, 'max_bin': 1000}. Best is trial 318 with value: 0.7597419416730622.\u001b[0m\n"
     ]
    },
    {
     "name": "stdout",
     "output_type": "stream",
     "text": [
      "[LightGBM] [Warning] feature_fraction is set=1.0, colsample_bytree=1.0 will be ignored. Current value: feature_fraction=1.0\n",
      "[LightGBM] [Warning] bagging_fraction is set=0.8, subsample=1.0 will be ignored. Current value: bagging_fraction=0.8\n",
      "[LightGBM] [Warning] feature_fraction is set=1.0, colsample_bytree=1.0 will be ignored. Current value: feature_fraction=1.0\n",
      "[LightGBM] [Warning] bagging_fraction is set=0.8, subsample=1.0 will be ignored. Current value: bagging_fraction=0.8\n"
     ]
    },
    {
     "name": "stderr",
     "output_type": "stream",
     "text": [
      "\u001b[32m[I 2022-07-23 19:02:34,091]\u001b[0m Trial 735 finished with value: 0.7590752110514197 and parameters: {'feature_fraction': 1.0, 'feature_fraction_bynode': 0.7, 'max_depth': 250, 'min_child_samples': 150, 'bagging_fraction': 0.8, 'num_leaves': 62, 'learning_rate': 0.1, 'max_bin': 2000}. Best is trial 318 with value: 0.7597419416730622.\u001b[0m\n"
     ]
    },
    {
     "name": "stdout",
     "output_type": "stream",
     "text": [
      "[LightGBM] [Warning] feature_fraction is set=1.0, colsample_bytree=1.0 will be ignored. Current value: feature_fraction=1.0\n",
      "[LightGBM] [Warning] bagging_fraction is set=0.8, subsample=1.0 will be ignored. Current value: bagging_fraction=0.8\n",
      "[LightGBM] [Warning] feature_fraction is set=1.0, colsample_bytree=1.0 will be ignored. Current value: feature_fraction=1.0\n",
      "[LightGBM] [Warning] bagging_fraction is set=0.8, subsample=1.0 will be ignored. Current value: bagging_fraction=0.8\n"
     ]
    },
    {
     "name": "stderr",
     "output_type": "stream",
     "text": [
      "\u001b[32m[I 2022-07-23 19:02:53,193]\u001b[0m Trial 736 finished with value: 0.758960092095165 and parameters: {'feature_fraction': 1.0, 'feature_fraction_bynode': 0.7, 'max_depth': 250, 'min_child_samples': 150, 'bagging_fraction': 0.8, 'num_leaves': 82, 'learning_rate': 0.1, 'max_bin': 1000}. Best is trial 318 with value: 0.7597419416730622.\u001b[0m\n"
     ]
    },
    {
     "name": "stdout",
     "output_type": "stream",
     "text": [
      "[LightGBM] [Warning] feature_fraction is set=1.0, colsample_bytree=1.0 will be ignored. Current value: feature_fraction=1.0\n",
      "[LightGBM] [Warning] bagging_fraction is set=0.8, subsample=1.0 will be ignored. Current value: bagging_fraction=0.8\n",
      "[LightGBM] [Warning] feature_fraction is set=1.0, colsample_bytree=1.0 will be ignored. Current value: feature_fraction=1.0\n",
      "[LightGBM] [Warning] bagging_fraction is set=0.8, subsample=1.0 will be ignored. Current value: bagging_fraction=0.8\n"
     ]
    },
    {
     "name": "stderr",
     "output_type": "stream",
     "text": [
      "\u001b[32m[I 2022-07-23 19:03:11,335]\u001b[0m Trial 737 finished with value: 0.7592478894858019 and parameters: {'feature_fraction': 1.0, 'feature_fraction_bynode': 0.7, 'max_depth': 250, 'min_child_samples': 150, 'bagging_fraction': 0.8, 'num_leaves': 72, 'learning_rate': 0.1, 'max_bin': 10000}. Best is trial 318 with value: 0.7597419416730622.\u001b[0m\n"
     ]
    },
    {
     "name": "stdout",
     "output_type": "stream",
     "text": [
      "[LightGBM] [Warning] feature_fraction is set=1.0, colsample_bytree=1.0 will be ignored. Current value: feature_fraction=1.0\n",
      "[LightGBM] [Warning] bagging_fraction is set=0.8, subsample=1.0 will be ignored. Current value: bagging_fraction=0.8\n",
      "[LightGBM] [Warning] feature_fraction is set=1.0, colsample_bytree=1.0 will be ignored. Current value: feature_fraction=1.0\n",
      "[LightGBM] [Warning] bagging_fraction is set=0.8, subsample=1.0 will be ignored. Current value: bagging_fraction=0.8\n"
     ]
    },
    {
     "name": "stderr",
     "output_type": "stream",
     "text": [
      "\u001b[32m[I 2022-07-23 19:03:29,789]\u001b[0m Trial 738 finished with value: 0.7597419416730622 and parameters: {'feature_fraction': 1.0, 'feature_fraction_bynode': 0.7, 'max_depth': 200, 'min_child_samples': 150, 'bagging_fraction': 0.8, 'num_leaves': 72, 'learning_rate': 0.1, 'max_bin': 1000}. Best is trial 318 with value: 0.7597419416730622.\u001b[0m\n"
     ]
    },
    {
     "name": "stdout",
     "output_type": "stream",
     "text": [
      "[LightGBM] [Warning] feature_fraction is set=1.0, colsample_bytree=1.0 will be ignored. Current value: feature_fraction=1.0\n",
      "[LightGBM] [Warning] bagging_fraction is set=0.8, subsample=1.0 will be ignored. Current value: bagging_fraction=0.8\n",
      "[LightGBM] [Warning] feature_fraction is set=1.0, colsample_bytree=1.0 will be ignored. Current value: feature_fraction=1.0\n",
      "[LightGBM] [Warning] bagging_fraction is set=0.8, subsample=1.0 will be ignored. Current value: bagging_fraction=0.8\n"
     ]
    },
    {
     "name": "stderr",
     "output_type": "stream",
     "text": [
      "\u001b[32m[I 2022-07-23 19:03:46,130]\u001b[0m Trial 739 finished with value: 0.7572812739831158 and parameters: {'feature_fraction': 1.0, 'feature_fraction_bynode': 0.7, 'max_depth': 450, 'min_child_samples': 150, 'bagging_fraction': 0.8, 'num_leaves': 72, 'learning_rate': 0.2, 'max_bin': 1000}. Best is trial 318 with value: 0.7597419416730622.\u001b[0m\n"
     ]
    },
    {
     "name": "stdout",
     "output_type": "stream",
     "text": [
      "[LightGBM] [Warning] feature_fraction is set=1.0, colsample_bytree=1.0 will be ignored. Current value: feature_fraction=1.0\n",
      "[LightGBM] [Warning] bagging_fraction is set=0.8, subsample=1.0 will be ignored. Current value: bagging_fraction=0.8\n",
      "[LightGBM] [Warning] feature_fraction is set=1.0, colsample_bytree=1.0 will be ignored. Current value: feature_fraction=1.0\n",
      "[LightGBM] [Warning] bagging_fraction is set=0.8, subsample=1.0 will be ignored. Current value: bagging_fraction=0.8\n"
     ]
    },
    {
     "name": "stderr",
     "output_type": "stream",
     "text": [
      "\u001b[32m[I 2022-07-23 19:04:04,208]\u001b[0m Trial 740 finished with value: 0.7597419416730622 and parameters: {'feature_fraction': 1.0, 'feature_fraction_bynode': 0.7, 'max_depth': 350, 'min_child_samples': 150, 'bagging_fraction': 0.8, 'num_leaves': 72, 'learning_rate': 0.1, 'max_bin': 1000}. Best is trial 318 with value: 0.7597419416730622.\u001b[0m\n"
     ]
    },
    {
     "name": "stdout",
     "output_type": "stream",
     "text": [
      "[LightGBM] [Warning] feature_fraction is set=1.0, colsample_bytree=1.0 will be ignored. Current value: feature_fraction=1.0\n",
      "[LightGBM] [Warning] bagging_fraction is set=0.8, subsample=1.0 will be ignored. Current value: bagging_fraction=0.8\n",
      "[LightGBM] [Warning] feature_fraction is set=1.0, colsample_bytree=1.0 will be ignored. Current value: feature_fraction=1.0\n",
      "[LightGBM] [Warning] bagging_fraction is set=0.8, subsample=1.0 will be ignored. Current value: bagging_fraction=0.8\n"
     ]
    },
    {
     "name": "stderr",
     "output_type": "stream",
     "text": [
      "\u001b[32m[I 2022-07-23 19:04:22,697]\u001b[0m Trial 741 finished with value: 0.7597419416730622 and parameters: {'feature_fraction': 1.0, 'feature_fraction_bynode': 0.7, 'max_depth': 200, 'min_child_samples': 150, 'bagging_fraction': 0.8, 'num_leaves': 72, 'learning_rate': 0.1, 'max_bin': 1000}. Best is trial 318 with value: 0.7597419416730622.\u001b[0m\n"
     ]
    },
    {
     "name": "stdout",
     "output_type": "stream",
     "text": [
      "[LightGBM] [Warning] feature_fraction is set=1.0, colsample_bytree=1.0 will be ignored. Current value: feature_fraction=1.0\n",
      "[LightGBM] [Warning] bagging_fraction is set=0.8, subsample=1.0 will be ignored. Current value: bagging_fraction=0.8\n",
      "[LightGBM] [Warning] feature_fraction is set=1.0, colsample_bytree=1.0 will be ignored. Current value: feature_fraction=1.0\n",
      "[LightGBM] [Warning] bagging_fraction is set=0.8, subsample=1.0 will be ignored. Current value: bagging_fraction=0.8\n"
     ]
    },
    {
     "name": "stderr",
     "output_type": "stream",
     "text": [
      "\u001b[32m[I 2022-07-23 19:04:41,364]\u001b[0m Trial 742 finished with value: 0.758960092095165 and parameters: {'feature_fraction': 1.0, 'feature_fraction_bynode': 0.7, 'max_depth': 250, 'min_child_samples': 150, 'bagging_fraction': 0.8, 'num_leaves': 82, 'learning_rate': 0.1, 'max_bin': 1000}. Best is trial 318 with value: 0.7597419416730622.\u001b[0m\n"
     ]
    },
    {
     "name": "stdout",
     "output_type": "stream",
     "text": [
      "[LightGBM] [Warning] feature_fraction is set=1.0, colsample_bytree=1.0 will be ignored. Current value: feature_fraction=1.0\n",
      "[LightGBM] [Warning] bagging_fraction is set=0.8, subsample=1.0 will be ignored. Current value: bagging_fraction=0.8\n",
      "[LightGBM] [Warning] feature_fraction is set=1.0, colsample_bytree=1.0 will be ignored. Current value: feature_fraction=1.0\n",
      "[LightGBM] [Warning] bagging_fraction is set=0.8, subsample=1.0 will be ignored. Current value: bagging_fraction=0.8\n"
     ]
    },
    {
     "name": "stderr",
     "output_type": "stream",
     "text": [
      "\u001b[32m[I 2022-07-23 19:04:58,873]\u001b[0m Trial 743 finished with value: 0.7589984650805832 and parameters: {'feature_fraction': 1.0, 'feature_fraction_bynode': 0.7, 'max_depth': 250, 'min_child_samples': 150, 'bagging_fraction': 0.8, 'num_leaves': 62, 'learning_rate': 0.1, 'max_bin': 1000}. Best is trial 318 with value: 0.7597419416730622.\u001b[0m\n"
     ]
    },
    {
     "name": "stdout",
     "output_type": "stream",
     "text": [
      "[LightGBM] [Warning] feature_fraction is set=1.0, colsample_bytree=1.0 will be ignored. Current value: feature_fraction=1.0\n",
      "[LightGBM] [Warning] bagging_fraction is set=0.8, subsample=1.0 will be ignored. Current value: bagging_fraction=0.8\n",
      "[LightGBM] [Warning] feature_fraction is set=1.0, colsample_bytree=1.0 will be ignored. Current value: feature_fraction=1.0\n",
      "[LightGBM] [Warning] bagging_fraction is set=0.8, subsample=1.0 will be ignored. Current value: bagging_fraction=0.8\n"
     ]
    },
    {
     "name": "stderr",
     "output_type": "stream",
     "text": [
      "\u001b[32m[I 2022-07-23 19:05:16,590]\u001b[0m Trial 744 finished with value: 0.7597419416730622 and parameters: {'feature_fraction': 1.0, 'feature_fraction_bynode': 0.7, 'max_depth': 400, 'min_child_samples': 150, 'bagging_fraction': 0.8, 'num_leaves': 72, 'learning_rate': 0.1, 'max_bin': 1000}. Best is trial 318 with value: 0.7597419416730622.\u001b[0m\n"
     ]
    },
    {
     "name": "stdout",
     "output_type": "stream",
     "text": [
      "[LightGBM] [Warning] feature_fraction is set=0.9, colsample_bytree=1.0 will be ignored. Current value: feature_fraction=0.9\n",
      "[LightGBM] [Warning] bagging_fraction is set=0.7, subsample=1.0 will be ignored. Current value: bagging_fraction=0.7\n",
      "[LightGBM] [Warning] feature_fraction is set=0.9, colsample_bytree=1.0 will be ignored. Current value: feature_fraction=0.9\n",
      "[LightGBM] [Warning] bagging_fraction is set=0.7, subsample=1.0 will be ignored. Current value: bagging_fraction=0.7\n"
     ]
    },
    {
     "name": "stderr",
     "output_type": "stream",
     "text": [
      "\u001b[32m[I 2022-07-23 19:05:35,409]\u001b[0m Trial 745 finished with value: 0.7591327705295472 and parameters: {'feature_fraction': 0.9, 'feature_fraction_bynode': 0.7, 'max_depth': 250, 'min_child_samples': 150, 'bagging_fraction': 0.7, 'num_leaves': 72, 'learning_rate': 0.1, 'max_bin': 1000}. Best is trial 318 with value: 0.7597419416730622.\u001b[0m\n"
     ]
    },
    {
     "name": "stdout",
     "output_type": "stream",
     "text": [
      "[LightGBM] [Warning] feature_fraction is set=1.0, colsample_bytree=1.0 will be ignored. Current value: feature_fraction=1.0\n",
      "[LightGBM] [Warning] bagging_fraction is set=0.8, subsample=1.0 will be ignored. Current value: bagging_fraction=0.8\n",
      "[LightGBM] [Warning] feature_fraction is set=1.0, colsample_bytree=1.0 will be ignored. Current value: feature_fraction=1.0\n",
      "[LightGBM] [Warning] bagging_fraction is set=0.8, subsample=1.0 will be ignored. Current value: bagging_fraction=0.8\n"
     ]
    },
    {
     "name": "stderr",
     "output_type": "stream",
     "text": [
      "\u001b[32m[I 2022-07-23 19:05:53,190]\u001b[0m Trial 746 finished with value: 0.7597419416730622 and parameters: {'feature_fraction': 1.0, 'feature_fraction_bynode': 0.7, 'max_depth': 450, 'min_child_samples': 150, 'bagging_fraction': 0.8, 'num_leaves': 72, 'learning_rate': 0.1, 'max_bin': 1000}. Best is trial 318 with value: 0.7597419416730622.\u001b[0m\n"
     ]
    },
    {
     "name": "stdout",
     "output_type": "stream",
     "text": [
      "[LightGBM] [Warning] feature_fraction is set=1.0, colsample_bytree=1.0 will be ignored. Current value: feature_fraction=1.0\n",
      "[LightGBM] [Warning] bagging_fraction is set=0.8, subsample=1.0 will be ignored. Current value: bagging_fraction=0.8\n",
      "[LightGBM] [Warning] feature_fraction is set=1.0, colsample_bytree=1.0 will be ignored. Current value: feature_fraction=1.0\n",
      "[LightGBM] [Warning] bagging_fraction is set=0.8, subsample=1.0 will be ignored. Current value: bagging_fraction=0.8\n"
     ]
    },
    {
     "name": "stderr",
     "output_type": "stream",
     "text": [
      "\u001b[32m[I 2022-07-23 19:06:11,454]\u001b[0m Trial 747 finished with value: 0.7571949347659248 and parameters: {'feature_fraction': 1.0, 'feature_fraction_bynode': 0.7, 'max_depth': 450, 'min_child_samples': 150, 'bagging_fraction': 0.8, 'num_leaves': 72, 'learning_rate': 0.2, 'max_bin': 2000}. Best is trial 318 with value: 0.7597419416730622.\u001b[0m\n"
     ]
    },
    {
     "name": "stdout",
     "output_type": "stream",
     "text": [
      "[LightGBM] [Warning] feature_fraction is set=1.0, colsample_bytree=1.0 will be ignored. Current value: feature_fraction=1.0\n",
      "[LightGBM] [Warning] bagging_fraction is set=0.8, subsample=1.0 will be ignored. Current value: bagging_fraction=0.8\n",
      "[LightGBM] [Warning] feature_fraction is set=1.0, colsample_bytree=1.0 will be ignored. Current value: feature_fraction=1.0\n",
      "[LightGBM] [Warning] bagging_fraction is set=0.8, subsample=1.0 will be ignored. Current value: bagging_fraction=0.8\n"
     ]
    },
    {
     "name": "stderr",
     "output_type": "stream",
     "text": [
      "\u001b[32m[I 2022-07-23 19:06:29,962]\u001b[0m Trial 748 finished with value: 0.7597419416730622 and parameters: {'feature_fraction': 1.0, 'feature_fraction_bynode': 0.7, 'max_depth': 250, 'min_child_samples': 150, 'bagging_fraction': 0.8, 'num_leaves': 72, 'learning_rate': 0.1, 'max_bin': 1000}. Best is trial 318 with value: 0.7597419416730622.\u001b[0m\n"
     ]
    },
    {
     "name": "stdout",
     "output_type": "stream",
     "text": [
      "[LightGBM] [Warning] feature_fraction is set=1.0, colsample_bytree=1.0 will be ignored. Current value: feature_fraction=1.0\n",
      "[LightGBM] [Warning] bagging_fraction is set=0.7, subsample=1.0 will be ignored. Current value: bagging_fraction=0.7\n",
      "[LightGBM] [Warning] feature_fraction is set=1.0, colsample_bytree=1.0 will be ignored. Current value: feature_fraction=1.0\n",
      "[LightGBM] [Warning] bagging_fraction is set=0.7, subsample=1.0 will be ignored. Current value: bagging_fraction=0.7\n"
     ]
    },
    {
     "name": "stderr",
     "output_type": "stream",
     "text": [
      "\u001b[32m[I 2022-07-23 19:06:48,062]\u001b[0m Trial 749 finished with value: 0.7594589409056024 and parameters: {'feature_fraction': 1.0, 'feature_fraction_bynode': 0.6, 'max_depth': 250, 'min_child_samples': 150, 'bagging_fraction': 0.7, 'num_leaves': 72, 'learning_rate': 0.1, 'max_bin': 6000}. Best is trial 318 with value: 0.7597419416730622.\u001b[0m\n"
     ]
    },
    {
     "name": "stdout",
     "output_type": "stream",
     "text": [
      "[LightGBM] [Warning] feature_fraction is set=1.0, colsample_bytree=1.0 will be ignored. Current value: feature_fraction=1.0\n",
      "[LightGBM] [Warning] bagging_fraction is set=0.8, subsample=1.0 will be ignored. Current value: bagging_fraction=0.8\n",
      "[LightGBM] [Warning] feature_fraction is set=1.0, colsample_bytree=1.0 will be ignored. Current value: feature_fraction=1.0\n",
      "[LightGBM] [Warning] bagging_fraction is set=0.8, subsample=1.0 will be ignored. Current value: bagging_fraction=0.8\n"
     ]
    },
    {
     "name": "stderr",
     "output_type": "stream",
     "text": [
      "\u001b[32m[I 2022-07-23 19:07:05,943]\u001b[0m Trial 750 finished with value: 0.7597419416730622 and parameters: {'feature_fraction': 1.0, 'feature_fraction_bynode': 0.7, 'max_depth': 200, 'min_child_samples': 150, 'bagging_fraction': 0.8, 'num_leaves': 72, 'learning_rate': 0.1, 'max_bin': 1000}. Best is trial 318 with value: 0.7597419416730622.\u001b[0m\n"
     ]
    },
    {
     "name": "stdout",
     "output_type": "stream",
     "text": [
      "[LightGBM] [Warning] feature_fraction is set=1.0, colsample_bytree=1.0 will be ignored. Current value: feature_fraction=1.0\n",
      "[LightGBM] [Warning] bagging_fraction is set=0.8, subsample=1.0 will be ignored. Current value: bagging_fraction=0.8\n",
      "[LightGBM] [Warning] feature_fraction is set=1.0, colsample_bytree=1.0 will be ignored. Current value: feature_fraction=1.0\n",
      "[LightGBM] [Warning] bagging_fraction is set=0.8, subsample=1.0 will be ignored. Current value: bagging_fraction=0.8\n"
     ]
    },
    {
     "name": "stderr",
     "output_type": "stream",
     "text": [
      "\u001b[32m[I 2022-07-23 19:07:24,919]\u001b[0m Trial 751 finished with value: 0.7592478894858019 and parameters: {'feature_fraction': 1.0, 'feature_fraction_bynode': 0.7, 'max_depth': 200, 'min_child_samples': 150, 'bagging_fraction': 0.8, 'num_leaves': 72, 'learning_rate': 0.1, 'max_bin': 5000}. Best is trial 318 with value: 0.7597419416730622.\u001b[0m\n"
     ]
    },
    {
     "name": "stdout",
     "output_type": "stream",
     "text": [
      "[LightGBM] [Warning] feature_fraction is set=1.0, colsample_bytree=1.0 will be ignored. Current value: feature_fraction=1.0\n",
      "[LightGBM] [Warning] bagging_fraction is set=0.8, subsample=1.0 will be ignored. Current value: bagging_fraction=0.8\n",
      "[LightGBM] [Warning] feature_fraction is set=1.0, colsample_bytree=1.0 will be ignored. Current value: feature_fraction=1.0\n",
      "[LightGBM] [Warning] bagging_fraction is set=0.8, subsample=1.0 will be ignored. Current value: bagging_fraction=0.8\n"
     ]
    },
    {
     "name": "stderr",
     "output_type": "stream",
     "text": [
      "\u001b[32m[I 2022-07-23 19:07:42,719]\u001b[0m Trial 752 finished with value: 0.7597419416730622 and parameters: {'feature_fraction': 1.0, 'feature_fraction_bynode': 0.7, 'max_depth': 200, 'min_child_samples': 150, 'bagging_fraction': 0.8, 'num_leaves': 72, 'learning_rate': 0.1, 'max_bin': 1000}. Best is trial 318 with value: 0.7597419416730622.\u001b[0m\n"
     ]
    },
    {
     "name": "stdout",
     "output_type": "stream",
     "text": [
      "[LightGBM] [Warning] feature_fraction is set=1.0, colsample_bytree=1.0 will be ignored. Current value: feature_fraction=1.0\n",
      "[LightGBM] [Warning] bagging_fraction is set=0.8, subsample=1.0 will be ignored. Current value: bagging_fraction=0.8\n",
      "[LightGBM] [Warning] feature_fraction is set=1.0, colsample_bytree=1.0 will be ignored. Current value: feature_fraction=1.0\n",
      "[LightGBM] [Warning] bagging_fraction is set=0.8, subsample=1.0 will be ignored. Current value: bagging_fraction=0.8\n"
     ]
    },
    {
     "name": "stderr",
     "output_type": "stream",
     "text": [
      "\u001b[32m[I 2022-07-23 19:07:59,721]\u001b[0m Trial 753 finished with value: 0.7589984650805832 and parameters: {'feature_fraction': 1.0, 'feature_fraction_bynode': 0.7, 'max_depth': 200, 'min_child_samples': 150, 'bagging_fraction': 0.8, 'num_leaves': 62, 'learning_rate': 0.1, 'max_bin': 1000}. Best is trial 318 with value: 0.7597419416730622.\u001b[0m\n"
     ]
    },
    {
     "name": "stdout",
     "output_type": "stream",
     "text": [
      "[LightGBM] [Warning] feature_fraction is set=1.0, colsample_bytree=1.0 will be ignored. Current value: feature_fraction=1.0\n",
      "[LightGBM] [Warning] bagging_fraction is set=0.8, subsample=1.0 will be ignored. Current value: bagging_fraction=0.8\n",
      "[LightGBM] [Warning] feature_fraction is set=1.0, colsample_bytree=1.0 will be ignored. Current value: feature_fraction=1.0\n",
      "[LightGBM] [Warning] bagging_fraction is set=0.8, subsample=1.0 will be ignored. Current value: bagging_fraction=0.8\n"
     ]
    },
    {
     "name": "stderr",
     "output_type": "stream",
     "text": [
      "\u001b[32m[I 2022-07-23 19:08:17,365]\u001b[0m Trial 754 finished with value: 0.7564226784343822 and parameters: {'feature_fraction': 1.0, 'feature_fraction_bynode': 1.0, 'max_depth': 400, 'min_child_samples': 150, 'bagging_fraction': 0.8, 'num_leaves': 82, 'learning_rate': 0.2, 'max_bin': 1000}. Best is trial 318 with value: 0.7597419416730622.\u001b[0m\n"
     ]
    },
    {
     "name": "stdout",
     "output_type": "stream",
     "text": [
      "[LightGBM] [Warning] feature_fraction is set=1.0, colsample_bytree=1.0 will be ignored. Current value: feature_fraction=1.0\n",
      "[LightGBM] [Warning] bagging_fraction is set=0.8, subsample=1.0 will be ignored. Current value: bagging_fraction=0.8\n",
      "[LightGBM] [Warning] feature_fraction is set=1.0, colsample_bytree=1.0 will be ignored. Current value: feature_fraction=1.0\n",
      "[LightGBM] [Warning] bagging_fraction is set=0.8, subsample=1.0 will be ignored. Current value: bagging_fraction=0.8\n"
     ]
    },
    {
     "name": "stderr",
     "output_type": "stream",
     "text": [
      "\u001b[32m[I 2022-07-23 19:08:35,247]\u001b[0m Trial 755 finished with value: 0.7597419416730622 and parameters: {'feature_fraction': 1.0, 'feature_fraction_bynode': 0.7, 'max_depth': 250, 'min_child_samples': 150, 'bagging_fraction': 0.8, 'num_leaves': 72, 'learning_rate': 0.1, 'max_bin': 1000}. Best is trial 318 with value: 0.7597419416730622.\u001b[0m\n"
     ]
    },
    {
     "name": "stdout",
     "output_type": "stream",
     "text": [
      "[LightGBM] [Warning] feature_fraction is set=1.0, colsample_bytree=1.0 will be ignored. Current value: feature_fraction=1.0\n",
      "[LightGBM] [Warning] bagging_fraction is set=0.8, subsample=1.0 will be ignored. Current value: bagging_fraction=0.8\n",
      "[LightGBM] [Warning] feature_fraction is set=1.0, colsample_bytree=1.0 will be ignored. Current value: feature_fraction=1.0\n",
      "[LightGBM] [Warning] bagging_fraction is set=0.8, subsample=1.0 will be ignored. Current value: bagging_fraction=0.8\n"
     ]
    },
    {
     "name": "stderr",
     "output_type": "stream",
     "text": [
      "\u001b[32m[I 2022-07-23 19:08:54,600]\u001b[0m Trial 756 finished with value: 0.7597419416730622 and parameters: {'feature_fraction': 1.0, 'feature_fraction_bynode': 0.7, 'max_depth': 200, 'min_child_samples': 150, 'bagging_fraction': 0.8, 'num_leaves': 72, 'learning_rate': 0.1, 'max_bin': 1000}. Best is trial 318 with value: 0.7597419416730622.\u001b[0m\n"
     ]
    },
    {
     "name": "stdout",
     "output_type": "stream",
     "text": [
      "[LightGBM] [Warning] feature_fraction is set=1.0, colsample_bytree=1.0 will be ignored. Current value: feature_fraction=1.0\n",
      "[LightGBM] [Warning] bagging_fraction is set=0.8, subsample=1.0 will be ignored. Current value: bagging_fraction=0.8\n",
      "[LightGBM] [Warning] feature_fraction is set=1.0, colsample_bytree=1.0 will be ignored. Current value: feature_fraction=1.0\n",
      "[LightGBM] [Warning] bagging_fraction is set=0.8, subsample=1.0 will be ignored. Current value: bagging_fraction=0.8\n"
     ]
    },
    {
     "name": "stderr",
     "output_type": "stream",
     "text": [
      "\u001b[32m[I 2022-07-23 19:09:12,307]\u001b[0m Trial 757 finished with value: 0.7589984650805832 and parameters: {'feature_fraction': 1.0, 'feature_fraction_bynode': 0.7, 'max_depth': 200, 'min_child_samples': 150, 'bagging_fraction': 0.8, 'num_leaves': 62, 'learning_rate': 0.1, 'max_bin': 1000}. Best is trial 318 with value: 0.7597419416730622.\u001b[0m\n"
     ]
    },
    {
     "name": "stdout",
     "output_type": "stream",
     "text": [
      "[LightGBM] [Warning] feature_fraction is set=1.0, colsample_bytree=1.0 will be ignored. Current value: feature_fraction=1.0\n",
      "[LightGBM] [Warning] bagging_fraction is set=0.8, subsample=1.0 will be ignored. Current value: bagging_fraction=0.8\n",
      "[LightGBM] [Warning] feature_fraction is set=1.0, colsample_bytree=1.0 will be ignored. Current value: feature_fraction=1.0\n",
      "[LightGBM] [Warning] bagging_fraction is set=0.8, subsample=1.0 will be ignored. Current value: bagging_fraction=0.8\n"
     ]
    },
    {
     "name": "stderr",
     "output_type": "stream",
     "text": [
      "\u001b[32m[I 2022-07-23 19:09:30,300]\u001b[0m Trial 758 finished with value: 0.7597419416730622 and parameters: {'feature_fraction': 1.0, 'feature_fraction_bynode': 0.7, 'max_depth': 500, 'min_child_samples': 150, 'bagging_fraction': 0.8, 'num_leaves': 72, 'learning_rate': 0.1, 'max_bin': 1000}. Best is trial 318 with value: 0.7597419416730622.\u001b[0m\n"
     ]
    },
    {
     "name": "stdout",
     "output_type": "stream",
     "text": [
      "[LightGBM] [Warning] feature_fraction is set=1.0, colsample_bytree=1.0 will be ignored. Current value: feature_fraction=1.0\n",
      "[LightGBM] [Warning] bagging_fraction is set=0.8, subsample=1.0 will be ignored. Current value: bagging_fraction=0.8\n",
      "[LightGBM] [Warning] feature_fraction is set=1.0, colsample_bytree=1.0 will be ignored. Current value: feature_fraction=1.0\n",
      "[LightGBM] [Warning] bagging_fraction is set=0.8, subsample=1.0 will be ignored. Current value: bagging_fraction=0.8\n"
     ]
    },
    {
     "name": "stderr",
     "output_type": "stream",
     "text": [
      "\u001b[32m[I 2022-07-23 19:09:48,444]\u001b[0m Trial 759 finished with value: 0.7597419416730622 and parameters: {'feature_fraction': 1.0, 'feature_fraction_bynode': 0.7, 'max_depth': 200, 'min_child_samples': 150, 'bagging_fraction': 0.8, 'num_leaves': 72, 'learning_rate': 0.1, 'max_bin': 1000}. Best is trial 318 with value: 0.7597419416730622.\u001b[0m\n"
     ]
    },
    {
     "name": "stdout",
     "output_type": "stream",
     "text": [
      "[LightGBM] [Warning] feature_fraction is set=1.0, colsample_bytree=1.0 will be ignored. Current value: feature_fraction=1.0\n",
      "[LightGBM] [Warning] bagging_fraction is set=0.8, subsample=1.0 will be ignored. Current value: bagging_fraction=0.8\n",
      "[LightGBM] [Warning] feature_fraction is set=1.0, colsample_bytree=1.0 will be ignored. Current value: feature_fraction=1.0\n",
      "[LightGBM] [Warning] bagging_fraction is set=0.8, subsample=1.0 will be ignored. Current value: bagging_fraction=0.8\n"
     ]
    },
    {
     "name": "stderr",
     "output_type": "stream",
     "text": [
      "\u001b[32m[I 2022-07-23 19:10:06,713]\u001b[0m Trial 760 finished with value: 0.7597419416730622 and parameters: {'feature_fraction': 1.0, 'feature_fraction_bynode': 0.7, 'max_depth': 200, 'min_child_samples': 150, 'bagging_fraction': 0.8, 'num_leaves': 72, 'learning_rate': 0.1, 'max_bin': 1000}. Best is trial 318 with value: 0.7597419416730622.\u001b[0m\n"
     ]
    },
    {
     "name": "stdout",
     "output_type": "stream",
     "text": [
      "[LightGBM] [Warning] feature_fraction is set=1.0, colsample_bytree=1.0 will be ignored. Current value: feature_fraction=1.0\n",
      "[LightGBM] [Warning] bagging_fraction is set=0.8, subsample=1.0 will be ignored. Current value: bagging_fraction=0.8\n",
      "[LightGBM] [Warning] feature_fraction is set=1.0, colsample_bytree=1.0 will be ignored. Current value: feature_fraction=1.0\n",
      "[LightGBM] [Warning] bagging_fraction is set=0.8, subsample=1.0 will be ignored. Current value: bagging_fraction=0.8\n"
     ]
    },
    {
     "name": "stderr",
     "output_type": "stream",
     "text": [
      "\u001b[32m[I 2022-07-23 19:10:25,753]\u001b[0m Trial 761 finished with value: 0.758960092095165 and parameters: {'feature_fraction': 1.0, 'feature_fraction_bynode': 0.7, 'max_depth': 200, 'min_child_samples': 150, 'bagging_fraction': 0.8, 'num_leaves': 82, 'learning_rate': 0.1, 'max_bin': 1000}. Best is trial 318 with value: 0.7597419416730622.\u001b[0m\n"
     ]
    },
    {
     "name": "stdout",
     "output_type": "stream",
     "text": [
      "[LightGBM] [Warning] feature_fraction is set=1.0, colsample_bytree=1.0 will be ignored. Current value: feature_fraction=1.0\n",
      "[LightGBM] [Warning] bagging_fraction is set=0.8, subsample=1.0 will be ignored. Current value: bagging_fraction=0.8\n",
      "[LightGBM] [Warning] feature_fraction is set=1.0, colsample_bytree=1.0 will be ignored. Current value: feature_fraction=1.0\n",
      "[LightGBM] [Warning] bagging_fraction is set=0.8, subsample=1.0 will be ignored. Current value: bagging_fraction=0.8\n"
     ]
    },
    {
     "name": "stderr",
     "output_type": "stream",
     "text": [
      "\u001b[32m[I 2022-07-23 19:10:41,105]\u001b[0m Trial 762 finished with value: 0.7405506523407521 and parameters: {'feature_fraction': 1.0, 'feature_fraction_bynode': 0.7, 'max_depth': 250, 'min_child_samples': 150, 'bagging_fraction': 0.8, 'num_leaves': 72, 'learning_rate': 0.7000000000000001, 'max_bin': 1000}. Best is trial 318 with value: 0.7597419416730622.\u001b[0m\n"
     ]
    },
    {
     "name": "stdout",
     "output_type": "stream",
     "text": [
      "[LightGBM] [Warning] feature_fraction is set=1.0, colsample_bytree=1.0 will be ignored. Current value: feature_fraction=1.0\n",
      "[LightGBM] [Warning] bagging_fraction is set=0.8, subsample=1.0 will be ignored. Current value: bagging_fraction=0.8\n",
      "[LightGBM] [Warning] feature_fraction is set=1.0, colsample_bytree=1.0 will be ignored. Current value: feature_fraction=1.0\n",
      "[LightGBM] [Warning] bagging_fraction is set=0.8, subsample=1.0 will be ignored. Current value: bagging_fraction=0.8\n"
     ]
    },
    {
     "name": "stderr",
     "output_type": "stream",
     "text": [
      "\u001b[32m[I 2022-07-23 19:10:59,098]\u001b[0m Trial 763 finished with value: 0.7592478894858019 and parameters: {'feature_fraction': 1.0, 'feature_fraction_bynode': 0.7, 'max_depth': 250, 'min_child_samples': 150, 'bagging_fraction': 0.8, 'num_leaves': 72, 'learning_rate': 0.1, 'max_bin': 2000}. Best is trial 318 with value: 0.7597419416730622.\u001b[0m\n"
     ]
    },
    {
     "name": "stdout",
     "output_type": "stream",
     "text": [
      "[LightGBM] [Warning] feature_fraction is set=1.0, colsample_bytree=1.0 will be ignored. Current value: feature_fraction=1.0\n",
      "[LightGBM] [Warning] bagging_fraction is set=0.8, subsample=1.0 will be ignored. Current value: bagging_fraction=0.8\n",
      "[LightGBM] [Warning] feature_fraction is set=1.0, colsample_bytree=1.0 will be ignored. Current value: feature_fraction=1.0\n",
      "[LightGBM] [Warning] bagging_fraction is set=0.8, subsample=1.0 will be ignored. Current value: bagging_fraction=0.8\n"
     ]
    },
    {
     "name": "stderr",
     "output_type": "stream",
     "text": [
      "\u001b[32m[I 2022-07-23 19:11:17,184]\u001b[0m Trial 764 finished with value: 0.7597419416730622 and parameters: {'feature_fraction': 1.0, 'feature_fraction_bynode': 0.7, 'max_depth': 200, 'min_child_samples': 150, 'bagging_fraction': 0.8, 'num_leaves': 72, 'learning_rate': 0.1, 'max_bin': 1000}. Best is trial 318 with value: 0.7597419416730622.\u001b[0m\n"
     ]
    },
    {
     "name": "stdout",
     "output_type": "stream",
     "text": [
      "[LightGBM] [Warning] feature_fraction is set=1.0, colsample_bytree=1.0 will be ignored. Current value: feature_fraction=1.0\n",
      "[LightGBM] [Warning] bagging_fraction is set=0.8, subsample=1.0 will be ignored. Current value: bagging_fraction=0.8\n",
      "[LightGBM] [Warning] feature_fraction is set=1.0, colsample_bytree=1.0 will be ignored. Current value: feature_fraction=1.0\n",
      "[LightGBM] [Warning] bagging_fraction is set=0.8, subsample=1.0 will be ignored. Current value: bagging_fraction=0.8\n"
     ]
    },
    {
     "name": "stderr",
     "output_type": "stream",
     "text": [
      "\u001b[32m[I 2022-07-23 19:11:35,524]\u001b[0m Trial 765 finished with value: 0.7597419416730622 and parameters: {'feature_fraction': 1.0, 'feature_fraction_bynode': 0.7, 'max_depth': 200, 'min_child_samples': 150, 'bagging_fraction': 0.8, 'num_leaves': 72, 'learning_rate': 0.1, 'max_bin': 1000}. Best is trial 318 with value: 0.7597419416730622.\u001b[0m\n"
     ]
    },
    {
     "name": "stdout",
     "output_type": "stream",
     "text": [
      "[LightGBM] [Warning] feature_fraction is set=1.0, colsample_bytree=1.0 will be ignored. Current value: feature_fraction=1.0\n",
      "[LightGBM] [Warning] bagging_fraction is set=0.8, subsample=1.0 will be ignored. Current value: bagging_fraction=0.8\n",
      "[LightGBM] [Warning] feature_fraction is set=1.0, colsample_bytree=1.0 will be ignored. Current value: feature_fraction=1.0\n",
      "[LightGBM] [Warning] bagging_fraction is set=0.8, subsample=1.0 will be ignored. Current value: bagging_fraction=0.8\n"
     ]
    },
    {
     "name": "stderr",
     "output_type": "stream",
     "text": [
      "\u001b[32m[I 2022-07-23 19:11:53,134]\u001b[0m Trial 766 finished with value: 0.7597419416730622 and parameters: {'feature_fraction': 1.0, 'feature_fraction_bynode': 0.7, 'max_depth': 200, 'min_child_samples': 150, 'bagging_fraction': 0.8, 'num_leaves': 72, 'learning_rate': 0.1, 'max_bin': 1000}. Best is trial 318 with value: 0.7597419416730622.\u001b[0m\n"
     ]
    },
    {
     "name": "stdout",
     "output_type": "stream",
     "text": [
      "[LightGBM] [Warning] feature_fraction is set=1.0, colsample_bytree=1.0 will be ignored. Current value: feature_fraction=1.0\n",
      "[LightGBM] [Warning] bagging_fraction is set=0.8, subsample=1.0 will be ignored. Current value: bagging_fraction=0.8\n",
      "[LightGBM] [Warning] feature_fraction is set=1.0, colsample_bytree=1.0 will be ignored. Current value: feature_fraction=1.0\n",
      "[LightGBM] [Warning] bagging_fraction is set=0.8, subsample=1.0 will be ignored. Current value: bagging_fraction=0.8\n"
     ]
    },
    {
     "name": "stderr",
     "output_type": "stream",
     "text": [
      "\u001b[32m[I 2022-07-23 19:11:58,973]\u001b[0m Trial 767 finished with value: 0.7499616270145818 and parameters: {'feature_fraction': 1.0, 'feature_fraction_bynode': 0.7, 'max_depth': 200, 'min_child_samples': 150, 'bagging_fraction': 0.8, 'num_leaves': 2, 'learning_rate': 0.2, 'max_bin': 1000}. Best is trial 318 with value: 0.7597419416730622.\u001b[0m\n"
     ]
    },
    {
     "name": "stdout",
     "output_type": "stream",
     "text": [
      "[LightGBM] [Warning] feature_fraction is set=0.5, colsample_bytree=1.0 will be ignored. Current value: feature_fraction=0.5\n",
      "[LightGBM] [Warning] bagging_fraction is set=0.8, subsample=1.0 will be ignored. Current value: bagging_fraction=0.8\n",
      "[LightGBM] [Warning] feature_fraction is set=0.5, colsample_bytree=1.0 will be ignored. Current value: feature_fraction=0.5\n",
      "[LightGBM] [Warning] bagging_fraction is set=0.8, subsample=1.0 will be ignored. Current value: bagging_fraction=0.8\n"
     ]
    },
    {
     "name": "stderr",
     "output_type": "stream",
     "text": [
      "\u001b[32m[I 2022-07-23 19:12:20,874]\u001b[0m Trial 768 finished with value: 0.7590512279355334 and parameters: {'feature_fraction': 0.5, 'feature_fraction_bynode': 0.7, 'max_depth': 200, 'min_child_samples': 150, 'bagging_fraction': 0.8, 'num_leaves': 72, 'learning_rate': 0.1, 'max_bin': 1000}. Best is trial 318 with value: 0.7597419416730622.\u001b[0m\n"
     ]
    },
    {
     "name": "stdout",
     "output_type": "stream",
     "text": [
      "[LightGBM] [Warning] feature_fraction is set=0.9, colsample_bytree=1.0 will be ignored. Current value: feature_fraction=0.9\n",
      "[LightGBM] [Warning] bagging_fraction is set=0.8, subsample=1.0 will be ignored. Current value: bagging_fraction=0.8\n",
      "[LightGBM] [Warning] feature_fraction is set=0.9, colsample_bytree=1.0 will be ignored. Current value: feature_fraction=0.9\n",
      "[LightGBM] [Warning] bagging_fraction is set=0.8, subsample=1.0 will be ignored. Current value: bagging_fraction=0.8\n"
     ]
    },
    {
     "name": "stderr",
     "output_type": "stream",
     "text": [
      "\u001b[32m[I 2022-07-23 19:12:38,962]\u001b[0m Trial 769 finished with value: 0.7594205679201842 and parameters: {'feature_fraction': 0.9, 'feature_fraction_bynode': 0.7, 'max_depth': 400, 'min_child_samples': 150, 'bagging_fraction': 0.8, 'num_leaves': 72, 'learning_rate': 0.1, 'max_bin': 2000}. Best is trial 318 with value: 0.7597419416730622.\u001b[0m\n"
     ]
    },
    {
     "name": "stdout",
     "output_type": "stream",
     "text": [
      "[LightGBM] [Warning] feature_fraction is set=1.0, colsample_bytree=1.0 will be ignored. Current value: feature_fraction=1.0\n",
      "[LightGBM] [Warning] bagging_fraction is set=0.8, subsample=1.0 will be ignored. Current value: bagging_fraction=0.8\n",
      "[LightGBM] [Warning] feature_fraction is set=1.0, colsample_bytree=1.0 will be ignored. Current value: feature_fraction=1.0\n",
      "[LightGBM] [Warning] bagging_fraction is set=0.8, subsample=1.0 will be ignored. Current value: bagging_fraction=0.8\n"
     ]
    },
    {
     "name": "stderr",
     "output_type": "stream",
     "text": [
      "\u001b[32m[I 2022-07-23 19:12:57,502]\u001b[0m Trial 770 finished with value: 0.758960092095165 and parameters: {'feature_fraction': 1.0, 'feature_fraction_bynode': 0.7, 'max_depth': 200, 'min_child_samples': 150, 'bagging_fraction': 0.8, 'num_leaves': 82, 'learning_rate': 0.1, 'max_bin': 1000}. Best is trial 318 with value: 0.7597419416730622.\u001b[0m\n"
     ]
    },
    {
     "name": "stdout",
     "output_type": "stream",
     "text": [
      "[LightGBM] [Warning] feature_fraction is set=1.0, colsample_bytree=1.0 will be ignored. Current value: feature_fraction=1.0\n",
      "[LightGBM] [Warning] bagging_fraction is set=0.8, subsample=1.0 will be ignored. Current value: bagging_fraction=0.8\n",
      "[LightGBM] [Warning] feature_fraction is set=1.0, colsample_bytree=1.0 will be ignored. Current value: feature_fraction=1.0\n",
      "[LightGBM] [Warning] bagging_fraction is set=0.8, subsample=1.0 will be ignored. Current value: bagging_fraction=0.8\n"
     ]
    },
    {
     "name": "stderr",
     "output_type": "stream",
     "text": [
      "\u001b[32m[I 2022-07-23 19:13:16,149]\u001b[0m Trial 771 finished with value: 0.7588401765157329 and parameters: {'feature_fraction': 1.0, 'feature_fraction_bynode': 0.7, 'max_depth': 200, 'min_child_samples': 230, 'bagging_fraction': 0.8, 'num_leaves': 72, 'learning_rate': 0.1, 'max_bin': 1000}. Best is trial 318 with value: 0.7597419416730622.\u001b[0m\n"
     ]
    },
    {
     "name": "stdout",
     "output_type": "stream",
     "text": [
      "[LightGBM] [Warning] feature_fraction is set=1.0, colsample_bytree=1.0 will be ignored. Current value: feature_fraction=1.0\n",
      "[LightGBM] [Warning] bagging_fraction is set=0.8, subsample=1.0 will be ignored. Current value: bagging_fraction=0.8\n",
      "[LightGBM] [Warning] feature_fraction is set=1.0, colsample_bytree=1.0 will be ignored. Current value: feature_fraction=1.0\n",
      "[LightGBM] [Warning] bagging_fraction is set=0.8, subsample=1.0 will be ignored. Current value: bagging_fraction=0.8\n"
     ]
    },
    {
     "name": "stderr",
     "output_type": "stream",
     "text": [
      "\u001b[32m[I 2022-07-23 19:13:33,418]\u001b[0m Trial 772 finished with value: 0.7589984650805832 and parameters: {'feature_fraction': 1.0, 'feature_fraction_bynode': 0.7, 'max_depth': 250, 'min_child_samples': 150, 'bagging_fraction': 0.8, 'num_leaves': 62, 'learning_rate': 0.1, 'max_bin': 1000}. Best is trial 318 with value: 0.7597419416730622.\u001b[0m\n"
     ]
    },
    {
     "name": "stdout",
     "output_type": "stream",
     "text": [
      "[LightGBM] [Warning] feature_fraction is set=0.6, colsample_bytree=1.0 will be ignored. Current value: feature_fraction=0.6\n",
      "[LightGBM] [Warning] bagging_fraction is set=0.8, subsample=1.0 will be ignored. Current value: bagging_fraction=0.8\n",
      "[LightGBM] [Warning] feature_fraction is set=0.6, colsample_bytree=1.0 will be ignored. Current value: feature_fraction=0.6\n",
      "[LightGBM] [Warning] bagging_fraction is set=0.8, subsample=1.0 will be ignored. Current value: bagging_fraction=0.8\n"
     ]
    },
    {
     "name": "stderr",
     "output_type": "stream",
     "text": [
      "\u001b[32m[I 2022-07-23 19:13:53,035]\u001b[0m Trial 773 finished with value: 0.7586195318495779 and parameters: {'feature_fraction': 0.6, 'feature_fraction_bynode': 0.8, 'max_depth': 250, 'min_child_samples': 150, 'bagging_fraction': 0.8, 'num_leaves': 72, 'learning_rate': 0.1, 'max_bin': 1000}. Best is trial 318 with value: 0.7597419416730622.\u001b[0m\n"
     ]
    },
    {
     "name": "stdout",
     "output_type": "stream",
     "text": [
      "[LightGBM] [Warning] feature_fraction is set=1.0, colsample_bytree=1.0 will be ignored. Current value: feature_fraction=1.0\n",
      "[LightGBM] [Warning] bagging_fraction is set=0.7, subsample=1.0 will be ignored. Current value: bagging_fraction=0.7\n",
      "[LightGBM] [Warning] feature_fraction is set=1.0, colsample_bytree=1.0 will be ignored. Current value: feature_fraction=1.0\n",
      "[LightGBM] [Warning] bagging_fraction is set=0.7, subsample=1.0 will be ignored. Current value: bagging_fraction=0.7\n"
     ]
    },
    {
     "name": "stderr",
     "output_type": "stream",
     "text": [
      "\u001b[32m[I 2022-07-23 19:14:11,072]\u001b[0m Trial 774 finished with value: 0.7597419416730622 and parameters: {'feature_fraction': 1.0, 'feature_fraction_bynode': 0.7, 'max_depth': 250, 'min_child_samples': 150, 'bagging_fraction': 0.7, 'num_leaves': 72, 'learning_rate': 0.1, 'max_bin': 1000}. Best is trial 318 with value: 0.7597419416730622.\u001b[0m\n"
     ]
    },
    {
     "name": "stdout",
     "output_type": "stream",
     "text": [
      "[LightGBM] [Warning] feature_fraction is set=1.0, colsample_bytree=1.0 will be ignored. Current value: feature_fraction=1.0\n",
      "[LightGBM] [Warning] bagging_fraction is set=0.8, subsample=1.0 will be ignored. Current value: bagging_fraction=0.8\n",
      "[LightGBM] [Warning] feature_fraction is set=1.0, colsample_bytree=1.0 will be ignored. Current value: feature_fraction=1.0\n",
      "[LightGBM] [Warning] bagging_fraction is set=0.8, subsample=1.0 will be ignored. Current value: bagging_fraction=0.8\n"
     ]
    },
    {
     "name": "stderr",
     "output_type": "stream",
     "text": [
      "\u001b[32m[I 2022-07-23 19:14:29,360]\u001b[0m Trial 775 finished with value: 0.7597419416730622 and parameters: {'feature_fraction': 1.0, 'feature_fraction_bynode': 0.7, 'max_depth': 250, 'min_child_samples': 150, 'bagging_fraction': 0.8, 'num_leaves': 72, 'learning_rate': 0.1, 'max_bin': 1000}. Best is trial 318 with value: 0.7597419416730622.\u001b[0m\n"
     ]
    },
    {
     "name": "stdout",
     "output_type": "stream",
     "text": [
      "[LightGBM] [Warning] feature_fraction is set=0.8, colsample_bytree=1.0 will be ignored. Current value: feature_fraction=0.8\n",
      "[LightGBM] [Warning] bagging_fraction is set=0.8, subsample=1.0 will be ignored. Current value: bagging_fraction=0.8\n",
      "[LightGBM] [Warning] feature_fraction is set=0.8, colsample_bytree=1.0 will be ignored. Current value: feature_fraction=0.8\n",
      "[LightGBM] [Warning] bagging_fraction is set=0.8, subsample=1.0 will be ignored. Current value: bagging_fraction=0.8\n"
     ]
    },
    {
     "name": "stderr",
     "output_type": "stream",
     "text": [
      "\u001b[32m[I 2022-07-23 19:14:45,738]\u001b[0m Trial 776 finished with value: 0.7579192248656945 and parameters: {'feature_fraction': 0.8, 'feature_fraction_bynode': 0.7, 'max_depth': 400, 'min_child_samples': 150, 'bagging_fraction': 0.8, 'num_leaves': 72, 'learning_rate': 0.2, 'max_bin': 1000}. Best is trial 318 with value: 0.7597419416730622.\u001b[0m\n"
     ]
    },
    {
     "name": "stdout",
     "output_type": "stream",
     "text": [
      "[LightGBM] [Warning] feature_fraction is set=1.0, colsample_bytree=1.0 will be ignored. Current value: feature_fraction=1.0\n",
      "[LightGBM] [Warning] bagging_fraction is set=0.7, subsample=1.0 will be ignored. Current value: bagging_fraction=0.7\n",
      "[LightGBM] [Warning] feature_fraction is set=1.0, colsample_bytree=1.0 will be ignored. Current value: feature_fraction=1.0\n",
      "[LightGBM] [Warning] bagging_fraction is set=0.7, subsample=1.0 will be ignored. Current value: bagging_fraction=0.7\n"
     ]
    },
    {
     "name": "stderr",
     "output_type": "stream",
     "text": [
      "\u001b[32m[I 2022-07-23 19:15:03,911]\u001b[0m Trial 777 finished with value: 0.7597419416730622 and parameters: {'feature_fraction': 1.0, 'feature_fraction_bynode': 0.7, 'max_depth': 250, 'min_child_samples': 150, 'bagging_fraction': 0.7, 'num_leaves': 72, 'learning_rate': 0.1, 'max_bin': 1000}. Best is trial 318 with value: 0.7597419416730622.\u001b[0m\n"
     ]
    },
    {
     "name": "stdout",
     "output_type": "stream",
     "text": [
      "[LightGBM] [Warning] feature_fraction is set=1.0, colsample_bytree=1.0 will be ignored. Current value: feature_fraction=1.0\n",
      "[LightGBM] [Warning] bagging_fraction is set=0.8, subsample=1.0 will be ignored. Current value: bagging_fraction=0.8\n",
      "[LightGBM] [Warning] feature_fraction is set=1.0, colsample_bytree=1.0 will be ignored. Current value: feature_fraction=1.0\n",
      "[LightGBM] [Warning] bagging_fraction is set=0.8, subsample=1.0 will be ignored. Current value: bagging_fraction=0.8\n"
     ]
    },
    {
     "name": "stderr",
     "output_type": "stream",
     "text": [
      "\u001b[32m[I 2022-07-23 19:15:21,653]\u001b[0m Trial 778 finished with value: 0.7597419416730622 and parameters: {'feature_fraction': 1.0, 'feature_fraction_bynode': 0.7, 'max_depth': 500, 'min_child_samples': 150, 'bagging_fraction': 0.8, 'num_leaves': 72, 'learning_rate': 0.1, 'max_bin': 1000}. Best is trial 318 with value: 0.7597419416730622.\u001b[0m\n"
     ]
    },
    {
     "name": "stdout",
     "output_type": "stream",
     "text": [
      "[LightGBM] [Warning] feature_fraction is set=1.0, colsample_bytree=1.0 will be ignored. Current value: feature_fraction=1.0\n",
      "[LightGBM] [Warning] bagging_fraction is set=0.8, subsample=1.0 will be ignored. Current value: bagging_fraction=0.8\n",
      "[LightGBM] [Warning] feature_fraction is set=1.0, colsample_bytree=1.0 will be ignored. Current value: feature_fraction=1.0\n",
      "[LightGBM] [Warning] bagging_fraction is set=0.8, subsample=1.0 will be ignored. Current value: bagging_fraction=0.8\n"
     ]
    },
    {
     "name": "stderr",
     "output_type": "stream",
     "text": [
      "\u001b[32m[I 2022-07-23 19:15:54,971]\u001b[0m Trial 779 finished with value: 0.7588737528779739 and parameters: {'feature_fraction': 1.0, 'feature_fraction_bynode': 0.7, 'max_depth': 250, 'min_child_samples': 150, 'bagging_fraction': 0.8, 'num_leaves': 82, 'learning_rate': 0.1, 'max_bin': 2000}. Best is trial 318 with value: 0.7597419416730622.\u001b[0m\n"
     ]
    },
    {
     "name": "stdout",
     "output_type": "stream",
     "text": [
      "[LightGBM] [Warning] feature_fraction is set=1.0, colsample_bytree=1.0 will be ignored. Current value: feature_fraction=1.0\n",
      "[LightGBM] [Warning] bagging_fraction is set=0.8, subsample=1.0 will be ignored. Current value: bagging_fraction=0.8\n",
      "[LightGBM] [Warning] feature_fraction is set=1.0, colsample_bytree=1.0 will be ignored. Current value: feature_fraction=1.0\n",
      "[LightGBM] [Warning] bagging_fraction is set=0.8, subsample=1.0 will be ignored. Current value: bagging_fraction=0.8\n"
     ]
    },
    {
     "name": "stderr",
     "output_type": "stream",
     "text": [
      "\u001b[32m[I 2022-07-23 19:16:26,111]\u001b[0m Trial 780 finished with value: 0.7589984650805832 and parameters: {'feature_fraction': 1.0, 'feature_fraction_bynode': 0.7, 'max_depth': 250, 'min_child_samples': 150, 'bagging_fraction': 0.8, 'num_leaves': 62, 'learning_rate': 0.1, 'max_bin': 1000}. Best is trial 318 with value: 0.7597419416730622.\u001b[0m\n"
     ]
    },
    {
     "name": "stdout",
     "output_type": "stream",
     "text": [
      "[LightGBM] [Warning] feature_fraction is set=1.0, colsample_bytree=1.0 will be ignored. Current value: feature_fraction=1.0\n",
      "[LightGBM] [Warning] bagging_fraction is set=0.5, subsample=1.0 will be ignored. Current value: bagging_fraction=0.5\n",
      "[LightGBM] [Warning] feature_fraction is set=1.0, colsample_bytree=1.0 will be ignored. Current value: feature_fraction=1.0\n",
      "[LightGBM] [Warning] bagging_fraction is set=0.5, subsample=1.0 will be ignored. Current value: bagging_fraction=0.5\n"
     ]
    },
    {
     "name": "stderr",
     "output_type": "stream",
     "text": [
      "\u001b[32m[I 2022-07-23 19:16:51,954]\u001b[0m Trial 781 finished with value: 0.7597419416730622 and parameters: {'feature_fraction': 1.0, 'feature_fraction_bynode': 0.7, 'max_depth': 450, 'min_child_samples': 150, 'bagging_fraction': 0.5, 'num_leaves': 72, 'learning_rate': 0.1, 'max_bin': 1000}. Best is trial 318 with value: 0.7597419416730622.\u001b[0m\n"
     ]
    },
    {
     "name": "stdout",
     "output_type": "stream",
     "text": [
      "[LightGBM] [Warning] feature_fraction is set=1.0, colsample_bytree=1.0 will be ignored. Current value: feature_fraction=1.0\n",
      "[LightGBM] [Warning] bagging_fraction is set=0.8, subsample=1.0 will be ignored. Current value: bagging_fraction=0.8\n",
      "[LightGBM] [Warning] feature_fraction is set=1.0, colsample_bytree=1.0 will be ignored. Current value: feature_fraction=1.0\n",
      "[LightGBM] [Warning] bagging_fraction is set=0.8, subsample=1.0 will be ignored. Current value: bagging_fraction=0.8\n"
     ]
    },
    {
     "name": "stderr",
     "output_type": "stream",
     "text": [
      "\u001b[32m[I 2022-07-23 19:17:24,592]\u001b[0m Trial 782 finished with value: 0.7592478894858019 and parameters: {'feature_fraction': 1.0, 'feature_fraction_bynode': 0.7, 'max_depth': 200, 'min_child_samples': 150, 'bagging_fraction': 0.8, 'num_leaves': 72, 'learning_rate': 0.1, 'max_bin': 8000}. Best is trial 318 with value: 0.7597419416730622.\u001b[0m\n"
     ]
    },
    {
     "name": "stdout",
     "output_type": "stream",
     "text": [
      "[LightGBM] [Warning] feature_fraction is set=1.0, colsample_bytree=1.0 will be ignored. Current value: feature_fraction=1.0\n",
      "[LightGBM] [Warning] bagging_fraction is set=0.8, subsample=1.0 will be ignored. Current value: bagging_fraction=0.8\n",
      "[LightGBM] [Warning] feature_fraction is set=1.0, colsample_bytree=1.0 will be ignored. Current value: feature_fraction=1.0\n",
      "[LightGBM] [Warning] bagging_fraction is set=0.8, subsample=1.0 will be ignored. Current value: bagging_fraction=0.8\n"
     ]
    },
    {
     "name": "stderr",
     "output_type": "stream",
     "text": [
      "\u001b[32m[I 2022-07-23 19:18:03,800]\u001b[0m Trial 783 finished with value: 0.7597419416730622 and parameters: {'feature_fraction': 1.0, 'feature_fraction_bynode': 0.7, 'max_depth': 200, 'min_child_samples': 150, 'bagging_fraction': 0.8, 'num_leaves': 72, 'learning_rate': 0.1, 'max_bin': 1000}. Best is trial 318 with value: 0.7597419416730622.\u001b[0m\n"
     ]
    },
    {
     "name": "stdout",
     "output_type": "stream",
     "text": [
      "[LightGBM] [Warning] feature_fraction is set=1.0, colsample_bytree=1.0 will be ignored. Current value: feature_fraction=1.0\n",
      "[LightGBM] [Warning] bagging_fraction is set=0.8, subsample=1.0 will be ignored. Current value: bagging_fraction=0.8\n",
      "[LightGBM] [Warning] feature_fraction is set=1.0, colsample_bytree=1.0 will be ignored. Current value: feature_fraction=1.0\n",
      "[LightGBM] [Warning] bagging_fraction is set=0.8, subsample=1.0 will be ignored. Current value: bagging_fraction=0.8\n"
     ]
    },
    {
     "name": "stderr",
     "output_type": "stream",
     "text": [
      "\u001b[32m[I 2022-07-23 19:18:37,397]\u001b[0m Trial 784 finished with value: 0.7572812739831158 and parameters: {'feature_fraction': 1.0, 'feature_fraction_bynode': 0.7, 'max_depth': 200, 'min_child_samples': 150, 'bagging_fraction': 0.8, 'num_leaves': 72, 'learning_rate': 0.2, 'max_bin': 1000}. Best is trial 318 with value: 0.7597419416730622.\u001b[0m\n"
     ]
    },
    {
     "name": "stdout",
     "output_type": "stream",
     "text": [
      "[LightGBM] [Warning] feature_fraction is set=1.0, colsample_bytree=1.0 will be ignored. Current value: feature_fraction=1.0\n",
      "[LightGBM] [Warning] bagging_fraction is set=0.8, subsample=1.0 will be ignored. Current value: bagging_fraction=0.8\n",
      "[LightGBM] [Warning] feature_fraction is set=1.0, colsample_bytree=1.0 will be ignored. Current value: feature_fraction=1.0\n",
      "[LightGBM] [Warning] bagging_fraction is set=0.8, subsample=1.0 will be ignored. Current value: bagging_fraction=0.8\n"
     ]
    },
    {
     "name": "stderr",
     "output_type": "stream",
     "text": [
      "\u001b[32m[I 2022-07-23 19:19:15,077]\u001b[0m Trial 785 finished with value: 0.7590560245587106 and parameters: {'feature_fraction': 1.0, 'feature_fraction_bynode': 0.7, 'max_depth': 250, 'min_child_samples': 250, 'bagging_fraction': 0.8, 'num_leaves': 72, 'learning_rate': 0.1, 'max_bin': 3000}. Best is trial 318 with value: 0.7597419416730622.\u001b[0m\n"
     ]
    },
    {
     "name": "stdout",
     "output_type": "stream",
     "text": [
      "[LightGBM] [Warning] feature_fraction is set=1.0, colsample_bytree=1.0 will be ignored. Current value: feature_fraction=1.0\n",
      "[LightGBM] [Warning] bagging_fraction is set=0.8, subsample=1.0 will be ignored. Current value: bagging_fraction=0.8\n",
      "[LightGBM] [Warning] feature_fraction is set=1.0, colsample_bytree=1.0 will be ignored. Current value: feature_fraction=1.0\n",
      "[LightGBM] [Warning] bagging_fraction is set=0.8, subsample=1.0 will be ignored. Current value: bagging_fraction=0.8\n"
     ]
    },
    {
     "name": "stderr",
     "output_type": "stream",
     "text": [
      "\u001b[32m[I 2022-07-23 19:19:48,732]\u001b[0m Trial 786 finished with value: 0.7590752110514197 and parameters: {'feature_fraction': 1.0, 'feature_fraction_bynode': 0.7, 'max_depth': 250, 'min_child_samples': 150, 'bagging_fraction': 0.8, 'num_leaves': 62, 'learning_rate': 0.1, 'max_bin': 7000}. Best is trial 318 with value: 0.7597419416730622.\u001b[0m\n"
     ]
    },
    {
     "name": "stdout",
     "output_type": "stream",
     "text": [
      "[LightGBM] [Warning] feature_fraction is set=1.0, colsample_bytree=1.0 will be ignored. Current value: feature_fraction=1.0\n",
      "[LightGBM] [Warning] bagging_fraction is set=0.8, subsample=1.0 will be ignored. Current value: bagging_fraction=0.8\n",
      "[LightGBM] [Warning] feature_fraction is set=1.0, colsample_bytree=1.0 will be ignored. Current value: feature_fraction=1.0\n",
      "[LightGBM] [Warning] bagging_fraction is set=0.8, subsample=1.0 will be ignored. Current value: bagging_fraction=0.8\n"
     ]
    },
    {
     "name": "stderr",
     "output_type": "stream",
     "text": [
      "\u001b[32m[I 2022-07-23 19:20:09,985]\u001b[0m Trial 787 finished with value: 0.7380995778971604 and parameters: {'feature_fraction': 1.0, 'feature_fraction_bynode': 0.7, 'max_depth': 250, 'min_child_samples': 150, 'bagging_fraction': 0.8, 'num_leaves': 72, 'learning_rate': 0.8, 'max_bin': 1000}. Best is trial 318 with value: 0.7597419416730622.\u001b[0m\n"
     ]
    },
    {
     "name": "stdout",
     "output_type": "stream",
     "text": [
      "[LightGBM] [Warning] feature_fraction is set=1.0, colsample_bytree=1.0 will be ignored. Current value: feature_fraction=1.0\n",
      "[LightGBM] [Warning] bagging_fraction is set=0.8, subsample=1.0 will be ignored. Current value: bagging_fraction=0.8\n",
      "[LightGBM] [Warning] feature_fraction is set=1.0, colsample_bytree=1.0 will be ignored. Current value: feature_fraction=1.0\n",
      "[LightGBM] [Warning] bagging_fraction is set=0.8, subsample=1.0 will be ignored. Current value: bagging_fraction=0.8\n"
     ]
    },
    {
     "name": "stderr",
     "output_type": "stream",
     "text": [
      "\u001b[32m[I 2022-07-23 19:20:36,312]\u001b[0m Trial 788 finished with value: 0.7590176515732924 and parameters: {'feature_fraction': 1.0, 'feature_fraction_bynode': 0.7, 'max_depth': 200, 'min_child_samples': 150, 'bagging_fraction': 0.8, 'num_leaves': 32, 'learning_rate': 0.1, 'max_bin': 1000}. Best is trial 318 with value: 0.7597419416730622.\u001b[0m\n"
     ]
    },
    {
     "name": "stdout",
     "output_type": "stream",
     "text": [
      "[LightGBM] [Warning] feature_fraction is set=1.0, colsample_bytree=1.0 will be ignored. Current value: feature_fraction=1.0\n",
      "[LightGBM] [Warning] bagging_fraction is set=0.8, subsample=1.0 will be ignored. Current value: bagging_fraction=0.8\n",
      "[LightGBM] [Warning] feature_fraction is set=1.0, colsample_bytree=1.0 will be ignored. Current value: feature_fraction=1.0\n",
      "[LightGBM] [Warning] bagging_fraction is set=0.8, subsample=1.0 will be ignored. Current value: bagging_fraction=0.8\n"
     ]
    },
    {
     "name": "stderr",
     "output_type": "stream",
     "text": [
      "\u001b[32m[I 2022-07-23 19:21:16,740]\u001b[0m Trial 789 finished with value: 0.7597419416730622 and parameters: {'feature_fraction': 1.0, 'feature_fraction_bynode': 0.7, 'max_depth': 350, 'min_child_samples': 150, 'bagging_fraction': 0.8, 'num_leaves': 72, 'learning_rate': 0.1, 'max_bin': 1000}. Best is trial 318 with value: 0.7597419416730622.\u001b[0m\n"
     ]
    },
    {
     "name": "stdout",
     "output_type": "stream",
     "text": [
      "[LightGBM] [Warning] feature_fraction is set=0.7, colsample_bytree=1.0 will be ignored. Current value: feature_fraction=0.7\n",
      "[LightGBM] [Warning] bagging_fraction is set=0.8, subsample=1.0 will be ignored. Current value: bagging_fraction=0.8\n",
      "[LightGBM] [Warning] feature_fraction is set=0.7, colsample_bytree=1.0 will be ignored. Current value: feature_fraction=0.7\n",
      "[LightGBM] [Warning] bagging_fraction is set=0.8, subsample=1.0 will be ignored. Current value: bagging_fraction=0.8\n"
     ]
    },
    {
     "name": "stderr",
     "output_type": "stream",
     "text": [
      "\u001b[32m[I 2022-07-23 19:22:00,116]\u001b[0m Trial 790 finished with value: 0.7588545663852647 and parameters: {'feature_fraction': 0.7, 'feature_fraction_bynode': 0.7, 'max_depth': 200, 'min_child_samples': 150, 'bagging_fraction': 0.8, 'num_leaves': 82, 'learning_rate': 0.1, 'max_bin': 1000}. Best is trial 318 with value: 0.7597419416730622.\u001b[0m\n"
     ]
    },
    {
     "name": "stdout",
     "output_type": "stream",
     "text": [
      "[LightGBM] [Warning] feature_fraction is set=1.0, colsample_bytree=1.0 will be ignored. Current value: feature_fraction=1.0\n",
      "[LightGBM] [Warning] bagging_fraction is set=0.8, subsample=1.0 will be ignored. Current value: bagging_fraction=0.8\n",
      "[LightGBM] [Warning] feature_fraction is set=1.0, colsample_bytree=1.0 will be ignored. Current value: feature_fraction=1.0\n",
      "[LightGBM] [Warning] bagging_fraction is set=0.8, subsample=1.0 will be ignored. Current value: bagging_fraction=0.8\n"
     ]
    },
    {
     "name": "stderr",
     "output_type": "stream",
     "text": [
      "\u001b[32m[I 2022-07-23 19:22:32,530]\u001b[0m Trial 791 finished with value: 0.7597419416730622 and parameters: {'feature_fraction': 1.0, 'feature_fraction_bynode': 0.7, 'max_depth': 500, 'min_child_samples': 150, 'bagging_fraction': 0.8, 'num_leaves': 72, 'learning_rate': 0.1, 'max_bin': 1000}. Best is trial 318 with value: 0.7597419416730622.\u001b[0m\n"
     ]
    },
    {
     "name": "stdout",
     "output_type": "stream",
     "text": [
      "[LightGBM] [Warning] feature_fraction is set=1.0, colsample_bytree=1.0 will be ignored. Current value: feature_fraction=1.0\n",
      "[LightGBM] [Warning] bagging_fraction is set=0.8, subsample=1.0 will be ignored. Current value: bagging_fraction=0.8\n",
      "[LightGBM] [Warning] feature_fraction is set=1.0, colsample_bytree=1.0 will be ignored. Current value: feature_fraction=1.0\n",
      "[LightGBM] [Warning] bagging_fraction is set=0.8, subsample=1.0 will be ignored. Current value: bagging_fraction=0.8\n"
     ]
    },
    {
     "name": "stderr",
     "output_type": "stream",
     "text": [
      "\u001b[32m[I 2022-07-23 19:23:01,745]\u001b[0m Trial 792 finished with value: 0.7572812739831158 and parameters: {'feature_fraction': 1.0, 'feature_fraction_bynode': 0.7, 'max_depth': 200, 'min_child_samples': 150, 'bagging_fraction': 0.8, 'num_leaves': 72, 'learning_rate': 0.2, 'max_bin': 1000}. Best is trial 318 with value: 0.7597419416730622.\u001b[0m\n"
     ]
    },
    {
     "name": "stdout",
     "output_type": "stream",
     "text": [
      "[LightGBM] [Warning] feature_fraction is set=1.0, colsample_bytree=1.0 will be ignored. Current value: feature_fraction=1.0\n",
      "[LightGBM] [Warning] bagging_fraction is set=0.8, subsample=1.0 will be ignored. Current value: bagging_fraction=0.8\n",
      "[LightGBM] [Warning] feature_fraction is set=1.0, colsample_bytree=1.0 will be ignored. Current value: feature_fraction=1.0\n",
      "[LightGBM] [Warning] bagging_fraction is set=0.8, subsample=1.0 will be ignored. Current value: bagging_fraction=0.8\n"
     ]
    },
    {
     "name": "stderr",
     "output_type": "stream",
     "text": [
      "\u001b[32m[I 2022-07-23 19:23:21,134]\u001b[0m Trial 793 finished with value: 0.758283768227168 and parameters: {'feature_fraction': 1.0, 'feature_fraction_bynode': 0.7, 'max_depth': 500, 'min_child_samples': 150, 'bagging_fraction': 0.8, 'num_leaves': 22, 'learning_rate': 0.1, 'max_bin': 2000}. Best is trial 318 with value: 0.7597419416730622.\u001b[0m\n"
     ]
    },
    {
     "name": "stdout",
     "output_type": "stream",
     "text": [
      "[LightGBM] [Warning] feature_fraction is set=1.0, colsample_bytree=1.0 will be ignored. Current value: feature_fraction=1.0\n",
      "[LightGBM] [Warning] bagging_fraction is set=0.8, subsample=1.0 will be ignored. Current value: bagging_fraction=0.8\n",
      "[LightGBM] [Warning] feature_fraction is set=1.0, colsample_bytree=1.0 will be ignored. Current value: feature_fraction=1.0\n",
      "[LightGBM] [Warning] bagging_fraction is set=0.8, subsample=1.0 will be ignored. Current value: bagging_fraction=0.8\n"
     ]
    },
    {
     "name": "stderr",
     "output_type": "stream",
     "text": [
      "\u001b[32m[I 2022-07-23 19:23:41,498]\u001b[0m Trial 794 finished with value: 0.7597419416730622 and parameters: {'feature_fraction': 1.0, 'feature_fraction_bynode': 0.7, 'max_depth': 200, 'min_child_samples': 150, 'bagging_fraction': 0.8, 'num_leaves': 72, 'learning_rate': 0.1, 'max_bin': 1000}. Best is trial 318 with value: 0.7597419416730622.\u001b[0m\n"
     ]
    },
    {
     "name": "stdout",
     "output_type": "stream",
     "text": [
      "[LightGBM] [Warning] feature_fraction is set=1.0, colsample_bytree=1.0 will be ignored. Current value: feature_fraction=1.0\n",
      "[LightGBM] [Warning] bagging_fraction is set=0.8, subsample=1.0 will be ignored. Current value: bagging_fraction=0.8\n",
      "[LightGBM] [Warning] feature_fraction is set=1.0, colsample_bytree=1.0 will be ignored. Current value: feature_fraction=1.0\n",
      "[LightGBM] [Warning] bagging_fraction is set=0.8, subsample=1.0 will be ignored. Current value: bagging_fraction=0.8\n"
     ]
    },
    {
     "name": "stderr",
     "output_type": "stream",
     "text": [
      "\u001b[32m[I 2022-07-23 19:24:02,675]\u001b[0m Trial 795 finished with value: 0.758960092095165 and parameters: {'feature_fraction': 1.0, 'feature_fraction_bynode': 0.7, 'max_depth': 200, 'min_child_samples': 150, 'bagging_fraction': 0.8, 'num_leaves': 82, 'learning_rate': 0.1, 'max_bin': 1000}. Best is trial 318 with value: 0.7597419416730622.\u001b[0m\n"
     ]
    },
    {
     "name": "stdout",
     "output_type": "stream",
     "text": [
      "[LightGBM] [Warning] feature_fraction is set=1.0, colsample_bytree=1.0 will be ignored. Current value: feature_fraction=1.0\n",
      "[LightGBM] [Warning] bagging_fraction is set=0.8, subsample=1.0 will be ignored. Current value: bagging_fraction=0.8\n",
      "[LightGBM] [Warning] feature_fraction is set=1.0, colsample_bytree=1.0 will be ignored. Current value: feature_fraction=1.0\n",
      "[LightGBM] [Warning] bagging_fraction is set=0.8, subsample=1.0 will be ignored. Current value: bagging_fraction=0.8\n"
     ]
    },
    {
     "name": "stderr",
     "output_type": "stream",
     "text": [
      "\u001b[32m[I 2022-07-23 19:24:25,840]\u001b[0m Trial 796 finished with value: 0.7597419416730622 and parameters: {'feature_fraction': 1.0, 'feature_fraction_bynode': 0.7, 'max_depth': 200, 'min_child_samples': 150, 'bagging_fraction': 0.8, 'num_leaves': 72, 'learning_rate': 0.1, 'max_bin': 1000}. Best is trial 318 with value: 0.7597419416730622.\u001b[0m\n"
     ]
    },
    {
     "name": "stdout",
     "output_type": "stream",
     "text": [
      "[LightGBM] [Warning] feature_fraction is set=1.0, colsample_bytree=1.0 will be ignored. Current value: feature_fraction=1.0\n",
      "[LightGBM] [Warning] bagging_fraction is set=0.8, subsample=1.0 will be ignored. Current value: bagging_fraction=0.8\n",
      "[LightGBM] [Warning] feature_fraction is set=1.0, colsample_bytree=1.0 will be ignored. Current value: feature_fraction=1.0\n",
      "[LightGBM] [Warning] bagging_fraction is set=0.8, subsample=1.0 will be ignored. Current value: bagging_fraction=0.8\n"
     ]
    },
    {
     "name": "stderr",
     "output_type": "stream",
     "text": [
      "\u001b[32m[I 2022-07-23 19:24:49,493]\u001b[0m Trial 797 finished with value: 0.7597419416730622 and parameters: {'feature_fraction': 1.0, 'feature_fraction_bynode': 0.7, 'max_depth': 250, 'min_child_samples': 150, 'bagging_fraction': 0.8, 'num_leaves': 72, 'learning_rate': 0.1, 'max_bin': 1000}. Best is trial 318 with value: 0.7597419416730622.\u001b[0m\n"
     ]
    },
    {
     "name": "stdout",
     "output_type": "stream",
     "text": [
      "[LightGBM] [Warning] feature_fraction is set=1.0, colsample_bytree=1.0 will be ignored. Current value: feature_fraction=1.0\n",
      "[LightGBM] [Warning] bagging_fraction is set=0.8, subsample=1.0 will be ignored. Current value: bagging_fraction=0.8\n"
     ]
    },
    {
     "ename": "KeyboardInterrupt",
     "evalue": "",
     "output_type": "error",
     "traceback": [
      "\u001b[1;31m---------------------------------------------------------------------------\u001b[0m",
      "\u001b[1;31mKeyboardInterrupt\u001b[0m                         Traceback (most recent call last)",
      "\u001b[1;32m~\\AppData\\Local\\Temp/ipykernel_27340/528867264.py\u001b[0m in \u001b[0;36m<module>\u001b[1;34m\u001b[0m\n\u001b[1;32m----> 1\u001b[1;33m \u001b[0mstudy\u001b[0m\u001b[1;33m.\u001b[0m\u001b[0moptimize\u001b[0m\u001b[1;33m(\u001b[0m\u001b[1;32mlambda\u001b[0m \u001b[0mtrial\u001b[0m\u001b[1;33m:\u001b[0m \u001b[0mobjective_lgbm\u001b[0m\u001b[1;33m(\u001b[0m\u001b[0mtrial\u001b[0m\u001b[1;33m,\u001b[0m \u001b[0mX_train_te\u001b[0m\u001b[1;33m,\u001b[0m\u001b[0my_train\u001b[0m\u001b[1;33m)\u001b[0m\u001b[1;33m,\u001b[0m \u001b[0mn_trials\u001b[0m\u001b[1;33m=\u001b[0m\u001b[1;36m1000\u001b[0m\u001b[1;33m,\u001b[0m  \u001b[0mgc_after_trial\u001b[0m\u001b[1;33m=\u001b[0m\u001b[1;32mTrue\u001b[0m\u001b[1;33m)\u001b[0m\u001b[1;33m\u001b[0m\u001b[1;33m\u001b[0m\u001b[0m\n\u001b[0m",
      "\u001b[1;32mC:\\ProgramData\\Anaconda3\\lib\\site-packages\\optuna\\study\\study.py\u001b[0m in \u001b[0;36moptimize\u001b[1;34m(self, func, n_trials, timeout, n_jobs, catch, callbacks, gc_after_trial, show_progress_bar)\u001b[0m\n\u001b[0;32m    398\u001b[0m             )\n\u001b[0;32m    399\u001b[0m \u001b[1;33m\u001b[0m\u001b[0m\n\u001b[1;32m--> 400\u001b[1;33m         _optimize(\n\u001b[0m\u001b[0;32m    401\u001b[0m             \u001b[0mstudy\u001b[0m\u001b[1;33m=\u001b[0m\u001b[0mself\u001b[0m\u001b[1;33m,\u001b[0m\u001b[1;33m\u001b[0m\u001b[1;33m\u001b[0m\u001b[0m\n\u001b[0;32m    402\u001b[0m             \u001b[0mfunc\u001b[0m\u001b[1;33m=\u001b[0m\u001b[0mfunc\u001b[0m\u001b[1;33m,\u001b[0m\u001b[1;33m\u001b[0m\u001b[1;33m\u001b[0m\u001b[0m\n",
      "\u001b[1;32mC:\\ProgramData\\Anaconda3\\lib\\site-packages\\optuna\\study\\_optimize.py\u001b[0m in \u001b[0;36m_optimize\u001b[1;34m(study, func, n_trials, timeout, n_jobs, catch, callbacks, gc_after_trial, show_progress_bar)\u001b[0m\n\u001b[0;32m     64\u001b[0m     \u001b[1;32mtry\u001b[0m\u001b[1;33m:\u001b[0m\u001b[1;33m\u001b[0m\u001b[1;33m\u001b[0m\u001b[0m\n\u001b[0;32m     65\u001b[0m         \u001b[1;32mif\u001b[0m \u001b[0mn_jobs\u001b[0m \u001b[1;33m==\u001b[0m \u001b[1;36m1\u001b[0m\u001b[1;33m:\u001b[0m\u001b[1;33m\u001b[0m\u001b[1;33m\u001b[0m\u001b[0m\n\u001b[1;32m---> 66\u001b[1;33m             _optimize_sequential(\n\u001b[0m\u001b[0;32m     67\u001b[0m                 \u001b[0mstudy\u001b[0m\u001b[1;33m,\u001b[0m\u001b[1;33m\u001b[0m\u001b[1;33m\u001b[0m\u001b[0m\n\u001b[0;32m     68\u001b[0m                 \u001b[0mfunc\u001b[0m\u001b[1;33m,\u001b[0m\u001b[1;33m\u001b[0m\u001b[1;33m\u001b[0m\u001b[0m\n",
      "\u001b[1;32mC:\\ProgramData\\Anaconda3\\lib\\site-packages\\optuna\\study\\_optimize.py\u001b[0m in \u001b[0;36m_optimize_sequential\u001b[1;34m(study, func, n_trials, timeout, catch, callbacks, gc_after_trial, reseed_sampler_rng, time_start, progress_bar)\u001b[0m\n\u001b[0;32m    161\u001b[0m \u001b[1;33m\u001b[0m\u001b[0m\n\u001b[0;32m    162\u001b[0m         \u001b[1;32mtry\u001b[0m\u001b[1;33m:\u001b[0m\u001b[1;33m\u001b[0m\u001b[1;33m\u001b[0m\u001b[0m\n\u001b[1;32m--> 163\u001b[1;33m             \u001b[0mtrial\u001b[0m \u001b[1;33m=\u001b[0m \u001b[0m_run_trial\u001b[0m\u001b[1;33m(\u001b[0m\u001b[0mstudy\u001b[0m\u001b[1;33m,\u001b[0m \u001b[0mfunc\u001b[0m\u001b[1;33m,\u001b[0m \u001b[0mcatch\u001b[0m\u001b[1;33m)\u001b[0m\u001b[1;33m\u001b[0m\u001b[1;33m\u001b[0m\u001b[0m\n\u001b[0m\u001b[0;32m    164\u001b[0m         \u001b[1;32mexcept\u001b[0m \u001b[0mException\u001b[0m\u001b[1;33m:\u001b[0m\u001b[1;33m\u001b[0m\u001b[1;33m\u001b[0m\u001b[0m\n\u001b[0;32m    165\u001b[0m             \u001b[1;32mraise\u001b[0m\u001b[1;33m\u001b[0m\u001b[1;33m\u001b[0m\u001b[0m\n",
      "\u001b[1;32mC:\\ProgramData\\Anaconda3\\lib\\site-packages\\optuna\\study\\_optimize.py\u001b[0m in \u001b[0;36m_run_trial\u001b[1;34m(study, func, catch)\u001b[0m\n\u001b[0;32m    211\u001b[0m \u001b[1;33m\u001b[0m\u001b[0m\n\u001b[0;32m    212\u001b[0m     \u001b[1;32mtry\u001b[0m\u001b[1;33m:\u001b[0m\u001b[1;33m\u001b[0m\u001b[1;33m\u001b[0m\u001b[0m\n\u001b[1;32m--> 213\u001b[1;33m         \u001b[0mvalue_or_values\u001b[0m \u001b[1;33m=\u001b[0m \u001b[0mfunc\u001b[0m\u001b[1;33m(\u001b[0m\u001b[0mtrial\u001b[0m\u001b[1;33m)\u001b[0m\u001b[1;33m\u001b[0m\u001b[1;33m\u001b[0m\u001b[0m\n\u001b[0m\u001b[0;32m    214\u001b[0m     \u001b[1;32mexcept\u001b[0m \u001b[0mexceptions\u001b[0m\u001b[1;33m.\u001b[0m\u001b[0mTrialPruned\u001b[0m \u001b[1;32mas\u001b[0m \u001b[0me\u001b[0m\u001b[1;33m:\u001b[0m\u001b[1;33m\u001b[0m\u001b[1;33m\u001b[0m\u001b[0m\n\u001b[0;32m    215\u001b[0m         \u001b[1;31m# TODO(mamu): Handle multi-objective cases.\u001b[0m\u001b[1;33m\u001b[0m\u001b[1;33m\u001b[0m\u001b[0m\n",
      "\u001b[1;32m~\\AppData\\Local\\Temp/ipykernel_27340/528867264.py\u001b[0m in \u001b[0;36m<lambda>\u001b[1;34m(trial)\u001b[0m\n\u001b[1;32m----> 1\u001b[1;33m \u001b[0mstudy\u001b[0m\u001b[1;33m.\u001b[0m\u001b[0moptimize\u001b[0m\u001b[1;33m(\u001b[0m\u001b[1;32mlambda\u001b[0m \u001b[0mtrial\u001b[0m\u001b[1;33m:\u001b[0m \u001b[0mobjective_lgbm\u001b[0m\u001b[1;33m(\u001b[0m\u001b[0mtrial\u001b[0m\u001b[1;33m,\u001b[0m \u001b[0mX_train_te\u001b[0m\u001b[1;33m,\u001b[0m\u001b[0my_train\u001b[0m\u001b[1;33m)\u001b[0m\u001b[1;33m,\u001b[0m \u001b[0mn_trials\u001b[0m\u001b[1;33m=\u001b[0m\u001b[1;36m1000\u001b[0m\u001b[1;33m,\u001b[0m  \u001b[0mgc_after_trial\u001b[0m\u001b[1;33m=\u001b[0m\u001b[1;32mTrue\u001b[0m\u001b[1;33m)\u001b[0m\u001b[1;33m\u001b[0m\u001b[1;33m\u001b[0m\u001b[0m\n\u001b[0m",
      "\u001b[1;32m~\\AppData\\Local\\Temp/ipykernel_27340/3209363813.py\u001b[0m in \u001b[0;36mobjective_lgbm\u001b[1;34m(trial, X_te_yj, y_train)\u001b[0m\n\u001b[0;32m     19\u001b[0m     \u001b[0mLGBM\u001b[0m \u001b[1;33m=\u001b[0m \u001b[0mLGBMClassifier\u001b[0m\u001b[1;33m(\u001b[0m\u001b[1;33m**\u001b[0m\u001b[0mhyper_params_lgbm\u001b[0m\u001b[1;33m)\u001b[0m\u001b[1;33m\u001b[0m\u001b[1;33m\u001b[0m\u001b[0m\n\u001b[0;32m     20\u001b[0m \u001b[1;33m\u001b[0m\u001b[0m\n\u001b[1;32m---> 21\u001b[1;33m     \u001b[0mcv_scores_lgbm\u001b[0m \u001b[1;33m=\u001b[0m \u001b[0mcross_val_score\u001b[0m\u001b[1;33m(\u001b[0m\u001b[0mLGBM\u001b[0m\u001b[1;33m,\u001b[0m\u001b[0mX_te_yj\u001b[0m\u001b[1;33m,\u001b[0m\u001b[0my_train\u001b[0m\u001b[1;33m,\u001b[0m\u001b[0mcv\u001b[0m\u001b[1;33m=\u001b[0m\u001b[1;36m2\u001b[0m\u001b[1;33m,\u001b[0m\u001b[0mscoring\u001b[0m\u001b[1;33m=\u001b[0m\u001b[1;34m\"f1_micro\"\u001b[0m\u001b[1;33m)\u001b[0m\u001b[1;33m\u001b[0m\u001b[1;33m\u001b[0m\u001b[0m\n\u001b[0m\u001b[0;32m     22\u001b[0m     \u001b[0mscore\u001b[0m \u001b[1;33m=\u001b[0m \u001b[0mnp\u001b[0m\u001b[1;33m.\u001b[0m\u001b[0mmean\u001b[0m\u001b[1;33m(\u001b[0m\u001b[0mcv_scores_lgbm\u001b[0m\u001b[1;33m)\u001b[0m\u001b[1;33m\u001b[0m\u001b[1;33m\u001b[0m\u001b[0m\n\u001b[0;32m     23\u001b[0m \u001b[1;33m\u001b[0m\u001b[0m\n",
      "\u001b[1;32mC:\\ProgramData\\Anaconda3\\lib\\site-packages\\sklearn\\utils\\validation.py\u001b[0m in \u001b[0;36minner_f\u001b[1;34m(*args, **kwargs)\u001b[0m\n\u001b[0;32m     61\u001b[0m             \u001b[0mextra_args\u001b[0m \u001b[1;33m=\u001b[0m \u001b[0mlen\u001b[0m\u001b[1;33m(\u001b[0m\u001b[0margs\u001b[0m\u001b[1;33m)\u001b[0m \u001b[1;33m-\u001b[0m \u001b[0mlen\u001b[0m\u001b[1;33m(\u001b[0m\u001b[0mall_args\u001b[0m\u001b[1;33m)\u001b[0m\u001b[1;33m\u001b[0m\u001b[1;33m\u001b[0m\u001b[0m\n\u001b[0;32m     62\u001b[0m             \u001b[1;32mif\u001b[0m \u001b[0mextra_args\u001b[0m \u001b[1;33m<=\u001b[0m \u001b[1;36m0\u001b[0m\u001b[1;33m:\u001b[0m\u001b[1;33m\u001b[0m\u001b[1;33m\u001b[0m\u001b[0m\n\u001b[1;32m---> 63\u001b[1;33m                 \u001b[1;32mreturn\u001b[0m \u001b[0mf\u001b[0m\u001b[1;33m(\u001b[0m\u001b[1;33m*\u001b[0m\u001b[0margs\u001b[0m\u001b[1;33m,\u001b[0m \u001b[1;33m**\u001b[0m\u001b[0mkwargs\u001b[0m\u001b[1;33m)\u001b[0m\u001b[1;33m\u001b[0m\u001b[1;33m\u001b[0m\u001b[0m\n\u001b[0m\u001b[0;32m     64\u001b[0m \u001b[1;33m\u001b[0m\u001b[0m\n\u001b[0;32m     65\u001b[0m             \u001b[1;31m# extra_args > 0\u001b[0m\u001b[1;33m\u001b[0m\u001b[1;33m\u001b[0m\u001b[0m\n",
      "\u001b[1;32mC:\\ProgramData\\Anaconda3\\lib\\site-packages\\sklearn\\model_selection\\_validation.py\u001b[0m in \u001b[0;36mcross_val_score\u001b[1;34m(estimator, X, y, groups, scoring, cv, n_jobs, verbose, fit_params, pre_dispatch, error_score)\u001b[0m\n\u001b[0;32m    443\u001b[0m     \u001b[0mscorer\u001b[0m \u001b[1;33m=\u001b[0m \u001b[0mcheck_scoring\u001b[0m\u001b[1;33m(\u001b[0m\u001b[0mestimator\u001b[0m\u001b[1;33m,\u001b[0m \u001b[0mscoring\u001b[0m\u001b[1;33m=\u001b[0m\u001b[0mscoring\u001b[0m\u001b[1;33m)\u001b[0m\u001b[1;33m\u001b[0m\u001b[1;33m\u001b[0m\u001b[0m\n\u001b[0;32m    444\u001b[0m \u001b[1;33m\u001b[0m\u001b[0m\n\u001b[1;32m--> 445\u001b[1;33m     cv_results = cross_validate(estimator=estimator, X=X, y=y, groups=groups,\n\u001b[0m\u001b[0;32m    446\u001b[0m                                 \u001b[0mscoring\u001b[0m\u001b[1;33m=\u001b[0m\u001b[1;33m{\u001b[0m\u001b[1;34m'score'\u001b[0m\u001b[1;33m:\u001b[0m \u001b[0mscorer\u001b[0m\u001b[1;33m}\u001b[0m\u001b[1;33m,\u001b[0m \u001b[0mcv\u001b[0m\u001b[1;33m=\u001b[0m\u001b[0mcv\u001b[0m\u001b[1;33m,\u001b[0m\u001b[1;33m\u001b[0m\u001b[1;33m\u001b[0m\u001b[0m\n\u001b[0;32m    447\u001b[0m                                 \u001b[0mn_jobs\u001b[0m\u001b[1;33m=\u001b[0m\u001b[0mn_jobs\u001b[0m\u001b[1;33m,\u001b[0m \u001b[0mverbose\u001b[0m\u001b[1;33m=\u001b[0m\u001b[0mverbose\u001b[0m\u001b[1;33m,\u001b[0m\u001b[1;33m\u001b[0m\u001b[1;33m\u001b[0m\u001b[0m\n",
      "\u001b[1;32mC:\\ProgramData\\Anaconda3\\lib\\site-packages\\sklearn\\utils\\validation.py\u001b[0m in \u001b[0;36minner_f\u001b[1;34m(*args, **kwargs)\u001b[0m\n\u001b[0;32m     61\u001b[0m             \u001b[0mextra_args\u001b[0m \u001b[1;33m=\u001b[0m \u001b[0mlen\u001b[0m\u001b[1;33m(\u001b[0m\u001b[0margs\u001b[0m\u001b[1;33m)\u001b[0m \u001b[1;33m-\u001b[0m \u001b[0mlen\u001b[0m\u001b[1;33m(\u001b[0m\u001b[0mall_args\u001b[0m\u001b[1;33m)\u001b[0m\u001b[1;33m\u001b[0m\u001b[1;33m\u001b[0m\u001b[0m\n\u001b[0;32m     62\u001b[0m             \u001b[1;32mif\u001b[0m \u001b[0mextra_args\u001b[0m \u001b[1;33m<=\u001b[0m \u001b[1;36m0\u001b[0m\u001b[1;33m:\u001b[0m\u001b[1;33m\u001b[0m\u001b[1;33m\u001b[0m\u001b[0m\n\u001b[1;32m---> 63\u001b[1;33m                 \u001b[1;32mreturn\u001b[0m \u001b[0mf\u001b[0m\u001b[1;33m(\u001b[0m\u001b[1;33m*\u001b[0m\u001b[0margs\u001b[0m\u001b[1;33m,\u001b[0m \u001b[1;33m**\u001b[0m\u001b[0mkwargs\u001b[0m\u001b[1;33m)\u001b[0m\u001b[1;33m\u001b[0m\u001b[1;33m\u001b[0m\u001b[0m\n\u001b[0m\u001b[0;32m     64\u001b[0m \u001b[1;33m\u001b[0m\u001b[0m\n\u001b[0;32m     65\u001b[0m             \u001b[1;31m# extra_args > 0\u001b[0m\u001b[1;33m\u001b[0m\u001b[1;33m\u001b[0m\u001b[0m\n",
      "\u001b[1;32mC:\\ProgramData\\Anaconda3\\lib\\site-packages\\sklearn\\model_selection\\_validation.py\u001b[0m in \u001b[0;36mcross_validate\u001b[1;34m(estimator, X, y, groups, scoring, cv, n_jobs, verbose, fit_params, pre_dispatch, return_train_score, return_estimator, error_score)\u001b[0m\n\u001b[0;32m    248\u001b[0m     parallel = Parallel(n_jobs=n_jobs, verbose=verbose,\n\u001b[0;32m    249\u001b[0m                         pre_dispatch=pre_dispatch)\n\u001b[1;32m--> 250\u001b[1;33m     results = parallel(\n\u001b[0m\u001b[0;32m    251\u001b[0m         delayed(_fit_and_score)(\n\u001b[0;32m    252\u001b[0m             \u001b[0mclone\u001b[0m\u001b[1;33m(\u001b[0m\u001b[0mestimator\u001b[0m\u001b[1;33m)\u001b[0m\u001b[1;33m,\u001b[0m \u001b[0mX\u001b[0m\u001b[1;33m,\u001b[0m \u001b[0my\u001b[0m\u001b[1;33m,\u001b[0m \u001b[0mscorers\u001b[0m\u001b[1;33m,\u001b[0m \u001b[0mtrain\u001b[0m\u001b[1;33m,\u001b[0m \u001b[0mtest\u001b[0m\u001b[1;33m,\u001b[0m \u001b[0mverbose\u001b[0m\u001b[1;33m,\u001b[0m \u001b[1;32mNone\u001b[0m\u001b[1;33m,\u001b[0m\u001b[1;33m\u001b[0m\u001b[1;33m\u001b[0m\u001b[0m\n",
      "\u001b[1;32mC:\\ProgramData\\Anaconda3\\lib\\site-packages\\joblib\\parallel.py\u001b[0m in \u001b[0;36m__call__\u001b[1;34m(self, iterable)\u001b[0m\n\u001b[0;32m   1041\u001b[0m             \u001b[1;31m# remaining jobs.\u001b[0m\u001b[1;33m\u001b[0m\u001b[1;33m\u001b[0m\u001b[0m\n\u001b[0;32m   1042\u001b[0m             \u001b[0mself\u001b[0m\u001b[1;33m.\u001b[0m\u001b[0m_iterating\u001b[0m \u001b[1;33m=\u001b[0m \u001b[1;32mFalse\u001b[0m\u001b[1;33m\u001b[0m\u001b[1;33m\u001b[0m\u001b[0m\n\u001b[1;32m-> 1043\u001b[1;33m             \u001b[1;32mif\u001b[0m \u001b[0mself\u001b[0m\u001b[1;33m.\u001b[0m\u001b[0mdispatch_one_batch\u001b[0m\u001b[1;33m(\u001b[0m\u001b[0miterator\u001b[0m\u001b[1;33m)\u001b[0m\u001b[1;33m:\u001b[0m\u001b[1;33m\u001b[0m\u001b[1;33m\u001b[0m\u001b[0m\n\u001b[0m\u001b[0;32m   1044\u001b[0m                 \u001b[0mself\u001b[0m\u001b[1;33m.\u001b[0m\u001b[0m_iterating\u001b[0m \u001b[1;33m=\u001b[0m \u001b[0mself\u001b[0m\u001b[1;33m.\u001b[0m\u001b[0m_original_iterator\u001b[0m \u001b[1;32mis\u001b[0m \u001b[1;32mnot\u001b[0m \u001b[1;32mNone\u001b[0m\u001b[1;33m\u001b[0m\u001b[1;33m\u001b[0m\u001b[0m\n\u001b[0;32m   1045\u001b[0m \u001b[1;33m\u001b[0m\u001b[0m\n",
      "\u001b[1;32mC:\\ProgramData\\Anaconda3\\lib\\site-packages\\joblib\\parallel.py\u001b[0m in \u001b[0;36mdispatch_one_batch\u001b[1;34m(self, iterator)\u001b[0m\n\u001b[0;32m    859\u001b[0m                 \u001b[1;32mreturn\u001b[0m \u001b[1;32mFalse\u001b[0m\u001b[1;33m\u001b[0m\u001b[1;33m\u001b[0m\u001b[0m\n\u001b[0;32m    860\u001b[0m             \u001b[1;32melse\u001b[0m\u001b[1;33m:\u001b[0m\u001b[1;33m\u001b[0m\u001b[1;33m\u001b[0m\u001b[0m\n\u001b[1;32m--> 861\u001b[1;33m                 \u001b[0mself\u001b[0m\u001b[1;33m.\u001b[0m\u001b[0m_dispatch\u001b[0m\u001b[1;33m(\u001b[0m\u001b[0mtasks\u001b[0m\u001b[1;33m)\u001b[0m\u001b[1;33m\u001b[0m\u001b[1;33m\u001b[0m\u001b[0m\n\u001b[0m\u001b[0;32m    862\u001b[0m                 \u001b[1;32mreturn\u001b[0m \u001b[1;32mTrue\u001b[0m\u001b[1;33m\u001b[0m\u001b[1;33m\u001b[0m\u001b[0m\n\u001b[0;32m    863\u001b[0m \u001b[1;33m\u001b[0m\u001b[0m\n",
      "\u001b[1;32mC:\\ProgramData\\Anaconda3\\lib\\site-packages\\joblib\\parallel.py\u001b[0m in \u001b[0;36m_dispatch\u001b[1;34m(self, batch)\u001b[0m\n\u001b[0;32m    777\u001b[0m         \u001b[1;32mwith\u001b[0m \u001b[0mself\u001b[0m\u001b[1;33m.\u001b[0m\u001b[0m_lock\u001b[0m\u001b[1;33m:\u001b[0m\u001b[1;33m\u001b[0m\u001b[1;33m\u001b[0m\u001b[0m\n\u001b[0;32m    778\u001b[0m             \u001b[0mjob_idx\u001b[0m \u001b[1;33m=\u001b[0m \u001b[0mlen\u001b[0m\u001b[1;33m(\u001b[0m\u001b[0mself\u001b[0m\u001b[1;33m.\u001b[0m\u001b[0m_jobs\u001b[0m\u001b[1;33m)\u001b[0m\u001b[1;33m\u001b[0m\u001b[1;33m\u001b[0m\u001b[0m\n\u001b[1;32m--> 779\u001b[1;33m             \u001b[0mjob\u001b[0m \u001b[1;33m=\u001b[0m \u001b[0mself\u001b[0m\u001b[1;33m.\u001b[0m\u001b[0m_backend\u001b[0m\u001b[1;33m.\u001b[0m\u001b[0mapply_async\u001b[0m\u001b[1;33m(\u001b[0m\u001b[0mbatch\u001b[0m\u001b[1;33m,\u001b[0m \u001b[0mcallback\u001b[0m\u001b[1;33m=\u001b[0m\u001b[0mcb\u001b[0m\u001b[1;33m)\u001b[0m\u001b[1;33m\u001b[0m\u001b[1;33m\u001b[0m\u001b[0m\n\u001b[0m\u001b[0;32m    780\u001b[0m             \u001b[1;31m# A job can complete so quickly than its callback is\u001b[0m\u001b[1;33m\u001b[0m\u001b[1;33m\u001b[0m\u001b[0m\n\u001b[0;32m    781\u001b[0m             \u001b[1;31m# called before we get here, causing self._jobs to\u001b[0m\u001b[1;33m\u001b[0m\u001b[1;33m\u001b[0m\u001b[0m\n",
      "\u001b[1;32mC:\\ProgramData\\Anaconda3\\lib\\site-packages\\joblib\\_parallel_backends.py\u001b[0m in \u001b[0;36mapply_async\u001b[1;34m(self, func, callback)\u001b[0m\n\u001b[0;32m    206\u001b[0m     \u001b[1;32mdef\u001b[0m \u001b[0mapply_async\u001b[0m\u001b[1;33m(\u001b[0m\u001b[0mself\u001b[0m\u001b[1;33m,\u001b[0m \u001b[0mfunc\u001b[0m\u001b[1;33m,\u001b[0m \u001b[0mcallback\u001b[0m\u001b[1;33m=\u001b[0m\u001b[1;32mNone\u001b[0m\u001b[1;33m)\u001b[0m\u001b[1;33m:\u001b[0m\u001b[1;33m\u001b[0m\u001b[1;33m\u001b[0m\u001b[0m\n\u001b[0;32m    207\u001b[0m         \u001b[1;34m\"\"\"Schedule a func to be run\"\"\"\u001b[0m\u001b[1;33m\u001b[0m\u001b[1;33m\u001b[0m\u001b[0m\n\u001b[1;32m--> 208\u001b[1;33m         \u001b[0mresult\u001b[0m \u001b[1;33m=\u001b[0m \u001b[0mImmediateResult\u001b[0m\u001b[1;33m(\u001b[0m\u001b[0mfunc\u001b[0m\u001b[1;33m)\u001b[0m\u001b[1;33m\u001b[0m\u001b[1;33m\u001b[0m\u001b[0m\n\u001b[0m\u001b[0;32m    209\u001b[0m         \u001b[1;32mif\u001b[0m \u001b[0mcallback\u001b[0m\u001b[1;33m:\u001b[0m\u001b[1;33m\u001b[0m\u001b[1;33m\u001b[0m\u001b[0m\n\u001b[0;32m    210\u001b[0m             \u001b[0mcallback\u001b[0m\u001b[1;33m(\u001b[0m\u001b[0mresult\u001b[0m\u001b[1;33m)\u001b[0m\u001b[1;33m\u001b[0m\u001b[1;33m\u001b[0m\u001b[0m\n",
      "\u001b[1;32mC:\\ProgramData\\Anaconda3\\lib\\site-packages\\joblib\\_parallel_backends.py\u001b[0m in \u001b[0;36m__init__\u001b[1;34m(self, batch)\u001b[0m\n\u001b[0;32m    570\u001b[0m         \u001b[1;31m# Don't delay the application, to avoid keeping the input\u001b[0m\u001b[1;33m\u001b[0m\u001b[1;33m\u001b[0m\u001b[0m\n\u001b[0;32m    571\u001b[0m         \u001b[1;31m# arguments in memory\u001b[0m\u001b[1;33m\u001b[0m\u001b[1;33m\u001b[0m\u001b[0m\n\u001b[1;32m--> 572\u001b[1;33m         \u001b[0mself\u001b[0m\u001b[1;33m.\u001b[0m\u001b[0mresults\u001b[0m \u001b[1;33m=\u001b[0m \u001b[0mbatch\u001b[0m\u001b[1;33m(\u001b[0m\u001b[1;33m)\u001b[0m\u001b[1;33m\u001b[0m\u001b[1;33m\u001b[0m\u001b[0m\n\u001b[0m\u001b[0;32m    573\u001b[0m \u001b[1;33m\u001b[0m\u001b[0m\n\u001b[0;32m    574\u001b[0m     \u001b[1;32mdef\u001b[0m \u001b[0mget\u001b[0m\u001b[1;33m(\u001b[0m\u001b[0mself\u001b[0m\u001b[1;33m)\u001b[0m\u001b[1;33m:\u001b[0m\u001b[1;33m\u001b[0m\u001b[1;33m\u001b[0m\u001b[0m\n",
      "\u001b[1;32mC:\\ProgramData\\Anaconda3\\lib\\site-packages\\joblib\\parallel.py\u001b[0m in \u001b[0;36m__call__\u001b[1;34m(self)\u001b[0m\n\u001b[0;32m    260\u001b[0m         \u001b[1;31m# change the default number of processes to -1\u001b[0m\u001b[1;33m\u001b[0m\u001b[1;33m\u001b[0m\u001b[0m\n\u001b[0;32m    261\u001b[0m         \u001b[1;32mwith\u001b[0m \u001b[0mparallel_backend\u001b[0m\u001b[1;33m(\u001b[0m\u001b[0mself\u001b[0m\u001b[1;33m.\u001b[0m\u001b[0m_backend\u001b[0m\u001b[1;33m,\u001b[0m \u001b[0mn_jobs\u001b[0m\u001b[1;33m=\u001b[0m\u001b[0mself\u001b[0m\u001b[1;33m.\u001b[0m\u001b[0m_n_jobs\u001b[0m\u001b[1;33m)\u001b[0m\u001b[1;33m:\u001b[0m\u001b[1;33m\u001b[0m\u001b[1;33m\u001b[0m\u001b[0m\n\u001b[1;32m--> 262\u001b[1;33m             return [func(*args, **kwargs)\n\u001b[0m\u001b[0;32m    263\u001b[0m                     for func, args, kwargs in self.items]\n\u001b[0;32m    264\u001b[0m \u001b[1;33m\u001b[0m\u001b[0m\n",
      "\u001b[1;32mC:\\ProgramData\\Anaconda3\\lib\\site-packages\\joblib\\parallel.py\u001b[0m in \u001b[0;36m<listcomp>\u001b[1;34m(.0)\u001b[0m\n\u001b[0;32m    260\u001b[0m         \u001b[1;31m# change the default number of processes to -1\u001b[0m\u001b[1;33m\u001b[0m\u001b[1;33m\u001b[0m\u001b[0m\n\u001b[0;32m    261\u001b[0m         \u001b[1;32mwith\u001b[0m \u001b[0mparallel_backend\u001b[0m\u001b[1;33m(\u001b[0m\u001b[0mself\u001b[0m\u001b[1;33m.\u001b[0m\u001b[0m_backend\u001b[0m\u001b[1;33m,\u001b[0m \u001b[0mn_jobs\u001b[0m\u001b[1;33m=\u001b[0m\u001b[0mself\u001b[0m\u001b[1;33m.\u001b[0m\u001b[0m_n_jobs\u001b[0m\u001b[1;33m)\u001b[0m\u001b[1;33m:\u001b[0m\u001b[1;33m\u001b[0m\u001b[1;33m\u001b[0m\u001b[0m\n\u001b[1;32m--> 262\u001b[1;33m             return [func(*args, **kwargs)\n\u001b[0m\u001b[0;32m    263\u001b[0m                     for func, args, kwargs in self.items]\n\u001b[0;32m    264\u001b[0m \u001b[1;33m\u001b[0m\u001b[0m\n",
      "\u001b[1;32mC:\\ProgramData\\Anaconda3\\lib\\site-packages\\sklearn\\utils\\fixes.py\u001b[0m in \u001b[0;36m__call__\u001b[1;34m(self, *args, **kwargs)\u001b[0m\n\u001b[0;32m    220\u001b[0m     \u001b[1;32mdef\u001b[0m \u001b[0m__call__\u001b[0m\u001b[1;33m(\u001b[0m\u001b[0mself\u001b[0m\u001b[1;33m,\u001b[0m \u001b[1;33m*\u001b[0m\u001b[0margs\u001b[0m\u001b[1;33m,\u001b[0m \u001b[1;33m**\u001b[0m\u001b[0mkwargs\u001b[0m\u001b[1;33m)\u001b[0m\u001b[1;33m:\u001b[0m\u001b[1;33m\u001b[0m\u001b[1;33m\u001b[0m\u001b[0m\n\u001b[0;32m    221\u001b[0m         \u001b[1;32mwith\u001b[0m \u001b[0mconfig_context\u001b[0m\u001b[1;33m(\u001b[0m\u001b[1;33m**\u001b[0m\u001b[0mself\u001b[0m\u001b[1;33m.\u001b[0m\u001b[0mconfig\u001b[0m\u001b[1;33m)\u001b[0m\u001b[1;33m:\u001b[0m\u001b[1;33m\u001b[0m\u001b[1;33m\u001b[0m\u001b[0m\n\u001b[1;32m--> 222\u001b[1;33m             \u001b[1;32mreturn\u001b[0m \u001b[0mself\u001b[0m\u001b[1;33m.\u001b[0m\u001b[0mfunction\u001b[0m\u001b[1;33m(\u001b[0m\u001b[1;33m*\u001b[0m\u001b[0margs\u001b[0m\u001b[1;33m,\u001b[0m \u001b[1;33m**\u001b[0m\u001b[0mkwargs\u001b[0m\u001b[1;33m)\u001b[0m\u001b[1;33m\u001b[0m\u001b[1;33m\u001b[0m\u001b[0m\n\u001b[0m",
      "\u001b[1;32mC:\\ProgramData\\Anaconda3\\lib\\site-packages\\sklearn\\model_selection\\_validation.py\u001b[0m in \u001b[0;36m_fit_and_score\u001b[1;34m(estimator, X, y, scorer, train, test, verbose, parameters, fit_params, return_train_score, return_parameters, return_n_test_samples, return_times, return_estimator, split_progress, candidate_progress, error_score)\u001b[0m\n\u001b[0;32m    623\u001b[0m \u001b[1;33m\u001b[0m\u001b[0m\n\u001b[0;32m    624\u001b[0m         \u001b[0mfit_time\u001b[0m \u001b[1;33m=\u001b[0m \u001b[0mtime\u001b[0m\u001b[1;33m.\u001b[0m\u001b[0mtime\u001b[0m\u001b[1;33m(\u001b[0m\u001b[1;33m)\u001b[0m \u001b[1;33m-\u001b[0m \u001b[0mstart_time\u001b[0m\u001b[1;33m\u001b[0m\u001b[1;33m\u001b[0m\u001b[0m\n\u001b[1;32m--> 625\u001b[1;33m         \u001b[0mtest_scores\u001b[0m \u001b[1;33m=\u001b[0m \u001b[0m_score\u001b[0m\u001b[1;33m(\u001b[0m\u001b[0mestimator\u001b[0m\u001b[1;33m,\u001b[0m \u001b[0mX_test\u001b[0m\u001b[1;33m,\u001b[0m \u001b[0my_test\u001b[0m\u001b[1;33m,\u001b[0m \u001b[0mscorer\u001b[0m\u001b[1;33m,\u001b[0m \u001b[0merror_score\u001b[0m\u001b[1;33m)\u001b[0m\u001b[1;33m\u001b[0m\u001b[1;33m\u001b[0m\u001b[0m\n\u001b[0m\u001b[0;32m    626\u001b[0m         \u001b[0mscore_time\u001b[0m \u001b[1;33m=\u001b[0m \u001b[0mtime\u001b[0m\u001b[1;33m.\u001b[0m\u001b[0mtime\u001b[0m\u001b[1;33m(\u001b[0m\u001b[1;33m)\u001b[0m \u001b[1;33m-\u001b[0m \u001b[0mstart_time\u001b[0m \u001b[1;33m-\u001b[0m \u001b[0mfit_time\u001b[0m\u001b[1;33m\u001b[0m\u001b[1;33m\u001b[0m\u001b[0m\n\u001b[0;32m    627\u001b[0m         \u001b[1;32mif\u001b[0m \u001b[0mreturn_train_score\u001b[0m\u001b[1;33m:\u001b[0m\u001b[1;33m\u001b[0m\u001b[1;33m\u001b[0m\u001b[0m\n",
      "\u001b[1;32mC:\\ProgramData\\Anaconda3\\lib\\site-packages\\sklearn\\model_selection\\_validation.py\u001b[0m in \u001b[0;36m_score\u001b[1;34m(estimator, X_test, y_test, scorer, error_score)\u001b[0m\n\u001b[0;32m    685\u001b[0m             \u001b[0mscores\u001b[0m \u001b[1;33m=\u001b[0m \u001b[0mscorer\u001b[0m\u001b[1;33m(\u001b[0m\u001b[0mestimator\u001b[0m\u001b[1;33m,\u001b[0m \u001b[0mX_test\u001b[0m\u001b[1;33m)\u001b[0m\u001b[1;33m\u001b[0m\u001b[1;33m\u001b[0m\u001b[0m\n\u001b[0;32m    686\u001b[0m         \u001b[1;32melse\u001b[0m\u001b[1;33m:\u001b[0m\u001b[1;33m\u001b[0m\u001b[1;33m\u001b[0m\u001b[0m\n\u001b[1;32m--> 687\u001b[1;33m             \u001b[0mscores\u001b[0m \u001b[1;33m=\u001b[0m \u001b[0mscorer\u001b[0m\u001b[1;33m(\u001b[0m\u001b[0mestimator\u001b[0m\u001b[1;33m,\u001b[0m \u001b[0mX_test\u001b[0m\u001b[1;33m,\u001b[0m \u001b[0my_test\u001b[0m\u001b[1;33m)\u001b[0m\u001b[1;33m\u001b[0m\u001b[1;33m\u001b[0m\u001b[0m\n\u001b[0m\u001b[0;32m    688\u001b[0m     \u001b[1;32mexcept\u001b[0m \u001b[0mException\u001b[0m\u001b[1;33m:\u001b[0m\u001b[1;33m\u001b[0m\u001b[1;33m\u001b[0m\u001b[0m\n\u001b[0;32m    689\u001b[0m         \u001b[1;32mif\u001b[0m \u001b[0merror_score\u001b[0m \u001b[1;33m==\u001b[0m \u001b[1;34m'raise'\u001b[0m\u001b[1;33m:\u001b[0m\u001b[1;33m\u001b[0m\u001b[1;33m\u001b[0m\u001b[0m\n",
      "\u001b[1;32mC:\\ProgramData\\Anaconda3\\lib\\site-packages\\sklearn\\metrics\\_scorer.py\u001b[0m in \u001b[0;36m__call__\u001b[1;34m(self, estimator, *args, **kwargs)\u001b[0m\n\u001b[0;32m     85\u001b[0m         \u001b[1;32mfor\u001b[0m \u001b[0mname\u001b[0m\u001b[1;33m,\u001b[0m \u001b[0mscorer\u001b[0m \u001b[1;32min\u001b[0m \u001b[0mself\u001b[0m\u001b[1;33m.\u001b[0m\u001b[0m_scorers\u001b[0m\u001b[1;33m.\u001b[0m\u001b[0mitems\u001b[0m\u001b[1;33m(\u001b[0m\u001b[1;33m)\u001b[0m\u001b[1;33m:\u001b[0m\u001b[1;33m\u001b[0m\u001b[1;33m\u001b[0m\u001b[0m\n\u001b[0;32m     86\u001b[0m             \u001b[1;32mif\u001b[0m \u001b[0misinstance\u001b[0m\u001b[1;33m(\u001b[0m\u001b[0mscorer\u001b[0m\u001b[1;33m,\u001b[0m \u001b[0m_BaseScorer\u001b[0m\u001b[1;33m)\u001b[0m\u001b[1;33m:\u001b[0m\u001b[1;33m\u001b[0m\u001b[1;33m\u001b[0m\u001b[0m\n\u001b[1;32m---> 87\u001b[1;33m                 score = scorer._score(cached_call, estimator,\n\u001b[0m\u001b[0;32m     88\u001b[0m                                       *args, **kwargs)\n\u001b[0;32m     89\u001b[0m             \u001b[1;32melse\u001b[0m\u001b[1;33m:\u001b[0m\u001b[1;33m\u001b[0m\u001b[1;33m\u001b[0m\u001b[0m\n",
      "\u001b[1;32mC:\\ProgramData\\Anaconda3\\lib\\site-packages\\sklearn\\metrics\\_scorer.py\u001b[0m in \u001b[0;36m_score\u001b[1;34m(self, method_caller, estimator, X, y_true, sample_weight)\u001b[0m\n\u001b[0;32m    234\u001b[0m         \"\"\"\n\u001b[0;32m    235\u001b[0m \u001b[1;33m\u001b[0m\u001b[0m\n\u001b[1;32m--> 236\u001b[1;33m         \u001b[0my_pred\u001b[0m \u001b[1;33m=\u001b[0m \u001b[0mmethod_caller\u001b[0m\u001b[1;33m(\u001b[0m\u001b[0mestimator\u001b[0m\u001b[1;33m,\u001b[0m \u001b[1;34m\"predict\"\u001b[0m\u001b[1;33m,\u001b[0m \u001b[0mX\u001b[0m\u001b[1;33m)\u001b[0m\u001b[1;33m\u001b[0m\u001b[1;33m\u001b[0m\u001b[0m\n\u001b[0m\u001b[0;32m    237\u001b[0m         \u001b[1;32mif\u001b[0m \u001b[0msample_weight\u001b[0m \u001b[1;32mis\u001b[0m \u001b[1;32mnot\u001b[0m \u001b[1;32mNone\u001b[0m\u001b[1;33m:\u001b[0m\u001b[1;33m\u001b[0m\u001b[1;33m\u001b[0m\u001b[0m\n\u001b[0;32m    238\u001b[0m             return self._sign * self._score_func(y_true, y_pred,\n",
      "\u001b[1;32mC:\\ProgramData\\Anaconda3\\lib\\site-packages\\sklearn\\metrics\\_scorer.py\u001b[0m in \u001b[0;36m_cached_call\u001b[1;34m(cache, estimator, method, *args, **kwargs)\u001b[0m\n\u001b[0;32m     51\u001b[0m     \u001b[1;34m\"\"\"Call estimator with method and args and kwargs.\"\"\"\u001b[0m\u001b[1;33m\u001b[0m\u001b[1;33m\u001b[0m\u001b[0m\n\u001b[0;32m     52\u001b[0m     \u001b[1;32mif\u001b[0m \u001b[0mcache\u001b[0m \u001b[1;32mis\u001b[0m \u001b[1;32mNone\u001b[0m\u001b[1;33m:\u001b[0m\u001b[1;33m\u001b[0m\u001b[1;33m\u001b[0m\u001b[0m\n\u001b[1;32m---> 53\u001b[1;33m         \u001b[1;32mreturn\u001b[0m \u001b[0mgetattr\u001b[0m\u001b[1;33m(\u001b[0m\u001b[0mestimator\u001b[0m\u001b[1;33m,\u001b[0m \u001b[0mmethod\u001b[0m\u001b[1;33m)\u001b[0m\u001b[1;33m(\u001b[0m\u001b[1;33m*\u001b[0m\u001b[0margs\u001b[0m\u001b[1;33m,\u001b[0m \u001b[1;33m**\u001b[0m\u001b[0mkwargs\u001b[0m\u001b[1;33m)\u001b[0m\u001b[1;33m\u001b[0m\u001b[1;33m\u001b[0m\u001b[0m\n\u001b[0m\u001b[0;32m     54\u001b[0m \u001b[1;33m\u001b[0m\u001b[0m\n\u001b[0;32m     55\u001b[0m     \u001b[1;32mtry\u001b[0m\u001b[1;33m:\u001b[0m\u001b[1;33m\u001b[0m\u001b[1;33m\u001b[0m\u001b[0m\n",
      "\u001b[1;32mC:\\ProgramData\\Anaconda3\\lib\\site-packages\\lightgbm\\sklearn.py\u001b[0m in \u001b[0;36mpredict\u001b[1;34m(self, X, raw_score, start_iteration, num_iteration, pred_leaf, pred_contrib, **kwargs)\u001b[0m\n\u001b[0;32m    982\u001b[0m                 pred_leaf=False, pred_contrib=False, **kwargs):\n\u001b[0;32m    983\u001b[0m         \u001b[1;34m\"\"\"Docstring is inherited from the LGBMModel.\"\"\"\u001b[0m\u001b[1;33m\u001b[0m\u001b[1;33m\u001b[0m\u001b[0m\n\u001b[1;32m--> 984\u001b[1;33m         result = self.predict_proba(X, raw_score, start_iteration, num_iteration,\n\u001b[0m\u001b[0;32m    985\u001b[0m                                     pred_leaf, pred_contrib, **kwargs)\n\u001b[0;32m    986\u001b[0m         \u001b[1;32mif\u001b[0m \u001b[0mcallable\u001b[0m\u001b[1;33m(\u001b[0m\u001b[0mself\u001b[0m\u001b[1;33m.\u001b[0m\u001b[0m_objective\u001b[0m\u001b[1;33m)\u001b[0m \u001b[1;32mor\u001b[0m \u001b[0mraw_score\u001b[0m \u001b[1;32mor\u001b[0m \u001b[0mpred_leaf\u001b[0m \u001b[1;32mor\u001b[0m \u001b[0mpred_contrib\u001b[0m\u001b[1;33m:\u001b[0m\u001b[1;33m\u001b[0m\u001b[1;33m\u001b[0m\u001b[0m\n",
      "\u001b[1;32mC:\\ProgramData\\Anaconda3\\lib\\site-packages\\lightgbm\\sklearn.py\u001b[0m in \u001b[0;36mpredict_proba\u001b[1;34m(self, X, raw_score, start_iteration, num_iteration, pred_leaf, pred_contrib, **kwargs)\u001b[0m\n\u001b[0;32m    995\u001b[0m                       pred_leaf=False, pred_contrib=False, **kwargs):\n\u001b[0;32m    996\u001b[0m         \u001b[1;34m\"\"\"Docstring is set after definition, using a template.\"\"\"\u001b[0m\u001b[1;33m\u001b[0m\u001b[1;33m\u001b[0m\u001b[0m\n\u001b[1;32m--> 997\u001b[1;33m         \u001b[0mresult\u001b[0m \u001b[1;33m=\u001b[0m \u001b[0msuper\u001b[0m\u001b[1;33m(\u001b[0m\u001b[1;33m)\u001b[0m\u001b[1;33m.\u001b[0m\u001b[0mpredict\u001b[0m\u001b[1;33m(\u001b[0m\u001b[0mX\u001b[0m\u001b[1;33m,\u001b[0m \u001b[0mraw_score\u001b[0m\u001b[1;33m,\u001b[0m \u001b[0mstart_iteration\u001b[0m\u001b[1;33m,\u001b[0m \u001b[0mnum_iteration\u001b[0m\u001b[1;33m,\u001b[0m \u001b[0mpred_leaf\u001b[0m\u001b[1;33m,\u001b[0m \u001b[0mpred_contrib\u001b[0m\u001b[1;33m,\u001b[0m \u001b[1;33m**\u001b[0m\u001b[0mkwargs\u001b[0m\u001b[1;33m)\u001b[0m\u001b[1;33m\u001b[0m\u001b[1;33m\u001b[0m\u001b[0m\n\u001b[0m\u001b[0;32m    998\u001b[0m         \u001b[1;32mif\u001b[0m \u001b[0mcallable\u001b[0m\u001b[1;33m(\u001b[0m\u001b[0mself\u001b[0m\u001b[1;33m.\u001b[0m\u001b[0m_objective\u001b[0m\u001b[1;33m)\u001b[0m \u001b[1;32mand\u001b[0m \u001b[1;32mnot\u001b[0m \u001b[1;33m(\u001b[0m\u001b[0mraw_score\u001b[0m \u001b[1;32mor\u001b[0m \u001b[0mpred_leaf\u001b[0m \u001b[1;32mor\u001b[0m \u001b[0mpred_contrib\u001b[0m\u001b[1;33m)\u001b[0m\u001b[1;33m:\u001b[0m\u001b[1;33m\u001b[0m\u001b[1;33m\u001b[0m\u001b[0m\n\u001b[0;32m    999\u001b[0m             _log_warning(\"Cannot compute class probabilities or labels \"\n",
      "\u001b[1;32mC:\\ProgramData\\Anaconda3\\lib\\site-packages\\lightgbm\\sklearn.py\u001b[0m in \u001b[0;36mpredict\u001b[1;34m(self, X, raw_score, start_iteration, num_iteration, pred_leaf, pred_contrib, **kwargs)\u001b[0m\n\u001b[0;32m    801\u001b[0m                              \u001b[1;34mf\"match the input. Model n_features_ is {self._n_features} and \"\u001b[0m\u001b[1;33m\u001b[0m\u001b[1;33m\u001b[0m\u001b[0m\n\u001b[0;32m    802\u001b[0m                              f\"input n_features is {n_features}\")\n\u001b[1;32m--> 803\u001b[1;33m         return self._Booster.predict(X, raw_score=raw_score, start_iteration=start_iteration, num_iteration=num_iteration,\n\u001b[0m\u001b[0;32m    804\u001b[0m                                      pred_leaf=pred_leaf, pred_contrib=pred_contrib, **kwargs)\n\u001b[0;32m    805\u001b[0m \u001b[1;33m\u001b[0m\u001b[0m\n",
      "\u001b[1;32mC:\\ProgramData\\Anaconda3\\lib\\site-packages\\lightgbm\\basic.py\u001b[0m in \u001b[0;36mpredict\u001b[1;34m(self, data, start_iteration, num_iteration, raw_score, pred_leaf, pred_contrib, data_has_header, is_reshape, **kwargs)\u001b[0m\n\u001b[0;32m   3536\u001b[0m             \u001b[1;32melse\u001b[0m\u001b[1;33m:\u001b[0m\u001b[1;33m\u001b[0m\u001b[1;33m\u001b[0m\u001b[0m\n\u001b[0;32m   3537\u001b[0m                 \u001b[0mnum_iteration\u001b[0m \u001b[1;33m=\u001b[0m \u001b[1;33m-\u001b[0m\u001b[1;36m1\u001b[0m\u001b[1;33m\u001b[0m\u001b[1;33m\u001b[0m\u001b[0m\n\u001b[1;32m-> 3538\u001b[1;33m         return predictor.predict(data, start_iteration, num_iteration,\n\u001b[0m\u001b[0;32m   3539\u001b[0m                                  \u001b[0mraw_score\u001b[0m\u001b[1;33m,\u001b[0m \u001b[0mpred_leaf\u001b[0m\u001b[1;33m,\u001b[0m \u001b[0mpred_contrib\u001b[0m\u001b[1;33m,\u001b[0m\u001b[1;33m\u001b[0m\u001b[1;33m\u001b[0m\u001b[0m\n\u001b[0;32m   3540\u001b[0m                                  data_has_header, is_reshape)\n",
      "\u001b[1;32mC:\\ProgramData\\Anaconda3\\lib\\site-packages\\lightgbm\\basic.py\u001b[0m in \u001b[0;36mpredict\u001b[1;34m(self, data, start_iteration, num_iteration, raw_score, pred_leaf, pred_contrib, data_has_header, is_reshape)\u001b[0m\n\u001b[0;32m    846\u001b[0m             \u001b[0mpreds\u001b[0m\u001b[1;33m,\u001b[0m \u001b[0mnrow\u001b[0m \u001b[1;33m=\u001b[0m \u001b[0mself\u001b[0m\u001b[1;33m.\u001b[0m\u001b[0m__pred_for_csc\u001b[0m\u001b[1;33m(\u001b[0m\u001b[0mdata\u001b[0m\u001b[1;33m,\u001b[0m \u001b[0mstart_iteration\u001b[0m\u001b[1;33m,\u001b[0m \u001b[0mnum_iteration\u001b[0m\u001b[1;33m,\u001b[0m \u001b[0mpredict_type\u001b[0m\u001b[1;33m)\u001b[0m\u001b[1;33m\u001b[0m\u001b[1;33m\u001b[0m\u001b[0m\n\u001b[0;32m    847\u001b[0m         \u001b[1;32melif\u001b[0m \u001b[0misinstance\u001b[0m\u001b[1;33m(\u001b[0m\u001b[0mdata\u001b[0m\u001b[1;33m,\u001b[0m \u001b[0mnp\u001b[0m\u001b[1;33m.\u001b[0m\u001b[0mndarray\u001b[0m\u001b[1;33m)\u001b[0m\u001b[1;33m:\u001b[0m\u001b[1;33m\u001b[0m\u001b[1;33m\u001b[0m\u001b[0m\n\u001b[1;32m--> 848\u001b[1;33m             \u001b[0mpreds\u001b[0m\u001b[1;33m,\u001b[0m \u001b[0mnrow\u001b[0m \u001b[1;33m=\u001b[0m \u001b[0mself\u001b[0m\u001b[1;33m.\u001b[0m\u001b[0m__pred_for_np2d\u001b[0m\u001b[1;33m(\u001b[0m\u001b[0mdata\u001b[0m\u001b[1;33m,\u001b[0m \u001b[0mstart_iteration\u001b[0m\u001b[1;33m,\u001b[0m \u001b[0mnum_iteration\u001b[0m\u001b[1;33m,\u001b[0m \u001b[0mpredict_type\u001b[0m\u001b[1;33m)\u001b[0m\u001b[1;33m\u001b[0m\u001b[1;33m\u001b[0m\u001b[0m\n\u001b[0m\u001b[0;32m    849\u001b[0m         \u001b[1;32melif\u001b[0m \u001b[0misinstance\u001b[0m\u001b[1;33m(\u001b[0m\u001b[0mdata\u001b[0m\u001b[1;33m,\u001b[0m \u001b[0mlist\u001b[0m\u001b[1;33m)\u001b[0m\u001b[1;33m:\u001b[0m\u001b[1;33m\u001b[0m\u001b[1;33m\u001b[0m\u001b[0m\n\u001b[0;32m    850\u001b[0m             \u001b[1;32mtry\u001b[0m\u001b[1;33m:\u001b[0m\u001b[1;33m\u001b[0m\u001b[1;33m\u001b[0m\u001b[0m\n",
      "\u001b[1;32mC:\\ProgramData\\Anaconda3\\lib\\site-packages\\lightgbm\\basic.py\u001b[0m in \u001b[0;36m__pred_for_np2d\u001b[1;34m(self, mat, start_iteration, num_iteration, predict_type)\u001b[0m\n\u001b[0;32m    936\u001b[0m             \u001b[1;32mreturn\u001b[0m \u001b[0mpreds\u001b[0m\u001b[1;33m,\u001b[0m \u001b[0mnrow\u001b[0m\u001b[1;33m\u001b[0m\u001b[1;33m\u001b[0m\u001b[0m\n\u001b[0;32m    937\u001b[0m         \u001b[1;32melse\u001b[0m\u001b[1;33m:\u001b[0m\u001b[1;33m\u001b[0m\u001b[1;33m\u001b[0m\u001b[0m\n\u001b[1;32m--> 938\u001b[1;33m             \u001b[1;32mreturn\u001b[0m \u001b[0minner_predict\u001b[0m\u001b[1;33m(\u001b[0m\u001b[0mmat\u001b[0m\u001b[1;33m,\u001b[0m \u001b[0mstart_iteration\u001b[0m\u001b[1;33m,\u001b[0m \u001b[0mnum_iteration\u001b[0m\u001b[1;33m,\u001b[0m \u001b[0mpredict_type\u001b[0m\u001b[1;33m)\u001b[0m\u001b[1;33m\u001b[0m\u001b[1;33m\u001b[0m\u001b[0m\n\u001b[0m\u001b[0;32m    939\u001b[0m \u001b[1;33m\u001b[0m\u001b[0m\n\u001b[0;32m    940\u001b[0m     def __create_sparse_native(self, cs, out_shape, out_ptr_indptr, out_ptr_indices, out_ptr_data,\n",
      "\u001b[1;32mC:\\ProgramData\\Anaconda3\\lib\\site-packages\\lightgbm\\basic.py\u001b[0m in \u001b[0;36minner_predict\u001b[1;34m(mat, start_iteration, num_iteration, predict_type, preds)\u001b[0m\n\u001b[0;32m    906\u001b[0m                 \u001b[1;32mraise\u001b[0m \u001b[0mValueError\u001b[0m\u001b[1;33m(\u001b[0m\u001b[1;34m\"Wrong length of pre-allocated predict array\"\u001b[0m\u001b[1;33m)\u001b[0m\u001b[1;33m\u001b[0m\u001b[1;33m\u001b[0m\u001b[0m\n\u001b[0;32m    907\u001b[0m             \u001b[0mout_num_preds\u001b[0m \u001b[1;33m=\u001b[0m \u001b[0mctypes\u001b[0m\u001b[1;33m.\u001b[0m\u001b[0mc_int64\u001b[0m\u001b[1;33m(\u001b[0m\u001b[1;36m0\u001b[0m\u001b[1;33m)\u001b[0m\u001b[1;33m\u001b[0m\u001b[1;33m\u001b[0m\u001b[0m\n\u001b[1;32m--> 908\u001b[1;33m             _safe_call(_LIB.LGBM_BoosterPredictForMat(\n\u001b[0m\u001b[0;32m    909\u001b[0m                 \u001b[0mself\u001b[0m\u001b[1;33m.\u001b[0m\u001b[0mhandle\u001b[0m\u001b[1;33m,\u001b[0m\u001b[1;33m\u001b[0m\u001b[1;33m\u001b[0m\u001b[0m\n\u001b[0;32m    910\u001b[0m                 \u001b[0mptr_data\u001b[0m\u001b[1;33m,\u001b[0m\u001b[1;33m\u001b[0m\u001b[1;33m\u001b[0m\u001b[0m\n",
      "\u001b[1;31mKeyboardInterrupt\u001b[0m: "
     ]
    }
   ],
   "source": [
    "study.optimize(lambda trial: objective_lgbm(trial, X_train_te,y_train), n_trials=1000,  gc_after_trial=True)"
   ]
  },
  {
   "cell_type": "code",
   "execution_count": 60,
   "id": "a7a58fcf",
   "metadata": {},
   "outputs": [],
   "source": [
    "best_params_lgbm = {\n",
    " \"feature_fraction\": 1.0,\n",
    " \"feature_fraction_bynode\": 0.7,\n",
    " \"max_depth\": 250,\n",
    " \"min_child_samples\": 150,\n",
    " \"bagging_fraction\": 0.7,\n",
    " \"num_leaves\": 72,\n",
    " \"learning_rate\": 0.1,\n",
    " \"max_bin\": 1000,\n",
    "    \"objective\" : \"multiclass\",\n",
    "        \"num_class\":3,\n",
    "        \"max_depth\": -1,\n",
    "        \"verbosity\": -1,\n",
    "        \"random_state\": 17\n",
    "}"
   ]
  },
  {
   "cell_type": "code",
   "execution_count": 33,
   "id": "4df38088",
   "metadata": {},
   "outputs": [],
   "source": [
    "LGBM = LGBMClassifier(**best_params_lgbm)"
   ]
  },
  {
   "cell_type": "code",
   "execution_count": 196,
   "id": "b60195c6",
   "metadata": {},
   "outputs": [
    {
     "data": {
      "text/plain": [
       "LGBMClassifier(bagging_fraction=0.7, feature_fraction=1.0,\n",
       "               feature_fraction_bynode=0.7, max_bin=1000, min_child_samples=150,\n",
       "               num_class=3, num_leaves=72, objective='multiclass',\n",
       "               random_state=17, verbosity=-1)"
      ]
     },
     "execution_count": 196,
     "metadata": {},
     "output_type": "execute_result"
    }
   ],
   "source": [
    "LGBM.fit(X_train_te,y_train)"
   ]
  },
  {
   "cell_type": "code",
   "execution_count": 197,
   "id": "3a0e36e7",
   "metadata": {},
   "outputs": [
    {
     "data": {
      "text/plain": [
       "0.7605571650582299"
      ]
     },
     "execution_count": 197,
     "metadata": {},
     "output_type": "execute_result"
    }
   ],
   "source": [
    "y_pred_lgbm_opt=LGBM.predict(X_test_te)\n",
    "f1score_LGBM_opt=f1_score(y_test,y_pred_lgbm_opt,average='micro')\n",
    "f1score_LGBM_opt"
   ]
  },
  {
   "cell_type": "code",
   "execution_count": 61,
   "id": "cba0f7b9",
   "metadata": {},
   "outputs": [],
   "source": [
    "LGBM = LGBMClassifier(**best_params_lgbm)"
   ]
  },
  {
   "cell_type": "code",
   "execution_count": 211,
   "id": "8815590a",
   "metadata": {},
   "outputs": [
    {
     "name": "stdout",
     "output_type": "stream",
     "text": [
      "[LightGBM] [Warning] feature_fraction is set=1.0, colsample_bytree=1.0 will be ignored. Current value: feature_fraction=1.0\n",
      "[LightGBM] [Warning] bagging_fraction is set=0.7, subsample=1.0 will be ignored. Current value: bagging_fraction=0.7\n"
     ]
    },
    {
     "data": {
      "text/plain": [
       "LGBMClassifier(bagging_fraction=0.7, feature_fraction=1.0,\n",
       "               feature_fraction_bynode=0.7, max_bin=1000, min_child_samples=150,\n",
       "               num_class=3, num_leaves=72, objective='multiclass',\n",
       "               random_state=17, verbosity=-1)"
      ]
     },
     "execution_count": 211,
     "metadata": {},
     "output_type": "execute_result"
    }
   ],
   "source": [
    "LGBM.fit(X_train_yj,y_train)"
   ]
  },
  {
   "cell_type": "code",
   "execution_count": 212,
   "id": "da22fd67",
   "metadata": {},
   "outputs": [
    {
     "data": {
      "text/plain": [
       "0.7614589129141804"
      ]
     },
     "execution_count": 212,
     "metadata": {},
     "output_type": "execute_result"
    }
   ],
   "source": [
    "y_pred_lgbm_opt_yj=LGBM.predict(X_test_yj)\n",
    "\n",
    "f1score_LGBM_opt_yj=f1_score(y_test,y_pred_lgbm_opt_yj,average='micro')\n",
    "f1score_LGBM_opt_yj"
   ]
  },
  {
   "cell_type": "markdown",
   "id": "90b4082e",
   "metadata": {},
   "source": [
    "# Scaling"
   ]
  },
  {
   "cell_type": "markdown",
   "id": "b066f17f",
   "metadata": {},
   "source": [
    "# Standardization"
   ]
  },
  {
   "cell_type": "code",
   "execution_count": 10,
   "id": "441cfb0a",
   "metadata": {},
   "outputs": [
    {
     "data": {
      "text/plain": [
       "StandardScaler()"
      ]
     },
     "execution_count": 10,
     "metadata": {},
     "output_type": "execute_result"
    }
   ],
   "source": [
    "scaler= StandardScaler()\n",
    "scaler.fit(X_train_te)\n",
    "\n",
    "X_train_te_names=list(X_train_te)"
   ]
  },
  {
   "cell_type": "code",
   "execution_count": 11,
   "id": "28fd87bf",
   "metadata": {},
   "outputs": [],
   "source": [
    "X_train_te_std=scaler.transform(X_train_te)"
   ]
  },
  {
   "cell_type": "code",
   "execution_count": 112,
   "id": "62287843",
   "metadata": {},
   "outputs": [],
   "source": [
    "X_train_std = X_train_te.copy()\n",
    "\n",
    "for i in range(X_train_te_std.shape[1]):\n",
    "    X_train_std[X_train_te_names[i]] = X_train_te_std[:,i]\n"
   ]
  },
  {
   "cell_type": "code",
   "execution_count": 12,
   "id": "b8dcb645",
   "metadata": {},
   "outputs": [],
   "source": [
    "X_test_te_names=list(X_test_te)\n",
    "\n",
    "X_test_te_std=scaler.transform(X_test_te)"
   ]
  },
  {
   "cell_type": "code",
   "execution_count": 47,
   "id": "6d156b7b",
   "metadata": {
    "scrolled": true
   },
   "outputs": [],
   "source": [
    "X_test_std = X_test_te.copy()\n",
    "\n",
    "for i in range(X_test_te_std.shape[1]):\n",
    "    X_test_std[X_test_te_names[i]] = X_test_te_std[:,i]\n",
    "    "
   ]
  },
  {
   "cell_type": "code",
   "execution_count": 264,
   "id": "c85b5cc6",
   "metadata": {},
   "outputs": [],
   "source": [
    "params = {\n",
    "      \"cat_l2\": 10,\n",
    "      \"cat_smooth\": 10,\n",
    "      \"colsample_bytree\": 0.8,\n",
    "      \"feature_fraction_bynode\":  0.8,\n",
    "      \"learning_rate\": 0.03,\n",
    "      \"max_depth\": 6,\n",
    "      \"min_child_samples\": 63,\n",
    "      \"min_data_per_group\": 100,\n",
    "      \"n_estimators\": 200,\n",
    "      \"num_leaves\": 63,\n",
    "      \"path_smooth\": 0,\n",
    "      \"reg_alpha\":  0.05,\n",
    "      \"reg_lambda\": 0.05,\n",
    "      \"subsample_freq\": 1,\n",
    "      \"subsample\": 0.8,\n",
    "      \"max_bin\": 127,\n",
    "      \"extra_trees\": False,\n",
    "      \"is_unbalance\": False,\n",
    "      \"boosting_type\": 'gbdt',\n",
    "      \"n_jobs\": 1,\n",
    "      \"verbosity\": -1,\n",
    "      \"seed\": 17,\n",
    "}\n"
   ]
  },
  {
   "cell_type": "code",
   "execution_count": 105,
   "id": "20fc345d",
   "metadata": {},
   "outputs": [
    {
     "data": {
      "text/plain": [
       "LGBMClassifier(cat_l2=10, cat_smooth=10, colsample_bytree=0.8,\n",
       "               extra_trees=False, feature_fraction_bynode=0.8,\n",
       "               is_unbalance=True, learning_rate=0.03, max_bin=127, max_depth=6,\n",
       "               min_child_samples=63, min_data_per_group=100, n_estimators=200,\n",
       "               n_jobs=1, num_leaves=63, path_smooth=0, reg_alpha=0.05,\n",
       "               reg_lambda=0.05, seed=17, subsample=0.8, subsample_freq=1,\n",
       "               verbosity=-1)"
      ]
     },
     "execution_count": 105,
     "metadata": {},
     "output_type": "execute_result"
    }
   ],
   "source": [
    "LGBM = LGBMClassifier(**params)\n",
    "LGBM.fit(X_train_std,y_train)\n",
    "\n",
    "y_pred_lgbm_std=LGBM.predict(X_test_std)\n"
   ]
  },
  {
   "cell_type": "code",
   "execution_count": 106,
   "id": "1768e04f",
   "metadata": {},
   "outputs": [
    {
     "data": {
      "text/plain": [
       "0.7589647167168703"
      ]
     },
     "execution_count": 106,
     "metadata": {},
     "output_type": "execute_result"
    }
   ],
   "source": [
    "f1score_LGBM_std=f1_score(y_test,y_pred_lgbm_std,average='micro')\n",
    "f1score_LGBM_std"
   ]
  },
  {
   "cell_type": "markdown",
   "id": "0479c0e8",
   "metadata": {},
   "source": [
    "# MinMax\n"
   ]
  },
  {
   "cell_type": "code",
   "execution_count": 112,
   "id": "24ce4548",
   "metadata": {},
   "outputs": [
    {
     "data": {
      "text/plain": [
       "MinMaxScaler()"
      ]
     },
     "execution_count": 112,
     "metadata": {},
     "output_type": "execute_result"
    }
   ],
   "source": [
    "scaler = MinMaxScaler()\n",
    "scaler.fit(X_train_te)\n",
    "\n",
    "X_train_te_mm=scaler.transform(X_train_te)\n",
    "\n",
    "X_train_mm = X_train_te.copy()\n",
    "\n",
    "for i in range(X_train_te_mm.shape[1]):\n",
    "    X_train_mm[X_train_te_names[i]] = X_train_te_mm[:,i]\n",
    "    "
   ]
  },
  {
   "cell_type": "code",
   "execution_count": 113,
   "id": "44374ae1",
   "metadata": {},
   "outputs": [],
   "source": [
    "X_test_te_mm=scaler.transform(X_test_te)\n",
    "\n",
    "X_test_mm = X_test_te.copy()\n",
    "\n",
    "for i in range(X_test_te_mm.shape[1]):\n",
    "    X_test_mm[X_test_te_names[i]] = X_test_te_mm[:,i]\n",
    "    "
   ]
  },
  {
   "cell_type": "code",
   "execution_count": 114,
   "id": "65233ad5",
   "metadata": {},
   "outputs": [
    {
     "data": {
      "text/plain": [
       "LGBMClassifier(cat_l2=10, cat_smooth=10, colsample_bytree=0.8,\n",
       "               extra_trees=False, feature_fraction_bynode=0.8,\n",
       "               is_unbalance=False, learning_rate=0.03, max_bin=127, max_depth=6,\n",
       "               min_child_samples=63, min_data_per_group=100, n_estimators=200,\n",
       "               n_jobs=1, num_leaves=63, path_smooth=0, reg_alpha=0.05,\n",
       "               reg_lambda=0.05, seed=17, subsample=0.8, subsample_freq=1,\n",
       "               verbosity=-1)"
      ]
     },
     "execution_count": 114,
     "metadata": {},
     "output_type": "execute_result"
    }
   ],
   "source": [
    "LGBM = LGBMClassifier(**params)\n",
    "LGBM.fit(X_train_mm,y_train)\n",
    "\n",
    "y_pred_lgbm_mm=LGBM.predict(X_test_mm)"
   ]
  },
  {
   "cell_type": "code",
   "execution_count": 115,
   "id": "760ad619",
   "metadata": {},
   "outputs": [
    {
     "data": {
      "text/plain": [
       "0.7592716947103855"
      ]
     },
     "execution_count": 115,
     "metadata": {},
     "output_type": "execute_result"
    }
   ],
   "source": [
    "f1score_LGBM_mm=f1_score(y_test,y_pred_lgbm_mm,average='micro')\n",
    "f1score_LGBM_mm"
   ]
  },
  {
   "cell_type": "markdown",
   "id": "6a068dff",
   "metadata": {},
   "source": [
    "# Log"
   ]
  },
  {
   "cell_type": "code",
   "execution_count": 116,
   "id": "e42b84a3",
   "metadata": {},
   "outputs": [
    {
     "data": {
      "text/plain": [
       "FunctionTransformer(func=<ufunc 'log1p'>, validate=True)"
      ]
     },
     "execution_count": 116,
     "metadata": {},
     "output_type": "execute_result"
    }
   ],
   "source": [
    "scaler = FunctionTransformer(np.log1p, validate=True)\n",
    "scaler.fit(X_train_te)\n",
    "\n",
    "X_train_te_log=scaler.transform(X_train_te)\n",
    "\n",
    "X_train_log = X_train_te.copy()\n",
    "\n",
    "for i in range(X_train_te_log.shape[1]):\n",
    "    X_train_log[X_train_te_names[i]] = X_train_te_log[:,i]\n"
   ]
  },
  {
   "cell_type": "code",
   "execution_count": 117,
   "id": "41d6b92b",
   "metadata": {},
   "outputs": [],
   "source": [
    "X_test_te_log=scaler.transform(X_test_te)\n",
    "\n",
    "X_test_log = X_test_te.copy()\n",
    "\n",
    "for i in range(X_test_te_log.shape[1]):\n",
    "    X_test_log[X_test_te_names[i]] = X_test_te_log[:,i]\n",
    "    "
   ]
  },
  {
   "cell_type": "code",
   "execution_count": 118,
   "id": "79272e99",
   "metadata": {},
   "outputs": [
    {
     "data": {
      "text/plain": [
       "LGBMClassifier(cat_l2=10, cat_smooth=10, colsample_bytree=0.8,\n",
       "               extra_trees=False, feature_fraction_bynode=0.8,\n",
       "               is_unbalance=False, learning_rate=0.03, max_bin=127, max_depth=6,\n",
       "               min_child_samples=63, min_data_per_group=100, n_estimators=200,\n",
       "               n_jobs=1, num_leaves=63, path_smooth=0, reg_alpha=0.05,\n",
       "               reg_lambda=0.05, seed=17, subsample=0.8, subsample_freq=1,\n",
       "               verbosity=-1)"
      ]
     },
     "execution_count": 118,
     "metadata": {},
     "output_type": "execute_result"
    }
   ],
   "source": [
    "LGBM = LGBMClassifier(**params)\n",
    "LGBM.fit(X_train_log,y_train)\n",
    "\n",
    "y_pred_lgbm_log=LGBM.predict(X_test_log)"
   ]
  },
  {
   "cell_type": "code",
   "execution_count": 119,
   "id": "454177e9",
   "metadata": {},
   "outputs": [
    {
     "data": {
      "text/plain": [
       "0.7590798334644386"
      ]
     },
     "execution_count": 119,
     "metadata": {},
     "output_type": "execute_result"
    }
   ],
   "source": [
    "f1score_LGBM_log=f1_score(y_test,y_pred_lgbm_log,average='micro')\n",
    "f1score_LGBM_log"
   ]
  },
  {
   "cell_type": "markdown",
   "id": "879d53bc",
   "metadata": {},
   "source": [
    "# Box-Cox"
   ]
  },
  {
   "cell_type": "code",
   "execution_count": 18,
   "id": "a57905e2",
   "metadata": {},
   "outputs": [],
   "source": [
    "scaler = PowerTransformer(method='yeo-johnson')"
   ]
  },
  {
   "cell_type": "code",
   "execution_count": 19,
   "id": "7daef5c2",
   "metadata": {},
   "outputs": [
    {
     "name": "stderr",
     "output_type": "stream",
     "text": [
      "C:\\ProgramData\\Anaconda3\\lib\\site-packages\\numpy\\core\\_methods.py:232: RuntimeWarning: overflow encountered in multiply\n",
      "  x = um.multiply(x, x, out=x)\n",
      "C:\\ProgramData\\Anaconda3\\lib\\site-packages\\numpy\\core\\_methods.py:243: RuntimeWarning: overflow encountered in reduce\n",
      "  ret = umr_sum(x, axis, dtype, out, keepdims=keepdims, where=where)\n"
     ]
    },
    {
     "data": {
      "text/plain": [
       "PowerTransformer()"
      ]
     },
     "execution_count": 19,
     "metadata": {},
     "output_type": "execute_result"
    }
   ],
   "source": [
    "scaler = PowerTransformer(method='yeo-johnson')\n",
    "scaler.fit(X_train_te)\n",
    "\n",
    "X_train_te_yj=scaler.transform(X_train_te)\n",
    "\n",
    "X_train_yj = X_train_te.copy()\n",
    "\n",
    "for i in range(X_train_te_yj.shape[1]):\n",
    "    X_train_yj[X_train_te_names[i]] = X_train_te_yj[:,i]"
   ]
  },
  {
   "cell_type": "code",
   "execution_count": 20,
   "id": "a6c66a17",
   "metadata": {},
   "outputs": [],
   "source": [
    "X_test_te_yj=scaler.transform(X_test_te)\n",
    "\n",
    "X_test_yj = X_test_te.copy()\n",
    "\n",
    "for i in range(X_test_te_yj.shape[1]):\n",
    "    X_test_yj[X_test_te_names[i]] = X_test_te_yj[:,i]"
   ]
  },
  {
   "cell_type": "code",
   "execution_count": 123,
   "id": "17cbb756",
   "metadata": {},
   "outputs": [
    {
     "data": {
      "text/plain": [
       "LGBMClassifier(cat_l2=10, cat_smooth=10, colsample_bytree=0.8,\n",
       "               extra_trees=False, feature_fraction_bynode=0.8,\n",
       "               is_unbalance=False, learning_rate=0.03, max_bin=127, max_depth=6,\n",
       "               min_child_samples=63, min_data_per_group=100, n_estimators=200,\n",
       "               n_jobs=1, num_leaves=63, path_smooth=0, reg_alpha=0.05,\n",
       "               reg_lambda=0.05, seed=17, subsample=0.8, subsample_freq=1,\n",
       "               verbosity=-1)"
      ]
     },
     "execution_count": 123,
     "metadata": {},
     "output_type": "execute_result"
    }
   ],
   "source": [
    "LGBM = LGBMClassifier(**params)\n",
    "LGBM.fit(X_train_yj,y_train)\n",
    "\n",
    "y_pred_lgbm_yj=LGBM.predict(X_test_yj)"
   ]
  },
  {
   "cell_type": "code",
   "execution_count": 124,
   "id": "bed3a09b",
   "metadata": {},
   "outputs": [
    {
     "data": {
      "text/plain": [
       "0.759981581320389"
      ]
     },
     "execution_count": 124,
     "metadata": {},
     "output_type": "execute_result"
    }
   ],
   "source": [
    "f1score_LGBM_yj=f1_score(y_test,y_pred_lgbm_yj,average='micro')\n",
    "f1score_LGBM_yj"
   ]
  },
  {
   "cell_type": "code",
   "execution_count": 92,
   "id": "716ec274",
   "metadata": {},
   "outputs": [
    {
     "data": {
      "text/plain": [
       "StackingClassifier(classifiers=(LGBMClassifier(), LGBMClassifier(),\n",
       "                                LGBMClassifier()),\n",
       "                   meta_classifier=LGBMClassifier(), use_probas=True)"
      ]
     },
     "execution_count": 92,
     "metadata": {},
     "output_type": "execute_result"
    }
   ],
   "source": [
    "stack2.fit(X_train_yj,y_train)"
   ]
  },
  {
   "cell_type": "code",
   "execution_count": 93,
   "id": "830727c8",
   "metadata": {},
   "outputs": [],
   "source": [
    "y_pred_stack_yj=stack2.predict(X_test_yj)"
   ]
  },
  {
   "cell_type": "code",
   "execution_count": 94,
   "id": "1da3ad3a",
   "metadata": {},
   "outputs": [
    {
     "data": {
      "text/plain": [
       "0.7601734425663361"
      ]
     },
     "execution_count": 94,
     "metadata": {},
     "output_type": "execute_result"
    }
   ],
   "source": [
    "f1score_stack_yj=f1_score(y_test,y_pred_stack_yj,average='micro')\n",
    "f1score_stack_yj"
   ]
  },
  {
   "cell_type": "markdown",
   "id": "e8ab652e",
   "metadata": {},
   "source": [
    "## Polynomial Features (Lack of Computational Resources)"
   ]
  },
  {
   "cell_type": "code",
   "execution_count": 34,
   "id": "ae584b41",
   "metadata": {},
   "outputs": [],
   "source": [
    "from sklearn.preprocessing import PolynomialFeatures\n",
    "from pandas import DataFrame"
   ]
  },
  {
   "cell_type": "code",
   "execution_count": 21,
   "id": "56f4882e",
   "metadata": {},
   "outputs": [],
   "source": [
    "trans = PolynomialFeatures(degree=2)\n",
    "\n",
    "X_train_te_trans = trans.fit_transform(X_train_te)"
   ]
  },
  {
   "cell_type": "code",
   "execution_count": 22,
   "id": "94d7201b",
   "metadata": {},
   "outputs": [],
   "source": [
    "X_train_trans = DataFrame(X_train_te_trans)"
   ]
  },
  {
   "cell_type": "code",
   "execution_count": 23,
   "id": "00933ee7",
   "metadata": {},
   "outputs": [],
   "source": [
    "X_test_te_trans = trans.fit_transform(X_test_te)\n",
    "X_test_trans = DataFrame(X_test_te_trans)"
   ]
  },
  {
   "cell_type": "code",
   "execution_count": 25,
   "id": "913b8bef",
   "metadata": {},
   "outputs": [
    {
     "ename": "LightGBMError",
     "evalue": "bad allocation",
     "output_type": "error",
     "traceback": [
      "\u001b[1;31m---------------------------------------------------------------------------\u001b[0m",
      "\u001b[1;31mLightGBMError\u001b[0m                             Traceback (most recent call last)",
      "\u001b[1;32m~\\AppData\\Local\\Temp/ipykernel_27340/84250021.py\u001b[0m in \u001b[0;36m<module>\u001b[1;34m\u001b[0m\n\u001b[0;32m      1\u001b[0m \u001b[0mLGBM\u001b[0m \u001b[1;33m=\u001b[0m \u001b[0mLGBMClassifier\u001b[0m\u001b[1;33m(\u001b[0m\u001b[1;33m**\u001b[0m\u001b[0mparams\u001b[0m\u001b[1;33m)\u001b[0m\u001b[1;33m\u001b[0m\u001b[1;33m\u001b[0m\u001b[0m\n\u001b[1;32m----> 2\u001b[1;33m \u001b[0mLGBM\u001b[0m\u001b[1;33m.\u001b[0m\u001b[0mfit\u001b[0m\u001b[1;33m(\u001b[0m\u001b[0mX_train_trans\u001b[0m\u001b[1;33m,\u001b[0m\u001b[0my_train\u001b[0m\u001b[1;33m)\u001b[0m\u001b[1;33m\u001b[0m\u001b[1;33m\u001b[0m\u001b[0m\n\u001b[0m\u001b[0;32m      3\u001b[0m \u001b[1;33m\u001b[0m\u001b[0m\n\u001b[0;32m      4\u001b[0m \u001b[0my_pred_lgbm_trans\u001b[0m\u001b[1;33m=\u001b[0m\u001b[0mLGBM\u001b[0m\u001b[1;33m.\u001b[0m\u001b[0mpredict\u001b[0m\u001b[1;33m(\u001b[0m\u001b[0mX_test_trans\u001b[0m\u001b[1;33m)\u001b[0m\u001b[1;33m\u001b[0m\u001b[1;33m\u001b[0m\u001b[0m\n",
      "\u001b[1;32mC:\\ProgramData\\Anaconda3\\lib\\site-packages\\lightgbm\\sklearn.py\u001b[0m in \u001b[0;36mfit\u001b[1;34m(self, X, y, sample_weight, init_score, eval_set, eval_names, eval_sample_weight, eval_class_weight, eval_init_score, eval_metric, early_stopping_rounds, verbose, feature_name, categorical_feature, callbacks, init_model)\u001b[0m\n\u001b[0;32m    965\u001b[0m                     \u001b[0mvalid_sets\u001b[0m\u001b[1;33m[\u001b[0m\u001b[0mi\u001b[0m\u001b[1;33m]\u001b[0m \u001b[1;33m=\u001b[0m \u001b[1;33m(\u001b[0m\u001b[0mvalid_x\u001b[0m\u001b[1;33m,\u001b[0m \u001b[0mself\u001b[0m\u001b[1;33m.\u001b[0m\u001b[0m_le\u001b[0m\u001b[1;33m.\u001b[0m\u001b[0mtransform\u001b[0m\u001b[1;33m(\u001b[0m\u001b[0mvalid_y\u001b[0m\u001b[1;33m)\u001b[0m\u001b[1;33m)\u001b[0m\u001b[1;33m\u001b[0m\u001b[1;33m\u001b[0m\u001b[0m\n\u001b[0;32m    966\u001b[0m \u001b[1;33m\u001b[0m\u001b[0m\n\u001b[1;32m--> 967\u001b[1;33m         super().fit(X, _y, sample_weight=sample_weight, init_score=init_score, eval_set=valid_sets,\n\u001b[0m\u001b[0;32m    968\u001b[0m                     \u001b[0meval_names\u001b[0m\u001b[1;33m=\u001b[0m\u001b[0meval_names\u001b[0m\u001b[1;33m,\u001b[0m \u001b[0meval_sample_weight\u001b[0m\u001b[1;33m=\u001b[0m\u001b[0meval_sample_weight\u001b[0m\u001b[1;33m,\u001b[0m\u001b[1;33m\u001b[0m\u001b[1;33m\u001b[0m\u001b[0m\n\u001b[0;32m    969\u001b[0m                     \u001b[0meval_class_weight\u001b[0m\u001b[1;33m=\u001b[0m\u001b[0meval_class_weight\u001b[0m\u001b[1;33m,\u001b[0m \u001b[0meval_init_score\u001b[0m\u001b[1;33m=\u001b[0m\u001b[0meval_init_score\u001b[0m\u001b[1;33m,\u001b[0m\u001b[1;33m\u001b[0m\u001b[1;33m\u001b[0m\u001b[0m\n",
      "\u001b[1;32mC:\\ProgramData\\Anaconda3\\lib\\site-packages\\lightgbm\\sklearn.py\u001b[0m in \u001b[0;36mfit\u001b[1;34m(self, X, y, sample_weight, init_score, group, eval_set, eval_names, eval_sample_weight, eval_class_weight, eval_init_score, eval_group, eval_metric, early_stopping_rounds, verbose, feature_name, categorical_feature, callbacks, init_model)\u001b[0m\n\u001b[0;32m    746\u001b[0m         \u001b[0mcallbacks\u001b[0m\u001b[1;33m.\u001b[0m\u001b[0mappend\u001b[0m\u001b[1;33m(\u001b[0m\u001b[0mrecord_evaluation\u001b[0m\u001b[1;33m(\u001b[0m\u001b[0mevals_result\u001b[0m\u001b[1;33m)\u001b[0m\u001b[1;33m)\u001b[0m\u001b[1;33m\u001b[0m\u001b[1;33m\u001b[0m\u001b[0m\n\u001b[0;32m    747\u001b[0m \u001b[1;33m\u001b[0m\u001b[0m\n\u001b[1;32m--> 748\u001b[1;33m         self._Booster = train(\n\u001b[0m\u001b[0;32m    749\u001b[0m             \u001b[0mparams\u001b[0m\u001b[1;33m=\u001b[0m\u001b[0mparams\u001b[0m\u001b[1;33m,\u001b[0m\u001b[1;33m\u001b[0m\u001b[1;33m\u001b[0m\u001b[0m\n\u001b[0;32m    750\u001b[0m             \u001b[0mtrain_set\u001b[0m\u001b[1;33m=\u001b[0m\u001b[0mtrain_set\u001b[0m\u001b[1;33m,\u001b[0m\u001b[1;33m\u001b[0m\u001b[1;33m\u001b[0m\u001b[0m\n",
      "\u001b[1;32mC:\\ProgramData\\Anaconda3\\lib\\site-packages\\lightgbm\\engine.py\u001b[0m in \u001b[0;36mtrain\u001b[1;34m(params, train_set, num_boost_round, valid_sets, valid_names, fobj, feval, init_model, feature_name, categorical_feature, early_stopping_rounds, evals_result, verbose_eval, learning_rates, keep_training_booster, callbacks)\u001b[0m\n\u001b[0;32m    269\u001b[0m     \u001b[1;31m# construct booster\u001b[0m\u001b[1;33m\u001b[0m\u001b[1;33m\u001b[0m\u001b[0m\n\u001b[0;32m    270\u001b[0m     \u001b[1;32mtry\u001b[0m\u001b[1;33m:\u001b[0m\u001b[1;33m\u001b[0m\u001b[1;33m\u001b[0m\u001b[0m\n\u001b[1;32m--> 271\u001b[1;33m         \u001b[0mbooster\u001b[0m \u001b[1;33m=\u001b[0m \u001b[0mBooster\u001b[0m\u001b[1;33m(\u001b[0m\u001b[0mparams\u001b[0m\u001b[1;33m=\u001b[0m\u001b[0mparams\u001b[0m\u001b[1;33m,\u001b[0m \u001b[0mtrain_set\u001b[0m\u001b[1;33m=\u001b[0m\u001b[0mtrain_set\u001b[0m\u001b[1;33m)\u001b[0m\u001b[1;33m\u001b[0m\u001b[1;33m\u001b[0m\u001b[0m\n\u001b[0m\u001b[0;32m    272\u001b[0m         \u001b[1;32mif\u001b[0m \u001b[0mis_valid_contain_train\u001b[0m\u001b[1;33m:\u001b[0m\u001b[1;33m\u001b[0m\u001b[1;33m\u001b[0m\u001b[0m\n\u001b[0;32m    273\u001b[0m             \u001b[0mbooster\u001b[0m\u001b[1;33m.\u001b[0m\u001b[0mset_train_data_name\u001b[0m\u001b[1;33m(\u001b[0m\u001b[0mtrain_data_name\u001b[0m\u001b[1;33m)\u001b[0m\u001b[1;33m\u001b[0m\u001b[1;33m\u001b[0m\u001b[0m\n",
      "\u001b[1;32mC:\\ProgramData\\Anaconda3\\lib\\site-packages\\lightgbm\\basic.py\u001b[0m in \u001b[0;36m__init__\u001b[1;34m(self, params, train_set, model_file, model_str, silent)\u001b[0m\n\u001b[0;32m   2603\u001b[0m                 )\n\u001b[0;32m   2604\u001b[0m             \u001b[1;31m# construct booster object\u001b[0m\u001b[1;33m\u001b[0m\u001b[1;33m\u001b[0m\u001b[0m\n\u001b[1;32m-> 2605\u001b[1;33m             \u001b[0mtrain_set\u001b[0m\u001b[1;33m.\u001b[0m\u001b[0mconstruct\u001b[0m\u001b[1;33m(\u001b[0m\u001b[1;33m)\u001b[0m\u001b[1;33m\u001b[0m\u001b[1;33m\u001b[0m\u001b[0m\n\u001b[0m\u001b[0;32m   2606\u001b[0m             \u001b[1;31m# copy the parameters from train_set\u001b[0m\u001b[1;33m\u001b[0m\u001b[1;33m\u001b[0m\u001b[0m\n\u001b[0;32m   2607\u001b[0m             \u001b[0mparams\u001b[0m\u001b[1;33m.\u001b[0m\u001b[0mupdate\u001b[0m\u001b[1;33m(\u001b[0m\u001b[0mtrain_set\u001b[0m\u001b[1;33m.\u001b[0m\u001b[0mget_params\u001b[0m\u001b[1;33m(\u001b[0m\u001b[1;33m)\u001b[0m\u001b[1;33m)\u001b[0m\u001b[1;33m\u001b[0m\u001b[1;33m\u001b[0m\u001b[0m\n",
      "\u001b[1;32mC:\\ProgramData\\Anaconda3\\lib\\site-packages\\lightgbm\\basic.py\u001b[0m in \u001b[0;36mconstruct\u001b[1;34m(self)\u001b[0m\n\u001b[0;32m   1813\u001b[0m             \u001b[1;32melse\u001b[0m\u001b[1;33m:\u001b[0m\u001b[1;33m\u001b[0m\u001b[1;33m\u001b[0m\u001b[0m\n\u001b[0;32m   1814\u001b[0m                 \u001b[1;31m# create train\u001b[0m\u001b[1;33m\u001b[0m\u001b[1;33m\u001b[0m\u001b[0m\n\u001b[1;32m-> 1815\u001b[1;33m                 self._lazy_init(self.data, label=self.label,\n\u001b[0m\u001b[0;32m   1816\u001b[0m                                 \u001b[0mweight\u001b[0m\u001b[1;33m=\u001b[0m\u001b[0mself\u001b[0m\u001b[1;33m.\u001b[0m\u001b[0mweight\u001b[0m\u001b[1;33m,\u001b[0m \u001b[0mgroup\u001b[0m\u001b[1;33m=\u001b[0m\u001b[0mself\u001b[0m\u001b[1;33m.\u001b[0m\u001b[0mgroup\u001b[0m\u001b[1;33m,\u001b[0m\u001b[1;33m\u001b[0m\u001b[1;33m\u001b[0m\u001b[0m\n\u001b[0;32m   1817\u001b[0m                                 \u001b[0minit_score\u001b[0m\u001b[1;33m=\u001b[0m\u001b[0mself\u001b[0m\u001b[1;33m.\u001b[0m\u001b[0minit_score\u001b[0m\u001b[1;33m,\u001b[0m \u001b[0mpredictor\u001b[0m\u001b[1;33m=\u001b[0m\u001b[0mself\u001b[0m\u001b[1;33m.\u001b[0m\u001b[0m_predictor\u001b[0m\u001b[1;33m,\u001b[0m\u001b[1;33m\u001b[0m\u001b[1;33m\u001b[0m\u001b[0m\n",
      "\u001b[1;32mC:\\ProgramData\\Anaconda3\\lib\\site-packages\\lightgbm\\basic.py\u001b[0m in \u001b[0;36m_lazy_init\u001b[1;34m(self, data, label, reference, weight, group, init_score, predictor, silent, feature_name, categorical_feature, params)\u001b[0m\n\u001b[0;32m   1536\u001b[0m             \u001b[0mself\u001b[0m\u001b[1;33m.\u001b[0m\u001b[0m__init_from_csc\u001b[0m\u001b[1;33m(\u001b[0m\u001b[0mdata\u001b[0m\u001b[1;33m,\u001b[0m \u001b[0mparams_str\u001b[0m\u001b[1;33m,\u001b[0m \u001b[0mref_dataset\u001b[0m\u001b[1;33m)\u001b[0m\u001b[1;33m\u001b[0m\u001b[1;33m\u001b[0m\u001b[0m\n\u001b[0;32m   1537\u001b[0m         \u001b[1;32melif\u001b[0m \u001b[0misinstance\u001b[0m\u001b[1;33m(\u001b[0m\u001b[0mdata\u001b[0m\u001b[1;33m,\u001b[0m \u001b[0mnp\u001b[0m\u001b[1;33m.\u001b[0m\u001b[0mndarray\u001b[0m\u001b[1;33m)\u001b[0m\u001b[1;33m:\u001b[0m\u001b[1;33m\u001b[0m\u001b[1;33m\u001b[0m\u001b[0m\n\u001b[1;32m-> 1538\u001b[1;33m             \u001b[0mself\u001b[0m\u001b[1;33m.\u001b[0m\u001b[0m__init_from_np2d\u001b[0m\u001b[1;33m(\u001b[0m\u001b[0mdata\u001b[0m\u001b[1;33m,\u001b[0m \u001b[0mparams_str\u001b[0m\u001b[1;33m,\u001b[0m \u001b[0mref_dataset\u001b[0m\u001b[1;33m)\u001b[0m\u001b[1;33m\u001b[0m\u001b[1;33m\u001b[0m\u001b[0m\n\u001b[0m\u001b[0;32m   1539\u001b[0m         \u001b[1;32melif\u001b[0m \u001b[0misinstance\u001b[0m\u001b[1;33m(\u001b[0m\u001b[0mdata\u001b[0m\u001b[1;33m,\u001b[0m \u001b[0mlist\u001b[0m\u001b[1;33m)\u001b[0m \u001b[1;32mand\u001b[0m \u001b[0mlen\u001b[0m\u001b[1;33m(\u001b[0m\u001b[0mdata\u001b[0m\u001b[1;33m)\u001b[0m \u001b[1;33m>\u001b[0m \u001b[1;36m0\u001b[0m\u001b[1;33m:\u001b[0m\u001b[1;33m\u001b[0m\u001b[1;33m\u001b[0m\u001b[0m\n\u001b[0;32m   1540\u001b[0m             \u001b[1;32mif\u001b[0m \u001b[0mall\u001b[0m\u001b[1;33m(\u001b[0m\u001b[0misinstance\u001b[0m\u001b[1;33m(\u001b[0m\u001b[0mx\u001b[0m\u001b[1;33m,\u001b[0m \u001b[0mnp\u001b[0m\u001b[1;33m.\u001b[0m\u001b[0mndarray\u001b[0m\u001b[1;33m)\u001b[0m \u001b[1;32mfor\u001b[0m \u001b[0mx\u001b[0m \u001b[1;32min\u001b[0m \u001b[0mdata\u001b[0m\u001b[1;33m)\u001b[0m\u001b[1;33m:\u001b[0m\u001b[1;33m\u001b[0m\u001b[1;33m\u001b[0m\u001b[0m\n",
      "\u001b[1;32mC:\\ProgramData\\Anaconda3\\lib\\site-packages\\lightgbm\\basic.py\u001b[0m in \u001b[0;36m__init_from_np2d\u001b[1;34m(self, mat, params_str, ref_dataset)\u001b[0m\n\u001b[0;32m   1657\u001b[0m \u001b[1;33m\u001b[0m\u001b[0m\n\u001b[0;32m   1658\u001b[0m         \u001b[0mptr_data\u001b[0m\u001b[1;33m,\u001b[0m \u001b[0mtype_ptr_data\u001b[0m\u001b[1;33m,\u001b[0m \u001b[0m_\u001b[0m \u001b[1;33m=\u001b[0m \u001b[0mc_float_array\u001b[0m\u001b[1;33m(\u001b[0m\u001b[0mdata\u001b[0m\u001b[1;33m)\u001b[0m\u001b[1;33m\u001b[0m\u001b[1;33m\u001b[0m\u001b[0m\n\u001b[1;32m-> 1659\u001b[1;33m         _safe_call(_LIB.LGBM_DatasetCreateFromMat(\n\u001b[0m\u001b[0;32m   1660\u001b[0m             \u001b[0mptr_data\u001b[0m\u001b[1;33m,\u001b[0m\u001b[1;33m\u001b[0m\u001b[1;33m\u001b[0m\u001b[0m\n\u001b[0;32m   1661\u001b[0m             \u001b[0mctypes\u001b[0m\u001b[1;33m.\u001b[0m\u001b[0mc_int\u001b[0m\u001b[1;33m(\u001b[0m\u001b[0mtype_ptr_data\u001b[0m\u001b[1;33m)\u001b[0m\u001b[1;33m,\u001b[0m\u001b[1;33m\u001b[0m\u001b[1;33m\u001b[0m\u001b[0m\n",
      "\u001b[1;32mC:\\ProgramData\\Anaconda3\\lib\\site-packages\\lightgbm\\basic.py\u001b[0m in \u001b[0;36m_safe_call\u001b[1;34m(ret)\u001b[0m\n\u001b[0;32m    123\u001b[0m     \"\"\"\n\u001b[0;32m    124\u001b[0m     \u001b[1;32mif\u001b[0m \u001b[0mret\u001b[0m \u001b[1;33m!=\u001b[0m \u001b[1;36m0\u001b[0m\u001b[1;33m:\u001b[0m\u001b[1;33m\u001b[0m\u001b[1;33m\u001b[0m\u001b[0m\n\u001b[1;32m--> 125\u001b[1;33m         \u001b[1;32mraise\u001b[0m \u001b[0mLightGBMError\u001b[0m\u001b[1;33m(\u001b[0m\u001b[0m_LIB\u001b[0m\u001b[1;33m.\u001b[0m\u001b[0mLGBM_GetLastError\u001b[0m\u001b[1;33m(\u001b[0m\u001b[1;33m)\u001b[0m\u001b[1;33m.\u001b[0m\u001b[0mdecode\u001b[0m\u001b[1;33m(\u001b[0m\u001b[1;34m'utf-8'\u001b[0m\u001b[1;33m)\u001b[0m\u001b[1;33m)\u001b[0m\u001b[1;33m\u001b[0m\u001b[1;33m\u001b[0m\u001b[0m\n\u001b[0m\u001b[0;32m    126\u001b[0m \u001b[1;33m\u001b[0m\u001b[0m\n\u001b[0;32m    127\u001b[0m \u001b[1;33m\u001b[0m\u001b[0m\n",
      "\u001b[1;31mLightGBMError\u001b[0m: bad allocation"
     ]
    }
   ],
   "source": [
    "LGBM = LGBMClassifier(**params)\n",
    "LGBM.fit(X_train_trans,y_train)\n",
    "\n",
    "y_pred_lgbm_trans=LGBM.predict(X_test_trans)"
   ]
  },
  {
   "cell_type": "code",
   "execution_count": 25,
   "id": "86102e6e",
   "metadata": {},
   "outputs": [
    {
     "data": {
      "text/plain": [
       "0.7600775119433627"
      ]
     },
     "execution_count": 25,
     "metadata": {},
     "output_type": "execute_result"
    }
   ],
   "source": [
    "f1score_LGBM_trans=f1_score(y_test,y_pred_lgbm_trans,average='micro')\n",
    "f1score_LGBM_trans"
   ]
  },
  {
   "cell_type": "markdown",
   "id": "fd2263a5",
   "metadata": {},
   "source": [
    "## Autofeat (Lack of Computational Resources)"
   ]
  },
  {
   "cell_type": "code",
   "execution_count": 18,
   "id": "e75d8807",
   "metadata": {},
   "outputs": [
    {
     "name": "stdout",
     "output_type": "stream",
     "text": [
      "Requirement already satisfied: autofeat in c:\\programdata\\anaconda3\\lib\\site-packages (2.0.10)\n",
      "Requirement already satisfied: sympy>=1.7.1 in c:\\programdata\\anaconda3\\lib\\site-packages (from autofeat) (1.9)\n",
      "Requirement already satisfied: joblib in c:\\programdata\\anaconda3\\lib\\site-packages (from autofeat) (1.1.0)\n",
      "Requirement already satisfied: pandas>=0.24.0 in c:\\programdata\\anaconda3\\lib\\site-packages (from autofeat) (1.3.4)\n",
      "Requirement already satisfied: numpy in c:\\programdata\\anaconda3\\lib\\site-packages (from autofeat) (1.20.3)\n",
      "Requirement already satisfied: future in c:\\programdata\\anaconda3\\lib\\site-packages (from autofeat) (0.18.2)\n",
      "Requirement already satisfied: numba in c:\\programdata\\anaconda3\\lib\\site-packages (from autofeat) (0.54.1)\n",
      "Requirement already satisfied: pint in c:\\programdata\\anaconda3\\lib\\site-packages (from autofeat) (0.19.2)\n",
      "Requirement already satisfied: scikit-learn in c:\\programdata\\anaconda3\\lib\\site-packages (from autofeat) (0.24.2)\n",
      "Requirement already satisfied: pytz>=2017.3 in c:\\programdata\\anaconda3\\lib\\site-packages (from pandas>=0.24.0->autofeat) (2021.3)\n",
      "Requirement already satisfied: python-dateutil>=2.7.3 in c:\\programdata\\anaconda3\\lib\\site-packages (from pandas>=0.24.0->autofeat) (2.8.2)\n",
      "Requirement already satisfied: six>=1.5 in c:\\programdata\\anaconda3\\lib\\site-packages (from python-dateutil>=2.7.3->pandas>=0.24.0->autofeat) (1.16.0)\n",
      "Requirement already satisfied: mpmath>=0.19 in c:\\programdata\\anaconda3\\lib\\site-packages (from sympy>=1.7.1->autofeat) (1.2.1)\n",
      "Requirement already satisfied: setuptools in c:\\programdata\\anaconda3\\lib\\site-packages (from numba->autofeat) (58.0.4)\n",
      "Requirement already satisfied: llvmlite<0.38,>=0.37.0rc1 in c:\\programdata\\anaconda3\\lib\\site-packages (from numba->autofeat) (0.37.0)\n",
      "Requirement already satisfied: threadpoolctl>=2.0.0 in c:\\programdata\\anaconda3\\lib\\site-packages (from scikit-learn->autofeat) (2.2.0)\n",
      "Requirement already satisfied: scipy>=0.19.1 in c:\\programdata\\anaconda3\\lib\\site-packages (from scikit-learn->autofeat) (1.7.1)\n"
     ]
    },
    {
     "name": "stderr",
     "output_type": "stream",
     "text": [
      "WARNING: Ignoring invalid distribution -ikit-learn (c:\\programdata\\anaconda3\\lib\\site-packages)\n",
      "WARNING: Ignoring invalid distribution -umpy (c:\\programdata\\anaconda3\\lib\\site-packages)\n",
      "WARNING: Ignoring invalid distribution -ikit-learn (c:\\programdata\\anaconda3\\lib\\site-packages)\n",
      "WARNING: Ignoring invalid distribution - (c:\\programdata\\anaconda3\\lib\\site-packages)\n",
      "WARNING: Ignoring invalid distribution -cikit-learn (c:\\programdata\\anaconda3\\lib\\site-packages)\n",
      "WARNING: Ignoring invalid distribution -andas (c:\\programdata\\anaconda3\\lib\\site-packages)\n",
      "WARNING: Ignoring invalid distribution -ikit-learn (c:\\programdata\\anaconda3\\lib\\site-packages)\n",
      "WARNING: Ignoring invalid distribution -umpy (c:\\programdata\\anaconda3\\lib\\site-packages)\n",
      "WARNING: Ignoring invalid distribution -ikit-learn (c:\\programdata\\anaconda3\\lib\\site-packages)\n",
      "WARNING: Ignoring invalid distribution - (c:\\programdata\\anaconda3\\lib\\site-packages)\n",
      "WARNING: Ignoring invalid distribution -cikit-learn (c:\\programdata\\anaconda3\\lib\\site-packages)\n",
      "WARNING: Ignoring invalid distribution -andas (c:\\programdata\\anaconda3\\lib\\site-packages)\n",
      "WARNING: Ignoring invalid distribution -ikit-learn (c:\\programdata\\anaconda3\\lib\\site-packages)\n",
      "WARNING: Ignoring invalid distribution -umpy (c:\\programdata\\anaconda3\\lib\\site-packages)\n",
      "WARNING: Ignoring invalid distribution -ikit-learn (c:\\programdata\\anaconda3\\lib\\site-packages)\n",
      "WARNING: Ignoring invalid distribution - (c:\\programdata\\anaconda3\\lib\\site-packages)\n",
      "WARNING: Ignoring invalid distribution -cikit-learn (c:\\programdata\\anaconda3\\lib\\site-packages)\n",
      "WARNING: Ignoring invalid distribution -andas (c:\\programdata\\anaconda3\\lib\\site-packages)\n",
      "WARNING: Ignoring invalid distribution -ikit-learn (c:\\programdata\\anaconda3\\lib\\site-packages)\n",
      "WARNING: Ignoring invalid distribution -umpy (c:\\programdata\\anaconda3\\lib\\site-packages)\n",
      "WARNING: Ignoring invalid distribution -ikit-learn (c:\\programdata\\anaconda3\\lib\\site-packages)\n",
      "WARNING: Ignoring invalid distribution - (c:\\programdata\\anaconda3\\lib\\site-packages)\n",
      "WARNING: Ignoring invalid distribution -cikit-learn (c:\\programdata\\anaconda3\\lib\\site-packages)\n",
      "WARNING: Ignoring invalid distribution -andas (c:\\programdata\\anaconda3\\lib\\site-packages)\n",
      "WARNING: Ignoring invalid distribution -ikit-learn (c:\\programdata\\anaconda3\\lib\\site-packages)\n",
      "WARNING: Ignoring invalid distribution -umpy (c:\\programdata\\anaconda3\\lib\\site-packages)\n",
      "WARNING: Ignoring invalid distribution -ikit-learn (c:\\programdata\\anaconda3\\lib\\site-packages)\n",
      "WARNING: Ignoring invalid distribution - (c:\\programdata\\anaconda3\\lib\\site-packages)\n",
      "WARNING: Ignoring invalid distribution -cikit-learn (c:\\programdata\\anaconda3\\lib\\site-packages)\n",
      "WARNING: Ignoring invalid distribution -andas (c:\\programdata\\anaconda3\\lib\\site-packages)\n",
      "WARNING: Ignoring invalid distribution -ikit-learn (c:\\programdata\\anaconda3\\lib\\site-packages)\n",
      "WARNING: Ignoring invalid distribution -umpy (c:\\programdata\\anaconda3\\lib\\site-packages)\n",
      "WARNING: Ignoring invalid distribution -ikit-learn (c:\\programdata\\anaconda3\\lib\\site-packages)\n",
      "WARNING: Ignoring invalid distribution - (c:\\programdata\\anaconda3\\lib\\site-packages)\n",
      "WARNING: Ignoring invalid distribution -cikit-learn (c:\\programdata\\anaconda3\\lib\\site-packages)\n",
      "WARNING: Ignoring invalid distribution -andas (c:\\programdata\\anaconda3\\lib\\site-packages)\n"
     ]
    }
   ],
   "source": [
    "!pip install autofeat"
   ]
  },
  {
   "cell_type": "code",
   "execution_count": 26,
   "id": "31043ff2",
   "metadata": {},
   "outputs": [],
   "source": [
    "from autofeat import AutoFeatClassifier"
   ]
  },
  {
   "cell_type": "code",
   "execution_count": 27,
   "id": "c257ce7f",
   "metadata": {},
   "outputs": [],
   "source": [
    "afc = AutoFeatClassifier()"
   ]
  },
  {
   "cell_type": "code",
   "execution_count": 25,
   "id": "a27251e9",
   "metadata": {},
   "outputs": [
    {
     "ename": "MemoryError",
     "evalue": "Unable to allocate 9.88 GiB for an array with shape (208480, 12720) and data type float32",
     "output_type": "error",
     "traceback": [
      "\u001b[1;31m---------------------------------------------------------------------------\u001b[0m",
      "\u001b[1;31mMemoryError\u001b[0m                               Traceback (most recent call last)",
      "\u001b[1;32m~\\AppData\\Local\\Temp/ipykernel_23180/3567537328.py\u001b[0m in \u001b[0;36m<module>\u001b[1;34m\u001b[0m\n\u001b[1;32m----> 1\u001b[1;33m \u001b[0mdf_Afc\u001b[0m \u001b[1;33m=\u001b[0m \u001b[0mafc\u001b[0m\u001b[1;33m.\u001b[0m\u001b[0mfit_transform\u001b[0m\u001b[1;33m(\u001b[0m\u001b[0mX_train_te\u001b[0m\u001b[1;33m,\u001b[0m \u001b[0my_train\u001b[0m\u001b[1;33m)\u001b[0m\u001b[1;33m\u001b[0m\u001b[1;33m\u001b[0m\u001b[0m\n\u001b[0m\u001b[0;32m      2\u001b[0m \u001b[0my_pred_afc\u001b[0m \u001b[1;33m=\u001b[0m \u001b[0mafc\u001b[0m\u001b[1;33m.\u001b[0m\u001b[0mpredict\u001b[0m\u001b[1;33m(\u001b[0m\u001b[0mX_test_te\u001b[0m\u001b[1;33m)\u001b[0m\u001b[1;33m\u001b[0m\u001b[1;33m\u001b[0m\u001b[0m\n",
      "\u001b[1;32mC:\\ProgramData\\Anaconda3\\lib\\site-packages\\autofeat\\autofeat.py\u001b[0m in \u001b[0;36mfit_transform\u001b[1;34m(self, X, y)\u001b[0m\n\u001b[0;32m    309\u001b[0m             \u001b[0mtarget_sub\u001b[0m \u001b[1;33m=\u001b[0m \u001b[0mtarget\u001b[0m\u001b[1;33m.\u001b[0m\u001b[0mcopy\u001b[0m\u001b[1;33m(\u001b[0m\u001b[1;33m)\u001b[0m\u001b[1;33m\u001b[0m\u001b[1;33m\u001b[0m\u001b[0m\n\u001b[0;32m    310\u001b[0m         \u001b[1;31m# generate features\u001b[0m\u001b[1;33m\u001b[0m\u001b[1;33m\u001b[0m\u001b[0m\n\u001b[1;32m--> 311\u001b[1;33m         df_subs, self.feature_formulas_ = engineer_features(df_subs, self.feateng_cols_, _parse_units(self.units, verbose=self.verbose),\n\u001b[0m\u001b[0;32m    312\u001b[0m                                                             self.feateng_steps, self.transformations, self.verbose)\n\u001b[0;32m    313\u001b[0m         \u001b[1;31m# select predictive features\u001b[0m\u001b[1;33m\u001b[0m\u001b[1;33m\u001b[0m\u001b[0m\n",
      "\u001b[1;32mC:\\ProgramData\\Anaconda3\\lib\\site-packages\\autofeat\\feateng.py\u001b[0m in \u001b[0;36mengineer_features\u001b[1;34m(df_org, start_features, units, max_steps, transformations, verbose)\u001b[0m\n\u001b[0;32m    355\u001b[0m         \u001b[1;32mif\u001b[0m \u001b[0mverbose\u001b[0m \u001b[1;33m>\u001b[0m \u001b[1;36m0\u001b[0m\u001b[1;33m:\u001b[0m\u001b[1;33m\u001b[0m\u001b[1;33m\u001b[0m\u001b[0m\n\u001b[0;32m    356\u001b[0m             \u001b[0mprint\u001b[0m\u001b[1;33m(\u001b[0m\u001b[1;34m\"[feateng] Step 2: first combination of features\"\u001b[0m\u001b[1;33m)\u001b[0m\u001b[1;33m\u001b[0m\u001b[1;33m\u001b[0m\u001b[0m\n\u001b[1;32m--> 357\u001b[1;33m         \u001b[0mnew_features\u001b[0m\u001b[1;33m,\u001b[0m \u001b[0mtemp_uncorr\u001b[0m \u001b[1;33m=\u001b[0m \u001b[0mget_feature_combinations\u001b[0m\u001b[1;33m(\u001b[0m\u001b[0mlist\u001b[0m\u001b[1;33m(\u001b[0m\u001b[0mcombinations\u001b[0m\u001b[1;33m(\u001b[0m\u001b[0moriginal_features\u001b[0m\u001b[1;33m,\u001b[0m \u001b[1;36m2\u001b[0m\u001b[1;33m)\u001b[0m\u001b[1;33m)\u001b[0m\u001b[1;33m)\u001b[0m\u001b[1;33m\u001b[0m\u001b[1;33m\u001b[0m\u001b[0m\n\u001b[0m\u001b[0;32m    358\u001b[0m         \u001b[0muncorr_features\u001b[0m\u001b[1;33m.\u001b[0m\u001b[0mupdate\u001b[0m\u001b[1;33m(\u001b[0m\u001b[0mtemp_uncorr\u001b[0m\u001b[1;33m)\u001b[0m\u001b[1;33m\u001b[0m\u001b[1;33m\u001b[0m\u001b[0m\n\u001b[0;32m    359\u001b[0m         \u001b[0msteps\u001b[0m \u001b[1;33m+=\u001b[0m \u001b[1;36m1\u001b[0m\u001b[1;33m\u001b[0m\u001b[1;33m\u001b[0m\u001b[0m\n",
      "\u001b[1;32mC:\\ProgramData\\Anaconda3\\lib\\site-packages\\autofeat\\feateng.py\u001b[0m in \u001b[0;36mget_feature_combinations\u001b[1;34m(feature_tuples)\u001b[0m\n\u001b[0;32m    308\u001b[0m         \u001b[0muncorr_features\u001b[0m \u001b[1;33m=\u001b[0m \u001b[0mset\u001b[0m\u001b[1;33m(\u001b[0m\u001b[1;33m)\u001b[0m\u001b[1;33m\u001b[0m\u001b[1;33m\u001b[0m\u001b[0m\n\u001b[0;32m    309\u001b[0m         \u001b[1;31m# store all new features in a preallocated numpy array before adding it to the dataframe\u001b[0m\u001b[1;33m\u001b[0m\u001b[1;33m\u001b[0m\u001b[0m\n\u001b[1;32m--> 310\u001b[1;33m         \u001b[0mfeat_array\u001b[0m \u001b[1;33m=\u001b[0m \u001b[0mnp\u001b[0m\u001b[1;33m.\u001b[0m\u001b[0mzeros\u001b[0m\u001b[1;33m(\u001b[0m\u001b[1;33m(\u001b[0m\u001b[0mdf\u001b[0m\u001b[1;33m.\u001b[0m\u001b[0mshape\u001b[0m\u001b[1;33m[\u001b[0m\u001b[1;36m0\u001b[0m\u001b[1;33m]\u001b[0m\u001b[1;33m,\u001b[0m \u001b[0mlen\u001b[0m\u001b[1;33m(\u001b[0m\u001b[0mfeature_tuples\u001b[0m\u001b[1;33m)\u001b[0m \u001b[1;33m*\u001b[0m \u001b[0mlen\u001b[0m\u001b[1;33m(\u001b[0m\u001b[0mcombinations\u001b[0m\u001b[1;33m)\u001b[0m\u001b[1;33m)\u001b[0m\u001b[1;33m,\u001b[0m \u001b[0mdtype\u001b[0m\u001b[1;33m=\u001b[0m\u001b[0mnp\u001b[0m\u001b[1;33m.\u001b[0m\u001b[0mfloat32\u001b[0m\u001b[1;33m)\u001b[0m\u001b[1;33m\u001b[0m\u001b[1;33m\u001b[0m\u001b[0m\n\u001b[0m\u001b[0;32m    311\u001b[0m         \u001b[1;32mfor\u001b[0m \u001b[0mi\u001b[0m\u001b[1;33m,\u001b[0m \u001b[1;33m(\u001b[0m\u001b[0mfeat1\u001b[0m\u001b[1;33m,\u001b[0m \u001b[0mfeat2\u001b[0m\u001b[1;33m)\u001b[0m \u001b[1;32min\u001b[0m \u001b[0menumerate\u001b[0m\u001b[1;33m(\u001b[0m\u001b[0mfeature_tuples\u001b[0m\u001b[1;33m)\u001b[0m\u001b[1;33m:\u001b[0m\u001b[1;33m\u001b[0m\u001b[1;33m\u001b[0m\u001b[0m\n\u001b[0;32m    312\u001b[0m             \u001b[1;32mif\u001b[0m \u001b[0mverbose\u001b[0m \u001b[1;32mand\u001b[0m \u001b[1;32mnot\u001b[0m \u001b[0mi\u001b[0m \u001b[1;33m%\u001b[0m \u001b[1;36m100\u001b[0m\u001b[1;33m:\u001b[0m\u001b[1;33m\u001b[0m\u001b[1;33m\u001b[0m\u001b[0m\n",
      "\u001b[1;31mMemoryError\u001b[0m: Unable to allocate 9.88 GiB for an array with shape (208480, 12720) and data type float32"
     ]
    }
   ],
   "source": [
    "df_Afc = afc.fit_transform(X_train_te, y_train)\n",
    "y_pred_afc = afc.predict(X_test_te)"
   ]
  },
  {
   "cell_type": "code",
   "execution_count": 27,
   "id": "291de5af",
   "metadata": {},
   "outputs": [
    {
     "name": "stdout",
     "output_type": "stream",
     "text": [
      "[featsel] Scaling data...done.\n",
      "[featsel] Feature selection run 1/5\n",
      "[featsel] Feature selection run 2/5\n",
      "[featsel] Feature selection run 3/5\n",
      "[featsel] Feature selection run 4/5\n",
      "[featsel] Feature selection run 5/5\n",
      "[featsel] 34 features after 5 feature selection runs\n",
      "[featsel] 33 features after correlation filtering\n",
      "[featsel] 33 features after noise filtering\n"
     ]
    }
   ],
   "source": [
    "from autofeat import FeatureSelector\n",
    "fsel = FeatureSelector(verbose=1)\n",
    "new_X = fsel.fit_transform(X_train_te, y_train)"
   ]
  },
  {
   "cell_type": "code",
   "execution_count": 24,
   "id": "bd0180e0",
   "metadata": {},
   "outputs": [
    {
     "name": "stdout",
     "output_type": "stream",
     "text": [
      "[featsel] Scaling data...done.\n",
      "[featsel] Feature selection run 1/5\n"
     ]
    },
    {
     "ename": "ValueError",
     "evalue": "Input contains NaN, infinity or a value too large for dtype('float32').",
     "output_type": "error",
     "traceback": [
      "\u001b[1;31m---------------------------------------------------------------------------\u001b[0m",
      "\u001b[1;31mValueError\u001b[0m                                Traceback (most recent call last)",
      "\u001b[1;32mC:\\ProgramData\\Anaconda3\\lib\\site-packages\\autofeat\\featsel.py\u001b[0m in \u001b[0;36m_select_features_1run\u001b[1;34m(df, target, problem_type, verbose)\u001b[0m\n\u001b[0;32m    112\u001b[0m         \u001b[1;32mtry\u001b[0m\u001b[1;33m:\u001b[0m\u001b[1;33m\u001b[0m\u001b[1;33m\u001b[0m\u001b[0m\n\u001b[1;32m--> 113\u001b[1;33m             \u001b[0mmodel\u001b[0m\u001b[1;33m.\u001b[0m\u001b[0mfit\u001b[0m\u001b[1;33m(\u001b[0m\u001b[0mdf\u001b[0m\u001b[1;33m,\u001b[0m \u001b[0mtarget\u001b[0m\u001b[1;33m)\u001b[0m\u001b[1;33m\u001b[0m\u001b[1;33m\u001b[0m\u001b[0m\n\u001b[0m\u001b[0;32m    114\u001b[0m         \u001b[1;32mexcept\u001b[0m \u001b[0mValueError\u001b[0m\u001b[1;33m:\u001b[0m\u001b[1;33m\u001b[0m\u001b[1;33m\u001b[0m\u001b[0m\n",
      "\u001b[1;32mC:\\ProgramData\\Anaconda3\\lib\\site-packages\\sklearn\\linear_model\\_least_angle.py\u001b[0m in \u001b[0;36mfit\u001b[1;34m(self, X, y)\u001b[0m\n\u001b[0;32m   1470\u001b[0m         \"\"\"\n\u001b[1;32m-> 1471\u001b[1;33m         \u001b[0mX\u001b[0m\u001b[1;33m,\u001b[0m \u001b[0my\u001b[0m \u001b[1;33m=\u001b[0m \u001b[0mself\u001b[0m\u001b[1;33m.\u001b[0m\u001b[0m_validate_data\u001b[0m\u001b[1;33m(\u001b[0m\u001b[0mX\u001b[0m\u001b[1;33m,\u001b[0m \u001b[0my\u001b[0m\u001b[1;33m,\u001b[0m \u001b[0my_numeric\u001b[0m\u001b[1;33m=\u001b[0m\u001b[1;32mTrue\u001b[0m\u001b[1;33m)\u001b[0m\u001b[1;33m\u001b[0m\u001b[1;33m\u001b[0m\u001b[0m\n\u001b[0m\u001b[0;32m   1472\u001b[0m         \u001b[0mX\u001b[0m \u001b[1;33m=\u001b[0m \u001b[0mas_float_array\u001b[0m\u001b[1;33m(\u001b[0m\u001b[0mX\u001b[0m\u001b[1;33m,\u001b[0m \u001b[0mcopy\u001b[0m\u001b[1;33m=\u001b[0m\u001b[0mself\u001b[0m\u001b[1;33m.\u001b[0m\u001b[0mcopy_X\u001b[0m\u001b[1;33m)\u001b[0m\u001b[1;33m\u001b[0m\u001b[1;33m\u001b[0m\u001b[0m\n",
      "\u001b[1;32mC:\\ProgramData\\Anaconda3\\lib\\site-packages\\sklearn\\base.py\u001b[0m in \u001b[0;36m_validate_data\u001b[1;34m(self, X, y, reset, validate_separately, **check_params)\u001b[0m\n\u001b[0;32m    432\u001b[0m             \u001b[1;32melse\u001b[0m\u001b[1;33m:\u001b[0m\u001b[1;33m\u001b[0m\u001b[1;33m\u001b[0m\u001b[0m\n\u001b[1;32m--> 433\u001b[1;33m                 \u001b[0mX\u001b[0m\u001b[1;33m,\u001b[0m \u001b[0my\u001b[0m \u001b[1;33m=\u001b[0m \u001b[0mcheck_X_y\u001b[0m\u001b[1;33m(\u001b[0m\u001b[0mX\u001b[0m\u001b[1;33m,\u001b[0m \u001b[0my\u001b[0m\u001b[1;33m,\u001b[0m \u001b[1;33m**\u001b[0m\u001b[0mcheck_params\u001b[0m\u001b[1;33m)\u001b[0m\u001b[1;33m\u001b[0m\u001b[1;33m\u001b[0m\u001b[0m\n\u001b[0m\u001b[0;32m    434\u001b[0m             \u001b[0mout\u001b[0m \u001b[1;33m=\u001b[0m \u001b[0mX\u001b[0m\u001b[1;33m,\u001b[0m \u001b[0my\u001b[0m\u001b[1;33m\u001b[0m\u001b[1;33m\u001b[0m\u001b[0m\n",
      "\u001b[1;32mC:\\ProgramData\\Anaconda3\\lib\\site-packages\\sklearn\\utils\\validation.py\u001b[0m in \u001b[0;36minner_f\u001b[1;34m(*args, **kwargs)\u001b[0m\n\u001b[0;32m     62\u001b[0m             \u001b[1;32mif\u001b[0m \u001b[0mextra_args\u001b[0m \u001b[1;33m<=\u001b[0m \u001b[1;36m0\u001b[0m\u001b[1;33m:\u001b[0m\u001b[1;33m\u001b[0m\u001b[1;33m\u001b[0m\u001b[0m\n\u001b[1;32m---> 63\u001b[1;33m                 \u001b[1;32mreturn\u001b[0m \u001b[0mf\u001b[0m\u001b[1;33m(\u001b[0m\u001b[1;33m*\u001b[0m\u001b[0margs\u001b[0m\u001b[1;33m,\u001b[0m \u001b[1;33m**\u001b[0m\u001b[0mkwargs\u001b[0m\u001b[1;33m)\u001b[0m\u001b[1;33m\u001b[0m\u001b[1;33m\u001b[0m\u001b[0m\n\u001b[0m\u001b[0;32m     64\u001b[0m \u001b[1;33m\u001b[0m\u001b[0m\n",
      "\u001b[1;32mC:\\ProgramData\\Anaconda3\\lib\\site-packages\\sklearn\\utils\\validation.py\u001b[0m in \u001b[0;36mcheck_X_y\u001b[1;34m(X, y, accept_sparse, accept_large_sparse, dtype, order, copy, force_all_finite, ensure_2d, allow_nd, multi_output, ensure_min_samples, ensure_min_features, y_numeric, estimator)\u001b[0m\n\u001b[0;32m    870\u001b[0m \u001b[1;33m\u001b[0m\u001b[0m\n\u001b[1;32m--> 871\u001b[1;33m     X = check_array(X, accept_sparse=accept_sparse,\n\u001b[0m\u001b[0;32m    872\u001b[0m                     \u001b[0maccept_large_sparse\u001b[0m\u001b[1;33m=\u001b[0m\u001b[0maccept_large_sparse\u001b[0m\u001b[1;33m,\u001b[0m\u001b[1;33m\u001b[0m\u001b[1;33m\u001b[0m\u001b[0m\n",
      "\u001b[1;32mC:\\ProgramData\\Anaconda3\\lib\\site-packages\\sklearn\\utils\\validation.py\u001b[0m in \u001b[0;36minner_f\u001b[1;34m(*args, **kwargs)\u001b[0m\n\u001b[0;32m     62\u001b[0m             \u001b[1;32mif\u001b[0m \u001b[0mextra_args\u001b[0m \u001b[1;33m<=\u001b[0m \u001b[1;36m0\u001b[0m\u001b[1;33m:\u001b[0m\u001b[1;33m\u001b[0m\u001b[1;33m\u001b[0m\u001b[0m\n\u001b[1;32m---> 63\u001b[1;33m                 \u001b[1;32mreturn\u001b[0m \u001b[0mf\u001b[0m\u001b[1;33m(\u001b[0m\u001b[1;33m*\u001b[0m\u001b[0margs\u001b[0m\u001b[1;33m,\u001b[0m \u001b[1;33m**\u001b[0m\u001b[0mkwargs\u001b[0m\u001b[1;33m)\u001b[0m\u001b[1;33m\u001b[0m\u001b[1;33m\u001b[0m\u001b[0m\n\u001b[0m\u001b[0;32m     64\u001b[0m \u001b[1;33m\u001b[0m\u001b[0m\n",
      "\u001b[1;32mC:\\ProgramData\\Anaconda3\\lib\\site-packages\\sklearn\\utils\\validation.py\u001b[0m in \u001b[0;36mcheck_array\u001b[1;34m(array, accept_sparse, accept_large_sparse, dtype, order, copy, force_all_finite, ensure_2d, allow_nd, ensure_min_samples, ensure_min_features, estimator)\u001b[0m\n\u001b[0;32m    719\u001b[0m         \u001b[1;32mif\u001b[0m \u001b[0mforce_all_finite\u001b[0m\u001b[1;33m:\u001b[0m\u001b[1;33m\u001b[0m\u001b[1;33m\u001b[0m\u001b[0m\n\u001b[1;32m--> 720\u001b[1;33m             _assert_all_finite(array,\n\u001b[0m\u001b[0;32m    721\u001b[0m                                allow_nan=force_all_finite == 'allow-nan')\n",
      "\u001b[1;32mC:\\ProgramData\\Anaconda3\\lib\\site-packages\\sklearn\\utils\\validation.py\u001b[0m in \u001b[0;36m_assert_all_finite\u001b[1;34m(X, allow_nan, msg_dtype)\u001b[0m\n\u001b[0;32m    102\u001b[0m             \u001b[0mtype_err\u001b[0m \u001b[1;33m=\u001b[0m \u001b[1;34m'infinity'\u001b[0m \u001b[1;32mif\u001b[0m \u001b[0mallow_nan\u001b[0m \u001b[1;32melse\u001b[0m \u001b[1;34m'NaN, infinity'\u001b[0m\u001b[1;33m\u001b[0m\u001b[1;33m\u001b[0m\u001b[0m\n\u001b[1;32m--> 103\u001b[1;33m             raise ValueError(\n\u001b[0m\u001b[0;32m    104\u001b[0m                     \u001b[0mmsg_err\u001b[0m\u001b[1;33m.\u001b[0m\u001b[0mformat\u001b[0m\u001b[1;33m\u001b[0m\u001b[1;33m\u001b[0m\u001b[0m\n",
      "\u001b[1;31mValueError\u001b[0m: Input contains NaN, infinity or a value too large for dtype('float32').",
      "\nDuring handling of the above exception, another exception occurred:\n",
      "\u001b[1;31mValueError\u001b[0m                                Traceback (most recent call last)",
      "\u001b[1;32m~\\AppData\\Local\\Temp/ipykernel_27340/2627588398.py\u001b[0m in \u001b[0;36m<module>\u001b[1;34m\u001b[0m\n\u001b[0;32m      1\u001b[0m \u001b[1;32mfrom\u001b[0m \u001b[0mautofeat\u001b[0m \u001b[1;32mimport\u001b[0m \u001b[0mFeatureSelector\u001b[0m\u001b[1;33m\u001b[0m\u001b[1;33m\u001b[0m\u001b[0m\n\u001b[0;32m      2\u001b[0m \u001b[0mfsel\u001b[0m \u001b[1;33m=\u001b[0m \u001b[0mFeatureSelector\u001b[0m\u001b[1;33m(\u001b[0m\u001b[0mverbose\u001b[0m\u001b[1;33m=\u001b[0m\u001b[1;36m1\u001b[0m\u001b[1;33m)\u001b[0m\u001b[1;33m\u001b[0m\u001b[1;33m\u001b[0m\u001b[0m\n\u001b[1;32m----> 3\u001b[1;33m \u001b[0mnew_X\u001b[0m \u001b[1;33m=\u001b[0m \u001b[0mfsel\u001b[0m\u001b[1;33m.\u001b[0m\u001b[0mfit_transform\u001b[0m\u001b[1;33m(\u001b[0m\u001b[0mX_train_trans\u001b[0m\u001b[1;33m,\u001b[0m \u001b[0my_train\u001b[0m\u001b[1;33m)\u001b[0m\u001b[1;33m\u001b[0m\u001b[1;33m\u001b[0m\u001b[0m\n\u001b[0m",
      "\u001b[1;32mC:\\ProgramData\\Anaconda3\\lib\\site-packages\\autofeat\\featsel.py\u001b[0m in \u001b[0;36mfit_transform\u001b[1;34m(self, X, y)\u001b[0m\n\u001b[0;32m    366\u001b[0m             \u001b[1;33m-\u001b[0m \u001b[0mnew_X\u001b[0m\u001b[1;33m:\u001b[0m \u001b[0mnew\u001b[0m \u001b[0mpandas\u001b[0m \u001b[0mdataframe\u001b[0m \u001b[1;32mor\u001b[0m \u001b[0mnumpy\u001b[0m \u001b[0marray\u001b[0m \u001b[1;32mwith\u001b[0m \u001b[0monly\u001b[0m \u001b[0mthe\u001b[0m \u001b[0mgood\u001b[0m \u001b[0mfeatures\u001b[0m\u001b[1;33m\u001b[0m\u001b[1;33m\u001b[0m\u001b[0m\n\u001b[0;32m    367\u001b[0m         \"\"\"\n\u001b[1;32m--> 368\u001b[1;33m         \u001b[0mself\u001b[0m\u001b[1;33m.\u001b[0m\u001b[0mfit\u001b[0m\u001b[1;33m(\u001b[0m\u001b[0mX\u001b[0m\u001b[1;33m,\u001b[0m \u001b[0my\u001b[0m\u001b[1;33m)\u001b[0m\u001b[1;33m\u001b[0m\u001b[1;33m\u001b[0m\u001b[0m\n\u001b[0m\u001b[0;32m    369\u001b[0m         \u001b[1;32mreturn\u001b[0m \u001b[0mself\u001b[0m\u001b[1;33m.\u001b[0m\u001b[0mtransform\u001b[0m\u001b[1;33m(\u001b[0m\u001b[0mX\u001b[0m\u001b[1;33m)\u001b[0m\u001b[1;33m\u001b[0m\u001b[1;33m\u001b[0m\u001b[0m\n",
      "\u001b[1;32mC:\\ProgramData\\Anaconda3\\lib\\site-packages\\autofeat\\featsel.py\u001b[0m in \u001b[0;36mfit\u001b[1;34m(self, X, y)\u001b[0m\n\u001b[0;32m    323\u001b[0m         \u001b[0mdf\u001b[0m \u001b[1;33m=\u001b[0m \u001b[0mpd\u001b[0m\u001b[1;33m.\u001b[0m\u001b[0mDataFrame\u001b[0m\u001b[1;33m(\u001b[0m\u001b[0mX\u001b[0m\u001b[1;33m,\u001b[0m \u001b[0mcolumns\u001b[0m\u001b[1;33m=\u001b[0m\u001b[0mcols\u001b[0m\u001b[1;33m)\u001b[0m\u001b[1;33m\u001b[0m\u001b[1;33m\u001b[0m\u001b[0m\n\u001b[0;32m    324\u001b[0m         \u001b[1;31m# do the feature selection\u001b[0m\u001b[1;33m\u001b[0m\u001b[1;33m\u001b[0m\u001b[0m\n\u001b[1;32m--> 325\u001b[1;33m         \u001b[0mself\u001b[0m\u001b[1;33m.\u001b[0m\u001b[0mgood_cols_\u001b[0m \u001b[1;33m=\u001b[0m \u001b[0mselect_features\u001b[0m\u001b[1;33m(\u001b[0m\u001b[0mdf\u001b[0m\u001b[1;33m,\u001b[0m \u001b[0mtarget\u001b[0m\u001b[1;33m,\u001b[0m \u001b[0mself\u001b[0m\u001b[1;33m.\u001b[0m\u001b[0mfeatsel_runs\u001b[0m\u001b[1;33m,\u001b[0m \u001b[0mself\u001b[0m\u001b[1;33m.\u001b[0m\u001b[0mkeep\u001b[0m\u001b[1;33m,\u001b[0m \u001b[0mself\u001b[0m\u001b[1;33m.\u001b[0m\u001b[0mproblem_type\u001b[0m\u001b[1;33m,\u001b[0m \u001b[0mself\u001b[0m\u001b[1;33m.\u001b[0m\u001b[0mn_jobs\u001b[0m\u001b[1;33m,\u001b[0m \u001b[0mself\u001b[0m\u001b[1;33m.\u001b[0m\u001b[0mverbose\u001b[0m\u001b[1;33m)\u001b[0m\u001b[1;33m\u001b[0m\u001b[1;33m\u001b[0m\u001b[0m\n\u001b[0m\u001b[0;32m    326\u001b[0m         \u001b[0mself\u001b[0m\u001b[1;33m.\u001b[0m\u001b[0mn_features_in_\u001b[0m \u001b[1;33m=\u001b[0m \u001b[0mX\u001b[0m\u001b[1;33m.\u001b[0m\u001b[0mshape\u001b[0m\u001b[1;33m[\u001b[0m\u001b[1;36m1\u001b[0m\u001b[1;33m]\u001b[0m\u001b[1;33m\u001b[0m\u001b[1;33m\u001b[0m\u001b[0m\n\u001b[0;32m    327\u001b[0m         \u001b[1;32mreturn\u001b[0m \u001b[0mself\u001b[0m\u001b[1;33m\u001b[0m\u001b[1;33m\u001b[0m\u001b[0m\n",
      "\u001b[1;32mC:\\ProgramData\\Anaconda3\\lib\\site-packages\\autofeat\\featsel.py\u001b[0m in \u001b[0;36mselect_features\u001b[1;34m(df, target, featsel_runs, keep, problem_type, n_jobs, verbose)\u001b[0m\n\u001b[0;32m    226\u001b[0m             \u001b[0mselected_columns\u001b[0m \u001b[1;33m=\u001b[0m \u001b[1;33m[\u001b[0m\u001b[1;33m]\u001b[0m\u001b[1;33m\u001b[0m\u001b[1;33m\u001b[0m\u001b[0m\n\u001b[0;32m    227\u001b[0m             \u001b[1;32mfor\u001b[0m \u001b[0mi\u001b[0m \u001b[1;32min\u001b[0m \u001b[0mrange\u001b[0m\u001b[1;33m(\u001b[0m\u001b[0mfeatsel_runs\u001b[0m\u001b[1;33m)\u001b[0m\u001b[1;33m:\u001b[0m\u001b[1;33m\u001b[0m\u001b[1;33m\u001b[0m\u001b[0m\n\u001b[1;32m--> 228\u001b[1;33m                 \u001b[0mselected_columns\u001b[0m\u001b[1;33m.\u001b[0m\u001b[0mextend\u001b[0m\u001b[1;33m(\u001b[0m\u001b[0mrun_select_features\u001b[0m\u001b[1;33m(\u001b[0m\u001b[0mi\u001b[0m\u001b[1;33m)\u001b[0m\u001b[1;33m)\u001b[0m\u001b[1;33m\u001b[0m\u001b[1;33m\u001b[0m\u001b[0m\n\u001b[0m\u001b[0;32m    229\u001b[0m         \u001b[1;32melse\u001b[0m\u001b[1;33m:\u001b[0m\u001b[1;33m\u001b[0m\u001b[1;33m\u001b[0m\u001b[0m\n\u001b[0;32m    230\u001b[0m             \u001b[1;32mdef\u001b[0m \u001b[0mflatten_lists\u001b[0m\u001b[1;33m(\u001b[0m\u001b[0ml\u001b[0m\u001b[1;33m)\u001b[0m\u001b[1;33m:\u001b[0m\u001b[1;33m\u001b[0m\u001b[1;33m\u001b[0m\u001b[0m\n",
      "\u001b[1;32mC:\\ProgramData\\Anaconda3\\lib\\site-packages\\autofeat\\featsel.py\u001b[0m in \u001b[0;36mrun_select_features\u001b[1;34m(i)\u001b[0m\n\u001b[0;32m    219\u001b[0m         \u001b[0mnp\u001b[0m\u001b[1;33m.\u001b[0m\u001b[0mrandom\u001b[0m\u001b[1;33m.\u001b[0m\u001b[0mseed\u001b[0m\u001b[1;33m(\u001b[0m\u001b[0mi\u001b[0m\u001b[1;33m)\u001b[0m\u001b[1;33m\u001b[0m\u001b[1;33m\u001b[0m\u001b[0m\n\u001b[0;32m    220\u001b[0m         \u001b[0mrand_idx\u001b[0m \u001b[1;33m=\u001b[0m \u001b[0mnp\u001b[0m\u001b[1;33m.\u001b[0m\u001b[0mrandom\u001b[0m\u001b[1;33m.\u001b[0m\u001b[0mpermutation\u001b[0m\u001b[1;33m(\u001b[0m\u001b[0mdf_scaled\u001b[0m\u001b[1;33m.\u001b[0m\u001b[0mindex\u001b[0m\u001b[1;33m)\u001b[0m\u001b[1;33m[\u001b[0m\u001b[1;33m:\u001b[0m\u001b[0mmax\u001b[0m\u001b[1;33m(\u001b[0m\u001b[1;36m10\u001b[0m\u001b[1;33m,\u001b[0m \u001b[0mint\u001b[0m\u001b[1;33m(\u001b[0m\u001b[1;36m0.85\u001b[0m \u001b[1;33m*\u001b[0m \u001b[0mlen\u001b[0m\u001b[1;33m(\u001b[0m\u001b[0mdf_scaled\u001b[0m\u001b[1;33m)\u001b[0m\u001b[1;33m)\u001b[0m\u001b[1;33m)\u001b[0m\u001b[1;33m]\u001b[0m\u001b[1;33m\u001b[0m\u001b[1;33m\u001b[0m\u001b[0m\n\u001b[1;32m--> 221\u001b[1;33m         \u001b[1;32mreturn\u001b[0m \u001b[0m_select_features_1run\u001b[0m\u001b[1;33m(\u001b[0m\u001b[0mdf_scaled\u001b[0m\u001b[1;33m.\u001b[0m\u001b[0miloc\u001b[0m\u001b[1;33m[\u001b[0m\u001b[0mrand_idx\u001b[0m\u001b[1;33m]\u001b[0m\u001b[1;33m,\u001b[0m \u001b[0mtarget_scaled\u001b[0m\u001b[1;33m[\u001b[0m\u001b[0mrand_idx\u001b[0m\u001b[1;33m]\u001b[0m\u001b[1;33m,\u001b[0m \u001b[0mproblem_type\u001b[0m\u001b[1;33m,\u001b[0m \u001b[0mverbose\u001b[0m\u001b[1;33m=\u001b[0m\u001b[0mverbose\u001b[0m\u001b[1;33m-\u001b[0m\u001b[1;36m1\u001b[0m\u001b[1;33m)\u001b[0m\u001b[1;33m\u001b[0m\u001b[1;33m\u001b[0m\u001b[0m\n\u001b[0m\u001b[0;32m    222\u001b[0m \u001b[1;33m\u001b[0m\u001b[0m\n\u001b[0;32m    223\u001b[0m     \u001b[1;32mif\u001b[0m \u001b[0mfeatsel_runs\u001b[0m \u001b[1;33m>=\u001b[0m \u001b[1;36m1\u001b[0m \u001b[1;32mand\u001b[0m \u001b[0mproblem_type\u001b[0m \u001b[1;32min\u001b[0m \u001b[1;33m(\u001b[0m\u001b[1;34m\"regression\"\u001b[0m\u001b[1;33m,\u001b[0m \u001b[1;34m\"classification\"\u001b[0m\u001b[1;33m)\u001b[0m\u001b[1;33m:\u001b[0m\u001b[1;33m\u001b[0m\u001b[1;33m\u001b[0m\u001b[0m\n",
      "\u001b[1;32mC:\\ProgramData\\Anaconda3\\lib\\site-packages\\autofeat\\featsel.py\u001b[0m in \u001b[0;36m_select_features_1run\u001b[1;34m(df, target, problem_type, verbose)\u001b[0m\n\u001b[0;32m    115\u001b[0m             \u001b[1;31m# try once more with shuffled data, if it still doesn't work, give up\u001b[0m\u001b[1;33m\u001b[0m\u001b[1;33m\u001b[0m\u001b[0m\n\u001b[0;32m    116\u001b[0m             \u001b[0mrand_idx\u001b[0m \u001b[1;33m=\u001b[0m \u001b[0mnp\u001b[0m\u001b[1;33m.\u001b[0m\u001b[0mrandom\u001b[0m\u001b[1;33m.\u001b[0m\u001b[0mpermutation\u001b[0m\u001b[1;33m(\u001b[0m\u001b[0mdf\u001b[0m\u001b[1;33m.\u001b[0m\u001b[0mshape\u001b[0m\u001b[1;33m[\u001b[0m\u001b[1;36m0\u001b[0m\u001b[1;33m]\u001b[0m\u001b[1;33m)\u001b[0m\u001b[1;33m\u001b[0m\u001b[1;33m\u001b[0m\u001b[0m\n\u001b[1;32m--> 117\u001b[1;33m             \u001b[0mmodel\u001b[0m\u001b[1;33m.\u001b[0m\u001b[0mfit\u001b[0m\u001b[1;33m(\u001b[0m\u001b[0mdf\u001b[0m\u001b[1;33m.\u001b[0m\u001b[0miloc\u001b[0m\u001b[1;33m[\u001b[0m\u001b[0mrand_idx\u001b[0m\u001b[1;33m]\u001b[0m\u001b[1;33m,\u001b[0m \u001b[0mtarget\u001b[0m\u001b[1;33m[\u001b[0m\u001b[0mrand_idx\u001b[0m\u001b[1;33m]\u001b[0m\u001b[1;33m)\u001b[0m\u001b[1;33m\u001b[0m\u001b[1;33m\u001b[0m\u001b[0m\n\u001b[0m\u001b[0;32m    118\u001b[0m         \u001b[1;31m# model.fit(df, target)\u001b[0m\u001b[1;33m\u001b[0m\u001b[1;33m\u001b[0m\u001b[0m\n\u001b[0;32m    119\u001b[0m     \u001b[1;32mif\u001b[0m \u001b[0mproblem_type\u001b[0m \u001b[1;33m==\u001b[0m \u001b[1;34m\"regression\"\u001b[0m\u001b[1;33m:\u001b[0m\u001b[1;33m\u001b[0m\u001b[1;33m\u001b[0m\u001b[0m\n",
      "\u001b[1;32mC:\\ProgramData\\Anaconda3\\lib\\site-packages\\sklearn\\linear_model\\_least_angle.py\u001b[0m in \u001b[0;36mfit\u001b[1;34m(self, X, y)\u001b[0m\n\u001b[0;32m   1469\u001b[0m             \u001b[0mreturns\u001b[0m \u001b[0man\u001b[0m \u001b[0minstance\u001b[0m \u001b[0mof\u001b[0m \u001b[0mself\u001b[0m\u001b[1;33m.\u001b[0m\u001b[1;33m\u001b[0m\u001b[1;33m\u001b[0m\u001b[0m\n\u001b[0;32m   1470\u001b[0m         \"\"\"\n\u001b[1;32m-> 1471\u001b[1;33m         \u001b[0mX\u001b[0m\u001b[1;33m,\u001b[0m \u001b[0my\u001b[0m \u001b[1;33m=\u001b[0m \u001b[0mself\u001b[0m\u001b[1;33m.\u001b[0m\u001b[0m_validate_data\u001b[0m\u001b[1;33m(\u001b[0m\u001b[0mX\u001b[0m\u001b[1;33m,\u001b[0m \u001b[0my\u001b[0m\u001b[1;33m,\u001b[0m \u001b[0my_numeric\u001b[0m\u001b[1;33m=\u001b[0m\u001b[1;32mTrue\u001b[0m\u001b[1;33m)\u001b[0m\u001b[1;33m\u001b[0m\u001b[1;33m\u001b[0m\u001b[0m\n\u001b[0m\u001b[0;32m   1472\u001b[0m         \u001b[0mX\u001b[0m \u001b[1;33m=\u001b[0m \u001b[0mas_float_array\u001b[0m\u001b[1;33m(\u001b[0m\u001b[0mX\u001b[0m\u001b[1;33m,\u001b[0m \u001b[0mcopy\u001b[0m\u001b[1;33m=\u001b[0m\u001b[0mself\u001b[0m\u001b[1;33m.\u001b[0m\u001b[0mcopy_X\u001b[0m\u001b[1;33m)\u001b[0m\u001b[1;33m\u001b[0m\u001b[1;33m\u001b[0m\u001b[0m\n\u001b[0;32m   1473\u001b[0m         \u001b[0my\u001b[0m \u001b[1;33m=\u001b[0m \u001b[0mas_float_array\u001b[0m\u001b[1;33m(\u001b[0m\u001b[0my\u001b[0m\u001b[1;33m,\u001b[0m \u001b[0mcopy\u001b[0m\u001b[1;33m=\u001b[0m\u001b[0mself\u001b[0m\u001b[1;33m.\u001b[0m\u001b[0mcopy_X\u001b[0m\u001b[1;33m)\u001b[0m\u001b[1;33m\u001b[0m\u001b[1;33m\u001b[0m\u001b[0m\n",
      "\u001b[1;32mC:\\ProgramData\\Anaconda3\\lib\\site-packages\\sklearn\\base.py\u001b[0m in \u001b[0;36m_validate_data\u001b[1;34m(self, X, y, reset, validate_separately, **check_params)\u001b[0m\n\u001b[0;32m    431\u001b[0m                 \u001b[0my\u001b[0m \u001b[1;33m=\u001b[0m \u001b[0mcheck_array\u001b[0m\u001b[1;33m(\u001b[0m\u001b[0my\u001b[0m\u001b[1;33m,\u001b[0m \u001b[1;33m**\u001b[0m\u001b[0mcheck_y_params\u001b[0m\u001b[1;33m)\u001b[0m\u001b[1;33m\u001b[0m\u001b[1;33m\u001b[0m\u001b[0m\n\u001b[0;32m    432\u001b[0m             \u001b[1;32melse\u001b[0m\u001b[1;33m:\u001b[0m\u001b[1;33m\u001b[0m\u001b[1;33m\u001b[0m\u001b[0m\n\u001b[1;32m--> 433\u001b[1;33m                 \u001b[0mX\u001b[0m\u001b[1;33m,\u001b[0m \u001b[0my\u001b[0m \u001b[1;33m=\u001b[0m \u001b[0mcheck_X_y\u001b[0m\u001b[1;33m(\u001b[0m\u001b[0mX\u001b[0m\u001b[1;33m,\u001b[0m \u001b[0my\u001b[0m\u001b[1;33m,\u001b[0m \u001b[1;33m**\u001b[0m\u001b[0mcheck_params\u001b[0m\u001b[1;33m)\u001b[0m\u001b[1;33m\u001b[0m\u001b[1;33m\u001b[0m\u001b[0m\n\u001b[0m\u001b[0;32m    434\u001b[0m             \u001b[0mout\u001b[0m \u001b[1;33m=\u001b[0m \u001b[0mX\u001b[0m\u001b[1;33m,\u001b[0m \u001b[0my\u001b[0m\u001b[1;33m\u001b[0m\u001b[1;33m\u001b[0m\u001b[0m\n\u001b[0;32m    435\u001b[0m \u001b[1;33m\u001b[0m\u001b[0m\n",
      "\u001b[1;32mC:\\ProgramData\\Anaconda3\\lib\\site-packages\\sklearn\\utils\\validation.py\u001b[0m in \u001b[0;36minner_f\u001b[1;34m(*args, **kwargs)\u001b[0m\n\u001b[0;32m     61\u001b[0m             \u001b[0mextra_args\u001b[0m \u001b[1;33m=\u001b[0m \u001b[0mlen\u001b[0m\u001b[1;33m(\u001b[0m\u001b[0margs\u001b[0m\u001b[1;33m)\u001b[0m \u001b[1;33m-\u001b[0m \u001b[0mlen\u001b[0m\u001b[1;33m(\u001b[0m\u001b[0mall_args\u001b[0m\u001b[1;33m)\u001b[0m\u001b[1;33m\u001b[0m\u001b[1;33m\u001b[0m\u001b[0m\n\u001b[0;32m     62\u001b[0m             \u001b[1;32mif\u001b[0m \u001b[0mextra_args\u001b[0m \u001b[1;33m<=\u001b[0m \u001b[1;36m0\u001b[0m\u001b[1;33m:\u001b[0m\u001b[1;33m\u001b[0m\u001b[1;33m\u001b[0m\u001b[0m\n\u001b[1;32m---> 63\u001b[1;33m                 \u001b[1;32mreturn\u001b[0m \u001b[0mf\u001b[0m\u001b[1;33m(\u001b[0m\u001b[1;33m*\u001b[0m\u001b[0margs\u001b[0m\u001b[1;33m,\u001b[0m \u001b[1;33m**\u001b[0m\u001b[0mkwargs\u001b[0m\u001b[1;33m)\u001b[0m\u001b[1;33m\u001b[0m\u001b[1;33m\u001b[0m\u001b[0m\n\u001b[0m\u001b[0;32m     64\u001b[0m \u001b[1;33m\u001b[0m\u001b[0m\n\u001b[0;32m     65\u001b[0m             \u001b[1;31m# extra_args > 0\u001b[0m\u001b[1;33m\u001b[0m\u001b[1;33m\u001b[0m\u001b[0m\n",
      "\u001b[1;32mC:\\ProgramData\\Anaconda3\\lib\\site-packages\\sklearn\\utils\\validation.py\u001b[0m in \u001b[0;36mcheck_X_y\u001b[1;34m(X, y, accept_sparse, accept_large_sparse, dtype, order, copy, force_all_finite, ensure_2d, allow_nd, multi_output, ensure_min_samples, ensure_min_features, y_numeric, estimator)\u001b[0m\n\u001b[0;32m    869\u001b[0m         \u001b[1;32mraise\u001b[0m \u001b[0mValueError\u001b[0m\u001b[1;33m(\u001b[0m\u001b[1;34m\"y cannot be None\"\u001b[0m\u001b[1;33m)\u001b[0m\u001b[1;33m\u001b[0m\u001b[1;33m\u001b[0m\u001b[0m\n\u001b[0;32m    870\u001b[0m \u001b[1;33m\u001b[0m\u001b[0m\n\u001b[1;32m--> 871\u001b[1;33m     X = check_array(X, accept_sparse=accept_sparse,\n\u001b[0m\u001b[0;32m    872\u001b[0m                     \u001b[0maccept_large_sparse\u001b[0m\u001b[1;33m=\u001b[0m\u001b[0maccept_large_sparse\u001b[0m\u001b[1;33m,\u001b[0m\u001b[1;33m\u001b[0m\u001b[1;33m\u001b[0m\u001b[0m\n\u001b[0;32m    873\u001b[0m                     \u001b[0mdtype\u001b[0m\u001b[1;33m=\u001b[0m\u001b[0mdtype\u001b[0m\u001b[1;33m,\u001b[0m \u001b[0morder\u001b[0m\u001b[1;33m=\u001b[0m\u001b[0morder\u001b[0m\u001b[1;33m,\u001b[0m \u001b[0mcopy\u001b[0m\u001b[1;33m=\u001b[0m\u001b[0mcopy\u001b[0m\u001b[1;33m,\u001b[0m\u001b[1;33m\u001b[0m\u001b[1;33m\u001b[0m\u001b[0m\n",
      "\u001b[1;32mC:\\ProgramData\\Anaconda3\\lib\\site-packages\\sklearn\\utils\\validation.py\u001b[0m in \u001b[0;36minner_f\u001b[1;34m(*args, **kwargs)\u001b[0m\n\u001b[0;32m     61\u001b[0m             \u001b[0mextra_args\u001b[0m \u001b[1;33m=\u001b[0m \u001b[0mlen\u001b[0m\u001b[1;33m(\u001b[0m\u001b[0margs\u001b[0m\u001b[1;33m)\u001b[0m \u001b[1;33m-\u001b[0m \u001b[0mlen\u001b[0m\u001b[1;33m(\u001b[0m\u001b[0mall_args\u001b[0m\u001b[1;33m)\u001b[0m\u001b[1;33m\u001b[0m\u001b[1;33m\u001b[0m\u001b[0m\n\u001b[0;32m     62\u001b[0m             \u001b[1;32mif\u001b[0m \u001b[0mextra_args\u001b[0m \u001b[1;33m<=\u001b[0m \u001b[1;36m0\u001b[0m\u001b[1;33m:\u001b[0m\u001b[1;33m\u001b[0m\u001b[1;33m\u001b[0m\u001b[0m\n\u001b[1;32m---> 63\u001b[1;33m                 \u001b[1;32mreturn\u001b[0m \u001b[0mf\u001b[0m\u001b[1;33m(\u001b[0m\u001b[1;33m*\u001b[0m\u001b[0margs\u001b[0m\u001b[1;33m,\u001b[0m \u001b[1;33m**\u001b[0m\u001b[0mkwargs\u001b[0m\u001b[1;33m)\u001b[0m\u001b[1;33m\u001b[0m\u001b[1;33m\u001b[0m\u001b[0m\n\u001b[0m\u001b[0;32m     64\u001b[0m \u001b[1;33m\u001b[0m\u001b[0m\n\u001b[0;32m     65\u001b[0m             \u001b[1;31m# extra_args > 0\u001b[0m\u001b[1;33m\u001b[0m\u001b[1;33m\u001b[0m\u001b[0m\n",
      "\u001b[1;32mC:\\ProgramData\\Anaconda3\\lib\\site-packages\\sklearn\\utils\\validation.py\u001b[0m in \u001b[0;36mcheck_array\u001b[1;34m(array, accept_sparse, accept_large_sparse, dtype, order, copy, force_all_finite, ensure_2d, allow_nd, ensure_min_samples, ensure_min_features, estimator)\u001b[0m\n\u001b[0;32m    718\u001b[0m \u001b[1;33m\u001b[0m\u001b[0m\n\u001b[0;32m    719\u001b[0m         \u001b[1;32mif\u001b[0m \u001b[0mforce_all_finite\u001b[0m\u001b[1;33m:\u001b[0m\u001b[1;33m\u001b[0m\u001b[1;33m\u001b[0m\u001b[0m\n\u001b[1;32m--> 720\u001b[1;33m             _assert_all_finite(array,\n\u001b[0m\u001b[0;32m    721\u001b[0m                                allow_nan=force_all_finite == 'allow-nan')\n\u001b[0;32m    722\u001b[0m \u001b[1;33m\u001b[0m\u001b[0m\n",
      "\u001b[1;32mC:\\ProgramData\\Anaconda3\\lib\\site-packages\\sklearn\\utils\\validation.py\u001b[0m in \u001b[0;36m_assert_all_finite\u001b[1;34m(X, allow_nan, msg_dtype)\u001b[0m\n\u001b[0;32m    101\u001b[0m                 not allow_nan and not np.isfinite(X).all()):\n\u001b[0;32m    102\u001b[0m             \u001b[0mtype_err\u001b[0m \u001b[1;33m=\u001b[0m \u001b[1;34m'infinity'\u001b[0m \u001b[1;32mif\u001b[0m \u001b[0mallow_nan\u001b[0m \u001b[1;32melse\u001b[0m \u001b[1;34m'NaN, infinity'\u001b[0m\u001b[1;33m\u001b[0m\u001b[1;33m\u001b[0m\u001b[0m\n\u001b[1;32m--> 103\u001b[1;33m             raise ValueError(\n\u001b[0m\u001b[0;32m    104\u001b[0m                     \u001b[0mmsg_err\u001b[0m\u001b[1;33m.\u001b[0m\u001b[0mformat\u001b[0m\u001b[1;33m\u001b[0m\u001b[1;33m\u001b[0m\u001b[0m\n\u001b[0;32m    105\u001b[0m                     (type_err,\n",
      "\u001b[1;31mValueError\u001b[0m: Input contains NaN, infinity or a value too large for dtype('float32')."
     ]
    }
   ],
   "source": [
    "from autofeat import FeatureSelector\n",
    "fsel = FeatureSelector(verbose=1)\n",
    "new_X = fsel.fit_transform(X_train_trans, y_train)"
   ]
  },
  {
   "cell_type": "code",
   "execution_count": 28,
   "id": "511d31b5",
   "metadata": {
    "scrolled": true
   },
   "outputs": [],
   "source": [
    "X_train_afe = X_train_te.copy()\n",
    "\n",
    "X_train_afe.drop(columns=['age','has_secondary_use','has_secondary_use_agriculture','has_secondary_use_hotel',\n",
    "                                        'has_secondary_use_school','has_secondary_use_industry','has_secondary_use_health_post',\n",
    "                                       'has_secondary_use_gov_office','has_secondary_use_use_police','land_surface_condition_1'],inplace=True)"
   ]
  },
  {
   "cell_type": "code",
   "execution_count": 29,
   "id": "e5907c2b",
   "metadata": {},
   "outputs": [],
   "source": [
    "X_test_afe = X_test_te.copy()\n",
    "\n",
    "X_test_afe.drop(columns=['age','has_secondary_use','has_secondary_use_agriculture','has_secondary_use_hotel',\n",
    "                                        'has_secondary_use_school','has_secondary_use_industry','has_secondary_use_health_post',\n",
    "                                       'has_secondary_use_gov_office','has_secondary_use_use_police','land_surface_condition_1'],inplace=True)"
   ]
  },
  {
   "cell_type": "code",
   "execution_count": 30,
   "id": "8ca576e2",
   "metadata": {},
   "outputs": [
    {
     "data": {
      "text/plain": [
       "LGBMClassifier(cat_l2=10, cat_smooth=10, colsample_bytree=0.8,\n",
       "               extra_trees=False, feature_fraction_bynode=0.8,\n",
       "               is_unbalance=False, learning_rate=0.03, max_bin=127, max_depth=6,\n",
       "               min_child_samples=63, min_data_per_group=100, n_estimators=200,\n",
       "               n_jobs=1, num_leaves=63, path_smooth=0, reg_alpha=0.05,\n",
       "               reg_lambda=0.05, seed=17, subsample=0.8, subsample_freq=1,\n",
       "               verbosity=-1)"
      ]
     },
     "execution_count": 30,
     "metadata": {},
     "output_type": "execute_result"
    },
    {
     "data": {
      "text/plain": [
       "0.7533623683352201"
      ]
     },
     "execution_count": 30,
     "metadata": {},
     "output_type": "execute_result"
    }
   ],
   "source": [
    "LGBM = LGBMClassifier(**params)\n",
    "\n",
    "LGBM.fit(X_train_afe,y_train)\n",
    "y_pred_lgbm_afe=LGBM.predict(X_test_afe)\n",
    "\n",
    "f1score_LGBM_afe=f1_score(y_test,y_pred_lgbm_afe,average='micro')\n",
    "f1score_LGBM_afe"
   ]
  },
  {
   "cell_type": "markdown",
   "id": "4ae3b3c2",
   "metadata": {},
   "source": [
    "# End of Phase 4"
   ]
  },
  {
   "cell_type": "markdown",
   "id": "32f55593",
   "metadata": {},
   "source": [
    "# Start of Phase 5 (Feature Selection)"
   ]
  },
  {
   "cell_type": "code",
   "execution_count": 55,
   "id": "1825f159",
   "metadata": {},
   "outputs": [
    {
     "name": "stdout",
     "output_type": "stream",
     "text": [
      "[LightGBM] [Warning] feature_fraction is set=1.0, colsample_bytree=1.0 will be ignored. Current value: feature_fraction=1.0\n",
      "[LightGBM] [Warning] bagging_fraction is set=0.7, subsample=1.0 will be ignored. Current value: bagging_fraction=0.7\n"
     ]
    }
   ],
   "source": [
    "LGBM = LGBMClassifier(**best_params_lgbm)\n",
    "\n",
    "sel = RFE(estimator=LGBM,n_features_to_select=30)\n",
    "sel= sel.fit(X_train_yj,y_train)\n",
    "\n",
    "X_train_yj_RFE = sel.transform(X_train_yj)\n",
    "X_test_yj_RFE = sel.transform(X_test_yj)"
   ]
  },
  {
   "cell_type": "code",
   "execution_count": 56,
   "id": "cc2f7f8d",
   "metadata": {},
   "outputs": [
    {
     "data": {
      "text/plain": [
       "LGBMClassifier(bagging_fraction=0.7, feature_fraction=1.0,\n",
       "               feature_fraction_bynode=0.7, max_bin=1000, min_child_samples=150,\n",
       "               num_class=3, num_leaves=72, objective='multiclass',\n",
       "               random_state=17, verbosity=-1)"
      ]
     },
     "execution_count": 56,
     "metadata": {},
     "output_type": "execute_result"
    }
   ],
   "source": [
    "LGBM.fit(X_train_yj_RFE,y_train)\n",
    "y_pred_lgbm_yj_RFE = LGBM.predict(X_test_yj_RFE)"
   ]
  },
  {
   "cell_type": "code",
   "execution_count": 57,
   "id": "edea2bf1",
   "metadata": {},
   "outputs": [
    {
     "data": {
      "text/plain": [
       "0.7601734425663361"
      ]
     },
     "execution_count": 57,
     "metadata": {},
     "output_type": "execute_result"
    }
   ],
   "source": [
    "f1score_LGBM_yj_RFE=f1_score(y_test,y_pred_lgbm_yj_RFE,average='micro')\n",
    "f1score_LGBM_yj_RFE"
   ]
  },
  {
   "cell_type": "code",
   "execution_count": 196,
   "id": "b19021e1",
   "metadata": {},
   "outputs": [
    {
     "data": {
      "text/plain": [
       "235565    2\n",
       "95353     2\n",
       "139666    3\n",
       "179504    3\n",
       "87972     2\n",
       "         ..\n",
       "229782    2\n",
       "243078    2\n",
       "34959     3\n",
       "64753     3\n",
       "207471    2\n",
       "Name: damage_grade, Length: 208480, dtype: int64"
      ]
     },
     "execution_count": 196,
     "metadata": {},
     "output_type": "execute_result"
    }
   ],
   "source": [
    "y_train\n",
    "\n",
    "X_train_yj_RFE,y_train"
   ]
  },
  {
   "cell_type": "code",
   "execution_count": null,
   "id": "16c4c30a",
   "metadata": {},
   "outputs": [],
   "source": [
    "#0.7592141363366014 (RFE LGBM random params)"
   ]
  },
  {
   "cell_type": "markdown",
   "id": "3fe8c948",
   "metadata": {},
   "source": [
    "# Final Phase"
   ]
  },
  {
   "cell_type": "code",
   "execution_count": 82,
   "id": "51da9c31",
   "metadata": {},
   "outputs": [],
   "source": [
    "LGBM = LGBMClassifier(**best_params_lgbm)"
   ]
  },
  {
   "cell_type": "code",
   "execution_count": 109,
   "id": "5933d0d6",
   "metadata": {},
   "outputs": [],
   "source": [
    "pipeline_lgbm= make_pipeline(PowerTransformer(method='yeo-johnson'),\n",
    "                             RFE(LGBM, n_features_to_select=35),\n",
    "                             LGBMClassifier(**best_params_lgbm))"
   ]
  },
  {
   "cell_type": "code",
   "execution_count": 93,
   "id": "e4d97007",
   "metadata": {},
   "outputs": [],
   "source": [
    "param_grid={'rfe__n_features_to_select':[30,35,40]}"
   ]
  },
  {
   "cell_type": "code",
   "execution_count": 94,
   "id": "2bdd6977",
   "metadata": {},
   "outputs": [],
   "source": [
    "search = GridSearchCV(pipeline_lgbm,param_grid,cv=2,n_jobs=3,scoring='f1_micro',return_train_score=True, verbose =2)"
   ]
  },
  {
   "cell_type": "code",
   "execution_count": 95,
   "id": "73a1bb9a",
   "metadata": {},
   "outputs": [
    {
     "name": "stdout",
     "output_type": "stream",
     "text": [
      "Fitting 2 folds for each of 3 candidates, totalling 6 fits\n"
     ]
    },
    {
     "name": "stderr",
     "output_type": "stream",
     "text": [
      "C:\\ProgramData\\Anaconda3\\lib\\site-packages\\numpy\\core\\_methods.py:232: RuntimeWarning: overflow encountered in multiply\n",
      "  x = um.multiply(x, x, out=x)\n",
      "C:\\ProgramData\\Anaconda3\\lib\\site-packages\\numpy\\core\\_methods.py:243: RuntimeWarning: overflow encountered in reduce\n",
      "  ret = umr_sum(x, axis, dtype, out, keepdims=keepdims, where=where)\n"
     ]
    }
   ],
   "source": [
    "search = search.fit(X_train_te,y_train)"
   ]
  },
  {
   "cell_type": "code",
   "execution_count": 96,
   "id": "93b5e462",
   "metadata": {},
   "outputs": [
    {
     "data": {
      "text/plain": [
       "{'rfe__n_features_to_select': 35}"
      ]
     },
     "execution_count": 96,
     "metadata": {},
     "output_type": "execute_result"
    }
   ],
   "source": [
    "search.best_params_"
   ]
  },
  {
   "cell_type": "code",
   "execution_count": 98,
   "id": "8d75777b",
   "metadata": {},
   "outputs": [],
   "source": [
    "y_pred_RFE= search.predict(X_test_te)"
   ]
  },
  {
   "cell_type": "code",
   "execution_count": 100,
   "id": "3c963882",
   "metadata": {},
   "outputs": [
    {
     "data": {
      "text/plain": [
       "0.7607106540549873"
      ]
     },
     "execution_count": 100,
     "metadata": {},
     "output_type": "execute_result"
    }
   ],
   "source": [
    "f1score_RFE=f1_score(y_test,y_pred_RFE,average='micro')\n",
    "f1score_RFE"
   ]
  },
  {
   "cell_type": "markdown",
   "id": "768ed6a6",
   "metadata": {},
   "source": [
    "# Pipeline Iterations\n"
   ]
  },
  {
   "cell_type": "code",
   "execution_count": 150,
   "id": "9df54777",
   "metadata": {},
   "outputs": [],
   "source": [
    "pipeline_lgbm= make_pipeline(RFE(LGBM, n_features_to_select=35),\n",
    "                             LGBMClassifier(**best_params_lgbm))"
   ]
  },
  {
   "cell_type": "code",
   "execution_count": 125,
   "id": "7adf2765",
   "metadata": {},
   "outputs": [],
   "source": [
    "param_grid={'rfe__n_features_to_select':[30,31,32,33,34,35]}"
   ]
  },
  {
   "cell_type": "code",
   "execution_count": 129,
   "id": "91a4734a",
   "metadata": {},
   "outputs": [],
   "source": [
    "search = GridSearchCV(pipeline_lgbm,param_grid,cv=2,n_jobs=3,scoring='f1_micro',return_train_score=True, verbose =2)"
   ]
  },
  {
   "cell_type": "code",
   "execution_count": 130,
   "id": "973d58c5",
   "metadata": {},
   "outputs": [
    {
     "name": "stdout",
     "output_type": "stream",
     "text": [
      "Fitting 2 folds for each of 6 candidates, totalling 12 fits\n",
      "[LightGBM] [Warning] feature_fraction is set=1.0, colsample_bytree=1.0 will be ignored. Current value: feature_fraction=1.0\n",
      "[LightGBM] [Warning] bagging_fraction is set=0.7, subsample=1.0 will be ignored. Current value: bagging_fraction=0.7\n"
     ]
    }
   ],
   "source": [
    "search = search.fit(X_te,df_trainY['damage_grade'])"
   ]
  },
  {
   "cell_type": "code",
   "execution_count": 131,
   "id": "9be33692",
   "metadata": {},
   "outputs": [
    {
     "data": {
      "text/plain": [
       "{'rfe__n_features_to_select': 33}"
      ]
     },
     "execution_count": 131,
     "metadata": {},
     "output_type": "execute_result"
    }
   ],
   "source": [
    "search.best_params_"
   ]
  },
  {
   "cell_type": "code",
   "execution_count": 133,
   "id": "9f2af82c",
   "metadata": {},
   "outputs": [
    {
     "data": {
      "text/plain": [
       "Pipeline(steps=[('rfe',\n",
       "                 RFE(estimator=LGBMClassifier(bagging_fraction=0.7,\n",
       "                                              feature_fraction=1.0,\n",
       "                                              feature_fraction_bynode=0.7,\n",
       "                                              max_bin=1000,\n",
       "                                              min_child_samples=150,\n",
       "                                              num_class=3, num_leaves=72,\n",
       "                                              objective='multiclass',\n",
       "                                              random_state=17, verbosity=-1),\n",
       "                     n_features_to_select=33)),\n",
       "                ('lgbmclassifier',\n",
       "                 LGBMClassifier(bagging_fraction=0.7, feature_fraction=1.0,\n",
       "                                feature_fraction_bynode=0.7, max_bin=1000,\n",
       "                                min_child_samples=150, num_class=3,\n",
       "                                num_leaves=72, objective='multiclass',\n",
       "                                random_state=17, verbosity=-1))])"
      ]
     },
     "execution_count": 133,
     "metadata": {},
     "output_type": "execute_result"
    }
   ],
   "source": [
    "pipeline_lgbm.fit(X_te,df_trainY['damage_grade'])\n",
    "\n",
    "unseen_test_pred9=pipeline_lgbm.predict(final_test_te)\n",
    "submission9 = pd.DataFrame(data=unseen_test_pred9,\n",
    "                            columns=submission_format.columns,\n",
    "                            index=submission_format.index)\n",
    "submission9.to_csv('submission9.csv')"
   ]
  },
  {
   "cell_type": "code",
   "execution_count": 88,
   "id": "d115a9b4",
   "metadata": {},
   "outputs": [],
   "source": [
    "pipeline_lgbm= make_pipeline(RFE(LGBM, n_features_to_select=35),\n",
    "                             LGBMClassifier(**best_params_lgbm))"
   ]
  },
  {
   "cell_type": "code",
   "execution_count": 119,
   "id": "ac8b4871",
   "metadata": {},
   "outputs": [
    {
     "name": "stdout",
     "output_type": "stream",
     "text": [
      "[LightGBM] [Warning] feature_fraction is set=1.0, colsample_bytree=1.0 will be ignored. Current value: feature_fraction=1.0\n",
      "[LightGBM] [Warning] bagging_fraction is set=0.7, subsample=1.0 will be ignored. Current value: bagging_fraction=0.7\n"
     ]
    },
    {
     "data": {
      "text/plain": [
       "Pipeline(steps=[('rfe',\n",
       "                 RFE(estimator=LGBMClassifier(bagging_fraction=0.7,\n",
       "                                              feature_fraction=1.0,\n",
       "                                              feature_fraction_bynode=0.7,\n",
       "                                              max_bin=1000,\n",
       "                                              min_child_samples=150,\n",
       "                                              num_class=3, num_leaves=72,\n",
       "                                              objective='multiclass',\n",
       "                                              random_state=17, verbosity=-1),\n",
       "                     n_features_to_select=35)),\n",
       "                ('lgbmclassifier',\n",
       "                 LGBMClassifier(bagging_fraction=0.7, feature_fraction=1.0,\n",
       "                                feature_fraction_bynode=0.7, max_bin=1000,\n",
       "                                min_child_samples=150, num_class=3,\n",
       "                                num_leaves=72, objective='multiclass',\n",
       "                                random_state=17, verbosity=-1))])"
      ]
     },
     "execution_count": 119,
     "metadata": {},
     "output_type": "execute_result"
    }
   ],
   "source": [
    "pipeline_lgbm.fit(X_te_yj,df_trainY['damage_grade'])"
   ]
  },
  {
   "cell_type": "code",
   "execution_count": null,
   "id": "6c782c7d",
   "metadata": {},
   "outputs": [],
   "source": [
    "unseen_test_pred13=pipeline_lgbm.predict(Xtest_te_yj)\n",
    "submission100 = pd.DataFrame(data=unseen_test_pred13,\n",
    "                            columns=submission_format.columns,\n",
    "                            index=submission_format.index)\n",
    "submission100.to_csv('submission100.csv')"
   ]
  },
  {
   "cell_type": "code",
   "execution_count": 53,
   "id": "1578095c",
   "metadata": {},
   "outputs": [
    {
     "data": {
      "text/plain": [
       "0.7598856506974158"
      ]
     },
     "execution_count": 53,
     "metadata": {},
     "output_type": "execute_result"
    }
   ],
   "source": [
    "0.7598856506974158"
   ]
  },
  {
   "cell_type": "code",
   "execution_count": null,
   "id": "56bf0c5c",
   "metadata": {},
   "outputs": [],
   "source": [
    "unseen_test_pred13=pipeline_lgbm.predict(Xtest_te_yj)\n",
    "submission13 = pd.DataFrame(data=unseen_test_pred13,\n",
    "                            columns=submission_format.columns,\n",
    "                            index=submission_format.index)\n",
    "submission13.to_csv('submission13.csv')"
   ]
  },
  {
   "cell_type": "code",
   "execution_count": 74,
   "id": "b83c97ea",
   "metadata": {},
   "outputs": [
    {
     "data": {
      "text/plain": [
       "LGBMClassifier(bagging_fraction=0.7, feature_fraction=1.0,\n",
       "               feature_fraction_bynode=0.7, max_bin=1000, min_child_samples=150,\n",
       "               num_class=3, num_leaves=72, objective='multiclass',\n",
       "               random_state=17, verbosity=-1)"
      ]
     },
     "execution_count": 74,
     "metadata": {},
     "output_type": "execute_result"
    }
   ],
   "source": [
    "LGBM.fit(X_te_yj,df_trainY['damage_grade'])"
   ]
  },
  {
   "cell_type": "code",
   "execution_count": 81,
   "id": "7bb673db",
   "metadata": {
    "scrolled": true
   },
   "outputs": [
    {
     "data": {
      "text/plain": [
       "<AxesSubplot:>"
      ]
     },
     "execution_count": 81,
     "metadata": {},
     "output_type": "execute_result"
    },
    {
     "data": {
      "image/png": "[encoded data removed]",
      "text/plain": [
       "<Figure size 432x288 with 1 Axes>"
      ]
     },
     "metadata": {
      "needs_background": "light"
     },
     "output_type": "display_data"
    }
   ],
   "source": [
    "(pd.Series(LGBM.feature_importances_, index=X_te_yj.columns)\n",
    "   .nlargest(100)\n",
    "   .plot(kind='bar'))   "
   ]
  },
  {
   "cell_type": "markdown",
   "id": "55eecd02",
   "metadata": {},
   "source": [
    "## one more try"
   ]
  },
  {
   "cell_type": "code",
   "execution_count": 62,
   "id": "9c0e0c0d",
   "metadata": {},
   "outputs": [],
   "source": [
    "bag_lgbm = BaggingClassifier(LGBMClassifier(**best_params_lgbm))"
   ]
  },
  {
   "cell_type": "code",
   "execution_count": 63,
   "id": "f810dcf6",
   "metadata": {},
   "outputs": [
    {
     "name": "stdout",
     "output_type": "stream",
     "text": [
      "[LightGBM] [Warning] feature_fraction is set=1.0, colsample_bytree=1.0 will be ignored. Current value: feature_fraction=1.0\n",
      "[LightGBM] [Warning] bagging_fraction is set=0.7, subsample=1.0 will be ignored. Current value: bagging_fraction=0.7\n"
     ]
    },
    {
     "data": {
      "text/plain": [
       "BaggingClassifier(base_estimator=LGBMClassifier(bagging_fraction=0.7,\n",
       "                                                feature_fraction=1.0,\n",
       "                                                feature_fraction_bynode=0.7,\n",
       "                                                max_bin=1000,\n",
       "                                                min_child_samples=150,\n",
       "                                                num_class=3, num_leaves=72,\n",
       "                                                objective='multiclass',\n",
       "                                                random_state=17, verbosity=-1))"
      ]
     },
     "execution_count": 63,
     "metadata": {},
     "output_type": "execute_result"
    }
   ],
   "source": [
    "bag_lgbm.fit(X_train_te_yj,y_train)"
   ]
  },
  {
   "cell_type": "code",
   "execution_count": 64,
   "id": "746ad5ef",
   "metadata": {},
   "outputs": [
    {
     "data": {
      "text/plain": [
       "0.7615740296617487"
      ]
     },
     "execution_count": 64,
     "metadata": {},
     "output_type": "execute_result"
    }
   ],
   "source": [
    "y_pred_lgbm = bag_lgbm.predict(X_test_te_yj)\n",
    "\n",
    "f1score_lgbm_bag=f1_score(y_test,y_pred_lgbm,average='micro')\n",
    "f1score_lgbm_bag"
   ]
  },
  {
   "cell_type": "code",
   "execution_count": 244,
   "id": "5aabf712",
   "metadata": {},
   "outputs": [],
   "source": [
    "pipeline_lgbmbag= make_pipeline(RFE(LGBM, n_features_to_select=35),\n",
    "                             bag_lgbm)"
   ]
  },
  {
   "cell_type": "code",
   "execution_count": 245,
   "id": "dad7364e",
   "metadata": {},
   "outputs": [
    {
     "name": "stdout",
     "output_type": "stream",
     "text": [
      "[LightGBM] [Warning] feature_fraction is set=1.0, colsample_bytree=1.0 will be ignored. Current value: feature_fraction=1.0\n",
      "[LightGBM] [Warning] bagging_fraction is set=0.7, subsample=1.0 will be ignored. Current value: bagging_fraction=0.7\n"
     ]
    },
    {
     "data": {
      "text/plain": [
       "Pipeline(steps=[('rfe',\n",
       "                 RFE(estimator=LGBMClassifier(bagging_fraction=0.7,\n",
       "                                              feature_fraction=1.0,\n",
       "                                              feature_fraction_bynode=0.7,\n",
       "                                              max_bin=1000,\n",
       "                                              min_child_samples=150,\n",
       "                                              num_class=3, num_leaves=72,\n",
       "                                              objective='multiclass',\n",
       "                                              random_state=17, verbosity=-1),\n",
       "                     n_features_to_select=35)),\n",
       "                ('baggingclassifier',\n",
       "                 BaggingClassifier(base_estimator=LGBMClassifier(bagging_fraction=0.7,\n",
       "                                                                 feature_fraction=1.0,\n",
       "                                                                 feature_fraction_bynode=0.7,\n",
       "                                                                 max_bin=1000,\n",
       "                                                                 min_child_samples=150,\n",
       "                                                                 num_class=3,\n",
       "                                                                 num_leaves=72,\n",
       "                                                                 objective='multiclass',\n",
       "                                                                 random_state=17,\n",
       "                                                                 verbosity=-1),\n",
       "                                   n_estimators=5))])"
      ]
     },
     "execution_count": 245,
     "metadata": {},
     "output_type": "execute_result"
    }
   ],
   "source": [
    "pipeline_lgbmbag.fit(X_te_yj,df_trainY['damage_grade'])"
   ]
  }
 ],
 "metadata": {
  "kernelspec": {
   "display_name": "Python 3 (ipykernel)",
   "language": "python",
   "name": "python3"
  },
  "language_info": {
   "codemirror_mode": {
    "name": "ipython",
    "version": 3
   },
   "file_extension": ".py",
   "mimetype": "text/x-python",
   "name": "python",
   "nbconvert_exporter": "python",
   "pygments_lexer": "ipython3",
   "version": "3.9.7"
  }
 },
 "nbformat": 4,
 "nbformat_minor": 5
}
