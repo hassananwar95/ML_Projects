{
 "cells": [
  {
   "cell_type": "markdown",
   "id": "76cd5c08",
   "metadata": {},
   "source": [
    "# Unsupervised Clustering of Customers (using KMeans, DBSCAN and Agglomerative Clustering Algorithms) to Categorize Consumer Personas"
   ]
  },
  {
   "cell_type": "markdown",
   "id": "d899e96a",
   "metadata": {},
   "source": [
    "**Problem Statement**\n",
    "\n",
    "Grouping 500 customers across common attributes using unsupervised clustering and defining their personas to assist in better marketing each category more effectively"
   ]
  },
  {
   "cell_type": "code",
   "execution_count": 15,
   "id": "69294d62",
   "metadata": {},
   "outputs": [],
   "source": [
    "import pandas as pd\n",
    "import numpy as np\n",
    "import matplotlib.pyplot as plt\n",
    "import seaborn as sns\n",
    "\n",
    "from sklearn.metrics import silhouette_score, silhouette_samples, calinski_harabasz_score\n",
    "from sklearn.preprocessing import StandardScaler\n",
    "from sklearn.preprocessing import MinMaxScaler\n",
    "from sklearn.preprocessing import FunctionTransformer\n",
    "from sklearn.preprocessing import PowerTransformer\n",
    "from sklearn.cluster import KMeans, DBSCAN, AgglomerativeClustering\n",
    "\n",
    "from IPython.core.interactiveshell import InteractiveShell\n",
    "InteractiveShell.ast_node_interactivity = \"all\""
   ]
  },
  {
   "cell_type": "code",
   "execution_count": 4,
   "id": "b24fbec2",
   "metadata": {},
   "outputs": [
    {
     "name": "stdout",
     "output_type": "stream",
     "text": [
      "<class 'pandas.core.frame.DataFrame'>\n",
      "RangeIndex: 505 entries, 0 to 504\n",
      "Data columns (total 4 columns):\n",
      " #   Column         Non-Null Count  Dtype  \n",
      "---  ------         --------------  -----  \n",
      " 0   Age            505 non-null    int64  \n",
      " 1   Income         505 non-null    int64  \n",
      " 2   SpendingScore  505 non-null    float64\n",
      " 3   Savings        505 non-null    float64\n",
      "dtypes: float64(2), int64(2)\n",
      "memory usage: 15.9 KB\n"
     ]
    }
   ],
   "source": [
    "df1 = pd.read_csv(\"Customer Data.csv\")\n",
    "df1.info()"
   ]
  },
  {
   "cell_type": "code",
   "execution_count": 6,
   "id": "af12667f",
   "metadata": {},
   "outputs": [
    {
     "data": {
      "text/html": [
       "<div>\n",
       "<style scoped>\n",
       "    .dataframe tbody tr th:only-of-type {\n",
       "        vertical-align: middle;\n",
       "    }\n",
       "\n",
       "    .dataframe tbody tr th {\n",
       "        vertical-align: top;\n",
       "    }\n",
       "\n",
       "    .dataframe thead th {\n",
       "        text-align: right;\n",
       "    }\n",
       "</style>\n",
       "<table border=\"1\" class=\"dataframe\">\n",
       "  <thead>\n",
       "    <tr style=\"text-align: right;\">\n",
       "      <th></th>\n",
       "      <th>Age</th>\n",
       "      <th>Income</th>\n",
       "      <th>SpendingScore</th>\n",
       "      <th>Savings</th>\n",
       "    </tr>\n",
       "  </thead>\n",
       "  <tbody>\n",
       "    <tr>\n",
       "      <th>0</th>\n",
       "      <td>58</td>\n",
       "      <td>77769</td>\n",
       "      <td>0.791329</td>\n",
       "      <td>6559.829923</td>\n",
       "    </tr>\n",
       "    <tr>\n",
       "      <th>1</th>\n",
       "      <td>59</td>\n",
       "      <td>81799</td>\n",
       "      <td>0.791082</td>\n",
       "      <td>5417.661426</td>\n",
       "    </tr>\n",
       "    <tr>\n",
       "      <th>2</th>\n",
       "      <td>62</td>\n",
       "      <td>74751</td>\n",
       "      <td>0.702657</td>\n",
       "      <td>9258.992965</td>\n",
       "    </tr>\n",
       "    <tr>\n",
       "      <th>3</th>\n",
       "      <td>59</td>\n",
       "      <td>74373</td>\n",
       "      <td>0.765680</td>\n",
       "      <td>7346.334504</td>\n",
       "    </tr>\n",
       "    <tr>\n",
       "      <th>4</th>\n",
       "      <td>87</td>\n",
       "      <td>17760</td>\n",
       "      <td>0.348778</td>\n",
       "      <td>16869.507130</td>\n",
       "    </tr>\n",
       "  </tbody>\n",
       "</table>\n",
       "</div>"
      ],
      "text/plain": [
       "   Age  Income  SpendingScore       Savings\n",
       "0   58   77769       0.791329   6559.829923\n",
       "1   59   81799       0.791082   5417.661426\n",
       "2   62   74751       0.702657   9258.992965\n",
       "3   59   74373       0.765680   7346.334504\n",
       "4   87   17760       0.348778  16869.507130"
      ]
     },
     "execution_count": 6,
     "metadata": {},
     "output_type": "execute_result"
    },
    {
     "data": {
      "text/html": [
       "<div>\n",
       "<style scoped>\n",
       "    .dataframe tbody tr th:only-of-type {\n",
       "        vertical-align: middle;\n",
       "    }\n",
       "\n",
       "    .dataframe tbody tr th {\n",
       "        vertical-align: top;\n",
       "    }\n",
       "\n",
       "    .dataframe thead th {\n",
       "        text-align: right;\n",
       "    }\n",
       "</style>\n",
       "<table border=\"1\" class=\"dataframe\">\n",
       "  <thead>\n",
       "    <tr style=\"text-align: right;\">\n",
       "      <th></th>\n",
       "      <th>Age</th>\n",
       "      <th>Income</th>\n",
       "      <th>SpendingScore</th>\n",
       "      <th>Savings</th>\n",
       "    </tr>\n",
       "  </thead>\n",
       "  <tbody>\n",
       "    <tr>\n",
       "      <th>count</th>\n",
       "      <td>505.000000</td>\n",
       "      <td>505.000000</td>\n",
       "      <td>505.000000</td>\n",
       "      <td>505.000000</td>\n",
       "    </tr>\n",
       "    <tr>\n",
       "      <th>mean</th>\n",
       "      <td>59.019802</td>\n",
       "      <td>75513.291089</td>\n",
       "      <td>0.505083</td>\n",
       "      <td>11862.455867</td>\n",
       "    </tr>\n",
       "    <tr>\n",
       "      <th>std</th>\n",
       "      <td>24.140043</td>\n",
       "      <td>35992.922184</td>\n",
       "      <td>0.259634</td>\n",
       "      <td>4949.229253</td>\n",
       "    </tr>\n",
       "    <tr>\n",
       "      <th>min</th>\n",
       "      <td>17.000000</td>\n",
       "      <td>12000.000000</td>\n",
       "      <td>0.000000</td>\n",
       "      <td>0.000000</td>\n",
       "    </tr>\n",
       "    <tr>\n",
       "      <th>25%</th>\n",
       "      <td>34.000000</td>\n",
       "      <td>34529.000000</td>\n",
       "      <td>0.304792</td>\n",
       "      <td>6828.709702</td>\n",
       "    </tr>\n",
       "    <tr>\n",
       "      <th>50%</th>\n",
       "      <td>59.000000</td>\n",
       "      <td>75078.000000</td>\n",
       "      <td>0.368215</td>\n",
       "      <td>14209.932802</td>\n",
       "    </tr>\n",
       "    <tr>\n",
       "      <th>75%</th>\n",
       "      <td>85.000000</td>\n",
       "      <td>107100.000000</td>\n",
       "      <td>0.768279</td>\n",
       "      <td>16047.268331</td>\n",
       "    </tr>\n",
       "    <tr>\n",
       "      <th>max</th>\n",
       "      <td>97.000000</td>\n",
       "      <td>142000.000000</td>\n",
       "      <td>1.000000</td>\n",
       "      <td>20000.000000</td>\n",
       "    </tr>\n",
       "  </tbody>\n",
       "</table>\n",
       "</div>"
      ],
      "text/plain": [
       "              Age         Income  SpendingScore       Savings\n",
       "count  505.000000     505.000000     505.000000    505.000000\n",
       "mean    59.019802   75513.291089       0.505083  11862.455867\n",
       "std     24.140043   35992.922184       0.259634   4949.229253\n",
       "min     17.000000   12000.000000       0.000000      0.000000\n",
       "25%     34.000000   34529.000000       0.304792   6828.709702\n",
       "50%     59.000000   75078.000000       0.368215  14209.932802\n",
       "75%     85.000000  107100.000000       0.768279  16047.268331\n",
       "max     97.000000  142000.000000       1.000000  20000.000000"
      ]
     },
     "execution_count": 6,
     "metadata": {},
     "output_type": "execute_result"
    }
   ],
   "source": [
    "df1.head()\n",
    "df1.describe()"
   ]
  },
  {
   "cell_type": "markdown",
   "id": "e90b6e64",
   "metadata": {},
   "source": [
    "## Scaling datasets into different configurations: Standardized, Normalized, Log, Yeo-Johnson"
   ]
  },
  {
   "cell_type": "code",
   "execution_count": 7,
   "id": "e241042b",
   "metadata": {},
   "outputs": [
    {
     "data": {
      "text/plain": [
       "StandardScaler()"
      ]
     },
     "execution_count": 7,
     "metadata": {},
     "output_type": "execute_result"
    }
   ],
   "source": [
    "#Standardization\n",
    "\n",
    "stdscaler= StandardScaler()\n",
    "stdscaler.fit(df1)\n",
    "df1_std=stdscaler.transform(df1)"
   ]
  },
  {
   "cell_type": "code",
   "execution_count": 8,
   "id": "652dd16b",
   "metadata": {},
   "outputs": [
    {
     "data": {
      "text/plain": [
       "MinMaxScaler()"
      ]
     },
     "execution_count": 8,
     "metadata": {},
     "output_type": "execute_result"
    }
   ],
   "source": [
    "#Normalization (MinMax)\n",
    "\n",
    "nmlscaler= MinMaxScaler()\n",
    "nmlscaler.fit(df1)\n",
    "\n",
    "df1_nml=nmlscaler.transform(df1)"
   ]
  },
  {
   "cell_type": "code",
   "execution_count": 9,
   "id": "62b8d6ae",
   "metadata": {},
   "outputs": [
    {
     "data": {
      "text/plain": [
       "FunctionTransformer(func=<ufunc 'log1p'>, validate=True)"
      ]
     },
     "execution_count": 9,
     "metadata": {},
     "output_type": "execute_result"
    }
   ],
   "source": [
    "#Log Transformation\n",
    "\n",
    "logscaler = FunctionTransformer(np.log1p, validate=True)\n",
    "logscaler.fit(df1)\n",
    "\n",
    "df1_log=logscaler.transform(df1)"
   ]
  },
  {
   "cell_type": "code",
   "execution_count": 10,
   "id": "8a227a8f",
   "metadata": {},
   "outputs": [
    {
     "data": {
      "text/plain": [
       "PowerTransformer()"
      ]
     },
     "execution_count": 10,
     "metadata": {},
     "output_type": "execute_result"
    }
   ],
   "source": [
    "#Yeo Johnson\n",
    "\n",
    "yjscaler = PowerTransformer(method='yeo-johnson')\n",
    "yjscaler.fit(df1)\n",
    "\n",
    "df1_yj=yjscaler.transform(df1)"
   ]
  },
  {
   "cell_type": "markdown",
   "id": "23132f02",
   "metadata": {},
   "source": [
    "## KMeans (Clustering Algorithm #1)"
   ]
  },
  {
   "cell_type": "code",
   "execution_count": 11,
   "id": "be92a0e6",
   "metadata": {},
   "outputs": [],
   "source": [
    "#using K-Means with an initial cluster hyperparameter of 5\n",
    "\n",
    "k_means = KMeans(n_clusters=5, random_state=17)"
   ]
  },
  {
   "cell_type": "code",
   "execution_count": 12,
   "id": "d929fd81",
   "metadata": {},
   "outputs": [],
   "source": [
    "#Trying out different scaled sets to see which one gets the best Silhouette and CH Score with KMeans\n",
    "\n",
    "k_unscaled=k_means.fit(df1)\n",
    "k_std=k_means.fit(df1_std)\n",
    "k_nml=k_means.fit(df1_nml)\n",
    "k_log=k_means.fit(df1_log)\n",
    "k_yj=k_means.fit(df1_yj)"
   ]
  },
  {
   "cell_type": "code",
   "execution_count": 13,
   "id": "6bdcf6d9",
   "metadata": {},
   "outputs": [
    {
     "name": "stdout",
     "output_type": "stream",
     "text": [
      "k_sh_unscaled  0.6617771614964709 \n",
      "k_sh_std  0.8048976287755765 \n",
      "k_sh_nml  0.8156911152768873 \n",
      "k_sh_log  0.7617989932620409 \n",
      "k_sh_yj  0.806290881060733 \n",
      "\n",
      "k_ch_unscaled  4124.203771945923 \n",
      "k_ch_std  3671.3580185176156 \n",
      "k_ch_nml  3840.1054314474277 \n",
      "k_ch_log  580.9045217980583 \n",
      "k_ch_yj  3503.4024013985286\n"
     ]
    }
   ],
   "source": [
    "k_sh_unscaled= silhouette_score(df1, k_unscaled.labels_)\n",
    "k_sh_std= silhouette_score(df1_std, k_std.labels_)\n",
    "k_sh_nml= silhouette_score(df1_nml, k_nml.labels_)\n",
    "k_sh_log= silhouette_score(df1_log, k_log.labels_)\n",
    "k_sh_yj= silhouette_score(df1_yj, k_yj.labels_)\n",
    "\n",
    "k_ch_unscaled= calinski_harabasz_score(df1, k_unscaled.labels_)\n",
    "k_ch_std= calinski_harabasz_score(df1_std, k_std.labels_)\n",
    "k_ch_nml= calinski_harabasz_score(df1_nml, k_nml.labels_)\n",
    "k_ch_log= calinski_harabasz_score(df1_log, k_log.labels_)\n",
    "k_ch_yj= calinski_harabasz_score(df1_yj, k_yj.labels_)\n",
    "\n",
    "\n",
    "\n",
    "print(\"k_sh_unscaled \", k_sh_unscaled,'\\n'\n",
    "      \"k_sh_std \", k_sh_std,'\\n'\n",
    "      \"k_sh_nml \", k_sh_nml,'\\n'\n",
    "      \"k_sh_log \", k_sh_log,'\\n'\n",
    "      \"k_sh_yj \", k_sh_yj,'\\n'\n",
    "      '\\n'\n",
    "      \"k_ch_unscaled \", k_ch_unscaled,'\\n'\n",
    "      \"k_ch_std \", k_ch_std,'\\n'\n",
    "      \"k_ch_nml \", k_ch_nml,'\\n'\n",
    "      \"k_ch_log \", k_ch_log,'\\n'\n",
    "      \"k_ch_yj \", k_ch_yj)"
   ]
  },
  {
   "cell_type": "markdown",
   "id": "105a200f",
   "metadata": {},
   "source": [
    "### Highest Silhouette and second highest CH Index score is with using Normalized (MinMax) scaled dataset"
   ]
  },
  {
   "cell_type": "code",
   "execution_count": 16,
   "id": "8c627f57",
   "metadata": {},
   "outputs": [
    {
     "data": {
      "image/png": "[encoded data removed]",
      "text/plain": [
       "<Figure size 432x288 with 1 Axes>"
      ]
     },
     "metadata": {
      "needs_background": "light"
     },
     "output_type": "display_data"
    },
    {
     "data": {
      "image/png": "[encoded data removed]",
      "text/plain": [
       "<Figure size 432x288 with 1 Axes>"
      ]
     },
     "metadata": {
      "needs_background": "light"
     },
     "output_type": "display_data"
    }
   ],
   "source": [
    "#Tuning the K-Means model with the Normalized scaled dataset to find the optimal number of clusters\n",
    "\n",
    "silhouettes = {}\n",
    "chindex = {}\n",
    "\n",
    "for k in range(2, 11):\n",
    "    kmeans = KMeans(n_clusters=k, random_state=17).fit(df1_nml)\n",
    "    silhouettes[k] = silhouette_score(df1_nml, kmeans.labels_, metric='euclidean')\n",
    "    chindex[k]= calinski_harabasz_score(df1_nml, kmeans.labels_)\n",
    "    \n",
    "plt.figure();\n",
    "plt.plot(list(silhouettes.keys()), list(silhouettes.values()));\n",
    "plt.title('K-Means, Elbow Method')\n",
    "plt.xlabel(\"Number of clusters, K\");\n",
    "plt.ylabel(\"Silhouette\");\n",
    "\n",
    "\n",
    "plt.figure();\n",
    "plt.plot(list(chindex.keys()), list(chindex.values()));\n",
    "plt.title('K-Means, Elbow Method')\n",
    "plt.xlabel(\"Number of clusters, K\");\n",
    "plt.ylabel(\"ChIndex\");\n"
   ]
  },
  {
   "cell_type": "markdown",
   "id": "2738908e",
   "metadata": {},
   "source": [
    "### Coincidentally the optimal number of clusters as per the Silhouette and Ch Index score is 5. We've already run the algorithm with this hyperparameter so no need to rerun the model"
   ]
  },
  {
   "cell_type": "markdown",
   "id": "a10b9f8c",
   "metadata": {},
   "source": [
    "## Trying out feature selection to see any effect on Silhouette and CHI Score - Removing Savings"
   ]
  },
  {
   "cell_type": "code",
   "execution_count": 17,
   "id": "1f36da11",
   "metadata": {},
   "outputs": [
    {
     "data": {
      "text/html": [
       "<div>\n",
       "<style scoped>\n",
       "    .dataframe tbody tr th:only-of-type {\n",
       "        vertical-align: middle;\n",
       "    }\n",
       "\n",
       "    .dataframe tbody tr th {\n",
       "        vertical-align: top;\n",
       "    }\n",
       "\n",
       "    .dataframe thead th {\n",
       "        text-align: right;\n",
       "    }\n",
       "</style>\n",
       "<table border=\"1\" class=\"dataframe\">\n",
       "  <thead>\n",
       "    <tr style=\"text-align: right;\">\n",
       "      <th></th>\n",
       "      <th>Age</th>\n",
       "      <th>Income</th>\n",
       "      <th>SpendingScore</th>\n",
       "    </tr>\n",
       "  </thead>\n",
       "  <tbody>\n",
       "    <tr>\n",
       "      <th>0</th>\n",
       "      <td>58</td>\n",
       "      <td>77769</td>\n",
       "      <td>0.791329</td>\n",
       "    </tr>\n",
       "    <tr>\n",
       "      <th>1</th>\n",
       "      <td>59</td>\n",
       "      <td>81799</td>\n",
       "      <td>0.791082</td>\n",
       "    </tr>\n",
       "    <tr>\n",
       "      <th>2</th>\n",
       "      <td>62</td>\n",
       "      <td>74751</td>\n",
       "      <td>0.702657</td>\n",
       "    </tr>\n",
       "    <tr>\n",
       "      <th>3</th>\n",
       "      <td>59</td>\n",
       "      <td>74373</td>\n",
       "      <td>0.765680</td>\n",
       "    </tr>\n",
       "    <tr>\n",
       "      <th>4</th>\n",
       "      <td>87</td>\n",
       "      <td>17760</td>\n",
       "      <td>0.348778</td>\n",
       "    </tr>\n",
       "  </tbody>\n",
       "</table>\n",
       "</div>"
      ],
      "text/plain": [
       "   Age  Income  SpendingScore\n",
       "0   58   77769       0.791329\n",
       "1   59   81799       0.791082\n",
       "2   62   74751       0.702657\n",
       "3   59   74373       0.765680\n",
       "4   87   17760       0.348778"
      ]
     },
     "execution_count": 17,
     "metadata": {},
     "output_type": "execute_result"
    }
   ],
   "source": [
    "df_twofeat= df1.copy()\n",
    "\n",
    "df_twofeat.drop(columns=['Savings'],inplace=True)\n",
    "df_twofeat.head()"
   ]
  },
  {
   "cell_type": "code",
   "execution_count": 18,
   "id": "8d3b5529",
   "metadata": {},
   "outputs": [
    {
     "data": {
      "text/plain": [
       "MinMaxScaler()"
      ]
     },
     "execution_count": 18,
     "metadata": {},
     "output_type": "execute_result"
    },
    {
     "name": "stdout",
     "output_type": "stream",
     "text": [
      "\n",
      "k_sh_nml2 0.834342024530696 \n",
      "k_ch_nml2  4603.833263305364 \n",
      "\n"
     ]
    }
   ],
   "source": [
    "nmlscaler.fit(df_twofeat)\n",
    "\n",
    "df_twofeat_nml=nmlscaler.transform(df_twofeat)\n",
    "\n",
    "k_nml2=k_means.fit(df_twofeat_nml)\n",
    "\n",
    "k_sh_nml2= silhouette_score(df_twofeat_nml, k_nml2.labels_)\n",
    "k_ch_nml2= calinski_harabasz_score(df_twofeat_nml, k_nml2.labels_)\n",
    "\n",
    "print('\\n'\n",
    "\"k_sh_nml2\", k_sh_nml2,'\\n'\n",
    "      \"k_ch_nml2 \",k_ch_nml2,'\\n')\n",
    "\n",
    "#dropping Savings and normalizing the new dataset resulted in increase in both scores"
   ]
  },
  {
   "cell_type": "code",
   "execution_count": 21,
   "id": "c730bc5f",
   "metadata": {},
   "outputs": [
    {
     "name": "stdout",
     "output_type": "stream",
     "text": [
      "Algorithm    Model                                   Silhouette Score    CH Index\n",
      "-----------  ------------------------------------  ------------------  ----------\n",
      "K Means      Unscaled                                        0.661777     4124.2\n",
      "K Means      Normalized                                      0.815691     3840.11\n",
      "K Means      Normalized | Savings Feature Dropped            0.834342     4603.83\n"
     ]
    }
   ],
   "source": [
    "#tabulating results\n",
    "\n",
    "from tabulate import tabulate\n",
    "\n",
    "results = [[\"K Means\", \"Unscaled\", 0.6617771614964709,4124.203771945923],\n",
    "           [\"K Means\", \"Normalized\", 0.8156911152768873, 3840.1054314474277],\n",
    "           [\"K Means\", \"Normalized | Savings Feature Dropped\", 0.834342024530696,4603.833263305364]]\n",
    "\n",
    "print(tabulate(results, headers=[\"Algorithm\", \"Model\", \"Silhouette Score\", \"CH Index\"]))"
   ]
  },
  {
   "cell_type": "markdown",
   "id": "1aa9b75b",
   "metadata": {},
   "source": [
    " ## DBSCAN (Clustering Algorithm #2)"
   ]
  },
  {
   "cell_type": "code",
   "execution_count": 22,
   "id": "4949d18c",
   "metadata": {},
   "outputs": [],
   "source": [
    "db = DBSCAN(eps=0.3, min_samples=3)"
   ]
  },
  {
   "cell_type": "code",
   "execution_count": 23,
   "id": "fca4c678",
   "metadata": {},
   "outputs": [],
   "source": [
    "#Trying out different scaled sets to see which one gets the best Silhouette and CH Score with DBSCAN\n",
    "\n",
    "db_unscaled=db.fit(df1)\n",
    "db_std=db.fit(df1_std)\n",
    "db_nml=db.fit(df1_nml)\n",
    "db_log=db.fit(df1_log)\n",
    "db_yj=db.fit(df1_yj)"
   ]
  },
  {
   "cell_type": "code",
   "execution_count": 24,
   "id": "bdf61e8d",
   "metadata": {},
   "outputs": [
    {
     "name": "stdout",
     "output_type": "stream",
     "text": [
      "db_sh_unscaled  0.6266219935274309 \n",
      "db_sh_std  0.7604383235324144 \n",
      "db_sh_nml  0.7685418499416524 \n",
      "db_sh_log  0.7338329144232907 \n",
      "db_sh_yj  0.7606071702268673 \n",
      "\n",
      "db_ch_unscaled  1319.899390566878 \n",
      "db_ch_std  1311.149890463303 \n",
      "db_ch_nml  1325.4686724539938 \n",
      "db_ch_log  313.773302101662 \n",
      "db_ch_yj  1272.6610578386997\n"
     ]
    }
   ],
   "source": [
    "db_sh_unscaled= silhouette_score(df1, db_unscaled.labels_)\n",
    "db_sh_std= silhouette_score(df1_std, db_std.labels_)\n",
    "db_sh_nml= silhouette_score(df1_nml, db_nml.labels_)\n",
    "db_sh_log= silhouette_score(df1_log, db_log.labels_)\n",
    "db_sh_yj= silhouette_score(df1_yj, db_yj.labels_)\n",
    "\n",
    "db_ch_unscaled= calinski_harabasz_score(df1, db_unscaled.labels_)\n",
    "db_ch_std= calinski_harabasz_score(df1_std, db_std.labels_)\n",
    "db_ch_nml= calinski_harabasz_score(df1_nml, db_nml.labels_)\n",
    "db_ch_log= calinski_harabasz_score(df1_log, db_log.labels_)\n",
    "db_ch_yj= calinski_harabasz_score(df1_yj, db_yj.labels_)\n",
    "\n",
    "\n",
    "\n",
    "print(\"db_sh_unscaled \", db_sh_unscaled,'\\n'\n",
    "      \"db_sh_std \", db_sh_std,'\\n'\n",
    "      \"db_sh_nml \", db_sh_nml,'\\n'\n",
    "      \"db_sh_log \", db_sh_log,'\\n'\n",
    "      \"db_sh_yj \", db_sh_yj,'\\n'\n",
    "      '\\n'\n",
    "      \"db_ch_unscaled \", db_ch_unscaled,'\\n'\n",
    "      \"db_ch_std \", db_ch_std,'\\n'\n",
    "      \"db_ch_nml \", db_ch_nml,'\\n'\n",
    "      \"db_ch_log \", db_ch_log,'\\n'\n",
    "      \"db_ch_yj \", db_ch_yj)"
   ]
  },
  {
   "cell_type": "markdown",
   "id": "904b410b",
   "metadata": {},
   "source": [
    "### Highest Silhouette and second highest CH Index score is with using Normalized (MinMax) scaled dataset"
   ]
  },
  {
   "cell_type": "code",
   "execution_count": 25,
   "id": "081a818f",
   "metadata": {},
   "outputs": [
    {
     "data": {
      "image/png": "[encoded data removed]",
      "text/plain": [
       "<Figure size 432x288 with 1 Axes>"
      ]
     },
     "metadata": {
      "needs_background": "light"
     },
     "output_type": "display_data"
    }
   ],
   "source": [
    "#Tuning the DBSCAN model with the Normalized scaled dataset to find the optimal number of eps and minss \n",
    "#based on the Silhouette Score\n",
    "\n",
    "silhouettes = {}\n",
    "\n",
    "epss = np.arange(0.1, 0.9, 0.1)\n",
    "minss = [10,20,30, 40, 50, 60, 70]\n",
    "\n",
    "ss = np.zeros((len(epss), len(minss)))\n",
    "\n",
    "for i, eps in enumerate(epss):\n",
    "    for j, mins in enumerate(minss):\n",
    "        dbscan = DBSCAN(eps=eps, min_samples=mins).fit(df1_nml)\n",
    "        if len(set(dbscan.labels_)) == 1:\n",
    "            ss[i, j] = -1\n",
    "        else:\n",
    "            ss[i, j] = silhouette_score(df1_nml, dbscan.labels_, metric='euclidean')\n",
    "    \n",
    "\n",
    "plt.figure();\n",
    "\n",
    "for i in range(len(minss)):\n",
    "    plt.plot(epss, ss[:, i], label=\"MinPts = {}\".format(minss[i]));\n",
    "\n",
    "plt.title('DBSCAN, Elbow Method')\n",
    "plt.xlabel(\"Eps\");\n",
    "plt.ylabel(\"Silhouette\");\n",
    "plt.legend();\n"
   ]
  },
  {
   "cell_type": "code",
   "execution_count": 26,
   "id": "a4f64738",
   "metadata": {},
   "outputs": [
    {
     "data": {
      "image/png": "[encoded data removed]",
      "text/plain": [
       "<Figure size 432x288 with 1 Axes>"
      ]
     },
     "metadata": {
      "needs_background": "light"
     },
     "output_type": "display_data"
    }
   ],
   "source": [
    "#Tuning the DBSCAN model with the Normalized scaled dataset to find the optimal number of eps and minss based on the CH Index\n",
    "\n",
    "ChIndex = {}\n",
    "\n",
    "epss = np.arange(0.1, 0.9, 0.1)\n",
    "minss = [10,20,30, 40, 50, 60, 70]\n",
    "\n",
    "ss = np.zeros((len(epss), len(minss)))\n",
    "\n",
    "for i, eps in enumerate(epss):\n",
    "    for j, mins in enumerate(minss):\n",
    "        dbscan = DBSCAN(eps=eps, min_samples=mins).fit(df1_nml)\n",
    "        if len(set(dbscan.labels_)) == 1:\n",
    "            ss[i, j] = -1\n",
    "        else:\n",
    "            ss[i, j] = calinski_harabasz_score(df1_nml, dbscan.labels_)\n",
    "    \n",
    "\n",
    "plt.figure();\n",
    "\n",
    "for i in range(len(minss)):\n",
    "    plt.plot(epss, ss[:, i], label=\"MinPts = {}\".format(minss[i]));\n",
    "\n",
    "plt.title('DBSCAN, Elbow Method')\n",
    "plt.xlabel(\"Eps\");\n",
    "plt.ylabel(\"ChIndex\");\n",
    "plt.legend();"
   ]
  },
  {
   "cell_type": "code",
   "execution_count": 27,
   "id": "b39d509a",
   "metadata": {},
   "outputs": [
    {
     "data": {
      "text/plain": [
       "DBSCAN(eps=0.3, min_samples=50)"
      ]
     },
     "execution_count": 27,
     "metadata": {},
     "output_type": "execute_result"
    },
    {
     "name": "stdout",
     "output_type": "stream",
     "text": [
      "\n",
      "db_tuned_sh_nml2  0.834342024530696 \n",
      "db_tuned_ch_nml2  4603.833263305364\n"
     ]
    }
   ],
   "source": [
    "#Reruning the DBSCAN model with optimal hyperparameters but both the scores did not increase\n",
    "\n",
    "db_tuned = DBSCAN(eps=0.3, min_samples=50)\n",
    "db_tuned.fit(df_twofeat_nml)\n",
    "db_tuned_sh_nml2= silhouette_score(df_twofeat_nml, db_tuned.labels_)\n",
    "db_tuned_ch_nml2= calinski_harabasz_score(df_twofeat_nml, db_tuned.labels_)\n",
    "\n",
    "\n",
    "print('\\n'\n",
    "\"db_tuned_sh_nml2 \", db_tuned_sh_nml2,'\\n'\n",
    "      \"db_tuned_ch_nml2 \", db_tuned_ch_nml2)"
   ]
  },
  {
   "cell_type": "code",
   "execution_count": 28,
   "id": "60b79a8e",
   "metadata": {},
   "outputs": [
    {
     "data": {
      "text/plain": [
       "DBSCAN(eps=0.3, metric='chebyshev', min_samples=50)"
      ]
     },
     "execution_count": 28,
     "metadata": {},
     "output_type": "execute_result"
    },
    {
     "name": "stdout",
     "output_type": "stream",
     "text": [
      "\n",
      "db_tuned_sh_nml3  0.31936881000738915 \n",
      "db_tuned_ch_nml3  120.14357052079788\n"
     ]
    },
    {
     "data": {
      "text/plain": [
       "DBSCAN(eps=0.3, metric='manhattan', min_samples=50)"
      ]
     },
     "execution_count": 28,
     "metadata": {},
     "output_type": "execute_result"
    },
    {
     "name": "stdout",
     "output_type": "stream",
     "text": [
      "\n",
      "db_tuned_sh_nml4  0.834342024530696 \n",
      "db_tuned_ch_nml4  4603.833263305364\n"
     ]
    }
   ],
   "source": [
    "#Trying a couple of different distance metrics - Chebyshev and Manhattan\n",
    "\n",
    "db_tuned = DBSCAN(eps=0.3, min_samples=50, metric = 'chebyshev')\n",
    "\n",
    "db_tuned.fit(df_twofeat_nml)\n",
    "db_tuned_sh_nml3= silhouette_score(df_twofeat_nml, db_tuned.labels_)\n",
    "db_tuned_ch_nml3= calinski_harabasz_score(df_twofeat_nml, db_tuned.labels_)\n",
    "\n",
    "\n",
    "print('\\n'\n",
    "\"db_tuned_sh_nml3 \", db_tuned_sh_nml3,'\\n'\n",
    "      \"db_tuned_ch_nml3 \", db_tuned_ch_nml3)\n",
    "\n",
    "db_tuned = DBSCAN(eps=0.3, min_samples=50, metric = 'manhattan')\n",
    "\n",
    "db_tuned.fit(df_twofeat_nml)\n",
    "db_tuned_sh_nml4= silhouette_score(df_twofeat_nml, db_tuned.labels_)\n",
    "db_tuned_ch_nml4= calinski_harabasz_score(df_twofeat_nml, db_tuned.labels_)\n",
    "\n",
    "\n",
    "print('\\n'\n",
    "\"db_tuned_sh_nml4 \", db_tuned_sh_nml4,'\\n'\n",
    "      \"db_tuned_ch_nml4 \", db_tuned_ch_nml4)"
   ]
  },
  {
   "cell_type": "markdown",
   "id": "3dd2245a",
   "metadata": {},
   "source": [
    "### Chebyshev metric led to a significant decrease in the scores but the manhattan metric yielded the same scores as with euclidean"
   ]
  },
  {
   "cell_type": "code",
   "execution_count": 29,
   "id": "917b0f67",
   "metadata": {},
   "outputs": [
    {
     "name": "stdout",
     "output_type": "stream",
     "text": [
      "Algorithm    Model                                                                           Silhouette Score    CH Index\n",
      "-----------  ----------------------------------------------------------------------------  ------------------  ----------\n",
      "K Means      Unscaled                                                                                0.661777    4124.2\n",
      "K Means      Normalized                                                                              0.815691    3840.11\n",
      "K Means      Normalized | Hyperparam Tuned | Savings Feature Dropped                                 0.834342    4603.83\n",
      "\n",
      "DBSCAN       Unscaled                                                                                0.626622    1319.9\n",
      "DBSCAN       Normalized                                                                              0.768542    1325.47\n",
      "DBSCAN       Normalized | Hyperparam Tuned                                                           0.815691    3840.11\n",
      "DBSCAN       Normalized | Hyperparam Tuned | Savings Feature Dropped                                 0.834342    4603.83\n",
      "DBSCAN       Normalized | Hyperparam Tuned | Savings Feature Dropped | Chebyshev Distance            0.319369     120.144\n",
      "DBSCAN       Normalized | Hyperparam Tuned | Savings Feature Dropped | Manhattan Distance            0.834342    4603.83\n"
     ]
    }
   ],
   "source": [
    "results = [[\"K Means\", \"Unscaled\", 0.6617771614964709,4124.203771945923],\n",
    "           [\"K Means\", \"Normalized\", 0.8156911152768873, 3840.1054314474277],\n",
    "           [\"K Means\", \"Normalized | Hyperparam Tuned | Savings Feature Dropped\", 0.834342024530696,4603.833263305364],\n",
    "           '\\n',\n",
    "           [\"DBSCAN\", \"Unscaled\", 0.6266219935274309, 1319.899390566878],\n",
    "           [\"DBSCAN\",\"Normalized\",0.7685418499416524, 1325.4686724539938],\n",
    "           [\"DBSCAN\",\"Normalized | Hyperparam Tuned\",0.8156911152768873,3840.1054314474286],\n",
    "           [\"DBSCAN\",\"Normalized | Hyperparam Tuned | Savings Feature Dropped\",0.834342024530696,4603.833263305364],\n",
    "           [\"DBSCAN\",\"Normalized | Hyperparam Tuned | Savings Feature Dropped | Chebyshev Distance\",0.31936881000738915, 120.14357052079788],\n",
    "           [\"DBSCAN\",\"Normalized | Hyperparam Tuned | Savings Feature Dropped | Manhattan Distance\",0.834342024530696,4603.833263305364]\n",
    "           ]\n",
    "\n",
    "print(tabulate(results, headers=[\"Algorithm\", \"Model\", \"Silhouette Score\", \"CH Index\"]))"
   ]
  },
  {
   "cell_type": "markdown",
   "id": "29bb285f",
   "metadata": {},
   "source": [
    "## Agglomerative Hierarchial (Clustering Algorithm #3)"
   ]
  },
  {
   "cell_type": "code",
   "execution_count": 31,
   "id": "ba6ff4f3",
   "metadata": {},
   "outputs": [],
   "source": [
    "agg = AgglomerativeClustering(n_clusters=5, affinity='euclidean', linkage='ward')"
   ]
  },
  {
   "cell_type": "code",
   "execution_count": 32,
   "id": "9b7719cb",
   "metadata": {},
   "outputs": [],
   "source": [
    "#Trying out different scaled sets to see which one gets the best Silhouette and CH Score with Hierarchial\n",
    "\n",
    "agg_unscaled=agg.fit(df1)\n",
    "agg_std=agg.fit(df1_std)\n",
    "agg_nml=agg.fit(df1_nml)\n",
    "agg_log=agg.fit(df1_log)\n",
    "agg_yj=agg.fit(df1_yj)"
   ]
  },
  {
   "cell_type": "code",
   "execution_count": 33,
   "id": "cc1b2a0f",
   "metadata": {},
   "outputs": [
    {
     "name": "stdout",
     "output_type": "stream",
     "text": [
      "agg_sh_unscaled  0.6617771614964709 \n",
      "agg_sh_std  0.8048976287755765 \n",
      "agg_sh_nml  0.8156911152768873 \n",
      "agg_sh_log  0.7617989932620409 \n",
      "agg_sh_yj  0.806290881060733 \n",
      "\n",
      "agg_ch_unscaled  4124.203771945923 \n",
      "agg_ch_std  3671.3580185176156 \n",
      "agg_ch_nml  3840.1054314474277 \n",
      "agg_ch_log  580.9045217980582 \n",
      "agg_ch_yj  3503.4024013985286\n"
     ]
    }
   ],
   "source": [
    "agg_sh_unscaled= silhouette_score(df1, agg_unscaled.labels_)\n",
    "agg_sh_std= silhouette_score(df1_std, agg_std.labels_)\n",
    "agg_sh_nml= silhouette_score(df1_nml, agg_nml.labels_)\n",
    "agg_sh_log= silhouette_score(df1_log, agg_log.labels_)\n",
    "agg_sh_yj= silhouette_score(df1_yj, agg_yj.labels_)\n",
    "\n",
    "agg_ch_unscaled= calinski_harabasz_score(df1, agg_unscaled.labels_)\n",
    "agg_ch_std= calinski_harabasz_score(df1_std, agg_std.labels_)\n",
    "agg_ch_nml= calinski_harabasz_score(df1_nml, agg_nml.labels_)\n",
    "agg_ch_log= calinski_harabasz_score(df1_log, agg_log.labels_)\n",
    "agg_ch_yj= calinski_harabasz_score(df1_yj, agg_yj.labels_)\n",
    "\n",
    "print(\"agg_sh_unscaled \", agg_sh_unscaled,'\\n'\n",
    "      \"agg_sh_std \", agg_sh_std,'\\n'\n",
    "      \"agg_sh_nml \", agg_sh_nml,'\\n'\n",
    "      \"agg_sh_log \", agg_sh_log,'\\n'\n",
    "      \"agg_sh_yj \", agg_sh_yj,'\\n'\n",
    "      '\\n'\n",
    "      \"agg_ch_unscaled \", agg_ch_unscaled,'\\n'\n",
    "      \"agg_ch_std \", agg_ch_std,'\\n'\n",
    "      \"agg_ch_nml \", agg_ch_nml,'\\n'\n",
    "      \"agg_ch_log \", agg_ch_log,'\\n'\n",
    "      \"agg_ch_yj \", agg_ch_yj)\n"
   ]
  },
  {
   "cell_type": "markdown",
   "id": "b2448d6f",
   "metadata": {},
   "source": [
    "### Highest Silhouette and second highest CH Index score is with using Normalized (MinMax) scaled dataset"
   ]
  },
  {
   "cell_type": "code",
   "execution_count": 34,
   "id": "869513a3",
   "metadata": {},
   "outputs": [
    {
     "data": {
      "text/plain": [
       "AgglomerativeClustering(n_clusters=5)"
      ]
     },
     "execution_count": 34,
     "metadata": {},
     "output_type": "execute_result"
    },
    {
     "name": "stdout",
     "output_type": "stream",
     "text": [
      "\n",
      "agg_sh_nml2  0.834342024530696 \n",
      "agg_ch_nml2  4603.833263305364\n"
     ]
    }
   ],
   "source": [
    "#Trying out model with MinMax reduced dataset (Savings feature dropped)\n",
    "\n",
    "agg.fit(df_twofeat_nml)\n",
    "agg_sh_nml2= silhouette_score(df_twofeat_nml, agg.labels_)\n",
    "agg_ch_nml2= calinski_harabasz_score(df_twofeat_nml, agg.labels_)\n",
    "\n",
    "\n",
    "print('\\n'\n",
    "\"agg_sh_nml2 \", agg_sh_nml2,'\\n'\n",
    "      \"agg_ch_nml2 \", agg_ch_nml2)"
   ]
  },
  {
   "cell_type": "code",
   "execution_count": 38,
   "id": "9bdc7c49",
   "metadata": {},
   "outputs": [
    {
     "data": {
      "text/plain": [
       "AgglomerativeClustering(affinity='cosine', linkage='complete', n_clusters=5)"
      ]
     },
     "execution_count": 38,
     "metadata": {},
     "output_type": "execute_result"
    },
    {
     "name": "stdout",
     "output_type": "stream",
     "text": [
      "\n",
      "agg_sh_nml3  0.834342024530696 \n",
      "agg_ch_nml3  4603.833263305364\n"
     ]
    },
    {
     "data": {
      "text/plain": [
       "AgglomerativeClustering(affinity='manhattan', linkage='average', n_clusters=5)"
      ]
     },
     "execution_count": 38,
     "metadata": {},
     "output_type": "execute_result"
    },
    {
     "name": "stdout",
     "output_type": "stream",
     "text": [
      "\n",
      "agg_sh_nml4  0.834342024530696 \n",
      "agg_ch_nml4  4603.833263305364\n"
     ]
    }
   ],
   "source": [
    "# Trying a couple of different distance and linkage combinations to check any movements in the scores\n",
    "#Cosine/Complete & Manhattan/Average\n",
    "\n",
    "agg = AgglomerativeClustering(n_clusters=5, affinity='cosine', linkage='complete')\n",
    "\n",
    "agg.fit(df_twofeat_nml)\n",
    "agg_sh_nml3= silhouette_score(df_twofeat_nml, agg.labels_)\n",
    "agg_ch_nml3= calinski_harabasz_score(df_twofeat_nml, agg.labels_)\n",
    "\n",
    "\n",
    "print('\\n'\n",
    "\"agg_sh_nml3 \", agg_sh_nml3,'\\n'\n",
    "      \"agg_ch_nml3 \", agg_ch_nml3)\n",
    "\n",
    "agg = AgglomerativeClustering(n_clusters=5, affinity='manhattan', linkage='average')\n",
    "\n",
    "agg.fit(df_twofeat_nml)\n",
    "agg_sh_nml4= silhouette_score(df_twofeat_nml, agg.labels_)\n",
    "agg_ch_nml4= calinski_harabasz_score(df_twofeat_nml, agg.labels_)\n",
    "\n",
    "\n",
    "print('\\n'\n",
    "\"agg_sh_nml4 \", agg_sh_nml4,'\\n'\n",
    "      \"agg_ch_nml4 \", agg_ch_nml4)"
   ]
  },
  {
   "cell_type": "markdown",
   "id": "e9dacfa3",
   "metadata": {},
   "source": [
    "### All configurations are yielding the same scores which can potentially mean that the model has already found the best clusters"
   ]
  },
  {
   "cell_type": "code",
   "execution_count": 39,
   "id": "36aede32",
   "metadata": {},
   "outputs": [
    {
     "data": {
      "image/png": "[encoded data removed]",
      "text/plain": [
       "<Figure size 1152x576 with 1 Axes>"
      ]
     },
     "metadata": {
      "needs_background": "light"
     },
     "output_type": "display_data"
    }
   ],
   "source": [
    "import scipy.cluster\n",
    "\n",
    "aggl = scipy.cluster.hierarchy.linkage(df_twofeat_nml, method='ward', metric='euclidean')\n",
    "\n",
    "# Plot the dendogram\n",
    "plt.figure(figsize=(16, 8));\n",
    "plt.grid(False)\n",
    "plt.title(\"Dendogram\");  \n",
    "dend = scipy.cluster.hierarchy.dendrogram(aggl);"
   ]
  },
  {
   "cell_type": "markdown",
   "id": "da524470",
   "metadata": {},
   "source": [
    "## Model Comparison"
   ]
  },
  {
   "cell_type": "code",
   "execution_count": 41,
   "id": "bbf94ad1",
   "metadata": {},
   "outputs": [
    {
     "name": "stdout",
     "output_type": "stream",
     "text": [
      "Algorithm    Model                                                                           Silhouette Score    CH Index\n",
      "-----------  ----------------------------------------------------------------------------  ------------------  ----------\n",
      "K Means      Unscaled                                                                                0.661777    4124.2\n",
      "K Means      Normalized                                                                              0.815691    3840.11\n",
      "K Means      Normalized | Hyperparam Tuned | Savings Feature Dropped                                 0.834342    4603.83\n",
      "\n",
      "DBSCAN       Unscaled                                                                                0.626622    1319.9\n",
      "DBSCAN       Normalized                                                                              0.768542    1325.47\n",
      "DBSCAN       Normalized | Hyperparam Tuned                                                           0.815691    3840.11\n",
      "DBSCAN       Normalized | Hyperparam Tuned | Savings Feature Dropped                                 0.834342    4603.83\n",
      "DBSCAN       Normalized | Hyperparam Tuned | Savings Feature Dropped | Chebyshev Distance            0.319369     120.144\n",
      "DBSCAN       Normalized | Hyperparam Tuned | Savings Feature Dropped | Manhattan Distance            0.834342    4603.83\n",
      "\n",
      "Hierarchial  Unscaled                                                                                0.661777    4124.2\n",
      "Hierarchial  Normalized                                                                              0.815691    3840.11\n",
      "Hierarchial  Normalized | Savings Feature Dropped                                                    0.834342    4603.83\n",
      "Hierarchial  Normalized | Savings Feature Dropped | Cosine Distance Complete Linkage                 0.834342    4603.83\n",
      "Hierarchial  Normalized | Savings Feature Dropped | Manhattan Distance Average Linkage               0.834342    4603.83\n"
     ]
    }
   ],
   "source": [
    "results = [[\"K Means\", \"Unscaled\", 0.6617771614964709,4124.203771945923],\n",
    "           [\"K Means\", \"Normalized\", 0.8156911152768873, 3840.1054314474277],\n",
    "           [\"K Means\", \"Normalized | Hyperparam Tuned | Savings Feature Dropped\", 0.834342024530696,4603.833263305364],\n",
    "           '\\n',\n",
    "           [\"DBSCAN\", \"Unscaled\", 0.6266219935274309, 1319.899390566878],\n",
    "           [\"DBSCAN\",\"Normalized\",0.7685418499416524, 1325.4686724539938],\n",
    "           [\"DBSCAN\",\"Normalized | Hyperparam Tuned\",0.8156911152768873,3840.1054314474286],\n",
    "           [\"DBSCAN\",\"Normalized | Hyperparam Tuned | Savings Feature Dropped\",0.834342024530696,4603.833263305364],\n",
    "           [\"DBSCAN\",\"Normalized | Hyperparam Tuned | Savings Feature Dropped | Chebyshev Distance\",0.31936881000738915, 120.14357052079788],\n",
    "           [\"DBSCAN\",\"Normalized | Hyperparam Tuned | Savings Feature Dropped | Manhattan Distance\",0.834342024530696,4603.833263305364],\n",
    "            '\\n',\n",
    "           [\"Hierarchial\", \"Unscaled\", 0.6617771614964709,4124.203771945923],\n",
    "           [\"Hierarchial\", \"Normalized\",0.8156911152768873,3840.1054314474277],\n",
    "           [\"Hierarchial\", \"Normalized | Savings Feature Dropped\",0.834342024530696,4603.833263305364],\n",
    "           [\"Hierarchial\", \"Normalized | Savings Feature Dropped | Cosine Distance Complete Linkage\",0.834342024530696,4603.833263305364],\n",
    "           [\"Hierarchial\", \"Normalized | Savings Feature Dropped | Manhattan Distance Average Linkage\",0.834342024530696,4603.833263305364]\n",
    "           ]\n",
    "\n",
    "print(tabulate(results, headers=[\"Algorithm\", \"Model\", \"Silhouette Score\", \"CH Index\"]))"
   ]
  },
  {
   "cell_type": "markdown",
   "id": "1dfc5d28",
   "metadata": {},
   "source": [
    "Based on the different iteration runs of each of the three algorithms, we can conclude that given the data and the features, we can find the best clusters by personas by:\n",
    "\n",
    "i) normalising the data \n",
    "\n",
    "ii) dropping the Savings feature \n",
    "\n",
    "iii) hyperparameter tuning the models\n",
    "\n",
    "**K-Means** is the simplest to use. It also is theoretically very quick in fitting the data and it is the easiest to use as well.\n",
    "\n",
    "**DBSCAN** also yielded quick results and helped in proving that there weren't outliers in the dataset as it found the same clusters as K_Means. It is however difficult to tune as compared to K-Means.\n",
    "\n",
    "**Agglomerative Hierarchial** provides visual aid in the shape of the dendogram and allows the user of the analysis to group the data into the number of clusters required by running a horizontal line across the dendogram and adjusting it vertically. It is also very flexible in circumscribing clusters. It is however not recommended with larger datasets due to comparitively lower training speed.\n",
    "\n",
    "In view of the fact that each algorithm was able to reach the same best cluster, we can select and move forward with the Hierarchial model with Manhattan Distance and Average Linkage (the last model in the table shown above)\n",
    "\n",
    "#### The best clusters has a Silhouette Score of 0.834342 and a Calinski Harabasz Index of 4603.83."
   ]
  },
  {
   "cell_type": "markdown",
   "id": "c2549783",
   "metadata": {},
   "source": [
    "## Creating Personas"
   ]
  },
  {
   "cell_type": "markdown",
   "id": "da15b3e4",
   "metadata": {},
   "source": [
    "### Statistical Description of Clusters or Personas"
   ]
  },
  {
   "cell_type": "code",
   "execution_count": 42,
   "id": "0c7f0268",
   "metadata": {},
   "outputs": [
    {
     "data": {
      "text/html": [
       "<div>\n",
       "<style scoped>\n",
       "    .dataframe tbody tr th:only-of-type {\n",
       "        vertical-align: middle;\n",
       "    }\n",
       "\n",
       "    .dataframe tbody tr th {\n",
       "        vertical-align: top;\n",
       "    }\n",
       "\n",
       "    .dataframe thead th {\n",
       "        text-align: right;\n",
       "    }\n",
       "</style>\n",
       "<table border=\"1\" class=\"dataframe\">\n",
       "  <thead>\n",
       "    <tr style=\"text-align: right;\">\n",
       "      <th></th>\n",
       "      <th>Age</th>\n",
       "      <th>Income</th>\n",
       "      <th>SpendingScore</th>\n",
       "      <th>Savings</th>\n",
       "      <th>Cluster ID</th>\n",
       "    </tr>\n",
       "  </thead>\n",
       "  <tbody>\n",
       "    <tr>\n",
       "      <th>0</th>\n",
       "      <td>58</td>\n",
       "      <td>77769</td>\n",
       "      <td>0.791329</td>\n",
       "      <td>6559.829923</td>\n",
       "      <td>5</td>\n",
       "    </tr>\n",
       "    <tr>\n",
       "      <th>1</th>\n",
       "      <td>59</td>\n",
       "      <td>81799</td>\n",
       "      <td>0.791082</td>\n",
       "      <td>5417.661426</td>\n",
       "      <td>5</td>\n",
       "    </tr>\n",
       "    <tr>\n",
       "      <th>2</th>\n",
       "      <td>62</td>\n",
       "      <td>74751</td>\n",
       "      <td>0.702657</td>\n",
       "      <td>9258.992965</td>\n",
       "      <td>5</td>\n",
       "    </tr>\n",
       "    <tr>\n",
       "      <th>3</th>\n",
       "      <td>59</td>\n",
       "      <td>74373</td>\n",
       "      <td>0.765680</td>\n",
       "      <td>7346.334504</td>\n",
       "      <td>5</td>\n",
       "    </tr>\n",
       "    <tr>\n",
       "      <th>4</th>\n",
       "      <td>87</td>\n",
       "      <td>17760</td>\n",
       "      <td>0.348778</td>\n",
       "      <td>16869.507130</td>\n",
       "      <td>1</td>\n",
       "    </tr>\n",
       "    <tr>\n",
       "      <th>5</th>\n",
       "      <td>29</td>\n",
       "      <td>131578</td>\n",
       "      <td>0.847034</td>\n",
       "      <td>3535.514352</td>\n",
       "      <td>4</td>\n",
       "    </tr>\n",
       "    <tr>\n",
       "      <th>6</th>\n",
       "      <td>54</td>\n",
       "      <td>76500</td>\n",
       "      <td>0.785198</td>\n",
       "      <td>6878.884249</td>\n",
       "      <td>5</td>\n",
       "    </tr>\n",
       "    <tr>\n",
       "      <th>7</th>\n",
       "      <td>87</td>\n",
       "      <td>42592</td>\n",
       "      <td>0.355290</td>\n",
       "      <td>18086.287158</td>\n",
       "      <td>1</td>\n",
       "    </tr>\n",
       "    <tr>\n",
       "      <th>8</th>\n",
       "      <td>83</td>\n",
       "      <td>34384</td>\n",
       "      <td>0.324719</td>\n",
       "      <td>14783.379086</td>\n",
       "      <td>1</td>\n",
       "    </tr>\n",
       "  </tbody>\n",
       "</table>\n",
       "</div>"
      ],
      "text/plain": [
       "   Age  Income  SpendingScore       Savings  Cluster ID\n",
       "0   58   77769       0.791329   6559.829923           5\n",
       "1   59   81799       0.791082   5417.661426           5\n",
       "2   62   74751       0.702657   9258.992965           5\n",
       "3   59   74373       0.765680   7346.334504           5\n",
       "4   87   17760       0.348778  16869.507130           1\n",
       "5   29  131578       0.847034   3535.514352           4\n",
       "6   54   76500       0.785198   6878.884249           5\n",
       "7   87   42592       0.355290  18086.287158           1\n",
       "8   83   34384       0.324719  14783.379086           1"
      ]
     },
     "execution_count": 42,
     "metadata": {},
     "output_type": "execute_result"
    }
   ],
   "source": [
    "#Adding Cluster IDs to the dataset\n",
    "\n",
    "K=5\n",
    "labels = scipy.cluster.hierarchy.fcluster(aggl, K, criterion=\"maxclust\")\n",
    "\n",
    "df1['Cluster ID'] = labels\n",
    "df1.head(9)"
   ]
  },
  {
   "cell_type": "code",
   "execution_count": 43,
   "id": "59d61cd4",
   "metadata": {},
   "outputs": [
    {
     "data": {
      "text/html": [
       "<div>\n",
       "<style scoped>\n",
       "    .dataframe tbody tr th:only-of-type {\n",
       "        vertical-align: middle;\n",
       "    }\n",
       "\n",
       "    .dataframe tbody tr th {\n",
       "        vertical-align: top;\n",
       "    }\n",
       "\n",
       "    .dataframe thead tr th {\n",
       "        text-align: left;\n",
       "    }\n",
       "\n",
       "    .dataframe thead tr:last-of-type th {\n",
       "        text-align: right;\n",
       "    }\n",
       "</style>\n",
       "<table border=\"1\" class=\"dataframe\">\n",
       "  <thead>\n",
       "    <tr>\n",
       "      <th></th>\n",
       "      <th colspan=\"2\" halign=\"left\">Age</th>\n",
       "      <th colspan=\"2\" halign=\"left\">Income</th>\n",
       "      <th colspan=\"2\" halign=\"left\">SpendingScore</th>\n",
       "      <th colspan=\"2\" halign=\"left\">Savings</th>\n",
       "    </tr>\n",
       "    <tr>\n",
       "      <th></th>\n",
       "      <th>mean</th>\n",
       "      <th>len</th>\n",
       "      <th>mean</th>\n",
       "      <th>len</th>\n",
       "      <th>mean</th>\n",
       "      <th>len</th>\n",
       "      <th>mean</th>\n",
       "      <th>len</th>\n",
       "    </tr>\n",
       "    <tr>\n",
       "      <th>Cluster ID</th>\n",
       "      <th></th>\n",
       "      <th></th>\n",
       "      <th></th>\n",
       "      <th></th>\n",
       "      <th></th>\n",
       "      <th></th>\n",
       "      <th></th>\n",
       "      <th></th>\n",
       "    </tr>\n",
       "  </thead>\n",
       "  <tbody>\n",
       "    <tr>\n",
       "      <th>1</th>\n",
       "      <td>87.775510</td>\n",
       "      <td>147</td>\n",
       "      <td>27866.102041</td>\n",
       "      <td>147</td>\n",
       "      <td>0.328800</td>\n",
       "      <td>147</td>\n",
       "      <td>16659.261445</td>\n",
       "      <td>147</td>\n",
       "    </tr>\n",
       "    <tr>\n",
       "      <th>2</th>\n",
       "      <td>86.000000</td>\n",
       "      <td>25</td>\n",
       "      <td>119944.040000</td>\n",
       "      <td>25</td>\n",
       "      <td>0.068378</td>\n",
       "      <td>25</td>\n",
       "      <td>14808.683793</td>\n",
       "      <td>25</td>\n",
       "    </tr>\n",
       "    <tr>\n",
       "      <th>3</th>\n",
       "      <td>32.777778</td>\n",
       "      <td>126</td>\n",
       "      <td>105265.809524</td>\n",
       "      <td>126</td>\n",
       "      <td>0.309926</td>\n",
       "      <td>126</td>\n",
       "      <td>14962.778066</td>\n",
       "      <td>126</td>\n",
       "    </tr>\n",
       "    <tr>\n",
       "      <th>4</th>\n",
       "      <td>24.180000</td>\n",
       "      <td>50</td>\n",
       "      <td>128029.120000</td>\n",
       "      <td>50</td>\n",
       "      <td>0.896892</td>\n",
       "      <td>50</td>\n",
       "      <td>4087.520309</td>\n",
       "      <td>50</td>\n",
       "    </tr>\n",
       "    <tr>\n",
       "      <th>5</th>\n",
       "      <td>59.955414</td>\n",
       "      <td>157</td>\n",
       "      <td>72448.063694</td>\n",
       "      <td>157</td>\n",
       "      <td>0.771518</td>\n",
       "      <td>157</td>\n",
       "      <td>6889.972190</td>\n",
       "      <td>157</td>\n",
       "    </tr>\n",
       "  </tbody>\n",
       "</table>\n",
       "</div>"
      ],
      "text/plain": [
       "                  Age              Income      SpendingScore       \\\n",
       "                 mean  len           mean  len          mean  len   \n",
       "Cluster ID                                                          \n",
       "1           87.775510  147   27866.102041  147      0.328800  147   \n",
       "2           86.000000   25  119944.040000   25      0.068378   25   \n",
       "3           32.777778  126  105265.809524  126      0.309926  126   \n",
       "4           24.180000   50  128029.120000   50      0.896892   50   \n",
       "5           59.955414  157   72448.063694  157      0.771518  157   \n",
       "\n",
       "                 Savings       \n",
       "                    mean  len  \n",
       "Cluster ID                     \n",
       "1           16659.261445  147  \n",
       "2           14808.683793   25  \n",
       "3           14962.778066  126  \n",
       "4            4087.520309   50  \n",
       "5            6889.972190  157  "
      ]
     },
     "execution_count": 43,
     "metadata": {},
     "output_type": "execute_result"
    }
   ],
   "source": [
    "cl_group = df1.groupby(['Cluster ID']).agg([np.mean,len])\n",
    "cl_group"
   ]
  },
  {
   "cell_type": "markdown",
   "id": "993189ce",
   "metadata": {},
   "source": [
    "#### Snakeplot"
   ]
  },
  {
   "cell_type": "code",
   "execution_count": 44,
   "id": "087fe752",
   "metadata": {},
   "outputs": [
    {
     "data": {
      "image/png": "[encoded data removed]",
      "text/plain": [
       "<Figure size 720x432 with 1 Axes>"
      ]
     },
     "metadata": {
      "needs_background": "light"
     },
     "output_type": "display_data"
    }
   ],
   "source": [
    "col_names= [\"Age\",\"Income\",\"SpendingScore\", \"Savings\"]\n",
    "\n",
    "X_df = pd.DataFrame(df1_nml, columns=col_names)\n",
    "X_df['Cluster'] = labels\n",
    "X_df.head()\n",
    "\n",
    "X_df_melt = pd.melt(X_df,\n",
    "    id_vars=['Cluster'],\n",
    "    value_vars=['Age','Income','SpendingScore', 'Savings'],\n",
    "    var_name='Feature',\n",
    "    value_name='Value')\n",
    "\n",
    "plt.figure(figsize=(10,6))\n",
    "plt.title('Snake Plot, Hierarchical, K=5');\n",
    "sns.set(style=\"darkgrid\")\n",
    "sns.set_context(\"talk\")\n",
    "sns.lineplot(x=\"Feature\", y=\"Value\", hue='Cluster', data=X_df_melt, legend=\"full\");\n",
    "plt.legend(bbox_to_anchor=(1.05, 1), loc=2, borderaxespad=0.);"
   ]
  },
  {
   "cell_type": "markdown",
   "id": "bd613e1e",
   "metadata": {},
   "source": [
    "#### Exemplars"
   ]
  },
  {
   "cell_type": "code",
   "execution_count": 45,
   "id": "51288aa5",
   "metadata": {},
   "outputs": [
    {
     "data": {
      "text/plain": [
       "array([[0.88, 0.12, 0.33, 0.83],\n",
       "       [0.86, 0.83, 0.07, 0.74],\n",
       "       [0.2 , 0.72, 0.31, 0.75],\n",
       "       [0.09, 0.89, 0.9 , 0.2 ],\n",
       "       [0.54, 0.46, 0.77, 0.34]])"
      ]
     },
     "execution_count": 45,
     "metadata": {},
     "output_type": "execute_result"
    }
   ],
   "source": [
    "np.set_printoptions(precision=2)\n",
    "np.set_printoptions(suppress=True)\n",
    "\n",
    "means = np.zeros((K, df1_nml.shape[1]))\n",
    "\n",
    "for i, label in enumerate(set(labels)):\n",
    "    means[i,:] = df1_nml[labels==label].mean(axis=0)\n",
    "means"
   ]
  },
  {
   "cell_type": "code",
   "execution_count": 46,
   "id": "6464cf2a",
   "metadata": {},
   "outputs": [
    {
     "name": "stdout",
     "output_type": "stream",
     "text": [
      "\n",
      "Cluster 1:\n"
     ]
    },
    {
     "data": {
      "text/html": [
       "<div>\n",
       "<style scoped>\n",
       "    .dataframe tbody tr th:only-of-type {\n",
       "        vertical-align: middle;\n",
       "    }\n",
       "\n",
       "    .dataframe tbody tr th {\n",
       "        vertical-align: top;\n",
       "    }\n",
       "\n",
       "    .dataframe thead th {\n",
       "        text-align: right;\n",
       "    }\n",
       "</style>\n",
       "<table border=\"1\" class=\"dataframe\">\n",
       "  <thead>\n",
       "    <tr style=\"text-align: right;\">\n",
       "      <th></th>\n",
       "      <th>Age</th>\n",
       "      <th>Income</th>\n",
       "      <th>SpendingScore</th>\n",
       "      <th>Savings</th>\n",
       "      <th>Cluster ID</th>\n",
       "    </tr>\n",
       "  </thead>\n",
       "  <tbody>\n",
       "    <tr>\n",
       "      <th>335</th>\n",
       "      <td>89</td>\n",
       "      <td>26940</td>\n",
       "      <td>0.326005</td>\n",
       "      <td>16555.159377</td>\n",
       "      <td>1</td>\n",
       "    </tr>\n",
       "  </tbody>\n",
       "</table>\n",
       "</div>"
      ],
      "text/plain": [
       "     Age  Income  SpendingScore       Savings  Cluster ID\n",
       "335   89   26940       0.326005  16555.159377           1"
      ]
     },
     "metadata": {},
     "output_type": "display_data"
    },
    {
     "name": "stdout",
     "output_type": "stream",
     "text": [
      "\n",
      "Cluster 2:\n"
     ]
    },
    {
     "data": {
      "text/html": [
       "<div>\n",
       "<style scoped>\n",
       "    .dataframe tbody tr th:only-of-type {\n",
       "        vertical-align: middle;\n",
       "    }\n",
       "\n",
       "    .dataframe tbody tr th {\n",
       "        vertical-align: top;\n",
       "    }\n",
       "\n",
       "    .dataframe thead th {\n",
       "        text-align: right;\n",
       "    }\n",
       "</style>\n",
       "<table border=\"1\" class=\"dataframe\">\n",
       "  <thead>\n",
       "    <tr style=\"text-align: right;\">\n",
       "      <th></th>\n",
       "      <th>Age</th>\n",
       "      <th>Income</th>\n",
       "      <th>SpendingScore</th>\n",
       "      <th>Savings</th>\n",
       "      <th>Cluster ID</th>\n",
       "    </tr>\n",
       "  </thead>\n",
       "  <tbody>\n",
       "    <tr>\n",
       "      <th>155</th>\n",
       "      <td>86</td>\n",
       "      <td>115689</td>\n",
       "      <td>0.057843</td>\n",
       "      <td>14803.153273</td>\n",
       "      <td>2</td>\n",
       "    </tr>\n",
       "  </tbody>\n",
       "</table>\n",
       "</div>"
      ],
      "text/plain": [
       "     Age  Income  SpendingScore       Savings  Cluster ID\n",
       "155   86  115689       0.057843  14803.153273           2"
      ]
     },
     "metadata": {},
     "output_type": "display_data"
    },
    {
     "name": "stdout",
     "output_type": "stream",
     "text": [
      "\n",
      "Cluster 3:\n"
     ]
    },
    {
     "data": {
      "text/html": [
       "<div>\n",
       "<style scoped>\n",
       "    .dataframe tbody tr th:only-of-type {\n",
       "        vertical-align: middle;\n",
       "    }\n",
       "\n",
       "    .dataframe tbody tr th {\n",
       "        vertical-align: top;\n",
       "    }\n",
       "\n",
       "    .dataframe thead th {\n",
       "        text-align: right;\n",
       "    }\n",
       "</style>\n",
       "<table border=\"1\" class=\"dataframe\">\n",
       "  <thead>\n",
       "    <tr style=\"text-align: right;\">\n",
       "      <th></th>\n",
       "      <th>Age</th>\n",
       "      <th>Income</th>\n",
       "      <th>SpendingScore</th>\n",
       "      <th>Savings</th>\n",
       "      <th>Cluster ID</th>\n",
       "    </tr>\n",
       "  </thead>\n",
       "  <tbody>\n",
       "    <tr>\n",
       "      <th>405</th>\n",
       "      <td>34</td>\n",
       "      <td>103204</td>\n",
       "      <td>0.301087</td>\n",
       "      <td>15149.810421</td>\n",
       "      <td>3</td>\n",
       "    </tr>\n",
       "  </tbody>\n",
       "</table>\n",
       "</div>"
      ],
      "text/plain": [
       "     Age  Income  SpendingScore       Savings  Cluster ID\n",
       "405   34  103204       0.301087  15149.810421           3"
      ]
     },
     "metadata": {},
     "output_type": "display_data"
    },
    {
     "name": "stdout",
     "output_type": "stream",
     "text": [
      "\n",
      "Cluster 4:\n"
     ]
    },
    {
     "data": {
      "text/html": [
       "<div>\n",
       "<style scoped>\n",
       "    .dataframe tbody tr th:only-of-type {\n",
       "        vertical-align: middle;\n",
       "    }\n",
       "\n",
       "    .dataframe tbody tr th {\n",
       "        vertical-align: top;\n",
       "    }\n",
       "\n",
       "    .dataframe thead th {\n",
       "        text-align: right;\n",
       "    }\n",
       "</style>\n",
       "<table border=\"1\" class=\"dataframe\">\n",
       "  <thead>\n",
       "    <tr style=\"text-align: right;\">\n",
       "      <th></th>\n",
       "      <th>Age</th>\n",
       "      <th>Income</th>\n",
       "      <th>SpendingScore</th>\n",
       "      <th>Savings</th>\n",
       "      <th>Cluster ID</th>\n",
       "    </tr>\n",
       "  </thead>\n",
       "  <tbody>\n",
       "    <tr>\n",
       "      <th>95</th>\n",
       "      <td>25</td>\n",
       "      <td>130934</td>\n",
       "      <td>0.913766</td>\n",
       "      <td>3942.389134</td>\n",
       "      <td>4</td>\n",
       "    </tr>\n",
       "  </tbody>\n",
       "</table>\n",
       "</div>"
      ],
      "text/plain": [
       "    Age  Income  SpendingScore      Savings  Cluster ID\n",
       "95   25  130934       0.913766  3942.389134           4"
      ]
     },
     "metadata": {},
     "output_type": "display_data"
    },
    {
     "name": "stdout",
     "output_type": "stream",
     "text": [
      "\n",
      "Cluster 5:\n"
     ]
    },
    {
     "data": {
      "text/html": [
       "<div>\n",
       "<style scoped>\n",
       "    .dataframe tbody tr th:only-of-type {\n",
       "        vertical-align: middle;\n",
       "    }\n",
       "\n",
       "    .dataframe tbody tr th {\n",
       "        vertical-align: top;\n",
       "    }\n",
       "\n",
       "    .dataframe thead th {\n",
       "        text-align: right;\n",
       "    }\n",
       "</style>\n",
       "<table border=\"1\" class=\"dataframe\">\n",
       "  <thead>\n",
       "    <tr style=\"text-align: right;\">\n",
       "      <th></th>\n",
       "      <th>Age</th>\n",
       "      <th>Income</th>\n",
       "      <th>SpendingScore</th>\n",
       "      <th>Savings</th>\n",
       "      <th>Cluster ID</th>\n",
       "    </tr>\n",
       "  </thead>\n",
       "  <tbody>\n",
       "    <tr>\n",
       "      <th>467</th>\n",
       "      <td>61</td>\n",
       "      <td>72027</td>\n",
       "      <td>0.762325</td>\n",
       "      <td>6926.123598</td>\n",
       "      <td>5</td>\n",
       "    </tr>\n",
       "  </tbody>\n",
       "</table>\n",
       "</div>"
      ],
      "text/plain": [
       "     Age  Income  SpendingScore      Savings  Cluster ID\n",
       "467   61   72027       0.762325  6926.123598           5"
      ]
     },
     "metadata": {},
     "output_type": "display_data"
    }
   ],
   "source": [
    "from scipy.spatial import distance\n",
    "\n",
    "for i, label in enumerate(set(labels)):\n",
    "    X_tmp= df1_nml\n",
    "    exemplar_idx = distance.cdist([means[i]], df1_nml).argmin()\n",
    "   \n",
    "    print('\\nCluster {}:'.format(label))\n",
    "   \n",
    "    display(df1.iloc[[exemplar_idx]])"
   ]
  },
  {
   "cell_type": "markdown",
   "id": "ee289177",
   "metadata": {},
   "source": [
    "### Defining the Personas"
   ]
  },
  {
   "cell_type": "markdown",
   "id": "5cec3697",
   "metadata": {},
   "source": [
    "**Cluster 1: Retired Sustainers**\n",
    "\n",
    "*Age: High; Income: Low; Spending Score: Medium; Savings: High*\n",
    "\n",
    "This persona includes 147 customers.\n",
    "\n",
    "These customers are most probably retired, given their high age and low income. They have high savings in their banks on which they are sustaining themselves. Due to their little or no income and their limited funds, they maintain a nominal spending score purchasing only necessary items.\n",
    "\n",
    "These customers will not be very keen or frequent in buying diamonds.\n",
    "\n",
    "**Cluster 2: Wealthy Seniors**\n",
    "\n",
    "*Age: High; Income: High; Spending Score: Low; Savings: High*\n",
    "\n",
    "This persona includes 25 customers.\n",
    "\n",
    "These customers are aged individuals but ones with high income and high savings. Despite their wealth, they have a very low spending score (the lowest average of all five clusters). One plausible reason might be that their children are bearing all their living expenses.\n",
    "\n",
    "These customers can prove to be a good target as they have a lot of financial resources but are not utlizing them. They can therefore easily afford diamonds.\n",
    "\n",
    "**Cluster 3: Sensible Adults**\n",
    "\n",
    "*Age: Medium; Income: High; Spending Score: Medium; Savings: High*\n",
    "\n",
    "This persona includes 126 customers.\n",
    "\n",
    "These customers are middle aged individuals with good income, a fair spending score and a high accumalation of savings. These can be assumed to be young growing families, incuring daily living expenditures while saving money for their children's future expenses such as college fees.\n",
    "\n",
    "These customers while can afford to buy diamonds, look to be very rational and might not indulge in impulse buying. They can however be potentially convinced with the right marketing.\n",
    "\n",
    "**Cluster 4: Earning to Spend**\n",
    "\n",
    "*Age: Low; Income: High; Spending Score: High; Savings: Low*\n",
    "\n",
    "This persona includes 50 customers.\n",
    "\n",
    "These customers are energetic young adults who are making very good money and are spending it almost completely as well, leading to low savings.\n",
    "\n",
    "These customers can be the gold target personas as they enjoy buying and can afford to do so as well. Given that they like what they see, there is a high probability they'll take your products off the shelf.\n",
    "\n",
    "**Cluster 5: Aging Spendthrifts**\n",
    "\n",
    "*Age: High; Income: Medium; Spending Score: High; Savings: Medium*\n",
    "\n",
    "This persona includes 157 customers.\n",
    "\n",
    "These customers are individuals who are nearing retirement with a modest income and low savings. However, they seem to exhibit irrational spending patterns, or in other words, they tend to carelessly buy more than they should or can.\n",
    "\n",
    "These customers can prove to be a good target persona but they might not last very long. Assuming they retire in a few years, they might not have good income and they do not have an adequate amount of saving to show for. In that case, they will not be able to afford diamonds or maintain their purchasing style in the near future."
   ]
  }
 ],
 "metadata": {
  "kernelspec": {
   "display_name": "Python 3 (ipykernel)",
   "language": "python",
   "name": "python3"
  },
  "language_info": {
   "codemirror_mode": {
    "name": "ipython",
    "version": 3
   },
   "file_extension": ".py",
   "mimetype": "text/x-python",
   "name": "python",
   "nbconvert_exporter": "python",
   "pygments_lexer": "ipython3",
   "version": "3.9.7"
  }
 },
 "nbformat": 4,
 "nbformat_minor": 5
}
